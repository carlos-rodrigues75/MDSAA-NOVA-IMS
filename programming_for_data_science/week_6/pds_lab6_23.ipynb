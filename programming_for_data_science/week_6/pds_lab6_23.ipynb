{
 "cells": [
  {
   "cell_type": "markdown",
   "metadata": {
    "slideshow": {
     "slide_type": "-"
    }
   },
   "source": [
    "# PDS - Lab 6 - Numpy and Scipy\n",
    "\n",
    "## A. Numpy\n",
    "\n",
    "Import numpy to start working with the examples below:\n"
   ]
  },
  {
   "cell_type": "code",
   "execution_count": 1,
   "metadata": {
    "ExecuteTime": {
     "end_time": "2023-10-10T13:11:17.188365Z",
     "start_time": "2023-10-10T13:11:16.982413Z"
    }
   },
   "outputs": [],
   "source": [
    "import numpy as np"
   ]
  },
  {
   "cell_type": "markdown",
   "metadata": {},
   "source": [
    "### A.1. Arrays\n",
    "\n",
    "A **numpy array** is a grid of values, all of the same type, and is indexed by a tuple of non negative integers. \n",
    "\n",
    "- The number of dimensions is the **rank** of the array; \n",
    "- The **shape** of an array is a tuple of integers giving the size of the array along each dimension.\n",
    "\n",
    "We can initialize numpy arrays from Python lists, and access elements using square brackets:"
   ]
  },
  {
   "cell_type": "code",
   "execution_count": 2,
   "metadata": {
    "scrolled": true,
    "ExecuteTime": {
     "end_time": "2023-10-10T13:11:17.199089Z",
     "start_time": "2023-10-10T13:11:17.192145Z"
    }
   },
   "outputs": [
    {
     "name": "stdout",
     "output_type": "stream",
     "text": [
      "<class 'numpy.ndarray'>\n",
      "(5,)\n",
      "1 2 3\n",
      "[5 2 3 4 5]\n"
     ]
    }
   ],
   "source": [
    "a = np.array([1, 2, 3 , 4, 5])   # Create a rank 1 array\n",
    "print(type(a))            # Prints \"<class 'numpy.ndarray'>\"\n",
    "print(a.shape)            \n",
    "print(a[0], a[1], a[2])   \n",
    "a[0] = 5                  # Change an element of the array\n",
    "print(a)                  "
   ]
  },
  {
   "cell_type": "code",
   "execution_count": 3,
   "metadata": {
    "ExecuteTime": {
     "end_time": "2023-10-10T13:11:18.988698Z",
     "start_time": "2023-10-10T13:11:18.946701Z"
    }
   },
   "outputs": [
    {
     "name": "stdout",
     "output_type": "stream",
     "text": [
      "(4, 3)\n",
      "1 2 4\n"
     ]
    }
   ],
   "source": [
    "b = np.array([[1,2,3],[4,5,6],[7,8,9],[10,11,12]])    # Create a rank 2 array\n",
    "print(b.shape)                     \n",
    "print(b[0, 0], b[0, 1], b[1, 0])   "
   ]
  },
  {
   "cell_type": "markdown",
   "metadata": {},
   "source": [
    "**1.** Numpy provides many functions to create arrays. Create an array of zeros and print its type:"
   ]
  },
  {
   "cell_type": "code",
   "execution_count": 5,
   "metadata": {
    "ExecuteTime": {
     "end_time": "2023-10-10T13:12:10.477449Z",
     "start_time": "2023-10-10T13:12:10.459357Z"
    }
   },
   "outputs": [],
   "source": [
    "zeroes = np.zeros((1,10))"
   ]
  },
  {
   "cell_type": "code",
   "execution_count": 6,
   "metadata": {
    "ExecuteTime": {
     "end_time": "2023-10-10T13:12:15.490497Z",
     "start_time": "2023-10-10T13:12:15.469163Z"
    }
   },
   "outputs": [
    {
     "data": {
      "text/plain": "numpy.ndarray"
     },
     "execution_count": 6,
     "metadata": {},
     "output_type": "execute_result"
    }
   ],
   "source": [
    "type(zeroes)"
   ]
  },
  {
   "cell_type": "markdown",
   "metadata": {},
   "source": [
    "**2.** We can also create an array with constant values. Create a 2x2 matrix with all entries equal to seven."
   ]
  },
  {
   "cell_type": "code",
   "execution_count": 11,
   "metadata": {
    "scrolled": true,
    "ExecuteTime": {
     "end_time": "2023-10-10T13:15:42.072189Z",
     "start_time": "2023-10-10T13:15:42.044120Z"
    }
   },
   "outputs": [
    {
     "data": {
      "text/plain": "array([[7, 7],\n       [7, 7]])"
     },
     "execution_count": 11,
     "metadata": {},
     "output_type": "execute_result"
    }
   ],
   "source": [
    "np.full((2,2), 7)"
   ]
  },
  {
   "cell_type": "markdown",
   "metadata": {},
   "source": [
    "**3.** Create a matrix filled with randomly generated numbers."
   ]
  },
  {
   "cell_type": "code",
   "execution_count": 12,
   "metadata": {
    "ExecuteTime": {
     "end_time": "2023-10-10T13:15:45.168903Z",
     "start_time": "2023-10-10T13:15:45.145593Z"
    }
   },
   "outputs": [
    {
     "data": {
      "text/plain": "array([[0.69570305, 0.77070783, 0.71074033, 0.69191131, 0.41733283],\n       [0.51313083, 0.02021355, 0.18846714, 0.85424309, 0.64434328],\n       [0.19178574, 0.1276289 , 0.85925644, 0.5631713 , 0.23308185],\n       [0.33460352, 0.16894285, 0.62030427, 0.29069386, 0.90328381],\n       [0.84789619, 0.68182989, 0.48393007, 0.48080159, 0.89464399]])"
     },
     "execution_count": 12,
     "metadata": {},
     "output_type": "execute_result"
    }
   ],
   "source": [
    "np.random.random((5,5))"
   ]
  },
  {
   "cell_type": "markdown",
   "metadata": {},
   "source": [
    "### A.2. Array indexing\n",
    "\n",
    "Numpy offers several ways to index into arrays.\n",
    "\n",
    "- **Slicing:** Similar to Python lists, numpy arrays can be sliced. \n",
    "\n",
    "*Since arrays may be multidimensional, you must specify a slice for each dimension of the array.*"
   ]
  },
  {
   "cell_type": "code",
   "execution_count": 49,
   "metadata": {
    "ExecuteTime": {
     "end_time": "2023-10-10T13:58:22.766845Z",
     "start_time": "2023-10-10T13:58:22.734545Z"
    }
   },
   "outputs": [
    {
     "data": {
      "text/plain": "array([[ 1,  2,  3,  4,  5],\n       [ 6,  7,  8,  9, 10],\n       [11, 12, 13, 14, 15]])"
     },
     "execution_count": 49,
     "metadata": {},
     "output_type": "execute_result"
    }
   ],
   "source": [
    "a = np.array([[1,2,3,4,5], [6,7,8,9,10], [11,12,13,14,15]])\n",
    "a"
   ]
  },
  {
   "cell_type": "markdown",
   "metadata": {},
   "source": [
    "**4.** Use slicing to pull out the subarray consisting of the last 3 elements of the first 2 rows."
   ]
  },
  {
   "cell_type": "code",
   "execution_count": 50,
   "metadata": {
    "ExecuteTime": {
     "end_time": "2023-10-10T13:58:23.591744Z",
     "start_time": "2023-10-10T13:58:23.557832Z"
    }
   },
   "outputs": [
    {
     "data": {
      "text/plain": "array([[ 3,  4,  5],\n       [ 8,  9, 10]])"
     },
     "execution_count": 50,
     "metadata": {},
     "output_type": "execute_result"
    }
   ],
   "source": [
    "a[:2, -3:]"
   ]
  },
  {
   "cell_type": "markdown",
   "metadata": {},
   "source": [
    "**You can also mix integer indexing with slice indexing. However, doing so will yield an array of lower rank than the original array.**\n",
    "\n",
    "**5.** Return the second column of 'a' as (1) an array and (2) a multidimensional array."
   ]
  },
  {
   "cell_type": "code",
   "execution_count": 51,
   "metadata": {
    "scrolled": true,
    "ExecuteTime": {
     "end_time": "2023-10-10T13:58:23.915186Z",
     "start_time": "2023-10-10T13:58:23.900251Z"
    }
   },
   "outputs": [
    {
     "data": {
      "text/plain": "array([ 2,  7, 12])"
     },
     "execution_count": 51,
     "metadata": {},
     "output_type": "execute_result"
    }
   ],
   "source": [
    "a[:,1]"
   ]
  },
  {
   "cell_type": "code",
   "execution_count": 52,
   "metadata": {
    "ExecuteTime": {
     "end_time": "2023-10-10T13:58:24.427394Z",
     "start_time": "2023-10-10T13:58:24.400963Z"
    }
   },
   "outputs": [
    {
     "data": {
      "text/plain": "array([[ 2],\n       [ 7],\n       [12]])"
     },
     "execution_count": 52,
     "metadata": {},
     "output_type": "execute_result"
    }
   ],
   "source": [
    "a[:, 1:2]"
   ]
  },
  {
   "cell_type": "markdown",
   "metadata": {},
   "source": [
    "**When you index into numpy arrays using slicing, the resulting array view will always be a subarray of the original array. In contrast, integer array indexing allows you to construct arbitrary arrays using the data from another array.** \n",
    "\n",
    "**6.** Print the diagonal elements of a."
   ]
  },
  {
   "cell_type": "code",
   "execution_count": 53,
   "metadata": {
    "ExecuteTime": {
     "end_time": "2023-10-10T13:58:25.495444Z",
     "start_time": "2023-10-10T13:58:25.478149Z"
    }
   },
   "outputs": [
    {
     "data": {
      "text/plain": "array([ 1,  7, 13])"
     },
     "execution_count": 53,
     "metadata": {},
     "output_type": "execute_result"
    }
   ],
   "source": [
    "a.diagonal()"
   ]
  },
  {
   "cell_type": "code",
   "execution_count": 53,
   "metadata": {
    "ExecuteTime": {
     "end_time": "2023-10-10T13:58:26.752086Z",
     "start_time": "2023-10-10T13:58:26.708087Z"
    }
   },
   "outputs": [],
   "source": []
  },
  {
   "cell_type": "markdown",
   "metadata": {},
   "source": [
    "**One useful trick with integer array indexing is selecting or mutating one element from each row of a matrix.** \n",
    "\n",
    "**7.** Add 10 to one element from each row of 'a' using the indices in b. \n",
    "\n",
    "*Tip: the method np.arange(n) may be helpful.*"
   ]
  },
  {
   "cell_type": "code",
   "execution_count": 46,
   "metadata": {
    "ExecuteTime": {
     "end_time": "2023-10-10T13:49:55.512541Z",
     "start_time": "2023-10-10T13:49:55.467670Z"
    }
   },
   "outputs": [
    {
     "data": {
      "text/plain": "array([0, 1, 2, 3, 4])"
     },
     "execution_count": 46,
     "metadata": {},
     "output_type": "execute_result"
    }
   ],
   "source": [
    "# Create an array of indices\n",
    "b = np.array([0,2,4])\n",
    "\n",
    "np.arange(0, 5)"
   ]
  },
  {
   "cell_type": "code",
   "execution_count": 47,
   "metadata": {
    "ExecuteTime": {
     "end_time": "2023-10-10T13:49:57.300629Z",
     "start_time": "2023-10-10T13:49:57.269486Z"
    }
   },
   "outputs": [
    {
     "data": {
      "text/plain": "array([[11,  2,  3,  4,  5],\n       [ 6,  7, 18,  9, 10],\n       [11, 12, 13, 14, 25]])"
     },
     "execution_count": 47,
     "metadata": {},
     "output_type": "execute_result"
    }
   ],
   "source": [
    "a[np.arange(len(a)), b] += 10 \n",
    "a"
   ]
  },
  {
   "cell_type": "markdown",
   "metadata": {},
   "source": [
    "### A.3. Boolean array indexing\n",
    "\n",
    "Boolean array indexing lets you pick out arbitrary elements of an array. Frequently this type of indexing is used to select the elements of an array that satisfy some condition. \n",
    "\n",
    "**8.** Find the elements of 'a' that are bigger than 2.\n",
    "- Firstly, find a boolean multidemnsional array of the same shape as 'a' indidcating if an element is greater than 2. \n",
    "- Secondly, use this matrix to return the values from 'a' that are greater than 2.\n"
   ]
  },
  {
   "cell_type": "code",
   "execution_count": 54,
   "metadata": {
    "ExecuteTime": {
     "end_time": "2023-10-10T14:03:13.446820Z",
     "start_time": "2023-10-10T14:03:13.432117Z"
    }
   },
   "outputs": [
    {
     "data": {
      "text/plain": "array([[False, False,  True,  True,  True],\n       [ True,  True,  True,  True,  True],\n       [ True,  True,  True,  True,  True]])"
     },
     "execution_count": 54,
     "metadata": {},
     "output_type": "execute_result"
    }
   ],
   "source": [
    "a>2"
   ]
  },
  {
   "cell_type": "code",
   "execution_count": 55,
   "metadata": {
    "ExecuteTime": {
     "end_time": "2023-10-10T14:04:00.235059Z",
     "start_time": "2023-10-10T14:04:00.204884Z"
    }
   },
   "outputs": [
    {
     "data": {
      "text/plain": "array([ 3,  4,  5,  6,  7,  8,  9, 10, 11, 12, 13, 14, 15])"
     },
     "execution_count": 55,
     "metadata": {},
     "output_type": "execute_result"
    }
   ],
   "source": [
    "a[a>2]"
   ]
  },
  {
   "cell_type": "code",
   "execution_count": null,
   "metadata": {},
   "outputs": [],
   "source": []
  },
  {
   "cell_type": "markdown",
   "metadata": {},
   "source": [
    "### A.4. Array Math\n",
    "\n",
    "Basic mathematical functions operate elementwise on arrays, and are available both as operator overloads and as functions in the numpy module. \n",
    "\n",
    "**9.** Check the results of adding and multiplying x and y."
   ]
  },
  {
   "cell_type": "code",
   "execution_count": 57,
   "metadata": {
    "ExecuteTime": {
     "end_time": "2023-10-10T14:04:40.576605Z",
     "start_time": "2023-10-10T14:04:40.544890Z"
    }
   },
   "outputs": [],
   "source": [
    "x = np.array([[-10,-20],[-30,-40]], dtype=np.float64)\n",
    "y = np.array([[5,6],[7,8]], dtype=np.float64)"
   ]
  },
  {
   "cell_type": "code",
   "execution_count": 58,
   "metadata": {
    "ExecuteTime": {
     "end_time": "2023-10-10T14:04:41.359458Z",
     "start_time": "2023-10-10T14:04:41.333692Z"
    }
   },
   "outputs": [
    {
     "data": {
      "text/plain": "array([[ -5., -14.],\n       [-23., -32.]])"
     },
     "execution_count": 58,
     "metadata": {},
     "output_type": "execute_result"
    }
   ],
   "source": [
    "x+y"
   ]
  },
  {
   "cell_type": "markdown",
   "metadata": {},
   "source": [
    "**10.** Compute the inner product of x and y."
   ]
  },
  {
   "cell_type": "code",
   "execution_count": 59,
   "metadata": {
    "ExecuteTime": {
     "end_time": "2023-10-10T14:04:46.192920Z",
     "start_time": "2023-10-10T14:04:46.157635Z"
    }
   },
   "outputs": [
    {
     "data": {
      "text/plain": "array([[ -50., -120.],\n       [-210., -320.]])"
     },
     "execution_count": 59,
     "metadata": {},
     "output_type": "execute_result"
    }
   ],
   "source": [
    "x*y"
   ]
  },
  {
   "cell_type": "markdown",
   "metadata": {},
   "source": [
    "You can find the full list of mathematical functions provided by numpy in the documentation, see https://docs.scipy.org/doc/numpy/reference/routines.math.html.\n",
    "\n",
    "**Apart from computing mathematical functions using arrays, we frequently need to reshape or otherwise manipulate data in arrays.** \n",
    "\n",
    "**11.** Create a 5 x 5 square matrix of the numbers 1 to 25 from an array of the number 1 to 25."
   ]
  },
  {
   "cell_type": "code",
   "execution_count": 64,
   "metadata": {
    "ExecuteTime": {
     "end_time": "2023-10-10T14:08:56.179203Z",
     "start_time": "2023-10-10T14:08:56.150167Z"
    }
   },
   "outputs": [],
   "source": [
    "matrix_1_to_25 = np.arange(1, 26).reshape((5,5))"
   ]
  },
  {
   "cell_type": "markdown",
   "metadata": {},
   "source": [
    "**A simple example of this type of operation is transposing a matrix.**\n",
    "\n",
    "**12.** Transpose the matrix you created on 11."
   ]
  },
  {
   "cell_type": "code",
   "execution_count": 65,
   "metadata": {
    "ExecuteTime": {
     "end_time": "2023-10-10T14:08:58.340813Z",
     "start_time": "2023-10-10T14:08:58.314738Z"
    }
   },
   "outputs": [
    {
     "data": {
      "text/plain": "array([[ 1,  6, 11, 16, 21],\n       [ 2,  7, 12, 17, 22],\n       [ 3,  8, 13, 18, 23],\n       [ 4,  9, 14, 19, 24],\n       [ 5, 10, 15, 20, 25]])"
     },
     "execution_count": 65,
     "metadata": {},
     "output_type": "execute_result"
    }
   ],
   "source": [
    "matrix_1_to_25.T"
   ]
  },
  {
   "cell_type": "markdown",
   "metadata": {},
   "source": [
    "Numpy provides many more functions for manipulating arrays; you can see the full list https://docs.scipy.org/doc/numpy/reference/routines.array-manipulation.html "
   ]
  },
  {
   "cell_type": "markdown",
   "metadata": {},
   "source": [
    "**13.** Add the constant vector v to each row of the matrix x."
   ]
  },
  {
   "cell_type": "code",
   "execution_count": null,
   "metadata": {},
   "outputs": [],
   "source": [
    "x = np.array([[1,2,3], [4,5,6], [7,8,9], [10, 11, 12]])\n",
    "v = np.array([1, 0, 1])"
   ]
  },
  {
   "cell_type": "code",
   "execution_count": null,
   "metadata": {},
   "outputs": [],
   "source": []
  },
  {
   "cell_type": "markdown",
   "metadata": {},
   "source": [
    "For more information on broadcasting, try reading the explanation from the documentation, see https://docs.scipy.org/doc/numpy/user/basics.broadcasting.html.\n",
    "\n",
    "Functions that support broadcasting are known as universal functions. You can find the list of all universal functions in the documentation, https://docs.scipy.org/doc/numpy/reference/ufuncs.html#available-ufuncs."
   ]
  },
  {
   "cell_type": "markdown",
   "metadata": {},
   "source": [
    "> ### Why should we bother using Numpy?"
   ]
  },
  {
   "cell_type": "markdown",
   "metadata": {},
   "source": [
    "**14.** Using python create a function list_adder that will take two lists, and return a list where each element is the sum of the elemets in that position of the two original lists. Basically, your function will add the elements of your lists together to create a new list."
   ]
  },
  {
   "cell_type": "code",
   "execution_count": null,
   "metadata": {},
   "outputs": [],
   "source": []
  },
  {
   "cell_type": "markdown",
   "metadata": {},
   "source": [
    "**15.** Create a funtion numpy adder that adds to numpy arrays together and returns the result array."
   ]
  },
  {
   "cell_type": "code",
   "execution_count": null,
   "metadata": {},
   "outputs": [],
   "source": []
  },
  {
   "cell_type": "markdown",
   "metadata": {},
   "source": [
    "Run the code below to test the time it takes to run the two functions."
   ]
  },
  {
   "cell_type": "code",
   "execution_count": null,
   "metadata": {},
   "outputs": [],
   "source": [
    "import time\n",
    "import random\n",
    "\n",
    "\n",
    "x = range(10000000) # create large list\n",
    "y = [random.random() for i in x] # create large random list\n",
    "\n",
    "# test python function\n",
    "t1 = time.time()\n",
    "list_adder(x,y)\n",
    "time_python = time.time() - t1\n",
    "print(f\"Python time :{time_python} s\")\n",
    "\n",
    "# test numpy function\n",
    "x = np.array(x)\n",
    "y = np.array(y)\n",
    "t1 = time.time()\n",
    "numpy_adder(x,y)\n",
    "time_numpy = time.time() - t1\n",
    "print(f\"Numpy time :{time_numpy} s\")\n",
    "print(f\"Numpy is {time_python/time_numpy} times faster\")"
   ]
  },
  {
   "cell_type": "markdown",
   "metadata": {},
   "source": [
    "### Additional numpy exercises\n",
    "\n",
    "Use the numpy finctions unique and sort to find the 2nd highest value in the np.array 'y'."
   ]
  },
  {
   "cell_type": "code",
   "execution_count": null,
   "metadata": {},
   "outputs": [],
   "source": []
  },
  {
   "cell_type": "markdown",
   "metadata": {},
   "source": [
    "Create an array z that is the same as the array y except with a maximum value of 50 (all values above 50 are replaced with 50)."
   ]
  },
  {
   "cell_type": "code",
   "execution_count": null,
   "metadata": {},
   "outputs": [],
   "source": []
  },
  {
   "cell_type": "markdown",
   "metadata": {},
   "source": [
    "Convert the multidimenisional array below into a 1 dimensional array which is equal to all the rows connected."
   ]
  },
  {
   "cell_type": "code",
   "execution_count": null,
   "metadata": {},
   "outputs": [],
   "source": []
  },
  {
   "cell_type": "markdown",
   "metadata": {},
   "source": [
    "Create an array containing the moving average of size 3 of the vector y."
   ]
  },
  {
   "cell_type": "code",
   "execution_count": null,
   "metadata": {},
   "outputs": [],
   "source": []
  },
  {
   "cell_type": "markdown",
   "metadata": {},
   "source": [
    "## B. Scipy\n",
    "\n",
    "The SciPy library of Python is built to work with NumPy arrays and provides many user-friendly and efficient numerical practices such as routines for numerical integration and optimization."
   ]
  },
  {
   "cell_type": "markdown",
   "metadata": {},
   "source": [
    "### Linear Algebra Operations in SciPy\n",
    "\n",
    "The module for standard Linear Algebra operations is known as scipy.linalg and you are required to import it well before any operation using the following command operation:"
   ]
  },
  {
   "cell_type": "code",
   "execution_count": null,
   "metadata": {},
   "outputs": [],
   "source": [
    "from scipy import linalg"
   ]
  },
  {
   "cell_type": "markdown",
   "metadata": {},
   "source": [
    "### B.1. Solving a Linear System\n",
    "\n",
    "Solving linear systems of equations is straightforward using the scipy command **linalg.solve**. This command expects an input matrix and a right-hand-side vector. The solution vector is then computed. An option for entering a symmetric matrix is offered which can speed up the processing when applicable. As an example, suppose it is desired to solve the following simultaneous equations:\n",
    "\n",
    "- 5x +2y +5z = 30\n",
    "- 2x + 5y + z = 18\n",
    "- 2x +3y +8z = 3\n",
    "\n",
    "**16.** Solve using linalg.solve, first convert to the form Ax = B, then provide A and B to linalg.solve:"
   ]
  },
  {
   "cell_type": "code",
   "execution_count": null,
   "metadata": {},
   "outputs": [],
   "source": []
  },
  {
   "cell_type": "markdown",
   "metadata": {},
   "source": [
    "**17.** Check that your solution is correct using linear alegbra.\n"
   ]
  },
  {
   "cell_type": "code",
   "execution_count": null,
   "metadata": {},
   "outputs": [],
   "source": []
  },
  {
   "cell_type": "markdown",
   "metadata": {},
   "source": [
    "**18.** Find the solution as the dot product of the inverse of A and B."
   ]
  },
  {
   "cell_type": "code",
   "execution_count": null,
   "metadata": {},
   "outputs": [],
   "source": []
  },
  {
   "cell_type": "markdown",
   "metadata": {},
   "source": [
    "### B.2. Random Variables"
   ]
  },
  {
   "cell_type": "markdown",
   "metadata": {},
   "source": [
    "**19.** Create a 50 x 2 array of random variables drawn from the normal distribution with the values of loc = 5 and scale = 10."
   ]
  },
  {
   "cell_type": "code",
   "execution_count": null,
   "metadata": {},
   "outputs": [],
   "source": []
  },
  {
   "cell_type": "markdown",
   "metadata": {},
   "source": [
    "**20.** Report the **mean** and **standard deviation** of each column."
   ]
  },
  {
   "cell_type": "code",
   "execution_count": null,
   "metadata": {},
   "outputs": [],
   "source": []
  },
  {
   "cell_type": "markdown",
   "metadata": {},
   "source": [
    "**21.** Perform a t test to check if the columns mean values are equal to 5."
   ]
  },
  {
   "cell_type": "code",
   "execution_count": null,
   "metadata": {},
   "outputs": [],
   "source": []
  },
  {
   "cell_type": "markdown",
   "metadata": {},
   "source": [
    "**22.** Perform a t test to check if the columns have different mean values."
   ]
  },
  {
   "cell_type": "code",
   "execution_count": null,
   "metadata": {},
   "outputs": [],
   "source": []
  },
  {
   "cell_type": "markdown",
   "metadata": {},
   "source": [
    "### B.3. Fitting Distributions to data\n",
    "\n",
    "An important task of a Data Scientist is to **find the appropriate distribution** that best describes our observation of events. Scipy makes this task easy. Let us see an example.\n",
    "\n",
    "**23.** First let us start by creating a sample data set with 500 points (a numpy array called 'x')."
   ]
  },
  {
   "cell_type": "code",
   "execution_count": null,
   "metadata": {},
   "outputs": [],
   "source": []
  },
  {
   "cell_type": "markdown",
   "metadata": {},
   "source": [
    "**24.** From scippy.stats import the **vonmises** library and create an array 'y' of the same size as 'x' with values drawn for this distribution and a parameter value of 5."
   ]
  },
  {
   "cell_type": "code",
   "execution_count": null,
   "metadata": {},
   "outputs": [],
   "source": []
  },
  {
   "cell_type": "markdown",
   "metadata": {},
   "source": [
    "**25.** Multiple all values of 'y' by 100 and convert them to integers."
   ]
  },
  {
   "cell_type": "code",
   "execution_count": null,
   "metadata": {},
   "outputs": [],
   "source": []
  },
  {
   "cell_type": "markdown",
   "metadata": {},
   "source": [
    "**26.** Fit a gamma distribution to 'y'."
   ]
  },
  {
   "cell_type": "code",
   "execution_count": null,
   "metadata": {},
   "outputs": [],
   "source": []
  },
  {
   "cell_type": "markdown",
   "metadata": {},
   "source": [
    "**27.** Generate values for a new series 'g' based upon the input values of 'x' and your fitted gamma distribution."
   ]
  },
  {
   "cell_type": "code",
   "execution_count": null,
   "metadata": {},
   "outputs": [],
   "source": []
  },
  {
   "cell_type": "markdown",
   "metadata": {},
   "source": [
    "Run the cell below to plot a historgram of our data against a pdf of the gamma distribution we fitted."
   ]
  },
  {
   "cell_type": "code",
   "execution_count": null,
   "metadata": {},
   "outputs": [],
   "source": [
    "import matplotlib.pyplot as plt\n",
    "plt.plot(g * size, label='gamma')\n",
    "plt.xlim(1,100)\n",
    "\n",
    "h = plt.hist(y, bins=range(100),color='gray')\n",
    "plt.show()"
   ]
  },
  {
   "cell_type": "markdown",
   "metadata": {},
   "source": [
    "### B.4. Sparse Matrices\n",
    "\n",
    "A dense matrix is a mathematical object that stores a 2D array of values.\n",
    "\n",
    "**Why should we care in using sparse matrices?**\n",
    "\n",
    "Used memory in the declaration of a matrix scales like n*n, small example (double precision matrix):"
   ]
  },
  {
   "cell_type": "code",
   "execution_count": 2,
   "metadata": {},
   "outputs": [],
   "source": [
    "# import sparse module from SciPy package \n",
    "from scipy import sparse\n",
    "# import uniform module to create random numbers\n",
    "from scipy.stats import uniform\n",
    "# import NumPy\n",
    "import numpy as np"
   ]
  },
  {
   "cell_type": "code",
   "execution_count": 3,
   "metadata": {},
   "outputs": [],
   "source": [
    "# row indices\n",
    "row_ind = np.array([0, 1, 1, 3, 4])\n",
    "# column indices\n",
    "col_ind = np.array([0, 2, 4, 3, 4])\n",
    "# data to be stored in COO sparse matrix\n",
    "data = np.array([1, 2, 3, 4, 5], dtype=float)"
   ]
  },
  {
   "cell_type": "markdown",
   "metadata": {},
   "source": [
    "We can use sparse.coo_matrix to create a sparse matrix. It takes data and the row and column index tuple as arguments."
   ]
  },
  {
   "cell_type": "code",
   "execution_count": 5,
   "metadata": {},
   "outputs": [],
   "source": [
    "# create COO sparse matrix from three arrays\n"
   ]
  },
  {
   "cell_type": "markdown",
   "metadata": {},
   "source": [
    "coo_matrix has lots of useful functions including function to convert coo_matrix to other sparse matrices and also to dense matrix. Use the function toarray to see the 2d-array of the sparse matrix that we just created."
   ]
  },
  {
   "cell_type": "code",
   "execution_count": null,
   "metadata": {},
   "outputs": [],
   "source": []
  },
  {
   "cell_type": "markdown",
   "metadata": {},
   "source": [
    "### How much space do we gain by storing a big sparse matrix in SciPy.sparse?\n",
    "\n",
    "**One of the real uses of sparse matrix is the huge space reduction to store sparse matrices.** \n",
    "\n",
    "Let us create a bigger full matrix and see how much we gain by storing it as sparse matrix."
   ]
  },
  {
   "cell_type": "code",
   "execution_count": null,
   "metadata": {},
   "outputs": [],
   "source": [
    "np.random.seed(seed=42)\n",
    "data = uniform.rvs(size=1000000, loc = 0, scale=2)\n",
    "data = np.reshape(data, (10000, 100))\n",
    "data.shape\n",
    "data.nbytes"
   ]
  },
  {
   "cell_type": "code",
   "execution_count": null,
   "metadata": {},
   "outputs": [],
   "source": [
    "data[data <= 1] = 0\n",
    "data_size = data.nbytes/(1024**2)\n",
    "print('Size of full matrix with zeros: '+ '%3.2f' %data_size + ' MB')"
   ]
  },
  {
   "cell_type": "markdown",
   "metadata": {},
   "source": [
    "We can see the size of full matrix of size 1 million elements with half of them with values zero is about 80 MB."
   ]
  },
  {
   "cell_type": "code",
   "execution_count": null,
   "metadata": {},
   "outputs": [],
   "source": [
    "data_csr = sparse.csr_matrix(data)\n",
    "data_csr_size = data_csr.data.size/(1024**2)\n",
    "print('Size of sparse csr_matrix: '+ '%3.2f' %data_csr_size + ' MB')"
   ]
  },
  {
   "cell_type": "code",
   "execution_count": null,
   "metadata": {},
   "outputs": [],
   "source": []
  },
  {
   "cell_type": "code",
   "execution_count": null,
   "metadata": {},
   "outputs": [],
   "source": []
  }
 ],
 "metadata": {
  "kernelspec": {
   "display_name": "Python 3 (ipykernel)",
   "language": "python",
   "name": "python3"
  },
  "language_info": {
   "codemirror_mode": {
    "name": "ipython",
    "version": 3
   },
   "file_extension": ".py",
   "mimetype": "text/x-python",
   "name": "python",
   "nbconvert_exporter": "python",
   "pygments_lexer": "ipython3",
   "version": "3.9.13"
  }
 },
 "nbformat": 4,
 "nbformat_minor": 2
}
