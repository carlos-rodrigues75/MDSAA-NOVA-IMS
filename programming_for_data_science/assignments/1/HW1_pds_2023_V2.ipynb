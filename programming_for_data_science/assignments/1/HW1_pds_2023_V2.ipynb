{
 "cells": [
  {
   "cell_type": "markdown",
   "metadata": {},
   "source": [
    "# <span style=\"color:brown\"> Start Here </span> \n",
    "\n",
    "[Please Complete the following form with your details]\n",
    "\n",
    "Student Name - Devora dos Santos Cavaleiro <br>\n",
    "Student id - 20230974 <br>\n",
    "Contact e-mail - devoracavaleiro27@hotmail.com <br>\n",
    "\n",
    "\n",
    "Student Name - Carlos Eduardo Rodrigues da Costa<br>\n",
    "Student id - 20230543<br>\n",
    "Contact e-mail - carlos_edu75@hotmail.com<br>"
   ]
  },
  {
   "cell_type": "markdown",
   "metadata": {},
   "source": [
    "# <span style=\"color:brown\"> Part 1 -  Variable Declaration and Manipulation </span> \n",
    "\n",
    "## Exercise I - of Lists and Random numbers\n",
    "\n",
    "**1**: Declare a variable X that stores a list of 100 integers randomly sampled between -100 and 100.<br>\n",
    "Note: You are not allowed to use third party libraries -- such as Numpy, Pandas, or Scipy -- in this exercise."
   ]
  },
  {
   "cell_type": "code",
   "execution_count": 1,
   "metadata": {},
   "outputs": [
    {
     "name": "stdout",
     "output_type": "stream",
     "text": [
      "[54, -88, -52, 89, 16, 26, 95, -58, -73, -34, 81, 17, -82, -59, 65, 62, -24, 22, -91, 28, 80, 19, 75, 80, 9, -50, -72, -40, 80, -50, -25, 86, -86, 27, 25, 80, -15, 88, -2, -83, -18, 82, 79, -40, -61, -44, 96, 47, -84, 68, -90, 89, -100, 56, 94, -86, -93, -30, 19, 28, -70, -32, 89, 72, 96, -17, -96, 20, -69, -81, -45, 49, -27, 85, -20, -71, -63, 56, -81, -53, -59, 6, 43, 77, -43, 51, -68, -18, 85, -67, 30, 15, -67, 63, -18, -55, 71, -41, -17, -30]\n"
     ]
    }
   ],
   "source": [
    "import random\n",
    "\n",
    "X = []\n",
    "\n",
    "for numb in range(0,100): # Range will define the lenght of the list, that is 100\n",
    "    random_number = random.randint(-100, 100) # Store the random numbers between -100 and 100, both included, on random_number variable\n",
    "    X.append(random_number) # Add each random number to the list X \n",
    "print(X)"
   ]
  },
  {
   "cell_type": "markdown",
   "metadata": {},
   "source": [
    "**2**: How many odd numbers are in the list X?\n"
   ]
  },
  {
   "cell_type": "code",
   "execution_count": 2,
   "metadata": {},
   "outputs": [
    {
     "name": "stdout",
     "output_type": "stream",
     "text": [
      "There are 48 odd numbers.\n"
     ]
    }
   ],
   "source": [
    "list_odd = []\n",
    "\n",
    "\n",
    "for numb in X:\n",
    "    if numb % 2 != 0: # verify which values are odd numbers\n",
    "        list_odd.append(numb) # add odd numbers to list_odd\n",
    "print(\"There are\", len(list_odd), \"odd numbers.\")"
   ]
  },
  {
   "cell_type": "markdown",
   "metadata": {},
   "source": [
    "**2.1** Check if there are as many even numbers as there are odd numbers, else discard the list and generate a new one."
   ]
  },
  {
   "cell_type": "code",
   "execution_count": 3,
   "metadata": {},
   "outputs": [],
   "source": [
    "list_even = []\n",
    "\n",
    "\n",
    "for numb in X:\n",
    "    if numb % 2 == 0: # verify which values are even numbers\n",
    "        list_odd.append(numb) #add even numbers to list_even"
   ]
  },
  {
   "cell_type": "code",
   "execution_count": 4,
   "metadata": {},
   "outputs": [
    {
     "name": "stdout",
     "output_type": "stream",
     "text": [
      "The new list X is [54, -88, -52, 89, 16, 26, 95, -58, -73, -34, 81, 17, -82, -59, 65, 62, -24, 22, -91, 28, 80, 19, 75, 80, 9, -50, -72, -40, 80, -50, -25, 86, -86, 27, 25, 80, -15, 88, -2, -83, -18, 82, 79, -40, -61, -44, 96, 47, -84, 68, -90, 89, -100, 56, 94, -86, -93, -30, 19, 28, -70, -32, 89, 72, 96, -17, -96, 20, -69, -81, -45, 49, -27, 85, -20, -71, -63, 56, -81, -53, -59, 6, 43, 77, -43, 51, -68, -18, 85, -67, 30, 15, -67, 63, -18, -55, 71, -41, -17, -30, -34, -13, -85, 28, 48, -43, 66, -83, 84, -40, 15, -32, -20, -89, -69, -46, -6, -93, 32, -45, 69, -22, 47, -67, -95, -30, 27, 66, 47, 81, -60, -74, -32, -6, -91, -82, -57, 18, -94, -62, 66, 29, 81, -19, -49, -49, 8, -27, -50, 67, 12, -36, -27, 52, 89, 90, -33, 8, -83, -100, -80, 93, -56, -77, 98, 93, 2, 86, 29, 74, -93, 100, -80, 71, 19, -66, -2, -27, -86, -22, 74, -45, -80, 40, 94, 1, -57, 97, 85, 32, -27, -79, 1, 15, -66, -87, -34, -51, -62, 25]\n"
     ]
    }
   ],
   "source": [
    "if len(list_even) == len(list_odd): # Verify if the lenght of the odd and even number list are the same, so it will have the same number of elements on both\n",
    "    print(\"There are as many even numbers as there are odd numbers.\")\n",
    "else: # Create a new list, in the same terms as exercise 1\n",
    "    for numb in range(0,100):\n",
    "        random_number = random.randint(-100, 100)\n",
    "        X.append(random_number)\n",
    "    print(\"The new list X is\", X)"
   ]
  },
  {
   "cell_type": "markdown",
   "metadata": {},
   "source": [
    "**2.2** Create a pipeline to automatically perform the tasks above such that you avoid having to run the cells multiple times to reach the desired outcome."
   ]
  },
  {
   "cell_type": "code",
   "execution_count": 5,
   "metadata": {},
   "outputs": [
    {
     "name": "stdout",
     "output_type": "stream",
     "text": [
      "[-55, 74, -70, -38, 21, 96, -44, -46, -21, 64, -26, 73, -99, 44, 63, -19, 87, 13, 7, -21, -73, -80, -6, -31, 27, 36, 33, -35, -25, 34, 24, 82, -97, -38, 55, 36, 1, -69, -39, 58, 17, -51, 7, -56, -71, 57, 9, 34, 65, 14, -46, 53, 52, 40, 23, -80, -67, 64, -4, -74, 70, 97, -84, -39, -56, -18, 17, -25, 65, -41, 40, -73, -87, 46, 25, -21, 73, -5, 20, -5, -36, 56, -42, -40, 45, -37, 42, 33, -57, -70, 94, -42, -80, 21, 69, -31, 61, 25, 94, -57]\n"
     ]
    }
   ],
   "source": [
    "import random\n",
    "\n",
    "def random_lista():\n",
    "    r_list = []\n",
    "    \n",
    "    #Choose random 100 numbers between [-100,100] with -100 and 100 included.\n",
    "    for i in range(100):\n",
    "        r_list.append(random.randint(-100,100)) \n",
    "    \n",
    "    return r_list\n",
    "\n",
    "X = random_lista()\n",
    "print(X)"
   ]
  },
  {
   "cell_type": "code",
   "execution_count": 6,
   "metadata": {},
   "outputs": [
    {
     "name": "stdout",
     "output_type": "stream",
     "text": [
      "Total number of odd: 50\n",
      "Total number of even: 50\n"
     ]
    }
   ],
   "source": [
    "# Create a full automatizate cicle untill the number of \"odd numbers\" and \"even numbers\" match.\n",
    "while True:\n",
    "    X = random_lista() # Call function defined in Exercice 2,2\n",
    "    even_numbers_count = 0 # Initialize counters for even numbers\n",
    "    odd_numbers_count = 0 # Initialize counters for odd numbers\n",
    "\n",
    "    for number in X:\n",
    "        if number % 2 != 0:\n",
    "            odd_numbers_count += 1\n",
    "        else:\n",
    "            even_numbers_count += 1\n",
    "\n",
    "    if even_numbers_count == odd_numbers_count: # If the number of even and odd are equal, print and stop the loop\n",
    "        print(\"Total number of odd:\", odd_numbers_count)\n",
    "        print(\"Total number of even:\", even_numbers_count)\n",
    "        break"
   ]
  },
  {
   "cell_type": "markdown",
   "metadata": {},
   "source": [
    "**3**: Print the number of digits that the 5th and 100th element of the list have. <br>\n",
    "*Note: For instance, the number 1 contains one digit, the number 10 contains two digits, the number -2 contains one digit.*"
   ]
  },
  {
   "cell_type": "code",
   "execution_count": 7,
   "metadata": {},
   "outputs": [
    {
     "name": "stdout",
     "output_type": "stream",
     "text": [
      "The 5th element has 2 digits.\n",
      "The 100th element has 2 digits.\n"
     ]
    }
   ],
   "source": [
    "# Considere the list X\n",
    "\n",
    "# Convert the integer in string to get the lenght of the string. The function abs() allows us to get the absolute value\n",
    "# to get rid of the negative sign\n",
    "five_element = X[4]\n",
    "digit_counter_5 = len(str(abs(five_element)))\n",
    "\n",
    "hundred_element = X[99]\n",
    "digit_counter_100 = len(str(abs(hundred_element)))\n",
    "\n",
    "print(\"The 5th element has\", digit_counter_5, \"digits.\")\n",
    "print(\"The 100th element has\", digit_counter_100, \"digits.\")"
   ]
  },
  {
   "cell_type": "markdown",
   "metadata": {},
   "source": [
    "**4**: Is the sum total of all the numbers in the list even or odd?"
   ]
  },
  {
   "cell_type": "code",
   "execution_count": 8,
   "metadata": {},
   "outputs": [
    {
     "name": "stdout",
     "output_type": "stream",
     "text": [
      "The sum total of all the numbers in the list is even.\n"
     ]
    }
   ],
   "source": [
    "sum_list = sum(X)\n",
    "if sum_list % 2 == 0:\n",
    "    print(\"The sum total of all the numbers in the list is even.\")\n",
    "else:\n",
    "    print(\"The sum total of all the numbers in the list  is odd.\")"
   ]
  },
  {
   "cell_type": "markdown",
   "metadata": {},
   "source": [
    "**5**: What is the average of the list X?"
   ]
  },
  {
   "cell_type": "code",
   "execution_count": 9,
   "metadata": {},
   "outputs": [
    {
     "name": "stdout",
     "output_type": "stream",
     "text": [
      "The average of the list X is -5.26\n"
     ]
    }
   ],
   "source": [
    "mean = sum(X)/len(X)\n",
    "print(\"The average of the list X is\", mean)"
   ]
  },
  {
   "cell_type": "markdown",
   "metadata": {},
   "source": [
    "**5.1.** What is the population standard deviation? <br>"
   ]
  },
  {
   "cell_type": "code",
   "execution_count": 10,
   "metadata": {},
   "outputs": [
    {
     "name": "stdout",
     "output_type": "stream",
     "text": [
      "The population standard deviation is 57.65893165850369\n"
     ]
    }
   ],
   "source": [
    "# sd is ((sum(X-mean)**2)/len(X))**(1/2)\n",
    "soma = 0\n",
    "\n",
    "for num_sd in X:\n",
    "    num_sd = num_sd - mean\n",
    "    num_sd2 = num_sd**2\n",
    "    soma += num_sd2\n",
    "divison = soma/len(X)\n",
    "sd = divison**(1/2)\n",
    "print(\"The population standard deviation is\", sd)"
   ]
  },
  {
   "cell_type": "markdown",
   "metadata": {},
   "source": [
    "**6**: Sort list X in descending order and store the result in variable Xsort. <br>"
   ]
  },
  {
   "cell_type": "code",
   "execution_count": 11,
   "metadata": {},
   "outputs": [
    {
     "name": "stdout",
     "output_type": "stream",
     "text": [
      "[99, 95, 95, 94, 90, 90, 87, 85, 76, 71, 65, 65, 63, 62, 61, 61, 60, 60, 59, 58, 56, 53, 48, 46, 46, 43, 43, 40, 39, 37, 34, 33, 30, 30, 28, 26, 23, 21, 19, 15, 15, 12, 11, 10, 6, -3, -5, -5, -6, -8, -10, -13, -14, -15, -15, -17, -19, -19, -21, -22, -26, -27, -28, -32, -40, -41, -41, -42, -48, -48, -49, -50, -50, -51, -54, -57, -58, -59, -60, -60, -62, -66, -68, -70, -72, -72, -74, -77, -85, -86, -87, -89, -91, -93, -93, -94, -95, -99, -100, -100]\n"
     ]
    }
   ],
   "source": [
    "Xsort = sorted(X, reverse=True) # The function sorted() by default sort in ascending order, so to do the inverse we put reverse = True\n",
    "print(Xsort)"
   ]
  },
  {
   "cell_type": "markdown",
   "metadata": {},
   "source": [
    "**6.1** Then replace each value in Xsort with index i as the sum of the values with index i-1 and i. <br> \n",
    "\n",
    "*Note: Consider that Xsort[-1] = 0.*"
   ]
  },
  {
   "cell_type": "code",
   "execution_count": 12,
   "metadata": {},
   "outputs": [
    {
     "name": "stdout",
     "output_type": "stream",
     "text": [
      "[99, 194, 289, 383, 473, 563, 650, 735, 811, 882, 947, 1012, 1075, 1137, 1198, 1259, 1319, 1379, 1438, 1496, 1552, 1605, 1653, 1699, 1745, 1788, 1831, 1871, 1910, 1947, 1981, 2014, 2044, 2074, 2102, 2128, 2151, 2172, 2191, 2206, 2221, 2233, 2244, 2254, 2260, 2257, 2252, 2247, 2241, 2233, 2223, 2210, 2196, 2181, 2166, 2149, 2130, 2111, 2090, 2068, 2042, 2015, 1987, 1955, 1915, 1874, 1833, 1791, 1743, 1695, 1646, 1596, 1546, 1495, 1441, 1384, 1326, 1267, 1207, 1147, 1085, 1019, 951, 881, 809, 737, 663, 586, 501, 415, 328, 239, 148, 55, -38, -132, -227, -326, -426, -526]\n"
     ]
    }
   ],
   "source": [
    "for i in range(1,len(Xsort)): # Xsort[-1] = 0, so the 1st position won't change\n",
    "    Xsort[i] = Xsort[i-1] + Xsort[i]\n",
    "print(Xsort)"
   ]
  },
  {
   "cell_type": "markdown",
   "metadata": {},
   "source": [
    "## Exercise II - we have a gamer in the room\n",
    "\n",
    "**7**: Consider the dictionaries  *purchases* and *clients* that are declared in the cell below. <br>\n",
    "Create a list with the names of the clients who bought more than one videogame. Print the List. <br>"
   ]
  },
  {
   "cell_type": "code",
   "execution_count": 13,
   "metadata": {},
   "outputs": [],
   "source": [
    "purchases = {\n",
    "    \n",
    "    \"1539\":\"Red dead redemption II\",\n",
    "    \"9843\":\"GTA V,FarCry 5, watchdogs II\",\n",
    "    \"8472\":\"Canis Canem Edit\",\n",
    "    \"3874\":\"Watchdogs II,South Park: The Stick of Truth\",\n",
    "    \"5783\":\"AC: The Ezio Collection, watchdogs ii\",\n",
    "    \"9823\":\"For Honor,The Forest,South Park: The Fractured but whole\"\n",
    "    \n",
    "}"
   ]
  },
  {
   "cell_type": "code",
   "execution_count": 14,
   "metadata": {},
   "outputs": [],
   "source": [
    "clients = {\n",
    "    \n",
    "    \"1539\":\"Rick Sanchez\",\n",
    "    \"9843\":\"Morty Smith\",\n",
    "    \"8472\":\"Eve Polastri\",\n",
    "    \"3874\":\"Mildred Ratched\",\n",
    "    \"5783\":\"Alex Vause\",\n",
    "    \"9823\":\"Sheldon Cooper\"\n",
    "    \n",
    "}"
   ]
  },
  {
   "cell_type": "code",
   "execution_count": 15,
   "metadata": {},
   "outputs": [
    {
     "name": "stdout",
     "output_type": "stream",
     "text": [
      "['Morty Smith', 'Mildred Ratched', 'Alex Vause', 'Sheldon Cooper']\n"
     ]
    }
   ],
   "source": [
    "clients_with_more_games = []\n",
    "\n",
    "for client_key in clients:\n",
    "    games = purchases[client_key].split(\",\") # return a list with game names\n",
    "    if (len(games) > 1): # list games > 1, bought more that one game\n",
    "        clients_with_more_games.append(clients[client_key]) # add to the list clients_with_more_games the values of key in clients with the buys.\n",
    "\n",
    "print(clients_with_more_games)"
   ]
  },
  {
   "cell_type": "markdown",
   "metadata": {},
   "source": [
    "**7.1** What is the name of the client that bought more videogames?\n",
    "\n",
    "*Tip: You will want to check the methods associated with string manipulation. See the link: <br>\n",
    "https://python-reference.readthedocs.io/en/latest/docs/unicode/index.html*"
   ]
  },
  {
   "cell_type": "code",
   "execution_count": 16,
   "metadata": {},
   "outputs": [
    {
     "name": "stdout",
     "output_type": "stream",
     "text": [
      "Morty Smith\n"
     ]
    }
   ],
   "source": [
    "best_buyer = []\n",
    "maximum = 0\n",
    "client = \"\"\n",
    "\n",
    "for client_key in clients:\n",
    "    games = purchases[client_key].split(\",\") # return a list with game names\n",
    "    if len(games) > maximum: # verify that this len(games) is greater than the current maximum\n",
    "        maximum = len(games) #if true substitutes\n",
    "        client = clients[client_key]\n",
    "print(client)"
   ]
  },
  {
   "cell_type": "markdown",
   "metadata": {},
   "source": [
    "**7.2** What is the name of the most popular videogame?"
   ]
  },
  {
   "cell_type": "code",
   "execution_count": 17,
   "metadata": {},
   "outputs": [
    {
     "name": "stdout",
     "output_type": "stream",
     "text": [
      "The most popular videogame is watchdogs ii\n"
     ]
    }
   ],
   "source": [
    "maximum = 0\n",
    "list_games = []\n",
    "pop_game = \"\"\n",
    "\n",
    "for keys in purchases:# adds to list_games all games\n",
    "    games = purchases[keys].split(\",\")\n",
    "    for game in games:\n",
    "        list_games.append(game.lower().strip()) # all in lower case and without spaces, count case sensitive and space sensitive too.\n",
    "\n",
    "for game in list_games:\n",
    "    game_count = list_games.count(game) #counts each game\n",
    "    if game_count > maximum: # verify that the count of each game is greater than the current max\n",
    "        maximum = game_count #if true substitutes\n",
    "        pop_game = game\n",
    "\n",
    "print(\"The most popular videogame is\", pop_game)"
   ]
  },
  {
   "cell_type": "markdown",
   "metadata": {},
   "source": [
    "# <span style=\"color:brown\"> Part 2 -  Data loading and analysis  </span>\n",
    "\n",
    "## Exercise I - Alice what do you have to say?\n",
    "\n",
    "**8**: Load the Alice text file into a variable called Alice. <br>\n",
    "\n",
    "*Note: Use a relative filepath in relation to the location of your notebook.*"
   ]
  },
  {
   "cell_type": "code",
   "execution_count": 18,
   "metadata": {},
   "outputs": [
    {
     "data": {
      "text/plain": [
       "'Alice was beginning to get very tired of sitting by her sister on the bank, and of having nothing to do: once or twice she had peeped into the book her sister was reading, but it had no pictures or conversations in it, <<and what is the use of a book>>. thought Alice <<without pictures or conversation?>>.'"
      ]
     },
     "execution_count": 18,
     "metadata": {},
     "output_type": "execute_result"
    }
   ],
   "source": [
    "# Using open() it's possible to push a file into a variable called Alice, first parameter, defines the path were the files is, secound parameter defines what action i'm doing r,w,c...(read,writing,copying...)\n",
    "# We're using the with to automatically close the file\n",
    "with open(\"./alice.txt\", \"r\") as file:\n",
    "    Alice = file.read() # Create a object data with all information from Alice\n",
    "\n",
    "Alice"
   ]
  },
  {
   "cell_type": "markdown",
   "metadata": {},
   "source": [
    "**9**: Create a list in which each element is a word from the file *Alice*. Store that list in a variable called *wAlice*. <br>\n",
    "\n",
    "*Note: You will need to do some text parsing here. In particular to split the sentences into words. It is also a good practice to normalize words so that words \"Hello\" and \"hello\" become identical, by making all letters lower case. <br>*\n",
    "\n",
    "*Tip: check the following links for a discussion on regular expressions. Also consult the methods available for string manipulation.*\n",
    "\n",
    "https://docs.python.org/3/library/re.html\n",
    "\n",
    "https://stackoverflow.com/questions/1276764/stripping-everything-but-alphanumeric-chars-from-a-string-in-python"
   ]
  },
  {
   "cell_type": "code",
   "execution_count": 19,
   "metadata": {},
   "outputs": [
    {
     "name": "stdout",
     "output_type": "stream",
     "text": [
      "Alice was beginning to get very tired of sitting by her sister on the bank and of having nothing to do once or twice she had peeped into the book her sister was reading but it had no pictures or conversations in it and what is the use of a book thought Alice without pictures or conversation\n"
     ]
    }
   ],
   "source": [
    "import re\n",
    "\n",
    "# get rid of all non alphanumeric characters and non whitespaces replacing it to nothing (empty string).\n",
    "new_str = re.sub(r\"[^\\w\\s]\", \"\", Alice) # ^ - negative (\\w - alphanumeric characters and underscore, \\s - whitespaces)\n",
    "\n",
    "print(new_str)"
   ]
  },
  {
   "cell_type": "code",
   "execution_count": 20,
   "metadata": {},
   "outputs": [
    {
     "name": "stdout",
     "output_type": "stream",
     "text": [
      "['alice', 'was', 'beginning', 'to', 'get', 'very', 'tired', 'of', 'sitting', 'by', 'her', 'sister', 'on', 'the', 'bank', 'and', 'of', 'having', 'nothing', 'to', 'do', 'once', 'or', 'twice', 'she', 'had', 'peeped', 'into', 'the', 'book', 'her', 'sister', 'was', 'reading', 'but', 'it', 'had', 'no', 'pictures', 'or', 'conversations', 'in', 'it', 'and', 'what', 'is', 'the', 'use', 'of', 'a', 'book', 'thought', 'alice', 'without', 'pictures', 'or', 'conversation']\n"
     ]
    }
   ],
   "source": [
    "wAlice = new_str.lower().split()\n",
    "print(wAlice)"
   ]
  },
  {
   "cell_type": "markdown",
   "metadata": {},
   "source": [
    "##### Using the list *wAlice* answer the following questions:<br>\n",
    "**10**: How many words are in the file Alice.txt? <br>"
   ]
  },
  {
   "cell_type": "code",
   "execution_count": 21,
   "metadata": {},
   "outputs": [
    {
     "name": "stdout",
     "output_type": "stream",
     "text": [
      "There are 57 words in Alice.txt\n"
     ]
    }
   ],
   "source": [
    "print(\"There are\", len(wAlice), \"words in Alice.txt\") # Calculate the lenght of the previous list\""
   ]
  },
  {
   "cell_type": "markdown",
   "metadata": {},
   "source": [
    "**11**: What is the longest and smallest word in the text file?\n",
    "\n",
    "*Note: Length in this case is measured in terms of the number of characters.*"
   ]
  },
  {
   "cell_type": "code",
   "execution_count": 22,
   "metadata": {},
   "outputs": [
    {
     "name": "stdout",
     "output_type": "stream",
     "text": [
      "The longest word is conversations\n",
      "The smallest word is a\n"
     ]
    }
   ],
   "source": [
    "print(\"The longest word is\", max(wAlice, key=len))\n",
    "print(\"The smallest word is\", min(wAlice, key=len))"
   ]
  },
  {
   "cell_type": "markdown",
   "metadata": {},
   "source": [
    "**12**: Delete all the repeated words from *wAlice*. "
   ]
  },
  {
   "cell_type": "code",
   "execution_count": 23,
   "metadata": {},
   "outputs": [
    {
     "data": {
      "text/plain": [
       "{'a',\n",
       " 'alice',\n",
       " 'and',\n",
       " 'bank',\n",
       " 'beginning',\n",
       " 'book',\n",
       " 'but',\n",
       " 'by',\n",
       " 'conversation',\n",
       " 'conversations',\n",
       " 'do',\n",
       " 'get',\n",
       " 'had',\n",
       " 'having',\n",
       " 'her',\n",
       " 'in',\n",
       " 'into',\n",
       " 'is',\n",
       " 'it',\n",
       " 'no',\n",
       " 'nothing',\n",
       " 'of',\n",
       " 'on',\n",
       " 'once',\n",
       " 'or',\n",
       " 'peeped',\n",
       " 'pictures',\n",
       " 'reading',\n",
       " 'she',\n",
       " 'sister',\n",
       " 'sitting',\n",
       " 'the',\n",
       " 'thought',\n",
       " 'tired',\n",
       " 'to',\n",
       " 'twice',\n",
       " 'use',\n",
       " 'very',\n",
       " 'was',\n",
       " 'what',\n",
       " 'without'}"
      ]
     },
     "execution_count": 23,
     "metadata": {},
     "output_type": "execute_result"
    }
   ],
   "source": [
    "alice_word_set = set(wAlice) # sets don't accept repetitions\n",
    "alice_word_set"
   ]
  },
  {
   "cell_type": "markdown",
   "metadata": {},
   "source": [
    "**12.1**:How many different words does the text contain?"
   ]
  },
  {
   "cell_type": "code",
   "execution_count": 24,
   "metadata": {},
   "outputs": [
    {
     "name": "stdout",
     "output_type": "stream",
     "text": [
      "There are 41 different words in the text.\n"
     ]
    }
   ],
   "source": [
    "print(\"There are\", len(alice_word_set), \"different words in the text.\") # Calculate the lenght of the previous list, that has no repetions.\""
   ]
  },
  {
   "cell_type": "markdown",
   "metadata": {},
   "source": [
    "## Exercise II - of Countries I Love\n",
    "\n",
    "Consider the list countries in the cell below. <br>\n",
    "It consists of a list of the 3-digit ISO codes of a set of countries of interest."
   ]
  },
  {
   "cell_type": "code",
   "execution_count": 25,
   "metadata": {},
   "outputs": [],
   "source": [
    "# We changed this list a little. We Fixed the iso code for Israel and Denmark\n",
    "countries = [\n",
    "\n",
    "('PRT','Portugal','Europe'),\n",
    "('ISR','Israel','Asia'),\n",
    "('COL','Colombia','South America'),\n",
    "('JPN','Japan','Asia'),\n",
    "('RUS','Russia','Europe'),\n",
    "('DNK','Denmark','Europe'),\n",
    "('NOR','Norway','Europe')\n",
    "    \n",
    "]\n"
   ]
  },
  {
   "cell_type": "markdown",
   "metadata": {},
   "source": [
    "**Now consider the file *cdata.csv* that you should download.** <br>\n",
    "\n",
    "The file contains several information about countries, and is organized as follows:\n",
    "1. Column 1 is the 3-digit **ISO Code**\n",
    "2. Column 2 is the **Full Name** of the country\n",
    "3. Column 3 is the **Continent** of the country\n",
    "4. Column 4 is the **Population Size** in 2010\n",
    "5. Column 5 is the **GDP per capita** in 2010"
   ]
  },
  {
   "cell_type": "markdown",
   "metadata": {},
   "source": [
    "**13**: Using the Library CSV from Python STL, load the file *cdata.csv* into an object called *raw*. "
   ]
  },
  {
   "cell_type": "code",
   "execution_count": 26,
   "metadata": {},
   "outputs": [],
   "source": [
    "import csv\n",
    "\n",
    "# We also did some changes in the csv file.\n",
    "# We added a whitespace for south america and north america and also fixed the continent of Russia (it was Asia before the fix)\n",
    "with open('./cdata.csv', 'r') as file:\n",
    "    reader = csv.reader(file)\n",
    "    raw = list(reader)"
   ]
  },
  {
   "cell_type": "markdown",
   "metadata": {},
   "source": [
    "**13.1**: Create a dictionary called *cData* in which the key corresponds to the 3-digit ISO Code and the value is a tuple with the information contained in the 2nd to the 5th of column of the cdata file."
   ]
  },
  {
   "cell_type": "code",
   "execution_count": 27,
   "metadata": {},
   "outputs": [
    {
     "data": {
      "text/plain": [
       "{'AGO': ('Angola', 'Africa', '23.369131088256836', '5988.534997149481'),\n",
       " 'BDI': ('Burundi', 'Africa', '8.766929626464844', '731.4232803265862'),\n",
       " 'BEN': ('Benin', 'Africa', '9.199258804321289', '1919.9969479963038'),\n",
       " 'BFA': ('Burkina Faso', 'Africa', '15.605216979980469', '1327.2165314775982'),\n",
       " 'BWA': ('Botswana', 'Africa', '2.0148661136627197', '12256.14159052444'),\n",
       " 'CAF': ('Central African Republic',\n",
       "  'Africa',\n",
       "  '4.4485249519348145',\n",
       "  '865.4421867263901'),\n",
       " 'CMR': ('Cameroon', 'Africa', '19.970495223999023', '2684.972890247272'),\n",
       " 'COD': ('Democratic Republic of the Congo',\n",
       "  'Africa',\n",
       "  '64.52326202392578',\n",
       "  '634.9713963013496'),\n",
       " 'COG': ('Republic of the Congo',\n",
       "  'Africa',\n",
       "  '4.386693000793457',\n",
       "  '4979.990496069269'),\n",
       " 'COM': ('Comoros', 'Africa', '0.6896920204162598', '2292.997969425929'),\n",
       " 'CPV': ('Cape Verde', 'Africa', '0.5023840069770813', '5644.821253339075'),\n",
       " 'DJI': ('Djibouti', 'Africa', '0.8511459827423096', '2124.4420625972525'),\n",
       " 'DZA': ('Algeria', 'Africa', '36.117637634277344', '12590.224223813591'),\n",
       " 'EGY': ('Egypt', 'Africa', '84.10760498046875', '9148.839753298033'),\n",
       " 'ETH': ('Ethiopia', 'Africa', '87.70266723632812', '1100.1831875876223'),\n",
       " 'GAB': ('Gabon', 'Africa', '1.6402100324630737', '11961.168226448879'),\n",
       " 'GHA': ('Ghana', 'Africa', '24.512104034423828', '3931.2918319728856'),\n",
       " 'GIN': ('Guinea', 'Africa', '10.794170379638672', '1742.7346742167783'),\n",
       " 'GMB': ('Gambia', 'Africa', '1.692149043083191', '2681.8586168502143'),\n",
       " 'GNB': ('Guinea-Bissau',\n",
       "  'Africa',\n",
       "  '1.5558799505233765',\n",
       "  '1387.2497310879905'),\n",
       " 'GNQ': ('Equatorial Guinea',\n",
       "  'Africa',\n",
       "  '0.9511039853096008',\n",
       "  '31416.887137501908'),\n",
       " 'KEN': ('Kenya', 'Africa', '41.35015106201172', '2484.0349094725366'),\n",
       " 'LBR': ('Liberia', 'Africa', '3.948124885559082', '786.6702306741524'),\n",
       " 'LSO': ('Lesotho', 'Africa', '2.040550947189331', '2432.7976546880823'),\n",
       " 'MAR': ('Morocco', 'Africa', '32.409637451171875', '6421.937677907418'),\n",
       " 'MDG': ('Madagascar', 'Africa', '21.151639938354492', '1459.9156124535612'),\n",
       " 'MLI': ('Mali', 'Africa', '15.075084686279297', '1873.2809618195865'),\n",
       " 'MOZ': ('Mozambique', 'Africa', '24.221405029296875', '969.2307622526259'),\n",
       " 'MRT': ('Mauritania', 'Africa', '3.6095430850982666', '3082.647028528842'),\n",
       " 'MUS': ('Mauritius', 'Africa', '1.2479549646377563', '15178.325920597827'),\n",
       " 'MWI': ('Malawi', 'Africa', '15.167095184326172', '972.0456815116237'),\n",
       " 'NAM': ('Namibia', 'Africa', '2.1731700897216797', '7689.171239820006'),\n",
       " 'NER': ('Niger', 'Africa', '16.42557716369629', '845.8693682212395'),\n",
       " 'NGA': ('Nigeria', 'Africa', '158.57826232910156', '5186.304307542348'),\n",
       " 'RWA': ('Rwanda', 'Africa', '10.246842384338379', '1379.6993252327009'),\n",
       " 'SDN': ('Sudan', 'Africa', '34.385963439941406', '3608.7856176907358'),\n",
       " 'SEN': ('Senegal', 'Africa', '12.916229248046875', '2741.121456198507'),\n",
       " 'SLE': ('Sierra Leone', 'Africa', '6.4587202072143555', '1161.8796942144647'),\n",
       " 'SWZ': ('Swaziland', 'Africa', '1.2028429508209229', '7042.524359035093'),\n",
       " 'SYC': ('Seychelles', 'Africa', '0.0914049968123436', '17960.353075613308'),\n",
       " 'TCD': ('Chad', 'Africa', '11.887202262878418', '1880.3748762799714'),\n",
       " 'TGO': ('Togo', 'Africa', '6.5029520988464355', '1222.8150529133295'),\n",
       " 'TUN': ('Tunisia', 'Africa', '10.639930725097656', '10647.834980284626'),\n",
       " 'TZA': ('Tanzania', 'Africa', '44.82893753051758', '1979.1718644815185'),\n",
       " 'UGA': ('Uganda', 'Africa', '33.91513442993164', '1723.5943355766267'),\n",
       " 'ZAF': ('South Africa', 'Africa', '51.58466339111328', '11388.640515995063'),\n",
       " 'ZMB': ('Zambia', 'Africa', '13.850032806396484', '2870.8872656342314'),\n",
       " 'ZWE': ('Zimbabwe', 'Africa', '14.08631706237793', '1479.0305839163732'),\n",
       " 'ARE': ('United Arab Emirates',\n",
       "  'Asia',\n",
       "  '8.270684242248535',\n",
       "  '59707.412565389604'),\n",
       " 'ARM': ('Armenia', 'Asia', '2.8773109912872314', '8222.945234202914'),\n",
       " 'AZE': ('Azerbaijan', 'Asia', '9.03245735168457', '12947.102198682365'),\n",
       " 'BGD': ('Bangladesh', 'Asia', '152.14910888671875', '2411.1020691099325'),\n",
       " 'BHR': ('Bahrain', 'Asia', '1.2408620119094849', '37045.81310919623'),\n",
       " 'BRN': ('Brunei', 'Asia', '0.3886620104312897', '67320.89957245934'),\n",
       " 'BTN': ('Bhutan', 'Asia', '0.7276409864425659', '7235.18974818538'),\n",
       " 'CHN': ('China', 'Asia', '1359.755126953125', '9337.290772677254'),\n",
       " 'CYP': ('Cyprus', 'Asia', '0.829446017742157', '28046.373877741087'),\n",
       " 'GEO': ('Georgia', 'Asia', '4.231660842895508', '7966.602756952667'),\n",
       " 'HKG': ('Hong Kong', 'Asia', '7.02522087097168', '41687.946418899235'),\n",
       " 'IND': ('India', 'Asia', '1230.980712890625', '4357.0597360582315'),\n",
       " 'IRN': ('Iran', 'Asia', '74.56751251220703', '17328.457882894658'),\n",
       " 'IRQ': ('Iraq', 'Asia', '30.7627010345459', '9344.543768350652'),\n",
       " 'ISR': ('Israel', 'Asia', '7.42595911026001', '28638.9037385305'),\n",
       " 'JOR': ('Jordan', 'Asia', '7.182390213012695', '9351.387283068141'),\n",
       " 'JPN': ('Japan', 'Asia', '128.5518798828125', '36595.63364058582'),\n",
       " 'KAZ': ('Kazakhstan', 'Asia', '16.398975372314453', '17908.83993251286'),\n",
       " 'KGZ': ('Kyrgyzstan', 'Asia', '5.422337055206299', '3382.4639059259293'),\n",
       " 'KHM': ('Cambodia', 'Asia', '14.30873966217041', '2330.127207632253'),\n",
       " 'KOR': ('South Korea', 'Asia', '49.5528564453125', '31589.705161145695'),\n",
       " 'KWT': ('Kuwait', 'Asia', '2.9980831146240234', '67029.51680017101'),\n",
       " 'LAO': ('Laos', 'Asia', '6.246273994445801', '4316.969858587265'),\n",
       " 'LBN': ('Lebanon', 'Asia', '4.337141036987305', '18025.24893894264'),\n",
       " 'LKA': ('Sri Lanka', 'Asia', '20.198352813720703', '8390.429701766443'),\n",
       " 'MAC': ('Macau', 'Asia', '0.536969006061554', '91982.39517540816'),\n",
       " 'MDV': ('Maldives', 'Asia', '0.36451101303100586', '12140.803390739566'),\n",
       " 'MMR': ('Burma', 'Asia', '50.1558952331543', '3422.241340266976'),\n",
       " 'MNG': ('Mongolia', 'Asia', '2.7126500606536865', '7670.714034382584'),\n",
       " 'MYS': ('Malaysia', 'Asia', '28.112289428710938', '17913.164410782432'),\n",
       " 'NPL': ('Nepal', 'Asia', '27.023136138916016', '1996.1961554516242'),\n",
       " 'OMN': ('Oman', 'Asia', '3.0414600372314453', '40472.674942509126'),\n",
       " 'PAK': ('Pakistan', 'Asia', '170.5601806640625', '4171.416562353057'),\n",
       " 'PHL': ('Philippines', 'Asia', '93.72662353515625', '5391.233965240031'),\n",
       " 'QAT': ('Qatar', 'Asia', '1.7796759605407715', '123128.40152283433'),\n",
       " 'SAU': ('Saudi Arabia', 'Asia', '27.425676345825195', '42331.65885721999'),\n",
       " 'SGP': ('Singapore', 'Asia', '5.074252128601074', '58618.43503468222'),\n",
       " 'SYR': ('Syria', 'Asia', '21.01883316040039', '5700.329438992399'),\n",
       " 'THA': ('Thailand', 'Asia', '67.20880889892578', '12496.244186726299'),\n",
       " 'TJK': ('Tajikistan', 'Asia', '7.641630172729492', '2784.5145587763627'),\n",
       " 'TKM': ('Turkmenistan', 'Asia', '5.087210178375244', '16061.429412691556'),\n",
       " 'TUR': ('Turkey', 'Asia', '72.32691192626953', '17930.678781392427'),\n",
       " 'TWN': ('Taiwan', 'Asia', '23.140947341918945', '37188.89452901009'),\n",
       " 'UZB': ('Uzbekistan', 'Asia', '28.606294631958008', '6574.51672506692'),\n",
       " 'VNM': ('Vietnam', 'Asia', '88.4725112915039', '4428.42140209062'),\n",
       " 'YEM': ('Yemen', 'Asia', '23.606779098510742', '4553.557258443674'),\n",
       " 'ALB': ('Albania', 'Europe', '2.9405250549316406', '9544.73991912729'),\n",
       " 'AUT': ('Austria', 'Europe', '8.40994930267334', '40489.80635849457'),\n",
       " 'BEL': ('Belgium', 'Europe', '10.938738822937012', '38177.94724875522'),\n",
       " 'BGR': ('Bulgaria', 'Europe', '7.404590129852295', '14906.784964031736'),\n",
       " 'BIH': ('Bosnia and Herzegovina',\n",
       "  'Europe',\n",
       "  '3.7220840454101562',\n",
       "  '9049.364732987471'),\n",
       " 'BLR': ('Belarus', 'Europe', '9.473071098327637', '16457.02937904922'),\n",
       " 'CHE': ('Switzerland', 'Europe', '7.831971168518066', '55688.020214268225'),\n",
       " 'CZE': ('Czech Republic',\n",
       "  'Europe',\n",
       "  '10.536286354064941',\n",
       "  '26129.56935189834'),\n",
       " 'DEU': ('Germany', 'Europe', '80.89478302001953', '40627.23054942445'),\n",
       " 'DNK': ('Denmark', 'Europe', '5.554843902587891', '43416.22338615916'),\n",
       " 'ESP': ('Spain', 'Europe', '46.788631439208984', '31610.980157042286'),\n",
       " 'EST': ('Estonia', 'Europe', '1.3321019411087036', '20265.572596704937'),\n",
       " 'FIN': ('Finland', 'Europe', '5.365781784057617', '38394.06158150017'),\n",
       " 'FRA': ('France', 'Europe', '65.14578247070312', '35786.16161450548'),\n",
       " 'GBR': ('United Kingdom', 'Europe', '63.30684280395508', '34810.28120173958'),\n",
       " 'GRC': ('Greece', 'Europe', '11.446004867553711', '25815.80076797162'),\n",
       " 'HRV': ('Croatia', 'Europe', '4.328153133392334', '19305.008088868373'),\n",
       " 'HUN': ('Hungary', 'Europe', '9.927840232849121', '20477.79856764035'),\n",
       " 'IRL': ('Ireland', 'Europe', '4.626927852630615', '47823.50815113634'),\n",
       " 'ISL': ('Iceland', 'Europe', '0.3203279972076416', '37729.01607603124'),\n",
       " 'ITA': ('Italy', 'Europe', '59.72980880737305', '34727.67268834705'),\n",
       " 'LTU': ('Lithuania', 'Europe', '3.123802900314331', '18475.371145517096'),\n",
       " 'LUX': ('Luxembourg', 'Europe', '0.5078889727592468', '57882.81020537233'),\n",
       " 'LVA': ('Latvia', 'Europe', '2.1188480854034424', '16943.688322829523'),\n",
       " 'MDA': ('Moldova', 'Europe', '4.0844807624816895', '4173.634753274572'),\n",
       " 'MKD': ('Macedonia', 'Europe', '2.0707390308380127', '11265.643175619889'),\n",
       " 'MLT': ('Malta', 'Europe', '0.41611000895500183', '22983.44992639125'),\n",
       " 'MNE': ('Montenegro', 'Europe', '0.6242849826812744', '14960.94855221103'),\n",
       " 'NLD': ('Netherlands', 'Europe', '16.68291664123535', '44004.146024770846'),\n",
       " 'NOR': ('Norway', 'Europe', '4.885878086090088', '73262.68174170727'),\n",
       " 'POL': ('Poland', 'Europe', '38.323402404785156', '21006.027309294514'),\n",
       " 'PRT': ('Portugal', 'Europe', '10.652320861816406', '25788.2739652247'),\n",
       " 'ROU': ('Romania', 'Europe', '20.44034767150879', '16775.609043478133'),\n",
       " 'RUS': ('Russia', 'Europe', '143.15386962890625', '21754.067899615977'),\n",
       " 'SRB': ('Serbia', 'Europe', '7.291436195373535', '12453.482551916944'),\n",
       " 'SVK': ('Slovakia', 'Europe', '5.404294013977051', '23061.12099058148'),\n",
       " 'SVN': ('Slovenia', 'Europe', '2.045167922973633', '25831.33128718208'),\n",
       " 'SWE': ('Sweden', 'Europe', '9.390168190002441', '40421.906436576974'),\n",
       " 'UKR': ('Ukraine', 'Europe', '45.79249954223633', '8713.259627419637'),\n",
       " 'ABW': ('Aruba', 'North America', '0.10166899859905243', '37059.34143869512'),\n",
       " 'AIA': ('Anguilla',\n",
       "  'North America',\n",
       "  '0.013768999837338924',\n",
       "  '21098.057152999143'),\n",
       " 'ATG': ('Antigua and Barbuda',\n",
       "  'North America',\n",
       "  '0.09466099739074707',\n",
       "  '17162.16102781353'),\n",
       " 'BHS': ('Bahamas',\n",
       "  'North America',\n",
       "  '0.36083200573921204',\n",
       "  '29504.581346144332'),\n",
       " 'BLZ': ('Belize', 'North America', '0.3216080069541931', '7145.952547655193'),\n",
       " 'BMU': ('Bermuda',\n",
       "  'North America',\n",
       "  '0.06395599991083145',\n",
       "  '51447.147481910884'),\n",
       " 'BRB': ('Barbados',\n",
       "  'North America',\n",
       "  '0.27956900000572205',\n",
       "  '13995.612896540895'),\n",
       " 'CAN': ('Canada', 'North America', '34.16866683959961', '40269.03526728651'),\n",
       " 'CRI': ('Costa Rica',\n",
       "  'North America',\n",
       "  '4.5452799797058105',\n",
       "  '12106.99191566891'),\n",
       " 'CUW': ('Curaçao',\n",
       "  'North America',\n",
       "  '0.14760799705982208',\n",
       "  '24337.816177887613'),\n",
       " 'CYM': ('Cayman Islands',\n",
       "  'North America',\n",
       "  '0.05550700053572655',\n",
       "  '36670.678481483985'),\n",
       " 'DMA': ('Dominica',\n",
       "  'North America',\n",
       "  '0.07143999636173248',\n",
       "  '9101.993729581038'),\n",
       " 'DOM': ('Dominican Republic',\n",
       "  'North America',\n",
       "  '9.897985458374023',\n",
       "  '11500.13134401987'),\n",
       " 'GRD': ('Grenada',\n",
       "  'North America',\n",
       "  '0.1046769991517067',\n",
       "  '9791.291133092265'),\n",
       " 'GTM': ('Guatemala',\n",
       "  'North America',\n",
       "  '14.630416870117188',\n",
       "  '6359.262684615136'),\n",
       " 'HND': ('Honduras',\n",
       "  'North America',\n",
       "  '8.194778442382812',\n",
       "  '3789.9102248753848'),\n",
       " 'HTI': ('Haiti', 'North America', '9.999616622924805', '1650.2697128700804'),\n",
       " 'JAM': ('Jamaica',\n",
       "  'North America',\n",
       "  '2.8172099590301514',\n",
       "  '6675.176956450172'),\n",
       " 'KNA': ('Saint Kitts and Nevis',\n",
       "  'North America',\n",
       "  '0.05144499987363815',\n",
       "  '17837.349758162076'),\n",
       " 'LCA': ('Saint Lucia',\n",
       "  'North America',\n",
       "  '0.17258000373840332',\n",
       "  '9178.266990673521'),\n",
       " 'MEX': ('Mexico',\n",
       "  'North America',\n",
       "  '117.31893920898438',\n",
       "  '14507.011923865603'),\n",
       " 'MSR': ('Montserrat',\n",
       "  'North America',\n",
       "  '0.00494399992749095',\n",
       "  '15385.002991478228'),\n",
       " 'NIC': ('Nicaragua',\n",
       "  'North America',\n",
       "  '5.737722873687744',\n",
       "  '3992.7619078961748'),\n",
       " 'PAN': ('Panama',\n",
       "  'North America',\n",
       "  '3.6432220935821533',\n",
       "  '15055.237591848218'),\n",
       " 'SLV': ('El Salvador',\n",
       "  'North America',\n",
       "  '6.164626121520996',\n",
       "  '6096.958357099287'),\n",
       " 'TCA': ('Turks and Caicos Islands',\n",
       "  'North America',\n",
       "  '0.030993999913334846',\n",
       "  '7230.966074605446'),\n",
       " 'TTO': ('Trinidad and Tobago',\n",
       "  'North America',\n",
       "  '1.3280999660491943',\n",
       "  '27510.236190041924'),\n",
       " 'USA': ('United States',\n",
       "  'North America',\n",
       "  '308.6413879394531',\n",
       "  '49500.62628346238'),\n",
       " 'VCT': ('Saint Vincent and the Grenadines',\n",
       "  'North America',\n",
       "  '0.10931500047445297',\n",
       "  '8095.21923068351'),\n",
       " 'VGB': ('British Virgin Islands',\n",
       "  'North America',\n",
       "  '0.027224000543355942',\n",
       "  '21183.279165646647'),\n",
       " 'AUS': ('Australia', 'Oceania', '22.12006378173828', '44854.90004866657'),\n",
       " 'FJI': ('Fiji', 'Oceania', '0.8599500060081482', '6902.0687720944225'),\n",
       " 'NZL': ('New Zealand', 'Oceania', '4.370061874389648', '30867.05437525178'),\n",
       " 'ARG': ('Argentina',\n",
       "  'South America',\n",
       "  '41.2238883972168',\n",
       "  '15841.658208158999'),\n",
       " 'BOL': ('Bolivia', 'South America', '9.918242454528809', '4806.608983377068'),\n",
       " 'BRA': ('Brazil', 'South America', '196.7962646484375', '13541.462561602328'),\n",
       " 'CHL': ('Chile', 'South America', '16.99335479736328', '18092.94007371081')}"
      ]
     },
     "execution_count": 27,
     "metadata": {},
     "output_type": "execute_result"
    }
   ],
   "source": [
    "cData = {}\n",
    "# Here we need to be careful because the first row of our data is the header.\n",
    "# So we need to skip it\n",
    "for row in raw[1:]:\n",
    "    iso_code = row[0].upper()\n",
    "    data = tuple(row[1:5])\n",
    "    cData[iso_code] = data\n",
    "\n",
    "cData "
   ]
  },
  {
   "cell_type": "markdown",
   "metadata": {},
   "source": [
    "**14**: Using *cData*, identify what is the most common Continent among the nations in the list *countries*."
   ]
  },
  {
   "cell_type": "code",
   "execution_count": 28,
   "metadata": {},
   "outputs": [
    {
     "data": {
      "text/plain": [
       "'Europe'"
      ]
     },
     "execution_count": 28,
     "metadata": {},
     "output_type": "execute_result"
    }
   ],
   "source": [
    "# We're using constants here just to make the code more readable.\n",
    "COUNTRY_ISO_CODE_INDEX = 0\n",
    "C_DATA_CONTINENT_INDEX = 1\n",
    "C_DATA_POPULATION_INDEX = 2\n",
    "C_DATA_COUNTRY_NAME_INDEX = 0\n",
    "C_DATA_GPD_INDEX = 3\n",
    "\n",
    "continent_counts = {}\n",
    "\n",
    "# Here we have two options, the first one is to create temporary variables to store the most common continent and use it\n",
    "# for each iteration. The second one is use the loop just to compute the dict and then use the max function to get the\n",
    "# continent with the highest count. We'll use the second approach here.\n",
    "for country in countries:\n",
    "    country_data = cData.get(country[COUNTRY_ISO_CODE_INDEX])\n",
    "    if country_data:\n",
    "        continent = country_data[C_DATA_CONTINENT_INDEX]\n",
    "        if continent not in continent_counts:\n",
    "            continent_counts[continent] = 0\n",
    "        continent_counts[continent] += 1\n",
    "\n",
    "max(continent_counts.items(), key=lambda x: x[1])[0]"
   ]
  },
  {
   "cell_type": "markdown",
   "metadata": {},
   "source": [
    "**15**: Using *cData*, identify what is the the most populated nation in the list *countries*."
   ]
  },
  {
   "cell_type": "code",
   "execution_count": 29,
   "metadata": {},
   "outputs": [
    {
     "name": "stdout",
     "output_type": "stream",
     "text": [
      "The most populated nation is Russia\n"
     ]
    }
   ],
   "source": [
    "highest_population = 0\n",
    "country_with_highest_population = None\n",
    "\n",
    "for country in countries:\n",
    "    country_data = cData.get(country[COUNTRY_ISO_CODE_INDEX])\n",
    "    if country_data:\n",
    "        population = float(country_data[C_DATA_POPULATION_INDEX])\n",
    "        if population > highest_population:\n",
    "            highest_population = population\n",
    "            country_with_highest_population = country_data[C_DATA_COUNTRY_NAME_INDEX]\n",
    "\n",
    "print(f\"The most populated nation is {country_with_highest_population}\")\n"
   ]
  },
  {
   "cell_type": "markdown",
   "metadata": {},
   "source": [
    "**16**: Compare the average GDP per capita of the nations in the list *countries* with the average GDP of the countries in cdata file. What can you conclude?"
   ]
  },
  {
   "cell_type": "code",
   "execution_count": 30,
   "metadata": {},
   "outputs": [
    {
     "name": "stdout",
     "output_type": "stream",
     "text": [
      "Average GPD in countries list: 38242.63072863724\n",
      "Average GPD in cData: 18014.65454394603\n"
     ]
    }
   ],
   "source": [
    "# Esse ta incompleto ainda... Nada faz sentido e é melhor esperar para confirmar com o professor durante a aula\n",
    "total_gpd_countries = 0\n",
    "total_countries_found = 0\n",
    "\n",
    "for country in countries:\n",
    "    country_data = cData.get(country[COUNTRY_ISO_CODE_INDEX])\n",
    "    if country_data:\n",
    "        total_gpd_countries += float(country_data[C_DATA_GPD_INDEX])\n",
    "        total_countries_found += 1\n",
    "\n",
    "average_gpd_countries = total_gpd_countries / total_countries_found\n",
    "\n",
    "total_gpd_cdata = 0\n",
    "for row in cData.values():\n",
    "    total_gpd_cdata += float(row[C_DATA_GPD_INDEX])\n",
    "\n",
    "average_gpd_cdata = total_gpd_cdata / len(cData.values())\n",
    "print(f\"Average GPD in countries list: {average_gpd_countries}\")\n",
    "print(f\"Average GPD in cData: {average_gpd_cdata}\")"
   ]
  },
  {
   "cell_type": "markdown",
   "metadata": {},
   "source": [
    "We can conclude that the average GDP in cData is less than the average GDP in countries list.\n",
    "\n",
    "If we check the two datasets, we'll see that, although the cData contains a lot of outliers pushing the average up, there are also a lot of countries that have a very poor GDP.\n",
    "\n",
    "This the inverse of the countries list, which almost all countries have a higher GDP if comparing the the countries contained in the cData list.\n",
    "For example: in the countries data, the lowest GDP (Russia with 21754.068) have the GDP close to the 75% quantile of cData (21033,63)."
   ]
  },
  {
   "cell_type": "markdown",
   "metadata": {},
   "source": [
    "# <span style=\"color:brown\"> Part 3 - Functions hurt nobody </span>\n",
    "\n",
    "## Exercise I - I hate math\n",
    "\n",
    "##### Consider the following equation:\n",
    "\n",
    "\\begin{equation}\n",
    "    y = 6x^2 + 3x + 2\n",
    "\\end{equation}\n",
    "\n",
    "**17**: Write a function called *f* that takes one argument, x, and returns y according to the equation above. "
   ]
  },
  {
   "cell_type": "code",
   "execution_count": 31,
   "metadata": {},
   "outputs": [],
   "source": [
    "def f (x):\n",
    "    y = (6 * x **2) + (3 * x) + 2\n",
    "    return y"
   ]
  },
  {
   "cell_type": "markdown",
   "metadata": {},
   "source": [
    "**17.1**: Call the function for x = 2 and print the answer."
   ]
  },
  {
   "cell_type": "code",
   "execution_count": 32,
   "metadata": {},
   "outputs": [
    {
     "data": {
      "text/plain": [
       "32"
      ]
     },
     "execution_count": 32,
     "metadata": {},
     "output_type": "execute_result"
    }
   ],
   "source": [
    "f(2)"
   ]
  },
  {
   "cell_type": "markdown",
   "metadata": {},
   "source": [
    "##### Consider the following sequence of numbers:\n",
    "\n",
    "\\begin{equation}\n",
    "    x_0 = 0; ~~~ ~~~ ~~~ ~~ ~~~ ~~~ ~~~ ~~~ ~~~ ~~~ ~~~ ~~ ~~~ ~~~ ~~~ ~~ ~~~ ~~~ ~~~ ~~ ~ ~~~ ~~~ ~~~ ~~ ~~~ ~~~ ~~~ ~~ ~~~ ~~~ ~~~ ~~ ~~~ ~~~ ~~~ ~~ \\\\\n",
    "    x_{n} = x_{n-1} - n; ~~~ \\textit{ if} ~~~ x_{n-1}-n > 0 ~~~ \\textit{ and is not already in the sequence}\\\\\n",
    "    x_{n} = x_{n-1} + n; ~~~ \\textit{ otherwise} ~~~ ~~~ ~~~ ~~~ ~~ ~~~ ~~~ ~~~ ~~~ ~~~ ~ ~~~ ~~~ ~~~ ~~~ ~~~ ~~~ ~ ~~~ ~~~ ~~~~ ~~~ ~~~ ~~~ ~ \\\\\n",
    "\\end{equation}\n",
    "\n",
    "**17.2**: Write a function that returns the nth digit of the above defined sequence. <br>\n",
    "\n",
    "*Note: the above sequence is also known as the Recamán's sequence, and it was invnted by Bernardo Recamán Santos (Bogotá, Colombia)*"
   ]
  },
  {
   "cell_type": "code",
   "execution_count": 33,
   "metadata": {
    "ExecuteTime": {
     "end_time": "2023-09-27T17:58:18.414941Z",
     "start_time": "2023-09-27T17:58:18.405291Z"
    }
   },
   "outputs": [],
   "source": [
    "def Recaman(n):\n",
    "    sequence = [0] # The first element is zero by definition\n",
    "\n",
    "    for i in range(1, n): # Iterate skipping the first element\n",
    "        next_element = sequence[i-1] - i\n",
    "        \n",
    "        if next_element > 0 and next_element not in sequence:\n",
    "            next_element = next_element # This is dummy, but we need it to make the python interpreter happy\n",
    "        else:\n",
    "            next_element = sequence[-1] + i\n",
    "\n",
    "        sequence.append(next_element)\n",
    "\n",
    "    return sequence"
   ]
  },
  {
   "cell_type": "code",
   "execution_count": 34,
   "metadata": {
    "ExecuteTime": {
     "end_time": "2023-09-27T17:57:28.786829Z",
     "start_time": "2023-09-27T17:57:28.757730Z"
    }
   },
   "outputs": [
    {
     "data": {
      "text/plain": [
       "[0, 1, 3, 6, 2, 7, 13, 20, 12, 21]"
      ]
     },
     "execution_count": 34,
     "metadata": {},
     "output_type": "execute_result"
    }
   ],
   "source": [
    "Recaman(10)"
   ]
  },
  {
   "cell_type": "markdown",
   "metadata": {},
   "source": [
    "**17.3** Write a function named isPrime that takes an integer as input and outputs True if the number is prime and False if the number if not prime."
   ]
  },
  {
   "cell_type": "code",
   "execution_count": 35,
   "metadata": {
    "ExecuteTime": {
     "end_time": "2023-09-27T17:46:28.075579Z",
     "start_time": "2023-09-27T17:46:28.061057Z"
    }
   },
   "outputs": [],
   "source": [
    "def isPrime(integer):\n",
    "    #A number is prime when it is possible to divide it by 1 and itself.\n",
    "    if integer <= 1: \n",
    "        return False\n",
    "    for count in range(2, integer): #(2, integer-1)\n",
    "        if integer % count == 0: # count is divisible by integer, which would indicate that num is not a prime number.\n",
    "            return False\n",
    "    return True # divisible by itself"
   ]
  },
  {
   "cell_type": "markdown",
   "metadata": {},
   "source": [
    "**17.4** Test your function against some examples to show that it works as expected."
   ]
  },
  {
   "cell_type": "code",
   "execution_count": 36,
   "metadata": {},
   "outputs": [
    {
     "data": {
      "text/plain": [
       "True"
      ]
     },
     "execution_count": 36,
     "metadata": {},
     "output_type": "execute_result"
    }
   ],
   "source": [
    "integer = 643\n",
    "isPrime(integer)"
   ]
  },
  {
   "cell_type": "markdown",
   "metadata": {},
   "source": [
    "## Exercise II - Monty Hall Problem\n"
   ]
  },
  {
   "cell_type": "markdown",
   "metadata": {},
   "source": [
    "**18**: The Monty Hall Problem is a probability puzzle loosely based on the American television game show \"Let's Make a Deal\" and named after its original host, Monty Hall. The puzzle can be stated as follows\n",
    "\n",
    "> Suppose you're on a game show, and you're given the choice of three doors: Behind one door is a car; behind the others, goats. You pick a door, say No. 1, and the host, who knows what's behind the doors, opens another door, say No. 3, which has a goat. He then says to you, \"Do you want to pick door No. 2?\" Is it to your advantage to switch your choice? <br>\n",
    "+info: https://en.wikipedia.org/wiki/Monty_Hall_problem\n",
    "\n",
    "While intuitively your guess might be that the chances of winning the car is 1/3 independently of the choice to switch doors or not. Howewver, the odds of winning if you switch doors are 2/3 and greater than if you decide not to switch. While there are theoretical solutions to this problem that allow us to estimate the correct odds of winning in each scenario -- switching or not doors -- an alternative way to proof such outcome is through computer simulations. That is the goal of this exercise, to write the necessary components to simulate the Monty Hall problem and validate the theoretical results through simulations.\n",
    "\n",
    "In this exercise, start by implementing a function that simulates one instance of the Monty Hall problem. \n",
    "In that sense, write a function called MontyHall that accepts **one argument**:\n",
    "- A boolean (True/False, or 1/0) that specifies if the player switches doors or not (after the host has opened his door, which contains a goat).\n",
    "The function should return True if the player wins the car or False if not.\n",
    "\n",
    "Naturally, for the function to reproduce the contest it needs to consider and perform some actions, such as:\n",
    "- Set up the game, that is, create the necessary variables to store the information about three doors and what they have behind, as well as an indicator to track the choice of the player.\n",
    "- Given the initial choice of the player, simulate the opening of one of the two remaining doors that contains a goat.\n",
    "- Given the last two doors left, simulate if the player wants to switch or not his/her choice given their strategy (defined by the input boolean argument of the function).\n",
    "- Output the result, if the contestant correctly guesses which door hides the car or if not.\n",
    "\n",
    "The function MontyHall should simulate one instance of the contest given the choice of the player (to switch or not).\n",
    "\n",
    "**The goal is to understand, statistically, which action leads to the highest probability of winning.** <br>\n",
    "*Note: You should use the library random to solve this exercise.*"
   ]
  },
  {
   "cell_type": "code",
   "execution_count": 37,
   "metadata": {
    "ExecuteTime": {
     "end_time": "2023-09-27T17:39:41.249348Z",
     "start_time": "2023-09-27T17:39:41.238239Z"
    }
   },
   "outputs": [],
   "source": [
    "import random\n",
    "\n",
    "def MontyHall (change_door): # true if changes door or false if not\n",
    "    doors = [False, False, False]\n",
    "    price_position = random.randint(0, 2) # index of the price (car)\n",
    "    doors[price_position] = True\n",
    "\n",
    "    door_selected = random.randint(0, 2) # door chosen by the player\n",
    "    if not change_door:\n",
    "        return doors[door_selected]\n",
    "\n",
    "    # Here we're getting the possible goat positions that the host can open, it cannot be the same as the price position or the\n",
    "    # already chosen door position\n",
    "    goat_positions = [idx for idx, value in enumerate(doors) if idx not in[price_position, door_selected]]\n",
    "    door_opened_by_host = random.choice(goat_positions)\n",
    "    \n",
    "    # We're selection the door that is different from the one that was opened by the host and also different from the selected before\n",
    "    door_selected = [idx for idx, value in enumerate(doors) if idx not in [door_opened_by_host, door_selected]]\n",
    "\n",
    "    return door_selected[0] == price_position"
   ]
  },
  {
   "cell_type": "code",
   "execution_count": null,
   "metadata": {
    "ExecuteTime": {
     "end_time": "2023-09-27T17:39:42.253478Z",
     "start_time": "2023-09-27T17:39:42.248744Z"
    }
   },
   "outputs": [],
   "source": []
  },
  {
   "cell_type": "markdown",
   "metadata": {},
   "source": [
    "**18.1** Now that you have a function that simulates an instance of the Monty Hall problem, implement an experiment where you repeat many times (thousands of times) for each of the two possible scenarios: player switching the door, and player not switcing the door. Keep track of the results and estimate the frequencies of wins for each scenario and discuss if the results are inline with the theoretical odds."
   ]
  },
  {
   "cell_type": "code",
   "execution_count": 38,
   "metadata": {
    "ExecuteTime": {
     "end_time": "2023-09-27T17:43:05.344002Z",
     "start_time": "2023-09-27T17:43:05.323008Z"
    }
   },
   "outputs": [
    {
     "name": "stdout",
     "output_type": "stream",
     "text": [
      "The frequencies of wins when player doesn't change door is 3398 ( 33.98 %)\n",
      "The frequencies of wins when player changes door is 6671 ( 66.71000000000001 %)\n"
     ]
    }
   ],
   "source": [
    "results_function_false = []\n",
    "results_function_true = []\n",
    "\n",
    "TEST_TIMES = 10000\n",
    "for result in range(TEST_TIMES): #test 100 times\n",
    "    result = MontyHall(False)\n",
    "    results_function_false.append(result)\n",
    "filtered_wins_false = list(filter(lambda x : x == True, results_function_false)) # filters the wins when the player doen't change door\n",
    "percentage_of_wins = len(filtered_wins_false) / TEST_TIMES * 100\n",
    "print(\"The frequencies of wins when player doesn't change door is\", len(filtered_wins_false), \"(\", percentage_of_wins, \"%)\")\n",
    "\n",
    "for result in range(TEST_TIMES):\n",
    "    result = MontyHall(True)\n",
    "    results_function_true.append(result)\n",
    "filtered_wins_true = list(filter(lambda x : x == True, results_function_true)) # filters the wins when the player changes door\n",
    "percentage_of_wins = len(filtered_wins_true) / TEST_TIMES * 100\n",
    "print(\"The frequencies of wins when player changes door is\", len(filtered_wins_true), \"(\", percentage_of_wins ,\"%)\")"
   ]
  },
  {
   "cell_type": "markdown",
   "metadata": {},
   "source": [
    "## Exercise III\n",
    "\n",
    "**19**: Consider the list *A*, declared below. <br>\n",
    "Use the function map() to change the values of A by adding 1 to each value if it is even and subtracting 1 to it otherwise."
   ]
  },
  {
   "cell_type": "code",
   "execution_count": 39,
   "metadata": {
    "ExecuteTime": {
     "end_time": "2023-09-27T17:44:13.789051Z",
     "start_time": "2023-09-27T17:44:13.783662Z"
    }
   },
   "outputs": [],
   "source": [
    "A = [460,3347,3044,490,699,1258,1804,973,2223,3416,2879,1058,2915,2422,351,1543,1020,208,643,795,3337,2585,471,2623,1077]"
   ]
  },
  {
   "cell_type": "code",
   "execution_count": 40,
   "metadata": {
    "ExecuteTime": {
     "end_time": "2023-09-27T17:44:14.682905Z",
     "start_time": "2023-09-27T17:44:14.666883Z"
    }
   },
   "outputs": [
    {
     "name": "stdout",
     "output_type": "stream",
     "text": [
      "[461, 3346, 3045, 491, 698, 1259, 1805, 972, 2222, 3417, 2878, 1059, 2914, 2423, 350, 1542, 1021, 209, 642, 794, 3336, 2584, 470, 2622, 1076]\n"
     ]
    }
   ],
   "source": [
    "def f_add(integer):\n",
    "    if integer % 2 == 0: # function that verify if an integer is prime or not.\n",
    "        return integer + 1\n",
    "    else: \n",
    "        return integer - 1\n",
    "\n",
    "add_function = list(map(f_add, A)) # interate with each value of the list A and verify the condictions in f_add\n",
    "print(add_function)"
   ]
  },
  {
   "cell_type": "markdown",
   "metadata": {},
   "source": [
    "**20**: Create a list B with the same size of A, where each element is True if the associated value in list A is greater than 700, else is False."
   ]
  },
  {
   "cell_type": "code",
   "execution_count": 41,
   "metadata": {
    "ExecuteTime": {
     "end_time": "2023-09-27T17:44:50.500301Z",
     "start_time": "2023-09-27T17:44:50.488536Z"
    }
   },
   "outputs": [
    {
     "name": "stdout",
     "output_type": "stream",
     "text": [
      "[False, True, True, False, False, True, True, True, True, True, True, True, True, True, False, True, True, False, False, True, True, True, False, True, True]\n"
     ]
    }
   ],
   "source": [
    "B = []\n",
    "\n",
    "for value in A: # for each value in A verify the following condictions\n",
    "    if value > 700:\n",
    "        B.append(True)\n",
    "    else:\n",
    "        B.append(False)\n",
    "print(B)"
   ]
  },
  {
   "cell_type": "markdown",
   "metadata": {},
   "source": [
    "**21**: Create a list L that contains the Logarithm of base 10 of each value in A. <br>\n",
    "\n",
    "*Note: You should use the module math to solve this exercise.*"
   ]
  },
  {
   "cell_type": "code",
   "execution_count": 42,
   "metadata": {
    "ExecuteTime": {
     "end_time": "2023-09-27T17:45:21.732097Z",
     "start_time": "2023-09-27T17:45:21.727649Z"
    }
   },
   "outputs": [
    {
     "name": "stdout",
     "output_type": "stream",
     "text": [
      "[2.662757831681574, 3.5246557123577773, 3.4834446480985353, 2.690196080028514, 2.8444771757456815, 3.09968064110925, 3.256236533205923, 2.988112840268352, 3.3469394626989906, 3.5335178620169674, 3.459241664878082, 3.024485667699167, 3.464638559095033, 3.3841741388070337, 2.545307116465824, 3.188365926063148, 3.0086001717619175, 2.3180633349627615, 2.808210972924222, 2.9003671286564705, 3.5233562066547925, 3.412460547429961, 2.673020907128896, 3.4187982905903533, 3.0322157032979815]\n"
     ]
    }
   ],
   "source": [
    "L = []\n",
    "\n",
    "import math # library math functions\n",
    "\n",
    "for value in A:\n",
    "    log_A = math.log10(value) # log10 of each value in A\n",
    "    L.append(log_A) #add to list L\n",
    "print(L)"
   ]
  },
  {
   "cell_type": "markdown",
   "metadata": {},
   "source": [
    "**22**: How many numbers in A are greater than 1000? <br>\n",
    "\n",
    "*Note: You should use the function filter().*"
   ]
  },
  {
   "cell_type": "code",
   "execution_count": 43,
   "metadata": {
    "ExecuteTime": {
     "end_time": "2023-09-27T17:45:38.105901Z",
     "start_time": "2023-09-27T17:45:38.084960Z"
    }
   },
   "outputs": [
    {
     "name": "stdout",
     "output_type": "stream",
     "text": [
      "There are 16 numbers in A are greater than 1000.\n"
     ]
    }
   ],
   "source": [
    "new_A = list(filter(lambda x: x > 1000, A)) # only the values >1000 from A\n",
    "print(\"There are\", len(new_A), \"numbers in A are greater than 1000.\")"
   ]
  },
  {
   "cell_type": "markdown",
   "metadata": {},
   "source": [
    "**23** Use the function isPrime, that you declared in 17.3, to identify which numbers from A are prime. Note that depending on your implementation of isPrime this task can take more or less time. Use filter to achieve this task."
   ]
  },
  {
   "cell_type": "code",
   "execution_count": 44,
   "metadata": {
    "ExecuteTime": {
     "end_time": "2023-09-27T17:46:37.398283Z",
     "start_time": "2023-09-27T17:46:37.393745Z"
    }
   },
   "outputs": [
    {
     "name": "stdout",
     "output_type": "stream",
     "text": [
      "[3347, 2879, 1543, 643]\n"
     ]
    }
   ],
   "source": [
    "# isPrime returns true or false if a number is prime or not\n",
    "prime_A = list(filter(isPrime, A))\n",
    "print(prime_A)"
   ]
  },
  {
   "cell_type": "markdown",
   "metadata": {},
   "source": [
    "### Congratulations, it is done!"
   ]
  }
 ],
 "metadata": {
  "kernelspec": {
   "display_name": "Python 3 (ipykernel)",
   "language": "python",
   "name": "python3"
  },
  "language_info": {
   "codemirror_mode": {
    "name": "ipython",
    "version": 3
   },
   "file_extension": ".py",
   "mimetype": "text/x-python",
   "name": "python",
   "nbconvert_exporter": "python",
   "pygments_lexer": "ipython3",
   "version": "3.11.5"
  }
 },
 "nbformat": 4,
 "nbformat_minor": 4
}
