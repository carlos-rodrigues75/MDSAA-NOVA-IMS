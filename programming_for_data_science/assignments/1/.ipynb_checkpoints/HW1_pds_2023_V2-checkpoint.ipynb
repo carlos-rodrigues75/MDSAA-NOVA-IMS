{
 "cells": [
  {
   "cell_type": "markdown",
   "metadata": {},
   "source": [
    "# <span style=\"color:brown\"> Start Here </span> \n",
    "\n",
    "[Please Complete the following form with your details]\n",
    "\n",
    "Student Name - <br>\n",
    "Student id - <br>\n",
    "Contact e-mail - <br>\n",
    "\n",
    "\n",
    "Student Name - <br>\n",
    "Student id - <br>\n",
    "Contact e-mail - <br>"
   ]
  },
  {
   "cell_type": "markdown",
   "metadata": {},
   "source": [
    "# <span style=\"color:brown\"> Part 1 -  Variable Declaration and Manipulation </span> \n",
    "\n",
    "## Exercise I - of Lists and Random numbers\n",
    "\n",
    "**1**: Declare a variable X that stores a list of 100 integers randomly sampled between -100 and 100.<br>\n",
    "Note: You are not allowed to use third party libraries -- such as Numpy, Pandas, or Scipy -- in this exercise."
   ]
  },
  {
   "cell_type": "code",
   "execution_count": null,
   "metadata": {},
   "outputs": [],
   "source": []
  },
  {
   "cell_type": "markdown",
   "metadata": {},
   "source": [
    "**2**: How many odd numbers are in the list X?\n"
   ]
  },
  {
   "cell_type": "code",
   "execution_count": null,
   "metadata": {},
   "outputs": [],
   "source": []
  },
  {
   "cell_type": "markdown",
   "metadata": {},
   "source": [
    "**2.1** Check if there are as many even numbers as there are odd numbers, else discard the list and generate a new one."
   ]
  },
  {
   "cell_type": "code",
   "execution_count": null,
   "metadata": {},
   "outputs": [],
   "source": []
  },
  {
   "cell_type": "markdown",
   "metadata": {},
   "source": [
    "**2.2** Create a pipeline to automatically perform the tasks above such that you avoid having to run the cells multiple times to reach the desired outcome."
   ]
  },
  {
   "cell_type": "code",
   "execution_count": null,
   "metadata": {},
   "outputs": [],
   "source": []
  },
  {
   "cell_type": "markdown",
   "metadata": {},
   "source": [
    "**3**: Print the number of digits that the 5th and 100th element of the list have. <br>\n",
    "*Note: For instance, the number 1 contains one digit, the number 10 contains two digits, the number -2 contains one digit.*"
   ]
  },
  {
   "cell_type": "code",
   "execution_count": null,
   "metadata": {},
   "outputs": [],
   "source": []
  },
  {
   "cell_type": "markdown",
   "metadata": {},
   "source": [
    "**4**: Is the sum total of all the numbers in the list even or odd?"
   ]
  },
  {
   "cell_type": "code",
   "execution_count": null,
   "metadata": {},
   "outputs": [],
   "source": []
  },
  {
   "cell_type": "markdown",
   "metadata": {},
   "source": [
    "**5**: What is the average of the list X?"
   ]
  },
  {
   "cell_type": "code",
   "execution_count": 6,
   "metadata": {},
   "outputs": [],
   "source": []
  },
  {
   "cell_type": "markdown",
   "metadata": {},
   "source": [
    "**5.1.** What is the population standard deviation? <br>"
   ]
  },
  {
   "cell_type": "code",
   "execution_count": null,
   "metadata": {},
   "outputs": [],
   "source": []
  },
  {
   "cell_type": "markdown",
   "metadata": {},
   "source": [
    "**6**: Sort list X in descending order and store the result in variable Xsort. <br>"
   ]
  },
  {
   "cell_type": "code",
   "execution_count": null,
   "metadata": {},
   "outputs": [],
   "source": []
  },
  {
   "cell_type": "markdown",
   "metadata": {},
   "source": [
    "**6.1** Then replace each value in Xsort with index i as the sum of the values with index i-1 and i. <br> \n",
    "\n",
    "*Note: Consider that Xsort[-1] = 0.*"
   ]
  },
  {
   "cell_type": "code",
   "execution_count": null,
   "metadata": {},
   "outputs": [],
   "source": []
  },
  {
   "cell_type": "markdown",
   "metadata": {},
   "source": [
    "## Exercise II - we have a gamer in the room\n",
    "\n",
    "**7**: Consider the dictionaries  *purchases* and *clients* that are declared in the cell below. <br>\n",
    "Create a list with the names of the clients who bought more than one videogame. Print the List. <br>"
   ]
  },
  {
   "cell_type": "code",
   "execution_count": 2,
   "metadata": {},
   "outputs": [],
   "source": [
    "purchases = {\n",
    "    \n",
    "    \"1539\":\"Red dead redemption II\",\n",
    "    \"9843\":\"GTA V,FarCry 5, watchdogs II\",\n",
    "    \"8472\":\"Canis Canem Edit\",\n",
    "    \"3874\":\"Watchdogs II,South Park: The Stick of Truth\",\n",
    "    \"5783\":\"AC: The Ezio Collection, watchdogs ii\",\n",
    "    \"9823\":\"For Honor,The Forest,South Park: The Fractured but whole\"\n",
    "    \n",
    "}"
   ]
  },
  {
   "cell_type": "code",
   "execution_count": 4,
   "metadata": {},
   "outputs": [],
   "source": [
    "clients = {\n",
    "    \n",
    "    \"1539\":\"Rick Sanchez\",\n",
    "    \"9843\":\"Morty Smith\",\n",
    "    \"8472\":\"Eve Polastri\",\n",
    "    \"3874\":\"Mildred Ratched\",\n",
    "    \"5783\":\"Alex Vause\",\n",
    "    \"9823\":\"Sheldon Cooper\"\n",
    "    \n",
    "}"
   ]
  },
  {
   "cell_type": "markdown",
   "metadata": {},
   "source": [
    "**7.1** What is the name of the client that bought more videogames?\n",
    "\n",
    "*Tip: You will want to check the methods associated with string manipulation. See the link: <br>\n",
    "https://python-reference.readthedocs.io/en/latest/docs/unicode/index.html*"
   ]
  },
  {
   "cell_type": "code",
   "execution_count": null,
   "metadata": {},
   "outputs": [],
   "source": []
  },
  {
   "cell_type": "markdown",
   "metadata": {},
   "source": [
    "**7.2** What is the name of the most popular videogame?"
   ]
  },
  {
   "cell_type": "code",
   "execution_count": null,
   "metadata": {},
   "outputs": [],
   "source": []
  },
  {
   "cell_type": "markdown",
   "metadata": {},
   "source": [
    "# <span style=\"color:brown\"> Part 2 -  Data loading and analysis  </span>\n",
    "\n",
    "## Exercise I - Alice what do you have to say?\n",
    "\n",
    "**8**: Load the Alice text file into a variable called Alice. <br>\n",
    "\n",
    "*Note: Use a relative filepath in relation to the location of your notebook.*"
   ]
  },
  {
   "cell_type": "code",
   "execution_count": null,
   "metadata": {},
   "outputs": [],
   "source": [
    "with open(\"./alice.txt\", \"r\") as file:\n",
    "    alice = file.read()\n",
    "\n",
    "alice"
   ]
  },
  {
   "cell_type": "markdown",
   "metadata": {},
   "source": [
    "**9**: Create a list in which each element is a word from the file *Alice*. Store that list in a variable called *wAlice*. <br>\n",
    "\n",
    "*Note: You will need to do some text parsing here. In particular to split the sentences into words. It is also a good practice to normalize words so that words \"Hello\" and \"hello\" become identical, by making all letters lower case. <br>*\n",
    "\n",
    "*Tip: check the following links for a discussion on regular expressions. Also consult the methods available for string manipulation.*\n",
    "\n",
    "https://docs.python.org/3/library/re.html\n",
    "\n",
    "https://stackoverflow.com/questions/1276764/stripping-everything-but-alphanumeric-chars-from-a-string-in-python"
   ]
  },
  {
   "cell_type": "code",
   "execution_count": 32,
   "metadata": {},
   "outputs": [
    {
     "data": {
      "text/plain": [
       "['alice',\n",
       " 'was',\n",
       " 'beginning',\n",
       " 'to',\n",
       " 'get',\n",
       " 'very',\n",
       " 'tired',\n",
       " 'of',\n",
       " 'sitting',\n",
       " 'by',\n",
       " 'her',\n",
       " 'sister',\n",
       " 'on',\n",
       " 'the',\n",
       " 'bank',\n",
       " 'and',\n",
       " 'of',\n",
       " 'having',\n",
       " 'nothing',\n",
       " 'to',\n",
       " 'do',\n",
       " 'once',\n",
       " 'or',\n",
       " 'twice',\n",
       " 'she',\n",
       " 'had',\n",
       " 'peeped',\n",
       " 'into',\n",
       " 'the',\n",
       " 'book',\n",
       " 'her',\n",
       " 'sister',\n",
       " 'was',\n",
       " 'reading',\n",
       " 'but',\n",
       " 'it',\n",
       " 'had',\n",
       " 'no',\n",
       " 'pictures',\n",
       " 'or',\n",
       " 'conversations',\n",
       " 'in',\n",
       " 'it',\n",
       " 'and',\n",
       " 'what',\n",
       " 'is',\n",
       " 'the',\n",
       " 'use',\n",
       " 'of',\n",
       " 'a',\n",
       " 'book',\n",
       " 'thought',\n",
       " 'alice',\n",
       " 'without',\n",
       " 'pictures',\n",
       " 'or',\n",
       " 'conversation']"
      ]
     },
     "execution_count": 32,
     "metadata": {},
     "output_type": "execute_result"
    }
   ],
   "source": [
    "import re \n",
    "\n",
    "# get rid of all non alphanumeric characters and replace it as space. Replacing them to spaces is important because we will split the words by spaces.\n",
    "words = re.sub(r'\\W+', ' ', alice).split(' ')\n",
    "\n",
    "# Now we need to normalize the list to lowercase. Also, we need to get rid of empty strings.\n",
    "# OBS: Python consider an empty string as False when we use it in a conditional statement.\n",
    "normalized_words = [word.lower() for word in words if word]"
   ]
  },
  {
   "cell_type": "markdown",
   "metadata": {},
   "source": [
    "##### Using the list *wAlice* answer the following questions:<br>\n",
    "**10**: How many words are in the file Alice.txt? <br>"
   ]
  },
  {
   "cell_type": "code",
   "execution_count": 33,
   "metadata": {},
   "outputs": [
    {
     "data": {
      "text/plain": [
       "57"
      ]
     },
     "execution_count": 33,
     "metadata": {},
     "output_type": "execute_result"
    }
   ],
   "source": [
    "len(normalized_words)"
   ]
  },
  {
   "cell_type": "markdown",
   "metadata": {},
   "source": [
    "**11**: What is the longest and smallest word in the text file?\n",
    "\n",
    "*Note: Length in this case is measured in terms of the number of characters.*"
   ]
  },
  {
   "cell_type": "code",
   "execution_count": 42,
   "metadata": {},
   "outputs": [
    {
     "name": "stdout",
     "output_type": "stream",
     "text": [
      "Shortest word by length:  a\n",
      "Longest word by length:  conversations\n"
     ]
    }
   ],
   "source": [
    "# Here we can follow a naive approach using \"for\" loop and comparing each length. But\n",
    "# python already have a built-in function to get the max and min of a list given a \"key\" function.\n",
    "longest_word_by_length = max(normalized_words, key=len)\n",
    "shortest_word_by_length = min(normalized_words, key=len)\n",
    "\n",
    "print(\"Shortest word by length: \", shortest_word_by_length)\n",
    "print(\"Longest word by length: \", longest_word_by_length)"
   ]
  },
  {
   "cell_type": "markdown",
   "metadata": {},
   "source": [
    "**12**: Delete all the repeated words from *wAlice*. "
   ]
  },
  {
   "cell_type": "code",
   "execution_count": 43,
   "metadata": {},
   "outputs": [],
   "source": [
    "non_repeated_words = set(normalized_words)"
   ]
  },
  {
   "cell_type": "markdown",
   "metadata": {},
   "source": [
    "**12.1**:How many different words does the text contain?"
   ]
  },
  {
   "cell_type": "code",
   "execution_count": 44,
   "metadata": {},
   "outputs": [
    {
     "data": {
      "text/plain": [
       "41"
      ]
     },
     "execution_count": 44,
     "metadata": {},
     "output_type": "execute_result"
    }
   ],
   "source": [
    "len(non_repeated_words)"
   ]
  },
  {
   "cell_type": "markdown",
   "metadata": {},
   "source": [
    "## Exercise II - of Countries I Love\n",
    "\n",
    "Consider the list countries in the cell below. <br>\n",
    "It consists of a list of the 3-digit ISO codes of a set of countries of interest."
   ]
  },
  {
   "cell_type": "code",
   "execution_count": 122,
   "metadata": {},
   "outputs": [
    {
     "data": {
      "text/plain": [
       "99.0"
      ]
     },
     "execution_count": 122,
     "metadata": {},
     "output_type": "execute_result"
    }
   ],
   "source": [
    "countries = [\n",
    "\n",
    "('PRT','Portugal','Europe'),\n",
    "('ISL','Israel','Asia'),\n",
    "('COL','Colombia','South America'),\n",
    "('NEV','Nevada','North America'),\n",
    "('JPN','Japan','Asia'),\n",
    "('RUS','Russia','Europe'),\n",
    "('DNK','Denmark','Europe'),\n",
    "('NOR','Norway','Europe')\n",
    "    \n",
    "]"
   ]
  },
  {
   "cell_type": "markdown",
   "metadata": {},
   "source": [
    "**Now consider the file *cdata.csv* that you should download.** <br>\n",
    "\n",
    "The file contains several information about countries, and is organized as follows:\n",
    "1. Column 1 is the 3-digit **ISO Code**\n",
    "2. Column 2 is the **Full Name** of the country\n",
    "3. Column 3 is the **Continent** of the country\n",
    "4. Column 4 is the **Population Size** in 2010\n",
    "5. Column 5 is the **GDP per capita** in 2010"
   ]
  },
  {
   "cell_type": "markdown",
   "metadata": {},
   "source": [
    "**13**: Using the Library CSV from Python STL, load the file *cdata.csv* into an object called *raw*. "
   ]
  },
  {
   "cell_type": "code",
   "execution_count": 45,
   "metadata": {},
   "outputs": [
    {
     "data": {
      "text/plain": [
       "[['iso', 'countryname', 'continent', 'population(mil)', 'gdp'],\n",
       " ['ago', 'Angola', 'Africa', '23.369131088256836', '5988.534997149481'],\n",
       " ['bdi', 'Burundi', 'Africa', '8.766929626464844', '731.4232803265862'],\n",
       " ['ben', 'Benin', 'Africa', '9.199258804321289', '1919.9969479963038'],\n",
       " ['bfa', 'Burkina Faso', 'Africa', '15.605216979980469', '1327.2165314775982'],\n",
       " ['bwa', 'Botswana', 'Africa', '2.0148661136627197', '12256.14159052444'],\n",
       " ['caf',\n",
       "  'Central African Republic',\n",
       "  'Africa',\n",
       "  '4.4485249519348145',\n",
       "  '865.4421867263901'],\n",
       " ['cmr', 'Cameroon', 'Africa', '19.970495223999023', '2684.972890247272'],\n",
       " ['cod',\n",
       "  'Democratic Republic of the Congo',\n",
       "  'Africa',\n",
       "  '64.52326202392578',\n",
       "  '634.9713963013496'],\n",
       " ['cog',\n",
       "  'Republic of the Congo',\n",
       "  'Africa',\n",
       "  '4.386693000793457',\n",
       "  '4979.990496069269'],\n",
       " ['com', 'Comoros', 'Africa', '0.6896920204162598', '2292.997969425929'],\n",
       " ['cpv', 'Cape Verde', 'Africa', '0.5023840069770813', '5644.821253339075'],\n",
       " ['dji', 'Djibouti', 'Africa', '0.8511459827423096', '2124.4420625972525'],\n",
       " ['dza', 'Algeria', 'Africa', '36.117637634277344', '12590.224223813591'],\n",
       " ['egy', 'Egypt', 'Africa', '84.10760498046875', '9148.839753298033'],\n",
       " ['eth', 'Ethiopia', 'Africa', '87.70266723632812', '1100.1831875876223'],\n",
       " ['gab', 'Gabon', 'Africa', '1.6402100324630737', '11961.168226448879'],\n",
       " ['gha', 'Ghana', 'Africa', '24.512104034423828', '3931.2918319728856'],\n",
       " ['gin', 'Guinea', 'Africa', '10.794170379638672', '1742.7346742167783'],\n",
       " ['gmb', 'Gambia', 'Africa', '1.692149043083191', '2681.8586168502143'],\n",
       " ['gnb',\n",
       "  'Guinea-Bissau',\n",
       "  'Africa',\n",
       "  '1.5558799505233765',\n",
       "  '1387.2497310879905'],\n",
       " ['gnq',\n",
       "  'Equatorial Guinea',\n",
       "  'Africa',\n",
       "  '0.9511039853096008',\n",
       "  '31416.887137501908'],\n",
       " ['ken', 'Kenya', 'Africa', '41.35015106201172', '2484.0349094725366'],\n",
       " ['lbr', 'Liberia', 'Africa', '3.948124885559082', '786.6702306741524'],\n",
       " ['lso', 'Lesotho', 'Africa', '2.040550947189331', '2432.7976546880823'],\n",
       " ['mar', 'Morocco', 'Africa', '32.409637451171875', '6421.937677907418'],\n",
       " ['mdg', 'Madagascar', 'Africa', '21.151639938354492', '1459.9156124535612'],\n",
       " ['mli', 'Mali', 'Africa', '15.075084686279297', '1873.2809618195865'],\n",
       " ['moz', 'Mozambique', 'Africa', '24.221405029296875', '969.2307622526259'],\n",
       " ['mrt', 'Mauritania', 'Africa', '3.6095430850982666', '3082.647028528842'],\n",
       " ['mus', 'Mauritius', 'Africa', '1.2479549646377563', '15178.325920597827'],\n",
       " ['mwi', 'Malawi', 'Africa', '15.167095184326172', '972.0456815116237'],\n",
       " ['nam', 'Namibia', 'Africa', '2.1731700897216797', '7689.171239820006'],\n",
       " ['ner', 'Niger', 'Africa', '16.42557716369629', '845.8693682212395'],\n",
       " ['nga', 'Nigeria', 'Africa', '158.57826232910156', '5186.304307542348'],\n",
       " ['rwa', 'Rwanda', 'Africa', '10.246842384338379', '1379.6993252327009'],\n",
       " ['sdn', 'Sudan', 'Africa', '34.385963439941406', '3608.7856176907358'],\n",
       " ['sen', 'Senegal', 'Africa', '12.916229248046875', '2741.121456198507'],\n",
       " ['sle', 'Sierra Leone', 'Africa', '6.4587202072143555', '1161.8796942144647'],\n",
       " ['swz', 'Swaziland', 'Africa', '1.2028429508209229', '7042.524359035093'],\n",
       " ['syc', 'Seychelles', 'Africa', '0.0914049968123436', '17960.353075613308'],\n",
       " ['tcd', 'Chad', 'Africa', '11.887202262878418', '1880.3748762799714'],\n",
       " ['tgo', 'Togo', 'Africa', '6.5029520988464355', '1222.8150529133295'],\n",
       " ['tun', 'Tunisia', 'Africa', '10.639930725097656', '10647.834980284626'],\n",
       " ['tza', 'Tanzania', 'Africa', '44.82893753051758', '1979.1718644815185'],\n",
       " ['uga', 'Uganda', 'Africa', '33.91513442993164', '1723.5943355766267'],\n",
       " ['zaf', 'South Africa', 'Africa', '51.58466339111328', '11388.640515995063'],\n",
       " ['zmb', 'Zambia', 'Africa', '13.850032806396484', '2870.8872656342314'],\n",
       " ['zwe', 'Zimbabwe', 'Africa', '14.08631706237793', '1479.0305839163732'],\n",
       " ['are',\n",
       "  'United Arab Emirates',\n",
       "  'Asia',\n",
       "  '8.270684242248535',\n",
       "  '59707.412565389604'],\n",
       " ['arm', 'Armenia', 'Asia', '2.8773109912872314', '8222.945234202914'],\n",
       " ['aze', 'Azerbaijan', 'Asia', '9.03245735168457', '12947.102198682365'],\n",
       " ['bgd', 'Bangladesh', 'Asia', '152.14910888671875', '2411.1020691099325'],\n",
       " ['bhr', 'Bahrain', 'Asia', '1.2408620119094849', '37045.81310919623'],\n",
       " ['brn', 'Brunei', 'Asia', '0.3886620104312897', '67320.89957245934'],\n",
       " ['btn', 'Bhutan', 'Asia', '0.7276409864425659', '7235.18974818538'],\n",
       " ['chn', 'China', 'Asia', '1359.755126953125', '9337.290772677254'],\n",
       " ['cyp', 'Cyprus', 'Asia', '0.829446017742157', '28046.373877741087'],\n",
       " ['geo', 'Georgia', 'Asia', '4.231660842895508', '7966.602756952667'],\n",
       " ['hkg', 'Hong Kong', 'Asia', '7.02522087097168', '41687.946418899235'],\n",
       " ['ind', 'India', 'Asia', '1230.980712890625', '4357.0597360582315'],\n",
       " ['irn', 'Iran', 'Asia', '74.56751251220703', '17328.457882894658'],\n",
       " ['irq', 'Iraq', 'Asia', '30.7627010345459', '9344.543768350652'],\n",
       " ['isr', 'Israel', 'Asia', '7.42595911026001', '28638.9037385305'],\n",
       " ['jor', 'Jordan', 'Asia', '7.182390213012695', '9351.387283068141'],\n",
       " ['jpn', 'Japan', 'Asia', '128.5518798828125', '36595.63364058582'],\n",
       " ['kaz', 'Kazakhstan', 'Asia', '16.398975372314453', '17908.83993251286'],\n",
       " ['kgz', 'Kyrgyzstan', 'Asia', '5.422337055206299', '3382.4639059259293'],\n",
       " ['khm', 'Cambodia', 'Asia', '14.30873966217041', '2330.127207632253'],\n",
       " ['kor', 'South Korea', 'Asia', '49.5528564453125', '31589.705161145695'],\n",
       " ['kwt', 'Kuwait', 'Asia', '2.9980831146240234', '67029.51680017101'],\n",
       " ['lao', 'Laos', 'Asia', '6.246273994445801', '4316.969858587265'],\n",
       " ['lbn', 'Lebanon', 'Asia', '4.337141036987305', '18025.24893894264'],\n",
       " ['lka', 'Sri Lanka', 'Asia', '20.198352813720703', '8390.429701766443'],\n",
       " ['mac', 'Macau', 'Asia', '0.536969006061554', '91982.39517540816'],\n",
       " ['mdv', 'Maldives', 'Asia', '0.36451101303100586', '12140.803390739566'],\n",
       " ['mmr', 'Burma', 'Asia', '50.1558952331543', '3422.241340266976'],\n",
       " ['mng', 'Mongolia', 'Asia', '2.7126500606536865', '7670.714034382584'],\n",
       " ['mys', 'Malaysia', 'Asia', '28.112289428710938', '17913.164410782432'],\n",
       " ['npl', 'Nepal', 'Asia', '27.023136138916016', '1996.1961554516242'],\n",
       " ['omn', 'Oman', 'Asia', '3.0414600372314453', '40472.674942509126'],\n",
       " ['pak', 'Pakistan', 'Asia', '170.5601806640625', '4171.416562353057'],\n",
       " ['phl', 'Philippines', 'Asia', '93.72662353515625', '5391.233965240031'],\n",
       " ['qat', 'Qatar', 'Asia', '1.7796759605407715', '123128.40152283433'],\n",
       " ['sau', 'Saudi Arabia', 'Asia', '27.425676345825195', '42331.65885721999'],\n",
       " ['sgp', 'Singapore', 'Asia', '5.074252128601074', '58618.43503468222'],\n",
       " ['syr', 'Syria', 'Asia', '21.01883316040039', '5700.329438992399'],\n",
       " ['tha', 'Thailand', 'Asia', '67.20880889892578', '12496.244186726299'],\n",
       " ['tjk', 'Tajikistan', 'Asia', '7.641630172729492', '2784.5145587763627'],\n",
       " ['tkm', 'Turkmenistan', 'Asia', '5.087210178375244', '16061.429412691556'],\n",
       " ['tur', 'Turkey', 'Asia', '72.32691192626953', '17930.678781392427'],\n",
       " ['twn', 'Taiwan', 'Asia', '23.140947341918945', '37188.89452901009'],\n",
       " ['uzb', 'Uzbekistan', 'Asia', '28.606294631958008', '6574.51672506692'],\n",
       " ['vnm', 'Vietnam', 'Asia', '88.4725112915039', '4428.42140209062'],\n",
       " ['yem', 'Yemen', 'Asia', '23.606779098510742', '4553.557258443674'],\n",
       " ['alb', 'Albania', 'Europe', '2.9405250549316406', '9544.73991912729'],\n",
       " ['aut', 'Austria', 'Europe', '8.40994930267334', '40489.80635849457'],\n",
       " ['bel', 'Belgium', 'Europe', '10.938738822937012', '38177.94724875522'],\n",
       " ['bgr', 'Bulgaria', 'Europe', '7.404590129852295', '14906.784964031736'],\n",
       " ['bih',\n",
       "  'Bosnia and Herzegovina',\n",
       "  'Europe',\n",
       "  '3.7220840454101562',\n",
       "  '9049.364732987471'],\n",
       " ['blr', 'Belarus', 'Europe', '9.473071098327637', '16457.02937904922'],\n",
       " ['che', 'Switzerland', 'Europe', '7.831971168518066', '55688.020214268225'],\n",
       " ['cze',\n",
       "  'Czech Republic',\n",
       "  'Europe',\n",
       "  '10.536286354064941',\n",
       "  '26129.56935189834'],\n",
       " ['deu', 'Germany', 'Europe', '80.89478302001953', '40627.23054942445'],\n",
       " ['dnk', 'Denmark', 'Europe', '5.554843902587891', '43416.22338615916'],\n",
       " ['esp', 'Spain', 'Europe', '46.788631439208984', '31610.980157042286'],\n",
       " ['est', 'Estonia', 'Europe', '1.3321019411087036', '20265.572596704937'],\n",
       " ['fin', 'Finland', 'Europe', '5.365781784057617', '38394.06158150017'],\n",
       " ['fra', 'France', 'Europe', '65.14578247070312', '35786.16161450548'],\n",
       " ['gbr', 'United Kingdom', 'Europe', '63.30684280395508', '34810.28120173958'],\n",
       " ['grc', 'Greece', 'Europe', '11.446004867553711', '25815.80076797162'],\n",
       " ['hrv', 'Croatia', 'Europe', '4.328153133392334', '19305.008088868373'],\n",
       " ['hun', 'Hungary', 'Europe', '9.927840232849121', '20477.79856764035'],\n",
       " ['irl', 'Ireland', 'Europe', '4.626927852630615', '47823.50815113634'],\n",
       " ['isl', 'Iceland', 'Europe', '0.3203279972076416', '37729.01607603124'],\n",
       " ['ita', 'Italy', 'Europe', '59.72980880737305', '34727.67268834705'],\n",
       " ['ltu', 'Lithuania', 'Europe', '3.123802900314331', '18475.371145517096'],\n",
       " ['lux', 'Luxembourg', 'Europe', '0.5078889727592468', '57882.81020537233'],\n",
       " ['lva', 'Latvia', 'Europe', '2.1188480854034424', '16943.688322829523'],\n",
       " ['mda', 'Moldova', 'Europe', '4.0844807624816895', '4173.634753274572'],\n",
       " ['mkd', 'Macedonia', 'Europe', '2.0707390308380127', '11265.643175619889'],\n",
       " ['mlt', 'Malta', 'Europe', '0.41611000895500183', '22983.44992639125'],\n",
       " ['mne', 'Montenegro', 'Europe', '0.6242849826812744', '14960.94855221103'],\n",
       " ['nld', 'Netherlands', 'Europe', '16.68291664123535', '44004.146024770846'],\n",
       " ['nor', 'Norway', 'Europe', '4.885878086090088', '73262.68174170727'],\n",
       " ['pol', 'Poland', 'Europe', '38.323402404785156', '21006.027309294514'],\n",
       " ['prt', 'Portugal', 'Europe', '10.652320861816406', '25788.2739652247'],\n",
       " ['rou', 'Romania', 'Europe', '20.44034767150879', '16775.609043478133'],\n",
       " ['rus', 'Russia', 'Asia', '143.15386962890625', '21754.067899615977'],\n",
       " ['srb', 'Serbia', 'Europe', '7.291436195373535', '12453.482551916944'],\n",
       " ['svk', 'Slovakia', 'Europe', '5.404294013977051', '23061.12099058148'],\n",
       " ['svn', 'Slovenia', 'Europe', '2.045167922973633', '25831.33128718208'],\n",
       " ['swe', 'Sweden', 'Europe', '9.390168190002441', '40421.906436576974'],\n",
       " ['ukr', 'Ukraine', 'Europe', '45.79249954223633', '8713.259627419637'],\n",
       " ['abw', 'Aruba', 'NorthAmerica', '0.10166899859905243', '37059.34143869512'],\n",
       " ['aia',\n",
       "  'Anguilla',\n",
       "  'NorthAmerica',\n",
       "  '0.013768999837338924',\n",
       "  '21098.057152999143'],\n",
       " ['atg',\n",
       "  'Antigua and Barbuda',\n",
       "  'NorthAmerica',\n",
       "  '0.09466099739074707',\n",
       "  '17162.16102781353'],\n",
       " ['bhs',\n",
       "  'Bahamas',\n",
       "  'NorthAmerica',\n",
       "  '0.36083200573921204',\n",
       "  '29504.581346144332'],\n",
       " ['blz', 'Belize', 'NorthAmerica', '0.3216080069541931', '7145.952547655193'],\n",
       " ['bmu',\n",
       "  'Bermuda',\n",
       "  'NorthAmerica',\n",
       "  '0.06395599991083145',\n",
       "  '51447.147481910884'],\n",
       " ['brb',\n",
       "  'Barbados',\n",
       "  'NorthAmerica',\n",
       "  '0.27956900000572205',\n",
       "  '13995.612896540895'],\n",
       " ['can', 'Canada', 'NorthAmerica', '34.16866683959961', '40269.03526728651'],\n",
       " ['cri',\n",
       "  'Costa Rica',\n",
       "  'NorthAmerica',\n",
       "  '4.5452799797058105',\n",
       "  '12106.99191566891'],\n",
       " ['cuw',\n",
       "  'Curaçao',\n",
       "  'NorthAmerica',\n",
       "  '0.14760799705982208',\n",
       "  '24337.816177887613'],\n",
       " ['cym',\n",
       "  'Cayman Islands',\n",
       "  'NorthAmerica',\n",
       "  '0.05550700053572655',\n",
       "  '36670.678481483985'],\n",
       " ['dma',\n",
       "  'Dominica',\n",
       "  'NorthAmerica',\n",
       "  '0.07143999636173248',\n",
       "  '9101.993729581038'],\n",
       " ['dom',\n",
       "  'Dominican Republic',\n",
       "  'NorthAmerica',\n",
       "  '9.897985458374023',\n",
       "  '11500.13134401987'],\n",
       " ['grd', 'Grenada', 'NorthAmerica', '0.1046769991517067', '9791.291133092265'],\n",
       " ['gtm',\n",
       "  'Guatemala',\n",
       "  'NorthAmerica',\n",
       "  '14.630416870117188',\n",
       "  '6359.262684615136'],\n",
       " ['hnd',\n",
       "  'Honduras',\n",
       "  'NorthAmerica',\n",
       "  '8.194778442382812',\n",
       "  '3789.9102248753848'],\n",
       " ['hti', 'Haiti', 'NorthAmerica', '9.999616622924805', '1650.2697128700804'],\n",
       " ['jam', 'Jamaica', 'NorthAmerica', '2.8172099590301514', '6675.176956450172'],\n",
       " ['kna',\n",
       "  'Saint Kitts and Nevis',\n",
       "  'NorthAmerica',\n",
       "  '0.05144499987363815',\n",
       "  '17837.349758162076'],\n",
       " ['lca',\n",
       "  'Saint Lucia',\n",
       "  'NorthAmerica',\n",
       "  '0.17258000373840332',\n",
       "  '9178.266990673521'],\n",
       " ['mex', 'Mexico', 'NorthAmerica', '117.31893920898438', '14507.011923865603'],\n",
       " ['msr',\n",
       "  'Montserrat',\n",
       "  'NorthAmerica',\n",
       "  '0.00494399992749095',\n",
       "  '15385.002991478228'],\n",
       " ['nic',\n",
       "  'Nicaragua',\n",
       "  'NorthAmerica',\n",
       "  '5.737722873687744',\n",
       "  '3992.7619078961748'],\n",
       " ['pan', 'Panama', 'NorthAmerica', '3.6432220935821533', '15055.237591848218'],\n",
       " ['slv',\n",
       "  'El Salvador',\n",
       "  'NorthAmerica',\n",
       "  '6.164626121520996',\n",
       "  '6096.958357099287'],\n",
       " ['tca',\n",
       "  'Turks and Caicos Islands',\n",
       "  'NorthAmerica',\n",
       "  '0.030993999913334846',\n",
       "  '7230.966074605446'],\n",
       " ['tto',\n",
       "  'Trinidad and Tobago',\n",
       "  'NorthAmerica',\n",
       "  '1.3280999660491943',\n",
       "  '27510.236190041924'],\n",
       " ['usa',\n",
       "  'United States',\n",
       "  'NorthAmerica',\n",
       "  '308.6413879394531',\n",
       "  '49500.62628346238'],\n",
       " ['vct',\n",
       "  'Saint Vincent and the Grenadines',\n",
       "  'NorthAmerica',\n",
       "  '0.10931500047445297',\n",
       "  '8095.21923068351'],\n",
       " ['vgb',\n",
       "  'British Virgin Islands',\n",
       "  'NorthAmerica',\n",
       "  '0.027224000543355942',\n",
       "  '21183.279165646647'],\n",
       " ['aus', 'Australia', 'Oceania', '22.12006378173828', '44854.90004866657'],\n",
       " ['fji', 'Fiji', 'Oceania', '0.8599500060081482', '6902.0687720944225'],\n",
       " ['nzl', 'New Zealand', 'Oceania', '4.370061874389648', '30867.05437525178'],\n",
       " ['arg',\n",
       "  'Argentina',\n",
       "  'SouthAmerica',\n",
       "  '41.2238883972168',\n",
       "  '15841.658208158999'],\n",
       " ['bol', 'Bolivia', 'SouthAmerica', '9.918242454528809', '4806.608983377068'],\n",
       " ['bra', 'Brazil', 'SouthAmerica', '196.7962646484375', '13541.462561602328'],\n",
       " ['chl', 'Chile', 'SouthAmerica', '16.99335479736328', '18092.94007371081']]"
      ]
     },
     "execution_count": 45,
     "metadata": {},
     "output_type": "execute_result"
    }
   ],
   "source": [
    "import csv\n",
    "\n",
    "with open('./cdata.csv', 'r') as file:\n",
    "    reader = csv.reader(file)\n",
    "    raw = list(reader)"
   ]
  },
  {
   "cell_type": "markdown",
   "metadata": {},
   "source": [
    "**13.1**: Create a dictionary called *cData* in which the key corresponds to the 3-digit ISO Code and the value is a tuple with the information contained in the 2nd to the 5th of column of the cdata file."
   ]
  },
  {
   "cell_type": "code",
   "execution_count": null,
   "metadata": {},
   "outputs": [],
   "source": [
    "cData = {}\n",
    "\n",
    "# Here we need to be careful because the first row of our data is the header.\n",
    "# So we need to skip it\n",
    "for row in raw[1:]:\n",
    "    iso_code = row[0].upper()\n",
    "    data = tuple(row[1:5])\n",
    "    cData[iso_code] = data\n",
    "\n",
    "cData "
   ]
  },
  {
   "cell_type": "markdown",
   "metadata": {},
   "source": [
    "**14**: Using *cData*, identify what is the most common Continent among the nations in the list *countries*."
   ]
  },
  {
   "cell_type": "code",
   "execution_count": null,
   "metadata": {},
   "outputs": [],
   "source": [
    "# We're using constants here just to make the code more readable.\n",
    "COUNTRY_ISO_CODE_INDEX = 0\n",
    "C_DATA_CONTINENT_INDEX = 1\n",
    "C_DATA_POPULATION_INDEX = 2\n",
    "C_DATA_COUNTRY_NAME_INDEX = 0\n",
    "C_DATA_GPD_INDEX = 3\n",
    "\n",
    "continent_counts = {}\n",
    "\n",
    "# Here we have two options, the first one is to create temporary variables to store the most common continent and use it\n",
    "# for each iteration. The second one is use the loop just to compute the dict and then use the max function to get the\n",
    "# continent with the highest count. We'll use the second approach here.\n",
    "for country in countries:\n",
    "    country_data = cData.get(country[COUNTRY_ISO_CODE_INDEX])\n",
    "    if country_data:\n",
    "        continent = country_data[C_DATA_CONTINENT_INDEX]\n",
    "        if continent not in continent_counts:\n",
    "            continent_counts[continent] = 0\n",
    "        continent_counts[continent] += 1\n",
    "\n",
    "max(continent_counts.items(), key=lambda x: x[1])[0]\n"
   ]
  },
  {
   "cell_type": "markdown",
   "metadata": {},
   "source": [
    "**15**: Using *cData*, identify what is the the most populated nation in the list *countries*."
   ]
  },
  {
   "cell_type": "code",
   "execution_count": 76,
   "metadata": {},
   "outputs": [
    {
     "name": "stdout",
     "output_type": "stream",
     "text": [
      "The most populated nation is Russia with 143.15386962890625\n"
     ]
    }
   ],
   "source": [
    "highest_population = 0\n",
    "country_with_highest_population = None\n",
    "\n",
    "\n",
    "for country in countries:\n",
    "    country_data = cData.get(country[COUNTRY_ISO_CODE_INDEX])\n",
    "    if country_data:\n",
    "        population = float(country_data[C_DATA_POPULATION_INDEX])\n",
    "        if population > highest_population:\n",
    "            highest_population = population\n",
    "            country_with_highest_population = country_data[C_DATA_COUNTRY_NAME_INDEX]\n",
    "\n",
    "print(f\"The most populated nation is {country_with_highest_population} with {highest_population}\")"
   ]
  },
  {
   "cell_type": "markdown",
   "metadata": {},
   "source": [
    "**16**: Compare the average GDP per capita of the nations in the list *countries* with the average GDP of the countries in cdata file. What can you conclude?"
   ]
  },
  {
   "cell_type": "code",
   "execution_count": 114,
   "metadata": {},
   "outputs": [
    {
     "ename": "NameError",
     "evalue": "name 'C_DATA_GPD_INDEX' is not defined",
     "output_type": "error",
     "traceback": [
      "\u001b[0;31m---------------------------------------------------------------------------\u001b[0m",
      "\u001b[0;31mNameError\u001b[0m                                 Traceback (most recent call last)",
      "\u001b[1;32m/Users/carlos.costa/studies/MDSAA-NOVA-IMS/programming_for_data_science/assignments/1/HW1_pds_2023_V2.ipynb Cell 53\u001b[0m line \u001b[0;36m6\n\u001b[1;32m      <a href='vscode-notebook-cell:/Users/carlos.costa/studies/MDSAA-NOVA-IMS/programming_for_data_science/assignments/1/HW1_pds_2023_V2.ipynb#Y103sZmlsZQ%3D%3D?line=3'>4</a>\u001b[0m     country_data \u001b[39m=\u001b[39m cData\u001b[39m.\u001b[39mget(country[COUNTRY_ISO_CODE_INDEX])\n\u001b[1;32m      <a href='vscode-notebook-cell:/Users/carlos.costa/studies/MDSAA-NOVA-IMS/programming_for_data_science/assignments/1/HW1_pds_2023_V2.ipynb#Y103sZmlsZQ%3D%3D?line=4'>5</a>\u001b[0m     \u001b[39mif\u001b[39;00m country_data:\n\u001b[0;32m----> <a href='vscode-notebook-cell:/Users/carlos.costa/studies/MDSAA-NOVA-IMS/programming_for_data_science/assignments/1/HW1_pds_2023_V2.ipynb#Y103sZmlsZQ%3D%3D?line=5'>6</a>\u001b[0m         total_gpd_countries \u001b[39m=\u001b[39m \u001b[39mfloat\u001b[39m(country_data[C_DATA_GPD_INDEX])\n\u001b[1;32m      <a href='vscode-notebook-cell:/Users/carlos.costa/studies/MDSAA-NOVA-IMS/programming_for_data_science/assignments/1/HW1_pds_2023_V2.ipynb#Y103sZmlsZQ%3D%3D?line=7'>8</a>\u001b[0m average_gpd_countries \u001b[39m=\u001b[39m total_gpd_countries \u001b[39m/\u001b[39m \u001b[39mlen\u001b[39m(countries)\n",
      "\u001b[0;31mNameError\u001b[0m: name 'C_DATA_GPD_INDEX' is not defined"
     ]
    }
   ],
   "source": [
    "# Esse ta incompleto ainda... Nada faz sentido e é melhor esperar para confirmar com o professor durante a aula\n",
    "total_gpd_countries = 0\n",
    "total_countries_found = 0\n",
    "\n",
    "for country in countries:\n",
    "    country_data = cData.get(country[COUNTRY_ISO_CODE_INDEX])\n",
    "    if country_data:\n",
    "        total_gpd_countries = float(country_data[C_DATA_GPD_INDEX])\n",
    "        total_countries_found += 1\n",
    "\n",
    "average_gpd_countries = total_gpd_countries / total_countries_found\n",
    "\n",
    "for row in cData.values():\n",
    "    gpd = float(row[C_DATA_GPD_INDEX])"
   ]
  },
  {
   "cell_type": "markdown",
   "metadata": {},
   "source": [
    "# <span style=\"color:brown\"> Part 3 - Functions hurt nobody </span>\n",
    "\n",
    "## Exercise I - I hate math\n",
    "\n",
    "##### Consider the following equation:\n",
    "\n",
    "\\begin{equation}\n",
    "    y = 6x^2 + 3x + 2\n",
    "\\end{equation}\n",
    "\n",
    "**17**: Write a function called *f* that takes one argument, x, and returns y according to the equation above. "
   ]
  },
  {
   "cell_type": "code",
   "execution_count": null,
   "metadata": {},
   "outputs": [],
   "source": []
  },
  {
   "cell_type": "markdown",
   "metadata": {},
   "source": [
    "**17.1**: Call the function for x = 2 and print the answer."
   ]
  },
  {
   "cell_type": "code",
   "execution_count": null,
   "metadata": {},
   "outputs": [],
   "source": []
  },
  {
   "cell_type": "markdown",
   "metadata": {},
   "source": [
    "##### Consider the following sequence of numbers:\n",
    "\n",
    "\\begin{equation}\n",
    "    x_0 = 0; ~~~ ~~~ ~~~ ~~ ~~~ ~~~ ~~~ ~~~ ~~~ ~~~ ~~~ ~~ ~~~ ~~~ ~~~ ~~ ~~~ ~~~ ~~~ ~~ ~ ~~~ ~~~ ~~~ ~~ ~~~ ~~~ ~~~ ~~ ~~~ ~~~ ~~~ ~~ ~~~ ~~~ ~~~ ~~ \\\\\n",
    "    x_{n} = x_{n-1} - n; ~~~ \\textit{ if} ~~~ x_{n-1}-n > 0 ~~~ \\textit{ and is not already in the sequence}\\\\\n",
    "    x_{n} = x_{n-1} + n; ~~~ \\textit{ otherwise} ~~~ ~~~ ~~~ ~~~ ~~ ~~~ ~~~ ~~~ ~~~ ~~~ ~ ~~~ ~~~ ~~~ ~~~ ~~~ ~~~ ~ ~~~ ~~~ ~~~~ ~~~ ~~~ ~~~ ~ \\\\\n",
    "\\end{equation}\n",
    "\n",
    "**17.2**: Write a function that returns the nth digit of the above defined sequence. <br>\n",
    "\n",
    "*Note: the above sequence is also known as the Recamán's sequence, and it was invnted by Bernardo Recamán Santos (Bogotá, Colombia)*"
   ]
  },
  {
   "cell_type": "code",
   "execution_count": null,
   "metadata": {},
   "outputs": [],
   "source": []
  },
  {
   "cell_type": "markdown",
   "metadata": {},
   "source": [
    "**17.3** Write a function named isPrime that takes an integer as input and outputs True if the number is prime and False if the number if not prime."
   ]
  },
  {
   "cell_type": "code",
   "execution_count": null,
   "metadata": {},
   "outputs": [],
   "source": []
  },
  {
   "cell_type": "markdown",
   "metadata": {},
   "source": [
    "**17.4** Test your function against some examples to show that it works as expected."
   ]
  },
  {
   "cell_type": "code",
   "execution_count": null,
   "metadata": {},
   "outputs": [],
   "source": []
  },
  {
   "cell_type": "markdown",
   "metadata": {},
   "source": [
    "## Exercise II - Monty Hall Problem\n"
   ]
  },
  {
   "cell_type": "markdown",
   "metadata": {},
   "source": [
    "**18**: The Monty Hall Problem is a probability puzzle loosely based on the American television game show \"Let's Make a Deal\" and named after its original host, Monty Hall. The puzzle can be stated as follows\n",
    "\n",
    "> Suppose you're on a game show, and you're given the choice of three doors: Behind one door is a car; behind the others, goats. You pick a door, say No. 1, and the host, who knows what's behind the doors, opens another door, say No. 3, which has a goat. He then says to you, \"Do you want to pick door No. 2?\" Is it to your advantage to switch your choice? <br>\n",
    "+info: https://en.wikipedia.org/wiki/Monty_Hall_problem\n",
    "\n",
    "While intuitively your guess might be that the chances of winning the car is 1/3 independently of the choice to switch doors or not. Howewver, the odds of winning if you switch doors are 2/3 and greater than if you decide not to switch. While there are theoretical solutions to this problem that allow us to estimate the correct odds of winning in each scenario -- switching or not doors -- an alternative way to proof such outcome is through computer simulations. That is the goal of this exercise, to write the necessary components to simulate the Monty Hall problem and validate the theoretical results through simulations.\n",
    "\n",
    "In this exercise, start by implementing a function that simulates one instance of the Monty Hall problem. \n",
    "In that sense, write a function called MontyHall that accepts **one argument**:\n",
    "- A boolean (True/False, or 1/0) that specifies if the player switches doors or not (after the host has opened his door, which contains a goat).\n",
    "The function should return True if the player wins the car or False if not.\n",
    "\n",
    "Naturally, for the function to reproduce the contest it needs to consider and perform some actions, such as:\n",
    "- Set up the game, that is, create the necessary variables to store the information about three doors and what they have behind, as well as an indicator to track the choice of the player.\n",
    "- Given the initial choice of the player, simulate the opening of one of the two remaining doors that contains a goat.\n",
    "- Given the last two doors left, simulate if the player wants to switch or not his/her choice given their strategy (defined by the input boolean argument of the function).\n",
    "- Output the result, if the contestant correctly guesses which door hides the car or if not.\n",
    "\n",
    "The function MontyHall should simulate one instance of the contest given the choice of the player (to switch or not).\n",
    "\n",
    "**The goal is to understand, statistically, which action leads to the highest probability of winning.** <br>\n",
    "*Note: You should use the library random to solve this exercise.*"
   ]
  },
  {
   "cell_type": "code",
   "execution_count": null,
   "metadata": {},
   "outputs": [],
   "source": []
  },
  {
   "cell_type": "markdown",
   "metadata": {},
   "source": [
    "**18.1** Now that you have a function that simulates an instance of the Monty Hall problem, implement an experiment where you repeat many times (thousands of times) for each of the two possible scenarios: player switching the door, and player not switcing the door. Keep track of the results and estimate the frequencies of wins for each scenario and discuss if the results are inline with the theoretical odds."
   ]
  },
  {
   "cell_type": "code",
   "execution_count": null,
   "metadata": {},
   "outputs": [],
   "source": []
  },
  {
   "cell_type": "markdown",
   "metadata": {},
   "source": [
    "## Exercise III\n",
    "\n",
    "**19**: Consider the list *A*, declared below. <br>\n",
    "Use the function map() to change the values of A by adding 1 to each value if it is even and subtracting 1 to it otherwise."
   ]
  },
  {
   "cell_type": "code",
   "execution_count": null,
   "metadata": {},
   "outputs": [],
   "source": [
    "A = [460,3347,3044,490,699,1258,1804,973,2223,3416,2879,1058,2915,2422,351,1543,1020,208,643,795,3337,2585,471,2623,1077]"
   ]
  },
  {
   "cell_type": "code",
   "execution_count": null,
   "metadata": {},
   "outputs": [],
   "source": []
  },
  {
   "cell_type": "markdown",
   "metadata": {},
   "source": [
    "**20**: Create a list B with the same size of A, where each element is True if the associated value in list A is greater than 700, else is False."
   ]
  },
  {
   "cell_type": "code",
   "execution_count": null,
   "metadata": {},
   "outputs": [],
   "source": []
  },
  {
   "cell_type": "markdown",
   "metadata": {},
   "source": [
    "**21**: Create a list L that contains the Logarithm of base 10 of each value in A. <br>\n",
    "\n",
    "*Note: You should use the module math to solve this exercise.*"
   ]
  },
  {
   "cell_type": "code",
   "execution_count": null,
   "metadata": {},
   "outputs": [],
   "source": []
  },
  {
   "cell_type": "markdown",
   "metadata": {},
   "source": [
    "**22**: How many numbers in A are greater than 1000? <br>\n",
    "\n",
    "*Note: You should use the function filter().*"
   ]
  },
  {
   "cell_type": "code",
   "execution_count": null,
   "metadata": {},
   "outputs": [],
   "source": []
  },
  {
   "cell_type": "markdown",
   "metadata": {},
   "source": [
    "**23** Use the function isPrime, that you declared in 17.3, to identify which numbers from A are prime. Note that depending on your implementation of isPrime this task can take more or less time. Use filter to achieve this task."
   ]
  },
  {
   "cell_type": "code",
   "execution_count": null,
   "metadata": {},
   "outputs": [],
   "source": []
  },
  {
   "cell_type": "markdown",
   "metadata": {},
   "source": [
    "### Congratulations, it is done!"
   ]
  },
  {
   "cell_type": "markdown",
   "metadata": {},
   "source": [
    "![LEO_GOOD_JOB](https://www.idlememe.com/wp-content/uploads/2022/01/good-job-meme-idlememe-3.jpg)"
   ]
  },
  {
   "cell_type": "code",
   "execution_count": null,
   "metadata": {},
   "outputs": [],
   "source": []
  }
 ],
 "metadata": {
  "kernelspec": {
   "display_name": "Python 3 (ipykernel)",
   "language": "python",
   "name": "python3"
  },
  "language_info": {
   "codemirror_mode": {
    "name": "ipython",
    "version": 3
   },
   "file_extension": ".py",
   "mimetype": "text/x-python",
   "name": "python",
   "nbconvert_exporter": "python",
   "pygments_lexer": "ipython3",
   "version": "3.11.5"
  }
 },
 "nbformat": 4,
 "nbformat_minor": 2
}
