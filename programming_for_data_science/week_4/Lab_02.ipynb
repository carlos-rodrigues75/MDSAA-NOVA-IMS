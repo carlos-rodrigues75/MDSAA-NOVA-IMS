{
 "cells": [
  {
   "cell_type": "markdown",
   "metadata": {},
   "source": [
    "# Programming for Data Science - Lab 2\n",
    "\n",
    "\n",
    "Try to solve the questions below using Python."
   ]
  },
  {
   "cell_type": "markdown",
   "metadata": {},
   "source": [
    "### Variables, Operators, and Data Structures\n",
    "\n",
    "\n",
    "<b>Q</b>: In the following cell we have declared a multiple variables. Can you identify the type of each variable?\n",
    "\n",
    "Remember to run the top cell first."
   ]
  },
  {
   "cell_type": "code",
   "execution_count": 1,
   "metadata": {},
   "outputs": [],
   "source": [
    "a = 15\n",
    "b = 24.5\n",
    "c = \"Knock Knock\"\n",
    "d = \"Who's there?\"\n",
    "e = \"Turnip\"\n",
    "f = \"Turnip Who?\"\n",
    "g = \"Turnip the volume, I love this song!\""
   ]
  },
  {
   "cell_type": "markdown",
   "metadata": {},
   "source": [
    "Let's verify the type of variable a"
   ]
  },
  {
   "cell_type": "code",
   "execution_count": 2,
   "metadata": {},
   "outputs": [
    {
     "data": {
      "text/plain": [
       "int"
      ]
     },
     "execution_count": 2,
     "metadata": {},
     "output_type": "execute_result"
    }
   ],
   "source": [
    "type(a)"
   ]
  },
  {
   "cell_type": "markdown",
   "metadata": {},
   "source": [
    "<b>Q</b>: What is the ouput of multiplying a times b? And what is the variable type of the output?"
   ]
  },
  {
   "cell_type": "code",
   "execution_count": 3,
   "metadata": {},
   "outputs": [
    {
     "data": {
      "text/plain": [
       "39.5"
      ]
     },
     "execution_count": 3,
     "metadata": {},
     "output_type": "execute_result"
    }
   ],
   "source": [
    "a+b"
   ]
  },
  {
   "cell_type": "markdown",
   "metadata": {},
   "source": [
    "<b>Q</b>: Divide variable a by 2, what is the output type?"
   ]
  },
  {
   "cell_type": "code",
   "execution_count": 4,
   "metadata": {},
   "outputs": [
    {
     "data": {
      "text/plain": [
       "7.5"
      ]
     },
     "execution_count": 4,
     "metadata": {},
     "output_type": "execute_result"
    }
   ],
   "source": [
    "a / 2"
   ]
  },
  {
   "cell_type": "markdown",
   "metadata": {},
   "source": [
    "<b>Q</b>: hat if you use the floor operator? Remember the floor operator is //"
   ]
  },
  {
   "cell_type": "code",
   "execution_count": 5,
   "metadata": {},
   "outputs": [
    {
     "data": {
      "text/plain": [
       "7"
      ]
     },
     "execution_count": 5,
     "metadata": {},
     "output_type": "execute_result"
    }
   ],
   "source": [
    "a // 2"
   ]
  },
  {
   "cell_type": "markdown",
   "metadata": {},
   "source": [
    "<b>Q</b>: What if you multiply b by 2, what is the output type?"
   ]
  },
  {
   "cell_type": "code",
   "execution_count": 6,
   "metadata": {},
   "outputs": [
    {
     "data": {
      "text/plain": [
       "49.0"
      ]
     },
     "execution_count": 6,
     "metadata": {},
     "output_type": "execute_result"
    }
   ],
   "source": [
    "b * 2"
   ]
  },
  {
   "cell_type": "markdown",
   "metadata": {},
   "source": [
    "<b>Q</b>: What is the type of variables c,d,e,f, and g? <br>\n",
    "Use the print function to print a sentence that concatenates c,d,e,f, and g and prints each on a new line. Don't forget to add a line break separator \"\\n\" which can be passed as an argument to the print function."
   ]
  },
  {
   "cell_type": "code",
   "execution_count": 7,
   "metadata": {},
   "outputs": [
    {
     "name": "stdout",
     "output_type": "stream",
     "text": [
      "<class 'str'>\n",
      "<class 'str'>\n",
      "<class 'str'>\n",
      "<class 'str'>\n"
     ]
    }
   ],
   "source": [
    "print(type(c), type(d), type(e), type(f), sep=\"\\n\")"
   ]
  },
  {
   "cell_type": "markdown",
   "metadata": {},
   "source": [
    "<b>Q</b>: Consider the list X, declared below. What is the lenght of X? Print the 5th and 9th element of the list."
   ]
  },
  {
   "cell_type": "code",
   "execution_count": 8,
   "metadata": {},
   "outputs": [
    {
     "data": {
      "text/plain": [
       "14"
      ]
     },
     "execution_count": 8,
     "metadata": {},
     "output_type": "execute_result"
    }
   ],
   "source": [
    "X = [2, 1, 21, 13, 233, 144, 0, 3, 8, 5, 89, 34, 1, 55]\n",
    "len(X)"
   ]
  },
  {
   "cell_type": "code",
   "execution_count": 9,
   "metadata": {},
   "outputs": [
    {
     "name": "stdout",
     "output_type": "stream",
     "text": [
      "233\n"
     ]
    }
   ],
   "source": [
    "print(X[4])"
   ]
  },
  {
   "cell_type": "code",
   "execution_count": 10,
   "metadata": {
    "scrolled": true
   },
   "outputs": [
    {
     "name": "stdout",
     "output_type": "stream",
     "text": [
      "8\n"
     ]
    }
   ],
   "source": [
    "print(X[8])"
   ]
  },
  {
   "cell_type": "markdown",
   "metadata": {},
   "source": [
    "<b>Q</b>: List X hides a surprise. It seems that it was randomly shuffled before the class. Can you sort the list contents in ascending order? Make sure that X is sorted. Did you change X or create a new sorted list?"
   ]
  },
  {
   "cell_type": "code",
   "execution_count": 11,
   "metadata": {},
   "outputs": [],
   "source": [
    "X.sort()"
   ]
  },
  {
   "cell_type": "markdown",
   "metadata": {},
   "source": [
    "<b>Q</b>: Hahaha, it seems that X stores the first 14 values (when starting from 0) of the Fibonacci sequence. In the Fibonacci sequence each value is the sum of the previous two values. Can you calculate what are the next two values in the sequence?"
   ]
  },
  {
   "cell_type": "code",
   "execution_count": 12,
   "metadata": {},
   "outputs": [
    {
     "data": {
      "text/plain": [
       "377"
      ]
     },
     "execution_count": 12,
     "metadata": {},
     "output_type": "execute_result"
    }
   ],
   "source": [
    "next_number = X[-1] + X[-2]\n",
    "next_number"
   ]
  },
  {
   "cell_type": "code",
   "execution_count": 13,
   "metadata": {},
   "outputs": [
    {
     "data": {
      "text/plain": [
       "610"
      ]
     },
     "execution_count": 13,
     "metadata": {},
     "output_type": "execute_result"
    }
   ],
   "source": [
    "last_number = next_number + X[-1]\n",
    "last_number"
   ]
  },
  {
   "cell_type": "markdown",
   "metadata": {},
   "source": [
    "<b>Q</b>: Append to the end of X the next two values of the Fibonacci sequence.\n",
    "Afterwards print the List and confirm that the values have been added successfuly.\n",
    "\n",
    "Note: you should be able to do this only calling X and its elements by the index."
   ]
  },
  {
   "cell_type": "code",
   "execution_count": 14,
   "metadata": {},
   "outputs": [],
   "source": [
    "X.append(next_number)"
   ]
  },
  {
   "cell_type": "code",
   "execution_count": 15,
   "metadata": {},
   "outputs": [],
   "source": [
    "X.append(last_number)"
   ]
  },
  {
   "cell_type": "markdown",
   "metadata": {},
   "source": [
    "<b>Q</b>: Now, suppose you show the sequence to your Math professor, who is a really opinionated and a believer that 0 should not be the first value of the sequence. He instructs you to remove it. Can you delete the value 0 from the list X? Show that you have successfuly remove the element 0."
   ]
  },
  {
   "cell_type": "code",
   "execution_count": 16,
   "metadata": {},
   "outputs": [
    {
     "data": {
      "text/plain": [
       "0"
      ]
     },
     "execution_count": 16,
     "metadata": {},
     "output_type": "execute_result"
    }
   ],
   "source": [
    "X.pop(0)"
   ]
  },
  {
   "cell_type": "code",
   "execution_count": 17,
   "metadata": {},
   "outputs": [
    {
     "data": {
      "text/plain": [
       "[1, 1, 2, 3, 5, 8, 13, 21, 34, 55, 89, 144, 233, 377, 610]"
      ]
     },
     "execution_count": 17,
     "metadata": {},
     "output_type": "execute_result"
    }
   ],
   "source": [
    "X"
   ]
  },
  {
   "cell_type": "markdown",
   "metadata": {},
   "source": [
    "<b>Q</b>: Typecast the List X into a Tuple, and store the output in variable Y."
   ]
  },
  {
   "cell_type": "code",
   "execution_count": 18,
   "metadata": {},
   "outputs": [],
   "source": [
    "Y = tuple(X)"
   ]
  },
  {
   "cell_type": "markdown",
   "metadata": {},
   "source": [
    "<b>Q</b>: What is the lenght of Y?"
   ]
  },
  {
   "cell_type": "code",
   "execution_count": 19,
   "metadata": {},
   "outputs": [
    {
     "data": {
      "text/plain": [
       "15"
      ]
     },
     "execution_count": 19,
     "metadata": {},
     "output_type": "execute_result"
    }
   ],
   "source": [
    "len(Y)"
   ]
  },
  {
   "cell_type": "markdown",
   "metadata": {},
   "source": [
    "<b>Q</b>: Typecaste the List X into a Set. What is the size of the resulting Set?"
   ]
  },
  {
   "cell_type": "code",
   "execution_count": 20,
   "metadata": {},
   "outputs": [
    {
     "data": {
      "text/plain": [
       "14"
      ]
     },
     "execution_count": 20,
     "metadata": {},
     "output_type": "execute_result"
    }
   ],
   "source": [
    "len(set(X))"
   ]
  },
  {
   "cell_type": "markdown",
   "metadata": {},
   "source": [
    "<b>Q</b>: Below you can find the two variabls declared: movies and actors. \n",
    "\n",
    "The variable 'movies' stores a List with information about the movies each of a number actors have played a role in. That is, each entry in the movies List is a List of movie titles in which a particular actor played a role. The actor is thus encoded in the index of the List movies.\n",
    "\n",
    "The variable actors is a dictionary that provides a map between an actor name (key) and the corresponding index in the list movies (value). Thus, it provides a quick way to access the list movies using the name of the actor."
   ]
  },
  {
   "cell_type": "code",
   "execution_count": 21,
   "metadata": {},
   "outputs": [],
   "source": [
    "movies = [\n",
    "    ['JFK', 'Sleepers', 'Mystic River', 'Diner', 'Tremors', 'Hollow Man', 'A Few Good Men', 'Apollo 13', 'X-Men: First Class', 'Footloose'],\n",
    "    ['Marjorie Prime','A Perfect Day','The Spoils Before Dying','Spoils of Babylon','Portlandia','The Secret Life of Words','Anchorman: The Legend of Ron Burgundy','Code 46','Mystic River','Austin Powers: The Spy Who Shagged Me','I.Q','The Shawshank Redemption','Short Cuts','Top Gun'],\n",
    "    ['Happy Feet 2','Happy Feet','Back To The Future 2','Lord Of The Rings : The fellowship of the ring','Lord Of The Rings : The two towers','Lord Of The Rings : Return Of The King','The Hobbit : The Battle Of Five Armies','The Hobbit : An Unexpected Journey ','Sin City','Spy Kids 3 : Game Over'],\n",
    "    ['Back to the Future','Back to the Future Part II ','Back to the Future Part III','Casualties of War ','The Hard Way','The Frighteners','Doc Hollywood','Greedy ','Teen Wolf ','Bright Lights, Big City'],\n",
    "    ['X-Men','The Lord of the Rings: The Fellowship of the Ring','The Lord of the Rings: The Two Towers','The Lord of the Rings: The Return of the King','Emile','X2','Eighteen','X-Men: The Last Stand','The Magic Roundabout','Flushed Away'],\n",
    "    ['I Am Sam.','Sweet Home Alabama.','Trapped.','Hansel & Gretel.','Uptown Girls.','The Cat In The Hat.','Man On Fire.','Nine Lives.','Hide And Seek.','War Of The Worlds.'],\n",
    "    ['Manhattan ','Ironweed','Out of Africa ','Silkwood','The French Lieutenants Woman','Julie & Julia','The Devil Wears Prada','The Iron Lady','Sophies Choice','Kramer vs. Kramer'],\n",
    "    ['The Thirteenth Year','The Flintstones in Viva Rock Vegas','The Safety of ObjectsPanic Room','Cold Creek Manor','Catch That Kid','Speak','Undertow','Fierce People','Zathura A Space Adventure'],\n",
    "    ['Cowboys & Aliens','Paranoia','Ender Game','Anchorman 2: The Legend Continues','The Expendables 3','The Age of Adaline','Star Wars: Episode VII - The Force Awakens','Blade Runner 2049','Star Wars: Episode IX - The Rise of Skywalker','The Call of the Wild'],\n",
    "    ['Harry Potter and the Philosophers Stone','Harry Potter and the Chamber of Secrets','Thunderpants','Harry Potter and the Prisoner of Azkaban','Harry Potter and the Goblet of Fire','Driving Lessons','Harry Potter and the Order of the Phoenix','Harry Potter and the Half-Blood Prince','Cherrybomb','Wild Target'],\n",
    "]\n",
    "actors = dict((\n",
    "    ('Kevin Bacon',1),\n",
    "    ('Tim Robbins',2),\n",
    "    ('Elijah Wood',3),\n",
    "    ('Michael J. Fox',4),\n",
    "    ('Ian McKellen',5),\n",
    "    ('Dakota Fannings',6),\n",
    "    ('Maryl Streep',7),\n",
    "    ('Kristen Stewart',8),\n",
    "    ('Harrison Ford',9),\n",
    "    ('Rupert Grint',10)\n",
    "))"
   ]
  },
  {
   "cell_type": "markdown",
   "metadata": {},
   "source": [
    "Can you list all the actors names in the dictionary actors?"
   ]
  },
  {
   "cell_type": "code",
   "execution_count": 22,
   "metadata": {},
   "outputs": [
    {
     "name": "stdout",
     "output_type": "stream",
     "text": [
      "Kevin Bacon\n",
      "Tim Robbins\n",
      "Elijah Wood\n",
      "Michael J. Fox\n",
      "Ian McKellen\n",
      "Dakota Fannings\n",
      "Maryl Streep\n",
      "Kristen Stewart\n",
      "Harrison Ford\n",
      "Rupert Grint\n"
     ]
    }
   ],
   "source": [
    "print(*actors.keys(), sep=\"\\n\")"
   ]
  },
  {
   "cell_type": "markdown",
   "metadata": {},
   "source": [
    "Compare the lenght of the List movies with the maximum and minimum index value associated with an actor name. What do you conclude?"
   ]
  },
  {
   "cell_type": "code",
   "execution_count": null,
   "metadata": {},
   "outputs": [],
   "source": []
  },
  {
   "cell_type": "markdown",
   "metadata": {},
   "source": [
    "Print the names of the movies in which Kevin Bacon played a role."
   ]
  },
  {
   "cell_type": "code",
   "execution_count": 23,
   "metadata": {},
   "outputs": [
    {
     "name": "stdout",
     "output_type": "stream",
     "text": [
      "JFK\n",
      "Sleepers\n",
      "Mystic River\n",
      "Diner\n",
      "Tremors\n",
      "Hollow Man\n",
      "A Few Good Men\n",
      "Apollo 13\n",
      "X-Men: First Class\n",
      "Footloose\n"
     ]
    }
   ],
   "source": [
    "print(*movies[actors['Kevin Bacon']-1], sep=\"\\n\")"
   ]
  },
  {
   "cell_type": "markdown",
   "metadata": {},
   "source": [
    "Can you identify in which movies have \"Kevin Bacon\" and \"Tim Robbins\" co-starred? <br>\n",
    "Tip: Using Sets is quite handy for this task."
   ]
  },
  {
   "cell_type": "code",
   "execution_count": 24,
   "metadata": {},
   "outputs": [
    {
     "name": "stdout",
     "output_type": "stream",
     "text": [
      "Mystic River\n"
     ]
    }
   ],
   "source": [
    "kevin_bacon_movies = set(movies[actors['Kevin Bacon']-1])\n",
    "tim_robbins_movies = set(movies[actors['Tim Robbins']-1])\n",
    "\n",
    "insersection = set.intersection(kevin_bacon_movies, tim_robbins_movies)\n",
    "print(*insersection, sep=\"\\n\")"
   ]
  },
  {
   "cell_type": "markdown",
   "metadata": {},
   "source": [
    "<b>Q</b>: In the Lecture we have discussed how data sctructures might be mutable or immutable depending on if they allow for the user to change individual elements they store. Can you demonstrate, by example, if each of the available data structures -- Tuples, Lists, Dictionaries, and Sets -- are mutable or not?\n",
    "\n",
    "Tip: To show that it is immutable, you just need to show that you can't change a value. Likewise, to show that it is mutable, you only need to show that you can indeed change a value."
   ]
  },
  {
   "cell_type": "code",
   "execution_count": null,
   "metadata": {},
   "outputs": [],
   "source": []
  },
  {
   "cell_type": "markdown",
   "metadata": {},
   "source": [
    "### Flow Control"
   ]
  },
  {
   "cell_type": "markdown",
   "metadata": {},
   "source": [
    "<b>Q</b>: Write a program that, for an arbitrary choice of X and Y (with Y > X), prints all the even numbers in the range [X,Y]."
   ]
  },
  {
   "cell_type": "code",
   "execution_count": 25,
   "metadata": {},
   "outputs": [],
   "source": [
    "# Example values for X and Y\n",
    "X = 3\n",
    "Y = 15"
   ]
  },
  {
   "cell_type": "code",
   "execution_count": 26,
   "metadata": {
    "scrolled": true
   },
   "outputs": [
    {
     "name": "stdout",
     "output_type": "stream",
     "text": [
      "First Condition\n",
      "4\n",
      "6\n",
      "8\n",
      "10\n",
      "12\n",
      "14\n"
     ]
    }
   ],
   "source": [
    "if Y>X:\n",
    "    print('First Condition')\n",
    "    for x in range(X,Y+1):\n",
    "        if x%2==0:\n",
    "            print(x)\n",
    "else:\n",
    "    print('Second Condition')\n",
    "    for x in range(Y,X+1):\n",
    "        if x%2==0:\n",
    "            print(x)"
   ]
  },
  {
   "cell_type": "markdown",
   "metadata": {},
   "source": [
    "<b>Q</b>: Consider the tuples X and Y that are declared below. Write a program that identifies the indexes of the two lists that correspond to matching values."
   ]
  },
  {
   "cell_type": "code",
   "execution_count": 27,
   "metadata": {},
   "outputs": [],
   "source": [
    "X = (1,2,3,4,5,6,7)\n",
    "Y = (7,2,3,10,2,8,9)"
   ]
  },
  {
   "cell_type": "code",
   "execution_count": 28,
   "metadata": {},
   "outputs": [],
   "source": [
    "# Iterate X \n",
    "# Iterate Y\n",
    "# Compare if they match\n",
    "# If true then store respective indexes\n",
    "\n",
    "\n",
    "matching_indexes = []\n",
    "\n",
    "\n",
    "for i, x in enumerate(X):\n",
    "    for j, y in enumerate(Y):\n",
    "        if x==y:\n",
    "            matching_indexes.append([i, j])"
   ]
  },
  {
   "cell_type": "code",
   "execution_count": 29,
   "metadata": {},
   "outputs": [
    {
     "data": {
      "text/plain": [
       "[[1, 1], [1, 4], [2, 2], [6, 0]]"
      ]
     },
     "execution_count": 29,
     "metadata": {},
     "output_type": "execute_result"
    }
   ],
   "source": [
    "[[1, 1], [1, 4], [2, 2], [6, 0]]"
   ]
  },
  {
   "cell_type": "code",
   "execution_count": 30,
   "metadata": {},
   "outputs": [
    {
     "name": "stdout",
     "output_type": "stream",
     "text": [
      "a\n",
      "b\n",
      "c\n"
     ]
    }
   ],
   "source": [
    "T = ['a', 'b', 'c']\n",
    "\n",
    "for a in T:\n",
    "    print(a)"
   ]
  },
  {
   "cell_type": "markdown",
   "metadata": {},
   "source": [
    "<b>Q</b>: Write a computer program that computes the average of the values stored in a list X"
   ]
  },
  {
   "cell_type": "code",
   "execution_count": 31,
   "metadata": {},
   "outputs": [
    {
     "name": "stdout",
     "output_type": "stream",
     "text": [
      "10 4 2.5\n"
     ]
    }
   ],
   "source": [
    "X = [1,2,3,4]\n",
    "\n",
    "divider = len(X)\n",
    "\n",
    "a = 0\n",
    "\n",
    "for x in X:\n",
    "    #a = a+x\n",
    "    a+=x\n",
    "    \n",
    "    \n",
    "print(a, divider, a/divider)"
   ]
  },
  {
   "cell_type": "markdown",
   "metadata": {},
   "source": [
    "<b>Q</b>: Write a computer program that computes the standard deviation of the values stored in a list X"
   ]
  },
  {
   "cell_type": "code",
   "execution_count": 32,
   "metadata": {},
   "outputs": [
    {
     "data": {
      "text/plain": [
       "1.2909944487358056"
      ]
     },
     "execution_count": 32,
     "metadata": {},
     "output_type": "execute_result"
    }
   ],
   "source": [
    "n = len(X)\n",
    "mean = sum(X)/n\n",
    "\n",
    "sum_of_squares = 0\n",
    "for i in X:\n",
    "    sum_of_squares += (i-mean)**2\n",
    "\n",
    "std = (1/(n-1) * sum_of_squares)**0.5\n",
    "std"
   ]
  },
  {
   "cell_type": "markdown",
   "metadata": {},
   "source": [
    "<b>Q</b>: Write a computer program that computes the median of the values stored in a list X"
   ]
  },
  {
   "cell_type": "code",
   "execution_count": 33,
   "metadata": {},
   "outputs": [
    {
     "data": {
      "text/plain": [
       "3"
      ]
     },
     "execution_count": 33,
     "metadata": {},
     "output_type": "execute_result"
    }
   ],
   "source": [
    "sorted_list = sorted(X)\n",
    "\n",
    "sorted_list[len(sorted_list)//2]"
   ]
  },
  {
   "cell_type": "markdown",
   "metadata": {},
   "source": [
    "## Python STL"
   ]
  },
  {
   "cell_type": "markdown",
   "metadata": {},
   "source": [
    "<b>Q</b>: Use the OS module to list all the files in your current working folder"
   ]
  },
  {
   "cell_type": "code",
   "execution_count": 34,
   "metadata": {
    "scrolled": true
   },
   "outputs": [
    {
     "name": "stdout",
     "output_type": "stream",
     "text": [
      "files in working directory:  ['Lab_02.ipynb']\n",
      "paths:  ['/Users/carlos.costa/studies/MDSAA-NOVA-IMS/programming_for_data_science/Week 2', '/Users/carlos.costa/anaconda3/envs/DM2324/lib/python311.zip', '/Users/carlos.costa/anaconda3/envs/DM2324/lib/python3.11', '/Users/carlos.costa/anaconda3/envs/DM2324/lib/python3.11/lib-dynload', '', '/Users/carlos.costa/anaconda3/envs/DM2324/lib/python3.11/site-packages']\n"
     ]
    }
   ],
   "source": [
    "# We start by loading the OS module\n",
    "import os\n",
    "\n",
    "# and then we can call the method listdir() to print the files in y our working folder\n",
    "print(\"files in working directory: \",os.listdir())\n",
    "\n",
    "#additionally using the sys we can check which paths is your python using to load modules\n",
    "import sys\n",
    "print(\"paths: \",sys.path)"
   ]
  },
  {
   "cell_type": "code",
   "execution_count": 35,
   "metadata": {},
   "outputs": [
    {
     "name": "stdout",
     "output_type": "stream",
     "text": [
      "Lab_02.ipynb\n"
     ]
    }
   ],
   "source": [
    "# alternatively we can use magic commands like follow \n",
    "%ls"
   ]
  },
  {
   "cell_type": "markdown",
   "metadata": {},
   "source": [
    "<b>Q</b>: Use the Random module to create a list of 100 with random floats (between 0 an 1)"
   ]
  },
  {
   "cell_type": "code",
   "execution_count": 36,
   "metadata": {},
   "outputs": [
    {
     "name": "stdout",
     "output_type": "stream",
     "text": [
      "[0.5247466788480939, 0.1993707926983107, 0.4420359943095815, 0.1377492983997144, 0.5045104407830369, 0.35800945125126793, 0.02393662984025202, 0.6593855411829689, 0.4252925906155246, 0.004977544750587204, 0.1856628132990985, 0.8941483110072693, 0.8821265917681711, 0.9459443652653097, 0.5910747181295455, 0.1767147738319319, 0.5517818144145608, 0.3072303606163834, 0.4257997280437279, 0.8277084757451292, 0.2529145296694072, 0.668396331611225, 0.9420360705692067, 0.7458918743864777, 0.8755598809438823, 0.3176238415132946, 0.12380132882236672, 0.05163256918308934, 0.30915778163126206, 0.9922422722481101, 0.6014036477201535, 0.2292067795352536, 0.04492742051766674, 0.692941852271329, 0.5249080860959595, 0.03259948703260773, 0.13936697670055953, 0.7780196722855108, 0.10625371788495408, 0.014755380540314778, 0.6637061340377891, 0.023442361576141435, 0.41951995143020504, 0.8877714307518084, 0.9166629566761603, 0.6306150323023119, 0.5774580476117762, 0.996567199163787, 0.2999745096778509, 0.8246665717985002, 0.6266729271954159, 0.9869695071151452, 0.20293346267275825, 0.3682702506080542, 0.4410545071949864, 0.7675343685230973, 0.12311081943288826, 0.218428232372895, 0.43955411528191535, 0.944032042106938, 0.5983887453022827, 0.5020477862743795, 0.8084817786287377, 0.36871557891887874, 0.6139982511419806, 0.8586855886713085, 0.4890432341731854, 0.5311367092033757, 0.48624892183195845, 0.15861393722991068, 0.43171729309992635, 0.5268232416679619, 0.1817008119173794, 0.9274366831172098, 0.7029714700212536, 0.6336928999242035, 0.1483821175564105, 0.16043482435056622, 0.9635671150207503, 0.19189639020511484, 0.9148271608728074, 0.6118938547183884, 0.151069540070921, 0.4171037216736495, 0.676327194805362, 0.18408639287022466, 0.31815919261522296, 0.49514051308150653, 0.3004674719201984, 0.4293332358439227, 0.7991184478851859, 0.18097201178859768, 0.6636649570004957, 0.11347233525946487, 0.15627132518624887, 0.0930775777660765, 0.1858246559494825, 0.801307714031497, 0.8973592851763971, 0.7484369714419675]\n",
      "[0.8508249218309992, 0.7358301206344477, 0.47211307141605563, 0.3858063397001654, 0.9973611900805958, 0.42300525264955224, 0.3780940143470646, 0.2594948902010883, 0.42400406174885996, 0.816593616390061, 0.9233772238691748, 0.6835656783598978, 0.16360157967444622, 0.6133381920770182, 0.5221944601532389, 0.22290508803851894, 0.9170030808686443, 0.3936930750888764, 0.9935330358986117, 0.9702779423705514, 0.44959652065928035, 0.7141185649807257, 0.4969469668116484, 0.10740745480471747, 0.0020215888014099015, 0.7374973026942728, 0.43648329164794286, 0.3642083907815158, 0.04741316448855848, 0.37881304935565085, 0.2703493289285218, 0.869406741139532, 0.6840315284581899, 0.9753857857950011, 0.6857409502717577, 0.4415302753723356, 0.5883006047272128, 0.1015063484280323, 0.47134896589968767, 0.13126873389275773, 0.537281759692002, 0.09376508470685774, 0.7044165226387443, 0.5364262183117907, 0.914197137862781, 0.7455189929719718, 0.34984823249733654, 0.9607866327788351, 0.05199603278831477, 0.7085404598422669, 0.25935581294756505, 0.6700663252288794, 0.6083487799593998, 0.33231690237000655, 0.05133171862938524, 0.928442359937948, 0.7388944093047982, 0.5713689392510028, 0.7759384007949288, 0.11076447848792814, 0.11591046637266067, 0.4277283442626679, 0.2112683835149065, 0.5484992596911838, 0.15776349764622444, 0.35627792358669974, 0.08368671519108328, 0.163347374450583, 0.948083177426145, 0.00527509162190698, 0.09054607928854619, 0.417340600999785, 0.02452534525992467, 0.27251621759019373, 0.8443083592148499, 0.7054391124008895, 0.1725708844392484, 0.36938130043683104, 0.7781805020164906, 0.1320174867099555, 0.7793301170138015, 0.9551917492432451, 0.8292901611159669, 0.4196998801006675, 0.3104695676685528, 0.296597235875643, 0.09370657140114158, 0.31811325359915565, 0.898550703314, 0.23304565253807819, 0.3373453752487521, 0.2179789858424127, 0.16186501467923564, 0.8432812692052145, 0.8033323464032444, 0.6240797455606635, 0.4457475591216038, 0.7391088282988802, 0.4732635250127265, 0.2090311983801698]\n"
     ]
    }
   ],
   "source": [
    "# We start by loading the random module \n",
    "import random\n",
    "\n",
    "#we can create a list of random numbers using a for loop\n",
    "r = []\n",
    "for rnd in range(100):\n",
    "    r.append(random.random())\n",
    "print(r)\n",
    "\n",
    "#or a while loop\n",
    "r2 = []\n",
    "while len(r2) < 100:\n",
    "    r2.append(random.random()) \n",
    "print(r2)"
   ]
  },
  {
   "cell_type": "markdown",
   "metadata": {},
   "source": [
    "<b>Q</b>:  Use the Math module to multiply each of the random numbers by 2 Pi"
   ]
  },
  {
   "cell_type": "code",
   "execution_count": 37,
   "metadata": {},
   "outputs": [],
   "source": [
    "# we start by loading the module math\n",
    "import math\n",
    "\n",
    "# loop over all elements of r and multiply each by math.pi (approximations are for nerds)\n",
    "for i in range(len(r)):\n",
    "    r[i] *= math.pi\n",
    " "
   ]
  },
  {
   "cell_type": "markdown",
   "metadata": {},
   "source": [
    "<b>Q</b>: Use the Math module to obtain the Sin of each of those values"
   ]
  },
  {
   "cell_type": "code",
   "execution_count": 38,
   "metadata": {},
   "outputs": [],
   "source": [
    "# you can use another loop allow us to replace the values by its Sin() for i in range(len(r)):\n"
   ]
  },
  {
   "cell_type": "markdown",
   "metadata": {},
   "source": [
    "## Additional Exercises"
   ]
  },
  {
   "cell_type": "markdown",
   "metadata": {},
   "source": [
    "<b>Question</b>: With a given integral number n, write a program to generate a dictionary that contains (i, i*i) such that is an integral number between 1 and n (both included). and then the program should print the dictionary.\n",
    "\n",
    "Suppose the following input is supplied to the program: 8 <br>\n",
    "Then, the output should be:\n",
    "{1: 1, 2: 4, 3: 9, 4: 16, 5: 25, 6: 36, 7: 49, 8: 64}"
   ]
  },
  {
   "cell_type": "code",
   "execution_count": null,
   "metadata": {},
   "outputs": [],
   "source": []
  },
  {
   "cell_type": "markdown",
   "metadata": {},
   "source": [
    "<b>Question</b>: Write a program that accepts a comma separated sequence of words as input and prints the words in a comma-separated sequence after sorting them alphabetically.\n",
    "\n",
    "Suppose the following input is supplied to the program: without,hello,bag,world <br>\n",
    "Then, the output should be: bag,hello,without,world"
   ]
  },
  {
   "cell_type": "code",
   "execution_count": 39,
   "metadata": {},
   "outputs": [],
   "source": [
    "string_input = 'without,hello,bag,world'\n",
    "\n",
    "# write your code here:"
   ]
  },
  {
   "cell_type": "code",
   "execution_count": null,
   "metadata": {},
   "outputs": [],
   "source": []
  },
  {
   "cell_type": "markdown",
   "metadata": {},
   "source": [
    "<b>Question</b>: Write a program, which will find all such numbers between X and Y (both included) such that each digit of the number is an even number. The numbers obtained should be printed in a comma-separated sequence on a single line.\n",
    "\n",
    "Suppose the following input is supplied to the program: 10,50 <br>\n",
    "Then, the output should be: 20,22,24,26,28,40,42,44,46,48"
   ]
  },
  {
   "cell_type": "code",
   "execution_count": null,
   "metadata": {},
   "outputs": [],
   "source": []
  },
  {
   "cell_type": "code",
   "execution_count": null,
   "metadata": {},
   "outputs": [],
   "source": []
  }
 ],
 "metadata": {
  "kernelspec": {
   "display_name": "Python 3 (ipykernel)",
   "language": "python",
   "name": "python3"
  },
  "language_info": {
   "codemirror_mode": {
    "name": "ipython",
    "version": 3
   },
   "file_extension": ".py",
   "mimetype": "text/x-python",
   "name": "python",
   "nbconvert_exporter": "python",
   "pygments_lexer": "ipython3",
   "version": "3.11.5"
  }
 },
 "nbformat": 4,
 "nbformat_minor": 2
}
