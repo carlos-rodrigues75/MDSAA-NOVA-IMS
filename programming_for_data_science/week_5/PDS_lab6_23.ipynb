{
 "cells": [
  {
   "cell_type": "markdown",
   "metadata": {},
   "source": [
    "# Lab 6 - More Fun with Pandas\n"
   ]
  },
  {
   "cell_type": "markdown",
   "metadata": {},
   "source": [
    "**Import the pandas library**"
   ]
  },
  {
   "cell_type": "code",
   "execution_count": 17,
   "metadata": {
    "ExecuteTime": {
     "end_time": "2023-10-03T13:36:25.345217Z",
     "start_time": "2023-10-03T13:36:25.327414Z"
    }
   },
   "outputs": [],
   "source": [
    "import pandas as pd"
   ]
  },
  {
   "cell_type": "markdown",
   "metadata": {},
   "source": [
    "### **1.** Import the dataset below to a variable called 'users'.\n",
    "\n",
    "'https://raw.githubusercontent.com/justmarkham/DAT8/master/data/u.user'\n",
    "\n",
    "The data is separated with | and the index column is called 'user_id'\n"
   ]
  },
  {
   "cell_type": "code",
   "execution_count": 32,
   "metadata": {
    "ExecuteTime": {
     "end_time": "2023-10-03T13:46:22.076409Z",
     "start_time": "2023-10-03T13:46:21.580019Z"
    }
   },
   "outputs": [],
   "source": [
    "df = pd.read_csv(\"https://raw.githubusercontent.com/justmarkham/DAT8/master/data/u.user\", sep = \"|\", index_col = \"user_id\")"
   ]
  },
  {
   "cell_type": "markdown",
   "metadata": {},
   "source": [
    "**1.2.** Take a look at the last 10 entries to check the data loaded correctly."
   ]
  },
  {
   "cell_type": "code",
   "execution_count": 6,
   "metadata": {
    "scrolled": true,
    "ExecuteTime": {
     "end_time": "2023-10-03T13:30:36.959738Z",
     "start_time": "2023-10-03T13:30:36.948015Z"
    }
   },
   "outputs": [
    {
     "data": {
      "text/plain": "         age gender     occupation zip_code\nuser_id                                    \n934       61      M       engineer    22902\n935       42      M         doctor    66221\n936       24      M          other    32789\n937       48      M       educator    98072\n938       38      F     technician    55038\n939       26      F        student    33319\n940       32      M  administrator    02215\n941       20      M        student    97229\n942       48      F      librarian    78209\n943       22      M        student    77841",
      "text/html": "<div>\n<style scoped>\n    .dataframe tbody tr th:only-of-type {\n        vertical-align: middle;\n    }\n\n    .dataframe tbody tr th {\n        vertical-align: top;\n    }\n\n    .dataframe thead th {\n        text-align: right;\n    }\n</style>\n<table border=\"1\" class=\"dataframe\">\n  <thead>\n    <tr style=\"text-align: right;\">\n      <th></th>\n      <th>age</th>\n      <th>gender</th>\n      <th>occupation</th>\n      <th>zip_code</th>\n    </tr>\n    <tr>\n      <th>user_id</th>\n      <th></th>\n      <th></th>\n      <th></th>\n      <th></th>\n    </tr>\n  </thead>\n  <tbody>\n    <tr>\n      <th>934</th>\n      <td>61</td>\n      <td>M</td>\n      <td>engineer</td>\n      <td>22902</td>\n    </tr>\n    <tr>\n      <th>935</th>\n      <td>42</td>\n      <td>M</td>\n      <td>doctor</td>\n      <td>66221</td>\n    </tr>\n    <tr>\n      <th>936</th>\n      <td>24</td>\n      <td>M</td>\n      <td>other</td>\n      <td>32789</td>\n    </tr>\n    <tr>\n      <th>937</th>\n      <td>48</td>\n      <td>M</td>\n      <td>educator</td>\n      <td>98072</td>\n    </tr>\n    <tr>\n      <th>938</th>\n      <td>38</td>\n      <td>F</td>\n      <td>technician</td>\n      <td>55038</td>\n    </tr>\n    <tr>\n      <th>939</th>\n      <td>26</td>\n      <td>F</td>\n      <td>student</td>\n      <td>33319</td>\n    </tr>\n    <tr>\n      <th>940</th>\n      <td>32</td>\n      <td>M</td>\n      <td>administrator</td>\n      <td>02215</td>\n    </tr>\n    <tr>\n      <th>941</th>\n      <td>20</td>\n      <td>M</td>\n      <td>student</td>\n      <td>97229</td>\n    </tr>\n    <tr>\n      <th>942</th>\n      <td>48</td>\n      <td>F</td>\n      <td>librarian</td>\n      <td>78209</td>\n    </tr>\n    <tr>\n      <th>943</th>\n      <td>22</td>\n      <td>M</td>\n      <td>student</td>\n      <td>77841</td>\n    </tr>\n  </tbody>\n</table>\n</div>"
     },
     "execution_count": 6,
     "metadata": {},
     "output_type": "execute_result"
    }
   ],
   "source": [
    "df.tail(10)"
   ]
  },
  {
   "cell_type": "markdown",
   "metadata": {},
   "source": [
    "**1.3.** What is the size of the dataset, in terms of both observations and variables?"
   ]
  },
  {
   "cell_type": "code",
   "execution_count": 7,
   "metadata": {
    "ExecuteTime": {
     "end_time": "2023-10-03T13:30:49.239714Z",
     "start_time": "2023-10-03T13:30:49.221854Z"
    }
   },
   "outputs": [
    {
     "data": {
      "text/plain": "(943, 4)"
     },
     "execution_count": 7,
     "metadata": {},
     "output_type": "execute_result"
    }
   ],
   "source": [
    "df.shape"
   ]
  },
  {
   "cell_type": "markdown",
   "metadata": {},
   "source": [
    "**1.5.** What is the data type of each column?"
   ]
  },
  {
   "cell_type": "code",
   "execution_count": 12,
   "metadata": {
    "ExecuteTime": {
     "end_time": "2023-10-03T13:34:40.015643Z",
     "start_time": "2023-10-03T13:34:40.011434Z"
    }
   },
   "outputs": [
    {
     "data": {
      "text/plain": "age            int64\ngender        object\noccupation    object\nzip_code      object\ndtype: object"
     },
     "execution_count": 12,
     "metadata": {},
     "output_type": "execute_result"
    }
   ],
   "source": [
    "# df.dtypes\n",
    "df.info()"
   ]
  },
  {
   "cell_type": "markdown",
   "metadata": {},
   "source": [
    "**1.6.** Extract just the occupations, what type of data is this?"
   ]
  },
  {
   "cell_type": "code",
   "execution_count": 19,
   "metadata": {
    "ExecuteTime": {
     "end_time": "2023-10-03T13:37:37.705527Z",
     "start_time": "2023-10-03T13:37:37.680508Z"
    }
   },
   "outputs": [
    {
     "name": "stdout",
     "output_type": "stream",
     "text": [
      "<class 'pandas.core.series.Series'>\n",
      "Int64Index: 943 entries, 1 to 943\n",
      "Series name: occupation\n",
      "Non-Null Count  Dtype \n",
      "--------------  ----- \n",
      "943 non-null    object\n",
      "dtypes: object(1)\n",
      "memory usage: 14.7+ KB\n"
     ]
    }
   ],
   "source": [
    "df['occupation'].info()"
   ]
  },
  {
   "cell_type": "markdown",
   "metadata": {},
   "source": [
    "**1.7.** The zip code data may be giving away personal data, extract all the other columns into a new variable. What is this datatype?"
   ]
  },
  {
   "cell_type": "code",
   "execution_count": 26,
   "metadata": {
    "ExecuteTime": {
     "end_time": "2023-10-03T13:44:08.564767Z",
     "start_time": "2023-10-03T13:44:08.548499Z"
    }
   },
   "outputs": [
    {
     "data": {
      "text/plain": "         age gender     occupation\nuser_id                           \n1         24      M     technician\n2         53      F          other\n3         23      M         writer\n4         24      M     technician\n5         33      F          other\n...      ...    ...            ...\n939       26      F        student\n940       32      M  administrator\n941       20      M        student\n942       48      F      librarian\n943       22      M        student\n\n[943 rows x 3 columns]",
      "text/html": "<div>\n<style scoped>\n    .dataframe tbody tr th:only-of-type {\n        vertical-align: middle;\n    }\n\n    .dataframe tbody tr th {\n        vertical-align: top;\n    }\n\n    .dataframe thead th {\n        text-align: right;\n    }\n</style>\n<table border=\"1\" class=\"dataframe\">\n  <thead>\n    <tr style=\"text-align: right;\">\n      <th></th>\n      <th>age</th>\n      <th>gender</th>\n      <th>occupation</th>\n    </tr>\n    <tr>\n      <th>user_id</th>\n      <th></th>\n      <th></th>\n      <th></th>\n    </tr>\n  </thead>\n  <tbody>\n    <tr>\n      <th>1</th>\n      <td>24</td>\n      <td>M</td>\n      <td>technician</td>\n    </tr>\n    <tr>\n      <th>2</th>\n      <td>53</td>\n      <td>F</td>\n      <td>other</td>\n    </tr>\n    <tr>\n      <th>3</th>\n      <td>23</td>\n      <td>M</td>\n      <td>writer</td>\n    </tr>\n    <tr>\n      <th>4</th>\n      <td>24</td>\n      <td>M</td>\n      <td>technician</td>\n    </tr>\n    <tr>\n      <th>5</th>\n      <td>33</td>\n      <td>F</td>\n      <td>other</td>\n    </tr>\n    <tr>\n      <th>...</th>\n      <td>...</td>\n      <td>...</td>\n      <td>...</td>\n    </tr>\n    <tr>\n      <th>939</th>\n      <td>26</td>\n      <td>F</td>\n      <td>student</td>\n    </tr>\n    <tr>\n      <th>940</th>\n      <td>32</td>\n      <td>M</td>\n      <td>administrator</td>\n    </tr>\n    <tr>\n      <th>941</th>\n      <td>20</td>\n      <td>M</td>\n      <td>student</td>\n    </tr>\n    <tr>\n      <th>942</th>\n      <td>48</td>\n      <td>F</td>\n      <td>librarian</td>\n    </tr>\n    <tr>\n      <th>943</th>\n      <td>22</td>\n      <td>M</td>\n      <td>student</td>\n    </tr>\n  </tbody>\n</table>\n<p>943 rows × 3 columns</p>\n</div>"
     },
     "execution_count": 26,
     "metadata": {},
     "output_type": "execute_result"
    }
   ],
   "source": [
    "# df = df - df['zip_code']\n",
    "# df.drop(columns=[\"zip_code\"], inplace=True)\n",
    "# df.drop(\"zip_code\", axis=1)"
   ]
  },
  {
   "cell_type": "markdown",
   "metadata": {},
   "source": [
    "* *1.8.** How many different occupations are in this dataset?"
   ]
  },
  {
   "cell_type": "code",
   "execution_count": 27,
   "metadata": {
    "ExecuteTime": {
     "end_time": "2023-10-03T13:44:35.607559Z",
     "start_time": "2023-10-03T13:44:35.582400Z"
    }
   },
   "outputs": [
    {
     "data": {
      "text/plain": "array(['technician', 'other', 'writer', 'executive', 'administrator',\n       'student', 'lawyer', 'educator', 'scientist', 'entertainment',\n       'programmer', 'librarian', 'homemaker', 'artist', 'engineer',\n       'marketing', 'none', 'healthcare', 'retired', 'salesman', 'doctor'],\n      dtype=object)"
     },
     "execution_count": 27,
     "metadata": {},
     "output_type": "execute_result"
    }
   ],
   "source": [
    "df['occupation'].unique()"
   ]
  },
  {
   "cell_type": "markdown",
   "metadata": {},
   "source": [
    "**1.9.** Convert the occupation column to upper case, to ensure different use of capital letters doesn't result in different occupations."
   ]
  },
  {
   "cell_type": "code",
   "execution_count": 33,
   "metadata": {
    "ExecuteTime": {
     "end_time": "2023-10-03T13:46:25.756702Z",
     "start_time": "2023-10-03T13:46:25.745435Z"
    }
   },
   "outputs": [
    {
     "data": {
      "text/plain": "         age gender     occupation zip_code\nuser_id                                    \n1         24      M     TECHNICIAN    85711\n2         53      F          OTHER    94043\n3         23      M         WRITER    32067\n4         24      M     TECHNICIAN    43537\n5         33      F          OTHER    15213\n...      ...    ...            ...      ...\n939       26      F        STUDENT    33319\n940       32      M  ADMINISTRATOR    02215\n941       20      M        STUDENT    97229\n942       48      F      LIBRARIAN    78209\n943       22      M        STUDENT    77841\n\n[943 rows x 4 columns]",
      "text/html": "<div>\n<style scoped>\n    .dataframe tbody tr th:only-of-type {\n        vertical-align: middle;\n    }\n\n    .dataframe tbody tr th {\n        vertical-align: top;\n    }\n\n    .dataframe thead th {\n        text-align: right;\n    }\n</style>\n<table border=\"1\" class=\"dataframe\">\n  <thead>\n    <tr style=\"text-align: right;\">\n      <th></th>\n      <th>age</th>\n      <th>gender</th>\n      <th>occupation</th>\n      <th>zip_code</th>\n    </tr>\n    <tr>\n      <th>user_id</th>\n      <th></th>\n      <th></th>\n      <th></th>\n      <th></th>\n    </tr>\n  </thead>\n  <tbody>\n    <tr>\n      <th>1</th>\n      <td>24</td>\n      <td>M</td>\n      <td>TECHNICIAN</td>\n      <td>85711</td>\n    </tr>\n    <tr>\n      <th>2</th>\n      <td>53</td>\n      <td>F</td>\n      <td>OTHER</td>\n      <td>94043</td>\n    </tr>\n    <tr>\n      <th>3</th>\n      <td>23</td>\n      <td>M</td>\n      <td>WRITER</td>\n      <td>32067</td>\n    </tr>\n    <tr>\n      <th>4</th>\n      <td>24</td>\n      <td>M</td>\n      <td>TECHNICIAN</td>\n      <td>43537</td>\n    </tr>\n    <tr>\n      <th>5</th>\n      <td>33</td>\n      <td>F</td>\n      <td>OTHER</td>\n      <td>15213</td>\n    </tr>\n    <tr>\n      <th>...</th>\n      <td>...</td>\n      <td>...</td>\n      <td>...</td>\n      <td>...</td>\n    </tr>\n    <tr>\n      <th>939</th>\n      <td>26</td>\n      <td>F</td>\n      <td>STUDENT</td>\n      <td>33319</td>\n    </tr>\n    <tr>\n      <th>940</th>\n      <td>32</td>\n      <td>M</td>\n      <td>ADMINISTRATOR</td>\n      <td>02215</td>\n    </tr>\n    <tr>\n      <th>941</th>\n      <td>20</td>\n      <td>M</td>\n      <td>STUDENT</td>\n      <td>97229</td>\n    </tr>\n    <tr>\n      <th>942</th>\n      <td>48</td>\n      <td>F</td>\n      <td>LIBRARIAN</td>\n      <td>78209</td>\n    </tr>\n    <tr>\n      <th>943</th>\n      <td>22</td>\n      <td>M</td>\n      <td>STUDENT</td>\n      <td>77841</td>\n    </tr>\n  </tbody>\n</table>\n<p>943 rows × 4 columns</p>\n</div>"
     },
     "execution_count": 33,
     "metadata": {},
     "output_type": "execute_result"
    }
   ],
   "source": [
    "df['occupation'] = df['occupation'].str.upper()\n",
    "df"
   ]
  },
  {
   "cell_type": "markdown",
   "metadata": {},
   "source": [
    "**1.10.** Discover what is the mean age per occupation"
   ]
  },
  {
   "cell_type": "code",
   "execution_count": 35,
   "metadata": {
    "ExecuteTime": {
     "end_time": "2023-10-03T13:47:21.456316Z",
     "start_time": "2023-10-03T13:47:21.437569Z"
    }
   },
   "outputs": [
    {
     "data": {
      "text/plain": "occupation\nADMINISTRATOR    38.746835\nARTIST           31.392857\nDOCTOR           43.571429\nEDUCATOR         42.010526\nENGINEER         36.388060\nENTERTAINMENT    29.222222\nEXECUTIVE        38.718750\nHEALTHCARE       41.562500\nHOMEMAKER        32.571429\nLAWYER           36.750000\nLIBRARIAN        40.000000\nMARKETING        37.615385\nNONE             26.555556\nOTHER            34.523810\nPROGRAMMER       33.121212\nRETIRED          63.071429\nSALESMAN         35.666667\nSCIENTIST        35.548387\nSTUDENT          22.081633\nTECHNICIAN       33.148148\nWRITER           36.311111\nName: age, dtype: float64"
     },
     "execution_count": 35,
     "metadata": {},
     "output_type": "execute_result"
    }
   ],
   "source": [
    "df.groupby('occupation')['age'].mean()"
   ]
  },
  {
   "cell_type": "markdown",
   "metadata": {},
   "source": [
    "**1.11.** Discover the Male ratio per occupation and sort it from the most to the least"
   ]
  },
  {
   "cell_type": "code",
   "execution_count": 49,
   "metadata": {
    "ExecuteTime": {
     "end_time": "2023-10-03T14:01:37.591643Z",
     "start_time": "2023-10-03T14:01:37.575320Z"
    }
   },
   "outputs": [
    {
     "data": {
      "text/plain": "occupation\nDOCTOR           1.000000\nENGINEER         0.970149\nTECHNICIAN       0.962963\nRETIRED          0.928571\nPROGRAMMER       0.909091\nEXECUTIVE        0.906250\nSCIENTIST        0.903226\nENTERTAINMENT    0.888889\nLAWYER           0.833333\nSALESMAN         0.750000\nEDUCATOR         0.726316\nSTUDENT          0.693878\nOTHER            0.657143\nMARKETING        0.615385\nWRITER           0.577778\nNONE             0.555556\nADMINISTRATOR    0.544304\nARTIST           0.535714\nLIBRARIAN        0.431373\nHEALTHCARE       0.312500\nHOMEMAKER        0.142857\nName: M, dtype: float64"
     },
     "execution_count": 49,
     "metadata": {},
     "output_type": "execute_result"
    }
   ],
   "source": [
    "df.groupby('occupation')['gender'].value_counts(normalize=True).unstack().pop(\"M\").sort_values(ascending=False)"
   ]
  },
  {
   "cell_type": "markdown",
   "metadata": {},
   "source": [
    "**1.12** For each occupation, calculate the minimum and maximum ages"
   ]
  },
  {
   "cell_type": "code",
   "execution_count": 43,
   "metadata": {
    "ExecuteTime": {
     "end_time": "2023-10-03T13:50:58.791883Z",
     "start_time": "2023-10-03T13:50:58.779209Z"
    }
   },
   "outputs": [
    {
     "data": {
      "text/plain": "               min  max\noccupation             \nADMINISTRATOR   21   70\nARTIST          19   48\nDOCTOR          28   64\nEDUCATOR        23   63\nENGINEER        22   70\nENTERTAINMENT   15   50\nEXECUTIVE       22   69\nHEALTHCARE      22   62\nHOMEMAKER       20   50\nLAWYER          21   53\nLIBRARIAN       23   69\nMARKETING       24   55\nNONE            11   55\nOTHER           13   64\nPROGRAMMER      20   63\nRETIRED         51   73\nSALESMAN        18   66\nSCIENTIST       23   55\nSTUDENT          7   42\nTECHNICIAN      21   55\nWRITER          18   60",
      "text/html": "<div>\n<style scoped>\n    .dataframe tbody tr th:only-of-type {\n        vertical-align: middle;\n    }\n\n    .dataframe tbody tr th {\n        vertical-align: top;\n    }\n\n    .dataframe thead th {\n        text-align: right;\n    }\n</style>\n<table border=\"1\" class=\"dataframe\">\n  <thead>\n    <tr style=\"text-align: right;\">\n      <th></th>\n      <th>min</th>\n      <th>max</th>\n    </tr>\n    <tr>\n      <th>occupation</th>\n      <th></th>\n      <th></th>\n    </tr>\n  </thead>\n  <tbody>\n    <tr>\n      <th>ADMINISTRATOR</th>\n      <td>21</td>\n      <td>70</td>\n    </tr>\n    <tr>\n      <th>ARTIST</th>\n      <td>19</td>\n      <td>48</td>\n    </tr>\n    <tr>\n      <th>DOCTOR</th>\n      <td>28</td>\n      <td>64</td>\n    </tr>\n    <tr>\n      <th>EDUCATOR</th>\n      <td>23</td>\n      <td>63</td>\n    </tr>\n    <tr>\n      <th>ENGINEER</th>\n      <td>22</td>\n      <td>70</td>\n    </tr>\n    <tr>\n      <th>ENTERTAINMENT</th>\n      <td>15</td>\n      <td>50</td>\n    </tr>\n    <tr>\n      <th>EXECUTIVE</th>\n      <td>22</td>\n      <td>69</td>\n    </tr>\n    <tr>\n      <th>HEALTHCARE</th>\n      <td>22</td>\n      <td>62</td>\n    </tr>\n    <tr>\n      <th>HOMEMAKER</th>\n      <td>20</td>\n      <td>50</td>\n    </tr>\n    <tr>\n      <th>LAWYER</th>\n      <td>21</td>\n      <td>53</td>\n    </tr>\n    <tr>\n      <th>LIBRARIAN</th>\n      <td>23</td>\n      <td>69</td>\n    </tr>\n    <tr>\n      <th>MARKETING</th>\n      <td>24</td>\n      <td>55</td>\n    </tr>\n    <tr>\n      <th>NONE</th>\n      <td>11</td>\n      <td>55</td>\n    </tr>\n    <tr>\n      <th>OTHER</th>\n      <td>13</td>\n      <td>64</td>\n    </tr>\n    <tr>\n      <th>PROGRAMMER</th>\n      <td>20</td>\n      <td>63</td>\n    </tr>\n    <tr>\n      <th>RETIRED</th>\n      <td>51</td>\n      <td>73</td>\n    </tr>\n    <tr>\n      <th>SALESMAN</th>\n      <td>18</td>\n      <td>66</td>\n    </tr>\n    <tr>\n      <th>SCIENTIST</th>\n      <td>23</td>\n      <td>55</td>\n    </tr>\n    <tr>\n      <th>STUDENT</th>\n      <td>7</td>\n      <td>42</td>\n    </tr>\n    <tr>\n      <th>TECHNICIAN</th>\n      <td>21</td>\n      <td>55</td>\n    </tr>\n    <tr>\n      <th>WRITER</th>\n      <td>18</td>\n      <td>60</td>\n    </tr>\n  </tbody>\n</table>\n</div>"
     },
     "execution_count": 43,
     "metadata": {},
     "output_type": "execute_result"
    }
   ],
   "source": [
    "df.groupby('occupation')['age'].agg(['min', 'max'])"
   ]
  },
  {
   "cell_type": "markdown",
   "metadata": {},
   "source": [
    "**1.13.** For each combination of occupation and gender, calculate the mean age"
   ]
  },
  {
   "cell_type": "code",
   "execution_count": 48,
   "metadata": {
    "ExecuteTime": {
     "end_time": "2023-10-03T13:52:34.688887Z",
     "start_time": "2023-10-03T13:52:34.671276Z"
    }
   },
   "outputs": [
    {
     "data": {
      "text/plain": "occupation     gender\nADMINISTRATOR  F         40.638889\n               M         37.162791\nARTIST         F         30.307692\n               M         32.333333\nDOCTOR         M         43.571429\nEDUCATOR       F         39.115385\n               M         43.101449\nENGINEER       F         29.500000\n               M         36.600000\nENTERTAINMENT  F         31.000000\n               M         29.000000\nEXECUTIVE      F         44.000000\n               M         38.172414\nHEALTHCARE     F         39.818182\n               M         45.400000\nHOMEMAKER      F         34.166667\n               M         23.000000\nLAWYER         F         39.500000\n               M         36.200000\nLIBRARIAN      F         40.000000\n               M         40.000000\nMARKETING      F         37.200000\n               M         37.875000\nNONE           F         36.500000\n               M         18.600000\nOTHER          F         35.472222\n               M         34.028986\nPROGRAMMER     F         32.166667\n               M         33.216667\nRETIRED        F         70.000000\n               M         62.538462\nSALESMAN       F         27.000000\n               M         38.555556\nSCIENTIST      F         28.333333\n               M         36.321429\nSTUDENT        F         20.750000\n               M         22.669118\nTECHNICIAN     F         38.000000\n               M         32.961538\nWRITER         F         37.631579\n               M         35.346154\nName: age, dtype: float64"
     },
     "execution_count": 48,
     "metadata": {},
     "output_type": "execute_result"
    }
   ],
   "source": [
    "df.groupby(['occupation','gender'])['age'].agg('mean')"
   ]
  },
  {
   "cell_type": "markdown",
   "metadata": {},
   "source": [
    "**1.14.** For each occupation present the percentage of women and men."
   ]
  },
  {
   "cell_type": "code",
   "execution_count": 66,
   "metadata": {
    "ExecuteTime": {
     "end_time": "2023-10-03T14:09:39.924829Z",
     "start_time": "2023-10-03T14:09:39.892379Z"
    }
   },
   "outputs": [
    {
     "data": {
      "text/plain": "gender                 F           M\noccupation                          \nADMINISTRATOR  45.569620   54.430380\nARTIST         46.428571   53.571429\nDOCTOR               NaN  100.000000\nEDUCATOR       27.368421   72.631579\nENGINEER        2.985075   97.014925\nENTERTAINMENT  11.111111   88.888889\nEXECUTIVE       9.375000   90.625000\nHEALTHCARE     68.750000   31.250000\nHOMEMAKER      85.714286   14.285714\nLAWYER         16.666667   83.333333\nLIBRARIAN      56.862745   43.137255\nMARKETING      38.461538   61.538462\nNONE           44.444444   55.555556\nOTHER          34.285714   65.714286\nPROGRAMMER      9.090909   90.909091\nRETIRED         7.142857   92.857143\nSALESMAN       25.000000   75.000000\nSCIENTIST       9.677419   90.322581\nSTUDENT        30.612245   69.387755\nTECHNICIAN      3.703704   96.296296\nWRITER         42.222222   57.777778",
      "text/html": "<div>\n<style scoped>\n    .dataframe tbody tr th:only-of-type {\n        vertical-align: middle;\n    }\n\n    .dataframe tbody tr th {\n        vertical-align: top;\n    }\n\n    .dataframe thead th {\n        text-align: right;\n    }\n</style>\n<table border=\"1\" class=\"dataframe\">\n  <thead>\n    <tr style=\"text-align: right;\">\n      <th>gender</th>\n      <th>F</th>\n      <th>M</th>\n    </tr>\n    <tr>\n      <th>occupation</th>\n      <th></th>\n      <th></th>\n    </tr>\n  </thead>\n  <tbody>\n    <tr>\n      <th>ADMINISTRATOR</th>\n      <td>45.569620</td>\n      <td>54.430380</td>\n    </tr>\n    <tr>\n      <th>ARTIST</th>\n      <td>46.428571</td>\n      <td>53.571429</td>\n    </tr>\n    <tr>\n      <th>DOCTOR</th>\n      <td>NaN</td>\n      <td>100.000000</td>\n    </tr>\n    <tr>\n      <th>EDUCATOR</th>\n      <td>27.368421</td>\n      <td>72.631579</td>\n    </tr>\n    <tr>\n      <th>ENGINEER</th>\n      <td>2.985075</td>\n      <td>97.014925</td>\n    </tr>\n    <tr>\n      <th>ENTERTAINMENT</th>\n      <td>11.111111</td>\n      <td>88.888889</td>\n    </tr>\n    <tr>\n      <th>EXECUTIVE</th>\n      <td>9.375000</td>\n      <td>90.625000</td>\n    </tr>\n    <tr>\n      <th>HEALTHCARE</th>\n      <td>68.750000</td>\n      <td>31.250000</td>\n    </tr>\n    <tr>\n      <th>HOMEMAKER</th>\n      <td>85.714286</td>\n      <td>14.285714</td>\n    </tr>\n    <tr>\n      <th>LAWYER</th>\n      <td>16.666667</td>\n      <td>83.333333</td>\n    </tr>\n    <tr>\n      <th>LIBRARIAN</th>\n      <td>56.862745</td>\n      <td>43.137255</td>\n    </tr>\n    <tr>\n      <th>MARKETING</th>\n      <td>38.461538</td>\n      <td>61.538462</td>\n    </tr>\n    <tr>\n      <th>NONE</th>\n      <td>44.444444</td>\n      <td>55.555556</td>\n    </tr>\n    <tr>\n      <th>OTHER</th>\n      <td>34.285714</td>\n      <td>65.714286</td>\n    </tr>\n    <tr>\n      <th>PROGRAMMER</th>\n      <td>9.090909</td>\n      <td>90.909091</td>\n    </tr>\n    <tr>\n      <th>RETIRED</th>\n      <td>7.142857</td>\n      <td>92.857143</td>\n    </tr>\n    <tr>\n      <th>SALESMAN</th>\n      <td>25.000000</td>\n      <td>75.000000</td>\n    </tr>\n    <tr>\n      <th>SCIENTIST</th>\n      <td>9.677419</td>\n      <td>90.322581</td>\n    </tr>\n    <tr>\n      <th>STUDENT</th>\n      <td>30.612245</td>\n      <td>69.387755</td>\n    </tr>\n    <tr>\n      <th>TECHNICIAN</th>\n      <td>3.703704</td>\n      <td>96.296296</td>\n    </tr>\n    <tr>\n      <th>WRITER</th>\n      <td>42.222222</td>\n      <td>57.777778</td>\n    </tr>\n  </tbody>\n</table>\n</div>"
     },
     "execution_count": 66,
     "metadata": {},
     "output_type": "execute_result"
    }
   ],
   "source": [
    "# create a data frame and apply count to gender\n",
    "df.groupby('occupation')['gender'].value_counts(normalize=True).unstack()*100"
   ]
  },
  {
   "cell_type": "code",
   "execution_count": 58,
   "metadata": {
    "ExecuteTime": {
     "end_time": "2023-10-03T14:04:46.074345Z",
     "start_time": "2023-10-03T14:04:46.059448Z"
    }
   },
   "outputs": [],
   "source": [
    "# create a DataFrame and apply count for each occupation\n",
    "occup_count = df['occupation'].value_counts()"
   ]
  },
  {
   "cell_type": "code",
   "execution_count": 59,
   "metadata": {
    "ExecuteTime": {
     "end_time": "2023-10-03T14:04:47.124742Z",
     "start_time": "2023-10-03T14:04:47.113591Z"
    }
   },
   "outputs": [
    {
     "data": {
      "text/plain": "ADMINISTRATOR   NaN\nARTIST          NaN\nDOCTOR          NaN\nEDUCATOR        NaN\nENGINEER        NaN\nENTERTAINMENT   NaN\nEXECUTIVE       NaN\nF               NaN\nHEALTHCARE      NaN\nHOMEMAKER       NaN\nLAWYER          NaN\nLIBRARIAN       NaN\nM               NaN\nMARKETING       NaN\nNONE            NaN\nOTHER           NaN\nPROGRAMMER      NaN\nRETIRED         NaN\nSALESMAN        NaN\nSCIENTIST       NaN\nSTUDENT         NaN\nTECHNICIAN      NaN\nWRITER          NaN\ndtype: float64"
     },
     "execution_count": 59,
     "metadata": {},
     "output_type": "execute_result"
    }
   ],
   "source": [
    "# divide the gender_ocup per the occup_count and multiply per 100\n",
    "gender_ocup / occup_count"
   ]
  },
  {
   "cell_type": "code",
   "execution_count": null,
   "metadata": {},
   "outputs": [],
   "source": [
    "# present all rows from the 'gender column'"
   ]
  },
  {
   "cell_type": "markdown",
   "metadata": {},
   "source": [
    "### **2.** Import the following .csv file of student drinking behaviour.\n",
    "\n",
    "'https://raw.githubusercontent.com/guipsamora/pandas_exercises/master/04_Apply/Students_Alcohol_Consumption/student-mat.csv'\n"
   ]
  },
  {
   "cell_type": "code",
   "execution_count": 60,
   "metadata": {
    "ExecuteTime": {
     "end_time": "2023-10-03T14:06:14.714653Z",
     "start_time": "2023-10-03T14:06:14.322304Z"
    }
   },
   "outputs": [],
   "source": [
    "df_drink = pd.read_csv(\"https://raw.githubusercontent.com/guipsamora/pandas_exercises/master/04_Apply/Students_Alcohol_Consumption/student-mat.csv\")"
   ]
  },
  {
   "cell_type": "markdown",
   "metadata": {},
   "source": [
    "**2.1.** For the purpose of this exercise slice the dataframe from 'school' until the 'guardian' column."
   ]
  },
  {
   "cell_type": "code",
   "execution_count": 67,
   "metadata": {
    "ExecuteTime": {
     "end_time": "2023-10-03T14:11:54.836941Z",
     "start_time": "2023-10-03T14:11:54.817923Z"
    }
   },
   "outputs": [
    {
     "data": {
      "text/plain": "    school sex  age address famsize Pstatus  Medu  Fedu      Mjob      Fjob  \\\n0       GP   F   18       U     GT3       A     4     4   at_home   teacher   \n1       GP   F   17       U     GT3       T     1     1   at_home     other   \n2       GP   F   15       U     LE3       T     1     1   at_home     other   \n3       GP   F   15       U     GT3       T     4     2    health  services   \n4       GP   F   16       U     GT3       T     3     3     other     other   \n..     ...  ..  ...     ...     ...     ...   ...   ...       ...       ...   \n390     MS   M   20       U     LE3       A     2     2  services  services   \n391     MS   M   17       U     LE3       T     3     1  services  services   \n392     MS   M   21       R     GT3       T     1     1     other     other   \n393     MS   M   18       R     LE3       T     3     2  services     other   \n394     MS   M   19       U     LE3       T     1     1     other   at_home   \n\n     reason guardian  \n0    course   mother  \n1    course   father  \n2     other   mother  \n3      home   mother  \n4      home   father  \n..      ...      ...  \n390  course    other  \n391  course   mother  \n392  course    other  \n393  course   mother  \n394  course   father  \n\n[395 rows x 12 columns]",
      "text/html": "<div>\n<style scoped>\n    .dataframe tbody tr th:only-of-type {\n        vertical-align: middle;\n    }\n\n    .dataframe tbody tr th {\n        vertical-align: top;\n    }\n\n    .dataframe thead th {\n        text-align: right;\n    }\n</style>\n<table border=\"1\" class=\"dataframe\">\n  <thead>\n    <tr style=\"text-align: right;\">\n      <th></th>\n      <th>school</th>\n      <th>sex</th>\n      <th>age</th>\n      <th>address</th>\n      <th>famsize</th>\n      <th>Pstatus</th>\n      <th>Medu</th>\n      <th>Fedu</th>\n      <th>Mjob</th>\n      <th>Fjob</th>\n      <th>reason</th>\n      <th>guardian</th>\n    </tr>\n  </thead>\n  <tbody>\n    <tr>\n      <th>0</th>\n      <td>GP</td>\n      <td>F</td>\n      <td>18</td>\n      <td>U</td>\n      <td>GT3</td>\n      <td>A</td>\n      <td>4</td>\n      <td>4</td>\n      <td>at_home</td>\n      <td>teacher</td>\n      <td>course</td>\n      <td>mother</td>\n    </tr>\n    <tr>\n      <th>1</th>\n      <td>GP</td>\n      <td>F</td>\n      <td>17</td>\n      <td>U</td>\n      <td>GT3</td>\n      <td>T</td>\n      <td>1</td>\n      <td>1</td>\n      <td>at_home</td>\n      <td>other</td>\n      <td>course</td>\n      <td>father</td>\n    </tr>\n    <tr>\n      <th>2</th>\n      <td>GP</td>\n      <td>F</td>\n      <td>15</td>\n      <td>U</td>\n      <td>LE3</td>\n      <td>T</td>\n      <td>1</td>\n      <td>1</td>\n      <td>at_home</td>\n      <td>other</td>\n      <td>other</td>\n      <td>mother</td>\n    </tr>\n    <tr>\n      <th>3</th>\n      <td>GP</td>\n      <td>F</td>\n      <td>15</td>\n      <td>U</td>\n      <td>GT3</td>\n      <td>T</td>\n      <td>4</td>\n      <td>2</td>\n      <td>health</td>\n      <td>services</td>\n      <td>home</td>\n      <td>mother</td>\n    </tr>\n    <tr>\n      <th>4</th>\n      <td>GP</td>\n      <td>F</td>\n      <td>16</td>\n      <td>U</td>\n      <td>GT3</td>\n      <td>T</td>\n      <td>3</td>\n      <td>3</td>\n      <td>other</td>\n      <td>other</td>\n      <td>home</td>\n      <td>father</td>\n    </tr>\n    <tr>\n      <th>...</th>\n      <td>...</td>\n      <td>...</td>\n      <td>...</td>\n      <td>...</td>\n      <td>...</td>\n      <td>...</td>\n      <td>...</td>\n      <td>...</td>\n      <td>...</td>\n      <td>...</td>\n      <td>...</td>\n      <td>...</td>\n    </tr>\n    <tr>\n      <th>390</th>\n      <td>MS</td>\n      <td>M</td>\n      <td>20</td>\n      <td>U</td>\n      <td>LE3</td>\n      <td>A</td>\n      <td>2</td>\n      <td>2</td>\n      <td>services</td>\n      <td>services</td>\n      <td>course</td>\n      <td>other</td>\n    </tr>\n    <tr>\n      <th>391</th>\n      <td>MS</td>\n      <td>M</td>\n      <td>17</td>\n      <td>U</td>\n      <td>LE3</td>\n      <td>T</td>\n      <td>3</td>\n      <td>1</td>\n      <td>services</td>\n      <td>services</td>\n      <td>course</td>\n      <td>mother</td>\n    </tr>\n    <tr>\n      <th>392</th>\n      <td>MS</td>\n      <td>M</td>\n      <td>21</td>\n      <td>R</td>\n      <td>GT3</td>\n      <td>T</td>\n      <td>1</td>\n      <td>1</td>\n      <td>other</td>\n      <td>other</td>\n      <td>course</td>\n      <td>other</td>\n    </tr>\n    <tr>\n      <th>393</th>\n      <td>MS</td>\n      <td>M</td>\n      <td>18</td>\n      <td>R</td>\n      <td>LE3</td>\n      <td>T</td>\n      <td>3</td>\n      <td>2</td>\n      <td>services</td>\n      <td>other</td>\n      <td>course</td>\n      <td>mother</td>\n    </tr>\n    <tr>\n      <th>394</th>\n      <td>MS</td>\n      <td>M</td>\n      <td>19</td>\n      <td>U</td>\n      <td>LE3</td>\n      <td>T</td>\n      <td>1</td>\n      <td>1</td>\n      <td>other</td>\n      <td>at_home</td>\n      <td>course</td>\n      <td>father</td>\n    </tr>\n  </tbody>\n</table>\n<p>395 rows × 12 columns</p>\n</div>"
     },
     "execution_count": 67,
     "metadata": {},
     "output_type": "execute_result"
    }
   ],
   "source": [
    "df_drink.loc[:,'school':'guardian']"
   ]
  },
  {
   "cell_type": "markdown",
   "metadata": {},
   "source": [
    "**2.2.** Create a function that will capitalize strings. Use the function to capitalise the columns Mjob and FJob."
   ]
  },
  {
   "cell_type": "code",
   "execution_count": 69,
   "metadata": {
    "ExecuteTime": {
     "end_time": "2023-10-03T14:13:17.840736Z",
     "start_time": "2023-10-03T14:13:17.825357Z"
    }
   },
   "outputs": [
    {
     "data": {
      "text/plain": "0       At_home\n1       At_home\n2       At_home\n3        Health\n4         Other\n         ...   \n390    Services\n391    Services\n392       Other\n393    Services\n394       Other\nName: Mjob, Length: 395, dtype: object"
     },
     "execution_count": 69,
     "metadata": {},
     "output_type": "execute_result"
    }
   ],
   "source": [
    "def capitalize(serie):\n",
    "    serie = serie.str.capitalize()\n",
    "\n",
    "d"
   ]
  },
  {
   "cell_type": "markdown",
   "metadata": {},
   "source": [
    "**2.3.** Create a function called can_drink that returns a boolean value if the the student should be allowed to dink (age 18+). Add a column to the dataset \"legal_drinker\" to indicate which students should be allowed to drink, add this column after the age column.\n"
   ]
  },
  {
   "cell_type": "code",
   "execution_count": null,
   "metadata": {},
   "outputs": [],
   "source": []
  },
  {
   "cell_type": "code",
   "execution_count": null,
   "metadata": {},
   "outputs": [],
   "source": []
  }
 ],
 "metadata": {
  "anaconda-cloud": {},
  "kernelspec": {
   "display_name": "Python 3 (ipykernel)",
   "language": "python",
   "name": "python3"
  },
  "language_info": {
   "codemirror_mode": {
    "name": "ipython",
    "version": 3
   },
   "file_extension": ".py",
   "mimetype": "text/x-python",
   "name": "python",
   "nbconvert_exporter": "python",
   "pygments_lexer": "ipython3",
   "version": "3.9.13"
  }
 },
 "nbformat": 4,
 "nbformat_minor": 1
}
