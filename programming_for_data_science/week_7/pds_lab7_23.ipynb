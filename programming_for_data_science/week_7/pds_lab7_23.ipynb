{
 "cells": [
  {
   "cell_type": "markdown",
   "metadata": {},
   "source": [
    "# PDS - LAB 7\n",
    "## Visualizations, visualizations visualizations!"
   ]
  },
  {
   "cell_type": "markdown",
   "metadata": {},
   "source": [
    "#### *“Visualization gives you answers to questions you didn’t know you had.” – Ben Schneiderman*"
   ]
  },
  {
   "cell_type": "markdown",
   "metadata": {},
   "source": [
    "#### *“The greatest value of a picture is when it forces us to notice what we never expected to see.” – John Tukey*"
   ]
  },
  {
   "cell_type": "markdown",
   "metadata": {},
   "source": [
    "#### *“Numbers have an important story to tell. They rely on you to give them a clear and convincing voice.” – Stephen Few*"
   ]
  },
  {
   "cell_type": "markdown",
   "metadata": {},
   "source": [
    "#### *“Visualizations act as a campfire around which we gather to tell stories”. – Al Shalloway*"
   ]
  },
  {
   "cell_type": "markdown",
   "metadata": {},
   "source": [
    "Python has libraries that allow us to empower data and give it meaning using highly customizable visualizations! \n",
    "Our class today will focus in two specific powerful libraries that are considered python 101 of visualizations: **matplotlib and seaborn**."
   ]
  },
  {
   "cell_type": "code",
   "execution_count": null,
   "metadata": {},
   "outputs": [],
   "source": []
  },
  {
   "cell_type": "markdown",
   "metadata": {},
   "source": [
    "Importing additionally needed libraries:"
   ]
  },
  {
   "cell_type": "code",
   "execution_count": 20,
   "metadata": {
    "ExecuteTime": {
     "end_time": "2023-10-17T13:22:10.053213Z",
     "start_time": "2023-10-17T13:22:10.040001Z"
    }
   },
   "outputs": [],
   "source": [
    "import re\n",
    "\n",
    "import pandas as pd\n",
    "import numpy as np"
   ]
  },
  {
   "cell_type": "markdown",
   "metadata": {},
   "source": [
    "**1.** Import the covid19_tweets available in this lab's folder."
   ]
  },
  {
   "cell_type": "code",
   "execution_count": 21,
   "metadata": {
    "ExecuteTime": {
     "end_time": "2023-10-17T13:22:11.964031Z",
     "start_time": "2023-10-17T13:22:11.120724Z"
    }
   },
   "outputs": [],
   "source": [
    "covid_tweets = pd.read_csv(\"./covid19_tweets.csv\")"
   ]
  },
  {
   "cell_type": "markdown",
   "metadata": {},
   "source": [
    "**2.** Show the first two rows of the DataFrame:"
   ]
  },
  {
   "cell_type": "code",
   "execution_count": 22,
   "metadata": {
    "ExecuteTime": {
     "end_time": "2023-10-17T13:22:11.975211Z",
     "start_time": "2023-10-17T13:22:11.968573Z"
    }
   },
   "outputs": [
    {
     "data": {
      "text/plain": "       user_name user_location  \\\n0         ᏉᎥ☻լꂅϮ    astroworld   \n1  Tom Basile 🇺🇸  New York, NY   \n\n                                    user_description         user_created  \\\n0  wednesday addams as a disney princess keepin i...  2017-05-26 05:46:42   \n1  Husband, Father, Columnist & Commentator. Auth...  2009-04-16 20:06:23   \n\n   user_followers  user_friends  user_favourites  user_verified  \\\n0             624           950            18775          False   \n1            2253          1677               24           True   \n\n                  date                                               text  \\\n0  2020-07-25 12:27:21  If I smelled the scent of hand sanitizers toda...   \n1  2020-07-25 12:27:17  Hey @Yankees @YankeesPR and @MLB - wouldn't it...   \n\n  hashtags               source  is_retweet  \n0      NaN   Twitter for iPhone       False  \n1      NaN  Twitter for Android       False  ",
      "text/html": "<div>\n<style scoped>\n    .dataframe tbody tr th:only-of-type {\n        vertical-align: middle;\n    }\n\n    .dataframe tbody tr th {\n        vertical-align: top;\n    }\n\n    .dataframe thead th {\n        text-align: right;\n    }\n</style>\n<table border=\"1\" class=\"dataframe\">\n  <thead>\n    <tr style=\"text-align: right;\">\n      <th></th>\n      <th>user_name</th>\n      <th>user_location</th>\n      <th>user_description</th>\n      <th>user_created</th>\n      <th>user_followers</th>\n      <th>user_friends</th>\n      <th>user_favourites</th>\n      <th>user_verified</th>\n      <th>date</th>\n      <th>text</th>\n      <th>hashtags</th>\n      <th>source</th>\n      <th>is_retweet</th>\n    </tr>\n  </thead>\n  <tbody>\n    <tr>\n      <th>0</th>\n      <td>ᏉᎥ☻լꂅϮ</td>\n      <td>astroworld</td>\n      <td>wednesday addams as a disney princess keepin i...</td>\n      <td>2017-05-26 05:46:42</td>\n      <td>624</td>\n      <td>950</td>\n      <td>18775</td>\n      <td>False</td>\n      <td>2020-07-25 12:27:21</td>\n      <td>If I smelled the scent of hand sanitizers toda...</td>\n      <td>NaN</td>\n      <td>Twitter for iPhone</td>\n      <td>False</td>\n    </tr>\n    <tr>\n      <th>1</th>\n      <td>Tom Basile 🇺🇸</td>\n      <td>New York, NY</td>\n      <td>Husband, Father, Columnist &amp; Commentator. Auth...</td>\n      <td>2009-04-16 20:06:23</td>\n      <td>2253</td>\n      <td>1677</td>\n      <td>24</td>\n      <td>True</td>\n      <td>2020-07-25 12:27:17</td>\n      <td>Hey @Yankees @YankeesPR and @MLB - wouldn't it...</td>\n      <td>NaN</td>\n      <td>Twitter for Android</td>\n      <td>False</td>\n    </tr>\n  </tbody>\n</table>\n</div>"
     },
     "execution_count": 22,
     "metadata": {},
     "output_type": "execute_result"
    }
   ],
   "source": [
    "covid_tweets.head(2)"
   ]
  },
  {
   "cell_type": "markdown",
   "metadata": {},
   "source": [
    "**3.** considering the right_wing_politicians list, find which politician is more spoken of when people tweet about corona:<br>\n",
    "*Note: print the name of the politician in the most \"common manner\", that is: if the most spoken of politician is PUTIN we should print Putin*"
   ]
  },
  {
   "cell_type": "code",
   "execution_count": 23,
   "metadata": {
    "ExecuteTime": {
     "end_time": "2023-10-17T13:22:14.701139Z",
     "start_time": "2023-10-17T13:22:14.675145Z"
    }
   },
   "outputs": [],
   "source": [
    "right_wing_politicians = [\"PUTIN\",\"BOLSONARO\",\"TRUMP\",\"BIBI\"]"
   ]
  },
  {
   "cell_type": "code",
   "execution_count": 38,
   "metadata": {
    "ExecuteTime": {
     "end_time": "2023-10-17T13:46:35.737678Z",
     "start_time": "2023-10-17T13:46:35.041751Z"
    }
   },
   "outputs": [
    {
     "name": "stdout",
     "output_type": "stream",
     "text": [
      "Trump  =  8840\n"
     ]
    }
   ],
   "source": [
    "x = 0\n",
    "p = \"\"\n",
    "\n",
    "for politician in right_wing_politicians:\n",
    "     x_ = covid_tweets[covid_tweets['text'].str.contains(politician, case=False)].index.size\n",
    "     if x_ > x:\n",
    "         x = x_\n",
    "         p = politician.capitalize()\n",
    "         \n",
    "print(p, \" = \", x)\n",
    "\n",
    "# \n",
    "# pat = '|'.join(right_wing_politicians)\n",
    "# s = covid_tweets['text'].str.extract('('+ pat + ')', expand=False, flags=re.IGNORECASE).str.upper()\n",
    "# df1 = covid_tweets.groupby(s).size().reset_index(name='Count').max()\n",
    "# print (df1)"
   ]
  },
  {
   "cell_type": "markdown",
   "metadata": {},
   "source": [
    "**4.** Add a column called mentioned_politician to the covid DataFrame. This column should contain the name of the politician that was mentioned in the (from our right_wing_politicians list). If no politician was mentioned, the value in this column should be None.<br><br>\n",
    "\n",
    "*Note: once again, you should save the name of the politician in the \"correct\" manner (i.e., PUTIN == Putin).*"
   ]
  },
  {
   "cell_type": "code",
   "execution_count": 90,
   "metadata": {
    "ExecuteTime": {
     "end_time": "2023-10-17T14:14:58.292953Z",
     "start_time": "2023-10-17T14:14:57.363085Z"
    }
   },
   "outputs": [],
   "source": [
    "covid_tweets['mentioned_politician'] = covid_tweets['text'].str.extractall('('+ pat + ')', flags=re.IGNORECASE).groupby(level=0).agg(lambda x: ', '.join(set(x)))"
   ]
  },
  {
   "cell_type": "code",
   "execution_count": 87,
   "metadata": {
    "ExecuteTime": {
     "end_time": "2023-10-17T14:11:55.516547Z",
     "start_time": "2023-10-17T14:11:55.506073Z"
    }
   },
   "outputs": [
    {
     "data": {
      "text/plain": "                     user_name               user_location  \\\n0                       ᏉᎥ☻լꂅϮ                  astroworld   \n1                Tom Basile 🇺🇸                New York, NY   \n2              Time4fisticuffs            Pewee Valley, KY   \n3                  ethel mertz        Stuck in the Middle    \n4                     DIPR-J&K           Jammu and Kashmir   \n...                        ...                         ...   \n179103  AJIMATI AbdulRahman O.             Ilorin, Nigeria   \n179104                   Jason                     Ontario   \n179105             BEEHEMOTH ⏳                   🇨🇦 Canada   \n179106           Gary DelPonte               New York City   \n179107                 TUKY II  Aliwal North, South Africa   \n\n                                         user_description  \\\n0       wednesday addams as a disney princess keepin i...   \n1       Husband, Father, Columnist & Commentator. Auth...   \n2       #Christian #Catholic #Conservative #Reagan #Re...   \n3       #Browns #Indians #ClevelandProud #[]_[] #Cavs ...   \n4       🖊️Official Twitter handle of Department of Inf...   \n...                                                   ...   \n179103    Animal Scientist|| Muslim|| Real Madrid/Chelsea   \n179104  When your cat has more baking soda than Ninja ...   \n179105  ⚒️ The Architects of Free Trade ⚒️ Really Did ...   \n179106  Global UX UI Visual Designer. StoryTeller, Mus...   \n179107  TOKELO SEKHOPA | TUKY II | LAST BORN | EISH TU...   \n\n               user_created  user_followers  user_friends  user_favourites  \\\n0       2017-05-26 05:46:42             624           950            18775   \n1       2009-04-16 20:06:23            2253          1677               24   \n2       2009-02-28 18:57:41            9275          9525             7254   \n3       2019-03-07 01:45:06             197           987             1488   \n4       2017-02-12 06:45:15          101009           168              101   \n...                     ...             ...           ...              ...   \n179103  2013-12-30 18:59:19             412          1609             1062   \n179104  2011-12-21 04:41:30             150           182             7295   \n179105  2016-07-13 17:21:59            1623          2160            98000   \n179106  2009-10-27 17:43:13            1338          1111                0   \n179107  2018-04-14 17:30:07              97          1697              566   \n\n        user_verified                 date  \\\n0               False  2020-07-25 12:27:21   \n1                True  2020-07-25 12:27:17   \n2               False  2020-07-25 12:27:14   \n3               False  2020-07-25 12:27:10   \n4               False  2020-07-25 12:27:08   \n...               ...                  ...   \n179103          False  2020-08-29 19:44:21   \n179104          False  2020-08-29 19:44:16   \n179105          False  2020-08-29 19:44:15   \n179106          False  2020-08-29 19:44:14   \n179107          False  2020-08-29 19:44:08   \n\n                                                     text  \\\n0       If I smelled the scent of hand sanitizers toda...   \n1       Hey @Yankees @YankeesPR and @MLB - wouldn't it...   \n2       @diane3443 @wdunlap @realDonaldTrump Trump nev...   \n3       @brookbanktv The one gift #COVID19 has give me...   \n4       25 July : Media Bulletin on Novel #CoronaVirus...   \n...                                                   ...   \n179103  Thanks @IamOhmai for nominating me for the @WH...   \n179104  2020! The year of insanity! Lol! #COVID19 http...   \n179105  @CTVNews A powerful painting by Juan Lucena. I...   \n179106  More than 1,200 students test positive for #CO...   \n179107  I stop when I see a Stop\\n\\n@SABCNews\\n@Izinda...   \n\n                                 hashtags               source  is_retweet  \\\n0                                     NaN   Twitter for iPhone       False   \n1                                     NaN  Twitter for Android       False   \n2                             ['COVID19']  Twitter for Android       False   \n3                             ['COVID19']   Twitter for iPhone       False   \n4       ['CoronaVirusUpdates', 'COVID19']  Twitter for Android       False   \n...                                   ...                  ...         ...   \n179103                      ['WearAMask']  Twitter for Android       False   \n179104                        ['COVID19']  Twitter for Android       False   \n179105                                NaN      Twitter Web App       False   \n179106                        ['COVID19']   Twitter for iPhone       False   \n179107                                NaN  Twitter for Android       False   \n\n       mentioned_politician  \n0                       NaN  \n1                       NaN  \n2                     Trump  \n3                       NaN  \n4                       NaN  \n...                     ...  \n179103                  NaN  \n179104                  NaN  \n179105                  NaN  \n179106                  NaN  \n179107                  NaN  \n\n[179108 rows x 14 columns]",
      "text/html": "<div>\n<style scoped>\n    .dataframe tbody tr th:only-of-type {\n        vertical-align: middle;\n    }\n\n    .dataframe tbody tr th {\n        vertical-align: top;\n    }\n\n    .dataframe thead th {\n        text-align: right;\n    }\n</style>\n<table border=\"1\" class=\"dataframe\">\n  <thead>\n    <tr style=\"text-align: right;\">\n      <th></th>\n      <th>user_name</th>\n      <th>user_location</th>\n      <th>user_description</th>\n      <th>user_created</th>\n      <th>user_followers</th>\n      <th>user_friends</th>\n      <th>user_favourites</th>\n      <th>user_verified</th>\n      <th>date</th>\n      <th>text</th>\n      <th>hashtags</th>\n      <th>source</th>\n      <th>is_retweet</th>\n      <th>mentioned_politician</th>\n    </tr>\n  </thead>\n  <tbody>\n    <tr>\n      <th>0</th>\n      <td>ᏉᎥ☻լꂅϮ</td>\n      <td>astroworld</td>\n      <td>wednesday addams as a disney princess keepin i...</td>\n      <td>2017-05-26 05:46:42</td>\n      <td>624</td>\n      <td>950</td>\n      <td>18775</td>\n      <td>False</td>\n      <td>2020-07-25 12:27:21</td>\n      <td>If I smelled the scent of hand sanitizers toda...</td>\n      <td>NaN</td>\n      <td>Twitter for iPhone</td>\n      <td>False</td>\n      <td>NaN</td>\n    </tr>\n    <tr>\n      <th>1</th>\n      <td>Tom Basile 🇺🇸</td>\n      <td>New York, NY</td>\n      <td>Husband, Father, Columnist &amp; Commentator. Auth...</td>\n      <td>2009-04-16 20:06:23</td>\n      <td>2253</td>\n      <td>1677</td>\n      <td>24</td>\n      <td>True</td>\n      <td>2020-07-25 12:27:17</td>\n      <td>Hey @Yankees @YankeesPR and @MLB - wouldn't it...</td>\n      <td>NaN</td>\n      <td>Twitter for Android</td>\n      <td>False</td>\n      <td>NaN</td>\n    </tr>\n    <tr>\n      <th>2</th>\n      <td>Time4fisticuffs</td>\n      <td>Pewee Valley, KY</td>\n      <td>#Christian #Catholic #Conservative #Reagan #Re...</td>\n      <td>2009-02-28 18:57:41</td>\n      <td>9275</td>\n      <td>9525</td>\n      <td>7254</td>\n      <td>False</td>\n      <td>2020-07-25 12:27:14</td>\n      <td>@diane3443 @wdunlap @realDonaldTrump Trump nev...</td>\n      <td>['COVID19']</td>\n      <td>Twitter for Android</td>\n      <td>False</td>\n      <td>Trump</td>\n    </tr>\n    <tr>\n      <th>3</th>\n      <td>ethel mertz</td>\n      <td>Stuck in the Middle</td>\n      <td>#Browns #Indians #ClevelandProud #[]_[] #Cavs ...</td>\n      <td>2019-03-07 01:45:06</td>\n      <td>197</td>\n      <td>987</td>\n      <td>1488</td>\n      <td>False</td>\n      <td>2020-07-25 12:27:10</td>\n      <td>@brookbanktv The one gift #COVID19 has give me...</td>\n      <td>['COVID19']</td>\n      <td>Twitter for iPhone</td>\n      <td>False</td>\n      <td>NaN</td>\n    </tr>\n    <tr>\n      <th>4</th>\n      <td>DIPR-J&amp;K</td>\n      <td>Jammu and Kashmir</td>\n      <td>🖊️Official Twitter handle of Department of Inf...</td>\n      <td>2017-02-12 06:45:15</td>\n      <td>101009</td>\n      <td>168</td>\n      <td>101</td>\n      <td>False</td>\n      <td>2020-07-25 12:27:08</td>\n      <td>25 July : Media Bulletin on Novel #CoronaVirus...</td>\n      <td>['CoronaVirusUpdates', 'COVID19']</td>\n      <td>Twitter for Android</td>\n      <td>False</td>\n      <td>NaN</td>\n    </tr>\n    <tr>\n      <th>...</th>\n      <td>...</td>\n      <td>...</td>\n      <td>...</td>\n      <td>...</td>\n      <td>...</td>\n      <td>...</td>\n      <td>...</td>\n      <td>...</td>\n      <td>...</td>\n      <td>...</td>\n      <td>...</td>\n      <td>...</td>\n      <td>...</td>\n      <td>...</td>\n    </tr>\n    <tr>\n      <th>179103</th>\n      <td>AJIMATI AbdulRahman O.</td>\n      <td>Ilorin, Nigeria</td>\n      <td>Animal Scientist|| Muslim|| Real Madrid/Chelsea</td>\n      <td>2013-12-30 18:59:19</td>\n      <td>412</td>\n      <td>1609</td>\n      <td>1062</td>\n      <td>False</td>\n      <td>2020-08-29 19:44:21</td>\n      <td>Thanks @IamOhmai for nominating me for the @WH...</td>\n      <td>['WearAMask']</td>\n      <td>Twitter for Android</td>\n      <td>False</td>\n      <td>NaN</td>\n    </tr>\n    <tr>\n      <th>179104</th>\n      <td>Jason</td>\n      <td>Ontario</td>\n      <td>When your cat has more baking soda than Ninja ...</td>\n      <td>2011-12-21 04:41:30</td>\n      <td>150</td>\n      <td>182</td>\n      <td>7295</td>\n      <td>False</td>\n      <td>2020-08-29 19:44:16</td>\n      <td>2020! The year of insanity! Lol! #COVID19 http...</td>\n      <td>['COVID19']</td>\n      <td>Twitter for Android</td>\n      <td>False</td>\n      <td>NaN</td>\n    </tr>\n    <tr>\n      <th>179105</th>\n      <td>BEEHEMOTH ⏳</td>\n      <td>🇨🇦 Canada</td>\n      <td>⚒️ The Architects of Free Trade ⚒️ Really Did ...</td>\n      <td>2016-07-13 17:21:59</td>\n      <td>1623</td>\n      <td>2160</td>\n      <td>98000</td>\n      <td>False</td>\n      <td>2020-08-29 19:44:15</td>\n      <td>@CTVNews A powerful painting by Juan Lucena. I...</td>\n      <td>NaN</td>\n      <td>Twitter Web App</td>\n      <td>False</td>\n      <td>NaN</td>\n    </tr>\n    <tr>\n      <th>179106</th>\n      <td>Gary DelPonte</td>\n      <td>New York City</td>\n      <td>Global UX UI Visual Designer. StoryTeller, Mus...</td>\n      <td>2009-10-27 17:43:13</td>\n      <td>1338</td>\n      <td>1111</td>\n      <td>0</td>\n      <td>False</td>\n      <td>2020-08-29 19:44:14</td>\n      <td>More than 1,200 students test positive for #CO...</td>\n      <td>['COVID19']</td>\n      <td>Twitter for iPhone</td>\n      <td>False</td>\n      <td>NaN</td>\n    </tr>\n    <tr>\n      <th>179107</th>\n      <td>TUKY II</td>\n      <td>Aliwal North, South Africa</td>\n      <td>TOKELO SEKHOPA | TUKY II | LAST BORN | EISH TU...</td>\n      <td>2018-04-14 17:30:07</td>\n      <td>97</td>\n      <td>1697</td>\n      <td>566</td>\n      <td>False</td>\n      <td>2020-08-29 19:44:08</td>\n      <td>I stop when I see a Stop\\n\\n@SABCNews\\n@Izinda...</td>\n      <td>NaN</td>\n      <td>Twitter for Android</td>\n      <td>False</td>\n      <td>NaN</td>\n    </tr>\n  </tbody>\n</table>\n<p>179108 rows × 14 columns</p>\n</div>"
     },
     "execution_count": 87,
     "metadata": {},
     "output_type": "execute_result"
    }
   ],
   "source": [
    "covid_tweets"
   ]
  },
  {
   "cell_type": "markdown",
   "metadata": {},
   "source": [
    "Seaborn and Matplotlib are usually used together in order to obtain the best looking, more customizable visualizations possible! The easiest way to create visualizations in Python is usually plotting your basics using Seaborn and, if needed, costumizing some aspects (that cannot be costumized just using seaborn) using Matplotlib.<br><br>\n",
    "In other words, your go-to library tends to be Seaborn while you use Matplotlib in order to make some visualization \"tunning\"!<br> Let's look at what seaborn has to offer: <br><br> *Seaborn page:*<br>\n",
    "https://seaborn.pydata.org/<br>\n",
    "\n",
    "*Seaborn example gallery:*<br>\n",
    "https://seaborn.pydata.org/examples/index.html<br>\n",
    "\n",
    "*Seaborn colours:*<br>\n",
    "https://python-graph-gallery.com/100-calling-a-color-with-seaborn/<br>\n",
    "\n",
    "*Seaborn colour palettes:*<br>\n",
    "https://seaborn.pydata.org/tutorial/color_palettes.html\n",
    "\n",
    "----------------------------------------------------------------------------------------"
   ]
  },
  {
   "cell_type": "markdown",
   "metadata": {},
   "source": [
    "**5:** use the correct plotting function in order to plot the amount of times each politician was mentioned. <br><br>\n",
    "*Note: change the default colours in the plot for colours of your choosing (palette of your choosing). Make sure you give the plot an appropriate title and \n",
    "x and y labels*<br><br>\n",
    "For tips on how to change labels and title:<br> \n",
    "https://datavizpyr.com/change-axis-labels-set-title-and-figure-size-to-plots-with-seaborn/"
   ]
  },
  {
   "cell_type": "code",
   "execution_count": null,
   "metadata": {},
   "outputs": [],
   "source": []
  },
  {
   "cell_type": "markdown",
   "metadata": {},
   "source": [
    "**6:** Plot the same visualization you previously plotted but in descending order."
   ]
  },
  {
   "cell_type": "code",
   "execution_count": null,
   "metadata": {},
   "outputs": [],
   "source": []
  },
  {
   "cell_type": "markdown",
   "metadata": {},
   "source": [
    "**7:** How is the distribution of the number of followers that our tweeting individuals have?<br>\n",
    "*Note: use at least two visualizations to answer this question*"
   ]
  },
  {
   "cell_type": "code",
   "execution_count": null,
   "metadata": {},
   "outputs": [],
   "source": []
  },
  {
   "cell_type": "markdown",
   "metadata": {},
   "source": [
    "**8:** How is the distribution of the number of followers that our tweeting individuals have if we exclude the individuals with no followers?"
   ]
  },
  {
   "cell_type": "code",
   "execution_count": null,
   "metadata": {},
   "outputs": [],
   "source": []
  },
  {
   "cell_type": "markdown",
   "metadata": {},
   "source": [
    "**9:** Keep only the year in which the user was created:"
   ]
  },
  {
   "cell_type": "code",
   "execution_count": null,
   "metadata": {},
   "outputs": [],
   "source": []
  },
  {
   "cell_type": "markdown",
   "metadata": {},
   "source": [
    "**10:** Create a column called years_active that calculates the number of years the user has had his/her account:"
   ]
  },
  {
   "cell_type": "code",
   "execution_count": null,
   "metadata": {},
   "outputs": [],
   "source": []
  },
  {
   "cell_type": "markdown",
   "metadata": {},
   "source": [
    "**11:** How is the distribution of the amount of years that our users have had their accounts?<br>\n",
    "*Note: use at least two visualizations to answer this question*<br>\n",
    "*Note2: if you find a highly abnormal datapoint, consider dropping it and seeing how the visualizations change!*"
   ]
  },
  {
   "cell_type": "code",
   "execution_count": null,
   "metadata": {},
   "outputs": [],
   "source": []
  },
  {
   "cell_type": "markdown",
   "metadata": {},
   "source": [
    "**12:** How often are verified users tweeting?<br>\n",
    "*Note: answer this question using a visualization that shows the difference in the amount of verified and unverified users - maybe a pie chart?*<br>https://matplotlib.org/3.1.1/gallery/pie_and_polar_charts/pie_features.html"
   ]
  },
  {
   "cell_type": "code",
   "execution_count": null,
   "metadata": {},
   "outputs": [],
   "source": []
  },
  {
   "cell_type": "markdown",
   "metadata": {},
   "source": [
    "**13:** Do you think there is a relation between the user's friends and the user's favourites?"
   ]
  },
  {
   "cell_type": "code",
   "execution_count": null,
   "metadata": {},
   "outputs": [],
   "source": []
  },
  {
   "cell_type": "markdown",
   "metadata": {},
   "source": [
    "**14:** Do you think there is a relation between the user's number of friends and the user's account creation year?"
   ]
  },
  {
   "cell_type": "code",
   "execution_count": null,
   "metadata": {},
   "outputs": [],
   "source": []
  },
  {
   "cell_type": "markdown",
   "metadata": {},
   "source": [
    "**15:** Create a column called publication_date and change the date column values from String to datetime.<br><br>*For some tips about datetime transformation:*<br><br>*Link 1:*\n",
    "https://stackoverflow.com/questions/9847213/how-do-i-get-the-day-of-week-given-a-date<br><br>*Link 2:* https://www.datacamp.com/community/tutorials/converting-strings-datetime-objects?utm_source=adwords_ppc&utm_campaignid=898687156&utm_adgroupid=48947256715&utm_device=c&utm_keyword=&utm_matchtype=b&utm_network=g&utm_adpostion=&utm_creative=332602034349&utm_targetid=aud-299261629574:dsa-429603003980&utm_loc_interest_ms=&utm_loc_physical_ms=1011742&gclid=CjwKCAjwrKr8BRB_EiwA7eFapjVpVNCq01AUtrTr08d3FDWFWY99_-1TQMsFIYDuNR9VNiEtQjTUkRoCtG4QAvD_BwE<br><br>"
   ]
  },
  {
   "cell_type": "code",
   "execution_count": 3,
   "metadata": {},
   "outputs": [],
   "source": [
    "from datetime import datetime\n",
    "import calendar"
   ]
  },
  {
   "cell_type": "code",
   "execution_count": null,
   "metadata": {},
   "outputs": [],
   "source": []
  },
  {
   "cell_type": "markdown",
   "metadata": {},
   "source": [
    "**16:** Create a column called publication_weekday that saves the publication's weekday (not in number, but in String (5 --> Saturday):"
   ]
  },
  {
   "cell_type": "code",
   "execution_count": null,
   "metadata": {},
   "outputs": [],
   "source": []
  },
  {
   "cell_type": "markdown",
   "metadata": {},
   "source": [
    "**17:** Create a visualization that allows you to see which weekdays have most tweets.\n",
    "<br>\n",
    "*Note: there are many many different visualizations you could choose to do, feel free to try different ones!*"
   ]
  },
  {
   "cell_type": "code",
   "execution_count": null,
   "metadata": {},
   "outputs": [],
   "source": []
  },
  {
   "cell_type": "markdown",
   "metadata": {},
   "source": [
    "**18:** What can you say about the relationship between the fact that the user mentiones a certain politician and his number of friends? Are people that are more politically inclined more popular on twitter?"
   ]
  },
  {
   "cell_type": "code",
   "execution_count": null,
   "metadata": {},
   "outputs": [],
   "source": []
  },
  {
   "cell_type": "markdown",
   "metadata": {},
   "source": [
    "**19:** How are the variables user_followers,user_friends,user_favourites related to each other? Is there a relationship you can detect?"
   ]
  },
  {
   "cell_type": "code",
   "execution_count": null,
   "metadata": {},
   "outputs": [],
   "source": []
  },
  {
   "cell_type": "markdown",
   "metadata": {},
   "source": [
    "**20:** How is the distribution of hashtags in the tweets? What is the more common number of hashtags ? How can you plot this?<br>\n",
    "*Note: Create a column called number_of_hashtags that saves the number of hashtags*"
   ]
  },
  {
   "cell_type": "code",
   "execution_count": null,
   "metadata": {},
   "outputs": [],
   "source": []
  },
  {
   "cell_type": "markdown",
   "metadata": {},
   "source": [
    "Seaborn also has datasets that are built in it and allow us to play a bit and improve our visualization skills!"
   ]
  },
  {
   "cell_type": "markdown",
   "metadata": {},
   "source": [
    "**21:** load the tips dataset from the available seaborn built-in datasets."
   ]
  },
  {
   "cell_type": "code",
   "execution_count": null,
   "metadata": {},
   "outputs": [],
   "source": []
  },
  {
   "cell_type": "markdown",
   "metadata": {},
   "source": [
    "**22:** See the **pairwise** relationships between all the numerical variables in the tips DataFrame, coloured by day of the week."
   ]
  },
  {
   "cell_type": "code",
   "execution_count": null,
   "metadata": {},
   "outputs": [],
   "source": []
  },
  {
   "cell_type": "markdown",
   "metadata": {},
   "source": [
    "**23:** Perform a linear regression in order to try to predict the tip considering the total bill; print the model's summary <br>\n",
    "*Note: use statsmodels<br>\n",
    "https://www.statsmodels.org/stable/regression.html*"
   ]
  },
  {
   "cell_type": "code",
   "execution_count": 4,
   "metadata": {},
   "outputs": [],
   "source": [
    "import statsmodels.api as sm"
   ]
  },
  {
   "cell_type": "code",
   "execution_count": null,
   "metadata": {},
   "outputs": [],
   "source": []
  },
  {
   "cell_type": "markdown",
   "metadata": {},
   "source": [
    "**24:** Let's perform a more \"professional\" regression analysis. Split the tips DataFrame into training and testing data. Keep 30% of the data for testing. Train the model using the training data and predict the tips in the testing data and assess the quality of your model! Use the **sklearn regression now!** <br><br>\n",
    "*TIP: in order to split the data: <br> https://scikit-learn.org/stable/modules/generated/sklearn.model_selection.train_test_split.html*"
   ]
  },
  {
   "cell_type": "code",
   "execution_count": 5,
   "metadata": {},
   "outputs": [],
   "source": [
    "from sklearn.linear_model import LinearRegression as lr\n",
    "from sklearn.metrics import mean_squared_error, r2_score"
   ]
  },
  {
   "cell_type": "code",
   "execution_count": 6,
   "metadata": {},
   "outputs": [],
   "source": [
    "from sklearn.model_selection import train_test_split\n"
   ]
  },
  {
   "cell_type": "code",
   "execution_count": 7,
   "metadata": {},
   "outputs": [],
   "source": [
    "# Create linear regression object\n",
    "\n",
    "# Train the model using the training sets\n",
    "\n",
    "# Make predictions using the testing set\n",
    "\n",
    "# Print:\n",
    "# The coefficients\n",
    "# The mean squared error\n",
    "# The coefficient of determination (1 is perfect prediction)"
   ]
  },
  {
   "cell_type": "markdown",
   "metadata": {},
   "source": [
    "**25:** Visualize the apparent strong relationship you just found!"
   ]
  },
  {
   "cell_type": "code",
   "execution_count": null,
   "metadata": {},
   "outputs": [],
   "source": []
  },
  {
   "cell_type": "markdown",
   "metadata": {},
   "source": [
    "**26:** Further explore the relationship between the tip given and the total bill. Mediate the relationship considering the day of the week and the day of the week.<br><br>\n",
    "*Note: This exploration should be done in **one** visualization. For instance see how you can manipulate a scatter plot to take into consideration these mediators*"
   ]
  },
  {
   "cell_type": "code",
   "execution_count": null,
   "metadata": {},
   "outputs": [],
   "source": []
  },
  {
   "cell_type": "code",
   "execution_count": null,
   "metadata": {},
   "outputs": [],
   "source": []
  }
 ],
 "metadata": {
  "kernelspec": {
   "name": "python3",
   "language": "python",
   "display_name": "Python 3 (ipykernel)"
  },
  "language_info": {
   "codemirror_mode": {
    "name": "ipython",
    "version": 3
   },
   "file_extension": ".py",
   "mimetype": "text/x-python",
   "name": "python",
   "nbconvert_exporter": "python",
   "pygments_lexer": "ipython3",
   "version": "3.8.8"
  }
 },
 "nbformat": 4,
 "nbformat_minor": 4
}
