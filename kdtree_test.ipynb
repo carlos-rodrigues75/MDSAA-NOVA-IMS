{
 "cells": [
  {
   "cell_type": "code",
   "execution_count": 2,
   "id": "initial_id",
   "metadata": {
    "collapsed": true,
    "ExecuteTime": {
     "end_time": "2023-11-17T21:42:22.195886Z",
     "start_time": "2023-11-17T21:42:22.188303Z"
    }
   },
   "outputs": [
    {
     "data": {
      "text/plain": "['euclidean',\n 'l2',\n 'minkowski',\n 'p',\n 'manhattan',\n 'cityblock',\n 'l1',\n 'chebyshev',\n 'infinity']"
     },
     "execution_count": 2,
     "metadata": {},
     "output_type": "execute_result"
    }
   ],
   "source": [
    "from sklearn.neighbors import KDTree\n",
    "\n"
   ]
  },
  {
   "cell_type": "code",
   "execution_count": null,
   "outputs": [],
   "source": [
    "KDTree()"
   ],
   "metadata": {
    "collapsed": false
   },
   "id": "38d8fc308f972a1b"
  }
 ],
 "metadata": {
  "kernelspec": {
   "display_name": "Python 3",
   "language": "python",
   "name": "python3"
  },
  "language_info": {
   "codemirror_mode": {
    "name": "ipython",
    "version": 2
   },
   "file_extension": ".py",
   "mimetype": "text/x-python",
   "name": "python",
   "nbconvert_exporter": "python",
   "pygments_lexer": "ipython2",
   "version": "2.7.6"
  }
 },
 "nbformat": 4,
 "nbformat_minor": 5
}
