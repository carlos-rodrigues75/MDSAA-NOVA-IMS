{
 "cells": [
  {
   "cell_type": "markdown",
   "source": [
    "# Clustering"
   ],
   "metadata": {
    "collapsed": false
   },
   "id": "1bcf8d97ea9d4a89"
  },
  {
   "cell_type": "code",
   "outputs": [],
   "source": [
    "import pandas as pd\n",
    "from matplotlib import pyplot as plt\n",
    "from sklearn.manifold import TSNE\n",
    "from sklearn.metrics import silhouette_score\n",
    "from sklearn.model_selection import train_test_split\n",
    "from sklearn.preprocessing import MinMaxScaler\n",
    "from sklearn.cluster import KMeans, DBSCAN\n",
    "import seaborn as sns\n",
    "import umap.umap_ as umap\n",
    "from sklearn.tree import DecisionTreeClassifier"
   ],
   "metadata": {
    "collapsed": false,
    "ExecuteTime": {
     "end_time": "2023-12-30T22:10:31.973508Z",
     "start_time": "2023-12-30T22:10:31.921627Z"
    }
   },
   "id": "d269e59fa6090183",
   "execution_count": 91
  },
  {
   "cell_type": "markdown",
   "source": [
    "# Load Preprocessed Data from previous notebook"
   ],
   "metadata": {
    "collapsed": false
   },
   "id": "f9a47734db450190"
  },
  {
   "cell_type": "code",
   "outputs": [],
   "source": [
    "df = pd.read_csv('./preprocessed_numeric.csv')"
   ],
   "metadata": {
    "collapsed": false,
    "ExecuteTime": {
     "end_time": "2023-12-30T22:10:32.007194Z",
     "start_time": "2023-12-30T22:10:31.977186Z"
    }
   },
   "id": "6104ae3e67a906f2",
   "execution_count": 92
  },
  {
   "cell_type": "markdown",
   "source": [
    "# Feature Scaling"
   ],
   "metadata": {
    "collapsed": false
   },
   "id": "122989402af6fd81"
  },
  {
   "cell_type": "code",
   "outputs": [],
   "source": [
    "def clusterize(model):\n",
    "    clusters = model.fit_predict(scaled_df)\n",
    "\n",
    "    unscaled_numeric_features = pd.DataFrame(scaler.inverse_transform(scaled_df))\n",
    "    unscaled_numeric_features.columns = df.columns\n",
    "    df_clusters = pd.concat([unscaled_numeric_features, pd.Series(clusters, name='labels', index=unscaled_numeric_features.index)], axis=1)\n",
    "    \n",
    "    s_score = silhouette_score(scaled_df, model.labels_)\n",
    "    print(f\"Silhouette Score: {s_score:.3f}\")\n",
    "    \n",
    "    return df_clusters"
   ],
   "metadata": {
    "collapsed": false,
    "ExecuteTime": {
     "end_time": "2023-12-31T10:58:24.948901Z",
     "start_time": "2023-12-31T10:58:24.942748Z"
    }
   },
   "id": "cf9da50328b41adf",
   "execution_count": 218
  },
  {
   "cell_type": "code",
   "outputs": [],
   "source": [
    "two_dim = TSNE(random_state=42).fit_transform(df)"
   ],
   "metadata": {
    "collapsed": false,
    "ExecuteTime": {
     "end_time": "2023-12-30T22:11:57.411157Z",
     "start_time": "2023-12-30T22:10:32.017261Z"
    }
   },
   "id": "9693f882a1ebda50",
   "execution_count": 94
  },
  {
   "cell_type": "code",
   "outputs": [],
   "source": [
    "def plot_clusters_tsne(dataframe):\n",
    "    # t-SNE visualization\n",
    "    pd.DataFrame(two_dim).plot.scatter(x=0, y=1, c=dataframe['labels'], colormap='tab10', figsize=(10,10))\n",
    "    plt.show()"
   ],
   "metadata": {
    "collapsed": false,
    "ExecuteTime": {
     "end_time": "2023-12-30T22:11:57.427793Z",
     "start_time": "2023-12-30T22:11:57.415856Z"
    }
   },
   "id": "55e093b08cd43567",
   "execution_count": 95
  },
  {
   "cell_type": "code",
   "outputs": [],
   "source": [
    "def plot_clusters_umap(dataframe):\n",
    "    umap_result = umap.UMAP(n_neighbors=15, min_dist=0.1, n_components=2, random_state=42).fit_transform(df)\n",
    "    plt.scatter(umap_result[:, 0], umap_result[:, 1], c=dataframe['labels'], cmap='viridis')\n",
    "    plt.title('UMAP Visualization of Clusters')\n",
    "    plt.show()"
   ],
   "metadata": {
    "collapsed": false,
    "ExecuteTime": {
     "end_time": "2023-12-30T22:11:57.429512Z",
     "start_time": "2023-12-30T22:11:57.424166Z"
    }
   },
   "id": "9d561bf270b8f74e",
   "execution_count": 96
  },
  {
   "cell_type": "code",
   "outputs": [],
   "source": [
    "def assess_feature_importance(dataframe):\n",
    "    # Preparing the data\n",
    "    X = dataframe.drop('labels', axis=1)\n",
    "    y = dataframe['labels']\n",
    "\n",
    "    # Splitting the data\n",
    "    X_train, X_test, y_train, y_test = train_test_split(X, y, test_size=0.2, random_state=42)\n",
    "\n",
    "    # Fitting the decision tree\n",
    "    dt = DecisionTreeClassifier(random_state=42)\n",
    "    dt.fit(X_train, y_train)\n",
    "    print(\"It is estimated that in average, we are able to predict {0:.2f}% of the customers correctly\".format(dt.score(X_test, y_test)*100))\n",
    "    return pd.Series(dt.feature_importances_, index=X_train.columns).sort_values(ascending=False)"
   ],
   "metadata": {
    "collapsed": false,
    "ExecuteTime": {
     "end_time": "2023-12-30T22:11:57.460485Z",
     "start_time": "2023-12-30T22:11:57.433117Z"
    }
   },
   "id": "e7c7340df88bf1d7",
   "execution_count": 97
  },
  {
   "cell_type": "code",
   "outputs": [],
   "source": [
    "scaler = MinMaxScaler()\n",
    "scaled_df = scaler.fit_transform(df)"
   ],
   "metadata": {
    "collapsed": false,
    "ExecuteTime": {
     "end_time": "2023-12-30T22:11:57.461812Z",
     "start_time": "2023-12-30T22:11:57.445088Z"
    }
   },
   "id": "7f402874b9a1ec5d",
   "execution_count": 98
  },
  {
   "cell_type": "markdown",
   "source": [
    "## K-Means"
   ],
   "metadata": {
    "collapsed": false
   },
   "id": "7495727634d2c99c"
  },
  {
   "cell_type": "code",
   "outputs": [
    {
     "data": {
      "text/plain": "<Axes: >"
     },
     "execution_count": 99,
     "metadata": {},
     "output_type": "execute_result"
    },
    {
     "data": {
      "text/plain": "<Figure size 640x480 with 1 Axes>",
      "image/png": "[encoded data removed]"
     },
     "metadata": {},
     "output_type": "display_data"
    }
   ],
   "source": [
    "clusters_range = range(1, 20)\n",
    "inertia = []\n",
    "for i in clusters_range:\n",
    "    kmeans = KMeans(n_clusters=i, n_init=10, random_state=42)\n",
    "    kmeans.fit(scaled_df)\n",
    "    inertia.append(kmeans.inertia_)\n",
    "    \n",
    "plot = sns.lineplot(x=clusters_range, y=inertia, marker='x')\n",
    "plot.set_xticks(clusters_range)\n",
    "plot"
   ],
   "metadata": {
    "collapsed": false,
    "ExecuteTime": {
     "end_time": "2023-12-30T22:12:02.949495Z",
     "start_time": "2023-12-30T22:11:57.457147Z"
    }
   },
   "id": "e2d921326bd6b7",
   "execution_count": 99
  },
  {
   "cell_type": "code",
   "outputs": [
    {
     "name": "stdout",
     "output_type": "stream",
     "text": [
      "Silhouette Score: 0.404\n",
      "It is estimated that in average, we are able to predict 99.27% of the customers correctly\n"
     ]
    },
    {
     "data": {
      "text/plain": "AllowedWeeklyVisitsBySLA      0.431444\nLastPeriodDurationInDays      0.300244\nEnrollmentDurationInDays      0.142742\nNumberOfRenewals              0.120112\nLifetimeValue                 0.002297\nDaysWithoutFrequency          0.000826\nIncome                        0.000780\nAllowedNumberOfVisitsBySLA    0.000503\nRealNumberOfVisits            0.000499\nNumberOfFrequencies           0.000291\nAttendedClasses               0.000263\ndtype: float64"
     },
     "execution_count": 219,
     "metadata": {},
     "output_type": "execute_result"
    }
   ],
   "source": [
    "kmeans = KMeans(n_clusters=5, n_init=10, random_state=42)\n",
    "kmeans_5_clustered_df = clusterize(kmeans)\n",
    "# plot_clusters_tsne(kmeans_5_clustered_df)\n",
    "# kmeans_5_clustered_df.groupby('labels').mean().T\n",
    "# plot_clusters_umap(kmeans_5_clustered_df)\n",
    "assess_feature_importance(kmeans_5_clustered_df)"
   ],
   "metadata": {
    "collapsed": false,
    "ExecuteTime": {
     "end_time": "2023-12-31T10:58:35.793837Z",
     "start_time": "2023-12-31T10:58:32.906999Z"
    }
   },
   "id": "99a11532092737f",
   "execution_count": 219
  },
  {
   "cell_type": "code",
   "outputs": [
    {
     "name": "stdout",
     "output_type": "stream",
     "text": [
      "It is estimated that in average, we are able to predict 99.38% of the customers correctly\n"
     ]
    },
    {
     "data": {
      "text/plain": "LastPeriodDurationInDays      0.357902\nAllowedWeeklyVisitsBySLA      0.355319\nEnrollmentDurationInDays      0.149457\nNumberOfRenewals              0.127341\nLifetimeValue                 0.002520\nIncome                        0.002451\nNumberOfFrequencies           0.001532\nAllowedNumberOfVisitsBySLA    0.001262\nAttendedClasses               0.001179\nDaysWithoutFrequency          0.000618\nRealNumberOfVisits            0.000418\ndtype: float64"
     },
     "execution_count": 101,
     "metadata": {},
     "output_type": "execute_result"
    }
   ],
   "source": [
    "kmeans = KMeans(n_clusters=4, n_init=10, random_state=42)\n",
    "kmeans_4_clustered_df = clusterize(kmeans)\n",
    "# plot_clusters_tsne(kmeans_4_clustered_df)\n",
    "# kmeans_4_clustered_df.groupby('labels').mean().T\n",
    "assess_feature_importance(kmeans_4_clustered_df)"
   ],
   "metadata": {
    "collapsed": false,
    "ExecuteTime": {
     "end_time": "2023-12-30T22:12:03.384550Z",
     "start_time": "2023-12-30T22:12:03.166633Z"
    }
   },
   "id": "a25a211dc9f9babc",
   "execution_count": 101
  },
  {
   "cell_type": "markdown",
   "source": [
    "## DBSCAN"
   ],
   "metadata": {
    "collapsed": false
   },
   "id": "32a691b82a8d5de7"
  },
  {
   "cell_type": "code",
   "outputs": [
    {
     "name": "stdout",
     "output_type": "stream",
     "text": [
      "It is estimated that in average, we are able to predict 99.85% of the customers correctly\n"
     ]
    },
    {
     "data": {
      "text/plain": "LastPeriodDurationInDays      0.989619\nAllowedNumberOfVisitsBySLA    0.003766\nAttendedClasses               0.001772\nLifetimeValue                 0.001418\nNumberOfFrequencies           0.000868\nIncome                        0.000662\nNumberOfRenewals              0.000549\nRealNumberOfVisits            0.000516\nAllowedWeeklyVisitsBySLA      0.000474\nEnrollmentDurationInDays      0.000258\nDaysWithoutFrequency          0.000098\ndtype: float64"
     },
     "execution_count": 103,
     "metadata": {},
     "output_type": "execute_result"
    }
   ],
   "source": [
    "dbscan = DBSCAN(eps=0.4, min_samples=5)\n",
    "dbscan_clustered_df = clusterize(dbscan)\n",
    "# dbscan_clustered_df.groupby('labels').mean().T\n",
    "assess_feature_importance(dbscan_clustered_df)"
   ],
   "metadata": {
    "collapsed": false,
    "ExecuteTime": {
     "end_time": "2023-12-30T22:13:43.682420Z",
     "start_time": "2023-12-30T22:13:40.973320Z"
    }
   },
   "id": "576bfdb1c1f2061d",
   "execution_count": 103
  },
  {
   "cell_type": "markdown",
   "source": [
    "# Checking results (double check it with ChatGPT later)\n",
    "## View results\n",
    "- Check if the cluster center (mean) of any variables doesn't vary much between clusters, if so, we can drop it.\n",
    "- If there are clusters with too few customers, we can check if the center of the variables is similar to the other clusters, if so, we can merge them.\n",
    "\n",
    "\n",
    "## Visualization\n",
    "- We can plot cluster centers:\n",
    "```python\n",
    "df.groupby('labels') \\ [scaled_features].mean().plot(kind='bar')\n",
    "```\n",
    "\n",
    "# Feature reduction\n",
    "- Factor Analysis\n",
    "- Multidimensional scaling"
   ],
   "metadata": {
    "collapsed": false
   },
   "id": "9d4cbae17f8f4eb8"
  },
  {
   "cell_type": "code",
   "outputs": [],
   "source": [],
   "metadata": {
    "collapsed": false,
    "ExecuteTime": {
     "end_time": "2023-12-30T22:12:05.951959Z",
     "start_time": "2023-12-30T22:12:05.945363Z"
    }
   },
   "id": "176449ec5b956e08",
   "execution_count": 102
  },
  {
   "cell_type": "code",
   "outputs": [],
   "source": [],
   "metadata": {
    "collapsed": false,
    "ExecuteTime": {
     "end_time": "2023-12-30T22:12:05.952480Z",
     "start_time": "2023-12-30T22:12:05.948726Z"
    }
   },
   "id": "7dff78229ccebd95",
   "execution_count": 102
  }
 ],
 "metadata": {
  "kernelspec": {
   "display_name": "Python 3",
   "language": "python",
   "name": "python3"
  },
  "language_info": {
   "codemirror_mode": {
    "name": "ipython",
    "version": 2
   },
   "file_extension": ".py",
   "mimetype": "text/x-python",
   "name": "python",
   "nbconvert_exporter": "python",
   "pygments_lexer": "ipython2",
   "version": "2.7.6"
  }
 },
 "nbformat": 4,
 "nbformat_minor": 5
}
