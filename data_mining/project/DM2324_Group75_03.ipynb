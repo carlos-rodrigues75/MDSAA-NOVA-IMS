{
 "cells": [
  {
   "cell_type": "markdown",
   "source": [
    "# Clustering"
   ],
   "metadata": {
    "collapsed": false
   },
   "id": "1bcf8d97ea9d4a89"
  },
  {
   "cell_type": "code",
   "outputs": [],
   "source": [
    "import pandas as pd\n",
    "from matplotlib import pyplot as plt\n",
    "from sklearn.manifold import TSNE\n",
    "from sklearn.metrics import silhouette_score\n",
    "from sklearn.model_selection import train_test_split\n",
    "from sklearn.preprocessing import MinMaxScaler\n",
    "from sklearn.cluster import KMeans, DBSCAN\n",
    "import seaborn as sns\n",
    "import umap.umap_ as umap\n",
    "from sklearn.tree import DecisionTreeClassifier"
   ],
   "metadata": {
    "collapsed": false,
    "ExecuteTime": {
     "end_time": "2023-12-31T11:23:39.400945Z",
     "start_time": "2023-12-31T11:23:39.382631Z"
    }
   },
   "id": "d269e59fa6090183",
   "execution_count": 265
  },
  {
   "cell_type": "markdown",
   "source": [
    "# Load Preprocessed Data from previous notebook"
   ],
   "metadata": {
    "collapsed": false
   },
   "id": "f9a47734db450190"
  },
  {
   "cell_type": "code",
   "outputs": [],
   "source": [
    "df = pd.read_csv('./preprocessed_categorical.csv')"
   ],
   "metadata": {
    "collapsed": false,
    "ExecuteTime": {
     "end_time": "2023-12-31T11:23:39.438585Z",
     "start_time": "2023-12-31T11:23:39.414546Z"
    }
   },
   "id": "6104ae3e67a906f2",
   "execution_count": 266
  },
  {
   "cell_type": "markdown",
   "source": [
    "# Feature Scaling"
   ],
   "metadata": {
    "collapsed": false
   },
   "id": "122989402af6fd81"
  },
  {
   "cell_type": "code",
   "outputs": [],
   "source": [
    "def clusterize(model):\n",
    "    clusters = model.fit_predict(scaled_df)\n",
    "\n",
    "    unscaled_features = pd.DataFrame(scaler.inverse_transform(scaled_df))\n",
    "    unscaled_features.columns = df.columns\n",
    "    df_clusters = pd.concat([unscaled_features, pd.Series(clusters, name='labels', index=unscaled_features.index)], axis=1)\n",
    "    \n",
    "    s_score = silhouette_score(scaled_df, model.labels_)\n",
    "    print(f\"Silhouette Score: {s_score:.3f}\")\n",
    "    \n",
    "    return df_clusters"
   ],
   "metadata": {
    "collapsed": false,
    "ExecuteTime": {
     "end_time": "2023-12-31T11:23:39.452174Z",
     "start_time": "2023-12-31T11:23:39.438325Z"
    }
   },
   "id": "cf9da50328b41adf",
   "execution_count": 267
  },
  {
   "cell_type": "code",
   "outputs": [],
   "source": [
    "# two_dim = TSNE(random_state=42).fit_transform(df)"
   ],
   "metadata": {
    "collapsed": false,
    "ExecuteTime": {
     "end_time": "2023-12-31T11:23:39.452474Z",
     "start_time": "2023-12-31T11:23:39.446372Z"
    }
   },
   "id": "9693f882a1ebda50",
   "execution_count": 268
  },
  {
   "cell_type": "code",
   "outputs": [],
   "source": [
    "def plot_clusters_tsne(dataframe):\n",
    "    # t-SNE visualization\n",
    "    pd.DataFrame(two_dim).plot.scatter(x=0, y=1, c=dataframe['labels'], colormap='tab10', figsize=(10,10))\n",
    "    plt.show()"
   ],
   "metadata": {
    "collapsed": false,
    "ExecuteTime": {
     "end_time": "2023-12-31T11:23:39.461833Z",
     "start_time": "2023-12-31T11:23:39.451451Z"
    }
   },
   "id": "55e093b08cd43567",
   "execution_count": 269
  },
  {
   "cell_type": "code",
   "outputs": [],
   "source": [
    "def plot_clusters_umap(dataframe):\n",
    "    umap_result = umap.UMAP(n_neighbors=15, min_dist=0.1, n_components=2, random_state=42).fit_transform(df)\n",
    "    plt.scatter(umap_result[:, 0], umap_result[:, 1], c=dataframe['labels'], cmap='viridis')\n",
    "    plt.title('UMAP Visualization of Clusters')\n",
    "    plt.show()"
   ],
   "metadata": {
    "collapsed": false,
    "ExecuteTime": {
     "end_time": "2023-12-31T11:23:39.465389Z",
     "start_time": "2023-12-31T11:23:39.456232Z"
    }
   },
   "id": "9d561bf270b8f74e",
   "execution_count": 270
  },
  {
   "cell_type": "code",
   "outputs": [],
   "source": [
    "def assess_feature_importance(dataframe):\n",
    "    # Preparing the data\n",
    "    X = dataframe.drop('labels', axis=1)\n",
    "    y = dataframe['labels']\n",
    "\n",
    "    # Splitting the data\n",
    "    X_train, X_test, y_train, y_test = train_test_split(X, y, test_size=0.2, random_state=42)\n",
    "\n",
    "    # Fitting the decision tree\n",
    "    dt = DecisionTreeClassifier(random_state=42)\n",
    "    dt.fit(X_train, y_train)\n",
    "    print(\"It is estimated that in average, we are able to predict {0:.2f}% of the customers correctly\".format(dt.score(X_test, y_test)*100))\n",
    "    return pd.Series(dt.feature_importances_, index=X_train.columns).sort_values(ascending=False)"
   ],
   "metadata": {
    "collapsed": false,
    "ExecuteTime": {
     "end_time": "2023-12-31T11:23:39.474118Z",
     "start_time": "2023-12-31T11:23:39.462832Z"
    }
   },
   "id": "e7c7340df88bf1d7",
   "execution_count": 271
  },
  {
   "cell_type": "code",
   "outputs": [],
   "source": [
    "scaler = MinMaxScaler()\n",
    "scaled_df = scaler.fit_transform(df)"
   ],
   "metadata": {
    "collapsed": false,
    "ExecuteTime": {
     "end_time": "2023-12-31T11:23:39.487661Z",
     "start_time": "2023-12-31T11:23:39.468175Z"
    }
   },
   "id": "7f402874b9a1ec5d",
   "execution_count": 272
  },
  {
   "cell_type": "markdown",
   "source": [
    "## K-Means"
   ],
   "metadata": {
    "collapsed": false
   },
   "id": "7495727634d2c99c"
  },
  {
   "cell_type": "code",
   "outputs": [
    {
     "data": {
      "text/plain": "<Axes: >"
     },
     "execution_count": 273,
     "metadata": {},
     "output_type": "execute_result"
    },
    {
     "data": {
      "text/plain": "<Figure size 640x480 with 1 Axes>",
      "image/png": "[encoded data removed]"
     },
     "metadata": {},
     "output_type": "display_data"
    }
   ],
   "source": [
    "clusters_range = range(1, 20)\n",
    "inertia = []\n",
    "for i in clusters_range:\n",
    "    kmeans = KMeans(n_clusters=i, n_init=10, random_state=42)\n",
    "    kmeans.fit(scaled_df)\n",
    "    inertia.append(kmeans.inertia_)\n",
    "    \n",
    "plot = sns.lineplot(x=clusters_range, y=inertia, marker='o')\n",
    "plot.set_xticks(clusters_range)\n",
    "plot"
   ],
   "metadata": {
    "collapsed": false,
    "ExecuteTime": {
     "end_time": "2023-12-31T11:23:46.317098Z",
     "start_time": "2023-12-31T11:23:39.480182Z"
    }
   },
   "id": "e2d921326bd6b7",
   "execution_count": 273
  },
  {
   "cell_type": "code",
   "outputs": [
    {
     "name": "stdout",
     "output_type": "stream",
     "text": [
      "Silhouette Score: 0.405\n"
     ]
    },
    {
     "data": {
      "text/plain": "labels                                0            1            2            3\nIncome                      1561.799410  2143.190746  2415.965517  2459.818287\nEnrollmentDurationInDays     451.275179     1.646443   340.421960   350.953562\nLastPeriodDurationInDays     296.051833   200.694020   181.230309   365.522354\nDaysWithoutFrequency         107.481247    65.371890    88.107260    76.340929\nLifetimeValue                384.927994   624.355316   185.903546   224.665852\nNumberOfFrequencies           29.243574    84.332606    30.799274    37.332853\nAttendedClasses               24.782975    28.110869     1.117060     1.552928\nAllowedWeeklyVisitsBySLA       2.249473     5.028372     6.985299     6.981540\nAllowedNumberOfVisitsBySLA    19.555470    34.656430    45.234740    59.918486\nRealNumberOfVisits             2.592920     8.221737     5.101452     5.557543\nNumberOfRenewals               1.312684     2.416412     0.936661     0.878569\nDropout                        1.000000     0.000000     1.000000     1.000000",
      "text/html": "<div>\n<style scoped>\n    .dataframe tbody tr th:only-of-type {\n        vertical-align: middle;\n    }\n\n    .dataframe tbody tr th {\n        vertical-align: top;\n    }\n\n    .dataframe thead th {\n        text-align: right;\n    }\n</style>\n<table border=\"1\" class=\"dataframe\">\n  <thead>\n    <tr style=\"text-align: right;\">\n      <th>labels</th>\n      <th>0</th>\n      <th>1</th>\n      <th>2</th>\n      <th>3</th>\n    </tr>\n  </thead>\n  <tbody>\n    <tr>\n      <th>Income</th>\n      <td>1561.799410</td>\n      <td>2143.190746</td>\n      <td>2415.965517</td>\n      <td>2459.818287</td>\n    </tr>\n    <tr>\n      <th>EnrollmentDurationInDays</th>\n      <td>451.275179</td>\n      <td>1.646443</td>\n      <td>340.421960</td>\n      <td>350.953562</td>\n    </tr>\n    <tr>\n      <th>LastPeriodDurationInDays</th>\n      <td>296.051833</td>\n      <td>200.694020</td>\n      <td>181.230309</td>\n      <td>365.522354</td>\n    </tr>\n    <tr>\n      <th>DaysWithoutFrequency</th>\n      <td>107.481247</td>\n      <td>65.371890</td>\n      <td>88.107260</td>\n      <td>76.340929</td>\n    </tr>\n    <tr>\n      <th>LifetimeValue</th>\n      <td>384.927994</td>\n      <td>624.355316</td>\n      <td>185.903546</td>\n      <td>224.665852</td>\n    </tr>\n    <tr>\n      <th>NumberOfFrequencies</th>\n      <td>29.243574</td>\n      <td>84.332606</td>\n      <td>30.799274</td>\n      <td>37.332853</td>\n    </tr>\n    <tr>\n      <th>AttendedClasses</th>\n      <td>24.782975</td>\n      <td>28.110869</td>\n      <td>1.117060</td>\n      <td>1.552928</td>\n    </tr>\n    <tr>\n      <th>AllowedWeeklyVisitsBySLA</th>\n      <td>2.249473</td>\n      <td>5.028372</td>\n      <td>6.985299</td>\n      <td>6.981540</td>\n    </tr>\n    <tr>\n      <th>AllowedNumberOfVisitsBySLA</th>\n      <td>19.555470</td>\n      <td>34.656430</td>\n      <td>45.234740</td>\n      <td>59.918486</td>\n    </tr>\n    <tr>\n      <th>RealNumberOfVisits</th>\n      <td>2.592920</td>\n      <td>8.221737</td>\n      <td>5.101452</td>\n      <td>5.557543</td>\n    </tr>\n    <tr>\n      <th>NumberOfRenewals</th>\n      <td>1.312684</td>\n      <td>2.416412</td>\n      <td>0.936661</td>\n      <td>0.878569</td>\n    </tr>\n    <tr>\n      <th>Dropout</th>\n      <td>1.000000</td>\n      <td>0.000000</td>\n      <td>1.000000</td>\n      <td>1.000000</td>\n    </tr>\n  </tbody>\n</table>\n</div>"
     },
     "execution_count": 279,
     "metadata": {},
     "output_type": "execute_result"
    }
   ],
   "source": [
    "kmeans = KMeans(n_clusters=4, n_init=10, random_state=42)\n",
    "kmeans_4_clustered_df = clusterize(kmeans)\n",
    "# plot_clusters_tsne(kmeans_4_clustered_df)\n",
    "kmeans_4_clustered_df.groupby('labels').mean().T\n",
    "# assess_feature_importance(kmeans_4_clustered_df)\n",
    "# kmeans_4_clustered_df.groupby('labels').size()"
   ],
   "metadata": {
    "collapsed": false,
    "ExecuteTime": {
     "end_time": "2023-12-31T11:26:29.373613Z",
     "start_time": "2023-12-31T11:26:26.485767Z"
    }
   },
   "id": "a25a211dc9f9babc",
   "execution_count": 279
  },
  {
   "cell_type": "markdown",
   "source": [
    "## DBSCAN"
   ],
   "metadata": {
    "collapsed": false
   },
   "id": "32a691b82a8d5de7"
  },
  {
   "cell_type": "code",
   "outputs": [
    {
     "name": "stdout",
     "output_type": "stream",
     "text": [
      "Silhouette Score: 0.314\n"
     ]
    },
    {
     "data": {
      "text/plain": "labels\n-1     538\n 0    4747\n 1    6323\n 2     810\n 3    1106\n 4     117\ndtype: int64"
     },
     "execution_count": 275,
     "metadata": {},
     "output_type": "execute_result"
    }
   ],
   "source": [
    "dbscan = DBSCAN(eps=0.3, min_samples=50)\n",
    "dbscan_clustered_df = clusterize(dbscan)\n",
    "\n",
    "dbscan_clustered_df.groupby('labels').size()"
   ],
   "metadata": {
    "collapsed": false,
    "ExecuteTime": {
     "end_time": "2023-12-31T11:23:53.501033Z",
     "start_time": "2023-12-31T11:23:49.005695Z"
    }
   },
   "id": "576bfdb1c1f2061d",
   "execution_count": 275
  },
  {
   "cell_type": "markdown",
   "source": [
    "I've tried to fine tune the parameters of DBSCAN, but in general the algorithm create very unbalanced clusters.\n",
    "\n",
    "Because of that, I'll stick with K-Means for now."
   ],
   "metadata": {
    "collapsed": false
   },
   "id": "ce8416a8dd0397c2"
  },
  {
   "cell_type": "markdown",
   "source": [
    "# Checking results (double check it with ChatGPT later)\n",
    "## View results\n",
    "- Check if the cluster center (mean) of any variables doesn't vary much between clusters, if so, we can drop it.\n",
    "- If there are clusters with too few customers, we can check if the center of the variables is similar to the other clusters, if so, we can merge them.\n",
    "\n",
    "\n",
    "## Visualization\n",
    "- We can plot cluster centers:\n",
    "```python\n",
    "df.groupby('labels') \\ [scaled_features].mean().plot(kind='bar')\n",
    "```\n",
    "\n",
    "# Feature reduction\n",
    "- Factor Analysis\n",
    "- Multidimensional scaling"
   ],
   "metadata": {
    "collapsed": false
   },
   "id": "9d4cbae17f8f4eb8"
  },
  {
   "cell_type": "code",
   "outputs": [],
   "source": [],
   "metadata": {
    "collapsed": false,
    "ExecuteTime": {
     "end_time": "2023-12-31T11:23:53.501891Z",
     "start_time": "2023-12-31T11:23:53.499212Z"
    }
   },
   "id": "176449ec5b956e08",
   "execution_count": 275
  },
  {
   "cell_type": "code",
   "outputs": [],
   "source": [],
   "metadata": {
    "collapsed": false,
    "ExecuteTime": {
     "end_time": "2023-12-31T11:23:53.506514Z",
     "start_time": "2023-12-31T11:23:53.501924Z"
    }
   },
   "id": "7dff78229ccebd95",
   "execution_count": 275
  }
 ],
 "metadata": {
  "kernelspec": {
   "display_name": "Python 3",
   "language": "python",
   "name": "python3"
  },
  "language_info": {
   "codemirror_mode": {
    "name": "ipython",
    "version": 2
   },
   "file_extension": ".py",
   "mimetype": "text/x-python",
   "name": "python",
   "nbconvert_exporter": "python",
   "pygments_lexer": "ipython2",
   "version": "2.7.6"
  }
 },
 "nbformat": 4,
 "nbformat_minor": 5
}
