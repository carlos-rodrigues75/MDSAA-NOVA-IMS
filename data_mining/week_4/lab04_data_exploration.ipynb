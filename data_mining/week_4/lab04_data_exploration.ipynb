{
 "cells": [
  {
   "cell_type": "code",
   "execution_count": 1,
   "metadata": {
    "ExecuteTime": {
     "end_time": "2023-09-29T06:20:56.177495Z",
     "start_time": "2023-09-29T06:20:56.174858Z"
    }
   },
   "outputs": [],
   "source": [
    "# Remember: library imports are ALWAYS at the top of the script, no exceptions!\n",
    "import sqlite3\n",
    "import os\n",
    "import pandas as pd\n",
    "import numpy as np\n",
    "import matplotlib.pyplot as plt\n",
    "import seaborn as sns\n",
    "from math import ceil\n",
    "\n",
    "# for better resolution plots\n",
    "%config InlineBackend.figure_format = 'retina' # optionally, you can change 'svg' to 'retina'\n",
    "\n",
    "# Seeting seaborn style\n",
    "sns.set()"
   ]
  },
  {
   "cell_type": "markdown",
   "metadata": {},
   "source": [
    "# Context\n",
    "The data we will be using through the pratical classes comes from a small relational database whose schema can be seen below:\n",
    "![alt text](./schema.png \"Relation database schema\")"
   ]
  },
  {
   "cell_type": "markdown",
   "metadata": {},
   "source": [
    "# Reading the Data"
   ]
  },
  {
   "cell_type": "code",
   "execution_count": 2,
   "metadata": {
    "ExecuteTime": {
     "end_time": "2023-09-29T06:20:56.243690Z",
     "start_time": "2023-09-29T06:20:56.177260Z"
    }
   },
   "outputs": [],
   "source": [
    "# connect to the database\n",
    "conn = sqlite3.connect(\"./datamining.db\")\n",
    "\n",
    "# the query\n",
    "query = \"\"\"\n",
    "select\n",
    "    age, \n",
    "    income, \n",
    "    frq, \n",
    "    rcn, \n",
    "    mnt, \n",
    "    clothes, \n",
    "    kitchen, \n",
    "    small_appliances, \n",
    "    toys, \n",
    "    house_keeping,\n",
    "    dependents, \n",
    "    per_net_purchase,\n",
    "    g.gender, \n",
    "    e.education, \n",
    "    m.status, \n",
    "    r.description\n",
    "from customers as c\n",
    "    join genders as g on g.id = c.gender_id\n",
    "    join education_levels as e on e.id = c.education_id\n",
    "    join marital_status as m on m.id = c.marital_status_id\n",
    "    join recommendations as r on r.id = c.recommendation_id\n",
    "order by c.id;\n",
    "\"\"\"\n",
    "\n",
    "df = pd.read_sql_query(query, conn)"
   ]
  },
  {
   "cell_type": "markdown",
   "metadata": {},
   "source": [
    "# Metadata\n",
    "- *id* - The unique identifier of the customer\n",
    "- *age* - The year of birht of the customer\n",
    "- *income* - The income of the customer\n",
    "- *frq* - Frequency: number of purchases made by the customer\n",
    "- *rcn* - Recency: number of days since last customer purchase\n",
    "- *mnt* - Monetary: amount of € spent by the customer in purchases\n",
    "- *clothes* - Number of clothes items purchased by the customer\n",
    "- *kitchen* - Number of kitchen items purchased by the customer\n",
    "- *small_appliances* - Number of small_appliances items purchased by the customer\n",
    "- *toys* - Number of toys items purchased by the customer\n",
    "- *house_keeping* - Number of house_keeping items purchased by the customer\n",
    "- *dependents* - Binary. Whether or not the customer has dependents\n",
    "- *per_net_purchase* - Percentage of purchases made online\n",
    "- *education* - Education level of the customer\n",
    "- *status* - Marital status of the customer\n",
    "- *gender* - Gender of the customer\n",
    "- *description* - Last customer's recommendation description"
   ]
  },
  {
   "cell_type": "markdown",
   "metadata": {},
   "source": [
    "# Initial Analysis\n",
    "\n",
    "Pandas user guide: https://pandas.pydata.org/pandas-docs/stable/user_guide/index.html\n",
    "\n",
    "Pandas 10 min tutorial: https://pandas.pydata.org/pandas-docs/stable/user_guide/10min.html"
   ]
  },
  {
   "cell_type": "code",
   "execution_count": 3,
   "metadata": {
    "ExecuteTime": {
     "end_time": "2023-09-29T06:21:00.369364Z",
     "start_time": "2023-09-29T06:21:00.359020Z"
    }
   },
   "outputs": [
    {
     "data": {
      "text/plain": "    age  income  frq  rcn   mnt  clothes  kitchen  small_appliances  toys  \\\n0  1946   90782   33   66  1402       37        5                44    10   \n1  1936  113023   32    6  1537       55        1                38     4   \n2  1990   28344   11   69    44       32       19                24     1   \n3  1955   93571   26   10   888       60       10                19     6   \n4  1955   91852   31   26  1138       59        5                28     4   \n5  1982   22386   14   65    56       47        2                48     2   \n6  1969   69485   18   73   345       71        7                13     1   \n7  1960   68602    5   44    41       84        1                12     2   \n8  1940  109499   30   75  1401       38        9                35     9   \n9  1994   23846    8  153    19       18       55                17    10   \n\n   house_keeping dependents  per_net_purchase gender   education    status  \\\n0              3          0                19      M  Graduation  Together   \n1              2          0                 9      F         PhD  Divorced   \n2             24          1                59      M  Graduation   Married   \n3              5          1                35      F      Master             \n4              4          1                34      F  Graduation  Together   \n5              1          1                67      M         PhD    Single   \n6              8          1                46      M  Graduation  Together   \n7              0          1                37      M  Graduation  Together   \n8              9          0                17      M  Graduation  Divorced   \n9              1          1                39      F   1st Cycle  Together   \n\n       description  \n0  Take my money!!  \n1  Take my money!!  \n2       Kind of OK  \n3         OK nice!  \n4  Take my money!!  \n5         OK nice!  \n6         OK nice!  \n7         Horrible  \n8         OK nice!  \n9           Meh...  ",
      "text/html": "<div>\n<style scoped>\n    .dataframe tbody tr th:only-of-type {\n        vertical-align: middle;\n    }\n\n    .dataframe tbody tr th {\n        vertical-align: top;\n    }\n\n    .dataframe thead th {\n        text-align: right;\n    }\n</style>\n<table border=\"1\" class=\"dataframe\">\n  <thead>\n    <tr style=\"text-align: right;\">\n      <th></th>\n      <th>age</th>\n      <th>income</th>\n      <th>frq</th>\n      <th>rcn</th>\n      <th>mnt</th>\n      <th>clothes</th>\n      <th>kitchen</th>\n      <th>small_appliances</th>\n      <th>toys</th>\n      <th>house_keeping</th>\n      <th>dependents</th>\n      <th>per_net_purchase</th>\n      <th>gender</th>\n      <th>education</th>\n      <th>status</th>\n      <th>description</th>\n    </tr>\n  </thead>\n  <tbody>\n    <tr>\n      <th>0</th>\n      <td>1946</td>\n      <td>90782</td>\n      <td>33</td>\n      <td>66</td>\n      <td>1402</td>\n      <td>37</td>\n      <td>5</td>\n      <td>44</td>\n      <td>10</td>\n      <td>3</td>\n      <td>0</td>\n      <td>19</td>\n      <td>M</td>\n      <td>Graduation</td>\n      <td>Together</td>\n      <td>Take my money!!</td>\n    </tr>\n    <tr>\n      <th>1</th>\n      <td>1936</td>\n      <td>113023</td>\n      <td>32</td>\n      <td>6</td>\n      <td>1537</td>\n      <td>55</td>\n      <td>1</td>\n      <td>38</td>\n      <td>4</td>\n      <td>2</td>\n      <td>0</td>\n      <td>9</td>\n      <td>F</td>\n      <td>PhD</td>\n      <td>Divorced</td>\n      <td>Take my money!!</td>\n    </tr>\n    <tr>\n      <th>2</th>\n      <td>1990</td>\n      <td>28344</td>\n      <td>11</td>\n      <td>69</td>\n      <td>44</td>\n      <td>32</td>\n      <td>19</td>\n      <td>24</td>\n      <td>1</td>\n      <td>24</td>\n      <td>1</td>\n      <td>59</td>\n      <td>M</td>\n      <td>Graduation</td>\n      <td>Married</td>\n      <td>Kind of OK</td>\n    </tr>\n    <tr>\n      <th>3</th>\n      <td>1955</td>\n      <td>93571</td>\n      <td>26</td>\n      <td>10</td>\n      <td>888</td>\n      <td>60</td>\n      <td>10</td>\n      <td>19</td>\n      <td>6</td>\n      <td>5</td>\n      <td>1</td>\n      <td>35</td>\n      <td>F</td>\n      <td>Master</td>\n      <td></td>\n      <td>OK nice!</td>\n    </tr>\n    <tr>\n      <th>4</th>\n      <td>1955</td>\n      <td>91852</td>\n      <td>31</td>\n      <td>26</td>\n      <td>1138</td>\n      <td>59</td>\n      <td>5</td>\n      <td>28</td>\n      <td>4</td>\n      <td>4</td>\n      <td>1</td>\n      <td>34</td>\n      <td>F</td>\n      <td>Graduation</td>\n      <td>Together</td>\n      <td>Take my money!!</td>\n    </tr>\n    <tr>\n      <th>5</th>\n      <td>1982</td>\n      <td>22386</td>\n      <td>14</td>\n      <td>65</td>\n      <td>56</td>\n      <td>47</td>\n      <td>2</td>\n      <td>48</td>\n      <td>2</td>\n      <td>1</td>\n      <td>1</td>\n      <td>67</td>\n      <td>M</td>\n      <td>PhD</td>\n      <td>Single</td>\n      <td>OK nice!</td>\n    </tr>\n    <tr>\n      <th>6</th>\n      <td>1969</td>\n      <td>69485</td>\n      <td>18</td>\n      <td>73</td>\n      <td>345</td>\n      <td>71</td>\n      <td>7</td>\n      <td>13</td>\n      <td>1</td>\n      <td>8</td>\n      <td>1</td>\n      <td>46</td>\n      <td>M</td>\n      <td>Graduation</td>\n      <td>Together</td>\n      <td>OK nice!</td>\n    </tr>\n    <tr>\n      <th>7</th>\n      <td>1960</td>\n      <td>68602</td>\n      <td>5</td>\n      <td>44</td>\n      <td>41</td>\n      <td>84</td>\n      <td>1</td>\n      <td>12</td>\n      <td>2</td>\n      <td>0</td>\n      <td>1</td>\n      <td>37</td>\n      <td>M</td>\n      <td>Graduation</td>\n      <td>Together</td>\n      <td>Horrible</td>\n    </tr>\n    <tr>\n      <th>8</th>\n      <td>1940</td>\n      <td>109499</td>\n      <td>30</td>\n      <td>75</td>\n      <td>1401</td>\n      <td>38</td>\n      <td>9</td>\n      <td>35</td>\n      <td>9</td>\n      <td>9</td>\n      <td>0</td>\n      <td>17</td>\n      <td>M</td>\n      <td>Graduation</td>\n      <td>Divorced</td>\n      <td>OK nice!</td>\n    </tr>\n    <tr>\n      <th>9</th>\n      <td>1994</td>\n      <td>23846</td>\n      <td>8</td>\n      <td>153</td>\n      <td>19</td>\n      <td>18</td>\n      <td>55</td>\n      <td>17</td>\n      <td>10</td>\n      <td>1</td>\n      <td>1</td>\n      <td>39</td>\n      <td>F</td>\n      <td>1st Cycle</td>\n      <td>Together</td>\n      <td>Meh...</td>\n    </tr>\n  </tbody>\n</table>\n</div>"
     },
     "execution_count": 3,
     "metadata": {},
     "output_type": "execute_result"
    }
   ],
   "source": [
    "# dataset head\n",
    "df.head(10)"
   ]
  },
  {
   "cell_type": "code",
   "execution_count": 43,
   "metadata": {
    "ExecuteTime": {
     "end_time": "2023-09-27T15:43:06.586393Z",
     "start_time": "2023-09-27T15:43:06.564685Z"
    }
   },
   "outputs": [
    {
     "data": {
      "text/plain": "age                  int64\nincome              object\nfrq                  int64\nrcn                  int64\nmnt                  int64\nclothes              int64\nkitchen              int64\nsmall_appliances     int64\ntoys                 int64\nhouse_keeping        int64\ndependents          object\nper_net_purchase     int64\ngender              object\neducation           object\nstatus              object\ndescription         object\ndtype: object"
     },
     "execution_count": 43,
     "metadata": {},
     "output_type": "execute_result"
    }
   ],
   "source": [
    "# dataset data types\n",
    "df.dtypes"
   ]
  },
  {
   "cell_type": "code",
   "execution_count": 44,
   "metadata": {
    "ExecuteTime": {
     "end_time": "2023-09-27T15:43:06.631322Z",
     "start_time": "2023-09-27T15:43:06.592626Z"
    }
   },
   "outputs": [
    {
     "data": {
      "text/plain": "age                 0\nincome              0\nfrq                 0\nrcn                 0\nmnt                 0\nclothes             0\nkitchen             0\nsmall_appliances    0\ntoys                0\nhouse_keeping       0\ndependents          0\nper_net_purchase    0\ngender              0\neducation           0\nstatus              0\ndescription         0\ndtype: int64"
     },
     "execution_count": 44,
     "metadata": {},
     "output_type": "execute_result"
    }
   ],
   "source": [
    "# count of missing values\n",
    "df.isna().sum()"
   ]
  },
  {
   "cell_type": "code",
   "execution_count": 45,
   "metadata": {
    "ExecuteTime": {
     "end_time": "2023-09-27T15:43:06.675904Z",
     "start_time": "2023-09-27T15:43:06.612452Z"
    }
   },
   "outputs": [
    {
     "data": {
      "text/plain": "0"
     },
     "execution_count": 45,
     "metadata": {},
     "output_type": "execute_result"
    }
   ],
   "source": [
    "# duplicated observations\n",
    "df.duplicated().sum()"
   ]
  },
  {
   "cell_type": "code",
   "execution_count": 46,
   "metadata": {
    "ExecuteTime": {
     "end_time": "2023-09-27T15:43:06.741814Z",
     "start_time": "2023-09-27T15:43:06.679070Z"
    }
   },
   "outputs": [
    {
     "data": {
      "text/plain": "                   count unique         top    freq        mean         std  \\\nage               8998.0    NaN         NaN     NaN  1966.05968   17.296552   \nincome              8998   8525                  46         NaN         NaN   \nfrq               8998.0    NaN         NaN     NaN   19.848077   10.903435   \nrcn               8998.0    NaN         NaN     NaN   62.469771   69.761802   \nmnt               8998.0    NaN         NaN     NaN  622.162814  646.768205   \nclothes           8998.0    NaN         NaN     NaN   50.446655   23.422249   \nkitchen           8998.0    NaN         NaN     NaN    7.039675    7.848139   \nsmall_appliances  8998.0    NaN         NaN     NaN   28.524116   12.586437   \ntoys              8998.0    NaN         NaN     NaN    7.036897    7.924422   \nhouse_keeping     8998.0    NaN         NaN     NaN    6.929984    7.882655   \ndependents        8998.0    3.0         1.0  6164.0         NaN         NaN   \nper_net_purchase  8998.0    NaN         NaN     NaN   42.428984   18.495742   \ngender              8998      2           M    5784         NaN         NaN   \neducation           8998      7  Graduation    4429         NaN         NaN   \nstatus              8998      7     Married    3273         NaN         NaN   \ndescription         8998      5    OK nice!    3434         NaN         NaN   \n\n                     min     25%     50%     75%     max  \nage               1936.0  1951.0  1966.0  1981.0  1996.0  \nincome               NaN     NaN     NaN     NaN     NaN  \nfrq                  3.0    10.0    17.0    28.0    59.0  \nrcn                  0.0    26.0    53.0    79.0   549.0  \nmnt                  6.0    63.0   383.0  1076.0  3052.0  \nclothes              1.0    33.0    51.0    69.0    99.0  \nkitchen              0.0     2.0     4.0    10.0    75.0  \nsmall_appliances     1.0    19.0    28.0    37.0    74.0  \ntoys                 0.0     2.0     4.0    10.0    62.0  \nhouse_keeping        0.0     2.0     4.0     9.0    77.0  \ndependents           NaN     NaN     NaN     NaN     NaN  \nper_net_purchase     4.0    28.0    45.0    57.0    88.0  \ngender               NaN     NaN     NaN     NaN     NaN  \neducation            NaN     NaN     NaN     NaN     NaN  \nstatus               NaN     NaN     NaN     NaN     NaN  \ndescription          NaN     NaN     NaN     NaN     NaN  ",
      "text/html": "<div>\n<style scoped>\n    .dataframe tbody tr th:only-of-type {\n        vertical-align: middle;\n    }\n\n    .dataframe tbody tr th {\n        vertical-align: top;\n    }\n\n    .dataframe thead th {\n        text-align: right;\n    }\n</style>\n<table border=\"1\" class=\"dataframe\">\n  <thead>\n    <tr style=\"text-align: right;\">\n      <th></th>\n      <th>count</th>\n      <th>unique</th>\n      <th>top</th>\n      <th>freq</th>\n      <th>mean</th>\n      <th>std</th>\n      <th>min</th>\n      <th>25%</th>\n      <th>50%</th>\n      <th>75%</th>\n      <th>max</th>\n    </tr>\n  </thead>\n  <tbody>\n    <tr>\n      <th>age</th>\n      <td>8998.0</td>\n      <td>NaN</td>\n      <td>NaN</td>\n      <td>NaN</td>\n      <td>1966.05968</td>\n      <td>17.296552</td>\n      <td>1936.0</td>\n      <td>1951.0</td>\n      <td>1966.0</td>\n      <td>1981.0</td>\n      <td>1996.0</td>\n    </tr>\n    <tr>\n      <th>income</th>\n      <td>8998</td>\n      <td>8525</td>\n      <td></td>\n      <td>46</td>\n      <td>NaN</td>\n      <td>NaN</td>\n      <td>NaN</td>\n      <td>NaN</td>\n      <td>NaN</td>\n      <td>NaN</td>\n      <td>NaN</td>\n    </tr>\n    <tr>\n      <th>frq</th>\n      <td>8998.0</td>\n      <td>NaN</td>\n      <td>NaN</td>\n      <td>NaN</td>\n      <td>19.848077</td>\n      <td>10.903435</td>\n      <td>3.0</td>\n      <td>10.0</td>\n      <td>17.0</td>\n      <td>28.0</td>\n      <td>59.0</td>\n    </tr>\n    <tr>\n      <th>rcn</th>\n      <td>8998.0</td>\n      <td>NaN</td>\n      <td>NaN</td>\n      <td>NaN</td>\n      <td>62.469771</td>\n      <td>69.761802</td>\n      <td>0.0</td>\n      <td>26.0</td>\n      <td>53.0</td>\n      <td>79.0</td>\n      <td>549.0</td>\n    </tr>\n    <tr>\n      <th>mnt</th>\n      <td>8998.0</td>\n      <td>NaN</td>\n      <td>NaN</td>\n      <td>NaN</td>\n      <td>622.162814</td>\n      <td>646.768205</td>\n      <td>6.0</td>\n      <td>63.0</td>\n      <td>383.0</td>\n      <td>1076.0</td>\n      <td>3052.0</td>\n    </tr>\n    <tr>\n      <th>clothes</th>\n      <td>8998.0</td>\n      <td>NaN</td>\n      <td>NaN</td>\n      <td>NaN</td>\n      <td>50.446655</td>\n      <td>23.422249</td>\n      <td>1.0</td>\n      <td>33.0</td>\n      <td>51.0</td>\n      <td>69.0</td>\n      <td>99.0</td>\n    </tr>\n    <tr>\n      <th>kitchen</th>\n      <td>8998.0</td>\n      <td>NaN</td>\n      <td>NaN</td>\n      <td>NaN</td>\n      <td>7.039675</td>\n      <td>7.848139</td>\n      <td>0.0</td>\n      <td>2.0</td>\n      <td>4.0</td>\n      <td>10.0</td>\n      <td>75.0</td>\n    </tr>\n    <tr>\n      <th>small_appliances</th>\n      <td>8998.0</td>\n      <td>NaN</td>\n      <td>NaN</td>\n      <td>NaN</td>\n      <td>28.524116</td>\n      <td>12.586437</td>\n      <td>1.0</td>\n      <td>19.0</td>\n      <td>28.0</td>\n      <td>37.0</td>\n      <td>74.0</td>\n    </tr>\n    <tr>\n      <th>toys</th>\n      <td>8998.0</td>\n      <td>NaN</td>\n      <td>NaN</td>\n      <td>NaN</td>\n      <td>7.036897</td>\n      <td>7.924422</td>\n      <td>0.0</td>\n      <td>2.0</td>\n      <td>4.0</td>\n      <td>10.0</td>\n      <td>62.0</td>\n    </tr>\n    <tr>\n      <th>house_keeping</th>\n      <td>8998.0</td>\n      <td>NaN</td>\n      <td>NaN</td>\n      <td>NaN</td>\n      <td>6.929984</td>\n      <td>7.882655</td>\n      <td>0.0</td>\n      <td>2.0</td>\n      <td>4.0</td>\n      <td>9.0</td>\n      <td>77.0</td>\n    </tr>\n    <tr>\n      <th>dependents</th>\n      <td>8998.0</td>\n      <td>3.0</td>\n      <td>1.0</td>\n      <td>6164.0</td>\n      <td>NaN</td>\n      <td>NaN</td>\n      <td>NaN</td>\n      <td>NaN</td>\n      <td>NaN</td>\n      <td>NaN</td>\n      <td>NaN</td>\n    </tr>\n    <tr>\n      <th>per_net_purchase</th>\n      <td>8998.0</td>\n      <td>NaN</td>\n      <td>NaN</td>\n      <td>NaN</td>\n      <td>42.428984</td>\n      <td>18.495742</td>\n      <td>4.0</td>\n      <td>28.0</td>\n      <td>45.0</td>\n      <td>57.0</td>\n      <td>88.0</td>\n    </tr>\n    <tr>\n      <th>gender</th>\n      <td>8998</td>\n      <td>2</td>\n      <td>M</td>\n      <td>5784</td>\n      <td>NaN</td>\n      <td>NaN</td>\n      <td>NaN</td>\n      <td>NaN</td>\n      <td>NaN</td>\n      <td>NaN</td>\n      <td>NaN</td>\n    </tr>\n    <tr>\n      <th>education</th>\n      <td>8998</td>\n      <td>7</td>\n      <td>Graduation</td>\n      <td>4429</td>\n      <td>NaN</td>\n      <td>NaN</td>\n      <td>NaN</td>\n      <td>NaN</td>\n      <td>NaN</td>\n      <td>NaN</td>\n      <td>NaN</td>\n    </tr>\n    <tr>\n      <th>status</th>\n      <td>8998</td>\n      <td>7</td>\n      <td>Married</td>\n      <td>3273</td>\n      <td>NaN</td>\n      <td>NaN</td>\n      <td>NaN</td>\n      <td>NaN</td>\n      <td>NaN</td>\n      <td>NaN</td>\n      <td>NaN</td>\n    </tr>\n    <tr>\n      <th>description</th>\n      <td>8998</td>\n      <td>5</td>\n      <td>OK nice!</td>\n      <td>3434</td>\n      <td>NaN</td>\n      <td>NaN</td>\n      <td>NaN</td>\n      <td>NaN</td>\n      <td>NaN</td>\n      <td>NaN</td>\n      <td>NaN</td>\n    </tr>\n  </tbody>\n</table>\n</div>"
     },
     "execution_count": 46,
     "metadata": {},
     "output_type": "execute_result"
    }
   ],
   "source": [
    "# descriptive statistics\n",
    "df.describe(include=\"all\").T  # try with all and without all"
   ]
  },
  {
   "cell_type": "code",
   "execution_count": 47,
   "metadata": {
    "ExecuteTime": {
     "end_time": "2023-09-27T15:43:06.746121Z",
     "start_time": "2023-09-27T15:43:06.705264Z"
    }
   },
   "outputs": [
    {
     "data": {
      "text/plain": "''"
     },
     "execution_count": 47,
     "metadata": {},
     "output_type": "execute_result"
    }
   ],
   "source": [
    "# Use these cells to further explore the dataset\n",
    "df.loc[3, 'status']"
   ]
  },
  {
   "cell_type": "code",
   "execution_count": 48,
   "metadata": {
    "ExecuteTime": {
     "end_time": "2023-09-27T15:43:06.754277Z",
     "start_time": "2023-09-27T15:43:06.711342Z"
    }
   },
   "outputs": [
    {
     "data": {
      "text/plain": "Index(['age', 'income', 'frq', 'rcn', 'mnt', 'clothes', 'kitchen',\n       'small_appliances', 'toys', 'house_keeping', 'dependents',\n       'per_net_purchase', 'gender', 'education', 'status', 'description'],\n      dtype='object')"
     },
     "execution_count": 48,
     "metadata": {},
     "output_type": "execute_result"
    }
   ],
   "source": [
    "# How to get the names of the columns of the data?\n",
    "df.columns\n",
    "#df.columns.tolist()\n",
    "#df.columns.to_list()"
   ]
  },
  {
   "cell_type": "code",
   "execution_count": 49,
   "metadata": {
    "ExecuteTime": {
     "end_time": "2023-09-27T15:43:06.791828Z",
     "start_time": "2023-09-27T15:43:06.750220Z"
    }
   },
   "outputs": [
    {
     "data": {
      "text/plain": "0     90782\n1    113023\n2     28344\n3     93571\n4     91852\n5     22386\n6     69485\n7     68602\n8    109499\n9     23846\nName: income, dtype: object"
     },
     "execution_count": 49,
     "metadata": {},
     "output_type": "execute_result"
    }
   ],
   "source": [
    "# How to get the values of one column of data?\n",
    "df['income'].head(10)"
   ]
  },
  {
   "cell_type": "code",
   "execution_count": 50,
   "metadata": {
    "ExecuteTime": {
     "end_time": "2023-09-27T15:43:06.825393Z",
     "start_time": "2023-09-27T15:43:06.785433Z"
    }
   },
   "outputs": [
    {
     "data": {
      "text/plain": "(8998, 16)"
     },
     "execution_count": 50,
     "metadata": {},
     "output_type": "execute_result"
    }
   ],
   "source": [
    "# How to get the shape of the data?\n",
    "df.shape"
   ]
  },
  {
   "cell_type": "code",
   "execution_count": 51,
   "metadata": {
    "ExecuteTime": {
     "end_time": "2023-09-27T15:43:06.878806Z",
     "start_time": "2023-09-27T15:43:06.817375Z"
    }
   },
   "outputs": [
    {
     "data": {
      "text/plain": "array(['Graduation', 'PhD', 'Master', '1st Cycle', '2nd Cycle',\n       'OldSchool', ''], dtype=object)"
     },
     "execution_count": 51,
     "metadata": {},
     "output_type": "execute_result"
    }
   ],
   "source": [
    "# How to get the unique values of one column of data?\n",
    "df['education'].unique()"
   ]
  },
  {
   "cell_type": "markdown",
   "metadata": {},
   "source": [
    "## Problems:\n",
    "- Duplicates?\n",
    "- Data types?\n",
    "- Missing values?\n",
    "- Strange values?\n",
    "- Descriptive statistics?\n",
    "\n",
    "### Take a closer look and point out possible problems:\n",
    "\n",
    "(hint: a missing values in pandas is represented with a NaN value)"
   ]
  },
  {
   "cell_type": "code",
   "execution_count": 52,
   "metadata": {
    "ExecuteTime": {
     "end_time": "2023-09-27T15:43:06.901696Z",
     "start_time": "2023-09-27T15:43:06.882628Z"
    }
   },
   "outputs": [
    {
     "data": {
      "text/plain": "age                   0\nincome               46\nfrq                   0\nrcn                   0\nmnt                   0\nclothes               0\nkitchen               0\nsmall_appliances      0\ntoys                  0\nhouse_keeping         0\ndependents          282\nper_net_purchase      0\ngender                0\neducation            47\nstatus              177\ndescription           0\ndtype: int64"
     },
     "execution_count": 52,
     "metadata": {},
     "output_type": "execute_result"
    }
   ],
   "source": [
    "# replace \"\" by nans\n",
    "df.replace(\"\", np.nan, inplace=True)\n",
    "\n",
    "# count of missing values\n",
    "df.isna().sum()"
   ]
  },
  {
   "cell_type": "code",
   "execution_count": 53,
   "metadata": {
    "ExecuteTime": {
     "end_time": "2023-09-27T15:43:06.903682Z",
     "start_time": "2023-09-27T15:43:06.894201Z"
    }
   },
   "outputs": [
    {
     "data": {
      "text/plain": "age                   int64\nincome              float64\nfrq                   int64\nrcn                   int64\nmnt                   int64\nclothes               int64\nkitchen               int64\nsmall_appliances      int64\ntoys                  int64\nhouse_keeping         int64\ndependents          float64\nper_net_purchase      int64\ngender               object\neducation            object\nstatus               object\ndescription          object\ndtype: object"
     },
     "execution_count": 53,
     "metadata": {},
     "output_type": "execute_result"
    }
   ],
   "source": [
    "# check dataset data types again\n",
    "df.dtypes"
   ]
  },
  {
   "cell_type": "code",
   "execution_count": 67,
   "metadata": {
    "ExecuteTime": {
     "end_time": "2023-09-27T15:48:28.563038Z",
     "start_time": "2023-09-27T15:48:28.549291Z"
    }
   },
   "outputs": [],
   "source": [
    "# fix wrong dtypes\n",
    "# Here if we use astype(bool) pandas will convert np.nan to True, we can run the code below and compare results\n",
    "# df['dependents'].astype(bool).isna().sum()\n",
    "# df['dependents'].astype(\"boolean\").isna().sum()\n",
    "\n",
    "df['dependents'] = df['dependents'].astype('boolean')"
   ]
  },
  {
   "cell_type": "code",
   "execution_count": 55,
   "metadata": {
    "ExecuteTime": {
     "end_time": "2023-09-27T15:43:06.949704Z",
     "start_time": "2023-09-27T15:43:06.910711Z"
    }
   },
   "outputs": [
    {
     "data": {
      "text/plain": "                   count unique         top  freq          mean           std  \\\nage               8998.0    NaN         NaN   NaN    1966.05968     17.296552   \nincome            8952.0    NaN         NaN   NaN  69963.550827  27591.556226   \nfrq               8998.0    NaN         NaN   NaN     19.848077     10.903435   \nrcn               8998.0    NaN         NaN   NaN     62.469771     69.761802   \nmnt               8998.0    NaN         NaN   NaN    622.162814    646.768205   \nclothes           8998.0    NaN         NaN   NaN     50.446655     23.422249   \nkitchen           8998.0    NaN         NaN   NaN      7.039675      7.848139   \nsmall_appliances  8998.0    NaN         NaN   NaN     28.524116     12.586437   \ntoys              8998.0    NaN         NaN   NaN      7.036897      7.924422   \nhouse_keeping     8998.0    NaN         NaN   NaN      6.929984      7.882655   \ndependents        8716.0    NaN         NaN   NaN      0.707205      0.455071   \nper_net_purchase  8998.0    NaN         NaN   NaN     42.428984     18.495742   \ngender              8998      2           M  5784           NaN           NaN   \neducation           8951      6  Graduation  4429           NaN           NaN   \nstatus              8821      6     Married  3273           NaN           NaN   \ndescription         8998      5    OK nice!  3434           NaN           NaN   \n\n                      min      25%      50%      75%       max  \nage                1936.0   1951.0   1966.0   1981.0    1996.0  \nincome            10000.0  47741.0  70030.5  92218.0  140628.0  \nfrq                   3.0     10.0     17.0     28.0      59.0  \nrcn                   0.0     26.0     53.0     79.0     549.0  \nmnt                   6.0     63.0    383.0   1076.0    3052.0  \nclothes               1.0     33.0     51.0     69.0      99.0  \nkitchen               0.0      2.0      4.0     10.0      75.0  \nsmall_appliances      1.0     19.0     28.0     37.0      74.0  \ntoys                  0.0      2.0      4.0     10.0      62.0  \nhouse_keeping         0.0      2.0      4.0      9.0      77.0  \ndependents            0.0      0.0      1.0      1.0       1.0  \nper_net_purchase      4.0     28.0     45.0     57.0      88.0  \ngender                NaN      NaN      NaN      NaN       NaN  \neducation             NaN      NaN      NaN      NaN       NaN  \nstatus                NaN      NaN      NaN      NaN       NaN  \ndescription           NaN      NaN      NaN      NaN       NaN  ",
      "text/html": "<div>\n<style scoped>\n    .dataframe tbody tr th:only-of-type {\n        vertical-align: middle;\n    }\n\n    .dataframe tbody tr th {\n        vertical-align: top;\n    }\n\n    .dataframe thead th {\n        text-align: right;\n    }\n</style>\n<table border=\"1\" class=\"dataframe\">\n  <thead>\n    <tr style=\"text-align: right;\">\n      <th></th>\n      <th>count</th>\n      <th>unique</th>\n      <th>top</th>\n      <th>freq</th>\n      <th>mean</th>\n      <th>std</th>\n      <th>min</th>\n      <th>25%</th>\n      <th>50%</th>\n      <th>75%</th>\n      <th>max</th>\n    </tr>\n  </thead>\n  <tbody>\n    <tr>\n      <th>age</th>\n      <td>8998.0</td>\n      <td>NaN</td>\n      <td>NaN</td>\n      <td>NaN</td>\n      <td>1966.05968</td>\n      <td>17.296552</td>\n      <td>1936.0</td>\n      <td>1951.0</td>\n      <td>1966.0</td>\n      <td>1981.0</td>\n      <td>1996.0</td>\n    </tr>\n    <tr>\n      <th>income</th>\n      <td>8952.0</td>\n      <td>NaN</td>\n      <td>NaN</td>\n      <td>NaN</td>\n      <td>69963.550827</td>\n      <td>27591.556226</td>\n      <td>10000.0</td>\n      <td>47741.0</td>\n      <td>70030.5</td>\n      <td>92218.0</td>\n      <td>140628.0</td>\n    </tr>\n    <tr>\n      <th>frq</th>\n      <td>8998.0</td>\n      <td>NaN</td>\n      <td>NaN</td>\n      <td>NaN</td>\n      <td>19.848077</td>\n      <td>10.903435</td>\n      <td>3.0</td>\n      <td>10.0</td>\n      <td>17.0</td>\n      <td>28.0</td>\n      <td>59.0</td>\n    </tr>\n    <tr>\n      <th>rcn</th>\n      <td>8998.0</td>\n      <td>NaN</td>\n      <td>NaN</td>\n      <td>NaN</td>\n      <td>62.469771</td>\n      <td>69.761802</td>\n      <td>0.0</td>\n      <td>26.0</td>\n      <td>53.0</td>\n      <td>79.0</td>\n      <td>549.0</td>\n    </tr>\n    <tr>\n      <th>mnt</th>\n      <td>8998.0</td>\n      <td>NaN</td>\n      <td>NaN</td>\n      <td>NaN</td>\n      <td>622.162814</td>\n      <td>646.768205</td>\n      <td>6.0</td>\n      <td>63.0</td>\n      <td>383.0</td>\n      <td>1076.0</td>\n      <td>3052.0</td>\n    </tr>\n    <tr>\n      <th>clothes</th>\n      <td>8998.0</td>\n      <td>NaN</td>\n      <td>NaN</td>\n      <td>NaN</td>\n      <td>50.446655</td>\n      <td>23.422249</td>\n      <td>1.0</td>\n      <td>33.0</td>\n      <td>51.0</td>\n      <td>69.0</td>\n      <td>99.0</td>\n    </tr>\n    <tr>\n      <th>kitchen</th>\n      <td>8998.0</td>\n      <td>NaN</td>\n      <td>NaN</td>\n      <td>NaN</td>\n      <td>7.039675</td>\n      <td>7.848139</td>\n      <td>0.0</td>\n      <td>2.0</td>\n      <td>4.0</td>\n      <td>10.0</td>\n      <td>75.0</td>\n    </tr>\n    <tr>\n      <th>small_appliances</th>\n      <td>8998.0</td>\n      <td>NaN</td>\n      <td>NaN</td>\n      <td>NaN</td>\n      <td>28.524116</td>\n      <td>12.586437</td>\n      <td>1.0</td>\n      <td>19.0</td>\n      <td>28.0</td>\n      <td>37.0</td>\n      <td>74.0</td>\n    </tr>\n    <tr>\n      <th>toys</th>\n      <td>8998.0</td>\n      <td>NaN</td>\n      <td>NaN</td>\n      <td>NaN</td>\n      <td>7.036897</td>\n      <td>7.924422</td>\n      <td>0.0</td>\n      <td>2.0</td>\n      <td>4.0</td>\n      <td>10.0</td>\n      <td>62.0</td>\n    </tr>\n    <tr>\n      <th>house_keeping</th>\n      <td>8998.0</td>\n      <td>NaN</td>\n      <td>NaN</td>\n      <td>NaN</td>\n      <td>6.929984</td>\n      <td>7.882655</td>\n      <td>0.0</td>\n      <td>2.0</td>\n      <td>4.0</td>\n      <td>9.0</td>\n      <td>77.0</td>\n    </tr>\n    <tr>\n      <th>dependents</th>\n      <td>8716.0</td>\n      <td>NaN</td>\n      <td>NaN</td>\n      <td>NaN</td>\n      <td>0.707205</td>\n      <td>0.455071</td>\n      <td>0.0</td>\n      <td>0.0</td>\n      <td>1.0</td>\n      <td>1.0</td>\n      <td>1.0</td>\n    </tr>\n    <tr>\n      <th>per_net_purchase</th>\n      <td>8998.0</td>\n      <td>NaN</td>\n      <td>NaN</td>\n      <td>NaN</td>\n      <td>42.428984</td>\n      <td>18.495742</td>\n      <td>4.0</td>\n      <td>28.0</td>\n      <td>45.0</td>\n      <td>57.0</td>\n      <td>88.0</td>\n    </tr>\n    <tr>\n      <th>gender</th>\n      <td>8998</td>\n      <td>2</td>\n      <td>M</td>\n      <td>5784</td>\n      <td>NaN</td>\n      <td>NaN</td>\n      <td>NaN</td>\n      <td>NaN</td>\n      <td>NaN</td>\n      <td>NaN</td>\n      <td>NaN</td>\n    </tr>\n    <tr>\n      <th>education</th>\n      <td>8951</td>\n      <td>6</td>\n      <td>Graduation</td>\n      <td>4429</td>\n      <td>NaN</td>\n      <td>NaN</td>\n      <td>NaN</td>\n      <td>NaN</td>\n      <td>NaN</td>\n      <td>NaN</td>\n      <td>NaN</td>\n    </tr>\n    <tr>\n      <th>status</th>\n      <td>8821</td>\n      <td>6</td>\n      <td>Married</td>\n      <td>3273</td>\n      <td>NaN</td>\n      <td>NaN</td>\n      <td>NaN</td>\n      <td>NaN</td>\n      <td>NaN</td>\n      <td>NaN</td>\n      <td>NaN</td>\n    </tr>\n    <tr>\n      <th>description</th>\n      <td>8998</td>\n      <td>5</td>\n      <td>OK nice!</td>\n      <td>3434</td>\n      <td>NaN</td>\n      <td>NaN</td>\n      <td>NaN</td>\n      <td>NaN</td>\n      <td>NaN</td>\n      <td>NaN</td>\n      <td>NaN</td>\n    </tr>\n  </tbody>\n</table>\n</div>"
     },
     "execution_count": 55,
     "metadata": {},
     "output_type": "execute_result"
    }
   ],
   "source": [
    "# check descriptive statistics again\n",
    "df.describe(include=\"all\").T"
   ]
  },
  {
   "cell_type": "markdown",
   "metadata": {},
   "source": [
    "# Visual Exploration\n",
    "\n",
    "Matplotlib tutorials: https://matplotlib.org/stable/tutorials/index.html\n",
    "\n",
    "Matplotlib gallery: https://matplotlib.org/stable/gallery/index.html\n",
    "\n",
    "Seaborn tutorials: https://seaborn.pydata.org/tutorial.html\n",
    "\n",
    "\n",
    "Seaborn gallery: https://seaborn.pydata.org/examples/index.html\n",
    "\n",
    "### Matplotlib vs Seaborn:\n",
    "\n",
    "**Matplotlib** - lower level. allows to fully customize the plot appearance\n",
    "\n",
    "**Seaborn** - higher level. Complex off-the-shelf plots with one line. Matplotlib on steroids\n"
   ]
  },
  {
   "cell_type": "code",
   "execution_count": 56,
   "metadata": {
    "ExecuteTime": {
     "end_time": "2023-09-27T15:43:06.952756Z",
     "start_time": "2023-09-27T15:43:06.942926Z"
    }
   },
   "outputs": [],
   "source": [
    "# Define metric and non-metric features. Why?\n",
    "non_metric_features = [\"education\", \"status\", \"gender\", \"dependents\", \"description\"]\n",
    "metric_features = df.columns.drop(non_metric_features).to_list()"
   ]
  },
  {
   "cell_type": "markdown",
   "metadata": {},
   "source": [
    "## Pyplot-style vs Object-Oriented-style\n",
    "- Explicitly create figures and axes, and call methods on them (the \"object-oriented (OO) style\").\n",
    "- Rely on pyplot to automatically create and manage the figures and axes, and use pyplot functions for plotting.\n",
    "\n",
    "More details: https://matplotlib.org/matplotblog/posts/pyplot-vs-object-oriented-interface/"
   ]
  },
  {
   "cell_type": "markdown",
   "metadata": {},
   "source": [
    "## Numeric Variables' Univariate Distribution"
   ]
  },
  {
   "cell_type": "code",
   "execution_count": 57,
   "metadata": {
    "ExecuteTime": {
     "end_time": "2023-09-27T15:43:07.225899Z",
     "start_time": "2023-09-27T15:43:06.955256Z"
    }
   },
   "outputs": [
    {
     "data": {
      "text/plain": "<Figure size 640x480 with 1 Axes>",
      "image/png": "[encoded data removed]"
     },
     "metadata": {
      "image/png": {
       "width": 563,
       "height": 458
      }
     },
     "output_type": "display_data"
    }
   ],
   "source": [
    "# Single Metric Variable Histogram\n",
    "plt.hist(df[\"age\"], bins=10)  # mess around with the bins\n",
    "plt.title(\"age\", y=-0.2)\n",
    "\n",
    "plt.show()"
   ]
  },
  {
   "cell_type": "code",
   "execution_count": 58,
   "metadata": {
    "ExecuteTime": {
     "end_time": "2023-09-27T15:43:07.737460Z",
     "start_time": "2023-09-27T15:43:07.227846Z"
    }
   },
   "outputs": [
    {
     "data": {
      "text/plain": "<Figure size 640x480 with 1 Axes>",
      "image/png": "[encoded data removed]"
     },
     "metadata": {
      "image/png": {
       "width": 584,
       "height": 389
      }
     },
     "output_type": "display_data"
    }
   ],
   "source": [
    "# Single Metric Variable Box Plot\n",
    "sns.boxplot(y=df[\"age\"])\n",
    "\n",
    "plt.show()"
   ]
  },
  {
   "cell_type": "markdown",
   "metadata": {},
   "source": [
    "What information can we extract from the plot above?"
   ]
  },
  {
   "cell_type": "code",
   "execution_count": 59,
   "metadata": {
    "ExecuteTime": {
     "end_time": "2023-09-27T15:43:07.737940Z",
     "start_time": "2023-09-27T15:43:07.357083Z"
    }
   },
   "outputs": [
    {
     "ename": "IndentationError",
     "evalue": "expected an indented block after 'for' statement on line 9 (1882137558.py, line 14)",
     "output_type": "error",
     "traceback": [
      "\u001B[0;36m  Cell \u001B[0;32mIn[59], line 14\u001B[0;36m\u001B[0m\n\u001B[0;31m    title = \"Numeric Variables' Histograms\"\u001B[0m\n\u001B[0m    ^\u001B[0m\n\u001B[0;31mIndentationError\u001B[0m\u001B[0;31m:\u001B[0m expected an indented block after 'for' statement on line 9\n"
     ]
    }
   ],
   "source": [
    "# All Numeric Variables' Histograms in one figure\n",
    "sns.set()\n",
    "\n",
    "# Prepare figure. Create individual axes where each histogram will be placed\n",
    "fig, axes = plt.subplots(2, ceil(len(metric_features) / 2), figsize=(20, 11))\n",
    "\n",
    "# Plot data\n",
    "# Iterate across axes objects and associate each histogram (hint: use the ax.hist() instead of plt.hist()):\n",
    "for ax, feat in zip(axes.flatten(), metric_features): # Notice the zip() function and flatten() method\n",
    "    # CODE HERE (extra: set each axis title as the feature name)\n",
    "    \n",
    "# Layout\n",
    "# Add a centered title to the figure:\n",
    "title = \"Numeric Variables' Histograms\"\n",
    "\n",
    "plt.suptitle(title)\n",
    "\n",
    "plt.show()"
   ]
  },
  {
   "cell_type": "code",
   "execution_count": null,
   "metadata": {
    "ExecuteTime": {
     "start_time": "2023-09-27T15:43:07.369855Z"
    }
   },
   "outputs": [],
   "source": [
    "# All Numeric Variables' Box Plots in one figure\n",
    "sns.set()\n",
    "\n",
    "# Prepare figure. Create individual axes where each box plot will be placed\n",
    "fig, axes = plt.subplots(2, ceil(len(metric_features) / 2), figsize=(20, 13))\n",
    "\n",
    "# Plot data\n",
    "# Iterate across axes objects and associate each box plot (hint: use the ax argument):\n",
    "for ax, feat in zip(axes.flatten(), metric_features): # Notice the zip() function and flatten() method\n",
    "    # CODE HERE\n",
    "    \n",
    "# Layout\n",
    "# Add a centered title to the figure:\n",
    "title = 'Numeric Variables\\' Box Plots' # notice the \"\\\"\n",
    "\n",
    "# CODE HERE\n",
    "plt.show()"
   ]
  },
  {
   "cell_type": "markdown",
   "metadata": {},
   "source": [
    "### Insights:\n",
    "- univariate distributions\n",
    "- potential univariate outliers\n",
    "\n",
    "--------------------------------------"
   ]
  },
  {
   "cell_type": "markdown",
   "metadata": {},
   "source": [
    "### During our Exploratory Data Analysis (EDA), we must also account for:\n",
    "- Coherence check\n",
    "- Outliers\n",
    "- Missing values\n",
    "- Feature Engineering"
   ]
  },
  {
   "cell_type": "markdown",
   "metadata": {},
   "source": [
    "### Depending on the context, various steps must be considered when performing Data Preprocessing. \n",
    "\n",
    "The most relevant steps are the following:\n",
    "- Coherence check (find inconsistent values, missing values, outliers and any other problem you may find in your dataset)\n",
    "- Data editing (fix inconsistent values)\n",
    "- Data cleansing (drop observations - Outlier removal and removal of inconsistent values and/or features)\n",
    "- Data wrangling (feature extraction/engineering and transformation)\n",
    "- Data reduction (reducing the dimensionality of a dataset, producing summary statistics, reducing the number of records in a dataset)"
   ]
  },
  {
   "cell_type": "markdown",
   "metadata": {},
   "source": [
    "## Optional Exercise\n",
    "\n",
    "Download the [Spaceship Titanic dataset](https://www.kaggle.com/competitions/spaceship-titanic/data). Using the  `train.csv` file, perform the same exercises that we did in this notebook.\n",
    "\n",
    "Identify the metric and non-metric features in this dataset.\n",
    "\n",
    "Identify if any problems exist:\n",
    "\n",
    "- Duplicates?\n",
    "- Data types?\n",
    "- Missing values?\n",
    "- Strange values?\n",
    "- Descriptive statistics?\n"
   ]
  },
  {
   "cell_type": "code",
   "execution_count": null,
   "metadata": {
    "ExecuteTime": {
     "start_time": "2023-09-27T15:43:07.373080Z"
    }
   },
   "outputs": [],
   "source": []
  }
 ],
 "metadata": {
  "kernelspec": {
   "display_name": "Python 3 (ipykernel)",
   "language": "python",
   "name": "python3"
  },
  "language_info": {
   "codemirror_mode": {
    "name": "ipython",
    "version": 3
   },
   "file_extension": ".py",
   "mimetype": "text/x-python",
   "name": "python",
   "nbconvert_exporter": "python",
   "pygments_lexer": "ipython3",
   "version": "3.11.5"
  }
 },
 "nbformat": 4,
 "nbformat_minor": 4
}
