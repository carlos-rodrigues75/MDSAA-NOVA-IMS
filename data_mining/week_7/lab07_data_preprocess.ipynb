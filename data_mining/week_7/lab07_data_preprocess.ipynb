{
 "cells": [
  {
   "cell_type": "code",
   "execution_count": 2,
   "metadata": {
    "ExecuteTime": {
     "end_time": "2023-10-18T14:40:59.630026Z",
     "start_time": "2023-10-18T14:40:58.197001Z"
    }
   },
   "outputs": [
    {
     "name": "stderr",
     "output_type": "stream",
     "text": [
      "/Users/carlos.costa/anaconda3/envs/DM2324/lib/python3.11/site-packages/numba/core/decorators.py:262: NumbaDeprecationWarning: \u001B[1mnumba.generated_jit is deprecated. Please see the documentation at: https://numba.readthedocs.io/en/stable/reference/deprecation.html#deprecation-of-generated-jit for more information and advice on a suitable replacement.\u001B[0m\n",
      "  warnings.warn(msg, NumbaDeprecationWarning)\n",
      "/Users/carlos.costa/anaconda3/envs/DM2324/lib/python3.11/site-packages/visions/backends/shared/nan_handling.py:50: NumbaDeprecationWarning: \u001B[1mThe 'nopython' keyword argument was not supplied to the 'numba.jit' decorator. The implicit default value for this argument is currently False, but it will be changed to True in Numba 0.59.0. See https://numba.readthedocs.io/en/stable/reference/deprecation.html#deprecation-of-object-mode-fall-back-behaviour-when-using-jit for details.\u001B[0m\n",
      "  @nb.jit\n"
     ]
    }
   ],
   "source": [
    "# Remember: library imports are ALWAYS at the top of the script, no exceptions!\n",
    "import sqlite3\n",
    "import os\n",
    "import pandas as pd\n",
    "import numpy as np\n",
    "from datetime import datetime\n",
    "from sklearn.impute import KNNImputer\n",
    "from ydata_profiling import ProfileReport"
   ]
  },
  {
   "cell_type": "markdown",
   "metadata": {},
   "source": [
    "# Context\n",
    "The data we will be using through the pratical classes comes from a small relational database whose schema can be seen below:\n",
    "![alt text](./schema.png \"Relation database schema\")"
   ]
  },
  {
   "cell_type": "markdown",
   "metadata": {},
   "source": [
    "# Reading the Data"
   ]
  },
  {
   "cell_type": "code",
   "execution_count": 3,
   "metadata": {
    "ExecuteTime": {
     "end_time": "2023-10-18T14:40:59.682564Z",
     "start_time": "2023-10-18T14:40:59.630505Z"
    }
   },
   "outputs": [],
   "source": [
    "# path to database\n",
    "my_path = os.path.join(\"./datamining.db\")\n",
    "\n",
    "# connect to the database\n",
    "conn = sqlite3.connect(my_path)\n",
    "\n",
    "# the query\n",
    "query = \"\"\"\n",
    "select\n",
    "    age, \n",
    "    income, \n",
    "    frq, \n",
    "    rcn, \n",
    "    mnt, \n",
    "    clothes, \n",
    "    kitchen, \n",
    "    small_appliances, \n",
    "    toys, \n",
    "    house_keeping,\n",
    "    dependents, \n",
    "    per_net_purchase,\n",
    "    g.gender, \n",
    "    e.education, \n",
    "    m.status, \n",
    "    r.description\n",
    "from customers as c\n",
    "    join genders as g on g.id = c.gender_id\n",
    "    join education_levels as e on e.id = c.education_id\n",
    "    join marital_status as m on m.id = c.marital_status_id\n",
    "    join recommendations as r on r.id = c.recommendation_id\n",
    "order by c.id;\n",
    "\"\"\"\n",
    "\n",
    "df = pd.read_sql_query(query, conn)"
   ]
  },
  {
   "cell_type": "markdown",
   "metadata": {},
   "source": [
    "## Make a copy of your original dataset\n",
    "\n",
    "why?"
   ]
  },
  {
   "cell_type": "code",
   "execution_count": 6,
   "metadata": {
    "ExecuteTime": {
     "end_time": "2023-10-18T14:44:25.085846Z",
     "start_time": "2023-10-18T14:44:25.051015Z"
    }
   },
   "outputs": [],
   "source": [
    "# CODE HERE\n",
    "df_original = df.copy()"
   ]
  },
  {
   "cell_type": "markdown",
   "metadata": {},
   "source": [
    "# Metadata\n",
    "- *id* - The unique identifier of the customer\n",
    "- *age* - The year of birht of the customer\n",
    "- *income* - The income of the customer\n",
    "- *frq* - Frequency: number of purchases made by the customer\n",
    "- *rcn* - Recency: number of days since last customer purchase\n",
    "- *mnt* - Monetary: amount of € spent by the customer in purchases\n",
    "- *clothes* - Number of clothes items purchased by the customer\n",
    "- *kitchen* - Number of kitchen items purchased by the customer\n",
    "- *small_appliances* - Number of small_appliances items purchased by the customer\n",
    "- *toys* - Number of toys items purchased by the customer\n",
    "- *house_keeping* - Number of house_keeping items purchased by the customer\n",
    "- *dependents* - Binary. Whether or not the customer has dependents\n",
    "- *per_net_purchase* - Percentage of purchases made online\n",
    "- *education* - Education level of the customer\n",
    "- *status* - Marital status of the customer\n",
    "- *gender* - Gender of the customer\n",
    "- *description* - Last customer's recommendation description"
   ]
  },
  {
   "cell_type": "markdown",
   "metadata": {},
   "source": [
    "## Problems:\n",
    "- Duplicates?\n",
    "- Data types?\n",
    "- Missing values?\n",
    "- Strange values?\n",
    "- Descriptive statistics?\n",
    "\n",
    "### Take a closer look and point out possible problems:\n",
    "\n",
    "(hint: a missing values in pandas is represented with a NaN value)"
   ]
  },
  {
   "cell_type": "code",
   "execution_count": 7,
   "metadata": {
    "ExecuteTime": {
     "end_time": "2023-10-18T14:44:26.526146Z",
     "start_time": "2023-10-18T14:44:26.511176Z"
    }
   },
   "outputs": [],
   "source": [
    "# replace \"\" by nans\n",
    "df.replace(\"\", np.nan, inplace=True)"
   ]
  },
  {
   "cell_type": "code",
   "execution_count": 8,
   "metadata": {
    "ExecuteTime": {
     "end_time": "2023-10-18T14:44:26.951718Z",
     "start_time": "2023-10-18T14:44:26.934767Z"
    }
   },
   "outputs": [
    {
     "data": {
      "text/plain": "age                   int64\nincome              float64\nfrq                   int64\nrcn                   int64\nmnt                   int64\nclothes               int64\nkitchen               int64\nsmall_appliances      int64\ntoys                  int64\nhouse_keeping         int64\ndependents          float64\nper_net_purchase      int64\ngender               object\neducation            object\nstatus               object\ndescription          object\ndtype: object"
     },
     "execution_count": 8,
     "metadata": {},
     "output_type": "execute_result"
    }
   ],
   "source": [
    "# check dataset data types again\n",
    "df.dtypes"
   ]
  },
  {
   "cell_type": "code",
   "execution_count": 9,
   "metadata": {
    "ExecuteTime": {
     "end_time": "2023-10-18T14:44:27.288081Z",
     "start_time": "2023-10-18T14:44:27.257895Z"
    }
   },
   "outputs": [
    {
     "data": {
      "text/plain": "                   count unique         top  freq          mean           std  \\\nage               8998.0    NaN         NaN   NaN    1966.05968     17.296552   \nincome            8952.0    NaN         NaN   NaN  69963.550827  27591.556226   \nfrq               8998.0    NaN         NaN   NaN     19.848077     10.903435   \nrcn               8998.0    NaN         NaN   NaN     62.469771     69.761802   \nmnt               8998.0    NaN         NaN   NaN    622.162814    646.768205   \nclothes           8998.0    NaN         NaN   NaN     50.446655     23.422249   \nkitchen           8998.0    NaN         NaN   NaN      7.039675      7.848139   \nsmall_appliances  8998.0    NaN         NaN   NaN     28.524116     12.586437   \ntoys              8998.0    NaN         NaN   NaN      7.036897      7.924422   \nhouse_keeping     8998.0    NaN         NaN   NaN      6.929984      7.882655   \ndependents        8716.0    NaN         NaN   NaN      0.707205      0.455071   \nper_net_purchase  8998.0    NaN         NaN   NaN     42.428984     18.495742   \ngender              8998      2           M  5784           NaN           NaN   \neducation           8951      6  Graduation  4429           NaN           NaN   \nstatus              8821      6     Married  3273           NaN           NaN   \ndescription         8998      5    OK nice!  3434           NaN           NaN   \n\n                      min      25%      50%      75%       max  \nage                1936.0   1951.0   1966.0   1981.0    1996.0  \nincome            10000.0  47741.0  70030.5  92218.0  140628.0  \nfrq                   3.0     10.0     17.0     28.0      59.0  \nrcn                   0.0     26.0     53.0     79.0     549.0  \nmnt                   6.0     63.0    383.0   1076.0    3052.0  \nclothes               1.0     33.0     51.0     69.0      99.0  \nkitchen               0.0      2.0      4.0     10.0      75.0  \nsmall_appliances      1.0     19.0     28.0     37.0      74.0  \ntoys                  0.0      2.0      4.0     10.0      62.0  \nhouse_keeping         0.0      2.0      4.0      9.0      77.0  \ndependents            0.0      0.0      1.0      1.0       1.0  \nper_net_purchase      4.0     28.0     45.0     57.0      88.0  \ngender                NaN      NaN      NaN      NaN       NaN  \neducation             NaN      NaN      NaN      NaN       NaN  \nstatus                NaN      NaN      NaN      NaN       NaN  \ndescription           NaN      NaN      NaN      NaN       NaN  ",
      "text/html": "<div>\n<style scoped>\n    .dataframe tbody tr th:only-of-type {\n        vertical-align: middle;\n    }\n\n    .dataframe tbody tr th {\n        vertical-align: top;\n    }\n\n    .dataframe thead th {\n        text-align: right;\n    }\n</style>\n<table border=\"1\" class=\"dataframe\">\n  <thead>\n    <tr style=\"text-align: right;\">\n      <th></th>\n      <th>count</th>\n      <th>unique</th>\n      <th>top</th>\n      <th>freq</th>\n      <th>mean</th>\n      <th>std</th>\n      <th>min</th>\n      <th>25%</th>\n      <th>50%</th>\n      <th>75%</th>\n      <th>max</th>\n    </tr>\n  </thead>\n  <tbody>\n    <tr>\n      <th>age</th>\n      <td>8998.0</td>\n      <td>NaN</td>\n      <td>NaN</td>\n      <td>NaN</td>\n      <td>1966.05968</td>\n      <td>17.296552</td>\n      <td>1936.0</td>\n      <td>1951.0</td>\n      <td>1966.0</td>\n      <td>1981.0</td>\n      <td>1996.0</td>\n    </tr>\n    <tr>\n      <th>income</th>\n      <td>8952.0</td>\n      <td>NaN</td>\n      <td>NaN</td>\n      <td>NaN</td>\n      <td>69963.550827</td>\n      <td>27591.556226</td>\n      <td>10000.0</td>\n      <td>47741.0</td>\n      <td>70030.5</td>\n      <td>92218.0</td>\n      <td>140628.0</td>\n    </tr>\n    <tr>\n      <th>frq</th>\n      <td>8998.0</td>\n      <td>NaN</td>\n      <td>NaN</td>\n      <td>NaN</td>\n      <td>19.848077</td>\n      <td>10.903435</td>\n      <td>3.0</td>\n      <td>10.0</td>\n      <td>17.0</td>\n      <td>28.0</td>\n      <td>59.0</td>\n    </tr>\n    <tr>\n      <th>rcn</th>\n      <td>8998.0</td>\n      <td>NaN</td>\n      <td>NaN</td>\n      <td>NaN</td>\n      <td>62.469771</td>\n      <td>69.761802</td>\n      <td>0.0</td>\n      <td>26.0</td>\n      <td>53.0</td>\n      <td>79.0</td>\n      <td>549.0</td>\n    </tr>\n    <tr>\n      <th>mnt</th>\n      <td>8998.0</td>\n      <td>NaN</td>\n      <td>NaN</td>\n      <td>NaN</td>\n      <td>622.162814</td>\n      <td>646.768205</td>\n      <td>6.0</td>\n      <td>63.0</td>\n      <td>383.0</td>\n      <td>1076.0</td>\n      <td>3052.0</td>\n    </tr>\n    <tr>\n      <th>clothes</th>\n      <td>8998.0</td>\n      <td>NaN</td>\n      <td>NaN</td>\n      <td>NaN</td>\n      <td>50.446655</td>\n      <td>23.422249</td>\n      <td>1.0</td>\n      <td>33.0</td>\n      <td>51.0</td>\n      <td>69.0</td>\n      <td>99.0</td>\n    </tr>\n    <tr>\n      <th>kitchen</th>\n      <td>8998.0</td>\n      <td>NaN</td>\n      <td>NaN</td>\n      <td>NaN</td>\n      <td>7.039675</td>\n      <td>7.848139</td>\n      <td>0.0</td>\n      <td>2.0</td>\n      <td>4.0</td>\n      <td>10.0</td>\n      <td>75.0</td>\n    </tr>\n    <tr>\n      <th>small_appliances</th>\n      <td>8998.0</td>\n      <td>NaN</td>\n      <td>NaN</td>\n      <td>NaN</td>\n      <td>28.524116</td>\n      <td>12.586437</td>\n      <td>1.0</td>\n      <td>19.0</td>\n      <td>28.0</td>\n      <td>37.0</td>\n      <td>74.0</td>\n    </tr>\n    <tr>\n      <th>toys</th>\n      <td>8998.0</td>\n      <td>NaN</td>\n      <td>NaN</td>\n      <td>NaN</td>\n      <td>7.036897</td>\n      <td>7.924422</td>\n      <td>0.0</td>\n      <td>2.0</td>\n      <td>4.0</td>\n      <td>10.0</td>\n      <td>62.0</td>\n    </tr>\n    <tr>\n      <th>house_keeping</th>\n      <td>8998.0</td>\n      <td>NaN</td>\n      <td>NaN</td>\n      <td>NaN</td>\n      <td>6.929984</td>\n      <td>7.882655</td>\n      <td>0.0</td>\n      <td>2.0</td>\n      <td>4.0</td>\n      <td>9.0</td>\n      <td>77.0</td>\n    </tr>\n    <tr>\n      <th>dependents</th>\n      <td>8716.0</td>\n      <td>NaN</td>\n      <td>NaN</td>\n      <td>NaN</td>\n      <td>0.707205</td>\n      <td>0.455071</td>\n      <td>0.0</td>\n      <td>0.0</td>\n      <td>1.0</td>\n      <td>1.0</td>\n      <td>1.0</td>\n    </tr>\n    <tr>\n      <th>per_net_purchase</th>\n      <td>8998.0</td>\n      <td>NaN</td>\n      <td>NaN</td>\n      <td>NaN</td>\n      <td>42.428984</td>\n      <td>18.495742</td>\n      <td>4.0</td>\n      <td>28.0</td>\n      <td>45.0</td>\n      <td>57.0</td>\n      <td>88.0</td>\n    </tr>\n    <tr>\n      <th>gender</th>\n      <td>8998</td>\n      <td>2</td>\n      <td>M</td>\n      <td>5784</td>\n      <td>NaN</td>\n      <td>NaN</td>\n      <td>NaN</td>\n      <td>NaN</td>\n      <td>NaN</td>\n      <td>NaN</td>\n      <td>NaN</td>\n    </tr>\n    <tr>\n      <th>education</th>\n      <td>8951</td>\n      <td>6</td>\n      <td>Graduation</td>\n      <td>4429</td>\n      <td>NaN</td>\n      <td>NaN</td>\n      <td>NaN</td>\n      <td>NaN</td>\n      <td>NaN</td>\n      <td>NaN</td>\n      <td>NaN</td>\n    </tr>\n    <tr>\n      <th>status</th>\n      <td>8821</td>\n      <td>6</td>\n      <td>Married</td>\n      <td>3273</td>\n      <td>NaN</td>\n      <td>NaN</td>\n      <td>NaN</td>\n      <td>NaN</td>\n      <td>NaN</td>\n      <td>NaN</td>\n      <td>NaN</td>\n    </tr>\n    <tr>\n      <th>description</th>\n      <td>8998</td>\n      <td>5</td>\n      <td>OK nice!</td>\n      <td>3434</td>\n      <td>NaN</td>\n      <td>NaN</td>\n      <td>NaN</td>\n      <td>NaN</td>\n      <td>NaN</td>\n      <td>NaN</td>\n      <td>NaN</td>\n    </tr>\n  </tbody>\n</table>\n</div>"
     },
     "execution_count": 9,
     "metadata": {},
     "output_type": "execute_result"
    }
   ],
   "source": [
    "# check descriptive statistics again\n",
    "df.describe(include=\"all\").T"
   ]
  },
  {
   "cell_type": "code",
   "execution_count": 10,
   "metadata": {
    "ExecuteTime": {
     "end_time": "2023-10-18T14:44:27.838689Z",
     "start_time": "2023-10-18T14:44:27.807370Z"
    }
   },
   "outputs": [],
   "source": [
    "#Define metric and non-metric features. Why?\n",
    "non_metric_features = [\"education\", \"status\", \"gender\", \"dependents\", \"description\"]\n",
    "metric_features = df.columns.drop(non_metric_features).to_list()"
   ]
  },
  {
   "cell_type": "markdown",
   "metadata": {},
   "source": [
    "## Fill missing values (Data imputation)\n",
    "\n",
    "How can we fill missing values?"
   ]
  },
  {
   "cell_type": "code",
   "execution_count": 11,
   "metadata": {
    "ExecuteTime": {
     "end_time": "2023-10-18T14:44:50.546674Z",
     "start_time": "2023-10-18T14:44:50.509806Z"
    }
   },
   "outputs": [],
   "source": [
    "# Creating a copy to apply central tendency measures imputation\n",
    "df_central = df.copy()"
   ]
  },
  {
   "cell_type": "code",
   "execution_count": 12,
   "metadata": {
    "ExecuteTime": {
     "end_time": "2023-10-18T14:44:50.962113Z",
     "start_time": "2023-10-18T14:44:50.949456Z"
    }
   },
   "outputs": [
    {
     "data": {
      "text/plain": "age                   0\nincome               46\nfrq                   0\nrcn                   0\nmnt                   0\nclothes               0\nkitchen               0\nsmall_appliances      0\ntoys                  0\nhouse_keeping         0\ndependents          282\nper_net_purchase      0\ngender                0\neducation            47\nstatus              177\ndescription           0\ndtype: int64"
     },
     "execution_count": 12,
     "metadata": {},
     "output_type": "execute_result"
    }
   ],
   "source": [
    "# count of missing values\n",
    "df_central.isna().sum()"
   ]
  },
  {
   "cell_type": "code",
   "execution_count": 17,
   "metadata": {
    "ExecuteTime": {
     "end_time": "2023-10-18T14:52:32.932557Z",
     "start_time": "2023-10-18T14:52:32.898344Z"
    }
   },
   "outputs": [],
   "source": [
    "medians = df_central.median(numeric_only=True)"
   ]
  },
  {
   "cell_type": "code",
   "execution_count": 16,
   "metadata": {
    "ExecuteTime": {
     "end_time": "2023-10-18T14:49:10.934499Z",
     "start_time": "2023-10-18T14:49:10.912459Z"
    }
   },
   "outputs": [
    {
     "data": {
      "text/plain": "education      Graduation\nstatus            Married\ngender                  M\ndependents            1.0\ndescription      OK nice!\nName: 0, dtype: object"
     },
     "execution_count": 16,
     "metadata": {},
     "output_type": "execute_result"
    }
   ],
   "source": [
    "# Check each step of these commands\n",
    "modes = df_central[non_metric_features].mode().loc[0]\n",
    "modes"
   ]
  },
  {
   "cell_type": "code",
   "execution_count": 23,
   "metadata": {
    "ExecuteTime": {
     "end_time": "2023-10-18T14:56:24.240838Z",
     "start_time": "2023-10-18T14:56:24.212553Z"
    }
   },
   "outputs": [
    {
     "data": {
      "text/plain": "age                 0\nincome              0\nfrq                 0\nrcn                 0\nmnt                 0\nclothes             0\nkitchen             0\nsmall_appliances    0\ntoys                0\nhouse_keeping       0\ndependents          0\nper_net_purchase    0\ngender              0\neducation           0\nstatus              0\ndescription         0\ndtype: int64"
     },
     "execution_count": 23,
     "metadata": {},
     "output_type": "execute_result"
    }
   ],
   "source": [
    "# Fill NaNs on df_central\n",
    "# CODE HERE\n",
    "\n",
    "# v1 \n",
    "# df_central = df_central.fillna(medians).fillna(modes)\n",
    "\n",
    "# v2\n",
    "df_central.fillna(pd.concat([medians, modes]), inplace=True)\n",
    "\n",
    "df_central.isna().sum()"
   ]
  },
  {
   "cell_type": "code",
   "execution_count": 24,
   "metadata": {
    "ExecuteTime": {
     "end_time": "2023-10-18T14:58:49.134345Z",
     "start_time": "2023-10-18T14:58:49.109229Z"
    }
   },
   "outputs": [],
   "source": [
    "# Creating new df copy to explore neighbordhood imputation\n",
    "df_neighbors = df.copy()"
   ]
  },
  {
   "cell_type": "code",
   "execution_count": 27,
   "metadata": {
    "ExecuteTime": {
     "end_time": "2023-10-18T15:01:16.528532Z",
     "start_time": "2023-10-18T15:01:16.505702Z"
    }
   },
   "outputs": [
    {
     "data": {
      "text/plain": "       age  income  frq  rcn   mnt  clothes  kitchen  small_appliances  toys  \\\n61    1968     NaN   14   90   184       95        1                 3     1   \n703   1988     NaN   10   77    39       24        5                63     4   \n793   1956     NaN   15   25   338       72        1                25     0   \n852   1956     NaN   21   95   596       69        4                20     2   \n1197  1974     NaN   20   10   395       67        1                28     2   \n1280  1949     NaN    8   81   122       76        3                18     2   \n1614  1978     NaN    7   55    51       70        4                20     1   \n1669  1987     NaN   21    5   482       39        3                43     8   \n1917  1951     NaN   19   24   593       49       10                30    10   \n1924  1948     NaN   31   86  1468       46        3                40     6   \n1927  1975     NaN   30   32  1010       47        3                27    11   \n2268  1991     NaN   12   45    61       13        2                38    17   \n2281  1941     NaN   30   57  1274       28        3                49     2   \n2342  1995     NaN    7   42    31       12       30                13    17   \n2446  1962     NaN   25   88   708       88        0                10     1   \n2643  1978     NaN   11   36   122       75        4                20     1   \n2647  1982     NaN    8   53    37       49        4                28     9   \n2764  1984     NaN    8    2    40       43        9                28    10   \n2839  1963     NaN   22   17   591       81        2                13     2   \n3146  1938     NaN   35   42  1723       32        8                46     8   \n3336  1983     NaN   11   16    93       77        1                20     0   \n4213  1952     NaN   25   50  1028       73        7                17     1   \n4263  1959     NaN   17   46   445       51        5                30     7   \n4660  1980     NaN   15   23   186       40        7                33     5   \n4724  1939     NaN   37   66  1787       25        6                43    14   \n4935  1976     NaN   10   35    42       47        4                42     4   \n4968  1949     NaN   28   27  1142       53        8                35     0   \n5114  1938     NaN   40    9  1920       77        1                21     0   \n5561  1937     NaN   40   34  1667       59        6                19     9   \n5562  1984     NaN   10   72    66       55        1                38     3   \n5863  1980     NaN   19    0   349       46        9                32     3   \n6055  1976     NaN    8   28    54       47        1                42     3   \n6529  1946     NaN   23   38   949       18       22                34    25   \n6700  1950     NaN   33   60  1276       68        4                21     3   \n6931  1946     NaN   34    9  1659       46        6                37    11   \n7240  1952     NaN   24    2   768       81        1                15     3   \n7587  1958     NaN   18   55   533       40       17                29     8   \n7791  1953     NaN   47   74  2103       40        4                32    19   \n7795  1943     NaN   29   64  1275       66        3                27     2   \n8026  1945     NaN   23   79   892       25        9                49    11   \n8444  1959     NaN   18   20   494       76        2                17     2   \n8577  1977     NaN    6   22    76       65        2                22     6   \n8635  1976     NaN    7  385    15       75        3                20     1   \n8677  1961     NaN   18   77   386       79        2                15     1   \n8932  1959     NaN   20   71   716       67        5                25     3   \n8972  1976     NaN   17    9   254       70        1                28     1   \n\n      house_keeping  dependents  per_net_purchase gender   education  \\\n61                0         1.0                59      F   2nd Cycle   \n703               4         1.0                68      F   2nd Cycle   \n793               1         1.0                48      M      Master   \n852               6         1.0                33      M  Graduation   \n1197              2         1.0                56      F  Graduation   \n1280              1         1.0                38      M      Master   \n1614              5         1.0                41      M  Graduation   \n1669              7         1.0                36      F         PhD   \n1917              1         1.0                23      M  Graduation   \n1924              5         0.0                11      F      Master   \n1927             13         1.0                34      F  Graduation   \n2268             30         1.0                65      M  Graduation   \n2281             17         0.0                24      M   1st Cycle   \n2342             28         1.0                32      M   1st Cycle   \n2446              1         1.0                56      M   2nd Cycle   \n2643              0         1.0                49      M  Graduation   \n2647             10         0.0                44      M  Graduation   \n2764             11         1.0                51      M      Master   \n2839              2         1.0                44      M  Graduation   \n3146              6         0.0                17      F  Graduation   \n3336              1         1.0                65      M         PhD   \n4213              1         1.0                25      F      Master   \n4263              7         1.0                31      F      Master   \n4660             16         1.0                71      M  Graduation   \n4724             11         0.0                15      M   2nd Cycle   \n4935              2         1.0                64      F   2nd Cycle   \n4968              4         0.0                10      F   1st Cycle   \n5114              1         0.0                19      M         PhD   \n5561              7         1.0                43      M  Graduation   \n5562              2         1.0                51      M      Master   \n5863             10         1.0                54      M  Graduation   \n6055              7         1.0                43      M         NaN   \n6529              1         0.0                17      M   1st Cycle   \n6700              4         1.0                34      M  Graduation   \n6931              1         0.0                 9      M  Graduation   \n7240              0         1.0                33      F  Graduation   \n7587              6         1.0                31      M  Graduation   \n7791              4         0.0                34      F  Graduation   \n7795              2         0.0                20      F  Graduation   \n8026              6         0.0                19      M   2nd Cycle   \n8444              3         1.0                31      F         PhD   \n8577              5         1.0                33      M      Master   \n8635              0         1.0                58      M  Graduation   \n8677              3         1.0                47      F  Graduation   \n8932              1         0.0                27      M  Graduation   \n8972              1         1.0                59      M  Graduation   \n\n        status      description  \n61     Married           Meh...  \n703   Together         OK nice!  \n793     Single         OK nice!  \n852   Together         OK nice!  \n1197  Together           Meh...  \n1280       NaN           Meh...  \n1614   Married         OK nice!  \n1669   Married       Kind of OK  \n1917   Married           Meh...  \n1924  Divorced         OK nice!  \n1927    Single  Take my money!!  \n2268    Single       Kind of OK  \n2281   Married         OK nice!  \n2342    Single       Kind of OK  \n2446   Married       Kind of OK  \n2643  Together         OK nice!  \n2647  Together           Meh...  \n2764  Together       Kind of OK  \n2839   Married           Meh...  \n3146  Divorced         OK nice!  \n3336   Married       Kind of OK  \n4213       NaN       Kind of OK  \n4263   Married       Kind of OK  \n4660    Single           Meh...  \n4724  Together  Take my money!!  \n4935   Married         OK nice!  \n4968  Together         OK nice!  \n5114  Together         OK nice!  \n5561     Widow  Take my money!!  \n5562    Single           Meh...  \n5863   Married           Meh...  \n6055    Single         OK nice!  \n6529     Widow           Meh...  \n6700  Together         OK nice!  \n6931       NaN  Take my money!!  \n7240  Divorced       Kind of OK  \n7587  Together           Meh...  \n7791  Together  Take my money!!  \n7795    Single  Take my money!!  \n8026  Together         OK nice!  \n8444  Divorced       Kind of OK  \n8577  Divorced         OK nice!  \n8635   Married       Kind of OK  \n8677    Single         OK nice!  \n8932   Married           Meh...  \n8972  Divorced           Meh...  ",
      "text/html": "<div>\n<style scoped>\n    .dataframe tbody tr th:only-of-type {\n        vertical-align: middle;\n    }\n\n    .dataframe tbody tr th {\n        vertical-align: top;\n    }\n\n    .dataframe thead th {\n        text-align: right;\n    }\n</style>\n<table border=\"1\" class=\"dataframe\">\n  <thead>\n    <tr style=\"text-align: right;\">\n      <th></th>\n      <th>age</th>\n      <th>income</th>\n      <th>frq</th>\n      <th>rcn</th>\n      <th>mnt</th>\n      <th>clothes</th>\n      <th>kitchen</th>\n      <th>small_appliances</th>\n      <th>toys</th>\n      <th>house_keeping</th>\n      <th>dependents</th>\n      <th>per_net_purchase</th>\n      <th>gender</th>\n      <th>education</th>\n      <th>status</th>\n      <th>description</th>\n    </tr>\n  </thead>\n  <tbody>\n    <tr>\n      <th>61</th>\n      <td>1968</td>\n      <td>NaN</td>\n      <td>14</td>\n      <td>90</td>\n      <td>184</td>\n      <td>95</td>\n      <td>1</td>\n      <td>3</td>\n      <td>1</td>\n      <td>0</td>\n      <td>1.0</td>\n      <td>59</td>\n      <td>F</td>\n      <td>2nd Cycle</td>\n      <td>Married</td>\n      <td>Meh...</td>\n    </tr>\n    <tr>\n      <th>703</th>\n      <td>1988</td>\n      <td>NaN</td>\n      <td>10</td>\n      <td>77</td>\n      <td>39</td>\n      <td>24</td>\n      <td>5</td>\n      <td>63</td>\n      <td>4</td>\n      <td>4</td>\n      <td>1.0</td>\n      <td>68</td>\n      <td>F</td>\n      <td>2nd Cycle</td>\n      <td>Together</td>\n      <td>OK nice!</td>\n    </tr>\n    <tr>\n      <th>793</th>\n      <td>1956</td>\n      <td>NaN</td>\n      <td>15</td>\n      <td>25</td>\n      <td>338</td>\n      <td>72</td>\n      <td>1</td>\n      <td>25</td>\n      <td>0</td>\n      <td>1</td>\n      <td>1.0</td>\n      <td>48</td>\n      <td>M</td>\n      <td>Master</td>\n      <td>Single</td>\n      <td>OK nice!</td>\n    </tr>\n    <tr>\n      <th>852</th>\n      <td>1956</td>\n      <td>NaN</td>\n      <td>21</td>\n      <td>95</td>\n      <td>596</td>\n      <td>69</td>\n      <td>4</td>\n      <td>20</td>\n      <td>2</td>\n      <td>6</td>\n      <td>1.0</td>\n      <td>33</td>\n      <td>M</td>\n      <td>Graduation</td>\n      <td>Together</td>\n      <td>OK nice!</td>\n    </tr>\n    <tr>\n      <th>1197</th>\n      <td>1974</td>\n      <td>NaN</td>\n      <td>20</td>\n      <td>10</td>\n      <td>395</td>\n      <td>67</td>\n      <td>1</td>\n      <td>28</td>\n      <td>2</td>\n      <td>2</td>\n      <td>1.0</td>\n      <td>56</td>\n      <td>F</td>\n      <td>Graduation</td>\n      <td>Together</td>\n      <td>Meh...</td>\n    </tr>\n    <tr>\n      <th>1280</th>\n      <td>1949</td>\n      <td>NaN</td>\n      <td>8</td>\n      <td>81</td>\n      <td>122</td>\n      <td>76</td>\n      <td>3</td>\n      <td>18</td>\n      <td>2</td>\n      <td>1</td>\n      <td>1.0</td>\n      <td>38</td>\n      <td>M</td>\n      <td>Master</td>\n      <td>NaN</td>\n      <td>Meh...</td>\n    </tr>\n    <tr>\n      <th>1614</th>\n      <td>1978</td>\n      <td>NaN</td>\n      <td>7</td>\n      <td>55</td>\n      <td>51</td>\n      <td>70</td>\n      <td>4</td>\n      <td>20</td>\n      <td>1</td>\n      <td>5</td>\n      <td>1.0</td>\n      <td>41</td>\n      <td>M</td>\n      <td>Graduation</td>\n      <td>Married</td>\n      <td>OK nice!</td>\n    </tr>\n    <tr>\n      <th>1669</th>\n      <td>1987</td>\n      <td>NaN</td>\n      <td>21</td>\n      <td>5</td>\n      <td>482</td>\n      <td>39</td>\n      <td>3</td>\n      <td>43</td>\n      <td>8</td>\n      <td>7</td>\n      <td>1.0</td>\n      <td>36</td>\n      <td>F</td>\n      <td>PhD</td>\n      <td>Married</td>\n      <td>Kind of OK</td>\n    </tr>\n    <tr>\n      <th>1917</th>\n      <td>1951</td>\n      <td>NaN</td>\n      <td>19</td>\n      <td>24</td>\n      <td>593</td>\n      <td>49</td>\n      <td>10</td>\n      <td>30</td>\n      <td>10</td>\n      <td>1</td>\n      <td>1.0</td>\n      <td>23</td>\n      <td>M</td>\n      <td>Graduation</td>\n      <td>Married</td>\n      <td>Meh...</td>\n    </tr>\n    <tr>\n      <th>1924</th>\n      <td>1948</td>\n      <td>NaN</td>\n      <td>31</td>\n      <td>86</td>\n      <td>1468</td>\n      <td>46</td>\n      <td>3</td>\n      <td>40</td>\n      <td>6</td>\n      <td>5</td>\n      <td>0.0</td>\n      <td>11</td>\n      <td>F</td>\n      <td>Master</td>\n      <td>Divorced</td>\n      <td>OK nice!</td>\n    </tr>\n    <tr>\n      <th>1927</th>\n      <td>1975</td>\n      <td>NaN</td>\n      <td>30</td>\n      <td>32</td>\n      <td>1010</td>\n      <td>47</td>\n      <td>3</td>\n      <td>27</td>\n      <td>11</td>\n      <td>13</td>\n      <td>1.0</td>\n      <td>34</td>\n      <td>F</td>\n      <td>Graduation</td>\n      <td>Single</td>\n      <td>Take my money!!</td>\n    </tr>\n    <tr>\n      <th>2268</th>\n      <td>1991</td>\n      <td>NaN</td>\n      <td>12</td>\n      <td>45</td>\n      <td>61</td>\n      <td>13</td>\n      <td>2</td>\n      <td>38</td>\n      <td>17</td>\n      <td>30</td>\n      <td>1.0</td>\n      <td>65</td>\n      <td>M</td>\n      <td>Graduation</td>\n      <td>Single</td>\n      <td>Kind of OK</td>\n    </tr>\n    <tr>\n      <th>2281</th>\n      <td>1941</td>\n      <td>NaN</td>\n      <td>30</td>\n      <td>57</td>\n      <td>1274</td>\n      <td>28</td>\n      <td>3</td>\n      <td>49</td>\n      <td>2</td>\n      <td>17</td>\n      <td>0.0</td>\n      <td>24</td>\n      <td>M</td>\n      <td>1st Cycle</td>\n      <td>Married</td>\n      <td>OK nice!</td>\n    </tr>\n    <tr>\n      <th>2342</th>\n      <td>1995</td>\n      <td>NaN</td>\n      <td>7</td>\n      <td>42</td>\n      <td>31</td>\n      <td>12</td>\n      <td>30</td>\n      <td>13</td>\n      <td>17</td>\n      <td>28</td>\n      <td>1.0</td>\n      <td>32</td>\n      <td>M</td>\n      <td>1st Cycle</td>\n      <td>Single</td>\n      <td>Kind of OK</td>\n    </tr>\n    <tr>\n      <th>2446</th>\n      <td>1962</td>\n      <td>NaN</td>\n      <td>25</td>\n      <td>88</td>\n      <td>708</td>\n      <td>88</td>\n      <td>0</td>\n      <td>10</td>\n      <td>1</td>\n      <td>1</td>\n      <td>1.0</td>\n      <td>56</td>\n      <td>M</td>\n      <td>2nd Cycle</td>\n      <td>Married</td>\n      <td>Kind of OK</td>\n    </tr>\n    <tr>\n      <th>2643</th>\n      <td>1978</td>\n      <td>NaN</td>\n      <td>11</td>\n      <td>36</td>\n      <td>122</td>\n      <td>75</td>\n      <td>4</td>\n      <td>20</td>\n      <td>1</td>\n      <td>0</td>\n      <td>1.0</td>\n      <td>49</td>\n      <td>M</td>\n      <td>Graduation</td>\n      <td>Together</td>\n      <td>OK nice!</td>\n    </tr>\n    <tr>\n      <th>2647</th>\n      <td>1982</td>\n      <td>NaN</td>\n      <td>8</td>\n      <td>53</td>\n      <td>37</td>\n      <td>49</td>\n      <td>4</td>\n      <td>28</td>\n      <td>9</td>\n      <td>10</td>\n      <td>0.0</td>\n      <td>44</td>\n      <td>M</td>\n      <td>Graduation</td>\n      <td>Together</td>\n      <td>Meh...</td>\n    </tr>\n    <tr>\n      <th>2764</th>\n      <td>1984</td>\n      <td>NaN</td>\n      <td>8</td>\n      <td>2</td>\n      <td>40</td>\n      <td>43</td>\n      <td>9</td>\n      <td>28</td>\n      <td>10</td>\n      <td>11</td>\n      <td>1.0</td>\n      <td>51</td>\n      <td>M</td>\n      <td>Master</td>\n      <td>Together</td>\n      <td>Kind of OK</td>\n    </tr>\n    <tr>\n      <th>2839</th>\n      <td>1963</td>\n      <td>NaN</td>\n      <td>22</td>\n      <td>17</td>\n      <td>591</td>\n      <td>81</td>\n      <td>2</td>\n      <td>13</td>\n      <td>2</td>\n      <td>2</td>\n      <td>1.0</td>\n      <td>44</td>\n      <td>M</td>\n      <td>Graduation</td>\n      <td>Married</td>\n      <td>Meh...</td>\n    </tr>\n    <tr>\n      <th>3146</th>\n      <td>1938</td>\n      <td>NaN</td>\n      <td>35</td>\n      <td>42</td>\n      <td>1723</td>\n      <td>32</td>\n      <td>8</td>\n      <td>46</td>\n      <td>8</td>\n      <td>6</td>\n      <td>0.0</td>\n      <td>17</td>\n      <td>F</td>\n      <td>Graduation</td>\n      <td>Divorced</td>\n      <td>OK nice!</td>\n    </tr>\n    <tr>\n      <th>3336</th>\n      <td>1983</td>\n      <td>NaN</td>\n      <td>11</td>\n      <td>16</td>\n      <td>93</td>\n      <td>77</td>\n      <td>1</td>\n      <td>20</td>\n      <td>0</td>\n      <td>1</td>\n      <td>1.0</td>\n      <td>65</td>\n      <td>M</td>\n      <td>PhD</td>\n      <td>Married</td>\n      <td>Kind of OK</td>\n    </tr>\n    <tr>\n      <th>4213</th>\n      <td>1952</td>\n      <td>NaN</td>\n      <td>25</td>\n      <td>50</td>\n      <td>1028</td>\n      <td>73</td>\n      <td>7</td>\n      <td>17</td>\n      <td>1</td>\n      <td>1</td>\n      <td>1.0</td>\n      <td>25</td>\n      <td>F</td>\n      <td>Master</td>\n      <td>NaN</td>\n      <td>Kind of OK</td>\n    </tr>\n    <tr>\n      <th>4263</th>\n      <td>1959</td>\n      <td>NaN</td>\n      <td>17</td>\n      <td>46</td>\n      <td>445</td>\n      <td>51</td>\n      <td>5</td>\n      <td>30</td>\n      <td>7</td>\n      <td>7</td>\n      <td>1.0</td>\n      <td>31</td>\n      <td>F</td>\n      <td>Master</td>\n      <td>Married</td>\n      <td>Kind of OK</td>\n    </tr>\n    <tr>\n      <th>4660</th>\n      <td>1980</td>\n      <td>NaN</td>\n      <td>15</td>\n      <td>23</td>\n      <td>186</td>\n      <td>40</td>\n      <td>7</td>\n      <td>33</td>\n      <td>5</td>\n      <td>16</td>\n      <td>1.0</td>\n      <td>71</td>\n      <td>M</td>\n      <td>Graduation</td>\n      <td>Single</td>\n      <td>Meh...</td>\n    </tr>\n    <tr>\n      <th>4724</th>\n      <td>1939</td>\n      <td>NaN</td>\n      <td>37</td>\n      <td>66</td>\n      <td>1787</td>\n      <td>25</td>\n      <td>6</td>\n      <td>43</td>\n      <td>14</td>\n      <td>11</td>\n      <td>0.0</td>\n      <td>15</td>\n      <td>M</td>\n      <td>2nd Cycle</td>\n      <td>Together</td>\n      <td>Take my money!!</td>\n    </tr>\n    <tr>\n      <th>4935</th>\n      <td>1976</td>\n      <td>NaN</td>\n      <td>10</td>\n      <td>35</td>\n      <td>42</td>\n      <td>47</td>\n      <td>4</td>\n      <td>42</td>\n      <td>4</td>\n      <td>2</td>\n      <td>1.0</td>\n      <td>64</td>\n      <td>F</td>\n      <td>2nd Cycle</td>\n      <td>Married</td>\n      <td>OK nice!</td>\n    </tr>\n    <tr>\n      <th>4968</th>\n      <td>1949</td>\n      <td>NaN</td>\n      <td>28</td>\n      <td>27</td>\n      <td>1142</td>\n      <td>53</td>\n      <td>8</td>\n      <td>35</td>\n      <td>0</td>\n      <td>4</td>\n      <td>0.0</td>\n      <td>10</td>\n      <td>F</td>\n      <td>1st Cycle</td>\n      <td>Together</td>\n      <td>OK nice!</td>\n    </tr>\n    <tr>\n      <th>5114</th>\n      <td>1938</td>\n      <td>NaN</td>\n      <td>40</td>\n      <td>9</td>\n      <td>1920</td>\n      <td>77</td>\n      <td>1</td>\n      <td>21</td>\n      <td>0</td>\n      <td>1</td>\n      <td>0.0</td>\n      <td>19</td>\n      <td>M</td>\n      <td>PhD</td>\n      <td>Together</td>\n      <td>OK nice!</td>\n    </tr>\n    <tr>\n      <th>5561</th>\n      <td>1937</td>\n      <td>NaN</td>\n      <td>40</td>\n      <td>34</td>\n      <td>1667</td>\n      <td>59</td>\n      <td>6</td>\n      <td>19</td>\n      <td>9</td>\n      <td>7</td>\n      <td>1.0</td>\n      <td>43</td>\n      <td>M</td>\n      <td>Graduation</td>\n      <td>Widow</td>\n      <td>Take my money!!</td>\n    </tr>\n    <tr>\n      <th>5562</th>\n      <td>1984</td>\n      <td>NaN</td>\n      <td>10</td>\n      <td>72</td>\n      <td>66</td>\n      <td>55</td>\n      <td>1</td>\n      <td>38</td>\n      <td>3</td>\n      <td>2</td>\n      <td>1.0</td>\n      <td>51</td>\n      <td>M</td>\n      <td>Master</td>\n      <td>Single</td>\n      <td>Meh...</td>\n    </tr>\n    <tr>\n      <th>5863</th>\n      <td>1980</td>\n      <td>NaN</td>\n      <td>19</td>\n      <td>0</td>\n      <td>349</td>\n      <td>46</td>\n      <td>9</td>\n      <td>32</td>\n      <td>3</td>\n      <td>10</td>\n      <td>1.0</td>\n      <td>54</td>\n      <td>M</td>\n      <td>Graduation</td>\n      <td>Married</td>\n      <td>Meh...</td>\n    </tr>\n    <tr>\n      <th>6055</th>\n      <td>1976</td>\n      <td>NaN</td>\n      <td>8</td>\n      <td>28</td>\n      <td>54</td>\n      <td>47</td>\n      <td>1</td>\n      <td>42</td>\n      <td>3</td>\n      <td>7</td>\n      <td>1.0</td>\n      <td>43</td>\n      <td>M</td>\n      <td>NaN</td>\n      <td>Single</td>\n      <td>OK nice!</td>\n    </tr>\n    <tr>\n      <th>6529</th>\n      <td>1946</td>\n      <td>NaN</td>\n      <td>23</td>\n      <td>38</td>\n      <td>949</td>\n      <td>18</td>\n      <td>22</td>\n      <td>34</td>\n      <td>25</td>\n      <td>1</td>\n      <td>0.0</td>\n      <td>17</td>\n      <td>M</td>\n      <td>1st Cycle</td>\n      <td>Widow</td>\n      <td>Meh...</td>\n    </tr>\n    <tr>\n      <th>6700</th>\n      <td>1950</td>\n      <td>NaN</td>\n      <td>33</td>\n      <td>60</td>\n      <td>1276</td>\n      <td>68</td>\n      <td>4</td>\n      <td>21</td>\n      <td>3</td>\n      <td>4</td>\n      <td>1.0</td>\n      <td>34</td>\n      <td>M</td>\n      <td>Graduation</td>\n      <td>Together</td>\n      <td>OK nice!</td>\n    </tr>\n    <tr>\n      <th>6931</th>\n      <td>1946</td>\n      <td>NaN</td>\n      <td>34</td>\n      <td>9</td>\n      <td>1659</td>\n      <td>46</td>\n      <td>6</td>\n      <td>37</td>\n      <td>11</td>\n      <td>1</td>\n      <td>0.0</td>\n      <td>9</td>\n      <td>M</td>\n      <td>Graduation</td>\n      <td>NaN</td>\n      <td>Take my money!!</td>\n    </tr>\n    <tr>\n      <th>7240</th>\n      <td>1952</td>\n      <td>NaN</td>\n      <td>24</td>\n      <td>2</td>\n      <td>768</td>\n      <td>81</td>\n      <td>1</td>\n      <td>15</td>\n      <td>3</td>\n      <td>0</td>\n      <td>1.0</td>\n      <td>33</td>\n      <td>F</td>\n      <td>Graduation</td>\n      <td>Divorced</td>\n      <td>Kind of OK</td>\n    </tr>\n    <tr>\n      <th>7587</th>\n      <td>1958</td>\n      <td>NaN</td>\n      <td>18</td>\n      <td>55</td>\n      <td>533</td>\n      <td>40</td>\n      <td>17</td>\n      <td>29</td>\n      <td>8</td>\n      <td>6</td>\n      <td>1.0</td>\n      <td>31</td>\n      <td>M</td>\n      <td>Graduation</td>\n      <td>Together</td>\n      <td>Meh...</td>\n    </tr>\n    <tr>\n      <th>7791</th>\n      <td>1953</td>\n      <td>NaN</td>\n      <td>47</td>\n      <td>74</td>\n      <td>2103</td>\n      <td>40</td>\n      <td>4</td>\n      <td>32</td>\n      <td>19</td>\n      <td>4</td>\n      <td>0.0</td>\n      <td>34</td>\n      <td>F</td>\n      <td>Graduation</td>\n      <td>Together</td>\n      <td>Take my money!!</td>\n    </tr>\n    <tr>\n      <th>7795</th>\n      <td>1943</td>\n      <td>NaN</td>\n      <td>29</td>\n      <td>64</td>\n      <td>1275</td>\n      <td>66</td>\n      <td>3</td>\n      <td>27</td>\n      <td>2</td>\n      <td>2</td>\n      <td>0.0</td>\n      <td>20</td>\n      <td>F</td>\n      <td>Graduation</td>\n      <td>Single</td>\n      <td>Take my money!!</td>\n    </tr>\n    <tr>\n      <th>8026</th>\n      <td>1945</td>\n      <td>NaN</td>\n      <td>23</td>\n      <td>79</td>\n      <td>892</td>\n      <td>25</td>\n      <td>9</td>\n      <td>49</td>\n      <td>11</td>\n      <td>6</td>\n      <td>0.0</td>\n      <td>19</td>\n      <td>M</td>\n      <td>2nd Cycle</td>\n      <td>Together</td>\n      <td>OK nice!</td>\n    </tr>\n    <tr>\n      <th>8444</th>\n      <td>1959</td>\n      <td>NaN</td>\n      <td>18</td>\n      <td>20</td>\n      <td>494</td>\n      <td>76</td>\n      <td>2</td>\n      <td>17</td>\n      <td>2</td>\n      <td>3</td>\n      <td>1.0</td>\n      <td>31</td>\n      <td>F</td>\n      <td>PhD</td>\n      <td>Divorced</td>\n      <td>Kind of OK</td>\n    </tr>\n    <tr>\n      <th>8577</th>\n      <td>1977</td>\n      <td>NaN</td>\n      <td>6</td>\n      <td>22</td>\n      <td>76</td>\n      <td>65</td>\n      <td>2</td>\n      <td>22</td>\n      <td>6</td>\n      <td>5</td>\n      <td>1.0</td>\n      <td>33</td>\n      <td>M</td>\n      <td>Master</td>\n      <td>Divorced</td>\n      <td>OK nice!</td>\n    </tr>\n    <tr>\n      <th>8635</th>\n      <td>1976</td>\n      <td>NaN</td>\n      <td>7</td>\n      <td>385</td>\n      <td>15</td>\n      <td>75</td>\n      <td>3</td>\n      <td>20</td>\n      <td>1</td>\n      <td>0</td>\n      <td>1.0</td>\n      <td>58</td>\n      <td>M</td>\n      <td>Graduation</td>\n      <td>Married</td>\n      <td>Kind of OK</td>\n    </tr>\n    <tr>\n      <th>8677</th>\n      <td>1961</td>\n      <td>NaN</td>\n      <td>18</td>\n      <td>77</td>\n      <td>386</td>\n      <td>79</td>\n      <td>2</td>\n      <td>15</td>\n      <td>1</td>\n      <td>3</td>\n      <td>1.0</td>\n      <td>47</td>\n      <td>F</td>\n      <td>Graduation</td>\n      <td>Single</td>\n      <td>OK nice!</td>\n    </tr>\n    <tr>\n      <th>8932</th>\n      <td>1959</td>\n      <td>NaN</td>\n      <td>20</td>\n      <td>71</td>\n      <td>716</td>\n      <td>67</td>\n      <td>5</td>\n      <td>25</td>\n      <td>3</td>\n      <td>1</td>\n      <td>0.0</td>\n      <td>27</td>\n      <td>M</td>\n      <td>Graduation</td>\n      <td>Married</td>\n      <td>Meh...</td>\n    </tr>\n    <tr>\n      <th>8972</th>\n      <td>1976</td>\n      <td>NaN</td>\n      <td>17</td>\n      <td>9</td>\n      <td>254</td>\n      <td>70</td>\n      <td>1</td>\n      <td>28</td>\n      <td>1</td>\n      <td>1</td>\n      <td>1.0</td>\n      <td>59</td>\n      <td>M</td>\n      <td>Graduation</td>\n      <td>Divorced</td>\n      <td>Meh...</td>\n    </tr>\n  </tbody>\n</table>\n</div>"
     },
     "execution_count": 27,
     "metadata": {},
     "output_type": "execute_result"
    }
   ],
   "source": [
    "# Seeing rows with NaNs\n",
    "nans_index = df_neighbors[metric_features].isna().any(axis=1)\n",
    "df_neighbors[nans_index]"
   ]
  },
  {
   "cell_type": "code",
   "execution_count": 30,
   "metadata": {
    "ExecuteTime": {
     "end_time": "2023-10-18T15:09:38.216526Z",
     "start_time": "2023-10-18T15:09:38.160794Z"
    }
   },
   "outputs": [],
   "source": [
    "# KNNImputer - only works for numerical variables. Fill NaNs on df_neighbors\n",
    "imputer = KNNImputer(n_neighbors=5, weights=\"uniform\")\n",
    "# CODE HERE\n",
    "df_neighbors[metric_features] = imputer.fit_transform(df_neighbors[metric_features])"
   ]
  },
  {
   "cell_type": "code",
   "execution_count": 31,
   "metadata": {
    "ExecuteTime": {
     "end_time": "2023-10-18T15:09:49.197690Z",
     "start_time": "2023-10-18T15:09:49.174944Z"
    }
   },
   "outputs": [
    {
     "data": {
      "text/plain": "age                   0\nincome                0\nfrq                   0\nrcn                   0\nmnt                   0\nclothes               0\nkitchen               0\nsmall_appliances      0\ntoys                  0\nhouse_keeping         0\ndependents          282\nper_net_purchase      0\ngender                0\neducation            47\nstatus              177\ndescription           0\ndtype: int64"
     },
     "execution_count": 31,
     "metadata": {},
     "output_type": "execute_result"
    }
   ],
   "source": [
    "# See rows with NaNs imputed\n",
    "# CODE HERE\n",
    "df_neighbors.isna().sum()"
   ]
  },
  {
   "cell_type": "code",
   "execution_count": null,
   "metadata": {},
   "outputs": [],
   "source": [
    "# let's keep the central imputation\n",
    "df = df_central.copy()"
   ]
  },
  {
   "cell_type": "markdown",
   "metadata": {},
   "source": [
    "## An overview of our previous data exploration\n",
    "\n",
    "You can also explore this dataset using the exported `pandas-profiling` report.\n",
    "\n"
   ]
  },
  {
   "cell_type": "markdown",
   "metadata": {},
   "source": [
    "\n",
    "![](../figures/exp_analysis/categorical_variables_frequecies.png)\n",
    "\n",
    "![](../figures/exp_analysis/numeric_variables_histograms.png)\n",
    "\n",
    "![](../figures/exp_analysis/numeric_variables_boxplots.png)\n",
    "\n",
    "![](../figures/exp_analysis/pairwise_relationship_of_numerical_variables.png)\n",
    "\n",
    "![](../figures/exp_analysis/correlation_matrix.png)"
   ]
  },
  {
   "cell_type": "markdown",
   "metadata": {},
   "source": [
    "## Outlier removal\n",
    "\n",
    "Why do we need to remove outliers? Which methods can we use?\n",
    "\n",
    "\n",
    "Let's start by \"manually\" filtering the dataset's outliers"
   ]
  },
  {
   "cell_type": "code",
   "execution_count": 38,
   "metadata": {
    "ExecuteTime": {
     "end_time": "2023-10-18T15:26:56.906773Z",
     "start_time": "2023-10-18T15:26:56.876747Z"
    }
   },
   "outputs": [],
   "source": [
    "# This may vary from session to session, and is prone to varying interpretations.\n",
    "# A simple example is provided below:\n",
    "\n",
    "filters1 = (\n",
    "    (df['house_keeping'] < 50) &\n",
    "    (df['toys'] < 50) &\n",
    "    (df['kitchen'] < 50) &\n",
    "    (df['education'] != 'OldSchool') &\n",
    "    (df['status'] != 'Whatever')\n",
    ")\n",
    "\n",
    "df_1 = df[filters1]"
   ]
  },
  {
   "cell_type": "code",
   "execution_count": 39,
   "metadata": {
    "ExecuteTime": {
     "end_time": "2023-10-18T15:26:58.608118Z",
     "start_time": "2023-10-18T15:26:58.582831Z"
    }
   },
   "outputs": [
    {
     "name": "stdout",
     "output_type": "stream",
     "text": [
      "Percentage of data kept after removing outliers: 0.9912\n"
     ]
    }
   ],
   "source": [
    "print('Percentage of data kept after removing outliers:', np.round(df_1.shape[0] / df_original.shape[0], 4))"
   ]
  },
  {
   "cell_type": "markdown",
   "source": [
    "### Outlier removal using only the IQR method\n",
    "\n",
    "Why should you use/not use this method?"
   ],
   "metadata": {
    "collapsed": false
   }
  },
  {
   "cell_type": "code",
   "execution_count": 43,
   "outputs": [
    {
     "name": "stdout",
     "output_type": "stream",
     "text": [
      "Percentage of data kept after removing outliers: 0.8195\n"
     ]
    }
   ],
   "source": [
    "# Compute the IQR\n",
    "\n",
    "# CODE HERE\n",
    "# Calculate Q1, Q3, IQR\n",
    "q25 = df[metric_features].quantile(0.25)\n",
    "q75 = df[metric_features].quantile(0.75)\n",
    "iqr = q75 - q25\n",
    "\n",
    "# Compute upper and lower limit (lower_limit = Q1 -1.5*IQR | upper_limit = Q3 + 1.5*IQR)\n",
    "upper_lim = q75 + 1.5 * iqr\n",
    "lower_lim = q25 - 1.5 * iqr\n",
    "\n",
    "\n",
    "filters2 = []\n",
    "for metric in metric_features:\n",
    "    llim = lower_lim[metric]\n",
    "    ulim = upper_lim[metric]\n",
    "    filters2.append(df[metric].between(llim, ulim, inclusive='both'))\n",
    "\n",
    "df_2 = df[np.all(filters2, 0)]\n",
    "print('Percentage of data kept after removing outliers:', np.round(df_2.shape[0] / df_original.shape[0], 4))"
   ],
   "metadata": {
    "collapsed": false,
    "ExecuteTime": {
     "start_time": "2023-10-18T15:30:53.166588Z"
    }
   }
  },
  {
   "cell_type": "code",
   "execution_count": null,
   "metadata": {},
   "outputs": [],
   "source": []
  },
  {
   "cell_type": "markdown",
   "metadata": {},
   "source": [
    "## Combining different outlier methods\n",
    "\n",
    "More robust/ consistent outlier detection method:"
   ]
  },
  {
   "cell_type": "code",
   "execution_count": 45,
   "metadata": {
    "ExecuteTime": {
     "end_time": "2023-10-18T15:36:39.035575Z",
     "start_time": "2023-10-18T15:36:39.014279Z"
    }
   },
   "outputs": [
    {
     "name": "stdout",
     "output_type": "stream",
     "text": [
      "Percentage of data kept after removing outliers: 0.9912\n"
     ]
    }
   ],
   "source": [
    "df_3 = df[(filters1 | np.all(filters2))]\n",
    "print('Percentage of data kept after removing outliers:', np.round(df_3.shape[0] / df_original.shape[0], 4))"
   ]
  },
  {
   "cell_type": "code",
   "execution_count": 46,
   "metadata": {
    "ExecuteTime": {
     "end_time": "2023-10-18T15:37:18.043757Z",
     "start_time": "2023-10-18T15:37:18.012242Z"
    }
   },
   "outputs": [],
   "source": [
    "# Get the manual filtering version\n",
    "df = df_1.copy()"
   ]
  },
  {
   "cell_type": "markdown",
   "metadata": {},
   "source": [
    "## Feature Engineering\n",
    "\n",
    "A reminder of our metadata:\n",
    "- *id* - The unique identifier of the customer\n",
    "- *age* - The year of birht of the customer\n",
    "- *income* - The income of the customer\n",
    "- *frq* - Frequency: number of purchases made by the customer\n",
    "- *rcn* - Recency: number of days since last customer purchase\n",
    "- *mnt* - Monetary: amount of € spent by the customer in purchases\n",
    "- *clothes* - Number of clothes items purchased by the customer\n",
    "- *kitchen* - Number of kitchen items purchased by the customer\n",
    "- *small_appliances* - Number of small_appliances items purchased by the customer\n",
    "- *toys* - Number of toys items purchased by the customer\n",
    "- *house_keeping* - Number of house_keeping items purchased by the customer\n",
    "- *dependents* - Binary. Whether or not the customer has dependents\n",
    "- *per_net_purchase* - Percentage of purchases made online\n",
    "- *education* - Education level of the customer\n",
    "- *status* - Marital status of the customer\n",
    "- *gender* - Gender of the customer\n",
    "- *description* - Last customer's recommendation description"
   ]
  },
  {
   "cell_type": "code",
   "execution_count": 49,
   "metadata": {
    "ExecuteTime": {
     "end_time": "2023-10-18T15:39:43.735713Z",
     "start_time": "2023-10-18T15:39:43.717316Z"
    }
   },
   "outputs": [
    {
     "data": {
      "text/plain": "      birth_year    income  frq  rcn   mnt  clothes  kitchen  \\\n0           1946   90782.0   33   66  1402       37        5   \n1           1936  113023.0   32    6  1537       55        1   \n2           1990   28344.0   11   69    44       32       19   \n3           1955   93571.0   26   10   888       60       10   \n4           1955   91852.0   31   26  1138       59        5   \n...          ...       ...  ...  ...   ...      ...      ...   \n8993        1960   94367.0   28    1   896       68        5   \n8994        1975   58121.0   12    6    61       53        6   \n8995        1986   54292.0   29   72  1011       41       11   \n8996        1938  125962.0   38   75  1668       61        2   \n8997        1994   26385.0    9   24    46        5       13   \n\n      small_appliances  toys  house_keeping  dependents  per_net_purchase  \\\n0                   44    10              3         0.0                19   \n1                   38     4              2         0.0                 9   \n2                   24     1             24         1.0                59   \n3                   19     6              5         1.0                35   \n4                   28     4              4         1.0                34   \n...                ...   ...            ...         ...               ...   \n8993                21     3              4         1.0                55   \n8994                28     7              6         1.0                71   \n8995                36     1             11         0.0                31   \n8996                25     5              6         1.0                45   \n8997                21    46             15         1.0                52   \n\n     gender   education    status      description  \n0         M  Graduation  Together  Take my money!!  \n1         F         PhD  Divorced  Take my money!!  \n2         M  Graduation   Married       Kind of OK  \n3         F      Master       NaN         OK nice!  \n4         F  Graduation  Together  Take my money!!  \n...     ...         ...       ...              ...  \n8993      F   1st Cycle    Single  Take my money!!  \n8994      M   2nd Cycle    Single           Meh...  \n8995      M  Graduation  Together  Take my money!!  \n8996      M   2nd Cycle   Married  Take my money!!  \n8997      M   1st Cycle    Single       Kind of OK  \n\n[8919 rows x 16 columns]",
      "text/html": "<div>\n<style scoped>\n    .dataframe tbody tr th:only-of-type {\n        vertical-align: middle;\n    }\n\n    .dataframe tbody tr th {\n        vertical-align: top;\n    }\n\n    .dataframe thead th {\n        text-align: right;\n    }\n</style>\n<table border=\"1\" class=\"dataframe\">\n  <thead>\n    <tr style=\"text-align: right;\">\n      <th></th>\n      <th>birth_year</th>\n      <th>income</th>\n      <th>frq</th>\n      <th>rcn</th>\n      <th>mnt</th>\n      <th>clothes</th>\n      <th>kitchen</th>\n      <th>small_appliances</th>\n      <th>toys</th>\n      <th>house_keeping</th>\n      <th>dependents</th>\n      <th>per_net_purchase</th>\n      <th>gender</th>\n      <th>education</th>\n      <th>status</th>\n      <th>description</th>\n    </tr>\n  </thead>\n  <tbody>\n    <tr>\n      <th>0</th>\n      <td>1946</td>\n      <td>90782.0</td>\n      <td>33</td>\n      <td>66</td>\n      <td>1402</td>\n      <td>37</td>\n      <td>5</td>\n      <td>44</td>\n      <td>10</td>\n      <td>3</td>\n      <td>0.0</td>\n      <td>19</td>\n      <td>M</td>\n      <td>Graduation</td>\n      <td>Together</td>\n      <td>Take my money!!</td>\n    </tr>\n    <tr>\n      <th>1</th>\n      <td>1936</td>\n      <td>113023.0</td>\n      <td>32</td>\n      <td>6</td>\n      <td>1537</td>\n      <td>55</td>\n      <td>1</td>\n      <td>38</td>\n      <td>4</td>\n      <td>2</td>\n      <td>0.0</td>\n      <td>9</td>\n      <td>F</td>\n      <td>PhD</td>\n      <td>Divorced</td>\n      <td>Take my money!!</td>\n    </tr>\n    <tr>\n      <th>2</th>\n      <td>1990</td>\n      <td>28344.0</td>\n      <td>11</td>\n      <td>69</td>\n      <td>44</td>\n      <td>32</td>\n      <td>19</td>\n      <td>24</td>\n      <td>1</td>\n      <td>24</td>\n      <td>1.0</td>\n      <td>59</td>\n      <td>M</td>\n      <td>Graduation</td>\n      <td>Married</td>\n      <td>Kind of OK</td>\n    </tr>\n    <tr>\n      <th>3</th>\n      <td>1955</td>\n      <td>93571.0</td>\n      <td>26</td>\n      <td>10</td>\n      <td>888</td>\n      <td>60</td>\n      <td>10</td>\n      <td>19</td>\n      <td>6</td>\n      <td>5</td>\n      <td>1.0</td>\n      <td>35</td>\n      <td>F</td>\n      <td>Master</td>\n      <td>NaN</td>\n      <td>OK nice!</td>\n    </tr>\n    <tr>\n      <th>4</th>\n      <td>1955</td>\n      <td>91852.0</td>\n      <td>31</td>\n      <td>26</td>\n      <td>1138</td>\n      <td>59</td>\n      <td>5</td>\n      <td>28</td>\n      <td>4</td>\n      <td>4</td>\n      <td>1.0</td>\n      <td>34</td>\n      <td>F</td>\n      <td>Graduation</td>\n      <td>Together</td>\n      <td>Take my money!!</td>\n    </tr>\n    <tr>\n      <th>...</th>\n      <td>...</td>\n      <td>...</td>\n      <td>...</td>\n      <td>...</td>\n      <td>...</td>\n      <td>...</td>\n      <td>...</td>\n      <td>...</td>\n      <td>...</td>\n      <td>...</td>\n      <td>...</td>\n      <td>...</td>\n      <td>...</td>\n      <td>...</td>\n      <td>...</td>\n      <td>...</td>\n    </tr>\n    <tr>\n      <th>8993</th>\n      <td>1960</td>\n      <td>94367.0</td>\n      <td>28</td>\n      <td>1</td>\n      <td>896</td>\n      <td>68</td>\n      <td>5</td>\n      <td>21</td>\n      <td>3</td>\n      <td>4</td>\n      <td>1.0</td>\n      <td>55</td>\n      <td>F</td>\n      <td>1st Cycle</td>\n      <td>Single</td>\n      <td>Take my money!!</td>\n    </tr>\n    <tr>\n      <th>8994</th>\n      <td>1975</td>\n      <td>58121.0</td>\n      <td>12</td>\n      <td>6</td>\n      <td>61</td>\n      <td>53</td>\n      <td>6</td>\n      <td>28</td>\n      <td>7</td>\n      <td>6</td>\n      <td>1.0</td>\n      <td>71</td>\n      <td>M</td>\n      <td>2nd Cycle</td>\n      <td>Single</td>\n      <td>Meh...</td>\n    </tr>\n    <tr>\n      <th>8995</th>\n      <td>1986</td>\n      <td>54292.0</td>\n      <td>29</td>\n      <td>72</td>\n      <td>1011</td>\n      <td>41</td>\n      <td>11</td>\n      <td>36</td>\n      <td>1</td>\n      <td>11</td>\n      <td>0.0</td>\n      <td>31</td>\n      <td>M</td>\n      <td>Graduation</td>\n      <td>Together</td>\n      <td>Take my money!!</td>\n    </tr>\n    <tr>\n      <th>8996</th>\n      <td>1938</td>\n      <td>125962.0</td>\n      <td>38</td>\n      <td>75</td>\n      <td>1668</td>\n      <td>61</td>\n      <td>2</td>\n      <td>25</td>\n      <td>5</td>\n      <td>6</td>\n      <td>1.0</td>\n      <td>45</td>\n      <td>M</td>\n      <td>2nd Cycle</td>\n      <td>Married</td>\n      <td>Take my money!!</td>\n    </tr>\n    <tr>\n      <th>8997</th>\n      <td>1994</td>\n      <td>26385.0</td>\n      <td>9</td>\n      <td>24</td>\n      <td>46</td>\n      <td>5</td>\n      <td>13</td>\n      <td>21</td>\n      <td>46</td>\n      <td>15</td>\n      <td>1.0</td>\n      <td>52</td>\n      <td>M</td>\n      <td>1st Cycle</td>\n      <td>Single</td>\n      <td>Kind of OK</td>\n    </tr>\n  </tbody>\n</table>\n<p>8919 rows × 16 columns</p>\n</div>"
     },
     "execution_count": 49,
     "metadata": {},
     "output_type": "execute_result"
    }
   ],
   "source": [
    "# Try to pull as many features as you can; You can always drop them later on\n",
    "# You can start by converting the 'age' variable to the actual age\n",
    "# You can also store the birth year in another feature\n",
    "\n",
    "# CODE HERE\n",
    "df_ = df.copy()\n",
    "df_.rename(columns={\"age\": \"birth_year\"}, inplace=True)\n",
    "\n",
    "df_"
   ]
  },
  {
   "cell_type": "code",
   "execution_count": null,
   "metadata": {},
   "outputs": [],
   "source": []
  },
  {
   "cell_type": "markdown",
   "metadata": {},
   "source": [
    "## Variable transform\n",
    "You may change the values of observations for a give variable:"
   ]
  },
  {
   "cell_type": "code",
   "execution_count": null,
   "metadata": {},
   "outputs": [],
   "source": [
    "# Remember the 'rcn' variable had an odd behavior? \n",
    "# This is the time to fix that\n",
    "\n",
    "# CODE HERE"
   ]
  },
  {
   "cell_type": "markdown",
   "metadata": {},
   "source": [
    "## Variable selection: Redundancy VS Relevancy"
   ]
  },
  {
   "cell_type": "markdown",
   "metadata": {},
   "source": [
    "### Redundancy: Handling highly correlated variables\n",
    "\n",
    "We already saw our original correlation matrix:\n",
    "\n",
    "![](../figures/exp_analysis/correlation_matrix.png)"
   ]
  },
  {
   "cell_type": "code",
   "execution_count": null,
   "metadata": {},
   "outputs": [],
   "source": [
    "# Select variables according to their correlations\n",
    "\n",
    "# CODE HERE\n",
    "df.drop(..., inplace=True)\n"
   ]
  },
  {
   "cell_type": "code",
   "execution_count": null,
   "metadata": {},
   "outputs": [],
   "source": [
    "# Updating metric_features\n",
    "\n",
    "metric_features.append()\n",
    "metric_features.remove()\n",
    "\n",
    "metric_features\n"
   ]
  },
  {
   "cell_type": "markdown",
   "metadata": {
    "jp-MarkdownHeadingCollapsed": true
   },
   "source": [
    "### Relevancy\n",
    "Selecting variables based on the relevancy of each one to the task. Example: remove uncorrelated variables with the target, stepwise regression, use variables for product clustering, use variables for socio-demographic clustering, ...\n",
    "\n",
    "Variables that aren't correlated with any other variable are often also not relevant. In this case we will not focus on this a lot since we don't have a defined task yet."
   ]
  },
  {
   "cell_type": "markdown",
   "metadata": {},
   "source": [
    "## Redo data exploration\n",
    "\n",
    "Check if the data looks the way you expect it to. \n",
    "\n",
    "- Have you missed some outliers? \n",
    "- Are there still missing values?\n",
    "- Is the data normalized?\n",
    "\n",
    "This is an iterative process. It is likely you will change your preprocessing steps frequently throughout your group work."
   ]
  },
  {
   "cell_type": "code",
   "execution_count": null,
   "metadata": {},
   "outputs": [],
   "source": [
    "ProfileReport(\n",
    "    df,\n",
    "    title='Tugas Customer Data Preprocessed',\n",
    "    correlations={\n",
    "        \"pearson\": {\"calculate\": True},\n",
    "        \"spearman\": {\"calculate\": False},\n",
    "        \"kendall\": {\"calculate\": False},\n",
    "        \"phi_k\": {\"calculate\": False},\n",
    "        \"cramers\": {\"calculate\": False},\n",
    "    },\n",
    ")"
   ]
  }
 ],
 "metadata": {
  "kernelspec": {
   "display_name": "Python 3 (ipykernel)",
   "language": "python",
   "name": "python3"
  },
  "language_info": {
   "codemirror_mode": {
    "name": "ipython",
    "version": 3
   },
   "file_extension": ".py",
   "mimetype": "text/x-python",
   "name": "python",
   "nbconvert_exporter": "python",
   "pygments_lexer": "ipython3",
   "version": "3.11.5"
  }
 },
 "nbformat": 4,
 "nbformat_minor": 4
}
