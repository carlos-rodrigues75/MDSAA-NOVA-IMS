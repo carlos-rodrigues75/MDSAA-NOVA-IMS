{
 "cells": [
  {
   "cell_type": "markdown",
   "metadata": {},
   "source": [
    "<b><font size=\"6\">Instance Based Learning</font><a class=\"anchor\"><a id='toc'></a></b><br>"
   ]
  },
  {
   "cell_type": "markdown",
   "metadata": {},
   "source": [
    "In this notebook we are going to apply Instance Based Classifiers in Python."
   ]
  },
  {
   "cell_type": "markdown",
   "metadata": {},
   "source": [
    "<div class=\"alert alert-block alert-info\">\n",
    "    \n",
    "# TOC<a class=\"anchor\"><a id='toc'></a></b><br>\n",
    "* [<font color='#E8800A'>1. KNN Classifier</font>](#first-bullet) <br>\n",
    "    - 1.1. Methods\n",
    "    - 1.2. Changing the number of neighbors\n",
    "    - 1.3. Changing the algorithm : Brute Force Vs. KDTree\n",
    "    - 1.4. Change the distance metric\n",
    "    - 1.5. Using a Weighted Distance\n",
    "- [<font color='#E8800A'>2. KNN Imputer</font>](#third-bullet)<br>\n",
    "- [<font color='#E8800A'>3. KNN Regression (EXERCISE)</font>](#second-bullet)<br>\n",
    "    - 3.1. Methods\n",
    "</div>"
   ]
  },
  {
   "cell_type": "markdown",
   "metadata": {},
   "source": [
    "# <font color='#E8800A'>1. KNN Classifier</font> <a class=\"anchor\" id=\"first-bullet\"></a>\n",
    "  [Back to TOC](#toc)\n",
    "  \n",
    "In the classification problem, we are going to use the Iris dataset - this is perhaps the best known database to be found in the pattern recognition literature. The attributes in the dataset are:\n",
    "\n",
    "- __SepalLengthCm:__ sepal length in cm\n",
    "- __SepalWidthCm:__ sepal width in cm\n",
    "- __PetalLengthCm:__ petal length in cm\n",
    "- __PetalWidthCm:__ petal width in cm\n",
    "- __Target:__ Iris Setosa(Class 0), Iris Versicolour (Class 1), Iris Virginica (Class 2)\n",
    "\n",
    "\n",
    "<img src=\"Images/iris.png\" style=\"height:300px\">"
   ]
  },
  {
   "cell_type": "markdown",
   "metadata": {},
   "source": [
    "__Step 1:__ Import KNeighborsClassifier from sklearn.neighbors"
   ]
  },
  {
   "cell_type": "code",
   "execution_count": 1,
   "metadata": {
    "ExecuteTime": {
     "end_time": "2023-10-31T14:27:22.438800Z",
     "start_time": "2023-10-31T14:27:15.161826Z"
    }
   },
   "outputs": [],
   "source": [
    "from sklearn.neighbors import KNeighborsClassifier"
   ]
  },
  {
   "cell_type": "markdown",
   "metadata": {},
   "source": [
    "__Step 2:__ Import Iris Dataset and check the structure of this dataset"
   ]
  },
  {
   "cell_type": "code",
   "execution_count": 21,
   "metadata": {
    "ExecuteTime": {
     "end_time": "2023-10-31T14:31:02.124680Z",
     "start_time": "2023-10-31T14:31:02.084691Z"
    }
   },
   "outputs": [
    {
     "data": {
      "text/html": [
       "<div>\n",
       "<style scoped>\n",
       "    .dataframe tbody tr th:only-of-type {\n",
       "        vertical-align: middle;\n",
       "    }\n",
       "\n",
       "    .dataframe tbody tr th {\n",
       "        vertical-align: top;\n",
       "    }\n",
       "\n",
       "    .dataframe thead th {\n",
       "        text-align: right;\n",
       "    }\n",
       "</style>\n",
       "<table border=\"1\" class=\"dataframe\">\n",
       "  <thead>\n",
       "    <tr style=\"text-align: right;\">\n",
       "      <th></th>\n",
       "      <th>SepalLengthCm</th>\n",
       "      <th>SepalWidthCm</th>\n",
       "      <th>PetalLengthCm</th>\n",
       "      <th>PetalWidthCm</th>\n",
       "      <th>Target</th>\n",
       "    </tr>\n",
       "  </thead>\n",
       "  <tbody>\n",
       "    <tr>\n",
       "      <th>0</th>\n",
       "      <td>5.1</td>\n",
       "      <td>3.5</td>\n",
       "      <td>1.4</td>\n",
       "      <td>0.2</td>\n",
       "      <td>0</td>\n",
       "    </tr>\n",
       "    <tr>\n",
       "      <th>1</th>\n",
       "      <td>4.9</td>\n",
       "      <td>3.0</td>\n",
       "      <td>1.4</td>\n",
       "      <td>0.2</td>\n",
       "      <td>0</td>\n",
       "    </tr>\n",
       "    <tr>\n",
       "      <th>2</th>\n",
       "      <td>4.7</td>\n",
       "      <td>3.2</td>\n",
       "      <td>1.3</td>\n",
       "      <td>0.2</td>\n",
       "      <td>0</td>\n",
       "    </tr>\n",
       "    <tr>\n",
       "      <th>3</th>\n",
       "      <td>4.6</td>\n",
       "      <td>3.1</td>\n",
       "      <td>1.5</td>\n",
       "      <td>0.2</td>\n",
       "      <td>0</td>\n",
       "    </tr>\n",
       "    <tr>\n",
       "      <th>4</th>\n",
       "      <td>5.0</td>\n",
       "      <td>3.6</td>\n",
       "      <td>1.4</td>\n",
       "      <td>0.2</td>\n",
       "      <td>0</td>\n",
       "    </tr>\n",
       "  </tbody>\n",
       "</table>\n",
       "</div>"
      ],
      "text/plain": [
       "   SepalLengthCm  SepalWidthCm  PetalLengthCm  PetalWidthCm  Target\n",
       "0            5.1           3.5            1.4           0.2       0\n",
       "1            4.9           3.0            1.4           0.2       0\n",
       "2            4.7           3.2            1.3           0.2       0\n",
       "3            4.6           3.1            1.5           0.2       0\n",
       "4            5.0           3.6            1.4           0.2       0"
      ]
     },
     "execution_count": 21,
     "metadata": {},
     "output_type": "execute_result"
    }
   ],
   "source": [
    "import pandas as pd\n",
    "import numpy as np\n",
    "iris = pd.read_csv('Iris.csv')\n",
    "iris.head()"
   ]
  },
  {
   "cell_type": "markdown",
   "metadata": {},
   "source": [
    "__Step 3:__ Assign to the object `data` the values from iris excepting the dependent variable and assign to the object `target` the independent variable."
   ]
  },
  {
   "cell_type": "code",
   "execution_count": 3,
   "metadata": {
    "ExecuteTime": {
     "end_time": "2023-10-31T14:27:22.675530Z",
     "start_time": "2023-10-31T14:27:22.672632Z"
    }
   },
   "outputs": [],
   "source": [
    "data = iris.drop(['Target'], axis=1)\n",
    "target = iris['Target']"
   ]
  },
  {
   "cell_type": "markdown",
   "metadata": {},
   "source": [
    "__Step 4:__ Import train_test_split from sklearn.model_selection and split the dataset tugas into X_train, X_val, y_train and y_val, defining `train_size` as 0.75 , `random_state`equal to 5 and `stratify` by the target."
   ]
  },
  {
   "cell_type": "code",
   "execution_count": 4,
   "metadata": {
    "ExecuteTime": {
     "end_time": "2023-10-31T14:27:22.683889Z",
     "start_time": "2023-10-31T14:27:22.676801Z"
    }
   },
   "outputs": [],
   "source": [
    "from sklearn.model_selection import train_test_split\n",
    "X_train, X_val, y_train, y_val = train_test_split(data, target, train_size=0.75, random_state=5, stratify=target)"
   ]
  },
  {
   "cell_type": "markdown",
   "metadata": {},
   "source": [
    "__Step 5:__ Using KNeighborsClassifier, create a Nearest Neighbor classifier instance called modelKNN."
   ]
  },
  {
   "cell_type": "code",
   "execution_count": 5,
   "metadata": {
    "ExecuteTime": {
     "end_time": "2023-10-31T14:27:22.684502Z",
     "start_time": "2023-10-31T14:27:22.680544Z"
    }
   },
   "outputs": [],
   "source": [
    "modelKNN = KNeighborsClassifier()"
   ]
  },
  {
   "cell_type": "markdown",
   "metadata": {},
   "source": [
    "### 1.1. Methods in KNeighborsClassifier"
   ]
  },
  {
   "cell_type": "markdown",
   "metadata": {},
   "source": [
    "__Step 6:__ Use the `.fit()`method of model to fit the model to the array of points `X_train` and `y_train`,i.e., associate the argument keyword `X` to `X_train` and `y` to `y_train`."
   ]
  },
  {
   "cell_type": "code",
   "execution_count": 6,
   "metadata": {
    "ExecuteTime": {
     "end_time": "2023-10-31T14:27:22.689065Z",
     "start_time": "2023-10-31T14:27:22.684190Z"
    }
   },
   "outputs": [
    {
     "data": {
      "text/html": [
       "<style>#sk-container-id-1 {color: black;}#sk-container-id-1 pre{padding: 0;}#sk-container-id-1 div.sk-toggleable {background-color: white;}#sk-container-id-1 label.sk-toggleable__label {cursor: pointer;display: block;width: 100%;margin-bottom: 0;padding: 0.3em;box-sizing: border-box;text-align: center;}#sk-container-id-1 label.sk-toggleable__label-arrow:before {content: \"▸\";float: left;margin-right: 0.25em;color: #696969;}#sk-container-id-1 label.sk-toggleable__label-arrow:hover:before {color: black;}#sk-container-id-1 div.sk-estimator:hover label.sk-toggleable__label-arrow:before {color: black;}#sk-container-id-1 div.sk-toggleable__content {max-height: 0;max-width: 0;overflow: hidden;text-align: left;background-color: #f0f8ff;}#sk-container-id-1 div.sk-toggleable__content pre {margin: 0.2em;color: black;border-radius: 0.25em;background-color: #f0f8ff;}#sk-container-id-1 input.sk-toggleable__control:checked~div.sk-toggleable__content {max-height: 200px;max-width: 100%;overflow: auto;}#sk-container-id-1 input.sk-toggleable__control:checked~label.sk-toggleable__label-arrow:before {content: \"▾\";}#sk-container-id-1 div.sk-estimator input.sk-toggleable__control:checked~label.sk-toggleable__label {background-color: #d4ebff;}#sk-container-id-1 div.sk-label input.sk-toggleable__control:checked~label.sk-toggleable__label {background-color: #d4ebff;}#sk-container-id-1 input.sk-hidden--visually {border: 0;clip: rect(1px 1px 1px 1px);clip: rect(1px, 1px, 1px, 1px);height: 1px;margin: -1px;overflow: hidden;padding: 0;position: absolute;width: 1px;}#sk-container-id-1 div.sk-estimator {font-family: monospace;background-color: #f0f8ff;border: 1px dotted black;border-radius: 0.25em;box-sizing: border-box;margin-bottom: 0.5em;}#sk-container-id-1 div.sk-estimator:hover {background-color: #d4ebff;}#sk-container-id-1 div.sk-parallel-item::after {content: \"\";width: 100%;border-bottom: 1px solid gray;flex-grow: 1;}#sk-container-id-1 div.sk-label:hover label.sk-toggleable__label {background-color: #d4ebff;}#sk-container-id-1 div.sk-serial::before {content: \"\";position: absolute;border-left: 1px solid gray;box-sizing: border-box;top: 0;bottom: 0;left: 50%;z-index: 0;}#sk-container-id-1 div.sk-serial {display: flex;flex-direction: column;align-items: center;background-color: white;padding-right: 0.2em;padding-left: 0.2em;position: relative;}#sk-container-id-1 div.sk-item {position: relative;z-index: 1;}#sk-container-id-1 div.sk-parallel {display: flex;align-items: stretch;justify-content: center;background-color: white;position: relative;}#sk-container-id-1 div.sk-item::before, #sk-container-id-1 div.sk-parallel-item::before {content: \"\";position: absolute;border-left: 1px solid gray;box-sizing: border-box;top: 0;bottom: 0;left: 50%;z-index: -1;}#sk-container-id-1 div.sk-parallel-item {display: flex;flex-direction: column;z-index: 1;position: relative;background-color: white;}#sk-container-id-1 div.sk-parallel-item:first-child::after {align-self: flex-end;width: 50%;}#sk-container-id-1 div.sk-parallel-item:last-child::after {align-self: flex-start;width: 50%;}#sk-container-id-1 div.sk-parallel-item:only-child::after {width: 0;}#sk-container-id-1 div.sk-dashed-wrapped {border: 1px dashed gray;margin: 0 0.4em 0.5em 0.4em;box-sizing: border-box;padding-bottom: 0.4em;background-color: white;}#sk-container-id-1 div.sk-label label {font-family: monospace;font-weight: bold;display: inline-block;line-height: 1.2em;}#sk-container-id-1 div.sk-label-container {text-align: center;}#sk-container-id-1 div.sk-container {/* jupyter's `normalize.less` sets `[hidden] { display: none; }` but bootstrap.min.css set `[hidden] { display: none !important; }` so we also need the `!important` here to be able to override the default hidden behavior on the sphinx rendered scikit-learn.org. See: https://github.com/scikit-learn/scikit-learn/issues/21755 */display: inline-block !important;position: relative;}#sk-container-id-1 div.sk-text-repr-fallback {display: none;}</style><div id=\"sk-container-id-1\" class=\"sk-top-container\"><div class=\"sk-text-repr-fallback\"><pre>KNeighborsClassifier()</pre><b>In a Jupyter environment, please rerun this cell to show the HTML representation or trust the notebook. <br />On GitHub, the HTML representation is unable to render, please try loading this page with nbviewer.org.</b></div><div class=\"sk-container\" hidden><div class=\"sk-item\"><div class=\"sk-estimator sk-toggleable\"><input class=\"sk-toggleable__control sk-hidden--visually\" id=\"sk-estimator-id-1\" type=\"checkbox\" checked><label for=\"sk-estimator-id-1\" class=\"sk-toggleable__label sk-toggleable__label-arrow\">KNeighborsClassifier</label><div class=\"sk-toggleable__content\"><pre>KNeighborsClassifier()</pre></div></div></div></div></div>"
      ],
      "text/plain": [
       "KNeighborsClassifier()"
      ]
     },
     "execution_count": 6,
     "metadata": {},
     "output_type": "execute_result"
    }
   ],
   "source": [
    "# CODE HERE\n",
    "modelKNN.fit(X_train, y_train)"
   ]
  },
  {
   "cell_type": "markdown",
   "metadata": {},
   "source": [
    "__Step 7:__ Use the `.predict()` method of modelKNN to perform classification in `X_train` and assign to the object `labels_train`. Do the same for `X_val` and assign to the object `labels_val`.\n"
   ]
  },
  {
   "cell_type": "code",
   "execution_count": 7,
   "metadata": {
    "ExecuteTime": {
     "end_time": "2023-10-31T14:27:22.741804Z",
     "start_time": "2023-10-31T14:27:22.689463Z"
    }
   },
   "outputs": [
    {
     "data": {
      "text/plain": [
       "array([0, 0, 1, 0, 2, 0, 1, 0, 2, 1, 1, 2, 2, 0, 1, 2, 1, 2, 1, 1, 2, 0,\n",
       "       1, 0, 0, 2, 1, 1, 0, 1, 2, 2, 0, 1, 2, 2, 0, 1])"
      ]
     },
     "execution_count": 7,
     "metadata": {},
     "output_type": "execute_result"
    }
   ],
   "source": [
    "labels_train = modelKNN.predict(X_train)\n",
    "labels_val = modelKNN.predict(X_val)\n",
    "labels_val"
   ]
  },
  {
   "cell_type": "markdown",
   "metadata": {},
   "source": [
    "__Step 8:__ Use the `.predict_proba()` method of modelKNN to obtain the probability estimates for the `X_val`\n"
   ]
  },
  {
   "cell_type": "code",
   "execution_count": 8,
   "metadata": {
    "ExecuteTime": {
     "end_time": "2023-10-31T14:27:22.761190Z",
     "start_time": "2023-10-31T14:27:22.701715Z"
    }
   },
   "outputs": [
    {
     "data": {
      "text/plain": [
       "array([[1. , 0. , 0. ],\n",
       "       [1. , 0. , 0. ],\n",
       "       [0. , 0.6, 0.4],\n",
       "       [1. , 0. , 0. ],\n",
       "       [0. , 0. , 1. ],\n",
       "       [1. , 0. , 0. ],\n",
       "       [0. , 1. , 0. ],\n",
       "       [1. , 0. , 0. ],\n",
       "       [0. , 0. , 1. ],\n",
       "       [0. , 1. , 0. ],\n",
       "       [0. , 1. , 0. ],\n",
       "       [0. , 0. , 1. ],\n",
       "       [0. , 0. , 1. ],\n",
       "       [1. , 0. , 0. ],\n",
       "       [0. , 1. , 0. ],\n",
       "       [0. , 0. , 1. ],\n",
       "       [0. , 1. , 0. ],\n",
       "       [0. , 0. , 1. ],\n",
       "       [0. , 1. , 0. ],\n",
       "       [0. , 1. , 0. ],\n",
       "       [0. , 0. , 1. ],\n",
       "       [1. , 0. , 0. ],\n",
       "       [0. , 1. , 0. ],\n",
       "       [1. , 0. , 0. ],\n",
       "       [1. , 0. , 0. ],\n",
       "       [0. , 0.2, 0.8],\n",
       "       [0. , 1. , 0. ],\n",
       "       [0. , 1. , 0. ],\n",
       "       [1. , 0. , 0. ],\n",
       "       [0. , 0.8, 0.2],\n",
       "       [0. , 0. , 1. ],\n",
       "       [0. , 0. , 1. ],\n",
       "       [1. , 0. , 0. ],\n",
       "       [0. , 1. , 0. ],\n",
       "       [0. , 0. , 1. ],\n",
       "       [0. , 0.4, 0.6],\n",
       "       [1. , 0. , 0. ],\n",
       "       [0. , 1. , 0. ]])"
      ]
     },
     "execution_count": 8,
     "metadata": {},
     "output_type": "execute_result"
    }
   ],
   "source": [
    "modelKNN.predict_proba(X_val)"
   ]
  },
  {
   "cell_type": "markdown",
   "metadata": {},
   "source": [
    "__Step 9:__ Use the `.score()` method of modelKNN to obtain the mean accuracy of the model in the training data and in the validation data."
   ]
  },
  {
   "cell_type": "code",
   "execution_count": 9,
   "metadata": {
    "ExecuteTime": {
     "end_time": "2023-10-31T14:27:22.761773Z",
     "start_time": "2023-10-31T14:27:22.706358Z"
    }
   },
   "outputs": [
    {
     "name": "stdout",
     "output_type": "stream",
     "text": [
      "0.9732142857142857\n",
      "0.9210526315789473\n"
     ]
    },
    {
     "data": {
      "text/plain": [
       "0.9210526315789473"
      ]
     },
     "execution_count": 9,
     "metadata": {},
     "output_type": "execute_result"
    }
   ],
   "source": [
    "# By default, score of KNN return the accuracy\n",
    "print(modelKNN.score(X_train, y_train))\n",
    "print(modelKNN.score(X_val, y_val))\n",
    "\n",
    "# or \n",
    "from sklearn.metrics import accuracy_score\n",
    "accuracy_score(y_val, labels_val)"
   ]
  },
  {
   "cell_type": "markdown",
   "metadata": {},
   "source": [
    "By comparing the results of Step 9 we can verify that the accuracy of the model is higher in the train dataset. We are in a case of overfitting."
   ]
  },
  {
   "cell_type": "markdown",
   "metadata": {},
   "source": [
    "__Step 10:__ Use the `.kneighbors()` method of modelKNN to finds the K-neighbors of a point, and define the arguments `X=X_val`. Using this method, you will obtain an array representing the lengths between a point to the five nearest neighbors, and the indices of the nearest points in the population matrix."
   ]
  },
  {
   "cell_type": "code",
   "execution_count": 10,
   "metadata": {
    "ExecuteTime": {
     "end_time": "2023-10-31T14:27:22.762091Z",
     "start_time": "2023-10-31T14:27:22.714306Z"
    }
   },
   "outputs": [
    {
     "data": {
      "text/plain": [
       "(array([[0.14142136, 0.14142136, 0.17320508, 0.17320508, 0.24494897],\n",
       "        [0.14142136, 0.17320508, 0.17320508, 0.2236068 , 0.2236068 ],\n",
       "        [0.33166248, 0.36055513, 0.37416574, 0.43588989, 0.46904158],\n",
       "        [0.14142136, 0.17320508, 0.2       , 0.2236068 , 0.2236068 ],\n",
       "        [0.1       , 0.31622777, 0.33166248, 0.38729833, 0.43588989],\n",
       "        [0.36055513, 0.54772256, 0.6164414 , 0.64031242, 0.65574385],\n",
       "        [0.14142136, 0.17320508, 0.24494897, 0.37416574, 0.38729833],\n",
       "        [0.14142136, 0.14142136, 0.17320508, 0.24494897, 0.28284271],\n",
       "        [0.89442719, 0.92736185, 0.96436508, 1.22065556, 1.2489996 ],\n",
       "        [0.28284271, 0.31622777, 0.31622777, 0.33166248, 0.34641016],\n",
       "        [0.2       , 0.31622777, 0.43588989, 0.43588989, 0.51961524],\n",
       "        [0.3       , 0.31622777, 0.37416574, 0.37416574, 0.38729833],\n",
       "        [0.52915026, 0.54772256, 0.60827625, 0.80622577, 0.81853528],\n",
       "        [0.14142136, 0.17320508, 0.17320508, 0.2       , 0.26457513],\n",
       "        [0.31622777, 0.42426407, 0.42426407, 0.42426407, 0.47958315],\n",
       "        [0.60827625, 0.678233  , 0.7       , 0.96953597, 1.0198039 ],\n",
       "        [0.14142136, 0.17320508, 0.3       , 0.42426407, 0.4472136 ],\n",
       "        [0.24494897, 0.36055513, 0.46904158, 0.50990195, 0.51961524],\n",
       "        [0.34641016, 0.43588989, 0.46904158, 0.54772256, 0.6164414 ],\n",
       "        [0.38729833, 0.72111026, 0.81853528, 0.97467943, 1.02956301],\n",
       "        [0.24494897, 0.55677644, 0.6164414 , 0.6244998 , 0.6244998 ],\n",
       "        [0.3       , 0.31622777, 0.33166248, 0.41231056, 0.42426407],\n",
       "        [0.42426407, 0.50990195, 0.51961524, 0.53851648, 0.54772256],\n",
       "        [0.        , 0.        , 0.17320508, 0.2       , 0.26457513],\n",
       "        [0.34641016, 0.38729833, 0.38729833, 0.4       , 0.41231056],\n",
       "        [0.14142136, 0.24494897, 0.28284271, 0.3       , 0.36055513],\n",
       "        [0.3       , 0.33166248, 0.36055513, 0.37416574, 0.38729833],\n",
       "        [0.14142136, 0.36055513, 0.64807407, 0.84852814, 0.87749644],\n",
       "        [0.3       , 0.31622777, 0.34641016, 0.36055513, 0.42426407],\n",
       "        [0.73484692, 0.76157731, 0.87749644, 0.88317609, 0.91104336],\n",
       "        [0.37416574, 0.37416574, 0.38729833, 0.38729833, 0.4472136 ],\n",
       "        [0.34641016, 0.50990195, 0.51961524, 0.55677644, 0.70710678],\n",
       "        [0.2       , 0.24494897, 0.3       , 0.3       , 0.36055513],\n",
       "        [0.17320508, 0.2236068 , 0.3       , 0.31622777, 0.31622777],\n",
       "        [0.34641016, 0.37416574, 0.38729833, 0.38729833, 0.42426407],\n",
       "        [0.31622777, 0.41231056, 0.42426407, 0.42426407, 0.51961524],\n",
       "        [0.1       , 0.24494897, 0.24494897, 0.28284271, 0.3       ],\n",
       "        [0.26457513, 0.31622777, 0.34641016, 0.38729833, 0.41231056]]),\n",
       " array([[ 12,  49,  97,  96,  84],\n",
       "        [ 67,  86,  27,  34,  19],\n",
       "        [106, 108,  29,  64,   2],\n",
       "        [ 97,  12,  96,  84,  70],\n",
       "        [ 45,   0,  66,  18, 105],\n",
       "        [ 28,  71,  46,  43,  24],\n",
       "        [101,  13,  63,  99,  85],\n",
       "        [ 49,  12,  96,  61,  48],\n",
       "        [ 26,  17,  44,  68,  78],\n",
       "        [ 41,  83,  11,  38,   5],\n",
       "        [ 75,  92,  53,  58,  20],\n",
       "        [  8,  33,  91,  55,   0],\n",
       "        [ 17,  26,  44,  52,  68],\n",
       "        [  9,  86,  27,   6,  57],\n",
       "        [ 99, 101,  75,  63,  85],\n",
       "        [ 17,  44,  26,  52,  68],\n",
       "        [ 53,  92,  75,  58,   4],\n",
       "        [ 82,  87,  91,  37,  80],\n",
       "        [ 53,  92,   4,  58,  85],\n",
       "        [111,  40,  53,  20,  92],\n",
       "        [ 73,  37,  80,  55, 105],\n",
       "        [ 48,  32,  49,  12,  39],\n",
       "        [  4,  13,  63,  92,  20],\n",
       "        [ 27,  86,   9,  19,  97],\n",
       "        [ 48,  28, 102,  46,  15],\n",
       "        [ 30,  64,  95,  10,  29],\n",
       "        [101,  76,  63,  13,  23],\n",
       "        [111,  40,  53,  20,  92],\n",
       "        [ 34, 103, 100,  50,   6],\n",
       "        [ 98,  20,  75,  62,  36],\n",
       "        [ 37,  82,  80,  73,  55],\n",
       "        [ 52,  44,  78,  17,  91],\n",
       "        [103, 100,  34,  50,  57],\n",
       "        [ 63, 101,  75,  13,  58],\n",
       "        [ 80,   1,  18,  66,  29],\n",
       "        [ 41,  80,  37,   5,  29],\n",
       "        [ 48, 102,  56,  15,  12],\n",
       "        [ 93,  81,  83,  21,  54]]))"
      ]
     },
     "execution_count": 10,
     "metadata": {},
     "output_type": "execute_result"
    }
   ],
   "source": [
    "modelKNN.kneighbors(X = X_val)"
   ]
  },
  {
   "cell_type": "markdown",
   "metadata": {},
   "source": [
    "### 1.2. Change the number of neighbors (k) (default = 5)"
   ]
  },
  {
   "cell_type": "markdown",
   "metadata": {},
   "source": [
    "__Step 11:__ We can change the number of neighbors to consider in order to classify new instances to 3 by creating a new KNN classifier where `n_neighbors=3`. Create a new instance of KNeighborsClassifier named as `modelKNN3` with `n_neighbors=3` and fit to your training data."
   ]
  },
  {
   "cell_type": "code",
   "execution_count": 11,
   "metadata": {
    "ExecuteTime": {
     "end_time": "2023-10-31T14:27:22.779897Z",
     "start_time": "2023-10-31T14:27:22.719571Z"
    }
   },
   "outputs": [],
   "source": [
    "modelKNN3 = KNeighborsClassifier(n_neighbors=3).fit(X_train, y_train)"
   ]
  },
  {
   "cell_type": "markdown",
   "metadata": {},
   "source": [
    "__Step 12:__ Use the `.predict()` method of modelKNN3 to perform classification in `X_train` and assign to the object `labels_train`. Do the same for `X_val` and assign to the object `labels_val`."
   ]
  },
  {
   "cell_type": "code",
   "execution_count": 12,
   "metadata": {
    "ExecuteTime": {
     "end_time": "2023-10-31T14:27:22.780131Z",
     "start_time": "2023-10-31T14:27:22.722595Z"
    }
   },
   "outputs": [],
   "source": [
    "labels_train = modelKNN3.predict(X_train)\n",
    "labels_val = modelKNN3.predict(X_val)"
   ]
  },
  {
   "cell_type": "markdown",
   "metadata": {},
   "source": [
    "__Step 13:__ Use the `.predict_proba()` method of modelKNN5 to obtain the probability estimates for the `X_val`"
   ]
  },
  {
   "cell_type": "code",
   "execution_count": 13,
   "metadata": {
    "ExecuteTime": {
     "end_time": "2023-10-31T14:27:22.780422Z",
     "start_time": "2023-10-31T14:27:22.731810Z"
    }
   },
   "outputs": [
    {
     "data": {
      "text/plain": [
       "array([[1.        , 0.        , 0.        ],\n",
       "       [1.        , 0.        , 0.        ],\n",
       "       [0.        , 0.66666667, 0.33333333],\n",
       "       [1.        , 0.        , 0.        ],\n",
       "       [0.        , 0.        , 1.        ],\n",
       "       [1.        , 0.        , 0.        ],\n",
       "       [0.        , 1.        , 0.        ],\n",
       "       [1.        , 0.        , 0.        ],\n",
       "       [0.        , 0.        , 1.        ],\n",
       "       [0.        , 1.        , 0.        ],\n",
       "       [0.        , 1.        , 0.        ],\n",
       "       [0.        , 0.        , 1.        ],\n",
       "       [0.        , 0.        , 1.        ],\n",
       "       [1.        , 0.        , 0.        ],\n",
       "       [0.        , 1.        , 0.        ],\n",
       "       [0.        , 0.        , 1.        ],\n",
       "       [0.        , 1.        , 0.        ],\n",
       "       [0.        , 0.        , 1.        ],\n",
       "       [0.        , 1.        , 0.        ],\n",
       "       [0.        , 1.        , 0.        ],\n",
       "       [0.        , 0.        , 1.        ],\n",
       "       [1.        , 0.        , 0.        ],\n",
       "       [0.        , 1.        , 0.        ],\n",
       "       [1.        , 0.        , 0.        ],\n",
       "       [1.        , 0.        , 0.        ],\n",
       "       [0.        , 0.        , 1.        ],\n",
       "       [0.        , 1.        , 0.        ],\n",
       "       [0.        , 1.        , 0.        ],\n",
       "       [1.        , 0.        , 0.        ],\n",
       "       [0.        , 1.        , 0.        ],\n",
       "       [0.        , 0.        , 1.        ],\n",
       "       [0.        , 0.        , 1.        ],\n",
       "       [1.        , 0.        , 0.        ],\n",
       "       [0.        , 1.        , 0.        ],\n",
       "       [0.        , 0.        , 1.        ],\n",
       "       [0.        , 0.66666667, 0.33333333],\n",
       "       [1.        , 0.        , 0.        ],\n",
       "       [0.        , 1.        , 0.        ]])"
      ]
     },
     "execution_count": 13,
     "metadata": {},
     "output_type": "execute_result"
    }
   ],
   "source": [
    "# CODE HERE\n",
    "modelKNN3.predict_proba(X_val)"
   ]
  },
  {
   "cell_type": "markdown",
   "metadata": {},
   "source": [
    "__Step 14:__ Use the `.score()` method of modelKNN3 to obtain the mean accuracy of the model in the training and the validation data."
   ]
  },
  {
   "cell_type": "code",
   "execution_count": 14,
   "metadata": {
    "ExecuteTime": {
     "end_time": "2023-10-31T14:27:22.784529Z",
     "start_time": "2023-10-31T14:27:22.737459Z"
    }
   },
   "outputs": [
    {
     "name": "stdout",
     "output_type": "stream",
     "text": [
      "0.9642857142857143\n",
      "0.9473684210526315\n"
     ]
    }
   ],
   "source": [
    "print(modelKNN3.score(X_train, y_train))\n",
    "print(modelKNN3.score(X_val, y_val))"
   ]
  },
  {
   "cell_type": "markdown",
   "metadata": {},
   "source": [
    "\n",
    "<div class=\"alert alert-block alert-success\">\n",
    "\n",
    "### <font color='#900C3F'>!! What is the impact of changing the number of neighbors? !!</font>\n",
    "\n",
    "Compare the results between a KNN model where the number of neighbors is small and when the number of neighbors is large:"
   ]
  },
  {
   "cell_type": "markdown",
   "metadata": {},
   "source": [
    "__Number of Neighbors = 1__"
   ]
  },
  {
   "cell_type": "code",
   "execution_count": 15,
   "metadata": {
    "ExecuteTime": {
     "end_time": "2023-10-31T14:27:22.803946Z",
     "start_time": "2023-10-31T14:27:22.744434Z"
    }
   },
   "outputs": [
    {
     "name": "stdout",
     "output_type": "stream",
     "text": [
      "1.0\n",
      "0.9473684210526315\n"
     ]
    }
   ],
   "source": [
    "modelKNN1 = KNeighborsClassifier(n_neighbors=1).fit(X = X_train, y = y_train)\n",
    "print(modelKNN1.score(X_train, y_train))\n",
    "print(modelKNN1.score(X_val, y_val))"
   ]
  },
  {
   "cell_type": "markdown",
   "metadata": {},
   "source": [
    "__Number of Neighbors = 3__"
   ]
  },
  {
   "cell_type": "code",
   "execution_count": 24,
   "metadata": {
    "ExecuteTime": {
     "end_time": "2023-10-31T14:31:47.685838Z",
     "start_time": "2023-10-31T14:31:47.664146Z"
    }
   },
   "outputs": [
    {
     "name": "stdout",
     "output_type": "stream",
     "text": [
      "0.9642857142857143\n",
      "0.9473684210526315\n"
     ]
    }
   ],
   "source": [
    "modelKNN3 = KNeighborsClassifier(n_neighbors=3).fit(X = X_train, y = y_train)\n",
    "print(modelKNN3.score(X_train, y_train))\n",
    "print(modelKNN3.score(X_val, y_val))"
   ]
  },
  {
   "cell_type": "markdown",
   "metadata": {},
   "source": [
    "__Number of Neighbors = 100__"
   ]
  },
  {
   "cell_type": "code",
   "execution_count": 17,
   "metadata": {
    "ExecuteTime": {
     "end_time": "2023-10-31T14:27:22.965410Z",
     "start_time": "2023-10-31T14:27:22.761437Z"
    }
   },
   "outputs": [
    {
     "name": "stdout",
     "output_type": "stream",
     "text": [
      "0.6517857142857143\n",
      "0.6052631578947368\n"
     ]
    }
   ],
   "source": [
    "modelKNN100 = KNeighborsClassifier(n_neighbors=100).fit(X = X_train, y = y_train)\n",
    "print(modelKNN100.score(X_train, y_train))\n",
    "print(modelKNN100.score(X_val, y_val))"
   ]
  },
  {
   "cell_type": "markdown",
   "metadata": {},
   "source": [
    "__Step 15:__ To identify the optimal number of neighbors to select, create a loop where you test the mean accuracy score in validation, where the number of neighbors range from 1 to 20. Check the number of neighbors to keep and the f1 score in the train and validation for that number of neighbors."
   ]
  },
  {
   "cell_type": "code",
   "execution_count": 22,
   "metadata": {
    "ExecuteTime": {
     "end_time": "2023-10-31T14:31:09.533092Z",
     "start_time": "2023-10-31T14:31:09.441438Z"
    }
   },
   "outputs": [
    {
     "name": "stdout",
     "output_type": "stream",
     "text": [
      "Best number of neighbors: 11\n",
      "Mean accuracy in train with 11 neighbors: 0.973214\n",
      "Mean accuracy in validation with 11 neighbors: 0.973684\n"
     ]
    }
   ],
   "source": [
    "numberK_list=np.arange(1,21)\n",
    "high_score=0\n",
    "nof=0           \n",
    "score_list_train =[]\n",
    "score_list_val =[]\n",
    "for n in numberK_list:\n",
    "    model = KNeighborsClassifier(n_neighbors = n).fit(X_train, y_train)\n",
    "    score_train = model.score(X_train, y_train)\n",
    "    score_val = model.score(X_val, y_val)\n",
    "    score_list_train.append(score_train)\n",
    "    score_list_val.append(score_val)\n",
    "    \n",
    "    if(score_val>high_score):\n",
    "        high_score = score_val\n",
    "        nof = numberK_list[n-1]\n",
    "print(\"Best number of neighbors: %d\" %nof)\n",
    "print(\"Mean accuracy in train with %d neighbors: %f\" % (nof, score_list_train[nof-1]))\n",
    "print(\"Mean accuracy in validation with %d neighbors: %f\" % (nof, high_score))"
   ]
  },
  {
   "cell_type": "markdown",
   "metadata": {},
   "source": [
    "<div class=\"alert alert-block alert-success\">\n",
    "    \n",
    "#### __Conclusion:__ <br>\n",
    "1) A small number of neighbors could lead to overfitting; <br>\n",
    "2) A big number of neighbors can lead to underfitting.<br>"
   ]
  },
  {
   "cell_type": "markdown",
   "metadata": {},
   "source": [
    "### 1.3. Change the algorithm"
   ]
  },
  {
   "cell_type": "markdown",
   "metadata": {},
   "source": [
    "__Step 16:__ We can change the algorithm used from `auto` to a specific option, for example the k-d tree by creating a new KNN classifier where `algorithm='kd_tree'`. The theoretical KNN basic algorithm is considered as a brute-force algorithm (algorithm = 'brute). Let's see the difference in speed, comparing in a bigger dataset the time it takes to train and predict in the traditional method and using KDTree. <br> <br>\n",
    "Create a new instance of KNeighborsClassifier named as `modelKNNT` with `algorithm='kd_tree'` and fit to your training data."
   ]
  },
  {
   "cell_type": "code",
   "execution_count": 26,
   "metadata": {
    "ExecuteTime": {
     "end_time": "2023-10-31T14:36:19.672749Z",
     "start_time": "2023-10-31T14:36:19.625455Z"
    }
   },
   "outputs": [],
   "source": [
    "modelKNNT = KNeighborsClassifier(algorithm='kd_tree').fit(X_train, y_train)"
   ]
  },
  {
   "cell_type": "markdown",
   "metadata": {},
   "source": [
    "__Step 17:__ Use the `.predict()` method of modelKNNT to perform classification in `X_train` and assign to the object `labels_train`. Do the same for `X_val` and assign to the object `labels_val`."
   ]
  },
  {
   "cell_type": "code",
   "execution_count": 27,
   "metadata": {
    "ExecuteTime": {
     "end_time": "2023-10-31T14:36:20.669953Z",
     "start_time": "2023-10-31T14:36:20.641Z"
    }
   },
   "outputs": [],
   "source": [
    "labels_train = modelKNNT.predict(X_train)\n",
    "labels_val = modelKNNT.predict(X_val)"
   ]
  },
  {
   "cell_type": "markdown",
   "metadata": {},
   "source": [
    "__Step 18:__ Use the `.score()` method of modelKNNT to obtain the mean accuracy of the model in the training and the validation data."
   ]
  },
  {
   "cell_type": "code",
   "execution_count": 28,
   "metadata": {
    "ExecuteTime": {
     "end_time": "2023-10-31T14:36:23.115489Z",
     "start_time": "2023-10-31T14:36:23.079791Z"
    }
   },
   "outputs": [
    {
     "name": "stdout",
     "output_type": "stream",
     "text": [
      "0.9732142857142857\n",
      "0.9210526315789473\n"
     ]
    }
   ],
   "source": [
    "print(modelKNNT.score(X_train, y_train))\n",
    "print(modelKNNT.score(X_val, y_val))"
   ]
  },
  {
   "cell_type": "markdown",
   "metadata": {},
   "source": [
    "<div class=\"alert alert-block alert-success\">\n",
    "\n",
    "### <font color='#900C3F'>!! What is the difference between using the traditional KNN and the KDTree? !!</font>\n",
    "\n",
    "Compare the results between a KNN model where the algorithm applied is brute-force and a KDTree in a dataset with 20000 observations:"
   ]
  },
  {
   "cell_type": "code",
   "execution_count": 29,
   "metadata": {
    "ExecuteTime": {
     "end_time": "2023-10-31T14:36:51.957292Z",
     "start_time": "2023-10-31T14:36:51.898894Z"
    }
   },
   "outputs": [],
   "source": [
    "import time\n",
    "new = pd.read_csv('Skin_NonSkin.txt', sep=\"\\t\", header=None)\n",
    "new = new.iloc[:20000,:]\n",
    "data = new.iloc[:,:-1]\n",
    "target = new.iloc[:,-1]"
   ]
  },
  {
   "cell_type": "code",
   "execution_count": 30,
   "metadata": {
    "ExecuteTime": {
     "end_time": "2023-10-31T14:36:53.505988Z",
     "start_time": "2023-10-31T14:36:53.465232Z"
    }
   },
   "outputs": [
    {
     "data": {
      "text/plain": [
       "(20000, 3)"
      ]
     },
     "execution_count": 30,
     "metadata": {},
     "output_type": "execute_result"
    }
   ],
   "source": [
    "data.shape"
   ]
  },
  {
   "cell_type": "markdown",
   "metadata": {},
   "source": [
    "__Algorithm = 'brute'__"
   ]
  },
  {
   "cell_type": "code",
   "execution_count": 31,
   "metadata": {
    "ExecuteTime": {
     "end_time": "2023-10-31T14:37:51.212901Z",
     "start_time": "2023-10-31T14:37:48.194155Z"
    }
   },
   "outputs": [
    {
     "name": "stdout",
     "output_type": "stream",
     "text": [
      "Time: 3.017284870147705\n"
     ]
    }
   ],
   "source": [
    "start = time.time()\n",
    "KNN_brute = KNeighborsClassifier(algorithm = 'brute').fit(data, target)\n",
    "labels_train = KNN_brute.predict(data)\n",
    "print('Time:', time.time()-start)"
   ]
  },
  {
   "cell_type": "markdown",
   "metadata": {},
   "source": [
    "__Algorithm = 'kd_tree'__"
   ]
  },
  {
   "cell_type": "code",
   "execution_count": 32,
   "metadata": {
    "ExecuteTime": {
     "end_time": "2023-10-31T14:37:57.418265Z",
     "start_time": "2023-10-31T14:37:57.214671Z"
    }
   },
   "outputs": [
    {
     "name": "stdout",
     "output_type": "stream",
     "text": [
      "Time: 0.2028799057006836\n"
     ]
    }
   ],
   "source": [
    "start = time.time()\n",
    "KDD_tree = KNeighborsClassifier(algorithm='kd_tree').fit(data, target)\n",
    "labels_train = KDD_tree.predict(data)\n",
    "print('Time:', time.time()-start)"
   ]
  },
  {
   "cell_type": "markdown",
   "metadata": {},
   "source": [
    "<div class=\"alert alert-block alert-success\">\n",
    "    \n",
    "#### __Conclusion:__ <br>\n",
    "In a dataset with only 20000 observations, the KDTree is around 14 times faster than the traditional algorithm."
   ]
  },
  {
   "cell_type": "markdown",
   "metadata": {},
   "source": [
    "### 1.4. Change the distance metric (default = Euclidean)"
   ]
  },
  {
   "cell_type": "markdown",
   "metadata": {},
   "source": [
    "__Step 19:__ We can change the distance used from `Euclidean` to others such as the `Manhattan` distance by creating a new KNN classifier where `metric = \"manhattan\"'`. Note that the default is Minkowski with a default parameter of `p = 2`, so in practice the default distance is Euclidean. <br><br>\n",
    "\n",
    "Create a new instance of KNeighborsClassifier named as `modelKNNM` with `metric = 'manhattan'` and fit to your training data.\n"
   ]
  },
  {
   "cell_type": "code",
   "execution_count": 33,
   "metadata": {
    "ExecuteTime": {
     "end_time": "2023-10-31T14:39:37.290261Z",
     "start_time": "2023-10-31T14:39:37.274615Z"
    }
   },
   "outputs": [],
   "source": [
    "modelKNNM = KNeighborsClassifier(metric = 'manhattan').fit(X = X_train, y = y_train)"
   ]
  },
  {
   "cell_type": "markdown",
   "metadata": {},
   "source": [
    "__Step 20:__ Use the `.predict()` method of modelKNNM to perform classification in `X_train` and assign to the object `labels_train`. Do the same for `X_val` and assign to the object `labels_val`."
   ]
  },
  {
   "cell_type": "code",
   "execution_count": 34,
   "metadata": {
    "ExecuteTime": {
     "end_time": "2023-10-31T14:39:41.139763Z",
     "start_time": "2023-10-31T14:39:41.095092Z"
    }
   },
   "outputs": [],
   "source": [
    "labels_train = modelKNNM.predict(X_train)\n",
    "labels_val = modelKNNM.predict(X_val)"
   ]
  },
  {
   "cell_type": "markdown",
   "metadata": {},
   "source": [
    "__Step 21:__ Use the `.score()` method of modelKNNM to obtain the mean accuracy of the model in the training and the validation data."
   ]
  },
  {
   "cell_type": "code",
   "execution_count": 35,
   "metadata": {
    "ExecuteTime": {
     "end_time": "2023-10-31T14:39:42.890003Z",
     "start_time": "2023-10-31T14:39:42.848132Z"
    }
   },
   "outputs": [
    {
     "name": "stdout",
     "output_type": "stream",
     "text": [
      "0.9642857142857143\n",
      "0.9210526315789473\n"
     ]
    }
   ],
   "source": [
    "print(modelKNNM.score(X_train, y_train))\n",
    "print(modelKNNM.score(X_val, y_val))"
   ]
  },
  {
   "cell_type": "markdown",
   "metadata": {},
   "source": [
    "<div class=\"alert alert-block alert-success\">\n",
    "\n",
    "### <font color='#900C3F'>!!What is the difference between using the Euclidean or Manhattan Distance? !!</font>\n",
    "\n",
    "In https://bib.dbvis.de/uploadedFiles/155.pdf, the authors defend that Manhattan distance may be preferable to Euclidean distance for the case of high dimensional data."
   ]
  },
  {
   "cell_type": "markdown",
   "metadata": {},
   "source": [
    "### 1.5. Distance weighted KNN (default = 'uniform')"
   ]
  },
  {
   "cell_type": "markdown",
   "metadata": {},
   "source": [
    "__Step 22:__ By default, each neighbor will have the same weight in the final prediction (`weights = 'uniform'`). Define the parameter `weights = 'distance'` so the nearest neighbors have more influence/weight on the prediction than the farthest ones. <br> The name of the model is defined as `modelKNNW`. Fit the instance to your training data."
   ]
  },
  {
   "cell_type": "code",
   "execution_count": 38,
   "metadata": {
    "ExecuteTime": {
     "end_time": "2023-10-31T14:43:40.425516Z",
     "start_time": "2023-10-31T14:43:40.383411Z"
    }
   },
   "outputs": [
    {
     "data": {
      "text/html": [
       "<style>#sk-container-id-2 {color: black;}#sk-container-id-2 pre{padding: 0;}#sk-container-id-2 div.sk-toggleable {background-color: white;}#sk-container-id-2 label.sk-toggleable__label {cursor: pointer;display: block;width: 100%;margin-bottom: 0;padding: 0.3em;box-sizing: border-box;text-align: center;}#sk-container-id-2 label.sk-toggleable__label-arrow:before {content: \"▸\";float: left;margin-right: 0.25em;color: #696969;}#sk-container-id-2 label.sk-toggleable__label-arrow:hover:before {color: black;}#sk-container-id-2 div.sk-estimator:hover label.sk-toggleable__label-arrow:before {color: black;}#sk-container-id-2 div.sk-toggleable__content {max-height: 0;max-width: 0;overflow: hidden;text-align: left;background-color: #f0f8ff;}#sk-container-id-2 div.sk-toggleable__content pre {margin: 0.2em;color: black;border-radius: 0.25em;background-color: #f0f8ff;}#sk-container-id-2 input.sk-toggleable__control:checked~div.sk-toggleable__content {max-height: 200px;max-width: 100%;overflow: auto;}#sk-container-id-2 input.sk-toggleable__control:checked~label.sk-toggleable__label-arrow:before {content: \"▾\";}#sk-container-id-2 div.sk-estimator input.sk-toggleable__control:checked~label.sk-toggleable__label {background-color: #d4ebff;}#sk-container-id-2 div.sk-label input.sk-toggleable__control:checked~label.sk-toggleable__label {background-color: #d4ebff;}#sk-container-id-2 input.sk-hidden--visually {border: 0;clip: rect(1px 1px 1px 1px);clip: rect(1px, 1px, 1px, 1px);height: 1px;margin: -1px;overflow: hidden;padding: 0;position: absolute;width: 1px;}#sk-container-id-2 div.sk-estimator {font-family: monospace;background-color: #f0f8ff;border: 1px dotted black;border-radius: 0.25em;box-sizing: border-box;margin-bottom: 0.5em;}#sk-container-id-2 div.sk-estimator:hover {background-color: #d4ebff;}#sk-container-id-2 div.sk-parallel-item::after {content: \"\";width: 100%;border-bottom: 1px solid gray;flex-grow: 1;}#sk-container-id-2 div.sk-label:hover label.sk-toggleable__label {background-color: #d4ebff;}#sk-container-id-2 div.sk-serial::before {content: \"\";position: absolute;border-left: 1px solid gray;box-sizing: border-box;top: 0;bottom: 0;left: 50%;z-index: 0;}#sk-container-id-2 div.sk-serial {display: flex;flex-direction: column;align-items: center;background-color: white;padding-right: 0.2em;padding-left: 0.2em;position: relative;}#sk-container-id-2 div.sk-item {position: relative;z-index: 1;}#sk-container-id-2 div.sk-parallel {display: flex;align-items: stretch;justify-content: center;background-color: white;position: relative;}#sk-container-id-2 div.sk-item::before, #sk-container-id-2 div.sk-parallel-item::before {content: \"\";position: absolute;border-left: 1px solid gray;box-sizing: border-box;top: 0;bottom: 0;left: 50%;z-index: -1;}#sk-container-id-2 div.sk-parallel-item {display: flex;flex-direction: column;z-index: 1;position: relative;background-color: white;}#sk-container-id-2 div.sk-parallel-item:first-child::after {align-self: flex-end;width: 50%;}#sk-container-id-2 div.sk-parallel-item:last-child::after {align-self: flex-start;width: 50%;}#sk-container-id-2 div.sk-parallel-item:only-child::after {width: 0;}#sk-container-id-2 div.sk-dashed-wrapped {border: 1px dashed gray;margin: 0 0.4em 0.5em 0.4em;box-sizing: border-box;padding-bottom: 0.4em;background-color: white;}#sk-container-id-2 div.sk-label label {font-family: monospace;font-weight: bold;display: inline-block;line-height: 1.2em;}#sk-container-id-2 div.sk-label-container {text-align: center;}#sk-container-id-2 div.sk-container {/* jupyter's `normalize.less` sets `[hidden] { display: none; }` but bootstrap.min.css set `[hidden] { display: none !important; }` so we also need the `!important` here to be able to override the default hidden behavior on the sphinx rendered scikit-learn.org. See: https://github.com/scikit-learn/scikit-learn/issues/21755 */display: inline-block !important;position: relative;}#sk-container-id-2 div.sk-text-repr-fallback {display: none;}</style><div id=\"sk-container-id-2\" class=\"sk-top-container\"><div class=\"sk-text-repr-fallback\"><pre>KNeighborsClassifier(weights=&#x27;distance&#x27;)</pre><b>In a Jupyter environment, please rerun this cell to show the HTML representation or trust the notebook. <br />On GitHub, the HTML representation is unable to render, please try loading this page with nbviewer.org.</b></div><div class=\"sk-container\" hidden><div class=\"sk-item\"><div class=\"sk-estimator sk-toggleable\"><input class=\"sk-toggleable__control sk-hidden--visually\" id=\"sk-estimator-id-2\" type=\"checkbox\" checked><label for=\"sk-estimator-id-2\" class=\"sk-toggleable__label sk-toggleable__label-arrow\">KNeighborsClassifier</label><div class=\"sk-toggleable__content\"><pre>KNeighborsClassifier(weights=&#x27;distance&#x27;)</pre></div></div></div></div></div>"
      ],
      "text/plain": [
       "KNeighborsClassifier(weights='distance')"
      ]
     },
     "execution_count": 38,
     "metadata": {},
     "output_type": "execute_result"
    }
   ],
   "source": [
    "# CODE HERE\n",
    "modelKNNW = KNeighborsClassifier(weights=\"distance\")\n",
    "modelKNNW.fit(X_train, y_train)"
   ]
  },
  {
   "cell_type": "markdown",
   "metadata": {},
   "source": [
    "__Step 23:__ Use the `.predict()` method of modelKNNW to perform classification in `X_train` and assign to the object `labels_train`. Do the same for `X_val` and assign to the object `labels_val`."
   ]
  },
  {
   "cell_type": "code",
   "execution_count": 39,
   "metadata": {
    "ExecuteTime": {
     "end_time": "2023-10-31T14:43:42.849033Z",
     "start_time": "2023-10-31T14:43:42.819991Z"
    }
   },
   "outputs": [],
   "source": [
    "labels_train = modelKNNW.predict(X_train)\n",
    "labels_val = modelKNNW.predict(X_val)"
   ]
  },
  {
   "cell_type": "markdown",
   "metadata": {},
   "source": [
    "__Step 24:__ Use the `.predict_proba()` method of modelKNNW to obtain the probability estimates for the `X_val`"
   ]
  },
  {
   "cell_type": "code",
   "execution_count": 40,
   "metadata": {
    "ExecuteTime": {
     "end_time": "2023-10-31T14:43:44.301860Z",
     "start_time": "2023-10-31T14:43:44.269087Z"
    }
   },
   "outputs": [
    {
     "data": {
      "text/plain": [
       "array([[1.        , 0.        , 0.        ],\n",
       "       [1.        , 0.        , 0.        ],\n",
       "       [0.        , 0.6146024 , 0.3853976 ],\n",
       "       [1.        , 0.        , 0.        ],\n",
       "       [0.        , 0.        , 1.        ],\n",
       "       [1.        , 0.        , 0.        ],\n",
       "       [0.        , 1.        , 0.        ],\n",
       "       [1.        , 0.        , 0.        ],\n",
       "       [0.        , 0.        , 1.        ],\n",
       "       [0.        , 1.        , 0.        ],\n",
       "       [0.        , 1.        , 0.        ],\n",
       "       [0.        , 0.        , 1.        ],\n",
       "       [0.        , 0.        , 1.        ],\n",
       "       [1.        , 0.        , 0.        ],\n",
       "       [0.        , 1.        , 0.        ],\n",
       "       [0.        , 0.        , 1.        ],\n",
       "       [0.        , 1.        , 0.        ],\n",
       "       [0.        , 0.        , 1.        ],\n",
       "       [0.        , 1.        , 0.        ],\n",
       "       [0.        , 1.        , 0.        ],\n",
       "       [0.        , 0.        , 1.        ],\n",
       "       [1.        , 0.        , 0.        ],\n",
       "       [0.        , 1.        , 0.        ],\n",
       "       [1.        , 0.        , 0.        ],\n",
       "       [1.        , 0.        , 0.        ],\n",
       "       [0.        , 0.16028786, 0.83971214],\n",
       "       [0.        , 1.        , 0.        ],\n",
       "       [0.        , 1.        , 0.        ],\n",
       "       [1.        , 0.        , 0.        ],\n",
       "       [0.        , 0.81837385, 0.18162615],\n",
       "       [0.        , 0.        , 1.        ],\n",
       "       [0.        , 0.        , 1.        ],\n",
       "       [1.        , 0.        , 0.        ],\n",
       "       [0.        , 1.        , 0.        ],\n",
       "       [0.        , 0.        , 1.        ],\n",
       "       [0.        , 0.45143293, 0.54856707],\n",
       "       [1.        , 0.        , 0.        ],\n",
       "       [0.        , 1.        , 0.        ]])"
      ]
     },
     "execution_count": 40,
     "metadata": {},
     "output_type": "execute_result"
    }
   ],
   "source": [
    "modelKNNW.predict_proba(X_val)"
   ]
  },
  {
   "cell_type": "markdown",
   "metadata": {},
   "source": [
    "__Step 25:__ Use the `.score()` method of modelKNNW to obtain the mean accuracy of the model in the training and the validation data."
   ]
  },
  {
   "cell_type": "code",
   "execution_count": 41,
   "metadata": {
    "ExecuteTime": {
     "end_time": "2023-10-31T14:44:47.001815Z",
     "start_time": "2023-10-31T14:44:46.964167Z"
    }
   },
   "outputs": [
    {
     "name": "stdout",
     "output_type": "stream",
     "text": [
      "1.0\n",
      "0.9210526315789473\n"
     ]
    }
   ],
   "source": [
    "print(modelKNNW.score(X_train, y_train))\n",
    "print(modelKNNW.score(X_val, y_val))"
   ]
  },
  {
   "cell_type": "markdown",
   "metadata": {},
   "source": [
    "# <font color='#E8800A'>2. KNN Imputer</font><a class=\"anchor\" id=\"third-bullet\"></a>\n",
    " [Back to TOC](#toc)"
   ]
  },
  {
   "cell_type": "markdown",
   "metadata": {},
   "source": [
    "When working with real world data, we often encounter missing values in your data set.<br>\n",
    "We can use KNN to handle missing data, for example with the KNN Imputer from sklearn! The imputation for completing missing values using k-Nearest Neighbors is done by using the mean value from n_neighbors nearest neighbors found in the training set. <br>"
   ]
  },
  {
   "cell_type": "markdown",
   "metadata": {},
   "source": [
    "__Step 1:__ Import KNNImputer from sklearn.impute"
   ]
  },
  {
   "cell_type": "code",
   "execution_count": 42,
   "metadata": {
    "ExecuteTime": {
     "end_time": "2023-10-31T14:44:56.636930Z",
     "start_time": "2023-10-31T14:44:56.589767Z"
    }
   },
   "outputs": [],
   "source": [
    "from sklearn.impute import KNNImputer"
   ]
  },
  {
   "cell_type": "markdown",
   "metadata": {},
   "source": [
    "__Step 2:__ Create a simple example dataset with some missing values"
   ]
  },
  {
   "cell_type": "code",
   "execution_count": 43,
   "metadata": {
    "ExecuteTime": {
     "end_time": "2023-10-31T14:45:03.198691Z",
     "start_time": "2023-10-31T14:45:03.150584Z"
    }
   },
   "outputs": [
    {
     "data": {
      "text/html": [
       "<div>\n",
       "<style scoped>\n",
       "    .dataframe tbody tr th:only-of-type {\n",
       "        vertical-align: middle;\n",
       "    }\n",
       "\n",
       "    .dataframe tbody tr th {\n",
       "        vertical-align: top;\n",
       "    }\n",
       "\n",
       "    .dataframe thead th {\n",
       "        text-align: right;\n",
       "    }\n",
       "</style>\n",
       "<table border=\"1\" class=\"dataframe\">\n",
       "  <thead>\n",
       "    <tr style=\"text-align: right;\">\n",
       "      <th></th>\n",
       "      <th>0</th>\n",
       "      <th>1</th>\n",
       "      <th>2</th>\n",
       "    </tr>\n",
       "  </thead>\n",
       "  <tbody>\n",
       "    <tr>\n",
       "      <th>0</th>\n",
       "      <td>1.0</td>\n",
       "      <td>2</td>\n",
       "      <td>NaN</td>\n",
       "    </tr>\n",
       "    <tr>\n",
       "      <th>1</th>\n",
       "      <td>3.0</td>\n",
       "      <td>4</td>\n",
       "      <td>3.0</td>\n",
       "    </tr>\n",
       "    <tr>\n",
       "      <th>2</th>\n",
       "      <td>NaN</td>\n",
       "      <td>6</td>\n",
       "      <td>5.0</td>\n",
       "    </tr>\n",
       "    <tr>\n",
       "      <th>3</th>\n",
       "      <td>8.0</td>\n",
       "      <td>8</td>\n",
       "      <td>7.0</td>\n",
       "    </tr>\n",
       "    <tr>\n",
       "      <th>4</th>\n",
       "      <td>1.0</td>\n",
       "      <td>4</td>\n",
       "      <td>NaN</td>\n",
       "    </tr>\n",
       "  </tbody>\n",
       "</table>\n",
       "</div>"
      ],
      "text/plain": [
       "     0  1    2\n",
       "0  1.0  2  NaN\n",
       "1  3.0  4  3.0\n",
       "2  NaN  6  5.0\n",
       "3  8.0  8  7.0\n",
       "4  1.0  4  NaN"
      ]
     },
     "execution_count": 43,
     "metadata": {},
     "output_type": "execute_result"
    }
   ],
   "source": [
    "examples = [[1, 2, np.nan], [3, 4, 3], [np.nan, 6, 5], [8, 8, 7], [1, 4, np.nan]]\n",
    "data = pd.DataFrame(examples)\n",
    "data"
   ]
  },
  {
   "cell_type": "markdown",
   "metadata": {},
   "source": [
    "__Note:__ in SKLearn, if it is found that two neighbors, neighbor k+1 and k, have identical distances but different labels, the results will depend on the ordering of the training data."
   ]
  },
  {
   "cell_type": "markdown",
   "metadata": {},
   "source": [
    "__Step 3:__ Using KNNImputer, create an instance called imputer with `n_neighbors=1`so we can check what happened, and fit to `data`."
   ]
  },
  {
   "cell_type": "code",
   "execution_count": 44,
   "metadata": {
    "ExecuteTime": {
     "end_time": "2023-10-31T14:45:27.590085Z",
     "start_time": "2023-10-31T14:45:27.540017Z"
    }
   },
   "outputs": [],
   "source": [
    "imputer = KNNImputer(n_neighbors=1).fit(data)"
   ]
  },
  {
   "cell_type": "markdown",
   "metadata": {},
   "source": [
    "__Step 4:__ Use the `.transform()` method to impute the values in your selected data given the data you fitted your model on."
   ]
  },
  {
   "cell_type": "code",
   "execution_count": 45,
   "metadata": {
    "ExecuteTime": {
     "end_time": "2023-10-31T14:45:33.185003Z",
     "start_time": "2023-10-31T14:45:33.137893Z"
    }
   },
   "outputs": [],
   "source": [
    "filled_data = imputer.transform(data)"
   ]
  },
  {
   "cell_type": "markdown",
   "metadata": {},
   "source": [
    "__Step 5:__ Check the imputed data."
   ]
  },
  {
   "cell_type": "code",
   "execution_count": 46,
   "metadata": {
    "ExecuteTime": {
     "end_time": "2023-10-31T14:45:35.023074Z",
     "start_time": "2023-10-31T14:45:34.976174Z"
    }
   },
   "outputs": [
    {
     "data": {
      "text/plain": [
       "array([[1., 2., 3.],\n",
       "       [3., 4., 3.],\n",
       "       [3., 6., 5.],\n",
       "       [8., 8., 7.],\n",
       "       [1., 4., 3.]])"
      ]
     },
     "execution_count": 46,
     "metadata": {},
     "output_type": "execute_result"
    }
   ],
   "source": [
    "filled_data"
   ]
  },
  {
   "cell_type": "markdown",
   "metadata": {},
   "source": [
    "<img src=\"Images/step1_k1.png\" style=\"height:180px\">"
   ]
  },
  {
   "cell_type": "markdown",
   "metadata": {},
   "source": [
    "<img src=\"Images/step2_k1.png\" style=\"height:180px\">"
   ]
  },
  {
   "cell_type": "markdown",
   "metadata": {},
   "source": [
    "<img src=\"Images/step3_k1.png\" style=\"height:180px\">"
   ]
  },
  {
   "cell_type": "markdown",
   "metadata": {},
   "source": [
    "<img src=\"Images/step4_k1.png\" style=\"height:180px\">"
   ]
  },
  {
   "cell_type": "markdown",
   "metadata": {},
   "source": [
    "__Step 6:__ Try now with `n_neighbors=2`."
   ]
  },
  {
   "cell_type": "code",
   "execution_count": null,
   "metadata": {
    "ExecuteTime": {
     "start_time": "2023-10-31T14:27:22.983635Z"
    }
   },
   "outputs": [],
   "source": [
    "imputer2 = KNNImputer(n_neighbors=2).fit(data)\n",
    "filled_data2 = imputer2.transform(data)\n",
    "filled_data2"
   ]
  },
  {
   "cell_type": "markdown",
   "metadata": {},
   "source": [
    "<img src=\"Images\\step1_k2.png\" style=\"height:180px\">"
   ]
  },
  {
   "cell_type": "markdown",
   "metadata": {},
   "source": [
    "<img src=\"Images\\step2_k2.png\" style=\"height:180px\">"
   ]
  },
  {
   "cell_type": "markdown",
   "metadata": {},
   "source": [
    "<img src=\"Images\\step3_k2.png\" style=\"height:180px\">"
   ]
  },
  {
   "cell_type": "markdown",
   "metadata": {},
   "source": [
    "<img src=\"Images\\step4_k2.png\" style=\"height:180px\">"
   ]
  },
  {
   "cell_type": "markdown",
   "metadata": {},
   "source": [
    "# <font color='#E8800A'>3. KNN Regression (EXERCISE)</font><a class=\"anchor\" id=\"second-bullet\"></a> \n",
    "[Back to TOC](#toc)"
   ]
  },
  {
   "cell_type": "markdown",
   "metadata": {},
   "source": [
    "__Step 1:__ Import KNeighborsRegressor from sklearn.neighbors"
   ]
  },
  {
   "cell_type": "code",
   "execution_count": null,
   "metadata": {
    "ExecuteTime": {
     "start_time": "2023-10-31T14:27:22.984382Z"
    }
   },
   "outputs": [],
   "source": []
  },
  {
   "cell_type": "markdown",
   "metadata": {},
   "source": [
    "__Step 2:__ Import Boston Dataset."
   ]
  },
  {
   "cell_type": "code",
   "execution_count": null,
   "metadata": {
    "ExecuteTime": {
     "start_time": "2023-10-31T14:27:22.985160Z"
    }
   },
   "outputs": [],
   "source": []
  },
  {
   "cell_type": "markdown",
   "metadata": {},
   "source": [
    "__Step 3:__ Assign to the object `data` the values from the boston dataset excepting the dependent variable"
   ]
  },
  {
   "cell_type": "code",
   "execution_count": null,
   "metadata": {
    "ExecuteTime": {
     "start_time": "2023-10-31T14:27:22.985948Z"
    }
   },
   "outputs": [],
   "source": []
  },
  {
   "cell_type": "markdown",
   "metadata": {},
   "source": [
    "__Step 4:__ Assign to the object `target`the dependent variable from boston"
   ]
  },
  {
   "cell_type": "code",
   "execution_count": null,
   "metadata": {
    "ExecuteTime": {
     "start_time": "2023-10-31T14:27:22.986690Z"
    }
   },
   "outputs": [],
   "source": []
  },
  {
   "cell_type": "markdown",
   "metadata": {},
   "source": [
    "__Step 5:__ Import train_test_split from sklearn.model_selection"
   ]
  },
  {
   "cell_type": "code",
   "execution_count": null,
   "metadata": {
    "ExecuteTime": {
     "start_time": "2023-10-31T14:27:22.987699Z"
    }
   },
   "outputs": [],
   "source": []
  },
  {
   "cell_type": "markdown",
   "metadata": {},
   "source": [
    "__Step 6:__ Split the dataset boston into X_train, X_val, y_train and y_val, defining `train_size` as 0.75 and `random_state`equal to 5."
   ]
  },
  {
   "cell_type": "code",
   "execution_count": null,
   "metadata": {
    "ExecuteTime": {
     "start_time": "2023-10-31T14:27:22.988449Z"
    }
   },
   "outputs": [],
   "source": []
  },
  {
   "cell_type": "markdown",
   "metadata": {},
   "source": [
    "__Step 7:__ Using MinMaxScaler, scale the training data and the validation data."
   ]
  },
  {
   "cell_type": "code",
   "execution_count": null,
   "metadata": {
    "ExecuteTime": {
     "start_time": "2023-10-31T14:27:22.989241Z"
    }
   },
   "outputs": [],
   "source": []
  },
  {
   "cell_type": "markdown",
   "metadata": {},
   "source": [
    "__Step 8:__ Using KNeighborsRegressor, create an instance called modelKNN_Reg."
   ]
  },
  {
   "cell_type": "code",
   "execution_count": null,
   "metadata": {
    "ExecuteTime": {
     "start_time": "2023-10-31T14:27:22.990006Z"
    }
   },
   "outputs": [],
   "source": []
  },
  {
   "cell_type": "markdown",
   "metadata": {},
   "source": [
    "### 2.1. Methods in KNeighborsRegressor"
   ]
  },
  {
   "cell_type": "markdown",
   "metadata": {},
   "source": [
    "__Step 9:__ Use the `.fit()`method to fit the model to the array of points `X_train` and `y_train`,i.e., associate the argument keyword `X` to `X_train` and `y` to `y_train`."
   ]
  },
  {
   "cell_type": "code",
   "execution_count": null,
   "metadata": {
    "ExecuteTime": {
     "end_time": "2023-10-31T14:27:22.995258Z",
     "start_time": "2023-10-31T14:27:22.990809Z"
    },
    "scrolled": true
   },
   "outputs": [],
   "source": []
  },
  {
   "cell_type": "markdown",
   "metadata": {},
   "source": [
    "__Step 10:__ Use the `.predict()` method to perform classification in `X_train` and assign to the object `labels_train`. Do the same for `X_val` and assign to the object `labels_val`."
   ]
  },
  {
   "cell_type": "code",
   "execution_count": null,
   "metadata": {
    "ExecuteTime": {
     "start_time": "2023-10-31T14:27:22.991652Z"
    }
   },
   "outputs": [],
   "source": []
  },
  {
   "cell_type": "markdown",
   "metadata": {},
   "source": [
    "__Step 11:__ Use the `.score()` method of modelKNN_Reg to obtain  the coefficient of determination R^2 of the given train data `X_train` and the true labels for X, `y_train`"
   ]
  },
  {
   "cell_type": "code",
   "execution_count": null,
   "metadata": {
    "ExecuteTime": {
     "start_time": "2023-10-31T14:27:22.992392Z"
    }
   },
   "outputs": [],
   "source": []
  },
  {
   "cell_type": "markdown",
   "metadata": {},
   "source": [
    "__Step 12:__ Use the `.score()` method to obtain the coefficient of determination R^2 of the given test data `X_val` and the true labels for X, `y_val`"
   ]
  },
  {
   "cell_type": "code",
   "execution_count": null,
   "metadata": {
    "ExecuteTime": {
     "start_time": "2023-10-31T14:27:22.993167Z"
    }
   },
   "outputs": [],
   "source": []
  },
  {
   "cell_type": "markdown",
   "metadata": {},
   "source": [
    "__Step 14:__ Check the MAE (mean absolute error) obtained in the training and in validation dataset. Import the needed packages."
   ]
  },
  {
   "cell_type": "code",
   "execution_count": null,
   "metadata": {
    "ExecuteTime": {
     "start_time": "2023-10-31T14:27:22.994088Z"
    }
   },
   "outputs": [],
   "source": []
  },
  {
   "cell_type": "markdown",
   "metadata": {},
   "source": [
    "__Step 15:__ To identify the optimal number of neighbors to select, create a loop where you test the MAE in validation, where the number of neighbors range from 1 to 10. Check the number of neighbors to keep (in this case look only at the best performance in validation) and the MAE in the training and in the validation for that number of neighbors."
   ]
  },
  {
   "cell_type": "code",
   "execution_count": null,
   "metadata": {
    "ExecuteTime": {
     "start_time": "2023-10-31T14:27:22.994876Z"
    }
   },
   "outputs": [],
   "source": []
  },
  {
   "cell_type": "markdown",
   "metadata": {},
   "source": [
    "__Step 16:__ Is the best solution a case of overfitting? Print this time the train and the validation MAE for all the options of neighbors (between 1 and 10) and try to understand the best option."
   ]
  },
  {
   "cell_type": "code",
   "execution_count": null,
   "metadata": {
    "ExecuteTime": {
     "start_time": "2023-10-31T14:27:22.995672Z"
    }
   },
   "outputs": [],
   "source": []
  },
  {
   "cell_type": "markdown",
   "metadata": {},
   "source": [
    "__Step 17:__ Create a line plot where you check the error of training and validation according to the number of neighbors, using the values obtained in the last step."
   ]
  },
  {
   "cell_type": "code",
   "execution_count": null,
   "metadata": {
    "ExecuteTime": {
     "start_time": "2023-10-31T14:27:22.996380Z"
    }
   },
   "outputs": [],
   "source": []
  }
 ],
 "metadata": {
  "kernelspec": {
   "display_name": "Python 3 (ipykernel)",
   "language": "python",
   "name": "python3"
  },
  "language_info": {
   "codemirror_mode": {
    "name": "ipython",
    "version": 3
   },
   "file_extension": ".py",
   "mimetype": "text/x-python",
   "name": "python",
   "nbconvert_exporter": "python",
   "pygments_lexer": "ipython3",
   "version": "3.11.4"
  },
  "toc": {
   "base_numbering": 1,
   "nav_menu": {},
   "number_sections": true,
   "sideBar": true,
   "skip_h1_title": false,
   "title_cell": "Table of Contents",
   "title_sidebar": "Contents",
   "toc_cell": false,
   "toc_position": {},
   "toc_section_display": true,
   "toc_window_display": false
  },
  "varInspector": {
   "cols": {
    "lenName": 16,
    "lenType": 16,
    "lenVar": 40
   },
   "kernels_config": {
    "python": {
     "delete_cmd_postfix": "",
     "delete_cmd_prefix": "del ",
     "library": "var_list.py",
     "varRefreshCmd": "print(var_dic_list())"
    },
    "r": {
     "delete_cmd_postfix": ") ",
     "delete_cmd_prefix": "rm(",
     "library": "var_list.r",
     "varRefreshCmd": "cat(var_dic_list()) "
    }
   },
   "types_to_exclude": [
    "module",
    "function",
    "builtin_function_or_method",
    "instance",
    "_Feature"
   ],
   "window_display": false
  }
 },
 "nbformat": 4,
 "nbformat_minor": 2
}
