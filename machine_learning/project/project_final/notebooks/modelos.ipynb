{
 "cells": [
  {
   "cell_type": "markdown",
   "id": "b679b5da-d2f8-4df3-bfb1-cca4d83b784f",
   "metadata": {},
   "source": [
    "# Imports"
   ]
  },
  {
   "cell_type": "code",
   "execution_count": 1,
   "id": "f08e67b9-9a48-4fcd-a236-b3e506b12930",
   "metadata": {
    "ExecuteTime": {
     "end_time": "2023-12-17T09:02:22.324141Z",
     "start_time": "2023-12-17T09:02:22.150541Z"
    }
   },
   "outputs": [],
   "source": [
    "%load_ext autoreload\n",
    "%autoreload 2"
   ]
  },
  {
   "cell_type": "code",
   "execution_count": 2,
   "id": "5b2b947b-bf42-4800-852b-cc261f26bc6a",
   "metadata": {
    "ExecuteTime": {
     "end_time": "2023-12-17T09:02:22.763587Z",
     "start_time": "2023-12-17T09:02:22.236354Z"
    }
   },
   "outputs": [
    {
     "ename": "ImportError",
     "evalue": "cannot import name 'load_data' from 'utils' (/Users/carlos.costa/studies/MDSAA-NOVA-IMS/machine_learning/project/project_vitor/notebooks/utils.py)",
     "output_type": "error",
     "traceback": [
      "\u001B[0;31m---------------------------------------------------------------------------\u001B[0m",
      "\u001B[0;31mImportError\u001B[0m                               Traceback (most recent call last)",
      "Cell \u001B[0;32mIn[2], line 16\u001B[0m\n\u001B[1;32m     14\u001B[0m \u001B[38;5;28;01mfrom\u001B[39;00m \u001B[38;5;21;01msklearn\u001B[39;00m\u001B[38;5;21;01m.\u001B[39;00m\u001B[38;5;21;01mensemble\u001B[39;00m \u001B[38;5;28;01mimport\u001B[39;00m AdaBoostClassifier, RandomForestClassifier, GradientBoostingClassifier\n\u001B[1;32m     15\u001B[0m \u001B[38;5;28;01mfrom\u001B[39;00m \u001B[38;5;21;01msklearn\u001B[39;00m\u001B[38;5;21;01m.\u001B[39;00m\u001B[38;5;21;01mcompose\u001B[39;00m \u001B[38;5;28;01mimport\u001B[39;00m ColumnTransformer, make_column_selector\n\u001B[0;32m---> 16\u001B[0m \u001B[38;5;28;01mfrom\u001B[39;00m \u001B[38;5;21;01mutils\u001B[39;00m \u001B[38;5;28;01mimport\u001B[39;00m load_data, CustomCleaner, CustomDropper\n\u001B[1;32m     18\u001B[0m \u001B[38;5;28;01mimport\u001B[39;00m \u001B[38;5;21;01msklearn\u001B[39;00m; sklearn\u001B[38;5;241m.\u001B[39mset_config(display\u001B[38;5;241m=\u001B[39m\u001B[38;5;124m'\u001B[39m\u001B[38;5;124mdiagram\u001B[39m\u001B[38;5;124m'\u001B[39m)\n\u001B[1;32m     20\u001B[0m \u001B[38;5;28;01mimport\u001B[39;00m \u001B[38;5;21;01mos\u001B[39;00m\n",
      "\u001B[0;31mImportError\u001B[0m: cannot import name 'load_data' from 'utils' (/Users/carlos.costa/studies/MDSAA-NOVA-IMS/machine_learning/project/project_vitor/notebooks/utils.py)"
     ]
    }
   ],
   "source": [
    "import pandas as pd\n",
    "import numpy as np\n",
    "import joblib\n",
    "import os\n",
    "\n",
    "from sklearn.pipeline import Pipeline\n",
    "from sklearn.model_selection import cross_val_score\n",
    "from sklearn.linear_model import LogisticRegression\n",
    "from sklearn.neighbors import KNeighborsClassifier\n",
    "from sklearn.svm import SVC\n",
    "from sklearn.metrics import f1_score\n",
    "from sklearn.naive_bayes import GaussianNB\n",
    "from sklearn.tree import DecisionTreeClassifier\n",
    "from sklearn.ensemble import AdaBoostClassifier, RandomForestClassifier, GradientBoostingClassifier\n",
    "from utils import CustomCleaner\n",
    "\n",
    "import sklearn; sklearn.set_config(display='diagram')\n",
    "\n",
    "import os\n",
    "import sys\n",
    "sys.stderr = open(os.devnull, \"w\")  # silence stderr\n",
    "# sys.stderr = sys.__stderr__"
   ]
  },
  {
   "cell_type": "markdown",
   "id": "fa934f15-b658-4668-a5f8-df7e2c6d51d1",
   "metadata": {},
   "source": [
    "# Load data"
   ]
  },
  {
   "cell_type": "code",
   "execution_count": null,
   "id": "8d9d6e2c-2599-4a12-9cbf-16667c7ecd05",
   "metadata": {
    "ExecuteTime": {
     "start_time": "2023-12-17T09:02:22.756437Z"
    }
   },
   "outputs": [],
   "source": [
    "df = pd.read_csv('../raw_data/train.csv')\n",
    "df.shape"
   ]
  },
  {
   "cell_type": "markdown",
   "id": "8be26b66-ce56-4250-b97e-2b87d527ca20",
   "metadata": {},
   "source": [
    "# Modelos"
   ]
  },
  {
   "cell_type": "code",
   "execution_count": null,
   "id": "2013d9eb-e58d-4d7b-875b-04d10a9d148b",
   "metadata": {
    "ExecuteTime": {
     "start_time": "2023-12-17T09:02:22.758451Z"
    }
   },
   "outputs": [],
   "source": [
    "preproc = joblib.load('../pipelines/preproc_pipeline_v1')\n",
    "preproc"
   ]
  },
  {
   "cell_type": "markdown",
   "id": "54889449-1582-469a-ad7d-6c1a627328df",
   "metadata": {},
   "source": [
    "* Logistic Reg\n",
    "* SVC\n",
    "* KNN\n",
    "* DT\n",
    "* RF\n",
    "* NB\n",
    "* GBC\n",
    "* Adaboost"
   ]
  },
  {
   "cell_type": "markdown",
   "id": "3453a2d3-6cff-4455-b783-f8009ed75b41",
   "metadata": {},
   "source": [
    "## Log"
   ]
  },
  {
   "cell_type": "code",
   "execution_count": null,
   "id": "98f16f70-4471-49b5-a7f5-88d68ca5a855",
   "metadata": {
    "ExecuteTime": {
     "start_time": "2023-12-17T09:02:22.760461Z"
    }
   },
   "outputs": [],
   "source": [
    "X_train, X_val, y_train, y_val = load_data(df, undersampling=True)\n",
    "\n",
    "log_pipe = Pipeline([\n",
    "    ('preproc', preproc),\n",
    "    ('log', LogisticRegression(n_jobs=-1))\n",
    "])\n",
    "\n",
    "cross_val_score(log_pipe, X_train, y_train, cv=10, n_jobs=-1, scoring='f1', verbose=1)"
   ]
  },
  {
   "cell_type": "markdown",
   "id": "266d0c65-c128-42be-b304-84adfd3a663e",
   "metadata": {},
   "source": [
    "## KNN"
   ]
  },
  {
   "cell_type": "code",
   "execution_count": null,
   "id": "442877dd-f4e3-4d01-afda-bad48855516c",
   "metadata": {
    "scrolled": true,
    "ExecuteTime": {
     "start_time": "2023-12-17T09:02:22.762779Z"
    }
   },
   "outputs": [],
   "source": [
    "X_train, X_val, y_train, y_val = load_data(df, undersampling=True)\n",
    "\n",
    "knn_pipe = Pipeline([\n",
    "    ('preproc', preproc),\n",
    "    ('knn', KNeighborsClassifier(n_jobs=-1))\n",
    "])\n",
    "\n",
    "cross_val_score(knn_pipe, X_train, y_train, cv=10, n_jobs=-1, scoring='f1', verbose=1)"
   ]
  },
  {
   "cell_type": "markdown",
   "id": "e657a3fb-6f9d-462e-9e9a-c4feaa4ce128",
   "metadata": {},
   "source": [
    "## SVC"
   ]
  },
  {
   "cell_type": "code",
   "execution_count": null,
   "id": "add8fd0e-111f-42a0-af48-e796e46d66ac",
   "metadata": {
    "ExecuteTime": {
     "end_time": "2023-12-17T09:02:22.767362Z",
     "start_time": "2023-12-17T09:02:22.764979Z"
    }
   },
   "outputs": [],
   "source": [
    "X_train, X_val, y_train, y_val = load_data(df, undersampling=True)\n",
    "\n",
    "svc_pipe = Pipeline([\n",
    "    ('preproc', preproc),\n",
    "    ('svc', SVC(C=2))\n",
    "])\n",
    "\n",
    "# cross_val_score(knn_pipe, X_train, y_train, cv=10, n_jobs=-1, scoring='f1').mean()\n",
    "svc_pipe.fit(X_train, y_train)\n",
    "y_pred = svc_pipe.predict(X_val)\n",
    "f1_score(y_val, y_pred)"
   ]
  },
  {
   "cell_type": "markdown",
   "id": "a863fd01-4baa-4b93-aaf6-8b4b93899eb2",
   "metadata": {},
   "source": [
    "## DT"
   ]
  },
  {
   "cell_type": "code",
   "execution_count": null,
   "id": "26ec92cb-0bcc-4e7e-9e84-548ca8bdd7fb",
   "metadata": {
    "ExecuteTime": {
     "start_time": "2023-12-17T09:02:22.767133Z"
    }
   },
   "outputs": [],
   "source": [
    "X_train, X_val, y_train, y_val = load_data(df, undersampling=True)\n",
    "\n",
    "dt_pipe = Pipeline([\n",
    "    ('preproc', preproc),\n",
    "    ('dt', DecisionTreeClassifier())\n",
    "])\n",
    "\n",
    "cross_val_score(dt_pipe, X_train, y_train, cv=10, n_jobs=-1, scoring='f1')"
   ]
  },
  {
   "cell_type": "markdown",
   "id": "ab2b9207-70e5-4f83-a2e6-abefb903156f",
   "metadata": {},
   "source": [
    "## Ada"
   ]
  },
  {
   "cell_type": "code",
   "execution_count": null,
   "id": "8e6b679c-ee29-4614-baad-9e5a5db3c96f",
   "metadata": {
    "ExecuteTime": {
     "end_time": "2023-12-17T09:02:22.785212Z",
     "start_time": "2023-12-17T09:02:22.769394Z"
    }
   },
   "outputs": [],
   "source": [
    "X_train, X_val, y_train, y_val = load_data(df, undersampling=True)\n",
    "\n",
    "ada_pipe = Pipeline([\n",
    "    ('preproc', preproc),\n",
    "    ('ada', AdaBoostClassifier(n_estimators=100, learning_rate=1))\n",
    "])\n",
    "\n",
    "cross_val_score(ada_pipe, X_train, y_train, cv=10, n_jobs=-1, scoring='f1')"
   ]
  },
  {
   "cell_type": "markdown",
   "id": "bdb200eb-4832-40a8-9315-c8ef6eb81c4c",
   "metadata": {},
   "source": [
    "## RF"
   ]
  },
  {
   "cell_type": "code",
   "execution_count": null,
   "id": "d445be4e-b10f-4af6-a8d2-14d4f03354dd",
   "metadata": {
    "ExecuteTime": {
     "start_time": "2023-12-17T09:02:22.771769Z"
    }
   },
   "outputs": [],
   "source": [
    "X_train, X_val, y_train, y_val = load_data(df, undersampling=True)\n",
    "\n",
    "rf_pipe = Pipeline([\n",
    "    ('preproc', preproc),\n",
    "    ('ada', RandomForestClassifier(n_estimators=300, n_jobs=-1))\n",
    "])\n",
    "\n",
    "cross_val_score(rf_pipe, X_train, y_train, cv=10, n_jobs=-1, scoring='f1')"
   ]
  },
  {
   "cell_type": "markdown",
   "id": "3433bdc9-ce84-44e4-9938-b76910d773bb",
   "metadata": {},
   "source": [
    "## GaussianNB"
   ]
  },
  {
   "cell_type": "code",
   "execution_count": null,
   "id": "974bccc9-af65-44ad-a074-5932a3694911",
   "metadata": {
    "ExecuteTime": {
     "start_time": "2023-12-17T09:02:22.773404Z"
    }
   },
   "outputs": [],
   "source": [
    "X_train, X_val, y_train, y_val = load_data(df, undersampling=True)\n",
    "\n",
    "nb_pipe = Pipeline([\n",
    "    ('preproc', preproc),\n",
    "    ('nb', GaussianNB())\n",
    "])\n",
    "\n",
    "cross_val_score(nb_pipe, X_train, y_train, cv=10, n_jobs=-1, scoring='f1')"
   ]
  },
  {
   "cell_type": "markdown",
   "id": "aa6c90cc-98ea-46be-bbc6-d452f6484498",
   "metadata": {},
   "source": [
    "## GradientBoostC"
   ]
  },
  {
   "cell_type": "code",
   "execution_count": null,
   "id": "041d31f3-8234-4a40-926c-40d1cf7db8ec",
   "metadata": {
    "ExecuteTime": {
     "start_time": "2023-12-17T09:02:22.774334Z"
    }
   },
   "outputs": [],
   "source": [
    "X_train, X_val, y_train, y_val = load_data(df, undersampling=True)\n",
    "\n",
    "gbc_pipe = Pipeline([\n",
    "    ('preproc', preproc),\n",
    "    ('gbc', GradientBoostingClassifier())\n",
    "])\n",
    "\n",
    "cross_val_score(gbc_pipe, X_train, y_train, cv=10, n_jobs=-1, scoring='f1')"
   ]
  },
  {
   "cell_type": "markdown",
   "source": [
    "## Stochastic Gradient Descent"
   ],
   "metadata": {
    "collapsed": false
   },
   "id": "7ce95b565015deb3"
  },
  {
   "cell_type": "code",
   "execution_count": null,
   "outputs": [],
   "source": [
    "X_train, X_val, y_train, y_val = load_data(df, undersampling=True)\n",
    "\n",
    "sgd_pipe = Pipeline([\n",
    "    ('preproc', preproc),\n",
    "    ('sgd', GradientBoostingClassifier())\n",
    "])\n",
    "\n",
    "cross_val_score(sgd_pipe, X_train, y_train, cv=10, n_jobs=-1, scoring='f1')"
   ],
   "metadata": {
    "collapsed": false,
    "ExecuteTime": {
     "start_time": "2023-12-17T09:02:22.776406Z"
    }
   },
   "id": "c938f1b773f903bb"
  },
  {
   "cell_type": "markdown",
   "id": "6897f9f5-6a2b-47f9-a2b6-6290869253d0",
   "metadata": {},
   "source": [
    "# Submit"
   ]
  },
  {
   "cell_type": "markdown",
   "id": "ce808c26-2cee-4250-8319-f0a6dd159db4",
   "metadata": {
    "jp-MarkdownHeadingCollapsed": true
   },
   "source": [
    "### Baseline"
   ]
  },
  {
   "cell_type": "code",
   "execution_count": null,
   "id": "44f38267-3e2c-4468-9125-4b554875e1bd",
   "metadata": {
    "scrolled": true,
    "ExecuteTime": {
     "start_time": "2023-12-17T09:02:22.777851Z"
    }
   },
   "outputs": [],
   "source": [
    "X_test = pd.read_csv('../raw_data/test.csv')\n",
    "\n",
    "df_sub = pd.DataFrame({'readmitted_binary': np.zeros(X_test.shape[0])}, index=indices)\n",
    "df_sub.readmitted_binary = df_sub.readmitted_binary.replace({0: 'No', 1: 'Yes'})\n",
    "df_sub"
   ]
  },
  {
   "cell_type": "markdown",
   "id": "54cdf0b6-a8da-434c-95b2-30133698ef9e",
   "metadata": {},
   "source": [
    "### Models"
   ]
  },
  {
   "cell_type": "code",
   "execution_count": null,
   "id": "e783e481-ae58-4e6a-a45f-5e3ca7db209d",
   "metadata": {
    "ExecuteTime": {
     "start_time": "2023-12-17T09:02:22.779435Z"
    }
   },
   "outputs": [],
   "source": [
    "X_train, X_val, y_train, y_val = load_data(df, undersampling=True)\n",
    "X_test = pd.read_csv('../raw_data/test.csv')\n",
    "\n",
    "indices = X_test.encounter_id\n",
    "# svc_pipe.fit(X_train, y_train)\n",
    "y_sub = svc_pipe.predict(X_test)\n",
    "df_sub = pd.DataFrame({'readmitted_binary': y_sub}, index=indices)\n",
    "df_sub.readmitted_binary = df_sub.readmitted_binary.replace({0: 'No', 1: 'Yes'})"
   ]
  },
  {
   "cell_type": "code",
   "execution_count": null,
   "id": "66b6cd59-dfa3-49aa-a74b-4c8275e44486",
   "metadata": {
    "ExecuteTime": {
     "start_time": "2023-12-17T09:02:22.780641Z"
    }
   },
   "outputs": [],
   "source": [
    "df_sub.readmitted_binary.value_counts()"
   ]
  },
  {
   "cell_type": "code",
   "execution_count": null,
   "id": "11008f08-27ff-49cd-a957-19104f912ed3",
   "metadata": {
    "ExecuteTime": {
     "start_time": "2023-12-17T09:02:22.782080Z"
    }
   },
   "outputs": [],
   "source": [
    "df_sub.to_csv('../submissions/.csv')"
   ]
  }
 ],
 "metadata": {
  "kernelspec": {
   "display_name": "Python 3 (ipykernel)",
   "language": "python",
   "name": "python3"
  },
  "language_info": {
   "codemirror_mode": {
    "name": "ipython",
    "version": 3
   },
   "file_extension": ".py",
   "mimetype": "text/x-python",
   "name": "python",
   "nbconvert_exporter": "python",
   "pygments_lexer": "ipython3",
   "version": "3.11.1"
  }
 },
 "nbformat": 4,
 "nbformat_minor": 5
}
