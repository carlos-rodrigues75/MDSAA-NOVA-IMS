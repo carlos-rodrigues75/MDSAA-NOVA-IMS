{
 "cells": [
  {
   "cell_type": "markdown",
   "id": "80e5cac0-40be-4dda-a764-5f3704ef8386",
   "metadata": {},
   "source": [
    "# Imports"
   ]
  },
  {
   "cell_type": "code",
   "execution_count": 87,
   "id": "75fea884-4df9-4efc-a6bd-a39b63b2579b",
   "metadata": {
    "ExecuteTime": {
     "end_time": "2023-12-17T09:41:36.986504Z",
     "start_time": "2023-12-17T09:41:36.891666Z"
    }
   },
   "outputs": [
    {
     "name": "stdout",
     "output_type": "stream",
     "text": [
      "The autoreload extension is already loaded. To reload it, use:\n",
      "  %reload_ext autoreload\n"
     ]
    },
    {
     "ename": "ModuleNotFoundError",
     "evalue": "No module named 'cuml'",
     "output_type": "error",
     "traceback": [
      "\u001B[0;31m---------------------------------------------------------------------------\u001B[0m",
      "\u001B[0;31mModuleNotFoundError\u001B[0m                       Traceback (most recent call last)",
      "Cell \u001B[0;32mIn[87], line 26\u001B[0m\n\u001B[1;32m     23\u001B[0m \u001B[38;5;28;01mfrom\u001B[39;00m \u001B[38;5;21;01msklearn\u001B[39;00m\u001B[38;5;21;01m.\u001B[39;00m\u001B[38;5;21;01mpreprocessing\u001B[39;00m \u001B[38;5;28;01mimport\u001B[39;00m TargetEncoder, MinMaxScaler, PowerTransformer, LabelEncoder\n\u001B[1;32m     24\u001B[0m \u001B[38;5;28;01mfrom\u001B[39;00m \u001B[38;5;21;01msklearn\u001B[39;00m\u001B[38;5;21;01m.\u001B[39;00m\u001B[38;5;21;01mimpute\u001B[39;00m \u001B[38;5;28;01mimport\u001B[39;00m SimpleImputer\n\u001B[0;32m---> 26\u001B[0m \u001B[38;5;28;01mfrom\u001B[39;00m \u001B[38;5;21;01mcuml\u001B[39;00m\u001B[38;5;21;01m.\u001B[39;00m\u001B[38;5;21;01msvm\u001B[39;00m \u001B[38;5;28;01mimport\u001B[39;00m SVC \u001B[38;5;66;03m# Using this to select model, sklearn one for prediction, if best model\u001B[39;00m\n\u001B[1;32m     28\u001B[0m \u001B[38;5;28;01mimport\u001B[39;00m \u001B[38;5;21;01mwarnings\u001B[39;00m; warnings\u001B[38;5;241m.\u001B[39mfilterwarnings(\u001B[38;5;124m'\u001B[39m\u001B[38;5;124mignore\u001B[39m\u001B[38;5;124m'\u001B[39m)\n",
      "\u001B[0;31mModuleNotFoundError\u001B[0m: No module named 'cuml'"
     ]
    }
   ],
   "source": [
    "from sklearn.ensemble import AdaBoostClassifier, RandomForestClassifier, GradientBoostingClassifier\n",
    "from sklearn.naive_bayes import GaussianNB\n",
    "from sklearn.neighbors import KNeighborsClassifier\n",
    "from sklearn.tree import DecisionTreeClassifier\n",
    "%load_ext autoreload\n",
    "%autoreload 2\n",
    "    \n",
    "import os\n",
    "\n",
    "import pandas as pd\n",
    "import numpy as np\n",
    "import seaborn as sns\n",
    "\n",
    "from utils import CustomCleaner, get_submission_data\n",
    "from scipy.stats import uniform\n",
    "\n",
    "from sklearn.model_selection import train_test_split, cross_val_score, RandomizedSearchCV, StratifiedKFold, \\\n",
    "    RepeatedStratifiedKFold\n",
    "from sklearn.pipeline import Pipeline\n",
    "from sklearn.compose import ColumnTransformer\n",
    "from sklearn.linear_model import SGDClassifier\n",
    "from sklearn.metrics import f1_score\n",
    "from sklearn.preprocessing import TargetEncoder, MinMaxScaler, PowerTransformer, LabelEncoder\n",
    "from sklearn.impute import SimpleImputer\n",
    "\n",
    "from cuml.svm import SVC # Using this to select model, sklearn one for prediction, if best model\n",
    "\n",
    "import warnings; warnings.filterwarnings('ignore')"
   ]
  },
  {
   "cell_type": "markdown",
   "id": "a0c136a9-13e2-4de4-b365-06023b2b53cb",
   "metadata": {},
   "source": [
    "# Load data"
   ]
  },
  {
   "cell_type": "code",
   "execution_count": 3,
   "id": "5be02078-7f49-42ce-b4b9-c15960b1a0d7",
   "metadata": {
    "ExecuteTime": {
     "end_time": "2023-12-17T09:23:31.845627Z",
     "start_time": "2023-12-17T09:23:29.900580Z"
    }
   },
   "outputs": [
    {
     "data": {
      "text/plain": "   encounter_id country  patient_id             race  gender      age weight  \\\n0        533253     USA       70110        Caucasian  Female  [70-80)      ?   \n1        426224     USA    29775006  AfricanAmerican    Male  [50-60)      ?   \n2        634063     USA    80729253        Caucasian  Female  [60-70)      ?   \n3        890610     USA     2919042  AfricanAmerican    Male  [60-70)      ?   \n4        654194     USA    84871971        Caucasian  Female  [70-80)      ?   \n\n  payer_code  outpatient_visits_in_previous_year  \\\n0          ?                                   0   \n1          ?                                   0   \n2          ?                                   0   \n3         MC                                   0   \n4         HM                                   1   \n\n   emergency_visits_in_previous_year  ...  secondary_diagnosis  \\\n0                                  0  ...                  276   \n1                                  0  ...                  785   \n2                                  0  ...                  135   \n3                                  0  ...                  562   \n4                                  0  ...                  599   \n\n  additional_diagnosis number_diagnoses  glucose_test_result a1c_test_result  \\\n0                  466                8                  NaN             NaN   \n1                  162                9                  NaN             NaN   \n2                  250                6                  NaN             NaN   \n3                  455                5                  NaN             NaN   \n4                  428                9                  NaN             NaN   \n\n  change_in_meds_during_hospitalization  prescribed_diabetes_meds  \\\n0                                    No                        No   \n1                                    No                       Yes   \n2                                    Ch                       Yes   \n3                                    No                        No   \n4                                    No                        No   \n\n                   medication  readmitted_binary  readmitted_multiclass  \n0                          []                 No               >30 days  \n1                 ['insulin']                 No                     No  \n2  ['glimepiride', 'insulin']                 No                     No  \n3                          []                 No                     No  \n4                          []                 No               >30 days  \n\n[5 rows x 31 columns]",
      "text/html": "<div>\n<style scoped>\n    .dataframe tbody tr th:only-of-type {\n        vertical-align: middle;\n    }\n\n    .dataframe tbody tr th {\n        vertical-align: top;\n    }\n\n    .dataframe thead th {\n        text-align: right;\n    }\n</style>\n<table border=\"1\" class=\"dataframe\">\n  <thead>\n    <tr style=\"text-align: right;\">\n      <th></th>\n      <th>encounter_id</th>\n      <th>country</th>\n      <th>patient_id</th>\n      <th>race</th>\n      <th>gender</th>\n      <th>age</th>\n      <th>weight</th>\n      <th>payer_code</th>\n      <th>outpatient_visits_in_previous_year</th>\n      <th>emergency_visits_in_previous_year</th>\n      <th>...</th>\n      <th>secondary_diagnosis</th>\n      <th>additional_diagnosis</th>\n      <th>number_diagnoses</th>\n      <th>glucose_test_result</th>\n      <th>a1c_test_result</th>\n      <th>change_in_meds_during_hospitalization</th>\n      <th>prescribed_diabetes_meds</th>\n      <th>medication</th>\n      <th>readmitted_binary</th>\n      <th>readmitted_multiclass</th>\n    </tr>\n  </thead>\n  <tbody>\n    <tr>\n      <th>0</th>\n      <td>533253</td>\n      <td>USA</td>\n      <td>70110</td>\n      <td>Caucasian</td>\n      <td>Female</td>\n      <td>[70-80)</td>\n      <td>?</td>\n      <td>?</td>\n      <td>0</td>\n      <td>0</td>\n      <td>...</td>\n      <td>276</td>\n      <td>466</td>\n      <td>8</td>\n      <td>NaN</td>\n      <td>NaN</td>\n      <td>No</td>\n      <td>No</td>\n      <td>[]</td>\n      <td>No</td>\n      <td>&gt;30 days</td>\n    </tr>\n    <tr>\n      <th>1</th>\n      <td>426224</td>\n      <td>USA</td>\n      <td>29775006</td>\n      <td>AfricanAmerican</td>\n      <td>Male</td>\n      <td>[50-60)</td>\n      <td>?</td>\n      <td>?</td>\n      <td>0</td>\n      <td>0</td>\n      <td>...</td>\n      <td>785</td>\n      <td>162</td>\n      <td>9</td>\n      <td>NaN</td>\n      <td>NaN</td>\n      <td>No</td>\n      <td>Yes</td>\n      <td>['insulin']</td>\n      <td>No</td>\n      <td>No</td>\n    </tr>\n    <tr>\n      <th>2</th>\n      <td>634063</td>\n      <td>USA</td>\n      <td>80729253</td>\n      <td>Caucasian</td>\n      <td>Female</td>\n      <td>[60-70)</td>\n      <td>?</td>\n      <td>?</td>\n      <td>0</td>\n      <td>0</td>\n      <td>...</td>\n      <td>135</td>\n      <td>250</td>\n      <td>6</td>\n      <td>NaN</td>\n      <td>NaN</td>\n      <td>Ch</td>\n      <td>Yes</td>\n      <td>['glimepiride', 'insulin']</td>\n      <td>No</td>\n      <td>No</td>\n    </tr>\n    <tr>\n      <th>3</th>\n      <td>890610</td>\n      <td>USA</td>\n      <td>2919042</td>\n      <td>AfricanAmerican</td>\n      <td>Male</td>\n      <td>[60-70)</td>\n      <td>?</td>\n      <td>MC</td>\n      <td>0</td>\n      <td>0</td>\n      <td>...</td>\n      <td>562</td>\n      <td>455</td>\n      <td>5</td>\n      <td>NaN</td>\n      <td>NaN</td>\n      <td>No</td>\n      <td>No</td>\n      <td>[]</td>\n      <td>No</td>\n      <td>No</td>\n    </tr>\n    <tr>\n      <th>4</th>\n      <td>654194</td>\n      <td>USA</td>\n      <td>84871971</td>\n      <td>Caucasian</td>\n      <td>Female</td>\n      <td>[70-80)</td>\n      <td>?</td>\n      <td>HM</td>\n      <td>1</td>\n      <td>0</td>\n      <td>...</td>\n      <td>599</td>\n      <td>428</td>\n      <td>9</td>\n      <td>NaN</td>\n      <td>NaN</td>\n      <td>No</td>\n      <td>No</td>\n      <td>[]</td>\n      <td>No</td>\n      <td>&gt;30 days</td>\n    </tr>\n  </tbody>\n</table>\n<p>5 rows × 31 columns</p>\n</div>"
     },
     "execution_count": 3,
     "metadata": {},
     "output_type": "execute_result"
    }
   ],
   "source": [
    "df = pd.read_csv(os.path.join('..', 'raw_data', 'train.csv'))\n",
    "df.head()"
   ]
  },
  {
   "cell_type": "markdown",
   "id": "cd4f522f-5092-42d4-9a32-dababfa3f5fa",
   "metadata": {},
   "source": [
    "# Data exploration"
   ]
  },
  {
   "cell_type": "code",
   "execution_count": 4,
   "id": "87fffb9f-3b4a-48c7-b71b-f7a5bf6cb7a2",
   "metadata": {
    "ExecuteTime": {
     "end_time": "2023-12-17T09:23:32.043037Z",
     "start_time": "2023-12-17T09:23:31.848990Z"
    }
   },
   "outputs": [
    {
     "data": {
      "text/plain": "(71236, 31)"
     },
     "execution_count": 4,
     "metadata": {},
     "output_type": "execute_result"
    }
   ],
   "source": [
    "df.shape"
   ]
  },
  {
   "cell_type": "code",
   "execution_count": 5,
   "id": "01109eb9-16ba-46de-95f2-4dfc432e846c",
   "metadata": {
    "ExecuteTime": {
     "end_time": "2023-12-17T09:23:32.321108Z",
     "start_time": "2023-12-17T09:23:32.028584Z"
    }
   },
   "outputs": [
    {
     "data": {
      "text/plain": "encounter_id                                 0\ncountry                                      0\npatient_id                                   0\nrace                                      3554\ngender                                       0\nage                                       3557\nweight                                       0\npayer_code                                   0\noutpatient_visits_in_previous_year           0\nemergency_visits_in_previous_year            0\ninpatient_visits_in_previous_year            0\nadmission_type                            3706\nmedical_specialty                            0\naverage_pulse_bpm                            0\ndischarge_disposition                     2590\nadmission_source                          4718\nlength_of_stay_in_hospital                   0\nnumber_lab_tests                             0\nnon_lab_procedures                           0\nnumber_of_medications                        0\nprimary_diagnosis                            0\nsecondary_diagnosis                          0\nadditional_diagnosis                         0\nnumber_diagnoses                             0\nglucose_test_result                      67548\na1c_test_result                          59320\nchange_in_meds_during_hospitalization        0\nprescribed_diabetes_meds                     0\nmedication                                   0\nreadmitted_binary                            0\nreadmitted_multiclass                        0\ndtype: int64"
     },
     "execution_count": 5,
     "metadata": {},
     "output_type": "execute_result"
    }
   ],
   "source": [
    "df.isna().sum()"
   ]
  },
  {
   "cell_type": "markdown",
   "id": "946f27a1-9e60-4cad-889c-419825b46416",
   "metadata": {},
   "source": [
    "## Categorical features"
   ]
  },
  {
   "cell_type": "code",
   "execution_count": 6,
   "id": "44115c27-29e0-455b-9be8-112553a13364",
   "metadata": {
    "ExecuteTime": {
     "end_time": "2023-12-17T09:23:32.375906Z",
     "start_time": "2023-12-17T09:23:32.114806Z"
    }
   },
   "outputs": [
    {
     "data": {
      "text/plain": "['country',\n 'race',\n 'gender',\n 'age',\n 'weight',\n 'payer_code',\n 'admission_type',\n 'medical_specialty',\n 'discharge_disposition',\n 'admission_source',\n 'primary_diagnosis',\n 'secondary_diagnosis',\n 'additional_diagnosis',\n 'glucose_test_result',\n 'a1c_test_result',\n 'change_in_meds_during_hospitalization',\n 'prescribed_diabetes_meds',\n 'medication',\n 'readmitted_binary',\n 'readmitted_multiclass']"
     },
     "execution_count": 6,
     "metadata": {},
     "output_type": "execute_result"
    }
   ],
   "source": [
    "cat_cols = df.select_dtypes(exclude=np.number).columns.to_list()\n",
    "cat_cols"
   ]
  },
  {
   "cell_type": "code",
   "execution_count": 7,
   "id": "febaceb5-2864-484a-83ca-49da4b1ab139",
   "metadata": {
    "ExecuteTime": {
     "end_time": "2023-12-17T09:23:32.556931Z",
     "start_time": "2023-12-17T09:23:32.381232Z"
    }
   },
   "outputs": [
    {
     "data": {
      "text/plain": "country                                  0.000000\nrace                                     0.049891\ngender                                   0.000000\nage                                      0.049933\nweight                                   0.000000\npayer_code                               0.000000\nadmission_type                           0.052024\nmedical_specialty                        0.000000\ndischarge_disposition                    0.036358\nadmission_source                         0.066231\nprimary_diagnosis                        0.000000\nsecondary_diagnosis                      0.000000\nadditional_diagnosis                     0.000000\nglucose_test_result                      0.948228\na1c_test_result                          0.832725\nchange_in_meds_during_hospitalization    0.000000\nprescribed_diabetes_meds                 0.000000\nmedication                               0.000000\nreadmitted_binary                        0.000000\nreadmitted_multiclass                    0.000000\ndtype: float64"
     },
     "execution_count": 7,
     "metadata": {},
     "output_type": "execute_result"
    }
   ],
   "source": [
    "df[cat_cols].isna().sum() / df.shape[0]"
   ]
  },
  {
   "cell_type": "markdown",
   "id": "9a1d7cc2-9e7b-48a0-a6ba-5bf6da567972",
   "metadata": {},
   "source": [
    "### Country"
   ]
  },
  {
   "cell_type": "markdown",
   "id": "54d4c32a-d7af-4edb-aa4e-deae3569c4f6",
   "metadata": {},
   "source": [
    "<font color=\"red\" size=3> Only one value, drop."
   ]
  },
  {
   "cell_type": "code",
   "execution_count": 8,
   "id": "2882f810-19e9-45e3-a1d4-e37e38df6559",
   "metadata": {
    "ExecuteTime": {
     "end_time": "2023-12-17T09:23:32.632324Z",
     "start_time": "2023-12-17T09:23:32.515655Z"
    }
   },
   "outputs": [
    {
     "data": {
      "text/plain": "array(['USA'], dtype=object)"
     },
     "execution_count": 8,
     "metadata": {},
     "output_type": "execute_result"
    }
   ],
   "source": [
    "df.country.unique()"
   ]
  },
  {
   "cell_type": "markdown",
   "id": "a37a9925-6b33-4a77-9b7b-a03a18a5c4c7",
   "metadata": {},
   "source": [
    "### Race"
   ]
  },
  {
   "cell_type": "markdown",
   "id": "de097835-31fd-42f3-9a80-504ef2c52198",
   "metadata": {},
   "source": [
    "<font color=\"red\" size=3> Value '?' == nan; deal with nans."
   ]
  },
  {
   "cell_type": "code",
   "execution_count": 9,
   "id": "ac7c2791-a0ce-4e8c-98b6-b13f70a97ae3",
   "metadata": {
    "ExecuteTime": {
     "end_time": "2023-12-17T09:23:32.775351Z",
     "start_time": "2023-12-17T09:23:32.587529Z"
    }
   },
   "outputs": [
    {
     "data": {
      "text/plain": "array(['Caucasian', 'AfricanAmerican', 'Other', nan, 'Hispanic', 'Asian',\n       '?'], dtype=object)"
     },
     "execution_count": 9,
     "metadata": {},
     "output_type": "execute_result"
    }
   ],
   "source": [
    "df.race.unique()"
   ]
  },
  {
   "cell_type": "code",
   "execution_count": 10,
   "id": "94e14b95-10e7-44d9-8f42-8050bcd74a0e",
   "metadata": {
    "ExecuteTime": {
     "end_time": "2023-12-17T09:23:33.075664Z",
     "start_time": "2023-12-17T09:23:32.778985Z"
    }
   },
   "outputs": [
    {
     "data": {
      "text/plain": "<Figure size 640x480 with 1 Axes>",
      "image/png": "[encoded data removed]"
     },
     "metadata": {},
     "output_type": "display_data"
    }
   ],
   "source": [
    "sns.countplot(x='race', data=df, hue='readmitted_binary');"
   ]
  },
  {
   "cell_type": "markdown",
   "id": "f8eb075a-9fbe-4deb-8e26-d91287f431cd",
   "metadata": {},
   "source": [
    "### Gender"
   ]
  },
  {
   "cell_type": "markdown",
   "id": "dd6445ec-fdbd-42be-8891-815c9d048c6c",
   "metadata": {},
   "source": [
    "<font color=\"red\" size=3>Deal with 'Unknown/Invalid'"
   ]
  },
  {
   "cell_type": "code",
   "execution_count": 11,
   "id": "77313cb1-f074-4e79-af72-44f044474b31",
   "metadata": {
    "ExecuteTime": {
     "end_time": "2023-12-17T09:23:33.077415Z",
     "start_time": "2023-12-17T09:23:33.007817Z"
    }
   },
   "outputs": [
    {
     "data": {
      "text/plain": "array(['Female', 'Male', 'Unknown/Invalid'], dtype=object)"
     },
     "execution_count": 11,
     "metadata": {},
     "output_type": "execute_result"
    }
   ],
   "source": [
    "df.gender.unique()"
   ]
  },
  {
   "cell_type": "code",
   "execution_count": 12,
   "id": "a662d787-a9be-45e9-b487-94e431c77c1e",
   "metadata": {
    "ExecuteTime": {
     "end_time": "2023-12-17T09:23:33.354674Z",
     "start_time": "2023-12-17T09:23:33.042293Z"
    }
   },
   "outputs": [
    {
     "data": {
      "text/plain": "<Figure size 640x480 with 1 Axes>",
      "image/png": "[encoded data removed]"
     },
     "metadata": {},
     "output_type": "display_data"
    }
   ],
   "source": [
    "sns.countplot(x='gender', hue='readmitted_binary', data=df);"
   ]
  },
  {
   "cell_type": "code",
   "execution_count": 13,
   "id": "5d6da201-2330-4e7a-97fd-7727a69860f6",
   "metadata": {
    "ExecuteTime": {
     "end_time": "2023-12-17T09:23:33.376061Z",
     "start_time": "2023-12-17T09:23:33.240581Z"
    }
   },
   "outputs": [
    {
     "data": {
      "text/plain": "gender\nFemale             38228\nMale               33005\nUnknown/Invalid        3\nName: count, dtype: int64"
     },
     "execution_count": 13,
     "metadata": {},
     "output_type": "execute_result"
    }
   ],
   "source": [
    "df.gender.value_counts()"
   ]
  },
  {
   "cell_type": "markdown",
   "id": "c23f518a-cb18-4755-ae88-56dcb9753347",
   "metadata": {},
   "source": [
    "### Age"
   ]
  },
  {
   "cell_type": "markdown",
   "id": "21afd6ce-ce1e-4565-9038-2d4c951aba97",
   "metadata": {},
   "source": [
    "<font color=\"red\" size=3>Deal with nan; turn into numeric"
   ]
  },
  {
   "cell_type": "code",
   "execution_count": 14,
   "id": "72876603-cd0e-4b1c-b5bc-dc9d4418aacd",
   "metadata": {
    "ExecuteTime": {
     "end_time": "2023-12-17T09:23:33.377661Z",
     "start_time": "2023-12-17T09:23:33.270722Z"
    }
   },
   "outputs": [
    {
     "data": {
      "text/plain": "array(['[70-80)', '[50-60)', '[60-70)', '[80-90)', nan, '[40-50)',\n       '[20-30)', '[30-40)', '[90-100)', '[10-20)', '[0-10)'],\n      dtype=object)"
     },
     "execution_count": 14,
     "metadata": {},
     "output_type": "execute_result"
    }
   ],
   "source": [
    "df.age.unique()"
   ]
  },
  {
   "cell_type": "code",
   "execution_count": 15,
   "id": "b6467658-9a3d-4c1e-ae73-8d8ae61bc444",
   "metadata": {
    "ExecuteTime": {
     "end_time": "2023-12-17T09:23:33.672441Z",
     "start_time": "2023-12-17T09:23:33.334228Z"
    }
   },
   "outputs": [
    {
     "data": {
      "text/plain": "<Figure size 640x480 with 1 Axes>",
      "image/png": "[encoded data removed]"
     },
     "metadata": {},
     "output_type": "display_data"
    }
   ],
   "source": [
    "sns.countplot(x='age', hue='readmitted_binary', data=df);"
   ]
  },
  {
   "cell_type": "markdown",
   "id": "0b3f5ec7-0d9b-4016-a052-b11b2280110a",
   "metadata": {},
   "source": [
    "### Weight"
   ]
  },
  {
   "cell_type": "markdown",
   "id": "d11f49f5-2585-4b8e-a7d5-75f51e65af60",
   "metadata": {},
   "source": [
    "<font color=\"red\" size=3>97% of \"?\", which are nan. DROP"
   ]
  },
  {
   "cell_type": "code",
   "execution_count": 16,
   "id": "9c9ec448-a4ff-494b-893b-248f0832d94e",
   "metadata": {
    "ExecuteTime": {
     "end_time": "2023-12-17T09:23:33.728750Z",
     "start_time": "2023-12-17T09:23:33.613874Z"
    }
   },
   "outputs": [
    {
     "data": {
      "text/plain": "array(['?', '[50-75)', '[100-125)', '[75-100)', '[125-150)', '[25-50)',\n       '>200', '[0-25)', '[150-175)', '[175-200)'], dtype=object)"
     },
     "execution_count": 16,
     "metadata": {},
     "output_type": "execute_result"
    }
   ],
   "source": [
    "df.weight.unique()"
   ]
  },
  {
   "cell_type": "code",
   "execution_count": 17,
   "id": "70e3a15c-1d81-49a4-b4bb-b9d7690bab5a",
   "metadata": {
    "scrolled": true,
    "ExecuteTime": {
     "end_time": "2023-12-17T09:23:33.799894Z",
     "start_time": "2023-12-17T09:23:33.642303Z"
    }
   },
   "outputs": [
    {
     "data": {
      "text/plain": "weight\n?            0.968471\n[75-100)     0.013097\n[50-75)      0.008928\n[100-125)    0.006303\n[125-150)    0.001348\n[25-50)      0.000941\n[0-25)       0.000491\n[150-175)    0.000295\n[175-200)    0.000098\n>200         0.000028\nName: count, dtype: float64"
     },
     "execution_count": 17,
     "metadata": {},
     "output_type": "execute_result"
    }
   ],
   "source": [
    "df.weight.value_counts() / df.shape[0]"
   ]
  },
  {
   "cell_type": "markdown",
   "id": "db9b3429-09ba-4844-a15b-a767ad330311",
   "metadata": {},
   "source": [
    "### Payer code"
   ]
  },
  {
   "cell_type": "markdown",
   "id": "15f59ab5-1b6d-49dd-b705-8235fe3b70b1",
   "metadata": {},
   "source": [
    "<font color=\"red\" size=3>\"?\" are nan. Are they true nan, or they mean \"no insurance\"? Try both approaches."
   ]
  },
  {
   "cell_type": "code",
   "execution_count": 18,
   "id": "b59f504b-494f-44f8-86fd-d8b3dbc30e17",
   "metadata": {
    "ExecuteTime": {
     "end_time": "2023-12-17T09:23:33.909494Z",
     "start_time": "2023-12-17T09:23:33.732349Z"
    }
   },
   "outputs": [
    {
     "data": {
      "text/plain": "array(['?', 'MC', 'HM', 'UN', 'SP', 'SI', 'CM', 'DM', 'CP', 'MD', 'OG',\n       'BC', 'PO', 'WC', 'OT', 'MP', 'CH', 'FR'], dtype=object)"
     },
     "execution_count": 18,
     "metadata": {},
     "output_type": "execute_result"
    }
   ],
   "source": [
    "df.payer_code.unique()"
   ]
  },
  {
   "cell_type": "code",
   "execution_count": 19,
   "id": "12087c47-ce2d-4041-8eb6-8fac986055d2",
   "metadata": {
    "ExecuteTime": {
     "end_time": "2023-12-17T09:23:34.056331Z",
     "start_time": "2023-12-17T09:23:33.905996Z"
    }
   },
   "outputs": [
    {
     "data": {
      "text/plain": "payer_code\n?     0.395881\nMC    0.318420\nHM    0.060629\nSP    0.049708\nBC    0.046213\nMD    0.034870\nCP    0.024735\nUN    0.024328\nCM    0.018909\nOG    0.010234\nPO    0.005685\nDM    0.005306\nCH    0.001432\nWC    0.001390\nOT    0.000856\nMP    0.000758\nSI    0.000632\nFR    0.000014\nName: count, dtype: float64"
     },
     "execution_count": 19,
     "metadata": {},
     "output_type": "execute_result"
    }
   ],
   "source": [
    "df.payer_code.value_counts() / df.shape[0]"
   ]
  },
  {
   "cell_type": "markdown",
   "id": "b374a25f-3e98-4810-9eb7-1ddcef06d76f",
   "metadata": {},
   "source": [
    "### Admission type"
   ]
  },
  {
   "cell_type": "markdown",
   "id": "ec2bf4e4-cccb-4da2-b101-4d4fe140d917",
   "metadata": {},
   "source": [
    "<font color=\"red\" size=3>Impute nan; Discretize even more the data (get fewer categories)"
   ]
  },
  {
   "cell_type": "code",
   "execution_count": 20,
   "id": "330c6e1c-97d7-4590-88f5-25f7da02267d",
   "metadata": {
    "ExecuteTime": {
     "end_time": "2023-12-17T09:23:34.156287Z",
     "start_time": "2023-12-17T09:23:34.031085Z"
    }
   },
   "outputs": [
    {
     "data": {
      "text/plain": "array(['Emergency', nan, 'Elective', 'Urgent', 'Not Available', 'Newborn',\n       'Not Mapped', 'Trauma Center'], dtype=object)"
     },
     "execution_count": 20,
     "metadata": {},
     "output_type": "execute_result"
    }
   ],
   "source": [
    "df.admission_type.unique()"
   ]
  },
  {
   "cell_type": "code",
   "execution_count": 21,
   "id": "9ef1d91d-b246-4da3-8a10-2ec42e75eaf0",
   "metadata": {
    "ExecuteTime": {
     "end_time": "2023-12-17T09:23:34.345978Z",
     "start_time": "2023-12-17T09:23:34.086874Z"
    }
   },
   "outputs": [
    {
     "data": {
      "text/plain": "<Figure size 640x480 with 1 Axes>",
      "image/png": "[encoded data removed]"
     },
     "metadata": {},
     "output_type": "display_data"
    }
   ],
   "source": [
    "sns.countplot(x='admission_type', hue='readmitted_binary', data=df);"
   ]
  },
  {
   "cell_type": "markdown",
   "id": "f32d5660-f4d7-4bdb-b8bb-e68fb84e7bda",
   "metadata": {},
   "source": [
    "### Medical specialty"
   ]
  },
  {
   "cell_type": "markdown",
   "id": "bbc30335-9156-45f3-b235-fd2117168582",
   "metadata": {},
   "source": [
    "<font color=\"red\" size=3>\"?\" are nan; Impute nan (50%); Discretize even more or drop?"
   ]
  },
  {
   "cell_type": "code",
   "execution_count": 22,
   "id": "5f82d05e-71db-4d0c-bcb0-66a6e25e1a61",
   "metadata": {
    "ExecuteTime": {
     "end_time": "2023-12-17T09:23:34.347394Z",
     "start_time": "2023-12-17T09:23:34.296364Z"
    }
   },
   "outputs": [
    {
     "data": {
      "text/plain": "array(['Family/GeneralPractice', '?', 'InternalMedicine',\n       'Surgery-General', 'Radiologist', 'Emergency/Trauma', 'Hematology',\n       'Nephrology', 'Orthopedics', 'ObstetricsandGynecology',\n       'Psychiatry', 'Cardiology', 'Gastroenterology', 'Psychology',\n       'Surgery-Thoracic', 'Orthopedics-Reconstructive',\n       'Surgery-Vascular', 'PhysicianNotFound', 'Neurology',\n       'PhysicalMedicineandRehabilitation', 'Pulmonology',\n       'Hematology/Oncology', 'Oncology', 'Surgery-Neuro', 'Radiology',\n       'Urology', 'Pediatrics', 'Surgery-Cardiovascular/Thoracic',\n       'Gynecology', 'Pediatrics-Endocrinology', 'Surgery-Maxillofacial',\n       'Podiatry', 'Ophthalmology', 'Endocrinology', 'Obstetrics',\n       'Pediatrics-CriticalCare', 'Otolaryngology',\n       'Pediatrics-Neurology', 'Surgery-Cardiovascular', 'Hospitalist',\n       'Surgery-Plastic', 'Osteopath', 'Pediatrics-Pulmonology',\n       'SurgicalSpecialty', 'InfectiousDiseases', 'AllergyandImmunology',\n       'Surgeon', 'DCPTEAM', 'Anesthesiology-Pediatric',\n       'Obsterics&Gynecology-GynecologicOnco', 'Surgery-Colon&Rectal',\n       'Pathology', 'Rheumatology', 'Anesthesiology',\n       'Pediatrics-EmergencyMedicine', 'Cardiology-Pediatric',\n       'Psychiatry-Child/Adolescent', 'Dentistry', 'OutreachServices',\n       'Speech', 'Pediatrics-AllergyandImmunology', 'Surgery-Pediatric',\n       'Pediatrics-Hematology-Oncology', 'Endocrinology-Metabolism',\n       'SportsMedicine', 'Pediatrics-InfectiousDiseases', 'Proctology',\n       'Resident', 'Neurophysiology'], dtype=object)"
     },
     "execution_count": 22,
     "metadata": {},
     "output_type": "execute_result"
    }
   ],
   "source": [
    "df.medical_specialty.unique()"
   ]
  },
  {
   "cell_type": "code",
   "execution_count": 23,
   "id": "fcab3f43-febd-4b78-b107-a6900d247122",
   "metadata": {
    "scrolled": true,
    "ExecuteTime": {
     "end_time": "2023-12-17T09:23:34.453459Z",
     "start_time": "2023-12-17T09:23:34.331356Z"
    }
   },
   "outputs": [
    {
     "data": {
      "text/plain": "medical_specialty\n?                                0.490230\nInternalMedicine                 0.144478\nEmergency/Trauma                 0.074667\nFamily/GeneralPractice           0.073235\nCardiology                       0.052165\n                                   ...   \nSpeech                           0.000014\nSportsMedicine                   0.000014\nPediatrics-InfectiousDiseases    0.000014\nProctology                       0.000014\nNeurophysiology                  0.000014\nName: count, Length: 69, dtype: float64"
     },
     "execution_count": 23,
     "metadata": {},
     "output_type": "execute_result"
    }
   ],
   "source": [
    "df.medical_specialty.value_counts() / df.shape[0]"
   ]
  },
  {
   "cell_type": "markdown",
   "id": "9a554621-5517-45a7-8c40-019add0ea943",
   "metadata": {},
   "source": [
    "### Discharge disposition"
   ]
  },
  {
   "cell_type": "markdown",
   "id": "47b87913-d077-4db7-b105-36bfd604aa33",
   "metadata": {},
   "source": [
    "<font color=\"red\" size=3>Impute nans; Discretize even more"
   ]
  },
  {
   "cell_type": "code",
   "execution_count": 24,
   "id": "5ce2b50f-541d-48b4-b839-07aeb7a5f45a",
   "metadata": {
    "ExecuteTime": {
     "end_time": "2023-12-17T09:23:34.577815Z",
     "start_time": "2023-12-17T09:23:34.393598Z"
    }
   },
   "outputs": [
    {
     "data": {
      "text/plain": "array(['Discharged to home',\n       'Discharged/transferred to a federal health care facility.',\n       'Discharged/transferred to home with home health service',\n       'Discharged/transferred to SNF', 'Hospice / medical facility', nan,\n       'Discharged/transferred to another short term hospital',\n       'Discharged/transferred to ICF', 'Expired',\n       'Discharged/transferred to another type of inpatient care institution',\n       'Discharged/transferred to another rehab fac including rehab units of a hospital .',\n       'Discharged/transferred to a long term care hospital.', 'Left AMA',\n       'Hospice / home',\n       'Discharged/transferred to home under care of Home IV provider',\n       'Not Mapped',\n       'Discharged/transferred/referred to a psychiatric hospital of psychiatric distinct part unit of a hospital',\n       'Discharged/transferred within this institution to Medicare approved swing bed',\n       'Discharged/transferred to a nursing facility certified under Medicaid but not certified under Medicare.',\n       'Admitted as an inpatient to this hospital',\n       'Discharged/transferred/referred to this institution for outpatient services',\n       'Neonate discharged to another hospital for neonatal aftercare',\n       'Expired at home. Medicaid only, hospice.',\n       'Still patient or expected to return for outpatient services',\n       'Discharged/transferred/referred another institution for outpatient services',\n       'Expired in a medical facility. Medicaid only, hospice.'],\n      dtype=object)"
     },
     "execution_count": 24,
     "metadata": {},
     "output_type": "execute_result"
    }
   ],
   "source": [
    "df.discharge_disposition.unique()"
   ]
  },
  {
   "cell_type": "code",
   "execution_count": 25,
   "id": "8117719b-78bc-40ae-b718-4cc421cad83f",
   "metadata": {
    "ExecuteTime": {
     "end_time": "2023-12-17T09:23:34.684988Z",
     "start_time": "2023-12-17T09:23:34.580752Z"
    }
   },
   "outputs": [
    {
     "data": {
      "text/plain": "discharge_disposition\nDischarged to home                                                                                           42256\nDischarged/transferred to SNF                                                                                 9780\nDischarged/transferred to home with home health service                                                       9005\nDischarged/transferred to another short term hospital                                                         1488\nDischarged/transferred to another rehab fac including rehab units of a hospital .                             1393\nExpired                                                                                                       1135\nDischarged/transferred to another type of inpatient care institution                                           822\nNot Mapped                                                                                                     679\nDischarged/transferred to ICF                                                                                  571\nLeft AMA                                                                                                       421\nDischarged/transferred to a long term care hospital.                                                           280\nHospice / medical facility                                                                                     261\nHospice / home                                                                                                 258\nDischarged/transferred/referred to a psychiatric hospital of psychiatric distinct part unit of a hospital       98\nDischarged/transferred to home under care of Home IV provider                                                   81\nDischarged/transferred within this institution to Medicare approved swing bed                                   44\nDischarged/transferred to a nursing facility certified under Medicaid but not certified under Medicare.         32\nAdmitted as an inpatient to this hospital                                                                       13\nDischarged/transferred/referred to this institution for outpatient services                                      8\nDischarged/transferred/referred another institution for outpatient services                                      7\nExpired at home. Medicaid only, hospice.                                                                         6\nDischarged/transferred to a federal health care facility.                                                        3\nNeonate discharged to another hospital for neonatal aftercare                                                    2\nStill patient or expected to return for outpatient services                                                      2\nExpired in a medical facility. Medicaid only, hospice.                                                           1\nName: count, dtype: int64"
     },
     "execution_count": 25,
     "metadata": {},
     "output_type": "execute_result"
    }
   ],
   "source": [
    "df.discharge_disposition.value_counts()"
   ]
  },
  {
   "cell_type": "markdown",
   "id": "440186e7-7ecd-4976-aeeb-36b130f5e627",
   "metadata": {},
   "source": [
    "### Admission source"
   ]
  },
  {
   "cell_type": "markdown",
   "id": "7e185627-10c3-4729-bc18-7553db466a8b",
   "metadata": {},
   "source": [
    "<font color=\"red\" size=3>Impute nans; Discretize even more"
   ]
  },
  {
   "cell_type": "code",
   "execution_count": 26,
   "id": "c1336253-2ab5-419b-a84d-7774aacce136",
   "metadata": {
    "ExecuteTime": {
     "end_time": "2023-12-17T09:23:34.741960Z",
     "start_time": "2023-12-17T09:23:34.641263Z"
    }
   },
   "outputs": [
    {
     "data": {
      "text/plain": "array([' Emergency Room', 'Clinic Referral', nan,\n       ' Transfer from another health care facility',\n       ' Physician Referral', 'Transfer from a hospital', 'HMO Referral',\n       ' Transfer from a Skilled Nursing Facility (SNF)', ' Not Mapped',\n       ' Not Available', ' Court/Law Enforcement',\n       ' Transfer from hospital inpt/same fac reslt in a sep claim',\n       ' Transfer from critial access hospital', ' Extramural Birth',\n       'Normal Delivery', ' Transfer from Ambulatory Surgery Center',\n       ' Sick Baby'], dtype=object)"
     },
     "execution_count": 26,
     "metadata": {},
     "output_type": "execute_result"
    }
   ],
   "source": [
    "df.admission_source.unique()"
   ]
  },
  {
   "cell_type": "code",
   "execution_count": 27,
   "id": "314c806b-787b-47a1-82fb-7bedc452654d",
   "metadata": {
    "ExecuteTime": {
     "end_time": "2023-12-17T09:23:34.890007Z",
     "start_time": "2023-12-17T09:23:34.744777Z"
    }
   },
   "outputs": [
    {
     "data": {
      "text/plain": "admission_source\n Emergency Room                                               40319\n Physician Referral                                           20678\nTransfer from a hospital                                       2230\n Transfer from another health care facility                    1562\nClinic Referral                                                 779\n Transfer from a Skilled Nursing Facility (SNF)                 595\nHMO Referral                                                    129\n Not Mapped                                                     107\n Not Available                                                   88\n Court/Law Enforcement                                           11\n Transfer from hospital inpt/same fac reslt in a sep claim        8\n Transfer from critial access hospital                            7\n Transfer from Ambulatory Surgery Center                          2\n Extramural Birth                                                 1\nNormal Delivery                                                   1\n Sick Baby                                                        1\nName: count, dtype: int64"
     },
     "execution_count": 27,
     "metadata": {},
     "output_type": "execute_result"
    }
   ],
   "source": [
    "df.admission_source.value_counts()"
   ]
  },
  {
   "cell_type": "markdown",
   "id": "2cccc365-2e14-4ec7-80d9-b28292af908a",
   "metadata": {},
   "source": [
    "### Primary, secondary, additional diagnoses"
   ]
  },
  {
   "cell_type": "markdown",
   "id": "b3f4e1a5-cb67-4c38-b866-928b59469bd3",
   "metadata": {},
   "source": [
    "<font color=\"red\" size=3>Discretize even more"
   ]
  },
  {
   "cell_type": "code",
   "execution_count": 28,
   "id": "82de78dd-79aa-40db-9e4a-086b1dcba24d",
   "metadata": {
    "ExecuteTime": {
     "end_time": "2023-12-17T09:23:34.987607Z",
     "start_time": "2023-12-17T09:23:34.886374Z"
    }
   },
   "outputs": [
    {
     "data": {
      "text/plain": "687"
     },
     "execution_count": 28,
     "metadata": {},
     "output_type": "execute_result"
    }
   ],
   "source": [
    "df.primary_diagnosis.nunique()"
   ]
  },
  {
   "cell_type": "code",
   "execution_count": 29,
   "id": "10ecd671-ede6-458d-a4ac-e02ec376ec2e",
   "metadata": {
    "ExecuteTime": {
     "end_time": "2023-12-17T09:23:35.051215Z",
     "start_time": "2023-12-17T09:23:34.924323Z"
    }
   },
   "outputs": [
    {
     "data": {
      "text/plain": "699"
     },
     "execution_count": 29,
     "metadata": {},
     "output_type": "execute_result"
    }
   ],
   "source": [
    "df.secondary_diagnosis.nunique()"
   ]
  },
  {
   "cell_type": "code",
   "execution_count": 30,
   "id": "07c75d73-83ef-4d17-a721-19cce694e066",
   "metadata": {
    "ExecuteTime": {
     "end_time": "2023-12-17T09:23:35.206533Z",
     "start_time": "2023-12-17T09:23:35.039505Z"
    }
   },
   "outputs": [
    {
     "data": {
      "text/plain": "747"
     },
     "execution_count": 30,
     "metadata": {},
     "output_type": "execute_result"
    }
   ],
   "source": [
    "df.additional_diagnosis.nunique()"
   ]
  },
  {
   "cell_type": "markdown",
   "id": "ecf8e972-9de0-4e7c-90ff-68cb76e4b9df",
   "metadata": {},
   "source": [
    "### Glucose test result"
   ]
  },
  {
   "cell_type": "markdown",
   "id": "53057015-4de2-4aa2-9eb7-de07ef47a475",
   "metadata": {},
   "source": [
    "<font color=\"red\" size=3>95% nan; DROP"
   ]
  },
  {
   "cell_type": "code",
   "execution_count": 31,
   "id": "e197464b-38b6-4099-96fb-f0908516bb32",
   "metadata": {
    "ExecuteTime": {
     "end_time": "2023-12-17T09:23:35.282279Z",
     "start_time": "2023-12-17T09:23:35.176399Z"
    }
   },
   "outputs": [
    {
     "data": {
      "text/plain": "array([nan, '>300', 'Norm', '>200'], dtype=object)"
     },
     "execution_count": 31,
     "metadata": {},
     "output_type": "execute_result"
    }
   ],
   "source": [
    "df.glucose_test_result.unique()"
   ]
  },
  {
   "cell_type": "markdown",
   "id": "bbaaed56-f7a8-48a6-8b5a-79572bdbd53f",
   "metadata": {},
   "source": [
    "### a1c test result"
   ]
  },
  {
   "cell_type": "markdown",
   "id": "649db6c8-99f1-40a6-a90a-44307fd8fc21",
   "metadata": {},
   "source": [
    "<font color=\"red\" size=3>83% nan; DROP"
   ]
  },
  {
   "cell_type": "code",
   "execution_count": 32,
   "id": "2001465e-d14d-42d1-b23b-9e4027d55cda",
   "metadata": {
    "ExecuteTime": {
     "end_time": "2023-12-17T09:23:35.460342Z",
     "start_time": "2023-12-17T09:23:35.253088Z"
    }
   },
   "outputs": [
    {
     "data": {
      "text/plain": "array([nan, 'Norm', '>8', '>7'], dtype=object)"
     },
     "execution_count": 32,
     "metadata": {},
     "output_type": "execute_result"
    }
   ],
   "source": [
    "df.a1c_test_result.unique()"
   ]
  },
  {
   "cell_type": "markdown",
   "id": "e2c4fc3b-ef47-4773-9a9b-542d0653ff4e",
   "metadata": {},
   "source": [
    "### Change in meds during hospitalization"
   ]
  },
  {
   "cell_type": "markdown",
   "id": "df986533-1d85-4566-8b41-949ff5a68e24",
   "metadata": {},
   "source": [
    "<font color=\"red\" size=3>Clean"
   ]
  },
  {
   "cell_type": "code",
   "execution_count": 33,
   "id": "d8a3cd94-1f51-463d-ac00-bfad50f3a443",
   "metadata": {
    "ExecuteTime": {
     "end_time": "2023-12-17T09:23:35.547301Z",
     "start_time": "2023-12-17T09:23:35.421480Z"
    }
   },
   "outputs": [
    {
     "data": {
      "text/plain": "array(['No', 'Ch'], dtype=object)"
     },
     "execution_count": 33,
     "metadata": {},
     "output_type": "execute_result"
    }
   ],
   "source": [
    "df.change_in_meds_during_hospitalization.unique()"
   ]
  },
  {
   "cell_type": "code",
   "execution_count": 34,
   "id": "65cc1ec4-0597-4977-92b3-d6e33fd1a181",
   "metadata": {
    "ExecuteTime": {
     "end_time": "2023-12-17T09:23:35.753612Z",
     "start_time": "2023-12-17T09:23:35.550250Z"
    }
   },
   "outputs": [
    {
     "data": {
      "text/plain": "<Figure size 640x480 with 1 Axes>",
      "image/png": "[encoded data removed]"
     },
     "metadata": {},
     "output_type": "display_data"
    }
   ],
   "source": [
    "sns.countplot(x='change_in_meds_during_hospitalization', hue='readmitted_binary', data=df);"
   ]
  },
  {
   "cell_type": "markdown",
   "id": "c38f0862-db27-41a4-ac2b-31966a957cc7",
   "metadata": {},
   "source": [
    "### Prescribed diabetes meds"
   ]
  },
  {
   "cell_type": "markdown",
   "id": "e58673b7-ffc6-4563-9a8a-51804fa1d9ea",
   "metadata": {},
   "source": [
    "<font color=\"red\" size=3>Clean"
   ]
  },
  {
   "cell_type": "code",
   "execution_count": 35,
   "id": "bbb93462-75d9-42c9-b339-ff3c06559942",
   "metadata": {
    "ExecuteTime": {
     "end_time": "2023-12-17T09:23:35.802445Z",
     "start_time": "2023-12-17T09:23:35.720685Z"
    }
   },
   "outputs": [
    {
     "data": {
      "text/plain": "array(['No', 'Yes'], dtype=object)"
     },
     "execution_count": 35,
     "metadata": {},
     "output_type": "execute_result"
    }
   ],
   "source": [
    "df.prescribed_diabetes_meds.unique()"
   ]
  },
  {
   "cell_type": "code",
   "execution_count": 36,
   "id": "23becada-3ad9-45c8-bbde-6de83bf5fe43",
   "metadata": {
    "ExecuteTime": {
     "end_time": "2023-12-17T09:23:35.990854Z",
     "start_time": "2023-12-17T09:23:35.745177Z"
    }
   },
   "outputs": [
    {
     "data": {
      "text/plain": "<Figure size 640x480 with 1 Axes>",
      "image/png": "[encoded data removed]"
     },
     "metadata": {},
     "output_type": "display_data"
    }
   ],
   "source": [
    "sns.countplot(x='prescribed_diabetes_meds', hue='readmitted_binary', data=df);"
   ]
  },
  {
   "cell_type": "markdown",
   "id": "d79a7eee-e399-44ad-9097-87918b9b8774",
   "metadata": {},
   "source": [
    "### Medication"
   ]
  },
  {
   "cell_type": "markdown",
   "id": "be60f00d-3358-480d-a668-ab7b5591bae7",
   "metadata": {},
   "source": [
    "<font color=\"red\" size=3>Extract medication names from list."
   ]
  },
  {
   "cell_type": "code",
   "execution_count": 37,
   "id": "24e8f9ec-4a81-4327-a9a6-6d1f4ff25e62",
   "metadata": {
    "ExecuteTime": {
     "end_time": "2023-12-17T09:23:35.991302Z",
     "start_time": "2023-12-17T09:23:35.908775Z"
    }
   },
   "outputs": [
    {
     "data": {
      "text/plain": "303"
     },
     "execution_count": 37,
     "metadata": {},
     "output_type": "execute_result"
    }
   ],
   "source": [
    "df.medication.nunique()"
   ]
  },
  {
   "cell_type": "code",
   "execution_count": 38,
   "id": "54b3977d-a33a-4298-8b92-93b9960fa368",
   "metadata": {
    "ExecuteTime": {
     "end_time": "2023-12-17T09:23:36.059246Z",
     "start_time": "2023-12-17T09:23:35.943660Z"
    }
   },
   "outputs": [
    {
     "name": "stdout",
     "output_type": "stream",
     "text": [
      "[]\n",
      "['insulin']\n",
      "['glimepiride', 'insulin']\n",
      "[]\n",
      "[]\n"
     ]
    }
   ],
   "source": [
    "for n in range(5):\n",
    "    print(df.medication[n])"
   ]
  },
  {
   "cell_type": "markdown",
   "id": "6b5f0e09-a0f5-4f94-af05-4e4c578749e4",
   "metadata": {},
   "source": [
    "## Numerical features"
   ]
  },
  {
   "cell_type": "code",
   "execution_count": 39,
   "id": "ffd964ca-d074-4476-aac8-531f6f079ec1",
   "metadata": {
    "ExecuteTime": {
     "end_time": "2023-12-17T09:23:36.208543Z",
     "start_time": "2023-12-17T09:23:36.019175Z"
    }
   },
   "outputs": [
    {
     "data": {
      "text/plain": "['encounter_id',\n 'patient_id',\n 'outpatient_visits_in_previous_year',\n 'emergency_visits_in_previous_year',\n 'inpatient_visits_in_previous_year',\n 'average_pulse_bpm',\n 'length_of_stay_in_hospital',\n 'number_lab_tests',\n 'non_lab_procedures',\n 'number_of_medications',\n 'number_diagnoses']"
     },
     "execution_count": 39,
     "metadata": {},
     "output_type": "execute_result"
    }
   ],
   "source": [
    "num_cols = df.select_dtypes(include=np.number).columns.to_list()\n",
    "num_cols"
   ]
  },
  {
   "cell_type": "code",
   "execution_count": 40,
   "id": "cf7ba82b-a7e7-4b2c-a45d-bb0e076e3b17",
   "metadata": {
    "ExecuteTime": {
     "end_time": "2023-12-17T09:23:36.347687Z",
     "start_time": "2023-12-17T09:23:36.173018Z"
    }
   },
   "outputs": [
    {
     "data": {
      "text/plain": "encounter_id                          0.0\npatient_id                            0.0\noutpatient_visits_in_previous_year    0.0\nemergency_visits_in_previous_year     0.0\ninpatient_visits_in_previous_year     0.0\naverage_pulse_bpm                     0.0\nlength_of_stay_in_hospital            0.0\nnumber_lab_tests                      0.0\nnon_lab_procedures                    0.0\nnumber_of_medications                 0.0\nnumber_diagnoses                      0.0\ndtype: float64"
     },
     "execution_count": 40,
     "metadata": {},
     "output_type": "execute_result"
    }
   ],
   "source": [
    "df[num_cols].isna().sum() / df.shape[0]"
   ]
  },
  {
   "cell_type": "code",
   "execution_count": 41,
   "id": "af904565-5db0-4907-8b4c-84c57cb71a78",
   "metadata": {
    "ExecuteTime": {
     "end_time": "2023-12-17T09:23:36.483731Z",
     "start_time": "2023-12-17T09:23:36.314840Z"
    }
   },
   "outputs": [
    {
     "data": {
      "text/plain": "                                      count          mean           std  \\\nencounter_id                        71236.0  5.487986e+05  2.597047e+05   \npatient_id                          71236.0  5.430228e+07  3.879585e+07   \noutpatient_visits_in_previous_year  71236.0  3.695884e-01  1.287469e+00   \nemergency_visits_in_previous_year   71236.0  1.962491e-01  9.108537e-01   \ninpatient_visits_in_previous_year   71236.0  6.401539e-01  1.267271e+00   \naverage_pulse_bpm                   71236.0  9.961122e+01  2.304052e+01   \nlength_of_stay_in_hospital          71236.0  4.391024e+00  2.988739e+00   \nnumber_lab_tests                    71236.0  4.309565e+01  1.964292e+01   \nnon_lab_procedures                  71236.0  1.340923e+00  1.706664e+00   \nnumber_of_medications               71236.0  1.599545e+01  8.122347e+00   \nnumber_diagnoses                    71236.0  7.421023e+00  1.937809e+00   \n\n                                         min          25%         50%  \\\nencounter_id                        100000.0    323118.50    548370.0   \npatient_id                             135.0  23396510.25  45305631.0   \noutpatient_visits_in_previous_year       0.0         0.00         0.0   \nemergency_visits_in_previous_year        0.0         0.00         0.0   \ninpatient_visits_in_previous_year        0.0         0.00         0.0   \naverage_pulse_bpm                       60.0        80.00       100.0   \nlength_of_stay_in_hospital               1.0         2.00         4.0   \nnumber_lab_tests                         1.0        31.00        44.0   \nnon_lab_procedures                       0.0         0.00         1.0   \nnumber_of_medications                    1.0        10.00        15.0   \nnumber_diagnoses                         1.0         6.00         8.0   \n\n                                            75%          max  \nencounter_id                          774058.50     999980.0  \npatient_id                          87558374.25  189502619.0  \noutpatient_visits_in_previous_year         0.00         42.0  \nemergency_visits_in_previous_year          0.00         76.0  \ninpatient_visits_in_previous_year          1.00         21.0  \naverage_pulse_bpm                        119.00        139.0  \nlength_of_stay_in_hospital                 6.00         14.0  \nnumber_lab_tests                          57.00        121.0  \nnon_lab_procedures                         2.00          6.0  \nnumber_of_medications                     20.00         75.0  \nnumber_diagnoses                           9.00         16.0  ",
      "text/html": "<div>\n<style scoped>\n    .dataframe tbody tr th:only-of-type {\n        vertical-align: middle;\n    }\n\n    .dataframe tbody tr th {\n        vertical-align: top;\n    }\n\n    .dataframe thead th {\n        text-align: right;\n    }\n</style>\n<table border=\"1\" class=\"dataframe\">\n  <thead>\n    <tr style=\"text-align: right;\">\n      <th></th>\n      <th>count</th>\n      <th>mean</th>\n      <th>std</th>\n      <th>min</th>\n      <th>25%</th>\n      <th>50%</th>\n      <th>75%</th>\n      <th>max</th>\n    </tr>\n  </thead>\n  <tbody>\n    <tr>\n      <th>encounter_id</th>\n      <td>71236.0</td>\n      <td>5.487986e+05</td>\n      <td>2.597047e+05</td>\n      <td>100000.0</td>\n      <td>323118.50</td>\n      <td>548370.0</td>\n      <td>774058.50</td>\n      <td>999980.0</td>\n    </tr>\n    <tr>\n      <th>patient_id</th>\n      <td>71236.0</td>\n      <td>5.430228e+07</td>\n      <td>3.879585e+07</td>\n      <td>135.0</td>\n      <td>23396510.25</td>\n      <td>45305631.0</td>\n      <td>87558374.25</td>\n      <td>189502619.0</td>\n    </tr>\n    <tr>\n      <th>outpatient_visits_in_previous_year</th>\n      <td>71236.0</td>\n      <td>3.695884e-01</td>\n      <td>1.287469e+00</td>\n      <td>0.0</td>\n      <td>0.00</td>\n      <td>0.0</td>\n      <td>0.00</td>\n      <td>42.0</td>\n    </tr>\n    <tr>\n      <th>emergency_visits_in_previous_year</th>\n      <td>71236.0</td>\n      <td>1.962491e-01</td>\n      <td>9.108537e-01</td>\n      <td>0.0</td>\n      <td>0.00</td>\n      <td>0.0</td>\n      <td>0.00</td>\n      <td>76.0</td>\n    </tr>\n    <tr>\n      <th>inpatient_visits_in_previous_year</th>\n      <td>71236.0</td>\n      <td>6.401539e-01</td>\n      <td>1.267271e+00</td>\n      <td>0.0</td>\n      <td>0.00</td>\n      <td>0.0</td>\n      <td>1.00</td>\n      <td>21.0</td>\n    </tr>\n    <tr>\n      <th>average_pulse_bpm</th>\n      <td>71236.0</td>\n      <td>9.961122e+01</td>\n      <td>2.304052e+01</td>\n      <td>60.0</td>\n      <td>80.00</td>\n      <td>100.0</td>\n      <td>119.00</td>\n      <td>139.0</td>\n    </tr>\n    <tr>\n      <th>length_of_stay_in_hospital</th>\n      <td>71236.0</td>\n      <td>4.391024e+00</td>\n      <td>2.988739e+00</td>\n      <td>1.0</td>\n      <td>2.00</td>\n      <td>4.0</td>\n      <td>6.00</td>\n      <td>14.0</td>\n    </tr>\n    <tr>\n      <th>number_lab_tests</th>\n      <td>71236.0</td>\n      <td>4.309565e+01</td>\n      <td>1.964292e+01</td>\n      <td>1.0</td>\n      <td>31.00</td>\n      <td>44.0</td>\n      <td>57.00</td>\n      <td>121.0</td>\n    </tr>\n    <tr>\n      <th>non_lab_procedures</th>\n      <td>71236.0</td>\n      <td>1.340923e+00</td>\n      <td>1.706664e+00</td>\n      <td>0.0</td>\n      <td>0.00</td>\n      <td>1.0</td>\n      <td>2.00</td>\n      <td>6.0</td>\n    </tr>\n    <tr>\n      <th>number_of_medications</th>\n      <td>71236.0</td>\n      <td>1.599545e+01</td>\n      <td>8.122347e+00</td>\n      <td>1.0</td>\n      <td>10.00</td>\n      <td>15.0</td>\n      <td>20.00</td>\n      <td>75.0</td>\n    </tr>\n    <tr>\n      <th>number_diagnoses</th>\n      <td>71236.0</td>\n      <td>7.421023e+00</td>\n      <td>1.937809e+00</td>\n      <td>1.0</td>\n      <td>6.00</td>\n      <td>8.0</td>\n      <td>9.00</td>\n      <td>16.0</td>\n    </tr>\n  </tbody>\n</table>\n</div>"
     },
     "execution_count": 41,
     "metadata": {},
     "output_type": "execute_result"
    }
   ],
   "source": [
    "df[num_cols].describe().T"
   ]
  },
  {
   "cell_type": "markdown",
   "id": "05800e68-3e5d-4eca-81e4-c5ff0444ec71",
   "metadata": {},
   "source": [
    "### Outpatient, inpatient, emergency visits in previous year"
   ]
  },
  {
   "cell_type": "markdown",
   "id": "2d9b06c1-a984-45dd-9d51-9e8e6a205301",
   "metadata": {},
   "source": [
    "<font color=\"red\" size=3>All 3 have similar distrubutions. Very skewed, long right tail. Maybe normalize somehow? Or engineer into something else."
   ]
  },
  {
   "cell_type": "code",
   "execution_count": 42,
   "id": "c7f0030d-c3ed-4d0f-a6e7-15b331ec89dd",
   "metadata": {
    "ExecuteTime": {
     "end_time": "2023-12-17T09:23:36.860198Z",
     "start_time": "2023-12-17T09:23:36.435868Z"
    }
   },
   "outputs": [
    {
     "data": {
      "text/plain": "<Figure size 640x480 with 1 Axes>",
      "image/png": "[encoded data removed]"
     },
     "metadata": {},
     "output_type": "display_data"
    }
   ],
   "source": [
    "sns.histplot(x='outpatient_visits_in_previous_year', data=df[df.outpatient_visits_in_previous_year>0]);"
   ]
  },
  {
   "cell_type": "code",
   "execution_count": 43,
   "id": "90e46334-1955-4c3e-af44-086df1c806f8",
   "metadata": {
    "ExecuteTime": {
     "end_time": "2023-12-17T09:23:37.039391Z",
     "start_time": "2023-12-17T09:23:36.726613Z"
    }
   },
   "outputs": [
    {
     "data": {
      "text/plain": "<Figure size 640x480 with 1 Axes>",
      "image/png": "[encoded data removed]"
     },
     "metadata": {},
     "output_type": "display_data"
    }
   ],
   "source": [
    "sns.histplot(x='inpatient_visits_in_previous_year', data=df[df.outpatient_visits_in_previous_year>0]);"
   ]
  },
  {
   "cell_type": "code",
   "execution_count": 44,
   "id": "a22c12ef-87f3-402d-93c1-efda97fa5f9c",
   "metadata": {
    "ExecuteTime": {
     "end_time": "2023-12-17T09:23:37.215536Z",
     "start_time": "2023-12-17T09:23:37.020272Z"
    }
   },
   "outputs": [
    {
     "data": {
      "text/plain": "<Figure size 640x480 with 1 Axes>",
      "image/png": "[encoded data removed]"
     },
     "metadata": {},
     "output_type": "display_data"
    }
   ],
   "source": [
    "sns.histplot(x='emergency_visits_in_previous_year', data=df[df.outpatient_visits_in_previous_year>0]);"
   ]
  },
  {
   "cell_type": "markdown",
   "id": "42a56fe6-2e97-4e52-929a-24e7e47625f6",
   "metadata": {},
   "source": [
    "### Average pulse bpm"
   ]
  },
  {
   "cell_type": "markdown",
   "id": "ae858af2-4c84-400c-b272-675fbdfeae2e",
   "metadata": {},
   "source": [
    "<font color=\"red\" size=3>Clean"
   ]
  },
  {
   "cell_type": "code",
   "execution_count": 45,
   "id": "e2f9396f-df6f-4f0d-82b3-ea5cd4ec33c7",
   "metadata": {
    "ExecuteTime": {
     "end_time": "2023-12-17T09:23:37.497630Z",
     "start_time": "2023-12-17T09:23:37.205561Z"
    }
   },
   "outputs": [
    {
     "data": {
      "text/plain": "<Figure size 640x480 with 1 Axes>",
      "image/png": "[encoded data removed]"
     },
     "metadata": {},
     "output_type": "display_data"
    }
   ],
   "source": [
    "sns.histplot(x='average_pulse_bpm', data=df);"
   ]
  },
  {
   "cell_type": "markdown",
   "id": "8afd4773-8ddc-43b8-a192-f6dea1857956",
   "metadata": {},
   "source": [
    "### Length of stay in hospital"
   ]
  },
  {
   "cell_type": "markdown",
   "id": "9df322dd-c678-41a2-84c7-dd13df260755",
   "metadata": {},
   "source": [
    "<font color=\"red\" size=3>Outliers > 13, by IQR definition"
   ]
  },
  {
   "cell_type": "code",
   "execution_count": 46,
   "id": "66380228-f9e0-4c7a-9d5f-d0c82623cf42",
   "metadata": {
    "ExecuteTime": {
     "end_time": "2023-12-17T09:23:37.658475Z",
     "start_time": "2023-12-17T09:23:37.422022Z"
    }
   },
   "outputs": [
    {
     "data": {
      "text/plain": "<Figure size 640x480 with 1 Axes>",
      "image/png": "[encoded data removed]"
     },
     "metadata": {},
     "output_type": "display_data"
    }
   ],
   "source": [
    "sns.histplot(x='length_of_stay_in_hospital', data=df);"
   ]
  },
  {
   "cell_type": "code",
   "execution_count": 47,
   "id": "47c99f9d-27e7-42c2-b632-8099a9211fe8",
   "metadata": {
    "ExecuteTime": {
     "end_time": "2023-12-17T09:23:37.820931Z",
     "start_time": "2023-12-17T09:23:37.636073Z"
    }
   },
   "outputs": [
    {
     "data": {
      "text/plain": "<Figure size 640x480 with 1 Axes>",
      "image/png": "[encoded data removed]"
     },
     "metadata": {},
     "output_type": "display_data"
    }
   ],
   "source": [
    "sns.boxplot(x='length_of_stay_in_hospital', data=df);"
   ]
  },
  {
   "cell_type": "markdown",
   "id": "17ec85e7-06d6-4dab-8274-a225869a1ffe",
   "metadata": {},
   "source": [
    "### Number lab tests"
   ]
  },
  {
   "cell_type": "markdown",
   "id": "e47e5285-134c-49ef-ba34-18d7214a9e00",
   "metadata": {},
   "source": [
    "<font color=\"red\" size=3>Outliers > 100"
   ]
  },
  {
   "cell_type": "code",
   "execution_count": 48,
   "id": "859d20ea-976b-4fd4-b931-f1a606e48929",
   "metadata": {
    "ExecuteTime": {
     "end_time": "2023-12-17T09:23:38.078810Z",
     "start_time": "2023-12-17T09:23:37.763854Z"
    }
   },
   "outputs": [
    {
     "data": {
      "text/plain": "<Figure size 640x480 with 1 Axes>",
      "image/png": "[encoded data removed]"
     },
     "metadata": {},
     "output_type": "display_data"
    }
   ],
   "source": [
    "sns.histplot(x='number_lab_tests', data=df);"
   ]
  },
  {
   "cell_type": "code",
   "execution_count": 49,
   "id": "4bd33b3f-2d89-4305-ab50-9170be9bd89f",
   "metadata": {
    "ExecuteTime": {
     "end_time": "2023-12-17T09:23:38.287384Z",
     "start_time": "2023-12-17T09:23:38.026706Z"
    }
   },
   "outputs": [
    {
     "data": {
      "text/plain": "<Figure size 640x480 with 1 Axes>",
      "image/png": "[encoded data removed]"
     },
     "metadata": {},
     "output_type": "display_data"
    }
   ],
   "source": [
    "sns.boxplot(x='number_lab_tests', data=df);"
   ]
  },
  {
   "cell_type": "markdown",
   "id": "1f3e5a46-add6-4cc8-ad7d-37ddc6d0fde7",
   "metadata": {},
   "source": [
    "### Non lab procedures"
   ]
  },
  {
   "cell_type": "markdown",
   "id": "0db4f850-e645-4cb7-bfb1-eea297cdbae9",
   "metadata": {},
   "source": [
    "<font color=\"red\" size=3>Clean; 6 could be outliers, but there are more than 5."
   ]
  },
  {
   "cell_type": "code",
   "execution_count": 50,
   "id": "e42ed5b0-9eb5-4e12-a2aa-9759aece9fcc",
   "metadata": {
    "ExecuteTime": {
     "end_time": "2023-12-17T09:23:38.671617Z",
     "start_time": "2023-12-17T09:23:38.198187Z"
    }
   },
   "outputs": [
    {
     "data": {
      "text/plain": "<Figure size 640x480 with 1 Axes>",
      "image/png": "[encoded data removed]"
     },
     "metadata": {},
     "output_type": "display_data"
    }
   ],
   "source": [
    "sns.histplot(x='non_lab_procedures', data=df);"
   ]
  },
  {
   "cell_type": "code",
   "execution_count": 51,
   "id": "9fc05526-afe9-49fa-b27d-2ad97de1ee33",
   "metadata": {
    "ExecuteTime": {
     "end_time": "2023-12-17T09:23:38.881531Z",
     "start_time": "2023-12-17T09:23:38.556713Z"
    }
   },
   "outputs": [
    {
     "data": {
      "text/plain": "<Figure size 640x480 with 1 Axes>",
      "image/png": "[encoded data removed]"
     },
     "metadata": {},
     "output_type": "display_data"
    }
   ],
   "source": [
    "sns.boxplot(x='non_lab_procedures', data=df);"
   ]
  },
  {
   "cell_type": "code",
   "execution_count": 52,
   "id": "4a9c06cc-e269-47c9-9297-78629605adc3",
   "metadata": {
    "ExecuteTime": {
     "end_time": "2023-12-17T09:23:38.883564Z",
     "start_time": "2023-12-17T09:23:38.758920Z"
    }
   },
   "outputs": [
    {
     "data": {
      "text/plain": "non_lab_procedures\n0    0.458083\n1    0.204012\n2    0.124881\n3    0.092846\n4    0.041103\n5    0.030252\n6    0.048824\nName: count, dtype: float64"
     },
     "execution_count": 52,
     "metadata": {},
     "output_type": "execute_result"
    }
   ],
   "source": [
    "df.non_lab_procedures.value_counts().sort_index() / df.shape[0]"
   ]
  },
  {
   "cell_type": "markdown",
   "id": "5ab1ceff-f4b4-407a-9bbd-50a7abf44d20",
   "metadata": {},
   "source": [
    "### Number of medications"
   ]
  },
  {
   "cell_type": "markdown",
   "id": "e2d0668e-d2bb-468f-b1f7-62f2cceeb2ec",
   "metadata": {},
   "source": [
    "<font color=\"red\" size=3>Outliers > 50"
   ]
  },
  {
   "cell_type": "code",
   "execution_count": 53,
   "id": "57aab1ed-1609-4049-9a77-71ded02d8289",
   "metadata": {
    "ExecuteTime": {
     "end_time": "2023-12-17T09:23:39.246464Z",
     "start_time": "2023-12-17T09:23:38.789155Z"
    }
   },
   "outputs": [
    {
     "data": {
      "text/plain": "<Figure size 640x480 with 1 Axes>",
      "image/png": "[encoded data removed]"
     },
     "metadata": {},
     "output_type": "display_data"
    }
   ],
   "source": [
    "sns.histplot(x='number_of_medications', data=df);"
   ]
  },
  {
   "cell_type": "code",
   "execution_count": 54,
   "id": "09da9f9a-bcad-4e20-ba8e-f9f3807e5b11",
   "metadata": {
    "ExecuteTime": {
     "end_time": "2023-12-17T09:23:39.464038Z",
     "start_time": "2023-12-17T09:23:39.165243Z"
    }
   },
   "outputs": [
    {
     "data": {
      "text/plain": "<Figure size 640x480 with 1 Axes>",
      "image/png": "[encoded data removed]"
     },
     "metadata": {},
     "output_type": "display_data"
    }
   ],
   "source": [
    "sns.boxplot(x='number_of_medications', data=df);"
   ]
  },
  {
   "cell_type": "markdown",
   "id": "d2063264-f2b6-4b81-b50a-ee88440f2350",
   "metadata": {},
   "source": [
    "### Number diagnoses"
   ]
  },
  {
   "cell_type": "markdown",
   "id": "29523d49-ed48-4d05-97c7-a44bf9422f57",
   "metadata": {},
   "source": [
    "<font color=\"red\" size=3>Outliers > 9. There's a clear threshold on 9"
   ]
  },
  {
   "cell_type": "code",
   "execution_count": 55,
   "id": "4b75c817-94e9-466e-9e96-3bb3ffb3821a",
   "metadata": {
    "ExecuteTime": {
     "end_time": "2023-12-17T09:23:39.814649Z",
     "start_time": "2023-12-17T09:23:39.373072Z"
    }
   },
   "outputs": [
    {
     "data": {
      "text/plain": "<Figure size 640x480 with 1 Axes>",
      "image/png": "[encoded data removed]"
     },
     "metadata": {},
     "output_type": "display_data"
    }
   ],
   "source": [
    "sns.histplot(x='number_diagnoses', data=df);"
   ]
  },
  {
   "cell_type": "code",
   "execution_count": 56,
   "id": "3b4da473-ca8e-45a7-b0f5-f5e6951e02cf",
   "metadata": {
    "ExecuteTime": {
     "end_time": "2023-12-17T09:23:40.014280Z",
     "start_time": "2023-12-17T09:23:39.731335Z"
    }
   },
   "outputs": [
    {
     "data": {
      "text/plain": "<Figure size 640x480 with 1 Axes>",
      "image/png": "[encoded data removed]"
     },
     "metadata": {},
     "output_type": "display_data"
    }
   ],
   "source": [
    "sns.boxplot(x='number_diagnoses', data=df);"
   ]
  },
  {
   "cell_type": "markdown",
   "id": "a1d1e886-6bb2-4138-a4e8-b4e2a7b423d2",
   "metadata": {},
   "source": [
    "# Preprocess"
   ]
  },
  {
   "cell_type": "markdown",
   "id": "63f0afe8-15f3-46de-8f87-3d9ba55fb883",
   "metadata": {},
   "source": [
    "## Outlier removal"
   ]
  },
  {
   "cell_type": "markdown",
   "id": "c3749443-bf58-4f34-a211-7db5781d8f71",
   "metadata": {},
   "source": [
    "<font color=\"red\" size=3>97% of original data kept after outlier removal."
   ]
  },
  {
   "cell_type": "code",
   "execution_count": 57,
   "id": "34475c9b-ecff-41e2-81ae-a8bf641913d6",
   "metadata": {
    "ExecuteTime": {
     "end_time": "2023-12-17T09:23:40.055031Z",
     "start_time": "2023-12-17T09:23:39.929644Z"
    }
   },
   "outputs": [
    {
     "data": {
      "text/plain": "(69250, 31)"
     },
     "execution_count": 57,
     "metadata": {},
     "output_type": "execute_result"
    }
   ],
   "source": [
    "filters = (df.length_of_stay_in_hospital < 13) & \\\n",
    "          (df.number_lab_tests < 100) & \\\n",
    "          (df.number_of_medications < 50) & \\\n",
    "          (df.number_diagnoses <=9)\n",
    "\n",
    "df[filters].shape"
   ]
  },
  {
   "cell_type": "code",
   "execution_count": 58,
   "id": "43e5cb0f-5179-48c1-b134-aee821262801",
   "metadata": {
    "ExecuteTime": {
     "end_time": "2023-12-17T09:23:40.252828Z",
     "start_time": "2023-12-17T09:23:39.982838Z"
    }
   },
   "outputs": [
    {
     "data": {
      "text/plain": "0.9721208377786512"
     },
     "execution_count": 58,
     "metadata": {},
     "output_type": "execute_result"
    }
   ],
   "source": [
    "df[filters].shape[0] / df.shape[0]"
   ]
  },
  {
   "cell_type": "code",
   "execution_count": 59,
   "id": "9355bdbc-4533-4318-a37d-a3b5348ae27e",
   "metadata": {
    "ExecuteTime": {
     "end_time": "2023-12-17T09:23:41.168355Z",
     "start_time": "2023-12-17T09:23:40.031706Z"
    }
   },
   "outputs": [],
   "source": [
    "df[filters].to_csv(os.path.join('..', 'clean_data', 'outliers.csv')) # Save to use later"
   ]
  },
  {
   "cell_type": "markdown",
   "id": "b15395aa-5221-4643-a147-73d5f06ae7b8",
   "metadata": {},
   "source": [
    "## Preprocessing"
   ]
  },
  {
   "cell_type": "markdown",
   "id": "cf139da2-55ab-46c2-aeee-42058dd72ee1",
   "metadata": {},
   "source": [
    "In this section, the whole preprocessing and feature engineering was summarized into a CustomCleaner class, in a separated utils.py module, taking advantage of the sklearn.base classes \"TransformerMixin\" and \"BaseEstimator\"."
   ]
  },
  {
   "cell_type": "markdown",
   "id": "e0de9b07-9ad8-4f37-8c7c-363117ec2827",
   "metadata": {},
   "source": [
    "This way, our custom class has access to .fit and .transform methods, ensuring that whatever transformation we apply on the training set will be replicated in the test set and that any change in the transformations or new features addition can be easily done in an isolated way."
   ]
  },
  {
   "cell_type": "markdown",
   "id": "f3cf23f5-0a10-4dc5-a260-897899eb53d9",
   "metadata": {},
   "source": [
    "The specifics of the transformations are documented in the CustomCleaner docstring."
   ]
  },
  {
   "cell_type": "code",
   "execution_count": 60,
   "id": "0d72f53e-1503-42a5-8d8e-d698b3d89d0e",
   "metadata": {
    "ExecuteTime": {
     "end_time": "2023-12-17T09:23:41.181261Z",
     "start_time": "2023-12-17T09:23:40.987393Z"
    }
   },
   "outputs": [
    {
     "name": "stdout",
     "output_type": "stream",
     "text": [
      "None\n"
     ]
    }
   ],
   "source": [
    "cleaner = CustomCleaner()\n",
    "print(cleaner.__doc__)"
   ]
  },
  {
   "cell_type": "code",
   "execution_count": 61,
   "id": "d1868109-a96d-4630-922c-a51e1785396e",
   "metadata": {
    "ExecuteTime": {
     "end_time": "2023-12-17T09:23:41.480785Z",
     "start_time": "2023-12-17T09:23:41.043312Z"
    }
   },
   "outputs": [
    {
     "data": {
      "text/plain": "   encounter_id country  patient_id             race  gender      age weight  \\\n0        533253     USA       70110        Caucasian  Female  [70-80)      ?   \n2        634063     USA    80729253        Caucasian  Female  [60-70)      ?   \n3        890610     USA     2919042  AfricanAmerican    Male  [60-70)      ?   \n4        654194     USA    84871971        Caucasian  Female  [70-80)      ?   \n5        269878     USA      279288        Caucasian  Female  [50-60)      ?   \n\n  payer_code  outpatient_visits_in_previous_year  \\\n0          ?                                   0   \n2          ?                                   0   \n3         MC                                   0   \n4         HM                                   1   \n5          ?                                   0   \n\n   emergency_visits_in_previous_year  ...  secondary_diagnosis  \\\n0                                  0  ...                  276   \n2                                  0  ...                  135   \n3                                  0  ...                  562   \n4                                  0  ...                  599   \n5                                  0  ...                  250   \n\n  additional_diagnosis number_diagnoses  glucose_test_result a1c_test_result  \\\n0                  466                8                  NaN             NaN   \n2                  250                6                  NaN             NaN   \n3                  455                5                  NaN             NaN   \n4                  428                9                  NaN             NaN   \n5                  244                3                  NaN            Norm   \n\n  change_in_meds_during_hospitalization  prescribed_diabetes_meds  \\\n0                                    No                        No   \n2                                    Ch                       Yes   \n3                                    No                        No   \n4                                    No                        No   \n5                                    No                        No   \n\n                   medication  readmitted_binary  readmitted_multiclass  \n0                          []                 No               >30 days  \n2  ['glimepiride', 'insulin']                 No                     No  \n3                          []                 No                     No  \n4                          []                 No               >30 days  \n5                          []                 No               >30 days  \n\n[5 rows x 31 columns]",
      "text/html": "<div>\n<style scoped>\n    .dataframe tbody tr th:only-of-type {\n        vertical-align: middle;\n    }\n\n    .dataframe tbody tr th {\n        vertical-align: top;\n    }\n\n    .dataframe thead th {\n        text-align: right;\n    }\n</style>\n<table border=\"1\" class=\"dataframe\">\n  <thead>\n    <tr style=\"text-align: right;\">\n      <th></th>\n      <th>encounter_id</th>\n      <th>country</th>\n      <th>patient_id</th>\n      <th>race</th>\n      <th>gender</th>\n      <th>age</th>\n      <th>weight</th>\n      <th>payer_code</th>\n      <th>outpatient_visits_in_previous_year</th>\n      <th>emergency_visits_in_previous_year</th>\n      <th>...</th>\n      <th>secondary_diagnosis</th>\n      <th>additional_diagnosis</th>\n      <th>number_diagnoses</th>\n      <th>glucose_test_result</th>\n      <th>a1c_test_result</th>\n      <th>change_in_meds_during_hospitalization</th>\n      <th>prescribed_diabetes_meds</th>\n      <th>medication</th>\n      <th>readmitted_binary</th>\n      <th>readmitted_multiclass</th>\n    </tr>\n  </thead>\n  <tbody>\n    <tr>\n      <th>0</th>\n      <td>533253</td>\n      <td>USA</td>\n      <td>70110</td>\n      <td>Caucasian</td>\n      <td>Female</td>\n      <td>[70-80)</td>\n      <td>?</td>\n      <td>?</td>\n      <td>0</td>\n      <td>0</td>\n      <td>...</td>\n      <td>276</td>\n      <td>466</td>\n      <td>8</td>\n      <td>NaN</td>\n      <td>NaN</td>\n      <td>No</td>\n      <td>No</td>\n      <td>[]</td>\n      <td>No</td>\n      <td>&gt;30 days</td>\n    </tr>\n    <tr>\n      <th>2</th>\n      <td>634063</td>\n      <td>USA</td>\n      <td>80729253</td>\n      <td>Caucasian</td>\n      <td>Female</td>\n      <td>[60-70)</td>\n      <td>?</td>\n      <td>?</td>\n      <td>0</td>\n      <td>0</td>\n      <td>...</td>\n      <td>135</td>\n      <td>250</td>\n      <td>6</td>\n      <td>NaN</td>\n      <td>NaN</td>\n      <td>Ch</td>\n      <td>Yes</td>\n      <td>['glimepiride', 'insulin']</td>\n      <td>No</td>\n      <td>No</td>\n    </tr>\n    <tr>\n      <th>3</th>\n      <td>890610</td>\n      <td>USA</td>\n      <td>2919042</td>\n      <td>AfricanAmerican</td>\n      <td>Male</td>\n      <td>[60-70)</td>\n      <td>?</td>\n      <td>MC</td>\n      <td>0</td>\n      <td>0</td>\n      <td>...</td>\n      <td>562</td>\n      <td>455</td>\n      <td>5</td>\n      <td>NaN</td>\n      <td>NaN</td>\n      <td>No</td>\n      <td>No</td>\n      <td>[]</td>\n      <td>No</td>\n      <td>No</td>\n    </tr>\n    <tr>\n      <th>4</th>\n      <td>654194</td>\n      <td>USA</td>\n      <td>84871971</td>\n      <td>Caucasian</td>\n      <td>Female</td>\n      <td>[70-80)</td>\n      <td>?</td>\n      <td>HM</td>\n      <td>1</td>\n      <td>0</td>\n      <td>...</td>\n      <td>599</td>\n      <td>428</td>\n      <td>9</td>\n      <td>NaN</td>\n      <td>NaN</td>\n      <td>No</td>\n      <td>No</td>\n      <td>[]</td>\n      <td>No</td>\n      <td>&gt;30 days</td>\n    </tr>\n    <tr>\n      <th>5</th>\n      <td>269878</td>\n      <td>USA</td>\n      <td>279288</td>\n      <td>Caucasian</td>\n      <td>Female</td>\n      <td>[50-60)</td>\n      <td>?</td>\n      <td>?</td>\n      <td>0</td>\n      <td>0</td>\n      <td>...</td>\n      <td>250</td>\n      <td>244</td>\n      <td>3</td>\n      <td>NaN</td>\n      <td>Norm</td>\n      <td>No</td>\n      <td>No</td>\n      <td>[]</td>\n      <td>No</td>\n      <td>&gt;30 days</td>\n    </tr>\n  </tbody>\n</table>\n<p>5 rows × 31 columns</p>\n</div>"
     },
     "execution_count": 61,
     "metadata": {},
     "output_type": "execute_result"
    }
   ],
   "source": [
    "# Using the df with outlier removal\n",
    "df = pd.read_csv(os.path.join('..', 'clean_data', 'outliers.csv'), index_col=0)\n",
    "df.head()"
   ]
  },
  {
   "cell_type": "code",
   "execution_count": 62,
   "id": "4c94e047-791f-4d51-bc2b-40092fde777c",
   "metadata": {
    "ExecuteTime": {
     "end_time": "2023-12-17T09:24:02.733364Z",
     "start_time": "2023-12-17T09:23:41.375471Z"
    }
   },
   "outputs": [
    {
     "data": {
      "text/plain": "   encounter_id country  patient_id             race  gender   age weight  \\\n0        533253     USA       70110        Caucasian  Female  75.0    NaN   \n2        634063     USA    80729253        Caucasian  Female  65.0    NaN   \n3        890610     USA     2919042  AfricanAmerican    Male  65.0    NaN   \n4        654194     USA    84871971        Caucasian  Female  75.0    NaN   \n5        269878     USA      279288        Caucasian  Female  55.0    NaN   \n\n   payer_code  outpatient_visits_in_previous_year  \\\n0       False                                   0   \n2       False                                   0   \n3        True                                   0   \n4        True                                   1   \n5       False                                   0   \n\n   emergency_visits_in_previous_year  ...  pioglitazone repaglinide  \\\n0                                  0  ...         False       False   \n2                                  0  ...         False       False   \n3                                  0  ...         False       False   \n4                                  0  ...         False       False   \n5                                  0  ...         False       False   \n\n  tolbutamide  number_diab_meds number_visits_per_patient  \\\n0       False                 0                         6   \n2       False                 2                         1   \n3       False                 0                         1   \n4       False                 0                         2   \n5       False                 0                         1   \n\n  n_medication_per_day  n_lab_tests_per_day  prop_inpatient  prop_outpatient  \\\n0             2.302585             3.178054        0.333333              0.0   \n2             1.299283             2.302585        1.000000              0.0   \n3             0.405465             2.079442        1.000000              0.0   \n4             0.916291             2.058388        0.000000              0.5   \n5             1.203973             2.961831        0.000000              0.0   \n\n   prop_emergency  \n0             0.0  \n2             0.0  \n3             0.0  \n4             0.0  \n5             0.0  \n\n[5 rows x 58 columns]",
      "text/html": "<div>\n<style scoped>\n    .dataframe tbody tr th:only-of-type {\n        vertical-align: middle;\n    }\n\n    .dataframe tbody tr th {\n        vertical-align: top;\n    }\n\n    .dataframe thead th {\n        text-align: right;\n    }\n</style>\n<table border=\"1\" class=\"dataframe\">\n  <thead>\n    <tr style=\"text-align: right;\">\n      <th></th>\n      <th>encounter_id</th>\n      <th>country</th>\n      <th>patient_id</th>\n      <th>race</th>\n      <th>gender</th>\n      <th>age</th>\n      <th>weight</th>\n      <th>payer_code</th>\n      <th>outpatient_visits_in_previous_year</th>\n      <th>emergency_visits_in_previous_year</th>\n      <th>...</th>\n      <th>pioglitazone</th>\n      <th>repaglinide</th>\n      <th>tolbutamide</th>\n      <th>number_diab_meds</th>\n      <th>number_visits_per_patient</th>\n      <th>n_medication_per_day</th>\n      <th>n_lab_tests_per_day</th>\n      <th>prop_inpatient</th>\n      <th>prop_outpatient</th>\n      <th>prop_emergency</th>\n    </tr>\n  </thead>\n  <tbody>\n    <tr>\n      <th>0</th>\n      <td>533253</td>\n      <td>USA</td>\n      <td>70110</td>\n      <td>Caucasian</td>\n      <td>Female</td>\n      <td>75.0</td>\n      <td>NaN</td>\n      <td>False</td>\n      <td>0</td>\n      <td>0</td>\n      <td>...</td>\n      <td>False</td>\n      <td>False</td>\n      <td>False</td>\n      <td>0</td>\n      <td>6</td>\n      <td>2.302585</td>\n      <td>3.178054</td>\n      <td>0.333333</td>\n      <td>0.0</td>\n      <td>0.0</td>\n    </tr>\n    <tr>\n      <th>2</th>\n      <td>634063</td>\n      <td>USA</td>\n      <td>80729253</td>\n      <td>Caucasian</td>\n      <td>Female</td>\n      <td>65.0</td>\n      <td>NaN</td>\n      <td>False</td>\n      <td>0</td>\n      <td>0</td>\n      <td>...</td>\n      <td>False</td>\n      <td>False</td>\n      <td>False</td>\n      <td>2</td>\n      <td>1</td>\n      <td>1.299283</td>\n      <td>2.302585</td>\n      <td>1.000000</td>\n      <td>0.0</td>\n      <td>0.0</td>\n    </tr>\n    <tr>\n      <th>3</th>\n      <td>890610</td>\n      <td>USA</td>\n      <td>2919042</td>\n      <td>AfricanAmerican</td>\n      <td>Male</td>\n      <td>65.0</td>\n      <td>NaN</td>\n      <td>True</td>\n      <td>0</td>\n      <td>0</td>\n      <td>...</td>\n      <td>False</td>\n      <td>False</td>\n      <td>False</td>\n      <td>0</td>\n      <td>1</td>\n      <td>0.405465</td>\n      <td>2.079442</td>\n      <td>1.000000</td>\n      <td>0.0</td>\n      <td>0.0</td>\n    </tr>\n    <tr>\n      <th>4</th>\n      <td>654194</td>\n      <td>USA</td>\n      <td>84871971</td>\n      <td>Caucasian</td>\n      <td>Female</td>\n      <td>75.0</td>\n      <td>NaN</td>\n      <td>True</td>\n      <td>1</td>\n      <td>0</td>\n      <td>...</td>\n      <td>False</td>\n      <td>False</td>\n      <td>False</td>\n      <td>0</td>\n      <td>2</td>\n      <td>0.916291</td>\n      <td>2.058388</td>\n      <td>0.000000</td>\n      <td>0.5</td>\n      <td>0.0</td>\n    </tr>\n    <tr>\n      <th>5</th>\n      <td>269878</td>\n      <td>USA</td>\n      <td>279288</td>\n      <td>Caucasian</td>\n      <td>Female</td>\n      <td>55.0</td>\n      <td>NaN</td>\n      <td>False</td>\n      <td>0</td>\n      <td>0</td>\n      <td>...</td>\n      <td>False</td>\n      <td>False</td>\n      <td>False</td>\n      <td>0</td>\n      <td>1</td>\n      <td>1.203973</td>\n      <td>2.961831</td>\n      <td>0.000000</td>\n      <td>0.0</td>\n      <td>0.0</td>\n    </tr>\n  </tbody>\n</table>\n<p>5 rows × 58 columns</p>\n</div>"
     },
     "execution_count": 62,
     "metadata": {},
     "output_type": "execute_result"
    }
   ],
   "source": [
    "df_clean = df.copy()\n",
    "df_clean = cleaner.fit_transform(df_clean)\n",
    "df_clean.head()"
   ]
  },
  {
   "cell_type": "code",
   "execution_count": 63,
   "id": "deb0873e-368b-4c0f-83e1-2dbdb9716bdf",
   "metadata": {
    "ExecuteTime": {
     "end_time": "2023-12-17T09:24:02.820542Z",
     "start_time": "2023-12-17T09:24:02.726413Z"
    }
   },
   "outputs": [],
   "source": [
    "# Drop unwanted columns\n",
    "df_clean = df_clean.drop(columns=['country', 'weight', 'glucose_test_result', 'a1c_test_result'])"
   ]
  },
  {
   "cell_type": "code",
   "execution_count": 64,
   "id": "28114304-6371-4349-900c-89259fe13d4b",
   "metadata": {
    "ExecuteTime": {
     "end_time": "2023-12-17T09:24:02.821305Z",
     "start_time": "2023-12-17T09:24:02.768740Z"
    }
   },
   "outputs": [
    {
     "data": {
      "text/plain": "(69250, 54)"
     },
     "execution_count": 64,
     "metadata": {},
     "output_type": "execute_result"
    }
   ],
   "source": [
    "df_clean.shape"
   ]
  },
  {
   "cell_type": "markdown",
   "id": "a73a4285-a160-47f3-ab19-0c0ee1c10080",
   "metadata": {},
   "source": [
    "### Train test split"
   ]
  },
  {
   "cell_type": "code",
   "execution_count": 65,
   "id": "0f02ba66-f65e-48e6-989d-9923c0b31ac2",
   "metadata": {
    "ExecuteTime": {
     "end_time": "2023-12-17T09:24:03.054150Z",
     "start_time": "2023-12-17T09:24:02.798491Z"
    }
   },
   "outputs": [],
   "source": [
    "num_cols = df_clean.select_dtypes(include=np.number).drop(columns=['encounter_id', 'patient_id']).columns.to_list()"
   ]
  },
  {
   "cell_type": "code",
   "execution_count": 66,
   "id": "6a0f816c-0b2e-46a2-874f-e2269114eae5",
   "metadata": {
    "ExecuteTime": {
     "end_time": "2023-12-17T09:24:03.107067Z",
     "start_time": "2023-12-17T09:24:02.843517Z"
    }
   },
   "outputs": [],
   "source": [
    "cat_cols = df_clean.select_dtypes(exclude=np.number).drop(columns=['readmitted_binary', 'readmitted_multiclass']).columns"
   ]
  },
  {
   "cell_type": "code",
   "execution_count": 67,
   "id": "c781cd7d-faff-4e24-8fb2-1ac31a6606cf",
   "metadata": {
    "ExecuteTime": {
     "end_time": "2023-12-17T09:24:03.108813Z",
     "start_time": "2023-12-17T09:24:02.898157Z"
    }
   },
   "outputs": [],
   "source": [
    "X = df_clean.drop(columns=['readmitted_binary', 'readmitted_multiclass', 'encounter_id', 'patient_id'])\n",
    "y = df_clean.readmitted_binary\n",
    "\n",
    "label = LabelEncoder()\n",
    "y = label.fit_transform(y)"
   ]
  },
  {
   "cell_type": "code",
   "execution_count": 68,
   "id": "bbf64f87-b57b-41b8-aac3-b809933c4ea0",
   "metadata": {
    "ExecuteTime": {
     "end_time": "2023-12-17T09:24:03.167875Z",
     "start_time": "2023-12-17T09:24:02.967871Z"
    }
   },
   "outputs": [],
   "source": [
    "X_train, X_test, y_train, y_test = train_test_split(X, y, stratify=y)"
   ]
  },
  {
   "cell_type": "markdown",
   "id": "77e03608-5cf9-4af7-96a0-e876662e00b8",
   "metadata": {},
   "source": [
    "### Preprocessing"
   ]
  },
  {
   "cell_type": "code",
   "execution_count": 69,
   "id": "6caffac8-4e67-4db9-be20-6854e2f0d8d1",
   "metadata": {
    "ExecuteTime": {
     "end_time": "2023-12-17T09:24:03.221622Z",
     "start_time": "2023-12-17T09:24:03.065853Z"
    }
   },
   "outputs": [
    {
     "data": {
      "text/plain": "ColumnTransformer(transformers=[('cat',\n                                 Pipeline(steps=[('encoder',\n                                                  TargetEncoder(target_type='binary'))]),\n                                 Index(['race', 'gender', 'payer_code', 'admission_type', 'medical_specialty',\n       'discharge_disposition', 'admission_source', 'primary_diagnosis',\n       'secondary_diagnosis', 'additional_diagnosis',\n       'change_in_meds_during_hospitalization', 'prescribed_diabetes_med...\n                                  'emergency_visits_in_previous_year',\n                                  'inpatient_visits_in_previous_year',\n                                  'average_pulse_bpm',\n                                  'length_of_stay_in_hospital',\n                                  'number_lab_tests', 'non_lab_procedures',\n                                  'number_of_medications', 'number_diagnoses',\n                                  'number_diab_meds',\n                                  'number_visits_per_patient',\n                                  'n_medication_per_day', 'n_lab_tests_per_day',\n                                  'prop_inpatient', 'prop_outpatient',\n                                  'prop_emergency'])])",
      "text/html": "<style>#sk-container-id-1 {color: black;}#sk-container-id-1 pre{padding: 0;}#sk-container-id-1 div.sk-toggleable {background-color: white;}#sk-container-id-1 label.sk-toggleable__label {cursor: pointer;display: block;width: 100%;margin-bottom: 0;padding: 0.3em;box-sizing: border-box;text-align: center;}#sk-container-id-1 label.sk-toggleable__label-arrow:before {content: \"▸\";float: left;margin-right: 0.25em;color: #696969;}#sk-container-id-1 label.sk-toggleable__label-arrow:hover:before {color: black;}#sk-container-id-1 div.sk-estimator:hover label.sk-toggleable__label-arrow:before {color: black;}#sk-container-id-1 div.sk-toggleable__content {max-height: 0;max-width: 0;overflow: hidden;text-align: left;background-color: #f0f8ff;}#sk-container-id-1 div.sk-toggleable__content pre {margin: 0.2em;color: black;border-radius: 0.25em;background-color: #f0f8ff;}#sk-container-id-1 input.sk-toggleable__control:checked~div.sk-toggleable__content {max-height: 200px;max-width: 100%;overflow: auto;}#sk-container-id-1 input.sk-toggleable__control:checked~label.sk-toggleable__label-arrow:before {content: \"▾\";}#sk-container-id-1 div.sk-estimator input.sk-toggleable__control:checked~label.sk-toggleable__label {background-color: #d4ebff;}#sk-container-id-1 div.sk-label input.sk-toggleable__control:checked~label.sk-toggleable__label {background-color: #d4ebff;}#sk-container-id-1 input.sk-hidden--visually {border: 0;clip: rect(1px 1px 1px 1px);clip: rect(1px, 1px, 1px, 1px);height: 1px;margin: -1px;overflow: hidden;padding: 0;position: absolute;width: 1px;}#sk-container-id-1 div.sk-estimator {font-family: monospace;background-color: #f0f8ff;border: 1px dotted black;border-radius: 0.25em;box-sizing: border-box;margin-bottom: 0.5em;}#sk-container-id-1 div.sk-estimator:hover {background-color: #d4ebff;}#sk-container-id-1 div.sk-parallel-item::after {content: \"\";width: 100%;border-bottom: 1px solid gray;flex-grow: 1;}#sk-container-id-1 div.sk-label:hover label.sk-toggleable__label {background-color: #d4ebff;}#sk-container-id-1 div.sk-serial::before {content: \"\";position: absolute;border-left: 1px solid gray;box-sizing: border-box;top: 0;bottom: 0;left: 50%;z-index: 0;}#sk-container-id-1 div.sk-serial {display: flex;flex-direction: column;align-items: center;background-color: white;padding-right: 0.2em;padding-left: 0.2em;position: relative;}#sk-container-id-1 div.sk-item {position: relative;z-index: 1;}#sk-container-id-1 div.sk-parallel {display: flex;align-items: stretch;justify-content: center;background-color: white;position: relative;}#sk-container-id-1 div.sk-item::before, #sk-container-id-1 div.sk-parallel-item::before {content: \"\";position: absolute;border-left: 1px solid gray;box-sizing: border-box;top: 0;bottom: 0;left: 50%;z-index: -1;}#sk-container-id-1 div.sk-parallel-item {display: flex;flex-direction: column;z-index: 1;position: relative;background-color: white;}#sk-container-id-1 div.sk-parallel-item:first-child::after {align-self: flex-end;width: 50%;}#sk-container-id-1 div.sk-parallel-item:last-child::after {align-self: flex-start;width: 50%;}#sk-container-id-1 div.sk-parallel-item:only-child::after {width: 0;}#sk-container-id-1 div.sk-dashed-wrapped {border: 1px dashed gray;margin: 0 0.4em 0.5em 0.4em;box-sizing: border-box;padding-bottom: 0.4em;background-color: white;}#sk-container-id-1 div.sk-label label {font-family: monospace;font-weight: bold;display: inline-block;line-height: 1.2em;}#sk-container-id-1 div.sk-label-container {text-align: center;}#sk-container-id-1 div.sk-container {/* jupyter's `normalize.less` sets `[hidden] { display: none; }` but bootstrap.min.css set `[hidden] { display: none !important; }` so we also need the `!important` here to be able to override the default hidden behavior on the sphinx rendered scikit-learn.org. See: https://github.com/scikit-learn/scikit-learn/issues/21755 */display: inline-block !important;position: relative;}#sk-container-id-1 div.sk-text-repr-fallback {display: none;}</style><div id=\"sk-container-id-1\" class=\"sk-top-container\"><div class=\"sk-text-repr-fallback\"><pre>ColumnTransformer(transformers=[(&#x27;cat&#x27;,\n                                 Pipeline(steps=[(&#x27;encoder&#x27;,\n                                                  TargetEncoder(target_type=&#x27;binary&#x27;))]),\n                                 Index([&#x27;race&#x27;, &#x27;gender&#x27;, &#x27;payer_code&#x27;, &#x27;admission_type&#x27;, &#x27;medical_specialty&#x27;,\n       &#x27;discharge_disposition&#x27;, &#x27;admission_source&#x27;, &#x27;primary_diagnosis&#x27;,\n       &#x27;secondary_diagnosis&#x27;, &#x27;additional_diagnosis&#x27;,\n       &#x27;change_in_meds_during_hospitalization&#x27;, &#x27;prescribed_diabetes_med...\n                                  &#x27;emergency_visits_in_previous_year&#x27;,\n                                  &#x27;inpatient_visits_in_previous_year&#x27;,\n                                  &#x27;average_pulse_bpm&#x27;,\n                                  &#x27;length_of_stay_in_hospital&#x27;,\n                                  &#x27;number_lab_tests&#x27;, &#x27;non_lab_procedures&#x27;,\n                                  &#x27;number_of_medications&#x27;, &#x27;number_diagnoses&#x27;,\n                                  &#x27;number_diab_meds&#x27;,\n                                  &#x27;number_visits_per_patient&#x27;,\n                                  &#x27;n_medication_per_day&#x27;, &#x27;n_lab_tests_per_day&#x27;,\n                                  &#x27;prop_inpatient&#x27;, &#x27;prop_outpatient&#x27;,\n                                  &#x27;prop_emergency&#x27;])])</pre><b>In a Jupyter environment, please rerun this cell to show the HTML representation or trust the notebook. <br />On GitHub, the HTML representation is unable to render, please try loading this page with nbviewer.org.</b></div><div class=\"sk-container\" hidden><div class=\"sk-item sk-dashed-wrapped\"><div class=\"sk-label-container\"><div class=\"sk-label sk-toggleable\"><input class=\"sk-toggleable__control sk-hidden--visually\" id=\"sk-estimator-id-1\" type=\"checkbox\" ><label for=\"sk-estimator-id-1\" class=\"sk-toggleable__label sk-toggleable__label-arrow\">ColumnTransformer</label><div class=\"sk-toggleable__content\"><pre>ColumnTransformer(transformers=[(&#x27;cat&#x27;,\n                                 Pipeline(steps=[(&#x27;encoder&#x27;,\n                                                  TargetEncoder(target_type=&#x27;binary&#x27;))]),\n                                 Index([&#x27;race&#x27;, &#x27;gender&#x27;, &#x27;payer_code&#x27;, &#x27;admission_type&#x27;, &#x27;medical_specialty&#x27;,\n       &#x27;discharge_disposition&#x27;, &#x27;admission_source&#x27;, &#x27;primary_diagnosis&#x27;,\n       &#x27;secondary_diagnosis&#x27;, &#x27;additional_diagnosis&#x27;,\n       &#x27;change_in_meds_during_hospitalization&#x27;, &#x27;prescribed_diabetes_med...\n                                  &#x27;emergency_visits_in_previous_year&#x27;,\n                                  &#x27;inpatient_visits_in_previous_year&#x27;,\n                                  &#x27;average_pulse_bpm&#x27;,\n                                  &#x27;length_of_stay_in_hospital&#x27;,\n                                  &#x27;number_lab_tests&#x27;, &#x27;non_lab_procedures&#x27;,\n                                  &#x27;number_of_medications&#x27;, &#x27;number_diagnoses&#x27;,\n                                  &#x27;number_diab_meds&#x27;,\n                                  &#x27;number_visits_per_patient&#x27;,\n                                  &#x27;n_medication_per_day&#x27;, &#x27;n_lab_tests_per_day&#x27;,\n                                  &#x27;prop_inpatient&#x27;, &#x27;prop_outpatient&#x27;,\n                                  &#x27;prop_emergency&#x27;])])</pre></div></div></div><div class=\"sk-parallel\"><div class=\"sk-parallel-item\"><div class=\"sk-item\"><div class=\"sk-label-container\"><div class=\"sk-label sk-toggleable\"><input class=\"sk-toggleable__control sk-hidden--visually\" id=\"sk-estimator-id-2\" type=\"checkbox\" ><label for=\"sk-estimator-id-2\" class=\"sk-toggleable__label sk-toggleable__label-arrow\">cat</label><div class=\"sk-toggleable__content\"><pre>Index([&#x27;race&#x27;, &#x27;gender&#x27;, &#x27;payer_code&#x27;, &#x27;admission_type&#x27;, &#x27;medical_specialty&#x27;,\n       &#x27;discharge_disposition&#x27;, &#x27;admission_source&#x27;, &#x27;primary_diagnosis&#x27;,\n       &#x27;secondary_diagnosis&#x27;, &#x27;additional_diagnosis&#x27;,\n       &#x27;change_in_meds_during_hospitalization&#x27;, &#x27;prescribed_diabetes_meds&#x27;,\n       &#x27;medication&#x27;, &#x27;metformin&#x27;, &#x27;rosiglitazone&#x27;, &#x27;chlorpropamide&#x27;,\n       &#x27;glimepiride&#x27;, &#x27;glyburide-metformin&#x27;, &#x27;insulin&#x27;,\n       &#x27;metformin-pioglitazone&#x27;, &#x27;glimepiride-pioglitazone&#x27;, &#x27;miglitol&#x27;,\n       &#x27;acarbose&#x27;, &#x27;troglitazone&#x27;, &#x27;tolazamide&#x27;, &#x27;glyburide&#x27;,\n       &#x27;metformin-rosiglitazone&#x27;, &#x27;nateglinide&#x27;, &#x27;glipizide-metformin&#x27;,\n       &#x27;glipizide&#x27;, &#x27;pioglitazone&#x27;, &#x27;repaglinide&#x27;, &#x27;tolbutamide&#x27;],\n      dtype=&#x27;object&#x27;)</pre></div></div></div><div class=\"sk-serial\"><div class=\"sk-item\"><div class=\"sk-serial\"><div class=\"sk-item\"><div class=\"sk-estimator sk-toggleable\"><input class=\"sk-toggleable__control sk-hidden--visually\" id=\"sk-estimator-id-3\" type=\"checkbox\" ><label for=\"sk-estimator-id-3\" class=\"sk-toggleable__label sk-toggleable__label-arrow\">TargetEncoder</label><div class=\"sk-toggleable__content\"><pre>TargetEncoder(target_type=&#x27;binary&#x27;)</pre></div></div></div></div></div></div></div></div><div class=\"sk-parallel-item\"><div class=\"sk-item\"><div class=\"sk-label-container\"><div class=\"sk-label sk-toggleable\"><input class=\"sk-toggleable__control sk-hidden--visually\" id=\"sk-estimator-id-4\" type=\"checkbox\" ><label for=\"sk-estimator-id-4\" class=\"sk-toggleable__label sk-toggleable__label-arrow\">num</label><div class=\"sk-toggleable__content\"><pre>[&#x27;age&#x27;, &#x27;outpatient_visits_in_previous_year&#x27;, &#x27;emergency_visits_in_previous_year&#x27;, &#x27;inpatient_visits_in_previous_year&#x27;, &#x27;average_pulse_bpm&#x27;, &#x27;length_of_stay_in_hospital&#x27;, &#x27;number_lab_tests&#x27;, &#x27;non_lab_procedures&#x27;, &#x27;number_of_medications&#x27;, &#x27;number_diagnoses&#x27;, &#x27;number_diab_meds&#x27;, &#x27;number_visits_per_patient&#x27;, &#x27;n_medication_per_day&#x27;, &#x27;n_lab_tests_per_day&#x27;, &#x27;prop_inpatient&#x27;, &#x27;prop_outpatient&#x27;, &#x27;prop_emergency&#x27;]</pre></div></div></div><div class=\"sk-serial\"><div class=\"sk-item\"><div class=\"sk-serial\"><div class=\"sk-item\"><div class=\"sk-estimator sk-toggleable\"><input class=\"sk-toggleable__control sk-hidden--visually\" id=\"sk-estimator-id-5\" type=\"checkbox\" ><label for=\"sk-estimator-id-5\" class=\"sk-toggleable__label sk-toggleable__label-arrow\">SimpleImputer</label><div class=\"sk-toggleable__content\"><pre>SimpleImputer()</pre></div></div></div><div class=\"sk-item\"><div class=\"sk-estimator sk-toggleable\"><input class=\"sk-toggleable__control sk-hidden--visually\" id=\"sk-estimator-id-6\" type=\"checkbox\" ><label for=\"sk-estimator-id-6\" class=\"sk-toggleable__label sk-toggleable__label-arrow\">PowerTransformer</label><div class=\"sk-toggleable__content\"><pre>PowerTransformer()</pre></div></div></div><div class=\"sk-item\"><div class=\"sk-estimator sk-toggleable\"><input class=\"sk-toggleable__control sk-hidden--visually\" id=\"sk-estimator-id-7\" type=\"checkbox\" ><label for=\"sk-estimator-id-7\" class=\"sk-toggleable__label sk-toggleable__label-arrow\">MinMaxScaler</label><div class=\"sk-toggleable__content\"><pre>MinMaxScaler()</pre></div></div></div></div></div></div></div></div></div></div></div></div>"
     },
     "execution_count": 69,
     "metadata": {},
     "output_type": "execute_result"
    }
   ],
   "source": [
    "cat_pipe = Pipeline([\n",
    "    ('encoder', TargetEncoder(target_type='binary'))\n",
    "])\n",
    "\n",
    "num_pipe = Pipeline([\n",
    "    ('imputer', SimpleImputer()),\n",
    "    ('transformer', PowerTransformer()),\n",
    "    ('scaler', MinMaxScaler())\n",
    "])\n",
    "\n",
    "preproc_pipe = ColumnTransformer([\n",
    "    ('cat', cat_pipe, cat_cols),\n",
    "    ('num', num_pipe, num_cols)\n",
    "], remainder='drop')\n",
    "\n",
    "preproc_pipe"
   ]
  },
  {
   "cell_type": "code",
   "execution_count": 70,
   "id": "19b55280-bd68-4279-8d23-ae21033a312b",
   "metadata": {
    "ExecuteTime": {
     "end_time": "2023-12-17T09:24:04.732443Z",
     "start_time": "2023-12-17T09:24:03.116507Z"
    }
   },
   "outputs": [],
   "source": [
    "X_train = np.float32(preproc_pipe.fit_transform(X_train, y_train))\n",
    "X_test = np.float32(preproc_pipe.transform(X_test))"
   ]
  },
  {
   "cell_type": "markdown",
   "source": [
    "# Model evaluation"
   ],
   "metadata": {
    "collapsed": false
   },
   "id": "ea886693d4bfd6cd"
  },
  {
   "cell_type": "code",
   "execution_count": 88,
   "outputs": [
    {
     "name": "stdout",
     "output_type": "stream",
     "text": [
      "Evaluating KNeighborsClassifier\n",
      "Evaluating DecisionTreeClassifier\n",
      "Evaluating SGDClassifier\n",
      "Evaluating AdaBoostClassifier\n",
      "Evaluating RandomForestClassifier\n",
      "Evaluating GaussianNB\n",
      "Evaluating GradientBoostingClassifier\n"
     ]
    }
   ],
   "source": [
    "model_scores = {}\n",
    "def evaluate_model(model, X_train, y_train, X_test, y_test):\n",
    "    model.fit(X_train, y_train)\n",
    "    cv = RepeatedStratifiedKFold(n_splits=10, n_repeats=3, random_state=42)\n",
    "    cv_score = cross_val_score(model, scoring=\"f1\", cv=cv, X=X_test, y=y_test)\n",
    "    return model.__class__.__name__, cv_score.mean(), cv_score.std()\n",
    "\n",
    "models_to_evaluate = [\n",
    "    KNeighborsClassifier(n_jobs=-1),\n",
    "    DecisionTreeClassifier(random_state=42),\n",
    "    SGDClassifier(n_jobs=-1, random_state=42, class_weight='balanced', early_stopping=True),\n",
    "    AdaBoostClassifier(n_estimators=100, random_state=42),\n",
    "    RandomForestClassifier(n_estimators=300, n_jobs=-1, random_state=42),\n",
    "    GaussianNB(),\n",
    "    GradientBoostingClassifier(random_state=42),\n",
    "]\n",
    "\n",
    "for model in models_to_evaluate:\n",
    "    print(f\"Evaluating {model.__class__.__name__}\")\n",
    "    model_name, mean_score, std_score = evaluate_model(model, X_train, y_train, X_test, y_test)\n",
    "    model_scores[model_name] = (mean_score, std_score)"
   ],
   "metadata": {
    "collapsed": false,
    "ExecuteTime": {
     "end_time": "2023-12-17T09:51:36.652614Z",
     "start_time": "2023-12-17T09:41:43.543386Z"
    }
   },
   "id": "bc5e0f2d35312866"
  },
  {
   "cell_type": "code",
   "execution_count": 89,
   "outputs": [
    {
     "data": {
      "text/plain": "{'KNeighborsClassifier': (0.09463216300461338, 0.024450606732653566),\n 'DecisionTreeClassifier': (0.19828855692277833, 0.02794188346490853),\n 'SGDClassifier': (0.2540155833760787, 0.051066979481993825),\n 'AdaBoostClassifier': (0.05654442461793501, 0.021512866903989642),\n 'RandomForestClassifier': (0.016940373134222322, 0.010855105239481074),\n 'GaussianNB': (0.2505349233545452, 0.030895696729937965),\n 'GradientBoostingClassifier': (0.04204083090501214, 0.017375309747168017)}"
     },
     "execution_count": 89,
     "metadata": {},
     "output_type": "execute_result"
    }
   ],
   "source": [
    "model_scores"
   ],
   "metadata": {
    "collapsed": false,
    "ExecuteTime": {
     "end_time": "2023-12-17T09:53:00.428069Z",
     "start_time": "2023-12-17T09:53:00.358942Z"
    }
   },
   "id": "bf5052a091692bf4"
  },
  {
   "cell_type": "markdown",
   "id": "f93d7913-ead3-4ff8-bccc-9eab051e84ff",
   "metadata": {},
   "source": [
    "### Model selection"
   ]
  },
  {
   "cell_type": "code",
   "execution_count": 90,
   "id": "ab1c2870-e854-4c7d-b774-985a8afd30b7",
   "metadata": {
    "scrolled": true,
    "ExecuteTime": {
     "end_time": "2023-12-17T18:47:18.973421Z",
     "start_time": "2023-12-17T18:47:18.891797Z"
    }
   },
   "outputs": [],
   "source": [
    "model = SGDClassifier(n_jobs=-1, class_weight='balanced', early_stopping=True)"
   ]
  },
  {
   "cell_type": "code",
   "execution_count": 100,
   "id": "c12f140e-db4a-4212-9f2a-734977de1f87",
   "metadata": {
    "ExecuteTime": {
     "end_time": "2023-12-17T18:54:30.032932Z",
     "start_time": "2023-12-17T18:54:29.958432Z"
    }
   },
   "outputs": [],
   "source": [
    "rand_params = {\n",
    "    'loss': ['hinge', 'log_loss', 'squared_hinge', 'perceptron', 'modified_huber'],\n",
    "    'penalty': ['l1', 'l2', 'elasticnet', None],\n",
    "    'l1_ratio': uniform(0, 1),\n",
    "    'alpha': uniform(0.00001, 1),\n",
    "    'learning_rate': ['optimal', 'invscaling', 'adaptive', 'constant'],\n",
    "    'eta0': uniform(0, 1),\n",
    "    'epsilon': uniform(0, 1),\n",
    "    'power_t': uniform(-1, 1)\n",
    "}"
   ]
  },
  {
   "cell_type": "code",
   "execution_count": 101,
   "id": "4d30e2b6-e724-42dc-b205-755597822eb9",
   "metadata": {
    "ExecuteTime": {
     "end_time": "2023-12-17T18:59:33.411709Z",
     "start_time": "2023-12-17T18:54:30.839595Z"
    }
   },
   "outputs": [
    {
     "name": "stdout",
     "output_type": "stream",
     "text": [
      "Fitting 5 folds for each of 500 candidates, totalling 2500 fits\n"
     ]
    },
    {
     "data": {
      "text/plain": "RandomizedSearchCV(cv=5,\n                   estimator=SGDClassifier(class_weight='balanced',\n                                           early_stopping=True, n_jobs=-1),\n                   n_iter=500, n_jobs=-1,\n                   param_distributions={'alpha': <scipy.stats._distn_infrastructure.rv_continuous_frozen object at 0x149f86f10>,\n                                        'epsilon': <scipy.stats._distn_infrastructure.rv_continuous_frozen object at 0x14994edd0>,\n                                        'eta0': <scipy.stats._distn_infrastr...\n                                        'l1_ratio': <scipy.stats._distn_infrastructure.rv_continuous_frozen object at 0x149f84d10>,\n                                        'learning_rate': ['optimal',\n                                                          'invscaling',\n                                                          'adaptive',\n                                                          'constant'],\n                                        'loss': ['hinge', 'log_loss',\n                                                 'squared_hinge', 'perceptron',\n                                                 'modified_huber'],\n                                        'penalty': ['l1', 'l2', 'elasticnet',\n                                                    None],\n                                        'power_t': <scipy.stats._distn_infrastructure.rv_continuous_frozen object at 0x149e2c590>},\n                   scoring='f1', verbose=1)",
      "text/html": "<style>#sk-container-id-3 {color: black;}#sk-container-id-3 pre{padding: 0;}#sk-container-id-3 div.sk-toggleable {background-color: white;}#sk-container-id-3 label.sk-toggleable__label {cursor: pointer;display: block;width: 100%;margin-bottom: 0;padding: 0.3em;box-sizing: border-box;text-align: center;}#sk-container-id-3 label.sk-toggleable__label-arrow:before {content: \"▸\";float: left;margin-right: 0.25em;color: #696969;}#sk-container-id-3 label.sk-toggleable__label-arrow:hover:before {color: black;}#sk-container-id-3 div.sk-estimator:hover label.sk-toggleable__label-arrow:before {color: black;}#sk-container-id-3 div.sk-toggleable__content {max-height: 0;max-width: 0;overflow: hidden;text-align: left;background-color: #f0f8ff;}#sk-container-id-3 div.sk-toggleable__content pre {margin: 0.2em;color: black;border-radius: 0.25em;background-color: #f0f8ff;}#sk-container-id-3 input.sk-toggleable__control:checked~div.sk-toggleable__content {max-height: 200px;max-width: 100%;overflow: auto;}#sk-container-id-3 input.sk-toggleable__control:checked~label.sk-toggleable__label-arrow:before {content: \"▾\";}#sk-container-id-3 div.sk-estimator input.sk-toggleable__control:checked~label.sk-toggleable__label {background-color: #d4ebff;}#sk-container-id-3 div.sk-label input.sk-toggleable__control:checked~label.sk-toggleable__label {background-color: #d4ebff;}#sk-container-id-3 input.sk-hidden--visually {border: 0;clip: rect(1px 1px 1px 1px);clip: rect(1px, 1px, 1px, 1px);height: 1px;margin: -1px;overflow: hidden;padding: 0;position: absolute;width: 1px;}#sk-container-id-3 div.sk-estimator {font-family: monospace;background-color: #f0f8ff;border: 1px dotted black;border-radius: 0.25em;box-sizing: border-box;margin-bottom: 0.5em;}#sk-container-id-3 div.sk-estimator:hover {background-color: #d4ebff;}#sk-container-id-3 div.sk-parallel-item::after {content: \"\";width: 100%;border-bottom: 1px solid gray;flex-grow: 1;}#sk-container-id-3 div.sk-label:hover label.sk-toggleable__label {background-color: #d4ebff;}#sk-container-id-3 div.sk-serial::before {content: \"\";position: absolute;border-left: 1px solid gray;box-sizing: border-box;top: 0;bottom: 0;left: 50%;z-index: 0;}#sk-container-id-3 div.sk-serial {display: flex;flex-direction: column;align-items: center;background-color: white;padding-right: 0.2em;padding-left: 0.2em;position: relative;}#sk-container-id-3 div.sk-item {position: relative;z-index: 1;}#sk-container-id-3 div.sk-parallel {display: flex;align-items: stretch;justify-content: center;background-color: white;position: relative;}#sk-container-id-3 div.sk-item::before, #sk-container-id-3 div.sk-parallel-item::before {content: \"\";position: absolute;border-left: 1px solid gray;box-sizing: border-box;top: 0;bottom: 0;left: 50%;z-index: -1;}#sk-container-id-3 div.sk-parallel-item {display: flex;flex-direction: column;z-index: 1;position: relative;background-color: white;}#sk-container-id-3 div.sk-parallel-item:first-child::after {align-self: flex-end;width: 50%;}#sk-container-id-3 div.sk-parallel-item:last-child::after {align-self: flex-start;width: 50%;}#sk-container-id-3 div.sk-parallel-item:only-child::after {width: 0;}#sk-container-id-3 div.sk-dashed-wrapped {border: 1px dashed gray;margin: 0 0.4em 0.5em 0.4em;box-sizing: border-box;padding-bottom: 0.4em;background-color: white;}#sk-container-id-3 div.sk-label label {font-family: monospace;font-weight: bold;display: inline-block;line-height: 1.2em;}#sk-container-id-3 div.sk-label-container {text-align: center;}#sk-container-id-3 div.sk-container {/* jupyter's `normalize.less` sets `[hidden] { display: none; }` but bootstrap.min.css set `[hidden] { display: none !important; }` so we also need the `!important` here to be able to override the default hidden behavior on the sphinx rendered scikit-learn.org. See: https://github.com/scikit-learn/scikit-learn/issues/21755 */display: inline-block !important;position: relative;}#sk-container-id-3 div.sk-text-repr-fallback {display: none;}</style><div id=\"sk-container-id-3\" class=\"sk-top-container\"><div class=\"sk-text-repr-fallback\"><pre>RandomizedSearchCV(cv=5,\n                   estimator=SGDClassifier(class_weight=&#x27;balanced&#x27;,\n                                           early_stopping=True, n_jobs=-1),\n                   n_iter=500, n_jobs=-1,\n                   param_distributions={&#x27;alpha&#x27;: &lt;scipy.stats._distn_infrastructure.rv_continuous_frozen object at 0x149f86f10&gt;,\n                                        &#x27;epsilon&#x27;: &lt;scipy.stats._distn_infrastructure.rv_continuous_frozen object at 0x14994edd0&gt;,\n                                        &#x27;eta0&#x27;: &lt;scipy.stats._distn_infrastr...\n                                        &#x27;l1_ratio&#x27;: &lt;scipy.stats._distn_infrastructure.rv_continuous_frozen object at 0x149f84d10&gt;,\n                                        &#x27;learning_rate&#x27;: [&#x27;optimal&#x27;,\n                                                          &#x27;invscaling&#x27;,\n                                                          &#x27;adaptive&#x27;,\n                                                          &#x27;constant&#x27;],\n                                        &#x27;loss&#x27;: [&#x27;hinge&#x27;, &#x27;log_loss&#x27;,\n                                                 &#x27;squared_hinge&#x27;, &#x27;perceptron&#x27;,\n                                                 &#x27;modified_huber&#x27;],\n                                        &#x27;penalty&#x27;: [&#x27;l1&#x27;, &#x27;l2&#x27;, &#x27;elasticnet&#x27;,\n                                                    None],\n                                        &#x27;power_t&#x27;: &lt;scipy.stats._distn_infrastructure.rv_continuous_frozen object at 0x149e2c590&gt;},\n                   scoring=&#x27;f1&#x27;, verbose=1)</pre><b>In a Jupyter environment, please rerun this cell to show the HTML representation or trust the notebook. <br />On GitHub, the HTML representation is unable to render, please try loading this page with nbviewer.org.</b></div><div class=\"sk-container\" hidden><div class=\"sk-item sk-dashed-wrapped\"><div class=\"sk-label-container\"><div class=\"sk-label sk-toggleable\"><input class=\"sk-toggleable__control sk-hidden--visually\" id=\"sk-estimator-id-11\" type=\"checkbox\" ><label for=\"sk-estimator-id-11\" class=\"sk-toggleable__label sk-toggleable__label-arrow\">RandomizedSearchCV</label><div class=\"sk-toggleable__content\"><pre>RandomizedSearchCV(cv=5,\n                   estimator=SGDClassifier(class_weight=&#x27;balanced&#x27;,\n                                           early_stopping=True, n_jobs=-1),\n                   n_iter=500, n_jobs=-1,\n                   param_distributions={&#x27;alpha&#x27;: &lt;scipy.stats._distn_infrastructure.rv_continuous_frozen object at 0x149f86f10&gt;,\n                                        &#x27;epsilon&#x27;: &lt;scipy.stats._distn_infrastructure.rv_continuous_frozen object at 0x14994edd0&gt;,\n                                        &#x27;eta0&#x27;: &lt;scipy.stats._distn_infrastr...\n                                        &#x27;l1_ratio&#x27;: &lt;scipy.stats._distn_infrastructure.rv_continuous_frozen object at 0x149f84d10&gt;,\n                                        &#x27;learning_rate&#x27;: [&#x27;optimal&#x27;,\n                                                          &#x27;invscaling&#x27;,\n                                                          &#x27;adaptive&#x27;,\n                                                          &#x27;constant&#x27;],\n                                        &#x27;loss&#x27;: [&#x27;hinge&#x27;, &#x27;log_loss&#x27;,\n                                                 &#x27;squared_hinge&#x27;, &#x27;perceptron&#x27;,\n                                                 &#x27;modified_huber&#x27;],\n                                        &#x27;penalty&#x27;: [&#x27;l1&#x27;, &#x27;l2&#x27;, &#x27;elasticnet&#x27;,\n                                                    None],\n                                        &#x27;power_t&#x27;: &lt;scipy.stats._distn_infrastructure.rv_continuous_frozen object at 0x149e2c590&gt;},\n                   scoring=&#x27;f1&#x27;, verbose=1)</pre></div></div></div><div class=\"sk-parallel\"><div class=\"sk-parallel-item\"><div class=\"sk-item\"><div class=\"sk-label-container\"><div class=\"sk-label sk-toggleable\"><input class=\"sk-toggleable__control sk-hidden--visually\" id=\"sk-estimator-id-12\" type=\"checkbox\" ><label for=\"sk-estimator-id-12\" class=\"sk-toggleable__label sk-toggleable__label-arrow\">estimator: SGDClassifier</label><div class=\"sk-toggleable__content\"><pre>SGDClassifier(class_weight=&#x27;balanced&#x27;, early_stopping=True, n_jobs=-1)</pre></div></div></div><div class=\"sk-serial\"><div class=\"sk-item\"><div class=\"sk-estimator sk-toggleable\"><input class=\"sk-toggleable__control sk-hidden--visually\" id=\"sk-estimator-id-13\" type=\"checkbox\" ><label for=\"sk-estimator-id-13\" class=\"sk-toggleable__label sk-toggleable__label-arrow\">SGDClassifier</label><div class=\"sk-toggleable__content\"><pre>SGDClassifier(class_weight=&#x27;balanced&#x27;, early_stopping=True, n_jobs=-1)</pre></div></div></div></div></div></div></div></div></div></div>"
     },
     "execution_count": 101,
     "metadata": {},
     "output_type": "execute_result"
    }
   ],
   "source": [
    "rand_search = RandomizedSearchCV(model, rand_params, n_iter=500, scoring='f1', cv=5, n_jobs=-1, verbose=1)\n",
    "rand_search.fit(X_train, y_train)"
   ]
  },
  {
   "cell_type": "code",
   "execution_count": 102,
   "id": "e0f09b85-a785-496f-a5f5-692858861889",
   "metadata": {
    "ExecuteTime": {
     "end_time": "2023-12-17T18:59:33.645463Z",
     "start_time": "2023-12-17T18:59:33.398125Z"
    }
   },
   "outputs": [
    {
     "data": {
      "text/plain": "{'alpha': 0.9948911121582883,\n 'epsilon': 0.9660495900830656,\n 'eta0': 0.20409238118536022,\n 'l1_ratio': 0.510430552639985,\n 'learning_rate': 'adaptive',\n 'loss': 'hinge',\n 'penalty': None,\n 'power_t': -0.9834888369491211}"
     },
     "execution_count": 102,
     "metadata": {},
     "output_type": "execute_result"
    }
   ],
   "source": [
    "rand_search.best_params_"
   ]
  },
  {
   "cell_type": "code",
   "execution_count": 103,
   "id": "eb28f9d1-8a68-4d23-bce3-5b07163b567e",
   "metadata": {
    "ExecuteTime": {
     "end_time": "2023-12-17T18:59:33.663023Z",
     "start_time": "2023-12-17T18:59:33.481938Z"
    }
   },
   "outputs": [
    {
     "data": {
      "text/plain": "0.31747168974508133"
     },
     "execution_count": 103,
     "metadata": {},
     "output_type": "execute_result"
    }
   ],
   "source": [
    "rand_search.best_score_"
   ]
  },
  {
   "cell_type": "code",
   "execution_count": 118,
   "id": "6eb3f4e3-3fd7-40a3-a8fc-ddc21d841dcf",
   "metadata": {
    "ExecuteTime": {
     "end_time": "2023-12-17T19:07:53.711249Z",
     "start_time": "2023-12-17T19:07:53.583772Z"
    }
   },
   "outputs": [
    {
     "data": {
      "text/plain": "0    13.108746\ndtype: float32"
     },
     "execution_count": 118,
     "metadata": {},
     "output_type": "execute_result"
    }
   ],
   "source": [
    "# y_pred_sgd = rand_search.predict(X_test)\n",
    "# f1_score(y_test, y_pred_sgd)\n",
    "# rand_search.best_estimator_.coef_\n",
    "df_coef = pd.DataFrame(rand_search.best_estimator_.coef_, columns=X.columns)"
   ]
  },
  {
   "cell_type": "markdown",
   "id": "c7d82c2b-223c-45ba-80fc-d7a73aadc734",
   "metadata": {},
   "source": [
    "### SVC"
   ]
  },
  {
   "cell_type": "code",
   "execution_count": null,
   "id": "af854f02-4f00-46b0-9e72-d8cd9c747041",
   "metadata": {
    "ExecuteTime": {
     "start_time": "2023-12-17T09:24:04.785553Z"
    }
   },
   "outputs": [],
   "source": [
    "model_svc = SVC(class_weight='balanced')"
   ]
  },
  {
   "cell_type": "code",
   "execution_count": null,
   "id": "7b0fb909-83ee-458c-acce-9b9fe4033dd7",
   "metadata": {
    "ExecuteTime": {
     "start_time": "2023-12-17T09:24:04.788659Z"
    }
   },
   "outputs": [],
   "source": [
    "rand_params_svc = {\n",
    "    'C': uniform(0.0001, 5),\n",
    "    'kernel': ['poly', 'rbf', 'linear', 'sigmoid'],\n",
    "    'degree': [2, 3, 4, 5, 6],\n",
    "    'gamma': ['auto', 'scale'],\n",
    "    'coef0': uniform(0, 1)\n",
    "}"
   ]
  },
  {
   "cell_type": "code",
   "execution_count": null,
   "id": "0345ecfa-d6c2-495e-b172-97bc8f8fb933",
   "metadata": {
    "scrolled": true,
    "ExecuteTime": {
     "start_time": "2023-12-17T09:24:04.791210Z"
    }
   },
   "outputs": [],
   "source": [
    "rand_search_svc = RandomizedSearchCV(model_svc, rand_params_svc, n_iter=500, scoring='f1', cv=5, n_jobs=-1, verbose=1)\n",
    "rand_search_svc.fit(X_train, y_train)"
   ]
  },
  {
   "cell_type": "code",
   "execution_count": null,
   "id": "c40d853c-895c-4ebc-ad50-4b2bb672e6b5",
   "metadata": {
    "ExecuteTime": {
     "start_time": "2023-12-17T09:24:04.793403Z"
    }
   },
   "outputs": [],
   "source": [
    "rand_search_svc.best_params_"
   ]
  },
  {
   "cell_type": "code",
   "execution_count": null,
   "id": "7ee2eb9c-0a35-416e-a63f-8252fa356afc",
   "metadata": {
    "ExecuteTime": {
     "start_time": "2023-12-17T09:24:04.795220Z"
    }
   },
   "outputs": [],
   "source": [
    "rand_search_svc.best_score_"
   ]
  },
  {
   "cell_type": "code",
   "execution_count": null,
   "id": "5fa48306-038c-4d3c-a858-93ae5586cd4c",
   "metadata": {
    "ExecuteTime": {
     "end_time": "2023-12-17T09:24:04.824220Z",
     "start_time": "2023-12-17T09:24:04.796779Z"
    }
   },
   "outputs": [],
   "source": [
    "y_pred_svc = rand_search_svc.predict(X_test)\n",
    "f1_score(y_test, y_pred_svc)"
   ]
  },
  {
   "cell_type": "markdown",
   "id": "e2c645ce-e841-4d4a-bce6-fec7300565d8",
   "metadata": {},
   "source": [
    "### Predict to submit"
   ]
  },
  {
   "cell_type": "code",
   "execution_count": null,
   "id": "caab265b-7a87-4d08-a9ca-f23e272efa95",
   "metadata": {
    "ExecuteTime": {
     "start_time": "2023-12-17T09:24:04.798505Z"
    }
   },
   "outputs": [],
   "source": [
    "X_sub = preproc_pipe.fit_transform(X, y)"
   ]
  },
  {
   "cell_type": "code",
   "execution_count": null,
   "id": "fbf3ce5e-f21f-413b-981c-324f414221f0",
   "metadata": {
    "ExecuteTime": {
     "start_time": "2023-12-17T09:24:04.801187Z"
    }
   },
   "outputs": [],
   "source": [
    "best_model = rand_search.best_estimator_\n",
    "best_model.fit(X_sub, y)"
   ]
  },
  {
   "cell_type": "code",
   "execution_count": null,
   "id": "5f191810-2d74-463d-b889-2d3388d5f208",
   "metadata": {
    "ExecuteTime": {
     "start_time": "2023-12-17T09:24:04.804079Z"
    }
   },
   "outputs": [],
   "source": [
    "submission_df = pd.read_csv(os.path.join('..', 'raw_data', 'test.csv'))"
   ]
  },
  {
   "cell_type": "code",
   "execution_count": null,
   "id": "bedb9697-0969-42b9-b146-54e5bda1232d",
   "metadata": {
    "ExecuteTime": {
     "start_time": "2023-12-17T09:24:04.805802Z"
    }
   },
   "outputs": [],
   "source": [
    "sub_encounter_id = submission_df.encounter_id\n",
    "sub_clean = cleaner.transform(submission_df)\n",
    "sub_preproc = preproc_pipe.transform(sub_clean)"
   ]
  },
  {
   "cell_type": "code",
   "execution_count": null,
   "id": "c82b429f-aa4b-4205-8c70-000279073199",
   "metadata": {
    "ExecuteTime": {
     "start_time": "2023-12-17T09:24:04.807382Z"
    }
   },
   "outputs": [],
   "source": [
    "get_submission_data(best_model, sub_preproc, sub_encounter_id, '../submissions/')"
   ]
  }
 ],
 "metadata": {
  "kernelspec": {
   "display_name": "Python 3 (ipykernel)",
   "language": "python",
   "name": "python3"
  },
  "language_info": {
   "codemirror_mode": {
    "name": "ipython",
    "version": 3
   },
   "file_extension": ".py",
   "mimetype": "text/x-python",
   "name": "python",
   "nbconvert_exporter": "python",
   "pygments_lexer": "ipython3",
   "version": "3.11.5"
  }
 },
 "nbformat": 4,
 "nbformat_minor": 5
}
