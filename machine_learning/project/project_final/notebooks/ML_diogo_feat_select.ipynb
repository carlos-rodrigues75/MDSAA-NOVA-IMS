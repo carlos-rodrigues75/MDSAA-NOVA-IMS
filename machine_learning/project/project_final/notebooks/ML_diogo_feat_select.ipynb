{
 "cells": [
  {
   "cell_type": "markdown",
   "id": "8dc9e9e4-8524-4c43-8f11-33fe43b4fa2b",
   "metadata": {},
   "source": [
    "# Imports"
   ]
  },
  {
   "cell_type": "code",
   "execution_count": 64,
   "id": "891d4c84-af5b-4b86-b23d-7088c30b1b96",
   "metadata": {},
   "outputs": [
    {
     "name": "stdout",
     "output_type": "stream",
     "text": [
      "The autoreload extension is already loaded. To reload it, use:\n",
      "  %reload_ext autoreload\n"
     ]
    }
   ],
   "source": [
    "%load_ext autoreload\n",
    "%autoreload 2\n",
    "\n",
    "import pandas as pd\n",
    "import numpy as np\n",
    "import seaborn as sns\n",
    "import matplotlib.pyplot as plt\n",
    "\n",
    "# Pipeline\n",
    "from sklearn.pipeline import Pipeline\n",
    "from sklearn.compose import ColumnTransformer\n",
    "\n",
    "# Normalization\n",
    "from sklearn.preprocessing import TargetEncoder, MinMaxScaler, StandardScaler, PowerTransformer, LabelEncoder\n",
    "from sklearn.impute import SimpleImputer\n",
    "\n",
    "# Feature selection\n",
    "#!pip install boruta\n",
    "from boruta import BorutaPy\n",
    "from sklearn.linear_model import LogisticRegression\n",
    "from sklearn.feature_selection import RFE\n",
    "from sklearn.linear_model import LassoCV\n",
    "import scipy.stats as stats\n",
    "from scipy.stats import chi2_contingency\n",
    "\n",
    "# Classification Models\n",
    "from sklearn.impute import SimpleImputer, KNNImputer\n",
    "from sklearn.naive_bayes import GaussianNB\n",
    "from sklearn.neighbors import KNeighborsClassifier\n",
    "from sklearn.svm import SVC\n",
    "from sklearn.tree import DecisionTreeClassifier\n",
    "from sklearn.ensemble import AdaBoostClassifier, GradientBoostingClassifier, HistGradientBoostingClassifier, RandomForestClassifier\n",
    "from sklearn.linear_model import SGDClassifier\n",
    "\n",
    "# F1 score\n",
    "from sklearn.metrics import f1_score\n",
    "\n",
    "from imblearn.combine import SMOTETomek\n",
    "from utils import CustomCleaner, get_submission_data\n",
    "\n",
    "import warnings\n",
    "warnings.filterwarnings('ignore')"
   ]
  },
  {
   "cell_type": "markdown",
   "id": "554b09ed-83ce-46e2-9fe0-849e83c14d99",
   "metadata": {
    "jp-MarkdownHeadingCollapsed": true
   },
   "source": [
    "# Load data "
   ]
  },
  {
   "cell_type": "code",
   "execution_count": 9,
   "id": "3499d215-4a45-4518-a45c-6b48c81c558f",
   "metadata": {},
   "outputs": [],
   "source": [
    "df_training = pd.read_csv('./project_data/train.csv')"
   ]
  },
  {
   "cell_type": "code",
   "execution_count": 10,
   "id": "0f6007d5-f5bc-45d9-b8d1-92ba5d1daf3b",
   "metadata": {},
   "outputs": [
    {
     "data": {
      "text/html": [
       "<div>\n",
       "<style scoped>\n",
       "    .dataframe tbody tr th:only-of-type {\n",
       "        vertical-align: middle;\n",
       "    }\n",
       "\n",
       "    .dataframe tbody tr th {\n",
       "        vertical-align: top;\n",
       "    }\n",
       "\n",
       "    .dataframe thead th {\n",
       "        text-align: right;\n",
       "    }\n",
       "</style>\n",
       "<table border=\"1\" class=\"dataframe\">\n",
       "  <thead>\n",
       "    <tr style=\"text-align: right;\">\n",
       "      <th></th>\n",
       "      <th>encounter_id</th>\n",
       "      <th>country</th>\n",
       "      <th>patient_id</th>\n",
       "      <th>race</th>\n",
       "      <th>gender</th>\n",
       "      <th>age</th>\n",
       "      <th>weight</th>\n",
       "      <th>payer_code</th>\n",
       "      <th>outpatient_visits_in_previous_year</th>\n",
       "      <th>emergency_visits_in_previous_year</th>\n",
       "      <th>...</th>\n",
       "      <th>secondary_diagnosis</th>\n",
       "      <th>additional_diagnosis</th>\n",
       "      <th>number_diagnoses</th>\n",
       "      <th>glucose_test_result</th>\n",
       "      <th>a1c_test_result</th>\n",
       "      <th>change_in_meds_during_hospitalization</th>\n",
       "      <th>prescribed_diabetes_meds</th>\n",
       "      <th>medication</th>\n",
       "      <th>readmitted_binary</th>\n",
       "      <th>readmitted_multiclass</th>\n",
       "    </tr>\n",
       "  </thead>\n",
       "  <tbody>\n",
       "    <tr>\n",
       "      <th>0</th>\n",
       "      <td>533253</td>\n",
       "      <td>USA</td>\n",
       "      <td>70110</td>\n",
       "      <td>Caucasian</td>\n",
       "      <td>Female</td>\n",
       "      <td>[70-80)</td>\n",
       "      <td>?</td>\n",
       "      <td>?</td>\n",
       "      <td>0</td>\n",
       "      <td>0</td>\n",
       "      <td>...</td>\n",
       "      <td>276</td>\n",
       "      <td>466</td>\n",
       "      <td>8</td>\n",
       "      <td>NaN</td>\n",
       "      <td>NaN</td>\n",
       "      <td>No</td>\n",
       "      <td>No</td>\n",
       "      <td>[]</td>\n",
       "      <td>No</td>\n",
       "      <td>&gt;30 days</td>\n",
       "    </tr>\n",
       "    <tr>\n",
       "      <th>1</th>\n",
       "      <td>426224</td>\n",
       "      <td>USA</td>\n",
       "      <td>29775006</td>\n",
       "      <td>AfricanAmerican</td>\n",
       "      <td>Male</td>\n",
       "      <td>[50-60)</td>\n",
       "      <td>?</td>\n",
       "      <td>?</td>\n",
       "      <td>0</td>\n",
       "      <td>0</td>\n",
       "      <td>...</td>\n",
       "      <td>785</td>\n",
       "      <td>162</td>\n",
       "      <td>9</td>\n",
       "      <td>NaN</td>\n",
       "      <td>NaN</td>\n",
       "      <td>No</td>\n",
       "      <td>Yes</td>\n",
       "      <td>['insulin']</td>\n",
       "      <td>No</td>\n",
       "      <td>No</td>\n",
       "    </tr>\n",
       "    <tr>\n",
       "      <th>2</th>\n",
       "      <td>634063</td>\n",
       "      <td>USA</td>\n",
       "      <td>80729253</td>\n",
       "      <td>Caucasian</td>\n",
       "      <td>Female</td>\n",
       "      <td>[60-70)</td>\n",
       "      <td>?</td>\n",
       "      <td>?</td>\n",
       "      <td>0</td>\n",
       "      <td>0</td>\n",
       "      <td>...</td>\n",
       "      <td>135</td>\n",
       "      <td>250</td>\n",
       "      <td>6</td>\n",
       "      <td>NaN</td>\n",
       "      <td>NaN</td>\n",
       "      <td>Ch</td>\n",
       "      <td>Yes</td>\n",
       "      <td>['glimepiride', 'insulin']</td>\n",
       "      <td>No</td>\n",
       "      <td>No</td>\n",
       "    </tr>\n",
       "    <tr>\n",
       "      <th>3</th>\n",
       "      <td>890610</td>\n",
       "      <td>USA</td>\n",
       "      <td>2919042</td>\n",
       "      <td>AfricanAmerican</td>\n",
       "      <td>Male</td>\n",
       "      <td>[60-70)</td>\n",
       "      <td>?</td>\n",
       "      <td>MC</td>\n",
       "      <td>0</td>\n",
       "      <td>0</td>\n",
       "      <td>...</td>\n",
       "      <td>562</td>\n",
       "      <td>455</td>\n",
       "      <td>5</td>\n",
       "      <td>NaN</td>\n",
       "      <td>NaN</td>\n",
       "      <td>No</td>\n",
       "      <td>No</td>\n",
       "      <td>[]</td>\n",
       "      <td>No</td>\n",
       "      <td>No</td>\n",
       "    </tr>\n",
       "    <tr>\n",
       "      <th>4</th>\n",
       "      <td>654194</td>\n",
       "      <td>USA</td>\n",
       "      <td>84871971</td>\n",
       "      <td>Caucasian</td>\n",
       "      <td>Female</td>\n",
       "      <td>[70-80)</td>\n",
       "      <td>?</td>\n",
       "      <td>HM</td>\n",
       "      <td>1</td>\n",
       "      <td>0</td>\n",
       "      <td>...</td>\n",
       "      <td>599</td>\n",
       "      <td>428</td>\n",
       "      <td>9</td>\n",
       "      <td>NaN</td>\n",
       "      <td>NaN</td>\n",
       "      <td>No</td>\n",
       "      <td>No</td>\n",
       "      <td>[]</td>\n",
       "      <td>No</td>\n",
       "      <td>&gt;30 days</td>\n",
       "    </tr>\n",
       "  </tbody>\n",
       "</table>\n",
       "<p>5 rows × 31 columns</p>\n",
       "</div>"
      ],
      "text/plain": [
       "   encounter_id country  patient_id             race  gender      age weight  \\\n",
       "0        533253     USA       70110        Caucasian  Female  [70-80)      ?   \n",
       "1        426224     USA    29775006  AfricanAmerican    Male  [50-60)      ?   \n",
       "2        634063     USA    80729253        Caucasian  Female  [60-70)      ?   \n",
       "3        890610     USA     2919042  AfricanAmerican    Male  [60-70)      ?   \n",
       "4        654194     USA    84871971        Caucasian  Female  [70-80)      ?   \n",
       "\n",
       "  payer_code  outpatient_visits_in_previous_year  \\\n",
       "0          ?                                   0   \n",
       "1          ?                                   0   \n",
       "2          ?                                   0   \n",
       "3         MC                                   0   \n",
       "4         HM                                   1   \n",
       "\n",
       "   emergency_visits_in_previous_year  ...  secondary_diagnosis  \\\n",
       "0                                  0  ...                  276   \n",
       "1                                  0  ...                  785   \n",
       "2                                  0  ...                  135   \n",
       "3                                  0  ...                  562   \n",
       "4                                  0  ...                  599   \n",
       "\n",
       "  additional_diagnosis number_diagnoses  glucose_test_result a1c_test_result  \\\n",
       "0                  466                8                  NaN             NaN   \n",
       "1                  162                9                  NaN             NaN   \n",
       "2                  250                6                  NaN             NaN   \n",
       "3                  455                5                  NaN             NaN   \n",
       "4                  428                9                  NaN             NaN   \n",
       "\n",
       "  change_in_meds_during_hospitalization  prescribed_diabetes_meds  \\\n",
       "0                                    No                        No   \n",
       "1                                    No                       Yes   \n",
       "2                                    Ch                       Yes   \n",
       "3                                    No                        No   \n",
       "4                                    No                        No   \n",
       "\n",
       "                   medication  readmitted_binary  readmitted_multiclass  \n",
       "0                          []                 No               >30 days  \n",
       "1                 ['insulin']                 No                     No  \n",
       "2  ['glimepiride', 'insulin']                 No                     No  \n",
       "3                          []                 No                     No  \n",
       "4                          []                 No               >30 days  \n",
       "\n",
       "[5 rows x 31 columns]"
      ]
     },
     "execution_count": 10,
     "metadata": {},
     "output_type": "execute_result"
    }
   ],
   "source": [
    "df_training.head()"
   ]
  },
  {
   "cell_type": "markdown",
   "id": "241641c0-57af-4540-8369-ff9ebf80b672",
   "metadata": {
    "jp-MarkdownHeadingCollapsed": true
   },
   "source": [
    "# Using Custom Cleaner"
   ]
  },
  {
   "cell_type": "code",
   "execution_count": 11,
   "id": "1b6d89a2-17b3-4722-a58e-20245bf93339",
   "metadata": {},
   "outputs": [],
   "source": [
    "cleaner = CustomCleaner()\n",
    "\n",
    "# Replaces '?','Unknown' by NaN\n",
    "# maps Ages\n",
    "# maps payer_code\n",
    "# gets all unique medications as features                      (new feature)\n",
    "# also get the count of medications (for diabetes)             (many new features)\n",
    "# cleans discharge_disposition\n",
    "# cleans admission_source\n",
    "# cleans admission_type\n",
    "# cleans medical_specialty\n",
    "# gets primary diagnosis (from 3 original diagnosis columns)   (new feature)\n",
    "# gets number of visits per patient using repeated patient_id  (new feature)\n",
    "# gets number (log) of medications per day in the hospital     (new feature)\n",
    "# gets number of lab tests per day in the hospital             (new feature)\n",
    "# gets proportions of each of the 3 types of visits, per visit (3 new features)\n"
   ]
  },
  {
   "cell_type": "code",
   "execution_count": 12,
   "id": "2c8a42db-326e-4171-bc74-e5e86ed29353",
   "metadata": {},
   "outputs": [],
   "source": [
    "df = cleaner.fit_transform(df_training)"
   ]
  },
  {
   "cell_type": "code",
   "execution_count": 13,
   "id": "20e91b23-2f25-40c0-9de0-4e5c6e22a899",
   "metadata": {},
   "outputs": [
    {
     "data": {
      "text/plain": [
       "encounter_id                               int64\n",
       "country                                   object\n",
       "patient_id                                 int64\n",
       "race                                      object\n",
       "gender                                    object\n",
       "age                                      float64\n",
       "weight                                    object\n",
       "payer_code                                  bool\n",
       "outpatient_visits_in_previous_year         int64\n",
       "emergency_visits_in_previous_year          int64\n",
       "inpatient_visits_in_previous_year          int64\n",
       "admission_type                            object\n",
       "medical_specialty                         object\n",
       "average_pulse_bpm                          int64\n",
       "discharge_disposition                     object\n",
       "admission_source                          object\n",
       "length_of_stay_in_hospital                 int64\n",
       "number_lab_tests                           int64\n",
       "non_lab_procedures                         int64\n",
       "number_of_medications                      int64\n",
       "primary_diagnosis                         object\n",
       "secondary_diagnosis                       object\n",
       "additional_diagnosis                      object\n",
       "number_diagnoses                           int64\n",
       "glucose_test_result                       object\n",
       "a1c_test_result                           object\n",
       "change_in_meds_during_hospitalization     object\n",
       "prescribed_diabetes_meds                  object\n",
       "medication                                object\n",
       "readmitted_binary                         object\n",
       "readmitted_multiclass                     object\n",
       "glimepiride                                 bool\n",
       "insulin                                     bool\n",
       "chlorpropamide                              bool\n",
       "rosiglitazone                               bool\n",
       "pioglitazone                                bool\n",
       "nateglinide                                 bool\n",
       "miglitol                                    bool\n",
       "metformin                                   bool\n",
       "glyburide-metformin                         bool\n",
       "acarbose                                    bool\n",
       "tolbutamide                                 bool\n",
       "tolazamide                                  bool\n",
       "glipizide                                   bool\n",
       "troglitazone                                bool\n",
       "repaglinide                                 bool\n",
       "glipizide-metformin                         bool\n",
       "glyburide                                   bool\n",
       "metformin-rosiglitazone                     bool\n",
       "metformin-pioglitazone                      bool\n",
       "acetohexamide                               bool\n",
       "glimepiride-pioglitazone                    bool\n",
       "number_diab_meds                           int64\n",
       "number_visits_per_patient                  int64\n",
       "n_medication_per_day                     float64\n",
       "n_lab_tests_per_day                      float64\n",
       "prop_inpatient                           float64\n",
       "prop_outpatient                          float64\n",
       "prop_emergency                           float64\n",
       "dtype: object"
      ]
     },
     "execution_count": 13,
     "metadata": {},
     "output_type": "execute_result"
    }
   ],
   "source": [
    "df.dtypes"
   ]
  },
  {
   "cell_type": "markdown",
   "id": "a3c65352-a441-45ce-bba2-a9c16d789150",
   "metadata": {
    "jp-MarkdownHeadingCollapsed": true
   },
   "source": [
    "# Dealing with Outliers"
   ]
  },
  {
   "cell_type": "code",
   "execution_count": null,
   "id": "df1ffd84-654d-447b-b62b-1ca3a2e23bc7",
   "metadata": {},
   "outputs": [],
   "source": []
  },
  {
   "cell_type": "code",
   "execution_count": null,
   "id": "da872abb-517e-44b9-b0b7-9bfd9591a1bb",
   "metadata": {},
   "outputs": [],
   "source": []
  },
  {
   "cell_type": "code",
   "execution_count": null,
   "id": "c21ecef7-f479-4f84-ad1a-e82ebdb1705d",
   "metadata": {},
   "outputs": [],
   "source": []
  },
  {
   "cell_type": "markdown",
   "id": "6f06ee9c-ed8a-4732-b07c-955c612aa113",
   "metadata": {
    "jp-MarkdownHeadingCollapsed": true
   },
   "source": [
    "# Normalization"
   ]
  },
  {
   "cell_type": "code",
   "execution_count": 16,
   "id": "88cbc8d9-4316-4f1d-84e6-ec498c059ee1",
   "metadata": {},
   "outputs": [
    {
     "data": {
      "text/plain": [
       "Index(['country', 'race', 'gender', 'weight', 'payer_code', 'admission_type',\n",
       "       'medical_specialty', 'discharge_disposition', 'admission_source',\n",
       "       'primary_diagnosis', 'secondary_diagnosis', 'additional_diagnosis',\n",
       "       'glucose_test_result', 'a1c_test_result',\n",
       "       'change_in_meds_during_hospitalization', 'prescribed_diabetes_meds',\n",
       "       'medication', 'readmitted_binary', 'readmitted_multiclass',\n",
       "       'glimepiride', 'insulin', 'chlorpropamide', 'rosiglitazone',\n",
       "       'pioglitazone', 'nateglinide', 'miglitol', 'metformin',\n",
       "       'glyburide-metformin', 'acarbose', 'tolbutamide', 'tolazamide',\n",
       "       'glipizide', 'troglitazone', 'repaglinide', 'glipizide-metformin',\n",
       "       'glyburide', 'metformin-rosiglitazone', 'metformin-pioglitazone',\n",
       "       'acetohexamide', 'glimepiride-pioglitazone'],\n",
       "      dtype='object')"
      ]
     },
     "execution_count": 16,
     "metadata": {},
     "output_type": "execute_result"
    }
   ],
   "source": [
    "df.select_dtypes(exclude=np.number).columns"
   ]
  },
  {
   "cell_type": "code",
   "execution_count": 17,
   "id": "b51acd0e-ebd8-42bc-8c20-2e785a5c6de1",
   "metadata": {},
   "outputs": [
    {
     "data": {
      "text/plain": [
       "Index(['encounter_id', 'patient_id', 'age',\n",
       "       'outpatient_visits_in_previous_year',\n",
       "       'emergency_visits_in_previous_year',\n",
       "       'inpatient_visits_in_previous_year', 'average_pulse_bpm',\n",
       "       'length_of_stay_in_hospital', 'number_lab_tests', 'non_lab_procedures',\n",
       "       'number_of_medications', 'number_diagnoses', 'number_diab_meds',\n",
       "       'number_visits_per_patient', 'n_medication_per_day',\n",
       "       'n_lab_tests_per_day', 'prop_inpatient', 'prop_outpatient',\n",
       "       'prop_emergency'],\n",
       "      dtype='object')"
      ]
     },
     "execution_count": 17,
     "metadata": {},
     "output_type": "execute_result"
    }
   ],
   "source": [
    "df.select_dtypes(include=np.number).columns"
   ]
  },
  {
   "cell_type": "code",
   "execution_count": 18,
   "id": "e66268e8-2fff-4f82-af46-51f90650b386",
   "metadata": {},
   "outputs": [],
   "source": [
    "cat_cols = ['race','gender','admission_type','discharge_disposition','admission_source',\n",
    "            'primary_diagnosis','change_in_meds_during_hospitalization','prescribed_diabetes_meds',\n",
    "            'insulin','metformin','payer_code','medical_specialty'\n",
    "           ]\n",
    "\n",
    "num_cols = ['age', 'average_pulse_bpm', 'length_of_stay_in_hospital', 'number_lab_tests', 'non_lab_procedures',\n",
    "            'number_of_medications', 'number_diagnoses', 'number_diab_meds', 'number_visits_per_patient',\n",
    "            'n_medication_per_day', 'n_lab_tests_per_day', 'prop_inpatient', 'prop_outpatient','prop_emergency', \n",
    "            'outpatient_visits_in_previous_year', 'emergency_visits_in_previous_year', 'inpatient_visits_in_previous_year'\n",
    "           ]"
   ]
  },
  {
   "cell_type": "code",
   "execution_count": 19,
   "id": "8a20f4fa-345b-466d-b3d6-7bc3b9c77227",
   "metadata": {},
   "outputs": [],
   "source": [
    "X = df.drop(columns=['readmitted_binary', 'readmitted_multiclass'])\n",
    "y = df.readmitted_binary\n",
    "\n",
    "label = LabelEncoder()\n",
    "y = label.fit_transform(y)"
   ]
  },
  {
   "cell_type": "code",
   "execution_count": 23,
   "id": "c96abb3c-990e-4035-bb02-674395551872",
   "metadata": {},
   "outputs": [
    {
     "data": {
      "text/html": [
       "<style>#sk-container-id-2 {color: black;}#sk-container-id-2 pre{padding: 0;}#sk-container-id-2 div.sk-toggleable {background-color: white;}#sk-container-id-2 label.sk-toggleable__label {cursor: pointer;display: block;width: 100%;margin-bottom: 0;padding: 0.3em;box-sizing: border-box;text-align: center;}#sk-container-id-2 label.sk-toggleable__label-arrow:before {content: \"▸\";float: left;margin-right: 0.25em;color: #696969;}#sk-container-id-2 label.sk-toggleable__label-arrow:hover:before {color: black;}#sk-container-id-2 div.sk-estimator:hover label.sk-toggleable__label-arrow:before {color: black;}#sk-container-id-2 div.sk-toggleable__content {max-height: 0;max-width: 0;overflow: hidden;text-align: left;background-color: #f0f8ff;}#sk-container-id-2 div.sk-toggleable__content pre {margin: 0.2em;color: black;border-radius: 0.25em;background-color: #f0f8ff;}#sk-container-id-2 input.sk-toggleable__control:checked~div.sk-toggleable__content {max-height: 200px;max-width: 100%;overflow: auto;}#sk-container-id-2 input.sk-toggleable__control:checked~label.sk-toggleable__label-arrow:before {content: \"▾\";}#sk-container-id-2 div.sk-estimator input.sk-toggleable__control:checked~label.sk-toggleable__label {background-color: #d4ebff;}#sk-container-id-2 div.sk-label input.sk-toggleable__control:checked~label.sk-toggleable__label {background-color: #d4ebff;}#sk-container-id-2 input.sk-hidden--visually {border: 0;clip: rect(1px 1px 1px 1px);clip: rect(1px, 1px, 1px, 1px);height: 1px;margin: -1px;overflow: hidden;padding: 0;position: absolute;width: 1px;}#sk-container-id-2 div.sk-estimator {font-family: monospace;background-color: #f0f8ff;border: 1px dotted black;border-radius: 0.25em;box-sizing: border-box;margin-bottom: 0.5em;}#sk-container-id-2 div.sk-estimator:hover {background-color: #d4ebff;}#sk-container-id-2 div.sk-parallel-item::after {content: \"\";width: 100%;border-bottom: 1px solid gray;flex-grow: 1;}#sk-container-id-2 div.sk-label:hover label.sk-toggleable__label {background-color: #d4ebff;}#sk-container-id-2 div.sk-serial::before {content: \"\";position: absolute;border-left: 1px solid gray;box-sizing: border-box;top: 0;bottom: 0;left: 50%;z-index: 0;}#sk-container-id-2 div.sk-serial {display: flex;flex-direction: column;align-items: center;background-color: white;padding-right: 0.2em;padding-left: 0.2em;position: relative;}#sk-container-id-2 div.sk-item {position: relative;z-index: 1;}#sk-container-id-2 div.sk-parallel {display: flex;align-items: stretch;justify-content: center;background-color: white;position: relative;}#sk-container-id-2 div.sk-item::before, #sk-container-id-2 div.sk-parallel-item::before {content: \"\";position: absolute;border-left: 1px solid gray;box-sizing: border-box;top: 0;bottom: 0;left: 50%;z-index: -1;}#sk-container-id-2 div.sk-parallel-item {display: flex;flex-direction: column;z-index: 1;position: relative;background-color: white;}#sk-container-id-2 div.sk-parallel-item:first-child::after {align-self: flex-end;width: 50%;}#sk-container-id-2 div.sk-parallel-item:last-child::after {align-self: flex-start;width: 50%;}#sk-container-id-2 div.sk-parallel-item:only-child::after {width: 0;}#sk-container-id-2 div.sk-dashed-wrapped {border: 1px dashed gray;margin: 0 0.4em 0.5em 0.4em;box-sizing: border-box;padding-bottom: 0.4em;background-color: white;}#sk-container-id-2 div.sk-label label {font-family: monospace;font-weight: bold;display: inline-block;line-height: 1.2em;}#sk-container-id-2 div.sk-label-container {text-align: center;}#sk-container-id-2 div.sk-container {/* jupyter's `normalize.less` sets `[hidden] { display: none; }` but bootstrap.min.css set `[hidden] { display: none !important; }` so we also need the `!important` here to be able to override the default hidden behavior on the sphinx rendered scikit-learn.org. See: https://github.com/scikit-learn/scikit-learn/issues/21755 */display: inline-block !important;position: relative;}#sk-container-id-2 div.sk-text-repr-fallback {display: none;}</style><div id=\"sk-container-id-2\" class=\"sk-top-container\"><div class=\"sk-text-repr-fallback\"><pre>ColumnTransformer(transformers=[(&#x27;cat&#x27;,\n",
       "                                 Pipeline(steps=[(&#x27;target&#x27;,\n",
       "                                                  TargetEncoder(target_type=&#x27;binary&#x27;))]),\n",
       "                                 [&#x27;race&#x27;, &#x27;gender&#x27;, &#x27;admission_type&#x27;,\n",
       "                                  &#x27;discharge_disposition&#x27;, &#x27;admission_source&#x27;,\n",
       "                                  &#x27;primary_diagnosis&#x27;,\n",
       "                                  &#x27;change_in_meds_during_hospitalization&#x27;,\n",
       "                                  &#x27;prescribed_diabetes_meds&#x27;, &#x27;insulin&#x27;,\n",
       "                                  &#x27;metformin&#x27;, &#x27;payer_code&#x27;,\n",
       "                                  &#x27;medical_specialty&#x27;]),\n",
       "                                (&#x27;num&#x27;,\n",
       "                                 Pipeline(steps=[(&#x27;...\n",
       "                                  &#x27;length_of_stay_in_hospital&#x27;,\n",
       "                                  &#x27;number_lab_tests&#x27;, &#x27;non_lab_procedures&#x27;,\n",
       "                                  &#x27;number_of_medications&#x27;, &#x27;number_diagnoses&#x27;,\n",
       "                                  &#x27;number_diab_meds&#x27;,\n",
       "                                  &#x27;number_visits_per_patient&#x27;,\n",
       "                                  &#x27;n_medication_per_day&#x27;, &#x27;n_lab_tests_per_day&#x27;,\n",
       "                                  &#x27;prop_inpatient&#x27;, &#x27;prop_outpatient&#x27;,\n",
       "                                  &#x27;prop_emergency&#x27;,\n",
       "                                  &#x27;outpatient_visits_in_previous_year&#x27;,\n",
       "                                  &#x27;emergency_visits_in_previous_year&#x27;,\n",
       "                                  &#x27;inpatient_visits_in_previous_year&#x27;])])</pre><b>In a Jupyter environment, please rerun this cell to show the HTML representation or trust the notebook. <br />On GitHub, the HTML representation is unable to render, please try loading this page with nbviewer.org.</b></div><div class=\"sk-container\" hidden><div class=\"sk-item sk-dashed-wrapped\"><div class=\"sk-label-container\"><div class=\"sk-label sk-toggleable\"><input class=\"sk-toggleable__control sk-hidden--visually\" id=\"sk-estimator-id-8\" type=\"checkbox\" ><label for=\"sk-estimator-id-8\" class=\"sk-toggleable__label sk-toggleable__label-arrow\">ColumnTransformer</label><div class=\"sk-toggleable__content\"><pre>ColumnTransformer(transformers=[(&#x27;cat&#x27;,\n",
       "                                 Pipeline(steps=[(&#x27;target&#x27;,\n",
       "                                                  TargetEncoder(target_type=&#x27;binary&#x27;))]),\n",
       "                                 [&#x27;race&#x27;, &#x27;gender&#x27;, &#x27;admission_type&#x27;,\n",
       "                                  &#x27;discharge_disposition&#x27;, &#x27;admission_source&#x27;,\n",
       "                                  &#x27;primary_diagnosis&#x27;,\n",
       "                                  &#x27;change_in_meds_during_hospitalization&#x27;,\n",
       "                                  &#x27;prescribed_diabetes_meds&#x27;, &#x27;insulin&#x27;,\n",
       "                                  &#x27;metformin&#x27;, &#x27;payer_code&#x27;,\n",
       "                                  &#x27;medical_specialty&#x27;]),\n",
       "                                (&#x27;num&#x27;,\n",
       "                                 Pipeline(steps=[(&#x27;...\n",
       "                                  &#x27;length_of_stay_in_hospital&#x27;,\n",
       "                                  &#x27;number_lab_tests&#x27;, &#x27;non_lab_procedures&#x27;,\n",
       "                                  &#x27;number_of_medications&#x27;, &#x27;number_diagnoses&#x27;,\n",
       "                                  &#x27;number_diab_meds&#x27;,\n",
       "                                  &#x27;number_visits_per_patient&#x27;,\n",
       "                                  &#x27;n_medication_per_day&#x27;, &#x27;n_lab_tests_per_day&#x27;,\n",
       "                                  &#x27;prop_inpatient&#x27;, &#x27;prop_outpatient&#x27;,\n",
       "                                  &#x27;prop_emergency&#x27;,\n",
       "                                  &#x27;outpatient_visits_in_previous_year&#x27;,\n",
       "                                  &#x27;emergency_visits_in_previous_year&#x27;,\n",
       "                                  &#x27;inpatient_visits_in_previous_year&#x27;])])</pre></div></div></div><div class=\"sk-parallel\"><div class=\"sk-parallel-item\"><div class=\"sk-item\"><div class=\"sk-label-container\"><div class=\"sk-label sk-toggleable\"><input class=\"sk-toggleable__control sk-hidden--visually\" id=\"sk-estimator-id-9\" type=\"checkbox\" ><label for=\"sk-estimator-id-9\" class=\"sk-toggleable__label sk-toggleable__label-arrow\">cat</label><div class=\"sk-toggleable__content\"><pre>[&#x27;race&#x27;, &#x27;gender&#x27;, &#x27;admission_type&#x27;, &#x27;discharge_disposition&#x27;, &#x27;admission_source&#x27;, &#x27;primary_diagnosis&#x27;, &#x27;change_in_meds_during_hospitalization&#x27;, &#x27;prescribed_diabetes_meds&#x27;, &#x27;insulin&#x27;, &#x27;metformin&#x27;, &#x27;payer_code&#x27;, &#x27;medical_specialty&#x27;]</pre></div></div></div><div class=\"sk-serial\"><div class=\"sk-item\"><div class=\"sk-serial\"><div class=\"sk-item\"><div class=\"sk-estimator sk-toggleable\"><input class=\"sk-toggleable__control sk-hidden--visually\" id=\"sk-estimator-id-10\" type=\"checkbox\" ><label for=\"sk-estimator-id-10\" class=\"sk-toggleable__label sk-toggleable__label-arrow\">TargetEncoder</label><div class=\"sk-toggleable__content\"><pre>TargetEncoder(target_type=&#x27;binary&#x27;)</pre></div></div></div></div></div></div></div></div><div class=\"sk-parallel-item\"><div class=\"sk-item\"><div class=\"sk-label-container\"><div class=\"sk-label sk-toggleable\"><input class=\"sk-toggleable__control sk-hidden--visually\" id=\"sk-estimator-id-11\" type=\"checkbox\" ><label for=\"sk-estimator-id-11\" class=\"sk-toggleable__label sk-toggleable__label-arrow\">num</label><div class=\"sk-toggleable__content\"><pre>[&#x27;age&#x27;, &#x27;average_pulse_bpm&#x27;, &#x27;length_of_stay_in_hospital&#x27;, &#x27;number_lab_tests&#x27;, &#x27;non_lab_procedures&#x27;, &#x27;number_of_medications&#x27;, &#x27;number_diagnoses&#x27;, &#x27;number_diab_meds&#x27;, &#x27;number_visits_per_patient&#x27;, &#x27;n_medication_per_day&#x27;, &#x27;n_lab_tests_per_day&#x27;, &#x27;prop_inpatient&#x27;, &#x27;prop_outpatient&#x27;, &#x27;prop_emergency&#x27;, &#x27;outpatient_visits_in_previous_year&#x27;, &#x27;emergency_visits_in_previous_year&#x27;, &#x27;inpatient_visits_in_previous_year&#x27;]</pre></div></div></div><div class=\"sk-serial\"><div class=\"sk-item\"><div class=\"sk-serial\"><div class=\"sk-item\"><div class=\"sk-estimator sk-toggleable\"><input class=\"sk-toggleable__control sk-hidden--visually\" id=\"sk-estimator-id-12\" type=\"checkbox\" ><label for=\"sk-estimator-id-12\" class=\"sk-toggleable__label sk-toggleable__label-arrow\">SimpleImputer</label><div class=\"sk-toggleable__content\"><pre>SimpleImputer(strategy=&#x27;median&#x27;)</pre></div></div></div><div class=\"sk-item\"><div class=\"sk-estimator sk-toggleable\"><input class=\"sk-toggleable__control sk-hidden--visually\" id=\"sk-estimator-id-13\" type=\"checkbox\" ><label for=\"sk-estimator-id-13\" class=\"sk-toggleable__label sk-toggleable__label-arrow\">PowerTransformer</label><div class=\"sk-toggleable__content\"><pre>PowerTransformer()</pre></div></div></div><div class=\"sk-item\"><div class=\"sk-estimator sk-toggleable\"><input class=\"sk-toggleable__control sk-hidden--visually\" id=\"sk-estimator-id-14\" type=\"checkbox\" ><label for=\"sk-estimator-id-14\" class=\"sk-toggleable__label sk-toggleable__label-arrow\">MinMaxScaler</label><div class=\"sk-toggleable__content\"><pre>MinMaxScaler()</pre></div></div></div></div></div></div></div></div></div></div></div></div>"
      ],
      "text/plain": [
       "ColumnTransformer(transformers=[('cat',\n",
       "                                 Pipeline(steps=[('target',\n",
       "                                                  TargetEncoder(target_type='binary'))]),\n",
       "                                 ['race', 'gender', 'admission_type',\n",
       "                                  'discharge_disposition', 'admission_source',\n",
       "                                  'primary_diagnosis',\n",
       "                                  'change_in_meds_during_hospitalization',\n",
       "                                  'prescribed_diabetes_meds', 'insulin',\n",
       "                                  'metformin', 'payer_code',\n",
       "                                  'medical_specialty']),\n",
       "                                ('num',\n",
       "                                 Pipeline(steps=[('...\n",
       "                                  'length_of_stay_in_hospital',\n",
       "                                  'number_lab_tests', 'non_lab_procedures',\n",
       "                                  'number_of_medications', 'number_diagnoses',\n",
       "                                  'number_diab_meds',\n",
       "                                  'number_visits_per_patient',\n",
       "                                  'n_medication_per_day', 'n_lab_tests_per_day',\n",
       "                                  'prop_inpatient', 'prop_outpatient',\n",
       "                                  'prop_emergency',\n",
       "                                  'outpatient_visits_in_previous_year',\n",
       "                                  'emergency_visits_in_previous_year',\n",
       "                                  'inpatient_visits_in_previous_year'])])"
      ]
     },
     "execution_count": 23,
     "metadata": {},
     "output_type": "execute_result"
    }
   ],
   "source": [
    "cat_pipe = Pipeline([\n",
    "    ('target', TargetEncoder(target_type='binary')) # categorical encoder\n",
    "])\n",
    "\n",
    "num_pipe = Pipeline([\n",
    "    ('imputer', SimpleImputer(strategy='median')),  # impute NaN with median\n",
    "    ('deskewer', PowerTransformer()),               # transform distribution into more Gaussian-like (Normal)\n",
    "    ('scaler', MinMaxScaler())                      # normalization, values between 0 and 1  \n",
    "])\n",
    "\n",
    "preproc = ColumnTransformer([\n",
    "    ('cat', cat_pipe, cat_cols),\n",
    "    ('num', num_pipe, num_cols)\n",
    "], remainder='drop')\n",
    "\n",
    "preproc"
   ]
  },
  {
   "cell_type": "markdown",
   "id": "a3f165cc-7cea-43de-b256-20e7855dd5fd",
   "metadata": {
    "jp-MarkdownHeadingCollapsed": true
   },
   "source": [
    "# Train/Test Split"
   ]
  },
  {
   "cell_type": "code",
   "execution_count": 24,
   "id": "28f24158-c256-4d33-8426-b6c52a9ce095",
   "metadata": {},
   "outputs": [],
   "source": [
    "from sklearn.model_selection import train_test_split, cross_val_score"
   ]
  },
  {
   "cell_type": "code",
   "execution_count": 25,
   "id": "55acdc45-edf5-4b62-9844-8ebb11586fe7",
   "metadata": {},
   "outputs": [],
   "source": [
    "X_train, X_test, y_train, y_test = train_test_split(X, y,train_size=0.7 , stratify=y, random_state=42)"
   ]
  },
  {
   "cell_type": "code",
   "execution_count": 26,
   "id": "086ec1e0-ac6d-4eb8-8df7-c26413949cb3",
   "metadata": {},
   "outputs": [],
   "source": [
    "X_train = preproc.fit_transform(X_train, y_train)\n",
    "X_test = preproc.transform(X_test)"
   ]
  },
  {
   "cell_type": "markdown",
   "id": "30763cb4-6809-4a3e-bc11-006c76ecf2ab",
   "metadata": {},
   "source": [
    "# Feature Selection"
   ]
  },
  {
   "cell_type": "markdown",
   "id": "e811b639-a5ae-43c1-9911-e57ba588cf9d",
   "metadata": {},
   "source": [
    "## RFE"
   ]
  },
  {
   "cell_type": "code",
   "execution_count": 76,
   "id": "cd8a099f-6832-40a5-9ba4-79b969a06080",
   "metadata": {},
   "outputs": [
    {
     "name": "stdout",
     "output_type": "stream",
     "text": [
      "Optimum number of features: 27\n",
      "Score with 27 features: 0.888447\n"
     ]
    }
   ],
   "source": [
    "#no of features\n",
    "nof_list=np.arange(1,29)            \n",
    "high_score=0\n",
    "#Variable to store the optimum features\n",
    "nof=0           \n",
    "train_score_list =[]\n",
    "val_score_list = []\n",
    "\n",
    "for n in range(len(nof_list)):\n",
    "    model = LogisticRegression()\n",
    "    \n",
    "    rfe = RFE(estimator = model,n_features_to_select = nof_list[n])\n",
    "    X_train_rfe = rfe.fit_transform(X_train,y_train)\n",
    "    X_test_rfe = rfe.transform(X_test)\n",
    "    model.fit(X_train_rfe,y_train)\n",
    "    \n",
    "    #storing results on training data\n",
    "    train_score = model.score(X_train_rfe,y_train)\n",
    "    train_score_list.append(train_score)\n",
    "    \n",
    "    #storing results on training data\n",
    "    val_score = model.score(X_test_rfe,y_test)\n",
    "    val_score_list.append(val_score)\n",
    "    \n",
    "    #check best score\n",
    "    if(val_score >= high_score):\n",
    "        high_score = val_score\n",
    "        nof = nof_list[n]\n",
    "print(\"Optimum number of features: %d\" %nof)\n",
    "print(\"Score with %d features: %f\" % (nof, high_score))"
   ]
  },
  {
   "cell_type": "code",
   "execution_count": 77,
   "id": "ca341bac-04ed-4000-9ed5-4e323e93fa19",
   "metadata": {},
   "outputs": [
    {
     "data": {
      "text/plain": [
       "race                                      True\n",
       "gender                                    True\n",
       "admission_type                            True\n",
       "discharge_disposition                     True\n",
       "admission_source                          True\n",
       "primary_diagnosis                         True\n",
       "change_in_meds_during_hospitalization     True\n",
       "prescribed_diabetes_meds                  True\n",
       "insulin                                   True\n",
       "metformin                                 True\n",
       "payer_code                                True\n",
       "medical_specialty                         True\n",
       "age                                       True\n",
       "average_pulse_bpm                        False\n",
       "length_of_stay_in_hospital                True\n",
       "number_lab_tests                          True\n",
       "non_lab_procedures                        True\n",
       "number_of_medications                     True\n",
       "number_diagnoses                          True\n",
       "number_diab_meds                         False\n",
       "number_visits_per_patient                 True\n",
       "n_medication_per_day                      True\n",
       "n_lab_tests_per_day                       True\n",
       "prop_inpatient                            True\n",
       "prop_outpatient                           True\n",
       "prop_emergency                            True\n",
       "outpatient_visits_in_previous_year        True\n",
       "emergency_visits_in_previous_year         True\n",
       "inpatient_visits_in_previous_year         True\n",
       "dtype: bool"
      ]
     },
     "execution_count": 77,
     "metadata": {},
     "output_type": "execute_result"
    }
   ],
   "source": [
    "lr = LogisticRegression()\n",
    "rfe = RFE(estimator = lr, n_features_to_select=27)\n",
    "X_rfe = rfe.fit_transform(X = X_train, y = y_train)\n",
    "\n",
    "selected_features = pd.Series(rfe.support_, index = pd.concat((X[cat_cols],X[num_cols])).columns)\n",
    "selected_features"
   ]
  },
  {
   "cell_type": "code",
   "execution_count": 79,
   "id": "b491a314-cfad-45c6-996b-4cdb9f83ee25",
   "metadata": {},
   "outputs": [
    {
     "data": {
      "image/png": "[encoded data removed]",
      "text/plain": [
       "<Figure size 640x480 with 1 Axes>"
      ]
     },
     "metadata": {},
     "output_type": "display_data"
    }
   ],
   "source": [
    "plt.plot(list(range(1,29)), train_score_list, label=\"Score on Training Set\", color='yellowgreen')\n",
    "plt.plot(list(range(1,29)), val_score_list, label=\"Score on Test Set\", color='dimgray')\n",
    "plt.xlabel(\"Maximum Depth\")\n",
    "plt.ylabel(\"Score\")\n",
    "plt.legend()\n",
    "plt.show()"
   ]
  },
  {
   "cell_type": "markdown",
   "id": "ae8e6a37-4677-4122-9f9a-9e68a56efab9",
   "metadata": {},
   "source": [
    "## Lasso"
   ]
  },
  {
   "cell_type": "code",
   "execution_count": 81,
   "id": "ceddb2d2-c276-4b1c-a6f0-5b5c0eb2eb83",
   "metadata": {},
   "outputs": [],
   "source": [
    "def plot_importance(coef,name):\n",
    "    imp_coef = coef.sort_values()\n",
    "    plt.figure(figsize=(8,10))\n",
    "    imp_coef.plot(kind = \"barh\")\n",
    "    plt.title(\"Feature importance using \" + name + \" Model\")\n",
    "    plt.show()"
   ]
  },
  {
   "cell_type": "code",
   "execution_count": 82,
   "id": "20a90eee-2764-4129-9a57-0e9c245a72e0",
   "metadata": {},
   "outputs": [
    {
     "name": "stdout",
     "output_type": "stream",
     "text": [
      "Lasso picked 20 variables and eliminated the other 9 variables\n"
     ]
    }
   ],
   "source": [
    "reg = LassoCV()\n",
    "reg.fit(X_train, y_train)\n",
    "coef = pd.Series(reg.coef_, index = pd.concat((X[cat_cols],X[num_cols])).columns)\n",
    "print(\"Lasso picked \" + str(sum(coef != 0)) + \" variables and eliminated the other \" +  str(sum(coef == 0)) + \" variables\")"
   ]
  },
  {
   "cell_type": "code",
   "execution_count": 83,
   "id": "2a78ffc0-e45f-404a-8614-136023ebda00",
   "metadata": {},
   "outputs": [
    {
     "data": {
      "image/png": "[encoded data removed]",
      "text/plain": [
       "<Figure size 800x1000 with 1 Axes>"
      ]
     },
     "metadata": {},
     "output_type": "display_data"
    }
   ],
   "source": [
    "plot_importance(coef,'Lasso')"
   ]
  },
  {
   "cell_type": "markdown",
   "id": "64960bf1-3fe0-4263-ad4b-2d27e1c828ac",
   "metadata": {},
   "source": [
    "## Boruta"
   ]
  },
  {
   "cell_type": "code",
   "execution_count": 84,
   "id": "2464f838-7433-408b-a747-27c17275d490",
   "metadata": {},
   "outputs": [
    {
     "name": "stdout",
     "output_type": "stream",
     "text": [
      "Iteration: 1 / 100\n",
      "Iteration: 2 / 100\n",
      "Iteration: 3 / 100\n",
      "Iteration: 4 / 100\n",
      "Iteration: 5 / 100\n",
      "Iteration: 6 / 100\n",
      "Iteration: 7 / 100\n",
      "Iteration: 8 / 100\n",
      "Iteration: 9 / 100\n",
      "Iteration: 10 / 100\n",
      "Iteration: 11 / 100\n",
      "Iteration: 12 / 100\n",
      "Iteration: 13 / 100\n",
      "Iteration: 14 / 100\n",
      "Iteration: 15 / 100\n",
      "Iteration: 16 / 100\n",
      "Iteration: 17 / 100\n",
      "Iteration: 18 / 100\n",
      "Iteration: 19 / 100\n",
      "Iteration: 20 / 100\n",
      "Iteration: 21 / 100\n",
      "Iteration: 22 / 100\n",
      "Iteration: 23 / 100\n",
      "Iteration: 24 / 100\n",
      "Iteration: 25 / 100\n",
      "Iteration: 26 / 100\n",
      "Iteration: 27 / 100\n",
      "Iteration: 28 / 100\n",
      "Iteration: 29 / 100\n",
      "Iteration: 30 / 100\n",
      "Iteration: 31 / 100\n",
      "Iteration: 32 / 100\n",
      "Iteration: 33 / 100\n",
      "Iteration: 34 / 100\n",
      "Iteration: 35 / 100\n",
      "Iteration: 36 / 100\n",
      "Iteration: 37 / 100\n",
      "Iteration: 38 / 100\n",
      "Iteration: 39 / 100\n",
      "Iteration: 40 / 100\n",
      "\n",
      "\n",
      "BorutaPy finished running.\n",
      "\n",
      "Iteration: \t41 / 100\n",
      "Confirmed: \t19\n",
      "Tentative: \t0\n",
      "Rejected: \t10\n"
     ]
    },
    {
     "data": {
      "text/html": [
       "<style>#sk-container-id-3 {color: black;}#sk-container-id-3 pre{padding: 0;}#sk-container-id-3 div.sk-toggleable {background-color: white;}#sk-container-id-3 label.sk-toggleable__label {cursor: pointer;display: block;width: 100%;margin-bottom: 0;padding: 0.3em;box-sizing: border-box;text-align: center;}#sk-container-id-3 label.sk-toggleable__label-arrow:before {content: \"▸\";float: left;margin-right: 0.25em;color: #696969;}#sk-container-id-3 label.sk-toggleable__label-arrow:hover:before {color: black;}#sk-container-id-3 div.sk-estimator:hover label.sk-toggleable__label-arrow:before {color: black;}#sk-container-id-3 div.sk-toggleable__content {max-height: 0;max-width: 0;overflow: hidden;text-align: left;background-color: #f0f8ff;}#sk-container-id-3 div.sk-toggleable__content pre {margin: 0.2em;color: black;border-radius: 0.25em;background-color: #f0f8ff;}#sk-container-id-3 input.sk-toggleable__control:checked~div.sk-toggleable__content {max-height: 200px;max-width: 100%;overflow: auto;}#sk-container-id-3 input.sk-toggleable__control:checked~label.sk-toggleable__label-arrow:before {content: \"▾\";}#sk-container-id-3 div.sk-estimator input.sk-toggleable__control:checked~label.sk-toggleable__label {background-color: #d4ebff;}#sk-container-id-3 div.sk-label input.sk-toggleable__control:checked~label.sk-toggleable__label {background-color: #d4ebff;}#sk-container-id-3 input.sk-hidden--visually {border: 0;clip: rect(1px 1px 1px 1px);clip: rect(1px, 1px, 1px, 1px);height: 1px;margin: -1px;overflow: hidden;padding: 0;position: absolute;width: 1px;}#sk-container-id-3 div.sk-estimator {font-family: monospace;background-color: #f0f8ff;border: 1px dotted black;border-radius: 0.25em;box-sizing: border-box;margin-bottom: 0.5em;}#sk-container-id-3 div.sk-estimator:hover {background-color: #d4ebff;}#sk-container-id-3 div.sk-parallel-item::after {content: \"\";width: 100%;border-bottom: 1px solid gray;flex-grow: 1;}#sk-container-id-3 div.sk-label:hover label.sk-toggleable__label {background-color: #d4ebff;}#sk-container-id-3 div.sk-serial::before {content: \"\";position: absolute;border-left: 1px solid gray;box-sizing: border-box;top: 0;bottom: 0;left: 50%;z-index: 0;}#sk-container-id-3 div.sk-serial {display: flex;flex-direction: column;align-items: center;background-color: white;padding-right: 0.2em;padding-left: 0.2em;position: relative;}#sk-container-id-3 div.sk-item {position: relative;z-index: 1;}#sk-container-id-3 div.sk-parallel {display: flex;align-items: stretch;justify-content: center;background-color: white;position: relative;}#sk-container-id-3 div.sk-item::before, #sk-container-id-3 div.sk-parallel-item::before {content: \"\";position: absolute;border-left: 1px solid gray;box-sizing: border-box;top: 0;bottom: 0;left: 50%;z-index: -1;}#sk-container-id-3 div.sk-parallel-item {display: flex;flex-direction: column;z-index: 1;position: relative;background-color: white;}#sk-container-id-3 div.sk-parallel-item:first-child::after {align-self: flex-end;width: 50%;}#sk-container-id-3 div.sk-parallel-item:last-child::after {align-self: flex-start;width: 50%;}#sk-container-id-3 div.sk-parallel-item:only-child::after {width: 0;}#sk-container-id-3 div.sk-dashed-wrapped {border: 1px dashed gray;margin: 0 0.4em 0.5em 0.4em;box-sizing: border-box;padding-bottom: 0.4em;background-color: white;}#sk-container-id-3 div.sk-label label {font-family: monospace;font-weight: bold;display: inline-block;line-height: 1.2em;}#sk-container-id-3 div.sk-label-container {text-align: center;}#sk-container-id-3 div.sk-container {/* jupyter's `normalize.less` sets `[hidden] { display: none; }` but bootstrap.min.css set `[hidden] { display: none !important; }` so we also need the `!important` here to be able to override the default hidden behavior on the sphinx rendered scikit-learn.org. See: https://github.com/scikit-learn/scikit-learn/issues/21755 */display: inline-block !important;position: relative;}#sk-container-id-3 div.sk-text-repr-fallback {display: none;}</style><div id=\"sk-container-id-3\" class=\"sk-top-container\"><div class=\"sk-text-repr-fallback\"><pre>BorutaPy(estimator=RandomForestClassifier(class_weight=&#x27;balanced&#x27;, max_depth=5,\n",
       "                                          n_estimators=126, n_jobs=-1,\n",
       "                                          random_state=RandomState(MT19937) at 0x2EE94E1B840),\n",
       "         n_estimators=&#x27;auto&#x27;,\n",
       "         random_state=RandomState(MT19937) at 0x2EE94E1B840, verbose=1)</pre><b>In a Jupyter environment, please rerun this cell to show the HTML representation or trust the notebook. <br />On GitHub, the HTML representation is unable to render, please try loading this page with nbviewer.org.</b></div><div class=\"sk-container\" hidden><div class=\"sk-item sk-dashed-wrapped\"><div class=\"sk-label-container\"><div class=\"sk-label sk-toggleable\"><input class=\"sk-toggleable__control sk-hidden--visually\" id=\"sk-estimator-id-15\" type=\"checkbox\" ><label for=\"sk-estimator-id-15\" class=\"sk-toggleable__label sk-toggleable__label-arrow\">BorutaPy</label><div class=\"sk-toggleable__content\"><pre>BorutaPy(estimator=RandomForestClassifier(class_weight=&#x27;balanced&#x27;, max_depth=5,\n",
       "                                          n_estimators=126, n_jobs=-1,\n",
       "                                          random_state=RandomState(MT19937) at 0x2EE94E1B840),\n",
       "         n_estimators=&#x27;auto&#x27;,\n",
       "         random_state=RandomState(MT19937) at 0x2EE94E1B840, verbose=1)</pre></div></div></div><div class=\"sk-parallel\"><div class=\"sk-parallel-item\"><div class=\"sk-item\"><div class=\"sk-label-container\"><div class=\"sk-label sk-toggleable\"><input class=\"sk-toggleable__control sk-hidden--visually\" id=\"sk-estimator-id-16\" type=\"checkbox\" ><label for=\"sk-estimator-id-16\" class=\"sk-toggleable__label sk-toggleable__label-arrow\">estimator: RandomForestClassifier</label><div class=\"sk-toggleable__content\"><pre>RandomForestClassifier(class_weight=&#x27;balanced&#x27;, max_depth=5, n_estimators=126,\n",
       "                       n_jobs=-1,\n",
       "                       random_state=RandomState(MT19937) at 0x2EE94E1B840)</pre></div></div></div><div class=\"sk-serial\"><div class=\"sk-item\"><div class=\"sk-estimator sk-toggleable\"><input class=\"sk-toggleable__control sk-hidden--visually\" id=\"sk-estimator-id-17\" type=\"checkbox\" ><label for=\"sk-estimator-id-17\" class=\"sk-toggleable__label sk-toggleable__label-arrow\">RandomForestClassifier</label><div class=\"sk-toggleable__content\"><pre>RandomForestClassifier(class_weight=&#x27;balanced&#x27;, max_depth=5, n_estimators=126,\n",
       "                       n_jobs=-1,\n",
       "                       random_state=RandomState(MT19937) at 0x2EE94E1B840)</pre></div></div></div></div></div></div></div></div></div></div>"
      ],
      "text/plain": [
       "BorutaPy(estimator=RandomForestClassifier(class_weight='balanced', max_depth=5,\n",
       "                                          n_estimators=126, n_jobs=-1,\n",
       "                                          random_state=RandomState(MT19937) at 0x2EE94E1B840),\n",
       "         n_estimators='auto',\n",
       "         random_state=RandomState(MT19937) at 0x2EE94E1B840, verbose=1)"
      ]
     },
     "execution_count": 84,
     "metadata": {},
     "output_type": "execute_result"
    }
   ],
   "source": [
    "rf = RandomForestClassifier(n_jobs=-1, class_weight='balanced', max_depth=5)\n",
    "feat_selector = BorutaPy(rf, n_estimators='auto', verbose=1, max_iter=100)\n",
    "feat_selector.fit(X_train, y_train)"
   ]
  },
  {
   "cell_type": "markdown",
   "id": "f728226a-ec66-46ec-aebb-d2a27d877ca3",
   "metadata": {
    "jp-MarkdownHeadingCollapsed": true
   },
   "source": [
    "# Models"
   ]
  },
  {
   "cell_type": "markdown",
   "id": "be055e4b-f3fc-47a6-8e5d-23c037035a68",
   "metadata": {
    "jp-MarkdownHeadingCollapsed": true
   },
   "source": [
    "### SVC"
   ]
  },
  {
   "cell_type": "code",
   "execution_count": 126,
   "id": "3f3e7eb3-cb2d-4ae7-9ca2-1db9736a0a09",
   "metadata": {},
   "outputs": [],
   "source": [
    "svc = SVC(class_weight='balanced', random_state=42)"
   ]
  },
  {
   "cell_type": "code",
   "execution_count": 127,
   "id": "831503c6-480f-463e-8f10-8dfc7a6ceb55",
   "metadata": {},
   "outputs": [
    {
     "data": {
      "text/plain": [
       "0.31409428314447835"
      ]
     },
     "execution_count": 127,
     "metadata": {},
     "output_type": "execute_result"
    }
   ],
   "source": [
    "cross_val_score(svc, X_train, y_train, scoring='f1', cv=5).mean()"
   ]
  },
  {
   "cell_type": "code",
   "execution_count": 128,
   "id": "9a59dfb8-3794-4be2-b7f7-7a47fee4c154",
   "metadata": {},
   "outputs": [
    {
     "data": {
      "text/html": [
       "<style>#sk-container-id-7 {color: black;}#sk-container-id-7 pre{padding: 0;}#sk-container-id-7 div.sk-toggleable {background-color: white;}#sk-container-id-7 label.sk-toggleable__label {cursor: pointer;display: block;width: 100%;margin-bottom: 0;padding: 0.3em;box-sizing: border-box;text-align: center;}#sk-container-id-7 label.sk-toggleable__label-arrow:before {content: \"▸\";float: left;margin-right: 0.25em;color: #696969;}#sk-container-id-7 label.sk-toggleable__label-arrow:hover:before {color: black;}#sk-container-id-7 div.sk-estimator:hover label.sk-toggleable__label-arrow:before {color: black;}#sk-container-id-7 div.sk-toggleable__content {max-height: 0;max-width: 0;overflow: hidden;text-align: left;background-color: #f0f8ff;}#sk-container-id-7 div.sk-toggleable__content pre {margin: 0.2em;color: black;border-radius: 0.25em;background-color: #f0f8ff;}#sk-container-id-7 input.sk-toggleable__control:checked~div.sk-toggleable__content {max-height: 200px;max-width: 100%;overflow: auto;}#sk-container-id-7 input.sk-toggleable__control:checked~label.sk-toggleable__label-arrow:before {content: \"▾\";}#sk-container-id-7 div.sk-estimator input.sk-toggleable__control:checked~label.sk-toggleable__label {background-color: #d4ebff;}#sk-container-id-7 div.sk-label input.sk-toggleable__control:checked~label.sk-toggleable__label {background-color: #d4ebff;}#sk-container-id-7 input.sk-hidden--visually {border: 0;clip: rect(1px 1px 1px 1px);clip: rect(1px, 1px, 1px, 1px);height: 1px;margin: -1px;overflow: hidden;padding: 0;position: absolute;width: 1px;}#sk-container-id-7 div.sk-estimator {font-family: monospace;background-color: #f0f8ff;border: 1px dotted black;border-radius: 0.25em;box-sizing: border-box;margin-bottom: 0.5em;}#sk-container-id-7 div.sk-estimator:hover {background-color: #d4ebff;}#sk-container-id-7 div.sk-parallel-item::after {content: \"\";width: 100%;border-bottom: 1px solid gray;flex-grow: 1;}#sk-container-id-7 div.sk-label:hover label.sk-toggleable__label {background-color: #d4ebff;}#sk-container-id-7 div.sk-serial::before {content: \"\";position: absolute;border-left: 1px solid gray;box-sizing: border-box;top: 0;bottom: 0;left: 50%;z-index: 0;}#sk-container-id-7 div.sk-serial {display: flex;flex-direction: column;align-items: center;background-color: white;padding-right: 0.2em;padding-left: 0.2em;position: relative;}#sk-container-id-7 div.sk-item {position: relative;z-index: 1;}#sk-container-id-7 div.sk-parallel {display: flex;align-items: stretch;justify-content: center;background-color: white;position: relative;}#sk-container-id-7 div.sk-item::before, #sk-container-id-7 div.sk-parallel-item::before {content: \"\";position: absolute;border-left: 1px solid gray;box-sizing: border-box;top: 0;bottom: 0;left: 50%;z-index: -1;}#sk-container-id-7 div.sk-parallel-item {display: flex;flex-direction: column;z-index: 1;position: relative;background-color: white;}#sk-container-id-7 div.sk-parallel-item:first-child::after {align-self: flex-end;width: 50%;}#sk-container-id-7 div.sk-parallel-item:last-child::after {align-self: flex-start;width: 50%;}#sk-container-id-7 div.sk-parallel-item:only-child::after {width: 0;}#sk-container-id-7 div.sk-dashed-wrapped {border: 1px dashed gray;margin: 0 0.4em 0.5em 0.4em;box-sizing: border-box;padding-bottom: 0.4em;background-color: white;}#sk-container-id-7 div.sk-label label {font-family: monospace;font-weight: bold;display: inline-block;line-height: 1.2em;}#sk-container-id-7 div.sk-label-container {text-align: center;}#sk-container-id-7 div.sk-container {/* jupyter's `normalize.less` sets `[hidden] { display: none; }` but bootstrap.min.css set `[hidden] { display: none !important; }` so we also need the `!important` here to be able to override the default hidden behavior on the sphinx rendered scikit-learn.org. See: https://github.com/scikit-learn/scikit-learn/issues/21755 */display: inline-block !important;position: relative;}#sk-container-id-7 div.sk-text-repr-fallback {display: none;}</style><div id=\"sk-container-id-7\" class=\"sk-top-container\"><div class=\"sk-text-repr-fallback\"><pre>SVC(class_weight=&#x27;balanced&#x27;, random_state=42)</pre><b>In a Jupyter environment, please rerun this cell to show the HTML representation or trust the notebook. <br />On GitHub, the HTML representation is unable to render, please try loading this page with nbviewer.org.</b></div><div class=\"sk-container\" hidden><div class=\"sk-item\"><div class=\"sk-estimator sk-toggleable\"><input class=\"sk-toggleable__control sk-hidden--visually\" id=\"sk-estimator-id-22\" type=\"checkbox\" checked><label for=\"sk-estimator-id-22\" class=\"sk-toggleable__label sk-toggleable__label-arrow\">SVC</label><div class=\"sk-toggleable__content\"><pre>SVC(class_weight=&#x27;balanced&#x27;, random_state=42)</pre></div></div></div></div></div>"
      ],
      "text/plain": [
       "SVC(class_weight='balanced', random_state=42)"
      ]
     },
     "execution_count": 128,
     "metadata": {},
     "output_type": "execute_result"
    }
   ],
   "source": [
    "svc.fit(X_train, y_train)"
   ]
  },
  {
   "cell_type": "code",
   "execution_count": 129,
   "id": "9a4d652e-40b3-48f9-8a87-8030604c815f",
   "metadata": {},
   "outputs": [],
   "source": [
    "y_pred = svc.predict(X_test)"
   ]
  },
  {
   "cell_type": "code",
   "execution_count": 130,
   "id": "55b1381c-a280-4399-bf35-31c4783f9f59",
   "metadata": {},
   "outputs": [
    {
     "data": {
      "text/plain": [
       "0.3205774518790101"
      ]
     },
     "execution_count": 130,
     "metadata": {},
     "output_type": "execute_result"
    }
   ],
   "source": [
    "f1_score(y_test, y_pred)"
   ]
  },
  {
   "cell_type": "markdown",
   "id": "9ece13d2-7c0c-415d-91ae-87638dfbaadc",
   "metadata": {
    "jp-MarkdownHeadingCollapsed": true
   },
   "source": [
    "### SVC using Bagging (ensemble method)"
   ]
  },
  {
   "cell_type": "code",
   "execution_count": 111,
   "id": "b587dd02-0512-4894-98b8-f81259a1bd87",
   "metadata": {},
   "outputs": [],
   "source": [
    "from sklearn.ensemble import BaggingClassifier\n",
    "svc_bag = SVC(class_weight='balanced')\n",
    "\n",
    "bagging_model = BaggingClassifier(estimator=svc_bag, n_estimators=5, random_state=42)\n",
    "bagging_model.fit(X_train, y_train)\n",
    "\n",
    "y_pred_bagging = bagging_model.predict(X_test)\n",
    "f1_bagging = f1_score(y_test, y_pred_bagging)"
   ]
  },
  {
   "cell_type": "code",
   "execution_count": 112,
   "id": "e5bbc0c5-4e24-4478-a7f7-2e44819c964c",
   "metadata": {},
   "outputs": [
    {
     "data": {
      "text/plain": [
       "0.3211337369290039"
      ]
     },
     "execution_count": 112,
     "metadata": {},
     "output_type": "execute_result"
    }
   ],
   "source": [
    "f1_bagging"
   ]
  },
  {
   "cell_type": "code",
   "execution_count": null,
   "id": "66bc74d3-dd70-4bb2-9221-a9890624d266",
   "metadata": {},
   "outputs": [],
   "source": [
    "from sklearn.neural_network import MLPClassifier\n",
    "mlp = MLPClassifier()"
   ]
  },
  {
   "cell_type": "code",
   "execution_count": 68,
   "id": "661b5db0-5dee-4624-a3ca-0ef4145faf04",
   "metadata": {},
   "outputs": [
    {
     "data": {
      "text/plain": [
       "0.0076306110867693875"
      ]
     },
     "execution_count": 68,
     "metadata": {},
     "output_type": "execute_result"
    }
   ],
   "source": [
    "cross_val_score(mlp, X_train, y_train, scoring='f1', cv=5).mean()"
   ]
  },
  {
   "cell_type": "code",
   "execution_count": 69,
   "id": "dc819c78-de29-459a-a19b-d29f67b6daab",
   "metadata": {},
   "outputs": [
    {
     "data": {
      "text/html": [
       "<style>#sk-container-id-4 {color: black;}#sk-container-id-4 pre{padding: 0;}#sk-container-id-4 div.sk-toggleable {background-color: white;}#sk-container-id-4 label.sk-toggleable__label {cursor: pointer;display: block;width: 100%;margin-bottom: 0;padding: 0.3em;box-sizing: border-box;text-align: center;}#sk-container-id-4 label.sk-toggleable__label-arrow:before {content: \"▸\";float: left;margin-right: 0.25em;color: #696969;}#sk-container-id-4 label.sk-toggleable__label-arrow:hover:before {color: black;}#sk-container-id-4 div.sk-estimator:hover label.sk-toggleable__label-arrow:before {color: black;}#sk-container-id-4 div.sk-toggleable__content {max-height: 0;max-width: 0;overflow: hidden;text-align: left;background-color: #f0f8ff;}#sk-container-id-4 div.sk-toggleable__content pre {margin: 0.2em;color: black;border-radius: 0.25em;background-color: #f0f8ff;}#sk-container-id-4 input.sk-toggleable__control:checked~div.sk-toggleable__content {max-height: 200px;max-width: 100%;overflow: auto;}#sk-container-id-4 input.sk-toggleable__control:checked~label.sk-toggleable__label-arrow:before {content: \"▾\";}#sk-container-id-4 div.sk-estimator input.sk-toggleable__control:checked~label.sk-toggleable__label {background-color: #d4ebff;}#sk-container-id-4 div.sk-label input.sk-toggleable__control:checked~label.sk-toggleable__label {background-color: #d4ebff;}#sk-container-id-4 input.sk-hidden--visually {border: 0;clip: rect(1px 1px 1px 1px);clip: rect(1px, 1px, 1px, 1px);height: 1px;margin: -1px;overflow: hidden;padding: 0;position: absolute;width: 1px;}#sk-container-id-4 div.sk-estimator {font-family: monospace;background-color: #f0f8ff;border: 1px dotted black;border-radius: 0.25em;box-sizing: border-box;margin-bottom: 0.5em;}#sk-container-id-4 div.sk-estimator:hover {background-color: #d4ebff;}#sk-container-id-4 div.sk-parallel-item::after {content: \"\";width: 100%;border-bottom: 1px solid gray;flex-grow: 1;}#sk-container-id-4 div.sk-label:hover label.sk-toggleable__label {background-color: #d4ebff;}#sk-container-id-4 div.sk-serial::before {content: \"\";position: absolute;border-left: 1px solid gray;box-sizing: border-box;top: 0;bottom: 0;left: 50%;z-index: 0;}#sk-container-id-4 div.sk-serial {display: flex;flex-direction: column;align-items: center;background-color: white;padding-right: 0.2em;padding-left: 0.2em;position: relative;}#sk-container-id-4 div.sk-item {position: relative;z-index: 1;}#sk-container-id-4 div.sk-parallel {display: flex;align-items: stretch;justify-content: center;background-color: white;position: relative;}#sk-container-id-4 div.sk-item::before, #sk-container-id-4 div.sk-parallel-item::before {content: \"\";position: absolute;border-left: 1px solid gray;box-sizing: border-box;top: 0;bottom: 0;left: 50%;z-index: -1;}#sk-container-id-4 div.sk-parallel-item {display: flex;flex-direction: column;z-index: 1;position: relative;background-color: white;}#sk-container-id-4 div.sk-parallel-item:first-child::after {align-self: flex-end;width: 50%;}#sk-container-id-4 div.sk-parallel-item:last-child::after {align-self: flex-start;width: 50%;}#sk-container-id-4 div.sk-parallel-item:only-child::after {width: 0;}#sk-container-id-4 div.sk-dashed-wrapped {border: 1px dashed gray;margin: 0 0.4em 0.5em 0.4em;box-sizing: border-box;padding-bottom: 0.4em;background-color: white;}#sk-container-id-4 div.sk-label label {font-family: monospace;font-weight: bold;display: inline-block;line-height: 1.2em;}#sk-container-id-4 div.sk-label-container {text-align: center;}#sk-container-id-4 div.sk-container {/* jupyter's `normalize.less` sets `[hidden] { display: none; }` but bootstrap.min.css set `[hidden] { display: none !important; }` so we also need the `!important` here to be able to override the default hidden behavior on the sphinx rendered scikit-learn.org. See: https://github.com/scikit-learn/scikit-learn/issues/21755 */display: inline-block !important;position: relative;}#sk-container-id-4 div.sk-text-repr-fallback {display: none;}</style><div id=\"sk-container-id-4\" class=\"sk-top-container\"><div class=\"sk-text-repr-fallback\"><pre>MLPClassifier()</pre><b>In a Jupyter environment, please rerun this cell to show the HTML representation or trust the notebook. <br />On GitHub, the HTML representation is unable to render, please try loading this page with nbviewer.org.</b></div><div class=\"sk-container\" hidden><div class=\"sk-item\"><div class=\"sk-estimator sk-toggleable\"><input class=\"sk-toggleable__control sk-hidden--visually\" id=\"sk-estimator-id-9\" type=\"checkbox\" checked><label for=\"sk-estimator-id-9\" class=\"sk-toggleable__label sk-toggleable__label-arrow\">MLPClassifier</label><div class=\"sk-toggleable__content\"><pre>MLPClassifier()</pre></div></div></div></div></div>"
      ],
      "text/plain": [
       "MLPClassifier()"
      ]
     },
     "execution_count": 69,
     "metadata": {},
     "output_type": "execute_result"
    }
   ],
   "source": [
    "mlp.fit(X_train, y_train)"
   ]
  },
  {
   "cell_type": "code",
   "execution_count": 70,
   "id": "a0ebb085-3149-4dd6-8658-99d552678dbe",
   "metadata": {},
   "outputs": [],
   "source": [
    "y_pred = mlp.predict(X_test)"
   ]
  },
  {
   "cell_type": "markdown",
   "id": "42d335ee-68a4-428f-a07b-008150803807",
   "metadata": {},
   "source": [
    "### SVC - Grid Seacrh"
   ]
  },
  {
   "cell_type": "raw",
   "id": "86968d21-2620-4b81-a5ca-2e84b769538d",
   "metadata": {},
   "source": [
    "svc = SVC()\n",
    "from sklearn.model_selection import GridSearchCV\n",
    "\n",
    "param_grid = {\n",
    "    'C': [0.1, 1, 10],\n",
    "    'kernel': ['linear', 'rbf', 'poly'],\n",
    "    'gamma': ['scale', 'auto', 0.1, 1],\n",
    "    'degree': [2, 3, 4],\n",
    "    'class_weight': [None, 'balanced']\n",
    "}\n",
    "\n",
    "grid_search = GridSearchCV(estimator=svc, param_grid=param_grid, cv=5, scoring='f1')\n",
    "\n",
    "grid_search.fit(X_train, y_train)\n",
    "\n",
    "print(\"Best Hyperparameters: \", grid_search.best_params_)\n",
    "\n",
    "best_svc_model = grid_search.best_estimator_\n",
    "\n",
    "y_pred = best_svc_model.predict(X_test)"
   ]
  },
  {
   "cell_type": "code",
   "execution_count": 133,
   "id": "f84f4726-30ec-465d-8a48-ea6013c0e895",
   "metadata": {},
   "outputs": [],
   "source": [
    "svc_grid = SVC(class_weight='balanced', random_state=42)"
   ]
  },
  {
   "cell_type": "code",
   "execution_count": 134,
   "id": "ea7bfecc-aef2-4b00-80c7-5deb85758bdc",
   "metadata": {},
   "outputs": [],
   "source": [
    "from sklearn.model_selection import GridSearchCV"
   ]
  },
  {
   "cell_type": "code",
   "execution_count": 135,
   "id": "d2efd448-86b7-4785-a095-30f276292cd9",
   "metadata": {},
   "outputs": [],
   "source": [
    "param_grid = {\n",
    "    'kernel': ['linear', 'rbf'],\n",
    "}"
   ]
  },
  {
   "cell_type": "code",
   "execution_count": 136,
   "id": "f9a38c32-cba9-4e78-807a-09b01f91bf30",
   "metadata": {},
   "outputs": [
    {
     "name": "stdout",
     "output_type": "stream",
     "text": [
      "Best Hyperparameters:  {'kernel': 'rbf'}\n"
     ]
    }
   ],
   "source": [
    "grid_search = GridSearchCV(estimator=svc, param_grid=param_grid, cv=5, scoring='f1')\n",
    "grid_search.fit(X_train, y_train)\n",
    "print(\"Best Hyperparameters: \", grid_search.best_params_)"
   ]
  },
  {
   "cell_type": "code",
   "execution_count": 137,
   "id": "afc8702c-f930-4760-9e08-d11fd1f6dfb0",
   "metadata": {},
   "outputs": [],
   "source": [
    "best_svc_model = grid_search.best_estimator_"
   ]
  },
  {
   "cell_type": "code",
   "execution_count": 138,
   "id": "192d0c48-1d04-4d5a-9e7d-1df07d558f3a",
   "metadata": {},
   "outputs": [],
   "source": [
    "y_pred = best_svc_model.predict(X_test)"
   ]
  },
  {
   "cell_type": "code",
   "execution_count": 139,
   "id": "73171758-0f47-476b-b920-82ab96bbf659",
   "metadata": {},
   "outputs": [
    {
     "data": {
      "text/plain": [
       "0.3205774518790101"
      ]
     },
     "execution_count": 139,
     "metadata": {},
     "output_type": "execute_result"
    }
   ],
   "source": [
    "f1_score(y_test, y_pred)"
   ]
  },
  {
   "cell_type": "markdown",
   "id": "b0d003f0-d380-4949-980e-108bbe2b88ed",
   "metadata": {
    "jp-MarkdownHeadingCollapsed": true
   },
   "source": [
    "# Submission"
   ]
  },
  {
   "cell_type": "code",
   "execution_count": 113,
   "id": "9bf64586-1851-45e2-ac5c-1e377cffb7c2",
   "metadata": {},
   "outputs": [],
   "source": [
    "sub_df = pd.read_csv('./project_data/test.csv')"
   ]
  },
  {
   "cell_type": "code",
   "execution_count": 114,
   "id": "aefb759e-d55f-4e26-8400-ec92c275465f",
   "metadata": {},
   "outputs": [],
   "source": [
    "sub_encounter_id = sub_df.encounter_id\n",
    "sub_clean = cleaner.transform(sub_df)\n",
    "sub_preproc = preproc.transform(sub_clean)"
   ]
  },
  {
   "cell_type": "code",
   "execution_count": 115,
   "id": "b04aad84-5f14-45cc-b98d-52d65fa50510",
   "metadata": {},
   "outputs": [
    {
     "name": "stdout",
     "output_type": "stream",
     "text": [
      "./submissions/submission_v41.csv was created! Good luck on the score!\n"
     ]
    }
   ],
   "source": [
    "get_submission_data(best_svc_model, sub_preproc, sub_encounter_id, './submissions/')"
   ]
  },
  {
   "cell_type": "code",
   "execution_count": null,
   "id": "d146741a-9593-4dee-ad96-b747244b7f25",
   "metadata": {},
   "outputs": [],
   "source": []
  }
 ],
 "metadata": {
  "kernelspec": {
   "display_name": "Python 3 (ipykernel)",
   "language": "python",
   "name": "python3"
  },
  "language_info": {
   "codemirror_mode": {
    "name": "ipython",
    "version": 3
   },
   "file_extension": ".py",
   "mimetype": "text/x-python",
   "name": "python",
   "nbconvert_exporter": "python",
   "pygments_lexer": "ipython3",
   "version": "3.11.5"
  }
 },
 "nbformat": 4,
 "nbformat_minor": 5
}
