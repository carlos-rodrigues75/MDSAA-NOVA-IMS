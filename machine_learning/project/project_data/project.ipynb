{
 "cells": [
  {
   "cell_type": "code",
   "execution_count": 690,
   "id": "initial_id",
   "metadata": {
    "ExecuteTime": {
     "end_time": "2023-11-23T01:11:12.944547Z",
     "start_time": "2023-11-23T01:11:12.772186Z"
    }
   },
   "outputs": [],
   "source": [
    "import pandas as pd\n",
    "import numpy as np\n",
    "import matplotlib.pyplot as plt\n",
    "from sklearn.metrics import confusion_matrix, f1_score\n",
    "from sklearn.model_selection import cross_val_score\n",
    "from sklearn.model_selection import KFold\n",
    "from ydata_profiling import ProfileReport\n",
    "from sklearn.preprocessing import MinMaxScaler, OneHotEncoder\n",
    "from sklearn.linear_model import LogisticRegression\n",
    "from sklearn.svm import SVC\n",
    "from sklearn.ensemble import RandomForestClassifier\n",
    "from sklearn.tree import DecisionTreeClassifier\n",
    "from sklearn.neighbors import KNeighborsClassifier"
   ]
  },
  {
   "cell_type": "code",
   "execution_count": 691,
   "outputs": [],
   "source": [
    "from scipy.stats import chi2_contingency\n",
    "\n",
    "\n",
    "def TestIndependence(X,y,var,alpha=0.05):\n",
    "    dfObserved = pd.crosstab(y,X)\n",
    "    chi2, p, dof, expected = chi2_contingency(dfObserved.values)\n",
    "    dfExpected = pd.DataFrame(expected, columns=dfObserved.columns, index = dfObserved.index)\n",
    "    if p<alpha:\n",
    "        print(\"{0} is IMPORTANT for Prediction\".format(var))\n",
    "        return False\n",
    "    else:\n",
    "        print(\"{0} is NOT an important predictor. (Discard {0} from model)\".format(var))\n",
    "        return True"
   ],
   "metadata": {
    "collapsed": false,
    "ExecuteTime": {
     "end_time": "2023-11-23T01:11:12.971498Z",
     "start_time": "2023-11-23T01:11:12.779376Z"
    }
   },
   "id": "83191e586fae76e9"
  },
  {
   "cell_type": "code",
   "execution_count": 692,
   "outputs": [],
   "source": [
    "def plot_importance(coef,name):\n",
    "    imp_coef = coef.sort_values()\n",
    "    plt.figure(figsize=(8,10))\n",
    "    imp_coef.plot(kind = \"barh\")\n",
    "    plt.title(\"Feature importance using \" + name + \" Model\")\n",
    "    plt.show()\n",
    "    \n"
   ],
   "metadata": {
    "collapsed": false,
    "ExecuteTime": {
     "end_time": "2023-11-23T01:11:12.971681Z",
     "start_time": "2023-11-23T01:11:12.785114Z"
    }
   },
   "id": "23c32e384119ba2b"
  },
  {
   "cell_type": "code",
   "execution_count": 693,
   "id": "df34f8d27efaa793",
   "metadata": {
    "ExecuteTime": {
     "end_time": "2023-11-23T01:11:12.982521Z",
     "start_time": "2023-11-23T01:11:12.800746Z"
    }
   },
   "outputs": [
    {
     "data": {
      "text/plain": "             country  patient_id             race  gender      age weight  \\\nencounter_id                                                                \n533253           USA       70110        Caucasian  Female  [70-80)      ?   \n426224           USA    29775006  AfricanAmerican    Male  [50-60)      ?   \n634063           USA    80729253        Caucasian  Female  [60-70)      ?   \n890610           USA     2919042  AfricanAmerican    Male  [60-70)      ?   \n654194           USA    84871971        Caucasian  Female  [70-80)      ?   \n\n             payer_code  outpatient_visits_in_previous_year  \\\nencounter_id                                                  \n533253                ?                                   0   \n426224                ?                                   0   \n634063                ?                                   0   \n890610               MC                                   0   \n654194               HM                                   1   \n\n              emergency_visits_in_previous_year  \\\nencounter_id                                      \n533253                                        0   \n426224                                        0   \n634063                                        0   \n890610                                        0   \n654194                                        0   \n\n              inpatient_visits_in_previous_year admission_type  \\\nencounter_id                                                     \n533253                                        2      Emergency   \n426224                                        0      Emergency   \n634063                                        1            NaN   \n890610                                        1      Emergency   \n654194                                        0       Elective   \n\n                   medical_specialty  average_pulse_bpm  \\\nencounter_id                                              \n533253        Family/GeneralPractice                127   \n426224                             ?                128   \n634063        Family/GeneralPractice                 94   \n890610              InternalMedicine                 81   \n654194                             ?                126   \n\n                                          discharge_disposition  \\\nencounter_id                                                      \n533253                                       Discharged to home   \n426224        Discharged/transferred to a federal health car...   \n634063                                       Discharged to home   \n890610                                       Discharged to home   \n654194        Discharged/transferred to home with home healt...   \n\n                                         admission_source  \\\nencounter_id                                                \n533253                                     Emergency Room   \n426224                                    Clinic Referral   \n634063                                                NaN   \n890610         Transfer from another health care facility   \n654194                                 Physician Referral   \n\n              length_of_stay_in_hospital  number_lab_tests  \\\nencounter_id                                                 \n533253                                 2                48   \n426224                                14                71   \n634063                                 6                60   \n890610                                 6                48   \n654194                                 6                47   \n\n              non_lab_procedures  number_of_medications primary_diagnosis  \\\nencounter_id                                                                \n533253                         0                     20               515   \n426224                         0                     25                38   \n634063                         1                     22               534   \n890610                         2                      9               569   \n654194                         1                     15               715   \n\n             secondary_diagnosis additional_diagnosis  number_diagnoses  \\\nencounter_id                                                              \n533253                       276                  466                 8   \n426224                       785                  162                 9   \n634063                       135                  250                 6   \n890610                       562                  455                 5   \n654194                       599                  428                 9   \n\n             glucose_test_result a1c_test_result  \\\nencounter_id                                       \n533253                       NaN             NaN   \n426224                       NaN             NaN   \n634063                       NaN             NaN   \n890610                       NaN             NaN   \n654194                       NaN             NaN   \n\n             change_in_meds_during_hospitalization prescribed_diabetes_meds  \\\nencounter_id                                                                  \n533253                                          No                       No   \n426224                                          No                      Yes   \n634063                                          Ch                      Yes   \n890610                                          No                       No   \n654194                                          No                       No   \n\n                              medication readmitted_binary  \\\nencounter_id                                                 \n533253                                []                No   \n426224                       ['insulin']                No   \n634063        ['glimepiride', 'insulin']                No   \n890610                                []                No   \n654194                                []                No   \n\n             readmitted_multiclass  \nencounter_id                        \n533253                    >30 days  \n426224                          No  \n634063                          No  \n890610                          No  \n654194                    >30 days  ",
      "text/html": "<div>\n<style scoped>\n    .dataframe tbody tr th:only-of-type {\n        vertical-align: middle;\n    }\n\n    .dataframe tbody tr th {\n        vertical-align: top;\n    }\n\n    .dataframe thead th {\n        text-align: right;\n    }\n</style>\n<table border=\"1\" class=\"dataframe\">\n  <thead>\n    <tr style=\"text-align: right;\">\n      <th></th>\n      <th>country</th>\n      <th>patient_id</th>\n      <th>race</th>\n      <th>gender</th>\n      <th>age</th>\n      <th>weight</th>\n      <th>payer_code</th>\n      <th>outpatient_visits_in_previous_year</th>\n      <th>emergency_visits_in_previous_year</th>\n      <th>inpatient_visits_in_previous_year</th>\n      <th>admission_type</th>\n      <th>medical_specialty</th>\n      <th>average_pulse_bpm</th>\n      <th>discharge_disposition</th>\n      <th>admission_source</th>\n      <th>length_of_stay_in_hospital</th>\n      <th>number_lab_tests</th>\n      <th>non_lab_procedures</th>\n      <th>number_of_medications</th>\n      <th>primary_diagnosis</th>\n      <th>secondary_diagnosis</th>\n      <th>additional_diagnosis</th>\n      <th>number_diagnoses</th>\n      <th>glucose_test_result</th>\n      <th>a1c_test_result</th>\n      <th>change_in_meds_during_hospitalization</th>\n      <th>prescribed_diabetes_meds</th>\n      <th>medication</th>\n      <th>readmitted_binary</th>\n      <th>readmitted_multiclass</th>\n    </tr>\n    <tr>\n      <th>encounter_id</th>\n      <th></th>\n      <th></th>\n      <th></th>\n      <th></th>\n      <th></th>\n      <th></th>\n      <th></th>\n      <th></th>\n      <th></th>\n      <th></th>\n      <th></th>\n      <th></th>\n      <th></th>\n      <th></th>\n      <th></th>\n      <th></th>\n      <th></th>\n      <th></th>\n      <th></th>\n      <th></th>\n      <th></th>\n      <th></th>\n      <th></th>\n      <th></th>\n      <th></th>\n      <th></th>\n      <th></th>\n      <th></th>\n      <th></th>\n      <th></th>\n    </tr>\n  </thead>\n  <tbody>\n    <tr>\n      <th>533253</th>\n      <td>USA</td>\n      <td>70110</td>\n      <td>Caucasian</td>\n      <td>Female</td>\n      <td>[70-80)</td>\n      <td>?</td>\n      <td>?</td>\n      <td>0</td>\n      <td>0</td>\n      <td>2</td>\n      <td>Emergency</td>\n      <td>Family/GeneralPractice</td>\n      <td>127</td>\n      <td>Discharged to home</td>\n      <td>Emergency Room</td>\n      <td>2</td>\n      <td>48</td>\n      <td>0</td>\n      <td>20</td>\n      <td>515</td>\n      <td>276</td>\n      <td>466</td>\n      <td>8</td>\n      <td>NaN</td>\n      <td>NaN</td>\n      <td>No</td>\n      <td>No</td>\n      <td>[]</td>\n      <td>No</td>\n      <td>&gt;30 days</td>\n    </tr>\n    <tr>\n      <th>426224</th>\n      <td>USA</td>\n      <td>29775006</td>\n      <td>AfricanAmerican</td>\n      <td>Male</td>\n      <td>[50-60)</td>\n      <td>?</td>\n      <td>?</td>\n      <td>0</td>\n      <td>0</td>\n      <td>0</td>\n      <td>Emergency</td>\n      <td>?</td>\n      <td>128</td>\n      <td>Discharged/transferred to a federal health car...</td>\n      <td>Clinic Referral</td>\n      <td>14</td>\n      <td>71</td>\n      <td>0</td>\n      <td>25</td>\n      <td>38</td>\n      <td>785</td>\n      <td>162</td>\n      <td>9</td>\n      <td>NaN</td>\n      <td>NaN</td>\n      <td>No</td>\n      <td>Yes</td>\n      <td>['insulin']</td>\n      <td>No</td>\n      <td>No</td>\n    </tr>\n    <tr>\n      <th>634063</th>\n      <td>USA</td>\n      <td>80729253</td>\n      <td>Caucasian</td>\n      <td>Female</td>\n      <td>[60-70)</td>\n      <td>?</td>\n      <td>?</td>\n      <td>0</td>\n      <td>0</td>\n      <td>1</td>\n      <td>NaN</td>\n      <td>Family/GeneralPractice</td>\n      <td>94</td>\n      <td>Discharged to home</td>\n      <td>NaN</td>\n      <td>6</td>\n      <td>60</td>\n      <td>1</td>\n      <td>22</td>\n      <td>534</td>\n      <td>135</td>\n      <td>250</td>\n      <td>6</td>\n      <td>NaN</td>\n      <td>NaN</td>\n      <td>Ch</td>\n      <td>Yes</td>\n      <td>['glimepiride', 'insulin']</td>\n      <td>No</td>\n      <td>No</td>\n    </tr>\n    <tr>\n      <th>890610</th>\n      <td>USA</td>\n      <td>2919042</td>\n      <td>AfricanAmerican</td>\n      <td>Male</td>\n      <td>[60-70)</td>\n      <td>?</td>\n      <td>MC</td>\n      <td>0</td>\n      <td>0</td>\n      <td>1</td>\n      <td>Emergency</td>\n      <td>InternalMedicine</td>\n      <td>81</td>\n      <td>Discharged to home</td>\n      <td>Transfer from another health care facility</td>\n      <td>6</td>\n      <td>48</td>\n      <td>2</td>\n      <td>9</td>\n      <td>569</td>\n      <td>562</td>\n      <td>455</td>\n      <td>5</td>\n      <td>NaN</td>\n      <td>NaN</td>\n      <td>No</td>\n      <td>No</td>\n      <td>[]</td>\n      <td>No</td>\n      <td>No</td>\n    </tr>\n    <tr>\n      <th>654194</th>\n      <td>USA</td>\n      <td>84871971</td>\n      <td>Caucasian</td>\n      <td>Female</td>\n      <td>[70-80)</td>\n      <td>?</td>\n      <td>HM</td>\n      <td>1</td>\n      <td>0</td>\n      <td>0</td>\n      <td>Elective</td>\n      <td>?</td>\n      <td>126</td>\n      <td>Discharged/transferred to home with home healt...</td>\n      <td>Physician Referral</td>\n      <td>6</td>\n      <td>47</td>\n      <td>1</td>\n      <td>15</td>\n      <td>715</td>\n      <td>599</td>\n      <td>428</td>\n      <td>9</td>\n      <td>NaN</td>\n      <td>NaN</td>\n      <td>No</td>\n      <td>No</td>\n      <td>[]</td>\n      <td>No</td>\n      <td>&gt;30 days</td>\n    </tr>\n  </tbody>\n</table>\n</div>"
     },
     "execution_count": 693,
     "metadata": {},
     "output_type": "execute_result"
    }
   ],
   "source": [
    "pd.set_option('display.max_columns', None)\n",
    "\n",
    "train_df = pd.read_csv(\"train.csv\")\n",
    "train_df.set_index(\"encounter_id\", inplace=True)\n",
    "train_df.head()"
   ]
  },
  {
   "cell_type": "code",
   "execution_count": 694,
   "outputs": [
    {
     "data": {
      "text/plain": "             country  patient_id             race gender      age weight  \\\nencounter_id                                                               \n499502           USA   103232799        Caucasian   Male  [80-90)      ?   \n447319           USA    93395304        Caucasian   Male  [20-30)      ?   \n309126           USA     6281586  AfricanAmerican   Male  [30-40)      ?   \n181183           USA    67381308        Caucasian   Male  [50-60)      ?   \n359339           USA    71670204        Caucasian   Male  [60-70)      ?   \n\n             payer_code  outpatient_visits_in_previous_year  \\\nencounter_id                                                  \n499502               HM                                   0   \n447319               HM                                   0   \n309126                ?                                   0   \n181183               BC                                   0   \n359339                ?                                   0   \n\n              emergency_visits_in_previous_year  \\\nencounter_id                                      \n499502                                        0   \n447319                                        0   \n309126                                        0   \n181183                                        0   \n359339                                        0   \n\n              inpatient_visits_in_previous_year admission_type  \\\nencounter_id                                                     \n499502                                        0      Emergency   \n447319                                        1      Emergency   \n309126                                        0      Emergency   \n181183                                        0  Not Available   \n359339                                        0      Emergency   \n\n             medical_specialty  average_pulse_bpm discharge_disposition  \\\nencounter_id                                                              \n499502                       ?                139    Discharged to home   \n447319                       ?                103    Discharged to home   \n309126             Pulmonology                 99    Discharged to home   \n181183                       ?                136    Discharged to home   \n359339        InternalMedicine                137    Discharged to home   \n\n             admission_source  length_of_stay_in_hospital  number_lab_tests  \\\nencounter_id                                                                  \n499502         Emergency Room                           3                48   \n447319         Emergency Room                          10                77   \n309126         Emergency Room                           2                44   \n181183         Emergency Room                           4                48   \n359339         Emergency Room                           1                43   \n\n              non_lab_procedures  number_of_medications primary_diagnosis  \\\nencounter_id                                                                \n499502                         0                     14               491   \n447319                         1                      7            250.13   \n309126                         3                     12               786   \n181183                         1                     16               820   \n359339                         0                     10               599   \n\n             secondary_diagnosis additional_diagnosis  number_diagnoses  \\\nencounter_id                                                              \n499502                       414                  250                 6   \n447319                        70                  794                 7   \n309126                     250.6                  536                 6   \n181183                       873                 E884                 9   \n359339                       427                  414                 9   \n\n             glucose_test_result a1c_test_result  \\\nencounter_id                                       \n499502                       NaN             NaN   \n447319                      >300             NaN   \n309126                       NaN             NaN   \n181183                       NaN             NaN   \n359339                       NaN             NaN   \n\n             change_in_meds_during_hospitalization prescribed_diabetes_meds  \\\nencounter_id                                                                  \n499502                                          No                      Yes   \n447319                                          No                       No   \n309126                                          No                      Yes   \n181183                                          Ch                      Yes   \n359339                                          No                      Yes   \n\n                                         medication  \nencounter_id                                         \n499502                                ['metformin']  \n447319                                           []  \n309126                                  ['insulin']  \n181183        ['metformin', 'glyburide', 'insulin']  \n359339                                ['metformin']  ",
      "text/html": "<div>\n<style scoped>\n    .dataframe tbody tr th:only-of-type {\n        vertical-align: middle;\n    }\n\n    .dataframe tbody tr th {\n        vertical-align: top;\n    }\n\n    .dataframe thead th {\n        text-align: right;\n    }\n</style>\n<table border=\"1\" class=\"dataframe\">\n  <thead>\n    <tr style=\"text-align: right;\">\n      <th></th>\n      <th>country</th>\n      <th>patient_id</th>\n      <th>race</th>\n      <th>gender</th>\n      <th>age</th>\n      <th>weight</th>\n      <th>payer_code</th>\n      <th>outpatient_visits_in_previous_year</th>\n      <th>emergency_visits_in_previous_year</th>\n      <th>inpatient_visits_in_previous_year</th>\n      <th>admission_type</th>\n      <th>medical_specialty</th>\n      <th>average_pulse_bpm</th>\n      <th>discharge_disposition</th>\n      <th>admission_source</th>\n      <th>length_of_stay_in_hospital</th>\n      <th>number_lab_tests</th>\n      <th>non_lab_procedures</th>\n      <th>number_of_medications</th>\n      <th>primary_diagnosis</th>\n      <th>secondary_diagnosis</th>\n      <th>additional_diagnosis</th>\n      <th>number_diagnoses</th>\n      <th>glucose_test_result</th>\n      <th>a1c_test_result</th>\n      <th>change_in_meds_during_hospitalization</th>\n      <th>prescribed_diabetes_meds</th>\n      <th>medication</th>\n    </tr>\n    <tr>\n      <th>encounter_id</th>\n      <th></th>\n      <th></th>\n      <th></th>\n      <th></th>\n      <th></th>\n      <th></th>\n      <th></th>\n      <th></th>\n      <th></th>\n      <th></th>\n      <th></th>\n      <th></th>\n      <th></th>\n      <th></th>\n      <th></th>\n      <th></th>\n      <th></th>\n      <th></th>\n      <th></th>\n      <th></th>\n      <th></th>\n      <th></th>\n      <th></th>\n      <th></th>\n      <th></th>\n      <th></th>\n      <th></th>\n      <th></th>\n    </tr>\n  </thead>\n  <tbody>\n    <tr>\n      <th>499502</th>\n      <td>USA</td>\n      <td>103232799</td>\n      <td>Caucasian</td>\n      <td>Male</td>\n      <td>[80-90)</td>\n      <td>?</td>\n      <td>HM</td>\n      <td>0</td>\n      <td>0</td>\n      <td>0</td>\n      <td>Emergency</td>\n      <td>?</td>\n      <td>139</td>\n      <td>Discharged to home</td>\n      <td>Emergency Room</td>\n      <td>3</td>\n      <td>48</td>\n      <td>0</td>\n      <td>14</td>\n      <td>491</td>\n      <td>414</td>\n      <td>250</td>\n      <td>6</td>\n      <td>NaN</td>\n      <td>NaN</td>\n      <td>No</td>\n      <td>Yes</td>\n      <td>['metformin']</td>\n    </tr>\n    <tr>\n      <th>447319</th>\n      <td>USA</td>\n      <td>93395304</td>\n      <td>Caucasian</td>\n      <td>Male</td>\n      <td>[20-30)</td>\n      <td>?</td>\n      <td>HM</td>\n      <td>0</td>\n      <td>0</td>\n      <td>1</td>\n      <td>Emergency</td>\n      <td>?</td>\n      <td>103</td>\n      <td>Discharged to home</td>\n      <td>Emergency Room</td>\n      <td>10</td>\n      <td>77</td>\n      <td>1</td>\n      <td>7</td>\n      <td>250.13</td>\n      <td>70</td>\n      <td>794</td>\n      <td>7</td>\n      <td>&gt;300</td>\n      <td>NaN</td>\n      <td>No</td>\n      <td>No</td>\n      <td>[]</td>\n    </tr>\n    <tr>\n      <th>309126</th>\n      <td>USA</td>\n      <td>6281586</td>\n      <td>AfricanAmerican</td>\n      <td>Male</td>\n      <td>[30-40)</td>\n      <td>?</td>\n      <td>?</td>\n      <td>0</td>\n      <td>0</td>\n      <td>0</td>\n      <td>Emergency</td>\n      <td>Pulmonology</td>\n      <td>99</td>\n      <td>Discharged to home</td>\n      <td>Emergency Room</td>\n      <td>2</td>\n      <td>44</td>\n      <td>3</td>\n      <td>12</td>\n      <td>786</td>\n      <td>250.6</td>\n      <td>536</td>\n      <td>6</td>\n      <td>NaN</td>\n      <td>NaN</td>\n      <td>No</td>\n      <td>Yes</td>\n      <td>['insulin']</td>\n    </tr>\n    <tr>\n      <th>181183</th>\n      <td>USA</td>\n      <td>67381308</td>\n      <td>Caucasian</td>\n      <td>Male</td>\n      <td>[50-60)</td>\n      <td>?</td>\n      <td>BC</td>\n      <td>0</td>\n      <td>0</td>\n      <td>0</td>\n      <td>Not Available</td>\n      <td>?</td>\n      <td>136</td>\n      <td>Discharged to home</td>\n      <td>Emergency Room</td>\n      <td>4</td>\n      <td>48</td>\n      <td>1</td>\n      <td>16</td>\n      <td>820</td>\n      <td>873</td>\n      <td>E884</td>\n      <td>9</td>\n      <td>NaN</td>\n      <td>NaN</td>\n      <td>Ch</td>\n      <td>Yes</td>\n      <td>['metformin', 'glyburide', 'insulin']</td>\n    </tr>\n    <tr>\n      <th>359339</th>\n      <td>USA</td>\n      <td>71670204</td>\n      <td>Caucasian</td>\n      <td>Male</td>\n      <td>[60-70)</td>\n      <td>?</td>\n      <td>?</td>\n      <td>0</td>\n      <td>0</td>\n      <td>0</td>\n      <td>Emergency</td>\n      <td>InternalMedicine</td>\n      <td>137</td>\n      <td>Discharged to home</td>\n      <td>Emergency Room</td>\n      <td>1</td>\n      <td>43</td>\n      <td>0</td>\n      <td>10</td>\n      <td>599</td>\n      <td>427</td>\n      <td>414</td>\n      <td>9</td>\n      <td>NaN</td>\n      <td>NaN</td>\n      <td>No</td>\n      <td>Yes</td>\n      <td>['metformin']</td>\n    </tr>\n  </tbody>\n</table>\n</div>"
     },
     "execution_count": 694,
     "metadata": {},
     "output_type": "execute_result"
    }
   ],
   "source": [
    "test_df = pd.read_csv(\"test.csv\")\n",
    "test_df.set_index(\"encounter_id\", inplace=True)\n",
    "test_df.head()"
   ],
   "metadata": {
    "collapsed": false,
    "ExecuteTime": {
     "end_time": "2023-11-23T01:11:13.123738Z",
     "start_time": "2023-11-23T01:11:12.980744Z"
    }
   },
   "id": "f6b39a4d3938ee0e"
  },
  {
   "cell_type": "code",
   "execution_count": 696,
   "id": "c6654928-cb1f-4c85-a0fe-aee95947c5f2",
   "metadata": {
    "ExecuteTime": {
     "end_time": "2023-11-23T01:11:13.223855Z",
     "start_time": "2023-11-23T01:11:13.152085Z"
    }
   },
   "outputs": [],
   "source": [
    "columns = [\n",
    "    \"outpatient_visits_in_previous_year\",\n",
    "    \"emergency_visits_in_previous_year\",\n",
    "    \"inpatient_visits_in_previous_year\",\n",
    "]\n",
    "\n",
    "# train_df = train_df.where(train_df['inpatient_visits_in_previous_year'] < 4)\n",
    "# train_df = train_df.where(train_df['outpatient_visits_in_previous_year'] < 3)\n",
    "# train_df = train_df.where(train_df['emergency_visits_in_previous_year'] < 2)\n",
    "\n",
    "train_df[\"has_outpatient_visits_in_previous_year\"] = train_df[\"outpatient_visits_in_previous_year\"].apply(lambda x: 1 if x > 0 else 0)\n",
    "train_df[\"has_inpatient_visits_in_previous_year\"] = train_df[\"inpatient_visits_in_previous_year\"].apply(lambda x: 1 if x > 0 else 0)\n",
    "train_df[\"has_emergency_visits_in_previous_year\"] = train_df[\"emergency_visits_in_previous_year\"].apply(lambda x: 1 if x > 0 else 0)\n",
    "\n",
    "train_df.drop(columns=columns, inplace=True)\n",
    "\n",
    "train_df[\"admission_type\"].fillna(\"Not Available\", inplace=True)\n",
    "train_df[\"admission_type\"] = train_df[\"admission_type\"].replace({\"Not Mapped\": \"Not Available\"})\n",
    "\n",
    "\n",
    "test_df[\"has_outpatient_visits_in_previous_year\"] = test_df[\"outpatient_visits_in_previous_year\"].apply(lambda x: 1 if x > 0 else 0)\n",
    "test_df[\"has_inpatient_visits_in_previous_year\"] = test_df[\"inpatient_visits_in_previous_year\"].apply(lambda x: 1 if x > 0 else 0)\n",
    "test_df[\"has_emergency_visits_in_previous_year\"] = test_df[\"emergency_visits_in_previous_year\"].apply(lambda x: 1 if x > 0 else 0)\n",
    "\n",
    "test_df.drop(columns=columns, inplace=True)\n",
    "\n",
    "test_df[\"admission_type\"].fillna(\"Not Available\", inplace=True)\n",
    "test_df[\"admission_type\"] = test_df[\"admission_type\"].replace({\"Not Mapped\": \"Not Available\"})"
   ]
  },
  {
   "cell_type": "code",
   "execution_count": 697,
   "id": "820262420bff74ec",
   "metadata": {
    "ExecuteTime": {
     "end_time": "2023-11-23T01:11:13.291298Z",
     "start_time": "2023-11-23T01:11:13.198094Z"
    }
   },
   "outputs": [],
   "source": [
    "# Replaces all occurrences of '?' to NaN to normalize missing values to NaN\n",
    "test_df = test_df.replace('?', np.nan)\n",
    "train_df = train_df.replace('?', np.nan)"
   ]
  },
  {
   "cell_type": "code",
   "execution_count": 698,
   "id": "610f109a22e9c12c",
   "metadata": {
    "ExecuteTime": {
     "end_time": "2023-11-23T01:11:13.293788Z",
     "start_time": "2023-11-23T01:11:13.245775Z"
    }
   },
   "outputs": [],
   "source": [
    "# Drop the country as it only has 'USA' value\n",
    "test_df = test_df.drop('country', axis=1)\n",
    "train_df = train_df.drop('country', axis=1)\n",
    "\n",
    "# Drop encounter_id and patient_id as these are just IDs and have no predict power\n",
    "\n",
    "# Drop the weight column because of high number of missing values \n",
    "test_df = test_df.drop('weight', axis=1)\n",
    "train_df = train_df.drop('weight', axis=1)"
   ]
  },
  {
   "cell_type": "code",
   "execution_count": 699,
   "id": "ba630cea",
   "metadata": {
    "ExecuteTime": {
     "end_time": "2023-11-23T01:11:13.573744Z",
     "start_time": "2023-11-23T01:11:13.263144Z"
    }
   },
   "outputs": [],
   "source": [
    "age_mapping = {\n",
    "    '[0-10)': 1,\n",
    "    '[10-20)': 2,\n",
    "    '[20-30)': 3,\n",
    "    '[30-40)': 4,\n",
    "    '[40-50)': 5,\n",
    "    '[50-60)': 6,\n",
    "    '[60-70)': 7,\n",
    "    '[70-80)': 8,\n",
    "    '[80-90)': 9,\n",
    "    '[90-100)': 10,\n",
    "    np.nan: np.nan }\n",
    "train_df = train_df.replace(age_mapping)\n",
    "\n",
    "train_df = train_df.replace({\"Yes\":1 ,\"No\":0 , \"Ch\":1})\n",
    "train_df['payer_code'] = train_df['payer_code'].replace(np.nan, \"None\")\n",
    "\n",
    "test_df = test_df.replace(age_mapping)\n",
    "\n",
    "test_df = test_df.replace({\"Yes\":1 ,\"No\":0 , \"Ch\":1})\n",
    "test_df['payer_code'] = test_df['payer_code'].replace(np.nan, \"None\")"
   ]
  },
  {
   "cell_type": "markdown",
   "id": "a92e6b16-ee48-49bb-9341-0b8f834878dc",
   "metadata": {},
   "source": [
    "## The cell below just contains some dirty code to make data compliant with ScikitLearn. Most of the decisions might or should be changed in the future"
   ]
  },
  {
   "cell_type": "code",
   "execution_count": 700,
   "id": "72906532-8440-4947-9d9c-e8eaced6a720",
   "metadata": {
    "ExecuteTime": {
     "end_time": "2023-11-23T01:11:13.627712Z",
     "start_time": "2023-11-23T01:11:13.582257Z"
    }
   },
   "outputs": [],
   "source": [
    "def clean_df(df):\n",
    "    df['race'] = df['race'].replace(np.nan, \"Unknown\")\n",
    "    df['admission_type'] = df['admission_type'].fillna(df['admission_type'].mode()[0])\n",
    "    df['discharge_disposition'] = df['discharge_disposition'].fillna(df['discharge_disposition'].mode()[0])\n",
    "    \n",
    "    admission_source_mode = df['admission_source'].mode()[0]\n",
    "    df['admission_source'] = df['admission_source'].fillna(admission_source_mode)\n",
    "    \n",
    "    df = df.drop('glucose_test_result', axis=1)\n",
    "    df = df.drop('a1c_test_result', axis=1)\n",
    "    \n",
    "    df['medical_specialty_missing'] = df['medical_specialty'].isna().astype(int)\n",
    "    df['medical_specialty'] = df['medical_specialty'].replace(np.nan, \"Unknown\")\n",
    "    \n",
    "    #To age would be better to use knn?\n",
    "    df['age'] = df['age'].fillna(df['age'].mean())\n",
    "    \n",
    "    # I'll drop these for simplicity, but It should be reverted.\n",
    "    df = df.drop(\"medication\", axis=1)\n",
    "    # df = df.drop(\"medical_specialty\", axis=1)\n",
    "\n",
    "    # average pulse is uniformed distributed, so we'll get rid of this\n",
    "    # df = df.drop(\"average_pulse_bpm\", axis=1)\n",
    "    df = df.drop(\"primary_diagnosis\", axis=1)\n",
    "    df = df.drop(\"secondary_diagnosis\", axis=1)\n",
    "    df = df.drop(\"additional_diagnosis\", axis=1)\n",
    "    \n",
    "    return df\n",
    "\n",
    "train_df = clean_df(train_df)\n",
    "test_df = clean_df(test_df)"
   ]
  },
  {
   "cell_type": "code",
   "execution_count": 701,
   "id": "3eee4969-485e-49fc-8c11-0049b0811b08",
   "metadata": {
    "ExecuteTime": {
     "end_time": "2023-11-23T01:11:13.636039Z",
     "start_time": "2023-11-23T01:11:13.633624Z"
    }
   },
   "outputs": [],
   "source": [
    "profile = ProfileReport(\n",
    "    train_df,\n",
    "    title='Medical Data',\n",
    "    correlations={\n",
    "        \"pearson\": {\"calculate\": True},\n",
    "        \"spearman\": {\"calculate\": False},\n",
    "        \"kendall\": {\"calculate\": False},\n",
    "        \"phi_k\": {\"calculate\": False},\n",
    "        \"cramers\": {\"calculate\": False},\n",
    "    },\n",
    ")\n",
    "# profile.to_notebook_iframe()"
   ]
  },
  {
   "cell_type": "code",
   "execution_count": 702,
   "id": "7c58aa64-0962-45c9-95ae-6595f0a26df6",
   "metadata": {
    "ExecuteTime": {
     "end_time": "2023-11-23T01:11:13.638499Z",
     "start_time": "2023-11-23T01:11:13.636838Z"
    }
   },
   "outputs": [],
   "source": [
    "numeric_features = [\n",
    "    \"age\",\n",
    "    # \"average_pulse_bpm\",\n",
    "    \"length_of_stay_in_hospital\",\n",
    "    \"number_lab_tests\",\n",
    "    \"non_lab_procedures\",\n",
    "    \"number_of_medications\",\n",
    "    \"number_diagnoses\",\n",
    "    \"change_in_meds_during_hospitalization\",\n",
    "    \"prescribed_diabetes_meds\",\n",
    "]\n",
    "\n",
    "categorical_features = [\n",
    "    \"race\",\n",
    "    \"gender\",\n",
    "    \"payer_code\",\n",
    "    \"admission_type\",\n",
    "    \"medical_specialty\",\n",
    "    \"has_outpatient_visits_in_previous_year\",\n",
    "    \"has_emergency_visits_in_previous_year\",\n",
    "    \"has_inpatient_visits_in_previous_year\",\n",
    "    \"discharge_disposition\",\n",
    "    \"admission_source\",\n",
    "    # \"primary_diagnosis\",\n",
    "    # \"secondary_diagnosis\",\n",
    "    # \"additional_diagnosis\",\n",
    "    # \"medication\", \n",
    "]"
   ]
  },
  {
   "cell_type": "code",
   "execution_count": 703,
   "id": "aa2daeb5-5af8-432b-9663-8cc3f801fc5c",
   "metadata": {
    "ExecuteTime": {
     "end_time": "2023-11-23T01:11:13.651184Z",
     "start_time": "2023-11-23T01:11:13.642447Z"
    }
   },
   "outputs": [],
   "source": [
    "scaler = MinMaxScaler()\n",
    "train_df[numeric_features] = scaler.fit_transform(train_df[numeric_features])\n",
    "test_df[numeric_features] = scaler.transform(test_df[numeric_features])"
   ]
  },
  {
   "cell_type": "code",
   "execution_count": 704,
   "id": "f95c0a19-a73c-4841-bd72-d968dd9f6040",
   "metadata": {
    "ExecuteTime": {
     "end_time": "2023-11-23T01:11:13.814739Z",
     "start_time": "2023-11-23T01:11:13.650402Z"
    }
   },
   "outputs": [
    {
     "name": "stderr",
     "output_type": "stream",
     "text": [
      "/Users/carlos.costa/anaconda3/envs/DM2324/lib/python3.11/site-packages/sklearn/preprocessing/_encoders.py:228: UserWarning: Found unknown categories in columns [2, 4, 9] during transform. These unknown categories will be encoded as all zeros\n",
      "  warnings.warn(\n"
     ]
    }
   ],
   "source": [
    "ohc = OneHotEncoder(sparse_output=False, drop=\"first\", handle_unknown=\"ignore\")\n",
    "ohc_feat = ohc.fit_transform(train_df[categorical_features])\n",
    "ohc_feat_names = ohc.get_feature_names_out()\n",
    "ohc_df = pd.DataFrame(ohc_feat, index=train_df.index, columns=ohc_feat_names)\n",
    "\n",
    "train_df = pd.concat([train_df.drop(columns=categorical_features), ohc_df], axis=1)\n",
    "\n",
    "ohc_feat = ohc.transform(test_df[categorical_features])\n",
    "ohc_feat_names = ohc.get_feature_names_out()\n",
    "ohc_df = pd.DataFrame(ohc_feat, index=test_df.index, columns=ohc_feat_names)\n",
    "\n",
    "test_df = pd.concat([test_df.drop(columns=categorical_features), ohc_df], axis=1)"
   ]
  },
  {
   "cell_type": "code",
   "execution_count": 705,
   "id": "8fefa3bfbdf69da0",
   "metadata": {
    "ExecuteTime": {
     "end_time": "2023-11-23T01:11:13.822071Z",
     "start_time": "2023-11-23T01:11:13.819063Z"
    }
   },
   "outputs": [],
   "source": [
    "profile = ProfileReport(\n",
    "    train_df,\n",
    "    title='Medical Data',\n",
    "    correlations={\n",
    "        \"pearson\": {\"calculate\": True},\n",
    "        \"spearman\": {\"calculate\": False},\n",
    "        \"kendall\": {\"calculate\": False},\n",
    "        \"phi_k\": {\"calculate\": False},\n",
    "        \"cramers\": {\"calculate\": False},\n",
    "    },\n",
    ")\n",
    "# profile.to_notebook_iframe()"
   ]
  },
  {
   "cell_type": "markdown",
   "source": [
    "# REMOVING COLUMNS THAT ARE NOT IMPORTANT [CATEGORICAL]"
   ],
   "metadata": {
    "collapsed": false
   },
   "id": "eb84ac89f1d47d26"
  },
  {
   "cell_type": "code",
   "execution_count": 706,
   "outputs": [
    {
     "name": "stdout",
     "output_type": "stream",
     "text": [
      "medical_specialty_missing is IMPORTANT for Prediction\n",
      "race_Asian is NOT an important predictor. (Discard race_Asian from model)\n",
      "race_Caucasian is IMPORTANT for Prediction\n",
      "race_Hispanic is NOT an important predictor. (Discard race_Hispanic from model)\n",
      "race_Other is IMPORTANT for Prediction\n",
      "race_Unknown is IMPORTANT for Prediction\n",
      "gender_Male is NOT an important predictor. (Discard gender_Male from model)\n",
      "gender_Unknown/Invalid is NOT an important predictor. (Discard gender_Unknown/Invalid from model)\n",
      "payer_code_CH is NOT an important predictor. (Discard payer_code_CH from model)\n",
      "payer_code_CM is IMPORTANT for Prediction\n",
      "payer_code_CP is IMPORTANT for Prediction\n",
      "payer_code_DM is NOT an important predictor. (Discard payer_code_DM from model)\n",
      "payer_code_HM is IMPORTANT for Prediction\n",
      "payer_code_MC is IMPORTANT for Prediction\n",
      "payer_code_MD is NOT an important predictor. (Discard payer_code_MD from model)\n",
      "payer_code_MP is NOT an important predictor. (Discard payer_code_MP from model)\n",
      "payer_code_None is IMPORTANT for Prediction\n",
      "payer_code_OG is NOT an important predictor. (Discard payer_code_OG from model)\n",
      "payer_code_OT is NOT an important predictor. (Discard payer_code_OT from model)\n",
      "payer_code_PO is IMPORTANT for Prediction\n",
      "payer_code_SI is NOT an important predictor. (Discard payer_code_SI from model)\n",
      "payer_code_SP is IMPORTANT for Prediction\n",
      "payer_code_UN is IMPORTANT for Prediction\n",
      "payer_code_WC is IMPORTANT for Prediction\n",
      "admission_type_Emergency is IMPORTANT for Prediction\n",
      "admission_type_Newborn is NOT an important predictor. (Discard admission_type_Newborn from model)\n",
      "admission_type_Not Available is NOT an important predictor. (Discard admission_type_Not Available from model)\n",
      "admission_type_Trauma Center is NOT an important predictor. (Discard admission_type_Trauma Center from model)\n",
      "admission_type_Urgent is NOT an important predictor. (Discard admission_type_Urgent from model)\n",
      "medical_specialty_Anesthesiology is NOT an important predictor. (Discard medical_specialty_Anesthesiology from model)\n",
      "medical_specialty_Anesthesiology-Pediatric is NOT an important predictor. (Discard medical_specialty_Anesthesiology-Pediatric from model)\n",
      "medical_specialty_Cardiology is IMPORTANT for Prediction\n",
      "medical_specialty_Cardiology-Pediatric is NOT an important predictor. (Discard medical_specialty_Cardiology-Pediatric from model)\n",
      "medical_specialty_DCPTEAM is NOT an important predictor. (Discard medical_specialty_DCPTEAM from model)\n",
      "medical_specialty_Dentistry is NOT an important predictor. (Discard medical_specialty_Dentistry from model)\n",
      "medical_specialty_Emergency/Trauma is NOT an important predictor. (Discard medical_specialty_Emergency/Trauma from model)\n",
      "medical_specialty_Endocrinology is NOT an important predictor. (Discard medical_specialty_Endocrinology from model)\n",
      "medical_specialty_Endocrinology-Metabolism is NOT an important predictor. (Discard medical_specialty_Endocrinology-Metabolism from model)\n",
      "medical_specialty_Family/GeneralPractice is NOT an important predictor. (Discard medical_specialty_Family/GeneralPractice from model)\n",
      "medical_specialty_Gastroenterology is NOT an important predictor. (Discard medical_specialty_Gastroenterology from model)\n",
      "medical_specialty_Gynecology is NOT an important predictor. (Discard medical_specialty_Gynecology from model)\n",
      "medical_specialty_Hematology is IMPORTANT for Prediction\n",
      "medical_specialty_Hematology/Oncology is IMPORTANT for Prediction\n",
      "medical_specialty_Hospitalist is NOT an important predictor. (Discard medical_specialty_Hospitalist from model)\n",
      "medical_specialty_InfectiousDiseases is NOT an important predictor. (Discard medical_specialty_InfectiousDiseases from model)\n",
      "medical_specialty_InternalMedicine is NOT an important predictor. (Discard medical_specialty_InternalMedicine from model)\n",
      "medical_specialty_Nephrology is IMPORTANT for Prediction\n",
      "medical_specialty_Neurology is IMPORTANT for Prediction\n",
      "medical_specialty_Neurophysiology is NOT an important predictor. (Discard medical_specialty_Neurophysiology from model)\n",
      "medical_specialty_Obsterics&Gynecology-GynecologicOnco is NOT an important predictor. (Discard medical_specialty_Obsterics&Gynecology-GynecologicOnco from model)\n",
      "medical_specialty_Obstetrics is NOT an important predictor. (Discard medical_specialty_Obstetrics from model)\n",
      "medical_specialty_ObstetricsandGynecology is IMPORTANT for Prediction\n",
      "medical_specialty_Oncology is IMPORTANT for Prediction\n",
      "medical_specialty_Ophthalmology is NOT an important predictor. (Discard medical_specialty_Ophthalmology from model)\n",
      "medical_specialty_Orthopedics is NOT an important predictor. (Discard medical_specialty_Orthopedics from model)\n",
      "medical_specialty_Orthopedics-Reconstructive is IMPORTANT for Prediction\n",
      "medical_specialty_Osteopath is NOT an important predictor. (Discard medical_specialty_Osteopath from model)\n",
      "medical_specialty_Otolaryngology is IMPORTANT for Prediction\n",
      "medical_specialty_OutreachServices is NOT an important predictor. (Discard medical_specialty_OutreachServices from model)\n",
      "medical_specialty_Pathology is NOT an important predictor. (Discard medical_specialty_Pathology from model)\n",
      "medical_specialty_Pediatrics is IMPORTANT for Prediction\n",
      "medical_specialty_Pediatrics-AllergyandImmunology is NOT an important predictor. (Discard medical_specialty_Pediatrics-AllergyandImmunology from model)\n",
      "medical_specialty_Pediatrics-CriticalCare is NOT an important predictor. (Discard medical_specialty_Pediatrics-CriticalCare from model)\n",
      "medical_specialty_Pediatrics-EmergencyMedicine is NOT an important predictor. (Discard medical_specialty_Pediatrics-EmergencyMedicine from model)\n",
      "medical_specialty_Pediatrics-Endocrinology is IMPORTANT for Prediction\n",
      "medical_specialty_Pediatrics-Hematology-Oncology is NOT an important predictor. (Discard medical_specialty_Pediatrics-Hematology-Oncology from model)\n",
      "medical_specialty_Pediatrics-InfectiousDiseases is NOT an important predictor. (Discard medical_specialty_Pediatrics-InfectiousDiseases from model)\n",
      "medical_specialty_Pediatrics-Neurology is NOT an important predictor. (Discard medical_specialty_Pediatrics-Neurology from model)\n",
      "medical_specialty_Pediatrics-Pulmonology is NOT an important predictor. (Discard medical_specialty_Pediatrics-Pulmonology from model)\n",
      "medical_specialty_PhysicalMedicineandRehabilitation is IMPORTANT for Prediction\n",
      "medical_specialty_PhysicianNotFound is NOT an important predictor. (Discard medical_specialty_PhysicianNotFound from model)\n",
      "medical_specialty_Podiatry is NOT an important predictor. (Discard medical_specialty_Podiatry from model)\n",
      "medical_specialty_Proctology is NOT an important predictor. (Discard medical_specialty_Proctology from model)\n",
      "medical_specialty_Psychiatry is NOT an important predictor. (Discard medical_specialty_Psychiatry from model)\n",
      "medical_specialty_Psychiatry-Child/Adolescent is NOT an important predictor. (Discard medical_specialty_Psychiatry-Child/Adolescent from model)\n",
      "medical_specialty_Psychology is NOT an important predictor. (Discard medical_specialty_Psychology from model)\n",
      "medical_specialty_Pulmonology is NOT an important predictor. (Discard medical_specialty_Pulmonology from model)\n",
      "medical_specialty_Radiologist is IMPORTANT for Prediction\n",
      "medical_specialty_Radiology is NOT an important predictor. (Discard medical_specialty_Radiology from model)\n",
      "medical_specialty_Resident is NOT an important predictor. (Discard medical_specialty_Resident from model)\n",
      "medical_specialty_Rheumatology is NOT an important predictor. (Discard medical_specialty_Rheumatology from model)\n",
      "medical_specialty_SportsMedicine is NOT an important predictor. (Discard medical_specialty_SportsMedicine from model)\n",
      "medical_specialty_Surgeon is NOT an important predictor. (Discard medical_specialty_Surgeon from model)\n",
      "medical_specialty_Surgery-Cardiovascular is NOT an important predictor. (Discard medical_specialty_Surgery-Cardiovascular from model)\n",
      "medical_specialty_Surgery-Cardiovascular/Thoracic is IMPORTANT for Prediction\n",
      "medical_specialty_Surgery-Colon&Rectal is NOT an important predictor. (Discard medical_specialty_Surgery-Colon&Rectal from model)\n",
      "medical_specialty_Surgery-General is NOT an important predictor. (Discard medical_specialty_Surgery-General from model)\n",
      "medical_specialty_Surgery-Maxillofacial is NOT an important predictor. (Discard medical_specialty_Surgery-Maxillofacial from model)\n",
      "medical_specialty_Surgery-Neuro is NOT an important predictor. (Discard medical_specialty_Surgery-Neuro from model)\n",
      "medical_specialty_Surgery-Pediatric is NOT an important predictor. (Discard medical_specialty_Surgery-Pediatric from model)\n",
      "medical_specialty_Surgery-Plastic is NOT an important predictor. (Discard medical_specialty_Surgery-Plastic from model)\n",
      "medical_specialty_Surgery-Thoracic is NOT an important predictor. (Discard medical_specialty_Surgery-Thoracic from model)\n",
      "medical_specialty_Surgery-Vascular is NOT an important predictor. (Discard medical_specialty_Surgery-Vascular from model)\n",
      "medical_specialty_SurgicalSpecialty is NOT an important predictor. (Discard medical_specialty_SurgicalSpecialty from model)\n",
      "medical_specialty_Unknown is IMPORTANT for Prediction\n",
      "medical_specialty_Urology is NOT an important predictor. (Discard medical_specialty_Urology from model)\n",
      "has_outpatient_visits_in_previous_year_1 is IMPORTANT for Prediction\n",
      "has_emergency_visits_in_previous_year_1 is IMPORTANT for Prediction\n",
      "has_inpatient_visits_in_previous_year_1 is IMPORTANT for Prediction\n",
      "discharge_disposition_Discharged to home is IMPORTANT for Prediction\n",
      "discharge_disposition_Discharged/transferred to ICF is NOT an important predictor. (Discard discharge_disposition_Discharged/transferred to ICF from model)\n",
      "discharge_disposition_Discharged/transferred to SNF is IMPORTANT for Prediction\n",
      "discharge_disposition_Discharged/transferred to a federal health care facility. is NOT an important predictor. (Discard discharge_disposition_Discharged/transferred to a federal health care facility. from model)\n",
      "discharge_disposition_Discharged/transferred to a long term care hospital. is IMPORTANT for Prediction\n",
      "discharge_disposition_Discharged/transferred to a nursing facility certified under Medicaid but not certified under Medicare. is NOT an important predictor. (Discard discharge_disposition_Discharged/transferred to a nursing facility certified under Medicaid but not certified under Medicare. from model)\n",
      "discharge_disposition_Discharged/transferred to another rehab fac including rehab units of a hospital . is IMPORTANT for Prediction\n",
      "discharge_disposition_Discharged/transferred to another short term hospital is IMPORTANT for Prediction\n",
      "discharge_disposition_Discharged/transferred to another type of inpatient care institution is IMPORTANT for Prediction\n",
      "discharge_disposition_Discharged/transferred to home under care of Home IV provider is NOT an important predictor. (Discard discharge_disposition_Discharged/transferred to home under care of Home IV provider from model)\n",
      "discharge_disposition_Discharged/transferred to home with home health service is IMPORTANT for Prediction\n",
      "discharge_disposition_Discharged/transferred within this institution to Medicare approved swing bed is IMPORTANT for Prediction\n",
      "discharge_disposition_Discharged/transferred/referred another institution for outpatient services is NOT an important predictor. (Discard discharge_disposition_Discharged/transferred/referred another institution for outpatient services from model)\n",
      "discharge_disposition_Discharged/transferred/referred to a psychiatric hospital of psychiatric distinct part unit of a hospital is IMPORTANT for Prediction\n",
      "discharge_disposition_Discharged/transferred/referred to this institution for outpatient services is NOT an important predictor. (Discard discharge_disposition_Discharged/transferred/referred to this institution for outpatient services from model)\n",
      "discharge_disposition_Expired is IMPORTANT for Prediction\n",
      "discharge_disposition_Expired at home. Medicaid only, hospice. is NOT an important predictor. (Discard discharge_disposition_Expired at home. Medicaid only, hospice. from model)\n",
      "discharge_disposition_Expired in a medical facility. Medicaid only, hospice. is NOT an important predictor. (Discard discharge_disposition_Expired in a medical facility. Medicaid only, hospice. from model)\n",
      "discharge_disposition_Hospice / home is IMPORTANT for Prediction\n",
      "discharge_disposition_Hospice / medical facility is IMPORTANT for Prediction\n",
      "discharge_disposition_Left AMA is IMPORTANT for Prediction\n",
      "discharge_disposition_Neonate discharged to another hospital for neonatal aftercare is NOT an important predictor. (Discard discharge_disposition_Neonate discharged to another hospital for neonatal aftercare from model)\n",
      "discharge_disposition_Not Mapped is NOT an important predictor. (Discard discharge_disposition_Not Mapped from model)\n",
      "discharge_disposition_Still patient or expected to return for outpatient services is NOT an important predictor. (Discard discharge_disposition_Still patient or expected to return for outpatient services from model)\n",
      "admission_source_ Emergency Room is IMPORTANT for Prediction\n",
      "admission_source_ Extramural Birth is NOT an important predictor. (Discard admission_source_ Extramural Birth from model)\n",
      "admission_source_ Not Available is NOT an important predictor. (Discard admission_source_ Not Available from model)\n",
      "admission_source_ Not Mapped is NOT an important predictor. (Discard admission_source_ Not Mapped from model)\n",
      "admission_source_ Physician Referral is IMPORTANT for Prediction\n",
      "admission_source_ Transfer from Ambulatory Surgery Center is NOT an important predictor. (Discard admission_source_ Transfer from Ambulatory Surgery Center from model)\n",
      "admission_source_ Transfer from a Skilled Nursing Facility (SNF) is NOT an important predictor. (Discard admission_source_ Transfer from a Skilled Nursing Facility (SNF) from model)\n",
      "admission_source_ Transfer from another health care facility is IMPORTANT for Prediction\n",
      "admission_source_ Transfer from critial access hospital is NOT an important predictor. (Discard admission_source_ Transfer from critial access hospital from model)\n",
      "admission_source_ Transfer from hospital inpt/same fac reslt in a sep claim is NOT an important predictor. (Discard admission_source_ Transfer from hospital inpt/same fac reslt in a sep claim from model)\n",
      "admission_source_Clinic Referral is NOT an important predictor. (Discard admission_source_Clinic Referral from model)\n",
      "admission_source_HMO Referral is NOT an important predictor. (Discard admission_source_HMO Referral from model)\n",
      "admission_source_Normal Delivery is NOT an important predictor. (Discard admission_source_Normal Delivery from model)\n",
      "admission_source_Transfer from a hospital is NOT an important predictor. (Discard admission_source_Transfer from a hospital from model)\n"
     ]
    }
   ],
   "source": [
    "cat = train_df.loc[:, \"medical_specialty_missing\":].columns\n",
    "for var in cat:\n",
    "    if TestIndependence(train_df[var], train_df[\"readmitted_binary\"], var):\n",
    "        train_df.drop(columns=[var], inplace=True)\n",
    "        test_df.drop(columns=[var], inplace=True)"
   ],
   "metadata": {
    "collapsed": false,
    "ExecuteTime": {
     "end_time": "2023-11-23T01:11:15.071429Z",
     "start_time": "2023-11-23T01:11:13.832743Z"
    }
   },
   "id": "e0c256d0a6510529"
  },
  {
   "cell_type": "code",
   "execution_count": null,
   "outputs": [],
   "source": [
    "# SPLITING TARGET VARIABLE"
   ],
   "metadata": {
    "collapsed": false
   },
   "id": "a2efedcd3a3c57b2"
  },
  {
   "cell_type": "code",
   "execution_count": null,
   "outputs": [],
   "source": [
    "y_train = train_df[\"readmitted_binary\"].values\n",
    "X_train = train_df.drop(columns=[\"readmitted_binary\", \"readmitted_multiclass\"])"
   ],
   "metadata": {
    "collapsed": false
   },
   "id": "254fc7a35ccbccf7"
  },
  {
   "cell_type": "code",
   "execution_count": 708,
   "id": "56931996-0000-4b72-85ca-c6d9aa3eb160",
   "metadata": {
    "ExecuteTime": {
     "end_time": "2023-11-23T01:11:37.056760Z",
     "start_time": "2023-11-23T01:11:36.446741Z"
    }
   },
   "outputs": [
    {
     "data": {
      "text/plain": "DecisionTreeClassifier(max_depth=25, random_state=42)",
      "text/html": "<style>#sk-container-id-57 {color: black;}#sk-container-id-57 pre{padding: 0;}#sk-container-id-57 div.sk-toggleable {background-color: white;}#sk-container-id-57 label.sk-toggleable__label {cursor: pointer;display: block;width: 100%;margin-bottom: 0;padding: 0.3em;box-sizing: border-box;text-align: center;}#sk-container-id-57 label.sk-toggleable__label-arrow:before {content: \"▸\";float: left;margin-right: 0.25em;color: #696969;}#sk-container-id-57 label.sk-toggleable__label-arrow:hover:before {color: black;}#sk-container-id-57 div.sk-estimator:hover label.sk-toggleable__label-arrow:before {color: black;}#sk-container-id-57 div.sk-toggleable__content {max-height: 0;max-width: 0;overflow: hidden;text-align: left;background-color: #f0f8ff;}#sk-container-id-57 div.sk-toggleable__content pre {margin: 0.2em;color: black;border-radius: 0.25em;background-color: #f0f8ff;}#sk-container-id-57 input.sk-toggleable__control:checked~div.sk-toggleable__content {max-height: 200px;max-width: 100%;overflow: auto;}#sk-container-id-57 input.sk-toggleable__control:checked~label.sk-toggleable__label-arrow:before {content: \"▾\";}#sk-container-id-57 div.sk-estimator input.sk-toggleable__control:checked~label.sk-toggleable__label {background-color: #d4ebff;}#sk-container-id-57 div.sk-label input.sk-toggleable__control:checked~label.sk-toggleable__label {background-color: #d4ebff;}#sk-container-id-57 input.sk-hidden--visually {border: 0;clip: rect(1px 1px 1px 1px);clip: rect(1px, 1px, 1px, 1px);height: 1px;margin: -1px;overflow: hidden;padding: 0;position: absolute;width: 1px;}#sk-container-id-57 div.sk-estimator {font-family: monospace;background-color: #f0f8ff;border: 1px dotted black;border-radius: 0.25em;box-sizing: border-box;margin-bottom: 0.5em;}#sk-container-id-57 div.sk-estimator:hover {background-color: #d4ebff;}#sk-container-id-57 div.sk-parallel-item::after {content: \"\";width: 100%;border-bottom: 1px solid gray;flex-grow: 1;}#sk-container-id-57 div.sk-label:hover label.sk-toggleable__label {background-color: #d4ebff;}#sk-container-id-57 div.sk-serial::before {content: \"\";position: absolute;border-left: 1px solid gray;box-sizing: border-box;top: 0;bottom: 0;left: 50%;z-index: 0;}#sk-container-id-57 div.sk-serial {display: flex;flex-direction: column;align-items: center;background-color: white;padding-right: 0.2em;padding-left: 0.2em;position: relative;}#sk-container-id-57 div.sk-item {position: relative;z-index: 1;}#sk-container-id-57 div.sk-parallel {display: flex;align-items: stretch;justify-content: center;background-color: white;position: relative;}#sk-container-id-57 div.sk-item::before, #sk-container-id-57 div.sk-parallel-item::before {content: \"\";position: absolute;border-left: 1px solid gray;box-sizing: border-box;top: 0;bottom: 0;left: 50%;z-index: -1;}#sk-container-id-57 div.sk-parallel-item {display: flex;flex-direction: column;z-index: 1;position: relative;background-color: white;}#sk-container-id-57 div.sk-parallel-item:first-child::after {align-self: flex-end;width: 50%;}#sk-container-id-57 div.sk-parallel-item:last-child::after {align-self: flex-start;width: 50%;}#sk-container-id-57 div.sk-parallel-item:only-child::after {width: 0;}#sk-container-id-57 div.sk-dashed-wrapped {border: 1px dashed gray;margin: 0 0.4em 0.5em 0.4em;box-sizing: border-box;padding-bottom: 0.4em;background-color: white;}#sk-container-id-57 div.sk-label label {font-family: monospace;font-weight: bold;display: inline-block;line-height: 1.2em;}#sk-container-id-57 div.sk-label-container {text-align: center;}#sk-container-id-57 div.sk-container {/* jupyter's `normalize.less` sets `[hidden] { display: none; }` but bootstrap.min.css set `[hidden] { display: none !important; }` so we also need the `!important` here to be able to override the default hidden behavior on the sphinx rendered scikit-learn.org. See: https://github.com/scikit-learn/scikit-learn/issues/21755 */display: inline-block !important;position: relative;}#sk-container-id-57 div.sk-text-repr-fallback {display: none;}</style><div id=\"sk-container-id-57\" class=\"sk-top-container\"><div class=\"sk-text-repr-fallback\"><pre>DecisionTreeClassifier(max_depth=25, random_state=42)</pre><b>In a Jupyter environment, please rerun this cell to show the HTML representation or trust the notebook. <br />On GitHub, the HTML representation is unable to render, please try loading this page with nbviewer.org.</b></div><div class=\"sk-container\" hidden><div class=\"sk-item\"><div class=\"sk-estimator sk-toggleable\"><input class=\"sk-toggleable__control sk-hidden--visually\" id=\"sk-estimator-id-57\" type=\"checkbox\" checked><label for=\"sk-estimator-id-57\" class=\"sk-toggleable__label sk-toggleable__label-arrow\">DecisionTreeClassifier</label><div class=\"sk-toggleable__content\"><pre>DecisionTreeClassifier(max_depth=25, random_state=42)</pre></div></div></div></div></div>"
     },
     "execution_count": 708,
     "metadata": {},
     "output_type": "execute_result"
    }
   ],
   "source": [
    "model = DecisionTreeClassifier(max_depth=25, random_state=42)\n",
    "model.fit(X_train, y_train)"
   ]
  },
  {
   "cell_type": "code",
   "execution_count": 709,
   "id": "c375860b-8047-4e7c-8e5c-30091d5e933e",
   "metadata": {
    "ExecuteTime": {
     "end_time": "2023-11-23T01:11:49.087174Z",
     "start_time": "2023-11-23T01:11:48.793696Z"
    }
   },
   "outputs": [
    {
     "ename": "ValueError",
     "evalue": "pos_label=1 is not a valid label. It should be one of ['No', 'Yes']",
     "output_type": "error",
     "traceback": [
      "\u001B[0;31m---------------------------------------------------------------------------\u001B[0m",
      "\u001B[0;31mValueError\u001B[0m                                Traceback (most recent call last)",
      "Cell \u001B[0;32mIn[709], line 2\u001B[0m\n\u001B[1;32m      1\u001B[0m y_pred \u001B[38;5;241m=\u001B[39m model\u001B[38;5;241m.\u001B[39mpredict(train_df)\n\u001B[0;32m----> 2\u001B[0m f1 \u001B[38;5;241m=\u001B[39m \u001B[43mf1_score\u001B[49m\u001B[43m(\u001B[49m\u001B[43my_train\u001B[49m\u001B[43m,\u001B[49m\u001B[43m \u001B[49m\u001B[43my_pred\u001B[49m\u001B[43m)\u001B[49m\n\u001B[1;32m      3\u001B[0m f1\n",
      "File \u001B[0;32m~/anaconda3/envs/DM2324/lib/python3.11/site-packages/sklearn/utils/_param_validation.py:214\u001B[0m, in \u001B[0;36mvalidate_params.<locals>.decorator.<locals>.wrapper\u001B[0;34m(*args, **kwargs)\u001B[0m\n\u001B[1;32m    208\u001B[0m \u001B[38;5;28;01mtry\u001B[39;00m:\n\u001B[1;32m    209\u001B[0m     \u001B[38;5;28;01mwith\u001B[39;00m config_context(\n\u001B[1;32m    210\u001B[0m         skip_parameter_validation\u001B[38;5;241m=\u001B[39m(\n\u001B[1;32m    211\u001B[0m             prefer_skip_nested_validation \u001B[38;5;129;01mor\u001B[39;00m global_skip_validation\n\u001B[1;32m    212\u001B[0m         )\n\u001B[1;32m    213\u001B[0m     ):\n\u001B[0;32m--> 214\u001B[0m         \u001B[38;5;28;01mreturn\u001B[39;00m \u001B[43mfunc\u001B[49m\u001B[43m(\u001B[49m\u001B[38;5;241;43m*\u001B[39;49m\u001B[43margs\u001B[49m\u001B[43m,\u001B[49m\u001B[43m \u001B[49m\u001B[38;5;241;43m*\u001B[39;49m\u001B[38;5;241;43m*\u001B[39;49m\u001B[43mkwargs\u001B[49m\u001B[43m)\u001B[49m\n\u001B[1;32m    215\u001B[0m \u001B[38;5;28;01mexcept\u001B[39;00m InvalidParameterError \u001B[38;5;28;01mas\u001B[39;00m e:\n\u001B[1;32m    216\u001B[0m     \u001B[38;5;66;03m# When the function is just a wrapper around an estimator, we allow\u001B[39;00m\n\u001B[1;32m    217\u001B[0m     \u001B[38;5;66;03m# the function to delegate validation to the estimator, but we replace\u001B[39;00m\n\u001B[1;32m    218\u001B[0m     \u001B[38;5;66;03m# the name of the estimator by the name of the function in the error\u001B[39;00m\n\u001B[1;32m    219\u001B[0m     \u001B[38;5;66;03m# message to avoid confusion.\u001B[39;00m\n\u001B[1;32m    220\u001B[0m     msg \u001B[38;5;241m=\u001B[39m re\u001B[38;5;241m.\u001B[39msub(\n\u001B[1;32m    221\u001B[0m         \u001B[38;5;124mr\u001B[39m\u001B[38;5;124m\"\u001B[39m\u001B[38;5;124mparameter of \u001B[39m\u001B[38;5;124m\\\u001B[39m\u001B[38;5;124mw+ must be\u001B[39m\u001B[38;5;124m\"\u001B[39m,\n\u001B[1;32m    222\u001B[0m         \u001B[38;5;124mf\u001B[39m\u001B[38;5;124m\"\u001B[39m\u001B[38;5;124mparameter of \u001B[39m\u001B[38;5;132;01m{\u001B[39;00mfunc\u001B[38;5;241m.\u001B[39m\u001B[38;5;18m__qualname__\u001B[39m\u001B[38;5;132;01m}\u001B[39;00m\u001B[38;5;124m must be\u001B[39m\u001B[38;5;124m\"\u001B[39m,\n\u001B[1;32m    223\u001B[0m         \u001B[38;5;28mstr\u001B[39m(e),\n\u001B[1;32m    224\u001B[0m     )\n",
      "File \u001B[0;32m~/anaconda3/envs/DM2324/lib/python3.11/site-packages/sklearn/metrics/_classification.py:1239\u001B[0m, in \u001B[0;36mf1_score\u001B[0;34m(y_true, y_pred, labels, pos_label, average, sample_weight, zero_division)\u001B[0m\n\u001B[1;32m   1070\u001B[0m \u001B[38;5;129m@validate_params\u001B[39m(\n\u001B[1;32m   1071\u001B[0m     {\n\u001B[1;32m   1072\u001B[0m         \u001B[38;5;124m\"\u001B[39m\u001B[38;5;124my_true\u001B[39m\u001B[38;5;124m\"\u001B[39m: [\u001B[38;5;124m\"\u001B[39m\u001B[38;5;124marray-like\u001B[39m\u001B[38;5;124m\"\u001B[39m, \u001B[38;5;124m\"\u001B[39m\u001B[38;5;124msparse matrix\u001B[39m\u001B[38;5;124m\"\u001B[39m],\n\u001B[0;32m   (...)\u001B[0m\n\u001B[1;32m   1097\u001B[0m     zero_division\u001B[38;5;241m=\u001B[39m\u001B[38;5;124m\"\u001B[39m\u001B[38;5;124mwarn\u001B[39m\u001B[38;5;124m\"\u001B[39m,\n\u001B[1;32m   1098\u001B[0m ):\n\u001B[1;32m   1099\u001B[0m \u001B[38;5;250m    \u001B[39m\u001B[38;5;124;03m\"\"\"Compute the F1 score, also known as balanced F-score or F-measure.\u001B[39;00m\n\u001B[1;32m   1100\u001B[0m \n\u001B[1;32m   1101\u001B[0m \u001B[38;5;124;03m    The F1 score can be interpreted as a harmonic mean of the precision and\u001B[39;00m\n\u001B[0;32m   (...)\u001B[0m\n\u001B[1;32m   1237\u001B[0m \u001B[38;5;124;03m    array([0.66666667, 1.        , 0.66666667])\u001B[39;00m\n\u001B[1;32m   1238\u001B[0m \u001B[38;5;124;03m    \"\"\"\u001B[39;00m\n\u001B[0;32m-> 1239\u001B[0m     \u001B[38;5;28;01mreturn\u001B[39;00m \u001B[43mfbeta_score\u001B[49m\u001B[43m(\u001B[49m\n\u001B[1;32m   1240\u001B[0m \u001B[43m        \u001B[49m\u001B[43my_true\u001B[49m\u001B[43m,\u001B[49m\n\u001B[1;32m   1241\u001B[0m \u001B[43m        \u001B[49m\u001B[43my_pred\u001B[49m\u001B[43m,\u001B[49m\n\u001B[1;32m   1242\u001B[0m \u001B[43m        \u001B[49m\u001B[43mbeta\u001B[49m\u001B[38;5;241;43m=\u001B[39;49m\u001B[38;5;241;43m1\u001B[39;49m\u001B[43m,\u001B[49m\n\u001B[1;32m   1243\u001B[0m \u001B[43m        \u001B[49m\u001B[43mlabels\u001B[49m\u001B[38;5;241;43m=\u001B[39;49m\u001B[43mlabels\u001B[49m\u001B[43m,\u001B[49m\n\u001B[1;32m   1244\u001B[0m \u001B[43m        \u001B[49m\u001B[43mpos_label\u001B[49m\u001B[38;5;241;43m=\u001B[39;49m\u001B[43mpos_label\u001B[49m\u001B[43m,\u001B[49m\n\u001B[1;32m   1245\u001B[0m \u001B[43m        \u001B[49m\u001B[43maverage\u001B[49m\u001B[38;5;241;43m=\u001B[39;49m\u001B[43maverage\u001B[49m\u001B[43m,\u001B[49m\n\u001B[1;32m   1246\u001B[0m \u001B[43m        \u001B[49m\u001B[43msample_weight\u001B[49m\u001B[38;5;241;43m=\u001B[39;49m\u001B[43msample_weight\u001B[49m\u001B[43m,\u001B[49m\n\u001B[1;32m   1247\u001B[0m \u001B[43m        \u001B[49m\u001B[43mzero_division\u001B[49m\u001B[38;5;241;43m=\u001B[39;49m\u001B[43mzero_division\u001B[49m\u001B[43m,\u001B[49m\n\u001B[1;32m   1248\u001B[0m \u001B[43m    \u001B[49m\u001B[43m)\u001B[49m\n",
      "File \u001B[0;32m~/anaconda3/envs/DM2324/lib/python3.11/site-packages/sklearn/utils/_param_validation.py:187\u001B[0m, in \u001B[0;36mvalidate_params.<locals>.decorator.<locals>.wrapper\u001B[0;34m(*args, **kwargs)\u001B[0m\n\u001B[1;32m    185\u001B[0m global_skip_validation \u001B[38;5;241m=\u001B[39m get_config()[\u001B[38;5;124m\"\u001B[39m\u001B[38;5;124mskip_parameter_validation\u001B[39m\u001B[38;5;124m\"\u001B[39m]\n\u001B[1;32m    186\u001B[0m \u001B[38;5;28;01mif\u001B[39;00m global_skip_validation:\n\u001B[0;32m--> 187\u001B[0m     \u001B[38;5;28;01mreturn\u001B[39;00m \u001B[43mfunc\u001B[49m\u001B[43m(\u001B[49m\u001B[38;5;241;43m*\u001B[39;49m\u001B[43margs\u001B[49m\u001B[43m,\u001B[49m\u001B[43m \u001B[49m\u001B[38;5;241;43m*\u001B[39;49m\u001B[38;5;241;43m*\u001B[39;49m\u001B[43mkwargs\u001B[49m\u001B[43m)\u001B[49m\n\u001B[1;32m    189\u001B[0m func_sig \u001B[38;5;241m=\u001B[39m signature(func)\n\u001B[1;32m    191\u001B[0m \u001B[38;5;66;03m# Map *args/**kwargs to the function signature\u001B[39;00m\n",
      "File \u001B[0;32m~/anaconda3/envs/DM2324/lib/python3.11/site-packages/sklearn/metrics/_classification.py:1413\u001B[0m, in \u001B[0;36mfbeta_score\u001B[0;34m(y_true, y_pred, beta, labels, pos_label, average, sample_weight, zero_division)\u001B[0m\n\u001B[1;32m   1251\u001B[0m \u001B[38;5;129m@validate_params\u001B[39m(\n\u001B[1;32m   1252\u001B[0m     {\n\u001B[1;32m   1253\u001B[0m         \u001B[38;5;124m\"\u001B[39m\u001B[38;5;124my_true\u001B[39m\u001B[38;5;124m\"\u001B[39m: [\u001B[38;5;124m\"\u001B[39m\u001B[38;5;124marray-like\u001B[39m\u001B[38;5;124m\"\u001B[39m, \u001B[38;5;124m\"\u001B[39m\u001B[38;5;124msparse matrix\u001B[39m\u001B[38;5;124m\"\u001B[39m],\n\u001B[0;32m   (...)\u001B[0m\n\u001B[1;32m   1280\u001B[0m     zero_division\u001B[38;5;241m=\u001B[39m\u001B[38;5;124m\"\u001B[39m\u001B[38;5;124mwarn\u001B[39m\u001B[38;5;124m\"\u001B[39m,\n\u001B[1;32m   1281\u001B[0m ):\n\u001B[1;32m   1282\u001B[0m \u001B[38;5;250m    \u001B[39m\u001B[38;5;124;03m\"\"\"Compute the F-beta score.\u001B[39;00m\n\u001B[1;32m   1283\u001B[0m \n\u001B[1;32m   1284\u001B[0m \u001B[38;5;124;03m    The F-beta score is the weighted harmonic mean of precision and recall,\u001B[39;00m\n\u001B[0;32m   (...)\u001B[0m\n\u001B[1;32m   1410\u001B[0m \u001B[38;5;124;03m    0.38...\u001B[39;00m\n\u001B[1;32m   1411\u001B[0m \u001B[38;5;124;03m    \"\"\"\u001B[39;00m\n\u001B[0;32m-> 1413\u001B[0m     _, _, f, _ \u001B[38;5;241m=\u001B[39m \u001B[43mprecision_recall_fscore_support\u001B[49m\u001B[43m(\u001B[49m\n\u001B[1;32m   1414\u001B[0m \u001B[43m        \u001B[49m\u001B[43my_true\u001B[49m\u001B[43m,\u001B[49m\n\u001B[1;32m   1415\u001B[0m \u001B[43m        \u001B[49m\u001B[43my_pred\u001B[49m\u001B[43m,\u001B[49m\n\u001B[1;32m   1416\u001B[0m \u001B[43m        \u001B[49m\u001B[43mbeta\u001B[49m\u001B[38;5;241;43m=\u001B[39;49m\u001B[43mbeta\u001B[49m\u001B[43m,\u001B[49m\n\u001B[1;32m   1417\u001B[0m \u001B[43m        \u001B[49m\u001B[43mlabels\u001B[49m\u001B[38;5;241;43m=\u001B[39;49m\u001B[43mlabels\u001B[49m\u001B[43m,\u001B[49m\n\u001B[1;32m   1418\u001B[0m \u001B[43m        \u001B[49m\u001B[43mpos_label\u001B[49m\u001B[38;5;241;43m=\u001B[39;49m\u001B[43mpos_label\u001B[49m\u001B[43m,\u001B[49m\n\u001B[1;32m   1419\u001B[0m \u001B[43m        \u001B[49m\u001B[43maverage\u001B[49m\u001B[38;5;241;43m=\u001B[39;49m\u001B[43maverage\u001B[49m\u001B[43m,\u001B[49m\n\u001B[1;32m   1420\u001B[0m \u001B[43m        \u001B[49m\u001B[43mwarn_for\u001B[49m\u001B[38;5;241;43m=\u001B[39;49m\u001B[43m(\u001B[49m\u001B[38;5;124;43m\"\u001B[39;49m\u001B[38;5;124;43mf-score\u001B[39;49m\u001B[38;5;124;43m\"\u001B[39;49m\u001B[43m,\u001B[49m\u001B[43m)\u001B[49m\u001B[43m,\u001B[49m\n\u001B[1;32m   1421\u001B[0m \u001B[43m        \u001B[49m\u001B[43msample_weight\u001B[49m\u001B[38;5;241;43m=\u001B[39;49m\u001B[43msample_weight\u001B[49m\u001B[43m,\u001B[49m\n\u001B[1;32m   1422\u001B[0m \u001B[43m        \u001B[49m\u001B[43mzero_division\u001B[49m\u001B[38;5;241;43m=\u001B[39;49m\u001B[43mzero_division\u001B[49m\u001B[43m,\u001B[49m\n\u001B[1;32m   1423\u001B[0m \u001B[43m    \u001B[49m\u001B[43m)\u001B[49m\n\u001B[1;32m   1424\u001B[0m     \u001B[38;5;28;01mreturn\u001B[39;00m f\n",
      "File \u001B[0;32m~/anaconda3/envs/DM2324/lib/python3.11/site-packages/sklearn/utils/_param_validation.py:187\u001B[0m, in \u001B[0;36mvalidate_params.<locals>.decorator.<locals>.wrapper\u001B[0;34m(*args, **kwargs)\u001B[0m\n\u001B[1;32m    185\u001B[0m global_skip_validation \u001B[38;5;241m=\u001B[39m get_config()[\u001B[38;5;124m\"\u001B[39m\u001B[38;5;124mskip_parameter_validation\u001B[39m\u001B[38;5;124m\"\u001B[39m]\n\u001B[1;32m    186\u001B[0m \u001B[38;5;28;01mif\u001B[39;00m global_skip_validation:\n\u001B[0;32m--> 187\u001B[0m     \u001B[38;5;28;01mreturn\u001B[39;00m \u001B[43mfunc\u001B[49m\u001B[43m(\u001B[49m\u001B[38;5;241;43m*\u001B[39;49m\u001B[43margs\u001B[49m\u001B[43m,\u001B[49m\u001B[43m \u001B[49m\u001B[38;5;241;43m*\u001B[39;49m\u001B[38;5;241;43m*\u001B[39;49m\u001B[43mkwargs\u001B[49m\u001B[43m)\u001B[49m\n\u001B[1;32m    189\u001B[0m func_sig \u001B[38;5;241m=\u001B[39m signature(func)\n\u001B[1;32m    191\u001B[0m \u001B[38;5;66;03m# Map *args/**kwargs to the function signature\u001B[39;00m\n",
      "File \u001B[0;32m~/anaconda3/envs/DM2324/lib/python3.11/site-packages/sklearn/metrics/_classification.py:1724\u001B[0m, in \u001B[0;36mprecision_recall_fscore_support\u001B[0;34m(y_true, y_pred, beta, labels, pos_label, average, warn_for, sample_weight, zero_division)\u001B[0m\n\u001B[1;32m   1566\u001B[0m \u001B[38;5;250m\u001B[39m\u001B[38;5;124;03m\"\"\"Compute precision, recall, F-measure and support for each class.\u001B[39;00m\n\u001B[1;32m   1567\u001B[0m \n\u001B[1;32m   1568\u001B[0m \u001B[38;5;124;03mThe precision is the ratio ``tp / (tp + fp)`` where ``tp`` is the number of\u001B[39;00m\n\u001B[0;32m   (...)\u001B[0m\n\u001B[1;32m   1721\u001B[0m \u001B[38;5;124;03m array([2, 2, 2]))\u001B[39;00m\n\u001B[1;32m   1722\u001B[0m \u001B[38;5;124;03m\"\"\"\u001B[39;00m\n\u001B[1;32m   1723\u001B[0m zero_division_value \u001B[38;5;241m=\u001B[39m _check_zero_division(zero_division)\n\u001B[0;32m-> 1724\u001B[0m labels \u001B[38;5;241m=\u001B[39m \u001B[43m_check_set_wise_labels\u001B[49m\u001B[43m(\u001B[49m\u001B[43my_true\u001B[49m\u001B[43m,\u001B[49m\u001B[43m \u001B[49m\u001B[43my_pred\u001B[49m\u001B[43m,\u001B[49m\u001B[43m \u001B[49m\u001B[43maverage\u001B[49m\u001B[43m,\u001B[49m\u001B[43m \u001B[49m\u001B[43mlabels\u001B[49m\u001B[43m,\u001B[49m\u001B[43m \u001B[49m\u001B[43mpos_label\u001B[49m\u001B[43m)\u001B[49m\n\u001B[1;32m   1726\u001B[0m \u001B[38;5;66;03m# Calculate tp_sum, pred_sum, true_sum ###\u001B[39;00m\n\u001B[1;32m   1727\u001B[0m samplewise \u001B[38;5;241m=\u001B[39m average \u001B[38;5;241m==\u001B[39m \u001B[38;5;124m\"\u001B[39m\u001B[38;5;124msamples\u001B[39m\u001B[38;5;124m\"\u001B[39m\n",
      "File \u001B[0;32m~/anaconda3/envs/DM2324/lib/python3.11/site-packages/sklearn/metrics/_classification.py:1509\u001B[0m, in \u001B[0;36m_check_set_wise_labels\u001B[0;34m(y_true, y_pred, average, labels, pos_label)\u001B[0m\n\u001B[1;32m   1507\u001B[0m     \u001B[38;5;28;01mif\u001B[39;00m pos_label \u001B[38;5;129;01mnot\u001B[39;00m \u001B[38;5;129;01min\u001B[39;00m present_labels:\n\u001B[1;32m   1508\u001B[0m         \u001B[38;5;28;01mif\u001B[39;00m \u001B[38;5;28mlen\u001B[39m(present_labels) \u001B[38;5;241m>\u001B[39m\u001B[38;5;241m=\u001B[39m \u001B[38;5;241m2\u001B[39m:\n\u001B[0;32m-> 1509\u001B[0m             \u001B[38;5;28;01mraise\u001B[39;00m \u001B[38;5;167;01mValueError\u001B[39;00m(\n\u001B[1;32m   1510\u001B[0m                 \u001B[38;5;124mf\u001B[39m\u001B[38;5;124m\"\u001B[39m\u001B[38;5;124mpos_label=\u001B[39m\u001B[38;5;132;01m{\u001B[39;00mpos_label\u001B[38;5;132;01m}\u001B[39;00m\u001B[38;5;124m is not a valid label. It \u001B[39m\u001B[38;5;124m\"\u001B[39m\n\u001B[1;32m   1511\u001B[0m                 \u001B[38;5;124mf\u001B[39m\u001B[38;5;124m\"\u001B[39m\u001B[38;5;124mshould be one of \u001B[39m\u001B[38;5;132;01m{\u001B[39;00mpresent_labels\u001B[38;5;132;01m}\u001B[39;00m\u001B[38;5;124m\"\u001B[39m\n\u001B[1;32m   1512\u001B[0m             )\n\u001B[1;32m   1513\u001B[0m     labels \u001B[38;5;241m=\u001B[39m [pos_label]\n\u001B[1;32m   1514\u001B[0m \u001B[38;5;28;01melse\u001B[39;00m:\n",
      "\u001B[0;31mValueError\u001B[0m: pos_label=1 is not a valid label. It should be one of ['No', 'Yes']"
     ]
    }
   ],
   "source": [
    "y_pred = model.predict(X_train)\n",
    "f1 = f1_score(y_train, y_pred)\n",
    "f1"
   ]
  },
  {
   "cell_type": "code",
   "execution_count": null,
   "id": "ec9e4fea-e926-4aa3-8f2e-fd0706d15a33",
   "metadata": {
    "ExecuteTime": {
     "end_time": "2023-11-23T01:11:15.174794Z",
     "start_time": "2023-11-23T01:11:15.174480Z"
    }
   },
   "outputs": [],
   "source": [
    "# Build CSV\n",
    "\n",
    "y_pred = model.predict(test_df)\n",
    "submission_df = pd.DataFrame(y_pred)\n",
    "\n",
    "test_data = pd.read_csv(\"test.csv\")\n",
    "\n",
    "submission_df = submission_df.rename(columns={0:\"readmitted_binary\"})\n",
    "submission_df.insert(0, \"encounter_id\", test_data[\"encounter_id\"])\n",
    "submission_df[\"readmitted_binary\"].replace({1: 'Yes', 0: 'No'}, inplace=True)\n",
    "\n",
    "submission_df.to_csv(\"submission.csv\", index=False)\n",
    "submission_df[\"readmitted_binary\"].value_counts()"
   ]
  },
  {
   "cell_type": "code",
   "execution_count": null,
   "outputs": [],
   "source": [
    "train_df"
   ],
   "metadata": {
    "collapsed": false,
    "ExecuteTime": {
     "end_time": "2023-11-23T01:11:15.176390Z",
     "start_time": "2023-11-23T01:11:15.175466Z"
    }
   },
   "id": "d3a3628eac4bb3d9"
  },
  {
   "cell_type": "code",
   "execution_count": null,
   "outputs": [],
   "source": [],
   "metadata": {
    "collapsed": false,
    "ExecuteTime": {
     "start_time": "2023-11-23T01:11:15.176213Z"
    }
   },
   "id": "e165909b39d5b888"
  }
 ],
 "metadata": {
  "kernelspec": {
   "display_name": "Python 3 (ipykernel)",
   "language": "python",
   "name": "python3"
  },
  "language_info": {
   "codemirror_mode": {
    "name": "ipython",
    "version": 3
   },
   "file_extension": ".py",
   "mimetype": "text/x-python",
   "name": "python",
   "nbconvert_exporter": "python",
   "pygments_lexer": "ipython3",
   "version": "3.11.5"
  }
 },
 "nbformat": 4,
 "nbformat_minor": 5
}
