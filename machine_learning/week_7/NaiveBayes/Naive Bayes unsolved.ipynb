{
 "cells": [
  {
   "cell_type": "markdown",
   "metadata": {},
   "source": [
    "<b><font size=\"6\">Naive Bayes</font><a class=\"anchor\"><a id='toc'></a></b><br>"
   ]
  },
  {
   "cell_type": "markdown",
   "metadata": {},
   "source": [
    "In this notebook we are going to apply Naive Bayes in Python.\n",
    "\n",
    "<img src=\"https://imgs.xkcd.com/comics/frequentists_vs_bayesians.png\" width=\"400px\"/> <br><br>\n",
    "\n",
    "On a very fundamental level Bayes' theorem, or Bayes rule, is a mathematical formula used to calculate the conditional probability of events in statistics and probability theory. Its mathematical proof is presented below:\n",
    "\n",
    "We start with the definition of joint probability:\n",
    "\n",
    "$$\n",
    "P(A \\cap B) = P(A \\vert B) P(B)\n",
    "$$\n",
    "\n",
    "This can be rearranged to give the definition of conditional probability:\n",
    "\n",
    "$$\n",
    "P(A \\vert B) = \\frac{P(A \\cap B)}{P(B)}\n",
    "$$\n",
    "\n",
    "Similarly, we can express $P(B \\vert A)$ as:\n",
    "\n",
    "$$\n",
    "P(B \\vert A) = \\frac{P(A \\cap B)}{P(A)}\n",
    "$$\n",
    "\n",
    "Taking the ratio of these two expressions gives us:\n",
    "\n",
    "$$\n",
    "\\frac{P(A \\vert B)}{P(B \\vert A)}= \\frac{P(B)}{P(A)}\n",
    "$$\n",
    "\n",
    "Rearranging this equation leads us to Bayes' theorem:\n",
    "\n",
    "$$\n",
    "P(A \\vert B)= \\frac{P(B \\vert A) P(A)}{P(B)}\n",
    "$$\n",
    "\n",
    "Another way of looking at it uses slightly different terminology. We can think of Bayes’ theorem as a way to update knowledge when presented with new evidence or data:</b>\n",
    "1. We hold a preconceived notion or belief as **prior**\n",
    "2. We calculate the likelihood of the data conditioned on our **prior**\n",
    "3. The prior uses the data to be updated into a **posterior**\n",
    "\n",
    "In more formal terms, given hypothesis ***y*** and evidence **X**:\n",
    "\n",
    "$$\n",
    "P(y \\vert X) = \\frac{P(X \\vert y) P(y)}{P(X)}\n",
    "$$\n",
    "\n",
    "* P( X | *y* ) - the **likelihood of the evidence if the hypothesis was correct**\n",
    "* P(*y*) – the **prior**, what we believed before we saw the evidence\n",
    "* P(X) - the **likelihood of that evidence under any circumstances**\n",
    "* P( *y* | X ) - the **posterior** (i.e. the updated prior)\n",
    "\n",
    "Bayesian classification uses Bayes' theorem to predict class membership probabilities (i.e. the probability that a given sample belongs to a specific class). \n",
    "\n",
    "To classify **y** given $X$, we would need to be able to compute different probabilities:\n",
    "1. The prior $P(y)$,\n",
    "2. The probability distribution of the data $P(X)$,\n",
    "3. The likelihood of the data conditioned on the prior $P( X \\vert y)$"
   ]
  },
  {
   "cell_type": "markdown",
   "metadata": {},
   "source": [
    "<div class=\"alert alert-block alert-info\">\n",
    "    \n",
    "# TOC<a class=\"anchor\"><a id='toc'></a></b><br>\n",
    "- [<font color='#E8800A'>Understanding Naive Bayes using Categorical Data</font>](#first-bullet)<br>\n",
    "* [<font color='#E8800A'>Gaussian Naive Bayes</font>](#second-bullet) <br>\n",
    "- [<font color='#E8800A'>Exercise</font>](#third-bullet)<br>\n",
    "    \n",
    "</div>"
   ]
  },
  {
   "cell_type": "code",
   "execution_count": 1,
   "metadata": {},
   "outputs": [],
   "source": [
    "import pandas as pd\n",
    "from sklearn.model_selection import train_test_split\n",
    "\n",
    "import warnings\n",
    "warnings.filterwarnings('ignore')"
   ]
  },
  {
   "cell_type": "markdown",
   "metadata": {},
   "source": [
    "# <font color='#E8800A'>Naive Bayes for Categorical Data</font><a class=\"anchor\" id=\"second-bullet\"></a> \n",
    "[Back to TOC](#toc)"
   ]
  },
  {
   "cell_type": "markdown",
   "metadata": {},
   "source": [
    "<a class=\"anchor\" id=\"company\">\n",
    "\n",
    "## Weather Data\n",
    "</a>"
   ]
  },
  {
   "cell_type": "markdown",
   "metadata": {},
   "source": [
    "I present you a small dataset with only categorical attributes about playing or not tennis and we will build a Naive Bayes classifier from scratch!"
   ]
  },
  {
   "cell_type": "markdown",
   "metadata": {},
   "source": [
    "__`Step 1:`__ Import the Dataset"
   ]
  },
  {
   "cell_type": "code",
   "execution_count": 2,
   "metadata": {},
   "outputs": [],
   "source": [
    "weather = pd.read_csv('weather.csv')\n",
    "\n",
    "#windy is a boolean value, so we need to convert it to a string to use it for this exercise\n",
    "weather['WINDY'] = weather['WINDY'].astype(str)"
   ]
  },
  {
   "cell_type": "code",
   "execution_count": 3,
   "metadata": {
    "scrolled": true
   },
   "outputs": [
    {
     "data": {
      "text/html": [
       "<div>\n",
       "<style scoped>\n",
       "    .dataframe tbody tr th:only-of-type {\n",
       "        vertical-align: middle;\n",
       "    }\n",
       "\n",
       "    .dataframe tbody tr th {\n",
       "        vertical-align: top;\n",
       "    }\n",
       "\n",
       "    .dataframe thead th {\n",
       "        text-align: right;\n",
       "    }\n",
       "</style>\n",
       "<table border=\"1\" class=\"dataframe\">\n",
       "  <thead>\n",
       "    <tr style=\"text-align: right;\">\n",
       "      <th></th>\n",
       "      <th>OUTLOOK</th>\n",
       "      <th>TEMPERATURE</th>\n",
       "      <th>HUMIDITY</th>\n",
       "      <th>WINDY</th>\n",
       "      <th>PLAY</th>\n",
       "    </tr>\n",
       "  </thead>\n",
       "  <tbody>\n",
       "    <tr>\n",
       "      <th>0</th>\n",
       "      <td>Sunny</td>\n",
       "      <td>Hot</td>\n",
       "      <td>High</td>\n",
       "      <td>False</td>\n",
       "      <td>No</td>\n",
       "    </tr>\n",
       "    <tr>\n",
       "      <th>1</th>\n",
       "      <td>Sunny</td>\n",
       "      <td>Hot</td>\n",
       "      <td>High</td>\n",
       "      <td>True</td>\n",
       "      <td>No</td>\n",
       "    </tr>\n",
       "    <tr>\n",
       "      <th>2</th>\n",
       "      <td>Overcast</td>\n",
       "      <td>Hot</td>\n",
       "      <td>High</td>\n",
       "      <td>False</td>\n",
       "      <td>Yes</td>\n",
       "    </tr>\n",
       "    <tr>\n",
       "      <th>3</th>\n",
       "      <td>Rainy</td>\n",
       "      <td>Mild</td>\n",
       "      <td>High</td>\n",
       "      <td>False</td>\n",
       "      <td>Yes</td>\n",
       "    </tr>\n",
       "    <tr>\n",
       "      <th>4</th>\n",
       "      <td>Rainy</td>\n",
       "      <td>Cool</td>\n",
       "      <td>Normal</td>\n",
       "      <td>False</td>\n",
       "      <td>Yes</td>\n",
       "    </tr>\n",
       "    <tr>\n",
       "      <th>5</th>\n",
       "      <td>Rainy</td>\n",
       "      <td>Cool</td>\n",
       "      <td>Normal</td>\n",
       "      <td>True</td>\n",
       "      <td>No</td>\n",
       "    </tr>\n",
       "    <tr>\n",
       "      <th>6</th>\n",
       "      <td>Overcast</td>\n",
       "      <td>Cool</td>\n",
       "      <td>Normal</td>\n",
       "      <td>True</td>\n",
       "      <td>Yes</td>\n",
       "    </tr>\n",
       "    <tr>\n",
       "      <th>7</th>\n",
       "      <td>Sunny</td>\n",
       "      <td>Mild</td>\n",
       "      <td>High</td>\n",
       "      <td>False</td>\n",
       "      <td>No</td>\n",
       "    </tr>\n",
       "    <tr>\n",
       "      <th>8</th>\n",
       "      <td>Sunny</td>\n",
       "      <td>Cool</td>\n",
       "      <td>Normal</td>\n",
       "      <td>False</td>\n",
       "      <td>Yes</td>\n",
       "    </tr>\n",
       "    <tr>\n",
       "      <th>9</th>\n",
       "      <td>Overcast</td>\n",
       "      <td>Mild</td>\n",
       "      <td>Normal</td>\n",
       "      <td>False</td>\n",
       "      <td>Yes</td>\n",
       "    </tr>\n",
       "    <tr>\n",
       "      <th>10</th>\n",
       "      <td>Sunny</td>\n",
       "      <td>Mild</td>\n",
       "      <td>Normal</td>\n",
       "      <td>True</td>\n",
       "      <td>Yes</td>\n",
       "    </tr>\n",
       "    <tr>\n",
       "      <th>11</th>\n",
       "      <td>Overcast</td>\n",
       "      <td>Mild</td>\n",
       "      <td>High</td>\n",
       "      <td>True</td>\n",
       "      <td>Yes</td>\n",
       "    </tr>\n",
       "    <tr>\n",
       "      <th>12</th>\n",
       "      <td>Overcast</td>\n",
       "      <td>Hot</td>\n",
       "      <td>Normal</td>\n",
       "      <td>False</td>\n",
       "      <td>Yes</td>\n",
       "    </tr>\n",
       "    <tr>\n",
       "      <th>13</th>\n",
       "      <td>Rainy</td>\n",
       "      <td>Mild</td>\n",
       "      <td>High</td>\n",
       "      <td>True</td>\n",
       "      <td>No</td>\n",
       "    </tr>\n",
       "  </tbody>\n",
       "</table>\n",
       "</div>"
      ],
      "text/plain": [
       "     OUTLOOK TEMPERATURE HUMIDITY  WINDY PLAY\n",
       "0      Sunny         Hot     High  False   No\n",
       "1      Sunny         Hot     High   True   No\n",
       "2   Overcast         Hot     High  False  Yes\n",
       "3      Rainy        Mild     High  False  Yes\n",
       "4      Rainy        Cool   Normal  False  Yes\n",
       "5      Rainy        Cool   Normal   True   No\n",
       "6   Overcast        Cool   Normal   True  Yes\n",
       "7      Sunny        Mild     High  False   No\n",
       "8      Sunny        Cool   Normal  False  Yes\n",
       "9   Overcast        Mild   Normal  False  Yes\n",
       "10     Sunny        Mild   Normal   True  Yes\n",
       "11  Overcast        Mild     High   True  Yes\n",
       "12  Overcast         Hot   Normal  False  Yes\n",
       "13     Rainy        Mild     High   True   No"
      ]
     },
     "execution_count": 3,
     "metadata": {},
     "output_type": "execute_result"
    }
   ],
   "source": [
    "weather"
   ]
  },
  {
   "cell_type": "markdown",
   "metadata": {},
   "source": [
    "Now, with regards to our dataset, we can apply Bayes’ theorem in following way:\n",
    "\n",
    "$$P(Play|features)=\\frac{P(feature|Play)*P(Play)}{P(features)}$$\n",
    "\n",
    "Training the model, in Bayesian logic, means to calculate the probabilities on the right side of the equation. Making a prediction means to calculate the probability on the left side of the equation for each class and select the class with the highest probability."
   ]
  },
  {
   "cell_type": "markdown",
   "metadata": {},
   "source": [
    "Assume this instance: `today = (Outlook = Sunny, Temperature = Cool, Humidity = High, Windy = True)`<br>\n",
    "\n",
    "To make a prediction, we need to calculate the probability of **Play** being **Yes** or **No** given the independent features. Variable **Play** has two possible outcomes: **Yes** and **No**.<br>\n",
    "\n",
    "$$P(Yes|today)=\\frac{P(today|Yes)*P(Yes)}{P(today)}$$\n",
    "\n",
    "and\n",
    "\n",
    "$$P(No|today)=\\frac{P(today|No)*P(No)}{P(today)}$$\n",
    "\n",
    "Computing these values in the real world is difficult:<br>\n",
    "1. There most likely are dependencies between features\n",
    "2. The relative importance of each feature is not obvious\n",
    "3. We do not know, and cannot know, the *real* probability distribution of the data\n",
    "\n",
    "How difficult you ask? Well, let's see the disentanglement of P(today|Play):\n",
    "\n",
    "$P(Sunny, Cool, High, True|Yes) = w_1P(Sunny|Cool, High, True, Yes) * w_2P(Cool|Sunny, High, True, Yes) * w_3P(High|Sunny, Cool, True, Yes) * w_4P(True|Sunny, Cool, High, Yes)$\n",
    "\n",
    "and\n",
    "\n",
    "$P(Sunny, Cool, High, True|No) = w_1P(Sunny|Cool, High, True, No) * w_2P(Cool|Sunny, High, True, No) * w_3P(High|Sunny, Cool, True, No) * w_4P(True|Sunny, Cool, High,No)$"
   ]
  },
  {
   "cell_type": "markdown",
   "metadata": {},
   "source": [
    "#### <font color='#E8800A'>Enter Naive Bayes</font>\n",
    "\n",
    "Naive Bayes simplifies the Bayesian logic by making very stupid, but mathematically convenient, assumptions:\n",
    "1. All features are independent\n",
    "2. All features are equally important\n",
    "3. The probability distribution of the data follows a distribution that we know how to model (e.g. a Gaussian distribution)"
   ]
  },
  {
   "cell_type": "markdown",
   "metadata": {},
   "source": [
    "With these assumptions, we can simplify the above equations to:\n",
    "\n",
    "$P(Sunny, Cool, High, True|Yes) = w_1P(Sunny|Yes) * w_2P(Cool|Yes) * w_3P(High|Yes) * w_4P(True|Yes)$\n",
    "\n",
    "and\n",
    "\n",
    "$P(Sunny, Cool, High, True|No) = w_1P(Sunny|No) * w_2P(Cool|No) * w_3P(High|No) * w_4P(True|No)$\n",
    "\n",
    "where $w_1, w_2, w_3, w_4$ are constants that we can ignore when comparing the two equations."
   ]
  },
  {
   "cell_type": "markdown",
   "metadata": {},
   "source": [
    "In the following cells, we are going to create a Naive Bayes classifier from scratch and apply it to the weather dataset. For each possible outcome, we will need to compute the *prior* and the *likelihood* of each feature given the outcome variable.\n",
    "\n",
    "Then, we will need to check what is the probability of the new instance to belong to each class and select the most likely class, thus making a **prediction**."
   ]
  },
  {
   "cell_type": "markdown",
   "metadata": {},
   "source": [
    "__`Step 2:`__ Let's start with y = Yes.\n",
    "\n",
    "$P(Yes|today) = \\frac{P(Sunny|Yes) * P(Cool|Yes) * P(High|Yes) * P(True|Yes) * P(Yes)}{P(today)}$"
   ]
  },
  {
   "cell_type": "markdown",
   "metadata": {},
   "source": [
    "__`Step 2.1:`__ Calculate each part."
   ]
  },
  {
   "cell_type": "markdown",
   "metadata": {},
   "source": [
    "p1 = P(Outlook = Sunny|Yes)"
   ]
  },
  {
   "cell_type": "code",
   "execution_count": 8,
   "metadata": {},
   "outputs": [
    {
     "data": {
      "text/plain": [
       "0.2222222222222222"
      ]
     },
     "execution_count": 8,
     "metadata": {},
     "output_type": "execute_result"
    }
   ],
   "source": [
    "#CODE HERE\n",
    "p1 = len(weather[(weather.PLAY == 'Yes') & (weather.OUTLOOK == \"Sunny\")]) / len(weather[weather.PLAY == \"Yes\"])\n",
    "p1"
   ]
  },
  {
   "cell_type": "markdown",
   "metadata": {},
   "source": [
    "p2 = P(Temperature = Cool|Yes)"
   ]
  },
  {
   "cell_type": "code",
   "execution_count": 9,
   "metadata": {},
   "outputs": [
    {
     "data": {
      "text/plain": [
       "0.3333333333333333"
      ]
     },
     "execution_count": 9,
     "metadata": {},
     "output_type": "execute_result"
    }
   ],
   "source": [
    "#CODE HERE\n",
    "p2 = len(weather[(weather.PLAY == 'Yes') & (weather.TEMPERATURE == \"Cool\")]) / len(weather[weather.PLAY == \"Yes\"])\n",
    "p2"
   ]
  },
  {
   "cell_type": "markdown",
   "metadata": {},
   "source": [
    "p3 = P(Humidity = High|Yes)"
   ]
  },
  {
   "cell_type": "code",
   "execution_count": 10,
   "metadata": {},
   "outputs": [
    {
     "data": {
      "text/plain": [
       "0.3333333333333333"
      ]
     },
     "execution_count": 10,
     "metadata": {},
     "output_type": "execute_result"
    }
   ],
   "source": [
    "#CODE HERE\n",
    "p3 = len(weather[(weather.PLAY == 'Yes') & (weather.HUMIDITY == \"High\")]) / len(weather[weather.PLAY == \"Yes\"])\n",
    "p3"
   ]
  },
  {
   "cell_type": "markdown",
   "metadata": {},
   "source": [
    "p4 = P(Wind = True|Yes)"
   ]
  },
  {
   "cell_type": "code",
   "execution_count": 12,
   "metadata": {},
   "outputs": [
    {
     "data": {
      "text/plain": [
       "0.3333333333333333"
      ]
     },
     "execution_count": 12,
     "metadata": {},
     "output_type": "execute_result"
    }
   ],
   "source": [
    "#CODE HERE\n",
    "p4 = len(weather[(weather.PLAY == 'Yes') & (weather.WINDY == \"True\")]) / len(weather[weather.PLAY == \"Yes\"])\n",
    "p4"
   ]
  },
  {
   "cell_type": "markdown",
   "metadata": {},
   "source": [
    "p5 = P(Yes)"
   ]
  },
  {
   "cell_type": "code",
   "execution_count": 13,
   "metadata": {},
   "outputs": [
    {
     "data": {
      "text/plain": [
       "0.6428571428571429"
      ]
     },
     "execution_count": 13,
     "metadata": {},
     "output_type": "execute_result"
    }
   ],
   "source": [
    "#CODE HERE\n",
    "p5 = len(weather[weather.PLAY == 'Yes']) / len(weather)\n",
    "p5"
   ]
  },
  {
   "cell_type": "markdown",
   "metadata": {},
   "source": [
    "p_yes_today = P(Yes|today)"
   ]
  },
  {
   "cell_type": "code",
   "execution_count": 14,
   "metadata": {
    "scrolled": true
   },
   "outputs": [
    {
     "data": {
      "text/plain": [
       "0.005291005291005291"
      ]
     },
     "execution_count": 14,
     "metadata": {},
     "output_type": "execute_result"
    }
   ],
   "source": [
    "#CODE HERE\n",
    "p_yes_today = p1 * p2 * p3 * p4 * p5\n",
    "p_yes_today"
   ]
  },
  {
   "cell_type": "code",
   "execution_count": null,
   "metadata": {},
   "outputs": [],
   "source": [
    "#CODE HERE"
   ]
  },
  {
   "cell_type": "markdown",
   "metadata": {},
   "source": [
    "__`Step 3:`__ Now, we need to do the same for y = No.\n",
    "\n",
    "$P(No|today) = \\frac{P(Sunny|No) * P(Cool|No) * P(High|No) * P(True|No) * P(No)}{P(today)}$"
   ]
  },
  {
   "cell_type": "markdown",
   "metadata": {},
   "source": [
    "__`Step 3.1:`__ Calculate each part in the same manner as before."
   ]
  },
  {
   "cell_type": "code",
   "execution_count": 15,
   "metadata": {},
   "outputs": [
    {
     "data": {
      "text/plain": [
       "0.6"
      ]
     },
     "execution_count": 15,
     "metadata": {},
     "output_type": "execute_result"
    }
   ],
   "source": [
    "#CODE HERE\n",
    "p1 = len(weather[(weather.PLAY == 'No') & (weather.OUTLOOK == \"Sunny\")]) / len(weather[weather.PLAY == \"No\"])\n",
    "p1"
   ]
  },
  {
   "cell_type": "code",
   "execution_count": 16,
   "metadata": {},
   "outputs": [
    {
     "data": {
      "text/plain": [
       "0.2"
      ]
     },
     "execution_count": 16,
     "metadata": {},
     "output_type": "execute_result"
    }
   ],
   "source": [
    "#CODE HERE\n",
    "p2 = len(weather[(weather.PLAY == 'No') & (weather.TEMPERATURE == \"Cool\")]) / len(weather[weather.PLAY == \"No\"])\n",
    "p2"
   ]
  },
  {
   "cell_type": "code",
   "execution_count": 17,
   "metadata": {},
   "outputs": [
    {
     "data": {
      "text/plain": [
       "0.8"
      ]
     },
     "execution_count": 17,
     "metadata": {},
     "output_type": "execute_result"
    }
   ],
   "source": [
    "#CODE HERE\n",
    "p3 = len(weather[(weather.PLAY == 'No') & (weather.HUMIDITY == \"High\")]) / len(weather[weather.PLAY == \"No\"])\n",
    "p3"
   ]
  },
  {
   "cell_type": "code",
   "execution_count": 18,
   "metadata": {},
   "outputs": [
    {
     "data": {
      "text/plain": [
       "0.6"
      ]
     },
     "execution_count": 18,
     "metadata": {},
     "output_type": "execute_result"
    }
   ],
   "source": [
    "#CODE HERE\n",
    "p4 = len(weather[(weather.PLAY == 'No') & (weather.WINDY == \"True\")]) / len(weather[weather.PLAY == \"No\"])\n",
    "p4"
   ]
  },
  {
   "cell_type": "code",
   "execution_count": 19,
   "metadata": {},
   "outputs": [
    {
     "data": {
      "text/plain": [
       "0.35714285714285715"
      ]
     },
     "execution_count": 19,
     "metadata": {},
     "output_type": "execute_result"
    }
   ],
   "source": [
    "#CODE HERE\n",
    "p5 = len(weather[weather.PLAY == 'No']) / len(weather)\n",
    "p5"
   ]
  },
  {
   "cell_type": "code",
   "execution_count": 20,
   "metadata": {
    "scrolled": true
   },
   "outputs": [
    {
     "data": {
      "text/plain": [
       "0.02057142857142857"
      ]
     },
     "execution_count": 20,
     "metadata": {},
     "output_type": "execute_result"
    }
   ],
   "source": [
    "#CODE HERE\n",
    "p_no_today = p1 * p2 * p3 * p4 * p5\n",
    "p_no_today"
   ]
  },
  {
   "cell_type": "code",
   "execution_count": 21,
   "metadata": {},
   "outputs": [
    {
     "data": {
      "text/plain": [
       "0.005291005291005291"
      ]
     },
     "execution_count": 21,
     "metadata": {},
     "output_type": "execute_result"
    }
   ],
   "source": [
    "p_yes_today"
   ]
  },
  {
   "cell_type": "markdown",
   "metadata": {},
   "source": [
    "__`Step 4:`__ Normalize the results to obtain something similar to a probability (The sum of the probabilities for *Yes* and *No* should be 1)."
   ]
  },
  {
   "cell_type": "code",
   "execution_count": 22,
   "metadata": {},
   "outputs": [],
   "source": [
    "#CODE HERE\n",
    "P_yes_today = p_yes_today / (p_yes_today + p_no_today)"
   ]
  },
  {
   "cell_type": "code",
   "execution_count": 23,
   "metadata": {},
   "outputs": [
    {
     "data": {
      "text/plain": [
       "0.20458265139116202"
      ]
     },
     "execution_count": 23,
     "metadata": {},
     "output_type": "execute_result"
    }
   ],
   "source": [
    "#CODE HERE\n",
    "P_yes_today"
   ]
  },
  {
   "cell_type": "code",
   "execution_count": 24,
   "metadata": {},
   "outputs": [],
   "source": [
    "#CODE HERE\n",
    "P_no_today = p_no_today / (p_yes_today + p_no_today)"
   ]
  },
  {
   "cell_type": "code",
   "execution_count": 27,
   "metadata": {},
   "outputs": [
    {
     "data": {
      "text/plain": [
       "0.795417348608838"
      ]
     },
     "execution_count": 27,
     "metadata": {},
     "output_type": "execute_result"
    }
   ],
   "source": [
    "P_no_today"
   ]
  },
  {
   "cell_type": "markdown",
   "metadata": {},
   "source": [
    "__Result:__ The outcome of today is No!"
   ]
  },
  {
   "cell_type": "markdown",
   "metadata": {},
   "source": [
    "## Now we can use the sklearn Naive Bayes for categorical features to confirm our result"
   ]
  },
  {
   "cell_type": "markdown",
   "metadata": {},
   "source": [
    "__`Step 1:`__ Import CategoricalNB from sklearn.naive_bayes"
   ]
  },
  {
   "cell_type": "code",
   "execution_count": 28,
   "metadata": {},
   "outputs": [],
   "source": [
    "# The model depends on the distribution, in this case we're using categorical distribution.\n",
    "# But in the next example \"Tugas\" we'll use Gaussian (Normal) distribution\n",
    "from sklearn.naive_bayes import CategoricalNB\n",
    "from sklearn.model_selection import train_test_split"
   ]
  },
  {
   "cell_type": "markdown",
   "metadata": {},
   "source": [
    "__`Step 2:`__ Assign to the object `data` the dataset excepting the dependent variable"
   ]
  },
  {
   "cell_type": "code",
   "execution_count": 29,
   "metadata": {},
   "outputs": [],
   "source": [
    "data = weather.drop(['PLAY'], axis=1)"
   ]
  },
  {
   "cell_type": "markdown",
   "metadata": {},
   "source": [
    "__`Step 3:`__ Assign to the object `target`the dependent variable "
   ]
  },
  {
   "cell_type": "code",
   "execution_count": 34,
   "metadata": {},
   "outputs": [],
   "source": [
    "target = pd.DataFrame(weather['PLAY'], columns = ['PLAY'])"
   ]
  },
  {
   "cell_type": "code",
   "execution_count": null,
   "metadata": {},
   "outputs": [],
   "source": []
  },
  {
   "cell_type": "markdown",
   "metadata": {},
   "source": [
    "__`Step 4:`__ Encode the dataset to apply the model"
   ]
  },
  {
   "cell_type": "markdown",
   "metadata": {},
   "source": [
    "__`Step 4.1:`__ Import the OrdinalEncoder"
   ]
  },
  {
   "cell_type": "code",
   "execution_count": 31,
   "metadata": {},
   "outputs": [],
   "source": [
    "# Ordinal Encoder encode categorical variable as integers\n",
    "from sklearn.preprocessing import OrdinalEncoder"
   ]
  },
  {
   "cell_type": "markdown",
   "metadata": {},
   "source": [
    "__`Step 4.2:`__ Create two instances of the encoder"
   ]
  },
  {
   "cell_type": "code",
   "execution_count": 35,
   "metadata": {},
   "outputs": [],
   "source": [
    "enc1 = OrdinalEncoder() #encoder for features\n",
    "enc2 = OrdinalEncoder() #encoder for labels/targets"
   ]
  },
  {
   "cell_type": "markdown",
   "metadata": {},
   "source": [
    "__`Step 4.3:`__ Fit the encoder to the data and the target"
   ]
  },
  {
   "cell_type": "code",
   "execution_count": 36,
   "metadata": {},
   "outputs": [
    {
     "data": {
      "text/html": [
       "<style>#sk-container-id-1 {color: black;}#sk-container-id-1 pre{padding: 0;}#sk-container-id-1 div.sk-toggleable {background-color: white;}#sk-container-id-1 label.sk-toggleable__label {cursor: pointer;display: block;width: 100%;margin-bottom: 0;padding: 0.3em;box-sizing: border-box;text-align: center;}#sk-container-id-1 label.sk-toggleable__label-arrow:before {content: \"▸\";float: left;margin-right: 0.25em;color: #696969;}#sk-container-id-1 label.sk-toggleable__label-arrow:hover:before {color: black;}#sk-container-id-1 div.sk-estimator:hover label.sk-toggleable__label-arrow:before {color: black;}#sk-container-id-1 div.sk-toggleable__content {max-height: 0;max-width: 0;overflow: hidden;text-align: left;background-color: #f0f8ff;}#sk-container-id-1 div.sk-toggleable__content pre {margin: 0.2em;color: black;border-radius: 0.25em;background-color: #f0f8ff;}#sk-container-id-1 input.sk-toggleable__control:checked~div.sk-toggleable__content {max-height: 200px;max-width: 100%;overflow: auto;}#sk-container-id-1 input.sk-toggleable__control:checked~label.sk-toggleable__label-arrow:before {content: \"▾\";}#sk-container-id-1 div.sk-estimator input.sk-toggleable__control:checked~label.sk-toggleable__label {background-color: #d4ebff;}#sk-container-id-1 div.sk-label input.sk-toggleable__control:checked~label.sk-toggleable__label {background-color: #d4ebff;}#sk-container-id-1 input.sk-hidden--visually {border: 0;clip: rect(1px 1px 1px 1px);clip: rect(1px, 1px, 1px, 1px);height: 1px;margin: -1px;overflow: hidden;padding: 0;position: absolute;width: 1px;}#sk-container-id-1 div.sk-estimator {font-family: monospace;background-color: #f0f8ff;border: 1px dotted black;border-radius: 0.25em;box-sizing: border-box;margin-bottom: 0.5em;}#sk-container-id-1 div.sk-estimator:hover {background-color: #d4ebff;}#sk-container-id-1 div.sk-parallel-item::after {content: \"\";width: 100%;border-bottom: 1px solid gray;flex-grow: 1;}#sk-container-id-1 div.sk-label:hover label.sk-toggleable__label {background-color: #d4ebff;}#sk-container-id-1 div.sk-serial::before {content: \"\";position: absolute;border-left: 1px solid gray;box-sizing: border-box;top: 0;bottom: 0;left: 50%;z-index: 0;}#sk-container-id-1 div.sk-serial {display: flex;flex-direction: column;align-items: center;background-color: white;padding-right: 0.2em;padding-left: 0.2em;position: relative;}#sk-container-id-1 div.sk-item {position: relative;z-index: 1;}#sk-container-id-1 div.sk-parallel {display: flex;align-items: stretch;justify-content: center;background-color: white;position: relative;}#sk-container-id-1 div.sk-item::before, #sk-container-id-1 div.sk-parallel-item::before {content: \"\";position: absolute;border-left: 1px solid gray;box-sizing: border-box;top: 0;bottom: 0;left: 50%;z-index: -1;}#sk-container-id-1 div.sk-parallel-item {display: flex;flex-direction: column;z-index: 1;position: relative;background-color: white;}#sk-container-id-1 div.sk-parallel-item:first-child::after {align-self: flex-end;width: 50%;}#sk-container-id-1 div.sk-parallel-item:last-child::after {align-self: flex-start;width: 50%;}#sk-container-id-1 div.sk-parallel-item:only-child::after {width: 0;}#sk-container-id-1 div.sk-dashed-wrapped {border: 1px dashed gray;margin: 0 0.4em 0.5em 0.4em;box-sizing: border-box;padding-bottom: 0.4em;background-color: white;}#sk-container-id-1 div.sk-label label {font-family: monospace;font-weight: bold;display: inline-block;line-height: 1.2em;}#sk-container-id-1 div.sk-label-container {text-align: center;}#sk-container-id-1 div.sk-container {/* jupyter's `normalize.less` sets `[hidden] { display: none; }` but bootstrap.min.css set `[hidden] { display: none !important; }` so we also need the `!important` here to be able to override the default hidden behavior on the sphinx rendered scikit-learn.org. See: https://github.com/scikit-learn/scikit-learn/issues/21755 */display: inline-block !important;position: relative;}#sk-container-id-1 div.sk-text-repr-fallback {display: none;}</style><div id=\"sk-container-id-1\" class=\"sk-top-container\"><div class=\"sk-text-repr-fallback\"><pre>OrdinalEncoder()</pre><b>In a Jupyter environment, please rerun this cell to show the HTML representation or trust the notebook. <br />On GitHub, the HTML representation is unable to render, please try loading this page with nbviewer.org.</b></div><div class=\"sk-container\" hidden><div class=\"sk-item\"><div class=\"sk-estimator sk-toggleable\"><input class=\"sk-toggleable__control sk-hidden--visually\" id=\"sk-estimator-id-1\" type=\"checkbox\" checked><label for=\"sk-estimator-id-1\" class=\"sk-toggleable__label sk-toggleable__label-arrow\">OrdinalEncoder</label><div class=\"sk-toggleable__content\"><pre>OrdinalEncoder()</pre></div></div></div></div></div>"
      ],
      "text/plain": [
       "OrdinalEncoder()"
      ]
     },
     "execution_count": 36,
     "metadata": {},
     "output_type": "execute_result"
    }
   ],
   "source": [
    "enc1.fit(data)"
   ]
  },
  {
   "cell_type": "code",
   "execution_count": 37,
   "metadata": {},
   "outputs": [],
   "source": [
    "data = pd.DataFrame(enc1.transform(data), columns = data.columns)"
   ]
  },
  {
   "cell_type": "code",
   "execution_count": 38,
   "metadata": {},
   "outputs": [
    {
     "data": {
      "text/html": [
       "<div>\n",
       "<style scoped>\n",
       "    .dataframe tbody tr th:only-of-type {\n",
       "        vertical-align: middle;\n",
       "    }\n",
       "\n",
       "    .dataframe tbody tr th {\n",
       "        vertical-align: top;\n",
       "    }\n",
       "\n",
       "    .dataframe thead th {\n",
       "        text-align: right;\n",
       "    }\n",
       "</style>\n",
       "<table border=\"1\" class=\"dataframe\">\n",
       "  <thead>\n",
       "    <tr style=\"text-align: right;\">\n",
       "      <th></th>\n",
       "      <th>OUTLOOK</th>\n",
       "      <th>TEMPERATURE</th>\n",
       "      <th>HUMIDITY</th>\n",
       "      <th>WINDY</th>\n",
       "    </tr>\n",
       "  </thead>\n",
       "  <tbody>\n",
       "    <tr>\n",
       "      <th>0</th>\n",
       "      <td>2.0</td>\n",
       "      <td>1.0</td>\n",
       "      <td>0.0</td>\n",
       "      <td>0.0</td>\n",
       "    </tr>\n",
       "    <tr>\n",
       "      <th>1</th>\n",
       "      <td>2.0</td>\n",
       "      <td>1.0</td>\n",
       "      <td>0.0</td>\n",
       "      <td>1.0</td>\n",
       "    </tr>\n",
       "    <tr>\n",
       "      <th>2</th>\n",
       "      <td>0.0</td>\n",
       "      <td>1.0</td>\n",
       "      <td>0.0</td>\n",
       "      <td>0.0</td>\n",
       "    </tr>\n",
       "    <tr>\n",
       "      <th>3</th>\n",
       "      <td>1.0</td>\n",
       "      <td>2.0</td>\n",
       "      <td>0.0</td>\n",
       "      <td>0.0</td>\n",
       "    </tr>\n",
       "    <tr>\n",
       "      <th>4</th>\n",
       "      <td>1.0</td>\n",
       "      <td>0.0</td>\n",
       "      <td>1.0</td>\n",
       "      <td>0.0</td>\n",
       "    </tr>\n",
       "    <tr>\n",
       "      <th>5</th>\n",
       "      <td>1.0</td>\n",
       "      <td>0.0</td>\n",
       "      <td>1.0</td>\n",
       "      <td>1.0</td>\n",
       "    </tr>\n",
       "    <tr>\n",
       "      <th>6</th>\n",
       "      <td>0.0</td>\n",
       "      <td>0.0</td>\n",
       "      <td>1.0</td>\n",
       "      <td>1.0</td>\n",
       "    </tr>\n",
       "    <tr>\n",
       "      <th>7</th>\n",
       "      <td>2.0</td>\n",
       "      <td>2.0</td>\n",
       "      <td>0.0</td>\n",
       "      <td>0.0</td>\n",
       "    </tr>\n",
       "    <tr>\n",
       "      <th>8</th>\n",
       "      <td>2.0</td>\n",
       "      <td>0.0</td>\n",
       "      <td>1.0</td>\n",
       "      <td>0.0</td>\n",
       "    </tr>\n",
       "    <tr>\n",
       "      <th>9</th>\n",
       "      <td>0.0</td>\n",
       "      <td>2.0</td>\n",
       "      <td>1.0</td>\n",
       "      <td>0.0</td>\n",
       "    </tr>\n",
       "    <tr>\n",
       "      <th>10</th>\n",
       "      <td>2.0</td>\n",
       "      <td>2.0</td>\n",
       "      <td>1.0</td>\n",
       "      <td>1.0</td>\n",
       "    </tr>\n",
       "    <tr>\n",
       "      <th>11</th>\n",
       "      <td>0.0</td>\n",
       "      <td>2.0</td>\n",
       "      <td>0.0</td>\n",
       "      <td>1.0</td>\n",
       "    </tr>\n",
       "    <tr>\n",
       "      <th>12</th>\n",
       "      <td>0.0</td>\n",
       "      <td>1.0</td>\n",
       "      <td>1.0</td>\n",
       "      <td>0.0</td>\n",
       "    </tr>\n",
       "    <tr>\n",
       "      <th>13</th>\n",
       "      <td>1.0</td>\n",
       "      <td>2.0</td>\n",
       "      <td>0.0</td>\n",
       "      <td>1.0</td>\n",
       "    </tr>\n",
       "  </tbody>\n",
       "</table>\n",
       "</div>"
      ],
      "text/plain": [
       "    OUTLOOK  TEMPERATURE  HUMIDITY  WINDY\n",
       "0       2.0          1.0       0.0    0.0\n",
       "1       2.0          1.0       0.0    1.0\n",
       "2       0.0          1.0       0.0    0.0\n",
       "3       1.0          2.0       0.0    0.0\n",
       "4       1.0          0.0       1.0    0.0\n",
       "5       1.0          0.0       1.0    1.0\n",
       "6       0.0          0.0       1.0    1.0\n",
       "7       2.0          2.0       0.0    0.0\n",
       "8       2.0          0.0       1.0    0.0\n",
       "9       0.0          2.0       1.0    0.0\n",
       "10      2.0          2.0       1.0    1.0\n",
       "11      0.0          2.0       0.0    1.0\n",
       "12      0.0          1.0       1.0    0.0\n",
       "13      1.0          2.0       0.0    1.0"
      ]
     },
     "execution_count": 38,
     "metadata": {},
     "output_type": "execute_result"
    }
   ],
   "source": [
    "data"
   ]
  },
  {
   "cell_type": "code",
   "execution_count": 39,
   "metadata": {},
   "outputs": [],
   "source": [
    "target = enc2.fit_transform(target)"
   ]
  },
  {
   "cell_type": "code",
   "execution_count": 40,
   "metadata": {},
   "outputs": [
    {
     "data": {
      "text/plain": [
       "array([[0.],\n",
       "       [0.],\n",
       "       [1.],\n",
       "       [1.],\n",
       "       [1.],\n",
       "       [0.],\n",
       "       [1.],\n",
       "       [0.],\n",
       "       [1.],\n",
       "       [1.],\n",
       "       [1.],\n",
       "       [1.],\n",
       "       [1.],\n",
       "       [0.]])"
      ]
     },
     "execution_count": 40,
     "metadata": {},
     "output_type": "execute_result"
    }
   ],
   "source": [
    "target"
   ]
  },
  {
   "cell_type": "markdown",
   "metadata": {},
   "source": [
    "__`Step 5:`__ Split the dataset into X_train, X_val, y_train and y_val, defining `test_size` as 0.25 , `random_state` equal to 5 and `stratify` by the target."
   ]
  },
  {
   "cell_type": "code",
   "execution_count": 41,
   "metadata": {},
   "outputs": [],
   "source": [
    "X_train, X_val, y_train, y_val = train_test_split(data, target, test_size=0.25, random_state=5, stratify=target)"
   ]
  },
  {
   "cell_type": "markdown",
   "metadata": {},
   "source": [
    "__`Step 6:`__ Using CategoricalNB, create a Naive Bayes classifier instance called modelNB2."
   ]
  },
  {
   "cell_type": "code",
   "execution_count": 42,
   "metadata": {},
   "outputs": [],
   "source": [
    "modelCNB = CategoricalNB()"
   ]
  },
  {
   "cell_type": "markdown",
   "metadata": {},
   "source": [
    "### Methods in CategoricalNB"
   ]
  },
  {
   "cell_type": "markdown",
   "metadata": {},
   "source": [
    "__`Step 7:`__ Use the `.fit()`method of model to fit the model to the array of points `X_train` and `y_train`,i.e., associate the argument keyword `X` to `X_train` and `y` to `y_train`."
   ]
  },
  {
   "cell_type": "code",
   "execution_count": 43,
   "metadata": {},
   "outputs": [
    {
     "data": {
      "text/html": [
       "<style>#sk-container-id-2 {color: black;}#sk-container-id-2 pre{padding: 0;}#sk-container-id-2 div.sk-toggleable {background-color: white;}#sk-container-id-2 label.sk-toggleable__label {cursor: pointer;display: block;width: 100%;margin-bottom: 0;padding: 0.3em;box-sizing: border-box;text-align: center;}#sk-container-id-2 label.sk-toggleable__label-arrow:before {content: \"▸\";float: left;margin-right: 0.25em;color: #696969;}#sk-container-id-2 label.sk-toggleable__label-arrow:hover:before {color: black;}#sk-container-id-2 div.sk-estimator:hover label.sk-toggleable__label-arrow:before {color: black;}#sk-container-id-2 div.sk-toggleable__content {max-height: 0;max-width: 0;overflow: hidden;text-align: left;background-color: #f0f8ff;}#sk-container-id-2 div.sk-toggleable__content pre {margin: 0.2em;color: black;border-radius: 0.25em;background-color: #f0f8ff;}#sk-container-id-2 input.sk-toggleable__control:checked~div.sk-toggleable__content {max-height: 200px;max-width: 100%;overflow: auto;}#sk-container-id-2 input.sk-toggleable__control:checked~label.sk-toggleable__label-arrow:before {content: \"▾\";}#sk-container-id-2 div.sk-estimator input.sk-toggleable__control:checked~label.sk-toggleable__label {background-color: #d4ebff;}#sk-container-id-2 div.sk-label input.sk-toggleable__control:checked~label.sk-toggleable__label {background-color: #d4ebff;}#sk-container-id-2 input.sk-hidden--visually {border: 0;clip: rect(1px 1px 1px 1px);clip: rect(1px, 1px, 1px, 1px);height: 1px;margin: -1px;overflow: hidden;padding: 0;position: absolute;width: 1px;}#sk-container-id-2 div.sk-estimator {font-family: monospace;background-color: #f0f8ff;border: 1px dotted black;border-radius: 0.25em;box-sizing: border-box;margin-bottom: 0.5em;}#sk-container-id-2 div.sk-estimator:hover {background-color: #d4ebff;}#sk-container-id-2 div.sk-parallel-item::after {content: \"\";width: 100%;border-bottom: 1px solid gray;flex-grow: 1;}#sk-container-id-2 div.sk-label:hover label.sk-toggleable__label {background-color: #d4ebff;}#sk-container-id-2 div.sk-serial::before {content: \"\";position: absolute;border-left: 1px solid gray;box-sizing: border-box;top: 0;bottom: 0;left: 50%;z-index: 0;}#sk-container-id-2 div.sk-serial {display: flex;flex-direction: column;align-items: center;background-color: white;padding-right: 0.2em;padding-left: 0.2em;position: relative;}#sk-container-id-2 div.sk-item {position: relative;z-index: 1;}#sk-container-id-2 div.sk-parallel {display: flex;align-items: stretch;justify-content: center;background-color: white;position: relative;}#sk-container-id-2 div.sk-item::before, #sk-container-id-2 div.sk-parallel-item::before {content: \"\";position: absolute;border-left: 1px solid gray;box-sizing: border-box;top: 0;bottom: 0;left: 50%;z-index: -1;}#sk-container-id-2 div.sk-parallel-item {display: flex;flex-direction: column;z-index: 1;position: relative;background-color: white;}#sk-container-id-2 div.sk-parallel-item:first-child::after {align-self: flex-end;width: 50%;}#sk-container-id-2 div.sk-parallel-item:last-child::after {align-self: flex-start;width: 50%;}#sk-container-id-2 div.sk-parallel-item:only-child::after {width: 0;}#sk-container-id-2 div.sk-dashed-wrapped {border: 1px dashed gray;margin: 0 0.4em 0.5em 0.4em;box-sizing: border-box;padding-bottom: 0.4em;background-color: white;}#sk-container-id-2 div.sk-label label {font-family: monospace;font-weight: bold;display: inline-block;line-height: 1.2em;}#sk-container-id-2 div.sk-label-container {text-align: center;}#sk-container-id-2 div.sk-container {/* jupyter's `normalize.less` sets `[hidden] { display: none; }` but bootstrap.min.css set `[hidden] { display: none !important; }` so we also need the `!important` here to be able to override the default hidden behavior on the sphinx rendered scikit-learn.org. See: https://github.com/scikit-learn/scikit-learn/issues/21755 */display: inline-block !important;position: relative;}#sk-container-id-2 div.sk-text-repr-fallback {display: none;}</style><div id=\"sk-container-id-2\" class=\"sk-top-container\"><div class=\"sk-text-repr-fallback\"><pre>CategoricalNB()</pre><b>In a Jupyter environment, please rerun this cell to show the HTML representation or trust the notebook. <br />On GitHub, the HTML representation is unable to render, please try loading this page with nbviewer.org.</b></div><div class=\"sk-container\" hidden><div class=\"sk-item\"><div class=\"sk-estimator sk-toggleable\"><input class=\"sk-toggleable__control sk-hidden--visually\" id=\"sk-estimator-id-2\" type=\"checkbox\" checked><label for=\"sk-estimator-id-2\" class=\"sk-toggleable__label sk-toggleable__label-arrow\">CategoricalNB</label><div class=\"sk-toggleable__content\"><pre>CategoricalNB()</pre></div></div></div></div></div>"
      ],
      "text/plain": [
       "CategoricalNB()"
      ]
     },
     "execution_count": 43,
     "metadata": {},
     "output_type": "execute_result"
    }
   ],
   "source": [
    "#CODE HERE\n",
    "modelCNB.fit(X_train, y_train)"
   ]
  },
  {
   "cell_type": "code",
   "execution_count": 44,
   "metadata": {},
   "outputs": [
    {
     "data": {
      "text/plain": [
       "(10, 1)"
      ]
     },
     "execution_count": 44,
     "metadata": {},
     "output_type": "execute_result"
    }
   ],
   "source": [
    "y_train.shape"
   ]
  },
  {
   "cell_type": "markdown",
   "metadata": {},
   "source": [
    "__`Step 8:`__ Use the `.predict()` method to perform classification in `X_train` and assign to the object `labels_train`. Do the same for `X_val` and assign to the object `labels_val`."
   ]
  },
  {
   "cell_type": "code",
   "execution_count": 45,
   "metadata": {},
   "outputs": [],
   "source": [
    "labels_train = modelCNB.predict(X_train)\n",
    "labels_val = modelCNB.predict(X_val)"
   ]
  },
  {
   "cell_type": "code",
   "execution_count": 48,
   "metadata": {},
   "outputs": [
    {
     "data": {
      "text/plain": [
       "array([0., 1., 0., 1.])"
      ]
     },
     "execution_count": 48,
     "metadata": {},
     "output_type": "execute_result"
    }
   ],
   "source": []
  },
  {
   "cell_type": "markdown",
   "metadata": {},
   "source": [
    "__`Step 9:`__ Use the `.predict_proba()` method to obtain the probability estimates for the `X_val`"
   ]
  },
  {
   "cell_type": "code",
   "execution_count": 46,
   "metadata": {},
   "outputs": [
    {
     "data": {
      "text/plain": [
       "array([[0.61049285, 0.38950715],\n",
       "       [0.31982232, 0.68017768],\n",
       "       [0.61049285, 0.38950715],\n",
       "       [0.46545455, 0.53454545]])"
      ]
     },
     "execution_count": 46,
     "metadata": {},
     "output_type": "execute_result"
    }
   ],
   "source": [
    "modelCNB.predict_proba(X_val)"
   ]
  },
  {
   "cell_type": "markdown",
   "metadata": {},
   "source": [
    "__`Step 10:`__ Use the `.score()` method of modelNB to obtain the mean accuracy of the given train data `X_train` and the true labels for X, `y_train`"
   ]
  },
  {
   "cell_type": "code",
   "execution_count": 50,
   "metadata": {},
   "outputs": [
    {
     "data": {
      "text/plain": [
       "0.9"
      ]
     },
     "execution_count": 50,
     "metadata": {},
     "output_type": "execute_result"
    }
   ],
   "source": [
    "modelCNB.score(X_train, y_train)"
   ]
  },
  {
   "cell_type": "markdown",
   "metadata": {},
   "source": [
    "__`Step 11:`__ Use the `.score()` method of modelNB to obtain the mean accuracy of the given test data `X_val` and the true labels for X, `y_val`"
   ]
  },
  {
   "cell_type": "code",
   "execution_count": 52,
   "metadata": {},
   "outputs": [
    {
     "data": {
      "text/plain": [
       "0.75"
      ]
     },
     "execution_count": 52,
     "metadata": {},
     "output_type": "execute_result"
    }
   ],
   "source": [
    "modelCNB.score(X_val, y_val)"
   ]
  },
  {
   "cell_type": "markdown",
   "metadata": {},
   "source": [
    "__`Step 12:`__ Make prediction for today!"
   ]
  },
  {
   "cell_type": "code",
   "execution_count": 53,
   "metadata": {},
   "outputs": [],
   "source": [
    "today = (['Sunny', 'Cool', 'High', 'True'])"
   ]
  },
  {
   "cell_type": "code",
   "execution_count": 54,
   "metadata": {},
   "outputs": [
    {
     "data": {
      "text/plain": [
       "['Sunny', 'Cool', 'High', 'True']"
      ]
     },
     "execution_count": 54,
     "metadata": {},
     "output_type": "execute_result"
    }
   ],
   "source": [
    "today"
   ]
  },
  {
   "cell_type": "markdown",
   "metadata": {},
   "source": [
    "__`Step 13:`__ Transform the data with the encoder"
   ]
  },
  {
   "cell_type": "code",
   "execution_count": 55,
   "metadata": {},
   "outputs": [],
   "source": [
    "today = enc1.transform([today])"
   ]
  },
  {
   "cell_type": "code",
   "execution_count": 56,
   "metadata": {},
   "outputs": [
    {
     "data": {
      "text/plain": [
       "array([[2., 0., 0., 1.]])"
      ]
     },
     "execution_count": 56,
     "metadata": {},
     "output_type": "execute_result"
    }
   ],
   "source": [
    "today"
   ]
  },
  {
   "cell_type": "markdown",
   "metadata": {},
   "source": [
    "__`Step 13.1:`__ Make the prediction for the encoded datapoint"
   ]
  },
  {
   "cell_type": "code",
   "execution_count": 57,
   "metadata": {},
   "outputs": [],
   "source": [
    "result = modelCNB.predict(today)"
   ]
  },
  {
   "cell_type": "code",
   "execution_count": 58,
   "metadata": {},
   "outputs": [
    {
     "data": {
      "text/plain": [
       "array([0.])"
      ]
     },
     "execution_count": 58,
     "metadata": {},
     "output_type": "execute_result"
    }
   ],
   "source": [
    "result"
   ]
  },
  {
   "cell_type": "markdown",
   "metadata": {},
   "source": [
    "__`Step 13.2:`__ Reverse the encoding to understand the result"
   ]
  },
  {
   "cell_type": "code",
   "execution_count": 61,
   "metadata": {},
   "outputs": [
    {
     "data": {
      "text/plain": [
       "array([['No']], dtype=object)"
      ]
     },
     "execution_count": 61,
     "metadata": {},
     "output_type": "execute_result"
    }
   ],
   "source": [
    "enc2.inverse_transform([result])"
   ]
  },
  {
   "cell_type": "markdown",
   "metadata": {},
   "source": [
    "<a class=\"anchor\" id=\"company\">\n",
    "\n",
    "## Tugas Dataset\n",
    "</a>\n",
    "\n",
    "Tugas is a online Portuguese retailer offering an assortment of goods within 5 major categories: \n",
    "\n",
    "1. Clothes\n",
    "2. Housekeeping\n",
    "3. Kitchen\n",
    "4. Small appliances\n",
    "5. Toys\n",
    "\n",
    "Tugas started a loyalty program 2 years ago. Among other objectives, the program’s aim is to gather Customer information to better drive the marketing efforts."
   ]
  },
  {
   "cell_type": "markdown",
   "metadata": {},
   "source": [
    "Below is the description of the data. Note that `Education`and `Marital_Status`are categorical variables that have been transformed into dummys.<br>"
   ]
  },
  {
   "cell_type": "markdown",
   "metadata": {},
   "source": [
    "<img src=\"image\\variables.png\" style=\"height:450px\">\n",
    "<hr>"
   ]
  },
  {
   "cell_type": "markdown",
   "metadata": {},
   "source": [
    "### 1. Import the data"
   ]
  },
  {
   "cell_type": "markdown",
   "metadata": {},
   "source": [
    "__`Step 1:`__ Import Tugas Dataset (don't forget to import pandas to read the excel file)."
   ]
  },
  {
   "cell_type": "code",
   "execution_count": 62,
   "metadata": {},
   "outputs": [],
   "source": [
    "df_tugas = pd.read_excel('tugas_dataset.xlsx')"
   ]
  },
  {
   "cell_type": "markdown",
   "metadata": {},
   "source": [
    "### 2. Explore the data"
   ]
  },
  {
   "cell_type": "markdown",
   "metadata": {},
   "source": [
    "__`Step 2:`__ It is time to explore and understand the data we have."
   ]
  },
  {
   "cell_type": "markdown",
   "metadata": {},
   "source": [
    "__`Step 2.1:`__ Check the first five rows of the dataset `tugas_dataset` using the method `.head()`."
   ]
  },
  {
   "cell_type": "code",
   "execution_count": 63,
   "metadata": {},
   "outputs": [
    {
     "data": {
      "text/html": [
       "<div>\n",
       "<style scoped>\n",
       "    .dataframe tbody tr th:only-of-type {\n",
       "        vertical-align: middle;\n",
       "    }\n",
       "\n",
       "    .dataframe tbody tr th {\n",
       "        vertical-align: top;\n",
       "    }\n",
       "\n",
       "    .dataframe thead th {\n",
       "        text-align: right;\n",
       "    }\n",
       "</style>\n",
       "<table border=\"1\" class=\"dataframe\">\n",
       "  <thead>\n",
       "    <tr style=\"text-align: right;\">\n",
       "      <th></th>\n",
       "      <th>Custid</th>\n",
       "      <th>Year_Birth</th>\n",
       "      <th>Gender_M</th>\n",
       "      <th>Marital_Status_Divorced</th>\n",
       "      <th>Marital_Status_Married</th>\n",
       "      <th>Marital_Status_Together</th>\n",
       "      <th>Marital_Status_Widow</th>\n",
       "      <th>Dependents</th>\n",
       "      <th>Income</th>\n",
       "      <th>Rcn</th>\n",
       "      <th>...</th>\n",
       "      <th>HouseKeeping</th>\n",
       "      <th>Toys</th>\n",
       "      <th>NetPurchase</th>\n",
       "      <th>CatPurchase</th>\n",
       "      <th>Recomendation</th>\n",
       "      <th>Education_Basic</th>\n",
       "      <th>Education_Graduation</th>\n",
       "      <th>Education_Master</th>\n",
       "      <th>Education_PhD</th>\n",
       "      <th>DepVar</th>\n",
       "    </tr>\n",
       "  </thead>\n",
       "  <tbody>\n",
       "    <tr>\n",
       "      <th>0</th>\n",
       "      <td>1003</td>\n",
       "      <td>1991</td>\n",
       "      <td>1</td>\n",
       "      <td>0</td>\n",
       "      <td>1</td>\n",
       "      <td>0</td>\n",
       "      <td>0</td>\n",
       "      <td>1</td>\n",
       "      <td>29761.20</td>\n",
       "      <td>69</td>\n",
       "      <td>...</td>\n",
       "      <td>1</td>\n",
       "      <td>24</td>\n",
       "      <td>59</td>\n",
       "      <td>41</td>\n",
       "      <td>3</td>\n",
       "      <td>0</td>\n",
       "      <td>1</td>\n",
       "      <td>0</td>\n",
       "      <td>0</td>\n",
       "      <td>0</td>\n",
       "    </tr>\n",
       "    <tr>\n",
       "      <th>1</th>\n",
       "      <td>1004</td>\n",
       "      <td>1956</td>\n",
       "      <td>1</td>\n",
       "      <td>0</td>\n",
       "      <td>1</td>\n",
       "      <td>0</td>\n",
       "      <td>0</td>\n",
       "      <td>1</td>\n",
       "      <td>98249.55</td>\n",
       "      <td>10</td>\n",
       "      <td>...</td>\n",
       "      <td>6</td>\n",
       "      <td>5</td>\n",
       "      <td>35</td>\n",
       "      <td>65</td>\n",
       "      <td>5</td>\n",
       "      <td>0</td>\n",
       "      <td>0</td>\n",
       "      <td>1</td>\n",
       "      <td>0</td>\n",
       "      <td>0</td>\n",
       "    </tr>\n",
       "    <tr>\n",
       "      <th>2</th>\n",
       "      <td>1006</td>\n",
       "      <td>1983</td>\n",
       "      <td>0</td>\n",
       "      <td>0</td>\n",
       "      <td>0</td>\n",
       "      <td>1</td>\n",
       "      <td>0</td>\n",
       "      <td>1</td>\n",
       "      <td>23505.30</td>\n",
       "      <td>65</td>\n",
       "      <td>...</td>\n",
       "      <td>2</td>\n",
       "      <td>1</td>\n",
       "      <td>67</td>\n",
       "      <td>33</td>\n",
       "      <td>4</td>\n",
       "      <td>0</td>\n",
       "      <td>0</td>\n",
       "      <td>0</td>\n",
       "      <td>1</td>\n",
       "      <td>0</td>\n",
       "    </tr>\n",
       "    <tr>\n",
       "      <th>3</th>\n",
       "      <td>1007</td>\n",
       "      <td>1970</td>\n",
       "      <td>0</td>\n",
       "      <td>0</td>\n",
       "      <td>0</td>\n",
       "      <td>0</td>\n",
       "      <td>0</td>\n",
       "      <td>1</td>\n",
       "      <td>72959.25</td>\n",
       "      <td>73</td>\n",
       "      <td>...</td>\n",
       "      <td>1</td>\n",
       "      <td>8</td>\n",
       "      <td>46</td>\n",
       "      <td>54</td>\n",
       "      <td>4</td>\n",
       "      <td>0</td>\n",
       "      <td>1</td>\n",
       "      <td>0</td>\n",
       "      <td>0</td>\n",
       "      <td>0</td>\n",
       "    </tr>\n",
       "    <tr>\n",
       "      <th>4</th>\n",
       "      <td>1009</td>\n",
       "      <td>1941</td>\n",
       "      <td>0</td>\n",
       "      <td>0</td>\n",
       "      <td>1</td>\n",
       "      <td>0</td>\n",
       "      <td>0</td>\n",
       "      <td>0</td>\n",
       "      <td>114973.95</td>\n",
       "      <td>75</td>\n",
       "      <td>...</td>\n",
       "      <td>9</td>\n",
       "      <td>9</td>\n",
       "      <td>17</td>\n",
       "      <td>83</td>\n",
       "      <td>5</td>\n",
       "      <td>0</td>\n",
       "      <td>1</td>\n",
       "      <td>0</td>\n",
       "      <td>0</td>\n",
       "      <td>0</td>\n",
       "    </tr>\n",
       "    <tr>\n",
       "      <th>...</th>\n",
       "      <td>...</td>\n",
       "      <td>...</td>\n",
       "      <td>...</td>\n",
       "      <td>...</td>\n",
       "      <td>...</td>\n",
       "      <td>...</td>\n",
       "      <td>...</td>\n",
       "      <td>...</td>\n",
       "      <td>...</td>\n",
       "      <td>...</td>\n",
       "      <td>...</td>\n",
       "      <td>...</td>\n",
       "      <td>...</td>\n",
       "      <td>...</td>\n",
       "      <td>...</td>\n",
       "      <td>...</td>\n",
       "      <td>...</td>\n",
       "      <td>...</td>\n",
       "      <td>...</td>\n",
       "      <td>...</td>\n",
       "      <td>...</td>\n",
       "    </tr>\n",
       "    <tr>\n",
       "      <th>2495</th>\n",
       "      <td>10989</td>\n",
       "      <td>1996</td>\n",
       "      <td>0</td>\n",
       "      <td>0</td>\n",
       "      <td>0</td>\n",
       "      <td>0</td>\n",
       "      <td>0</td>\n",
       "      <td>1</td>\n",
       "      <td>29551.20</td>\n",
       "      <td>41</td>\n",
       "      <td>...</td>\n",
       "      <td>22</td>\n",
       "      <td>2</td>\n",
       "      <td>59</td>\n",
       "      <td>41</td>\n",
       "      <td>3</td>\n",
       "      <td>1</td>\n",
       "      <td>0</td>\n",
       "      <td>0</td>\n",
       "      <td>0</td>\n",
       "      <td>0</td>\n",
       "    </tr>\n",
       "    <tr>\n",
       "      <th>2496</th>\n",
       "      <td>10991</td>\n",
       "      <td>1940</td>\n",
       "      <td>0</td>\n",
       "      <td>0</td>\n",
       "      <td>1</td>\n",
       "      <td>0</td>\n",
       "      <td>0</td>\n",
       "      <td>0</td>\n",
       "      <td>132566.70</td>\n",
       "      <td>36</td>\n",
       "      <td>...</td>\n",
       "      <td>9</td>\n",
       "      <td>8</td>\n",
       "      <td>22</td>\n",
       "      <td>78</td>\n",
       "      <td>6</td>\n",
       "      <td>0</td>\n",
       "      <td>1</td>\n",
       "      <td>0</td>\n",
       "      <td>0</td>\n",
       "      <td>0</td>\n",
       "    </tr>\n",
       "    <tr>\n",
       "      <th>2497</th>\n",
       "      <td>10993</td>\n",
       "      <td>1955</td>\n",
       "      <td>0</td>\n",
       "      <td>0</td>\n",
       "      <td>0</td>\n",
       "      <td>1</td>\n",
       "      <td>0</td>\n",
       "      <td>0</td>\n",
       "      <td>91768.95</td>\n",
       "      <td>1</td>\n",
       "      <td>...</td>\n",
       "      <td>8</td>\n",
       "      <td>1</td>\n",
       "      <td>47</td>\n",
       "      <td>53</td>\n",
       "      <td>4</td>\n",
       "      <td>0</td>\n",
       "      <td>1</td>\n",
       "      <td>0</td>\n",
       "      <td>0</td>\n",
       "      <td>0</td>\n",
       "    </tr>\n",
       "    <tr>\n",
       "      <th>2498</th>\n",
       "      <td>10994</td>\n",
       "      <td>1961</td>\n",
       "      <td>0</td>\n",
       "      <td>0</td>\n",
       "      <td>1</td>\n",
       "      <td>0</td>\n",
       "      <td>0</td>\n",
       "      <td>1</td>\n",
       "      <td>99085.35</td>\n",
       "      <td>1</td>\n",
       "      <td>...</td>\n",
       "      <td>3</td>\n",
       "      <td>4</td>\n",
       "      <td>55</td>\n",
       "      <td>45</td>\n",
       "      <td>5</td>\n",
       "      <td>1</td>\n",
       "      <td>0</td>\n",
       "      <td>0</td>\n",
       "      <td>0</td>\n",
       "      <td>0</td>\n",
       "    </tr>\n",
       "    <tr>\n",
       "      <th>2499</th>\n",
       "      <td>10997</td>\n",
       "      <td>1939</td>\n",
       "      <td>0</td>\n",
       "      <td>0</td>\n",
       "      <td>0</td>\n",
       "      <td>1</td>\n",
       "      <td>0</td>\n",
       "      <td>1</td>\n",
       "      <td>132260.10</td>\n",
       "      <td>75</td>\n",
       "      <td>...</td>\n",
       "      <td>5</td>\n",
       "      <td>6</td>\n",
       "      <td>45</td>\n",
       "      <td>55</td>\n",
       "      <td>5</td>\n",
       "      <td>0</td>\n",
       "      <td>0</td>\n",
       "      <td>0</td>\n",
       "      <td>0</td>\n",
       "      <td>0</td>\n",
       "    </tr>\n",
       "  </tbody>\n",
       "</table>\n",
       "<p>2500 rows × 25 columns</p>\n",
       "</div>"
      ],
      "text/plain": [
       "      Custid  Year_Birth  Gender_M  Marital_Status_Divorced  \\\n",
       "0       1003        1991         1                        0   \n",
       "1       1004        1956         1                        0   \n",
       "2       1006        1983         0                        0   \n",
       "3       1007        1970         0                        0   \n",
       "4       1009        1941         0                        0   \n",
       "...      ...         ...       ...                      ...   \n",
       "2495   10989        1996         0                        0   \n",
       "2496   10991        1940         0                        0   \n",
       "2497   10993        1955         0                        0   \n",
       "2498   10994        1961         0                        0   \n",
       "2499   10997        1939         0                        0   \n",
       "\n",
       "      Marital_Status_Married  Marital_Status_Together  Marital_Status_Widow  \\\n",
       "0                          1                        0                     0   \n",
       "1                          1                        0                     0   \n",
       "2                          0                        1                     0   \n",
       "3                          0                        0                     0   \n",
       "4                          1                        0                     0   \n",
       "...                      ...                      ...                   ...   \n",
       "2495                       0                        0                     0   \n",
       "2496                       1                        0                     0   \n",
       "2497                       0                        1                     0   \n",
       "2498                       1                        0                     0   \n",
       "2499                       0                        1                     0   \n",
       "\n",
       "      Dependents     Income  Rcn  ...  HouseKeeping  Toys  NetPurchase  \\\n",
       "0              1   29761.20   69  ...             1    24           59   \n",
       "1              1   98249.55   10  ...             6     5           35   \n",
       "2              1   23505.30   65  ...             2     1           67   \n",
       "3              1   72959.25   73  ...             1     8           46   \n",
       "4              0  114973.95   75  ...             9     9           17   \n",
       "...          ...        ...  ...  ...           ...   ...          ...   \n",
       "2495           1   29551.20   41  ...            22     2           59   \n",
       "2496           0  132566.70   36  ...             9     8           22   \n",
       "2497           0   91768.95    1  ...             8     1           47   \n",
       "2498           1   99085.35    1  ...             3     4           55   \n",
       "2499           1  132260.10   75  ...             5     6           45   \n",
       "\n",
       "      CatPurchase  Recomendation  Education_Basic  Education_Graduation  \\\n",
       "0              41              3                0                     1   \n",
       "1              65              5                0                     0   \n",
       "2              33              4                0                     0   \n",
       "3              54              4                0                     1   \n",
       "4              83              5                0                     1   \n",
       "...           ...            ...              ...                   ...   \n",
       "2495           41              3                1                     0   \n",
       "2496           78              6                0                     1   \n",
       "2497           53              4                0                     1   \n",
       "2498           45              5                1                     0   \n",
       "2499           55              5                0                     0   \n",
       "\n",
       "      Education_Master  Education_PhD  DepVar  \n",
       "0                    0              0       0  \n",
       "1                    1              0       0  \n",
       "2                    0              1       0  \n",
       "3                    0              0       0  \n",
       "4                    0              0       0  \n",
       "...                ...            ...     ...  \n",
       "2495                 0              0       0  \n",
       "2496                 0              0       0  \n",
       "2497                 0              0       0  \n",
       "2498                 0              0       0  \n",
       "2499                 0              0       0  \n",
       "\n",
       "[2500 rows x 25 columns]"
      ]
     },
     "execution_count": 63,
     "metadata": {},
     "output_type": "execute_result"
    }
   ],
   "source": [
    "df_tugas"
   ]
  },
  {
   "cell_type": "markdown",
   "metadata": {},
   "source": [
    "__`Step 2.2:`__ Using the method `.info()`, check the data types of the variables of `tugas_dataset` and if there are any missing values."
   ]
  },
  {
   "cell_type": "code",
   "execution_count": 64,
   "metadata": {},
   "outputs": [
    {
     "name": "stdout",
     "output_type": "stream",
     "text": [
      "<class 'pandas.core.frame.DataFrame'>\n",
      "RangeIndex: 2500 entries, 0 to 2499\n",
      "Data columns (total 25 columns):\n",
      " #   Column                   Non-Null Count  Dtype  \n",
      "---  ------                   --------------  -----  \n",
      " 0   Custid                   2500 non-null   int64  \n",
      " 1   Year_Birth               2500 non-null   int64  \n",
      " 2   Gender_M                 2500 non-null   int64  \n",
      " 3   Marital_Status_Divorced  2500 non-null   int64  \n",
      " 4   Marital_Status_Married   2500 non-null   int64  \n",
      " 5   Marital_Status_Together  2500 non-null   int64  \n",
      " 6   Marital_Status_Widow     2500 non-null   int64  \n",
      " 7   Dependents               2500 non-null   int64  \n",
      " 8   Income                   2431 non-null   float64\n",
      " 9   Rcn                      2500 non-null   int64  \n",
      " 10  Frq                      2500 non-null   int64  \n",
      " 11  Mnt                      2500 non-null   float64\n",
      " 12  Clothes                  2500 non-null   int64  \n",
      " 13  Kitchen                  2500 non-null   int64  \n",
      " 14  SmallAppliances          2500 non-null   int64  \n",
      " 15  HouseKeeping             2500 non-null   int64  \n",
      " 16  Toys                     2500 non-null   int64  \n",
      " 17  NetPurchase              2500 non-null   int64  \n",
      " 18  CatPurchase              2500 non-null   int64  \n",
      " 19  Recomendation            2500 non-null   int64  \n",
      " 20  Education_Basic          2500 non-null   int64  \n",
      " 21  Education_Graduation     2500 non-null   int64  \n",
      " 22  Education_Master         2500 non-null   int64  \n",
      " 23  Education_PhD            2500 non-null   int64  \n",
      " 24  DepVar                   2500 non-null   int64  \n",
      "dtypes: float64(2), int64(23)\n",
      "memory usage: 488.4 KB\n"
     ]
    }
   ],
   "source": [
    "df_tugas.info()"
   ]
  },
  {
   "cell_type": "markdown",
   "metadata": {},
   "source": [
    "__`Step 2.3:`__ Get the main descriptive statistics for all the variables in `tugas_dataset` using the method `.describe()`."
   ]
  },
  {
   "cell_type": "code",
   "execution_count": 65,
   "metadata": {},
   "outputs": [
    {
     "data": {
      "text/html": [
       "<div>\n",
       "<style scoped>\n",
       "    .dataframe tbody tr th:only-of-type {\n",
       "        vertical-align: middle;\n",
       "    }\n",
       "\n",
       "    .dataframe tbody tr th {\n",
       "        vertical-align: top;\n",
       "    }\n",
       "\n",
       "    .dataframe thead th {\n",
       "        text-align: right;\n",
       "    }\n",
       "</style>\n",
       "<table border=\"1\" class=\"dataframe\">\n",
       "  <thead>\n",
       "    <tr style=\"text-align: right;\">\n",
       "      <th></th>\n",
       "      <th>count</th>\n",
       "      <th>mean</th>\n",
       "      <th>std</th>\n",
       "      <th>min</th>\n",
       "      <th>25%</th>\n",
       "      <th>50%</th>\n",
       "      <th>75%</th>\n",
       "      <th>max</th>\n",
       "    </tr>\n",
       "  </thead>\n",
       "  <tbody>\n",
       "    <tr>\n",
       "      <th>Custid</th>\n",
       "      <td>2500.0</td>\n",
       "      <td>6029.178400</td>\n",
       "      <td>2911.943629</td>\n",
       "      <td>1003.00</td>\n",
       "      <td>3466.500</td>\n",
       "      <td>6028.50</td>\n",
       "      <td>8599.250</td>\n",
       "      <td>10997.00</td>\n",
       "    </tr>\n",
       "    <tr>\n",
       "      <th>Year_Birth</th>\n",
       "      <td>2500.0</td>\n",
       "      <td>1966.737200</td>\n",
       "      <td>17.046019</td>\n",
       "      <td>1937.00</td>\n",
       "      <td>1952.000</td>\n",
       "      <td>1966.00</td>\n",
       "      <td>1981.000</td>\n",
       "      <td>1997.00</td>\n",
       "    </tr>\n",
       "    <tr>\n",
       "      <th>Gender_M</th>\n",
       "      <td>2500.0</td>\n",
       "      <td>0.234000</td>\n",
       "      <td>0.423457</td>\n",
       "      <td>0.00</td>\n",
       "      <td>0.000</td>\n",
       "      <td>0.00</td>\n",
       "      <td>0.000</td>\n",
       "      <td>1.00</td>\n",
       "    </tr>\n",
       "    <tr>\n",
       "      <th>Marital_Status_Divorced</th>\n",
       "      <td>2500.0</td>\n",
       "      <td>0.092400</td>\n",
       "      <td>0.289648</td>\n",
       "      <td>0.00</td>\n",
       "      <td>0.000</td>\n",
       "      <td>0.00</td>\n",
       "      <td>0.000</td>\n",
       "      <td>1.00</td>\n",
       "    </tr>\n",
       "    <tr>\n",
       "      <th>Marital_Status_Married</th>\n",
       "      <td>2500.0</td>\n",
       "      <td>0.380800</td>\n",
       "      <td>0.485681</td>\n",
       "      <td>0.00</td>\n",
       "      <td>0.000</td>\n",
       "      <td>0.00</td>\n",
       "      <td>1.000</td>\n",
       "      <td>1.00</td>\n",
       "    </tr>\n",
       "    <tr>\n",
       "      <th>Marital_Status_Together</th>\n",
       "      <td>2500.0</td>\n",
       "      <td>0.242400</td>\n",
       "      <td>0.428621</td>\n",
       "      <td>0.00</td>\n",
       "      <td>0.000</td>\n",
       "      <td>0.00</td>\n",
       "      <td>0.000</td>\n",
       "      <td>1.00</td>\n",
       "    </tr>\n",
       "    <tr>\n",
       "      <th>Marital_Status_Widow</th>\n",
       "      <td>2500.0</td>\n",
       "      <td>0.046000</td>\n",
       "      <td>0.209527</td>\n",
       "      <td>0.00</td>\n",
       "      <td>0.000</td>\n",
       "      <td>0.00</td>\n",
       "      <td>0.000</td>\n",
       "      <td>1.00</td>\n",
       "    </tr>\n",
       "    <tr>\n",
       "      <th>Dependents</th>\n",
       "      <td>2500.0</td>\n",
       "      <td>0.701200</td>\n",
       "      <td>0.457824</td>\n",
       "      <td>0.00</td>\n",
       "      <td>0.000</td>\n",
       "      <td>1.00</td>\n",
       "      <td>1.000</td>\n",
       "      <td>1.00</td>\n",
       "    </tr>\n",
       "    <tr>\n",
       "      <th>Income</th>\n",
       "      <td>2431.0</td>\n",
       "      <td>74062.838873</td>\n",
       "      <td>28807.225833</td>\n",
       "      <td>10500.00</td>\n",
       "      <td>51013.725</td>\n",
       "      <td>74525.85</td>\n",
       "      <td>97300.875</td>\n",
       "      <td>144204.90</td>\n",
       "    </tr>\n",
       "    <tr>\n",
       "      <th>Rcn</th>\n",
       "      <td>2500.0</td>\n",
       "      <td>62.938400</td>\n",
       "      <td>69.643494</td>\n",
       "      <td>0.00</td>\n",
       "      <td>27.000</td>\n",
       "      <td>53.00</td>\n",
       "      <td>78.000</td>\n",
       "      <td>549.00</td>\n",
       "    </tr>\n",
       "    <tr>\n",
       "      <th>Frq</th>\n",
       "      <td>2500.0</td>\n",
       "      <td>19.989200</td>\n",
       "      <td>10.951249</td>\n",
       "      <td>3.00</td>\n",
       "      <td>11.000</td>\n",
       "      <td>18.00</td>\n",
       "      <td>28.000</td>\n",
       "      <td>58.00</td>\n",
       "    </tr>\n",
       "    <tr>\n",
       "      <th>Mnt</th>\n",
       "      <td>2500.0</td>\n",
       "      <td>654.829760</td>\n",
       "      <td>676.453079</td>\n",
       "      <td>8.32</td>\n",
       "      <td>66.560</td>\n",
       "      <td>401.96</td>\n",
       "      <td>1069.120</td>\n",
       "      <td>3055.52</td>\n",
       "    </tr>\n",
       "    <tr>\n",
       "      <th>Clothes</th>\n",
       "      <td>2500.0</td>\n",
       "      <td>50.982000</td>\n",
       "      <td>23.390283</td>\n",
       "      <td>2.00</td>\n",
       "      <td>33.000</td>\n",
       "      <td>51.00</td>\n",
       "      <td>70.000</td>\n",
       "      <td>98.00</td>\n",
       "    </tr>\n",
       "    <tr>\n",
       "      <th>Kitchen</th>\n",
       "      <td>2500.0</td>\n",
       "      <td>6.958800</td>\n",
       "      <td>7.836738</td>\n",
       "      <td>0.00</td>\n",
       "      <td>2.000</td>\n",
       "      <td>4.00</td>\n",
       "      <td>9.000</td>\n",
       "      <td>68.00</td>\n",
       "    </tr>\n",
       "    <tr>\n",
       "      <th>SmallAppliances</th>\n",
       "      <td>2500.0</td>\n",
       "      <td>28.233200</td>\n",
       "      <td>12.617674</td>\n",
       "      <td>2.00</td>\n",
       "      <td>19.000</td>\n",
       "      <td>27.00</td>\n",
       "      <td>37.000</td>\n",
       "      <td>69.00</td>\n",
       "    </tr>\n",
       "    <tr>\n",
       "      <th>HouseKeeping</th>\n",
       "      <td>2500.0</td>\n",
       "      <td>6.880800</td>\n",
       "      <td>7.633630</td>\n",
       "      <td>0.00</td>\n",
       "      <td>2.000</td>\n",
       "      <td>4.00</td>\n",
       "      <td>9.000</td>\n",
       "      <td>54.00</td>\n",
       "    </tr>\n",
       "    <tr>\n",
       "      <th>Toys</th>\n",
       "      <td>2500.0</td>\n",
       "      <td>6.929200</td>\n",
       "      <td>7.920940</td>\n",
       "      <td>0.00</td>\n",
       "      <td>1.000</td>\n",
       "      <td>4.00</td>\n",
       "      <td>10.000</td>\n",
       "      <td>77.00</td>\n",
       "    </tr>\n",
       "    <tr>\n",
       "      <th>NetPurchase</th>\n",
       "      <td>2500.0</td>\n",
       "      <td>42.077600</td>\n",
       "      <td>18.274582</td>\n",
       "      <td>5.00</td>\n",
       "      <td>27.000</td>\n",
       "      <td>45.00</td>\n",
       "      <td>57.000</td>\n",
       "      <td>88.00</td>\n",
       "    </tr>\n",
       "    <tr>\n",
       "      <th>CatPurchase</th>\n",
       "      <td>2500.0</td>\n",
       "      <td>57.922400</td>\n",
       "      <td>18.274582</td>\n",
       "      <td>12.00</td>\n",
       "      <td>43.000</td>\n",
       "      <td>55.00</td>\n",
       "      <td>73.000</td>\n",
       "      <td>95.00</td>\n",
       "    </tr>\n",
       "    <tr>\n",
       "      <th>Recomendation</th>\n",
       "      <td>2500.0</td>\n",
       "      <td>3.952800</td>\n",
       "      <td>1.141531</td>\n",
       "      <td>1.00</td>\n",
       "      <td>3.000</td>\n",
       "      <td>4.00</td>\n",
       "      <td>5.000</td>\n",
       "      <td>6.00</td>\n",
       "    </tr>\n",
       "    <tr>\n",
       "      <th>Education_Basic</th>\n",
       "      <td>2500.0</td>\n",
       "      <td>0.119600</td>\n",
       "      <td>0.324558</td>\n",
       "      <td>0.00</td>\n",
       "      <td>0.000</td>\n",
       "      <td>0.00</td>\n",
       "      <td>0.000</td>\n",
       "      <td>1.00</td>\n",
       "    </tr>\n",
       "    <tr>\n",
       "      <th>Education_Graduation</th>\n",
       "      <td>2500.0</td>\n",
       "      <td>0.494800</td>\n",
       "      <td>0.500073</td>\n",
       "      <td>0.00</td>\n",
       "      <td>0.000</td>\n",
       "      <td>0.00</td>\n",
       "      <td>1.000</td>\n",
       "      <td>1.00</td>\n",
       "    </tr>\n",
       "    <tr>\n",
       "      <th>Education_Master</th>\n",
       "      <td>2500.0</td>\n",
       "      <td>0.148800</td>\n",
       "      <td>0.355962</td>\n",
       "      <td>0.00</td>\n",
       "      <td>0.000</td>\n",
       "      <td>0.00</td>\n",
       "      <td>0.000</td>\n",
       "      <td>1.00</td>\n",
       "    </tr>\n",
       "    <tr>\n",
       "      <th>Education_PhD</th>\n",
       "      <td>2500.0</td>\n",
       "      <td>0.066800</td>\n",
       "      <td>0.249725</td>\n",
       "      <td>0.00</td>\n",
       "      <td>0.000</td>\n",
       "      <td>0.00</td>\n",
       "      <td>0.000</td>\n",
       "      <td>1.00</td>\n",
       "    </tr>\n",
       "    <tr>\n",
       "      <th>DepVar</th>\n",
       "      <td>2500.0</td>\n",
       "      <td>0.070000</td>\n",
       "      <td>0.255198</td>\n",
       "      <td>0.00</td>\n",
       "      <td>0.000</td>\n",
       "      <td>0.00</td>\n",
       "      <td>0.000</td>\n",
       "      <td>1.00</td>\n",
       "    </tr>\n",
       "  </tbody>\n",
       "</table>\n",
       "</div>"
      ],
      "text/plain": [
       "                          count          mean           std       min  \\\n",
       "Custid                   2500.0   6029.178400   2911.943629   1003.00   \n",
       "Year_Birth               2500.0   1966.737200     17.046019   1937.00   \n",
       "Gender_M                 2500.0      0.234000      0.423457      0.00   \n",
       "Marital_Status_Divorced  2500.0      0.092400      0.289648      0.00   \n",
       "Marital_Status_Married   2500.0      0.380800      0.485681      0.00   \n",
       "Marital_Status_Together  2500.0      0.242400      0.428621      0.00   \n",
       "Marital_Status_Widow     2500.0      0.046000      0.209527      0.00   \n",
       "Dependents               2500.0      0.701200      0.457824      0.00   \n",
       "Income                   2431.0  74062.838873  28807.225833  10500.00   \n",
       "Rcn                      2500.0     62.938400     69.643494      0.00   \n",
       "Frq                      2500.0     19.989200     10.951249      3.00   \n",
       "Mnt                      2500.0    654.829760    676.453079      8.32   \n",
       "Clothes                  2500.0     50.982000     23.390283      2.00   \n",
       "Kitchen                  2500.0      6.958800      7.836738      0.00   \n",
       "SmallAppliances          2500.0     28.233200     12.617674      2.00   \n",
       "HouseKeeping             2500.0      6.880800      7.633630      0.00   \n",
       "Toys                     2500.0      6.929200      7.920940      0.00   \n",
       "NetPurchase              2500.0     42.077600     18.274582      5.00   \n",
       "CatPurchase              2500.0     57.922400     18.274582     12.00   \n",
       "Recomendation            2500.0      3.952800      1.141531      1.00   \n",
       "Education_Basic          2500.0      0.119600      0.324558      0.00   \n",
       "Education_Graduation     2500.0      0.494800      0.500073      0.00   \n",
       "Education_Master         2500.0      0.148800      0.355962      0.00   \n",
       "Education_PhD            2500.0      0.066800      0.249725      0.00   \n",
       "DepVar                   2500.0      0.070000      0.255198      0.00   \n",
       "\n",
       "                               25%       50%        75%        max  \n",
       "Custid                    3466.500   6028.50   8599.250   10997.00  \n",
       "Year_Birth                1952.000   1966.00   1981.000    1997.00  \n",
       "Gender_M                     0.000      0.00      0.000       1.00  \n",
       "Marital_Status_Divorced      0.000      0.00      0.000       1.00  \n",
       "Marital_Status_Married       0.000      0.00      1.000       1.00  \n",
       "Marital_Status_Together      0.000      0.00      0.000       1.00  \n",
       "Marital_Status_Widow         0.000      0.00      0.000       1.00  \n",
       "Dependents                   0.000      1.00      1.000       1.00  \n",
       "Income                   51013.725  74525.85  97300.875  144204.90  \n",
       "Rcn                         27.000     53.00     78.000     549.00  \n",
       "Frq                         11.000     18.00     28.000      58.00  \n",
       "Mnt                         66.560    401.96   1069.120    3055.52  \n",
       "Clothes                     33.000     51.00     70.000      98.00  \n",
       "Kitchen                      2.000      4.00      9.000      68.00  \n",
       "SmallAppliances             19.000     27.00     37.000      69.00  \n",
       "HouseKeeping                 2.000      4.00      9.000      54.00  \n",
       "Toys                         1.000      4.00     10.000      77.00  \n",
       "NetPurchase                 27.000     45.00     57.000      88.00  \n",
       "CatPurchase                 43.000     55.00     73.000      95.00  \n",
       "Recomendation                3.000      4.00      5.000       6.00  \n",
       "Education_Basic              0.000      0.00      0.000       1.00  \n",
       "Education_Graduation         0.000      0.00      1.000       1.00  \n",
       "Education_Master             0.000      0.00      0.000       1.00  \n",
       "Education_PhD                0.000      0.00      0.000       1.00  \n",
       "DepVar                       0.000      0.00      0.000       1.00  "
      ]
     },
     "execution_count": 65,
     "metadata": {},
     "output_type": "execute_result"
    }
   ],
   "source": [
    "df_tugas.describe().T"
   ]
  },
  {
   "cell_type": "markdown",
   "metadata": {},
   "source": [
    "### 3. Prepare the data"
   ]
  },
  {
   "cell_type": "markdown",
   "metadata": {},
   "source": [
    "__`Step 3:`__ After the exploration and understanding of data, we need to fix possible problems on data like missing values or outliers and we can create new variables in order to get variables with higher predictive power."
   ]
  },
  {
   "cell_type": "markdown",
   "metadata": {},
   "source": [
    "#### 3.1. Incoherences"
   ]
  },
  {
   "cell_type": "markdown",
   "metadata": {},
   "source": [
    "__`Step 3.1:`__ After exploring the dataset, in this step check for any kind of mismatches, inconsistencies, __incoherence__ and redundancies."
   ]
  },
  {
   "cell_type": "code",
   "execution_count": 66,
   "metadata": {},
   "outputs": [
    {
     "data": {
      "text/plain": [
       "array([3, 5, 4, 1, 2, 6])"
      ]
     },
     "execution_count": 66,
     "metadata": {},
     "output_type": "execute_result"
    }
   ],
   "source": [
    "df_tugas['Recomendation'].unique()"
   ]
  },
  {
   "cell_type": "markdown",
   "metadata": {},
   "source": [
    "In the description of the dataset, it is written that the variable _Recomendation_ only assumes values from 1-5."
   ]
  },
  {
   "cell_type": "code",
   "execution_count": 67,
   "metadata": {},
   "outputs": [
    {
     "data": {
      "text/html": [
       "<div>\n",
       "<style scoped>\n",
       "    .dataframe tbody tr th:only-of-type {\n",
       "        vertical-align: middle;\n",
       "    }\n",
       "\n",
       "    .dataframe tbody tr th {\n",
       "        vertical-align: top;\n",
       "    }\n",
       "\n",
       "    .dataframe thead th {\n",
       "        text-align: right;\n",
       "    }\n",
       "</style>\n",
       "<table border=\"1\" class=\"dataframe\">\n",
       "  <thead>\n",
       "    <tr style=\"text-align: right;\">\n",
       "      <th></th>\n",
       "      <th>Custid</th>\n",
       "      <th>Year_Birth</th>\n",
       "      <th>Gender_M</th>\n",
       "      <th>Marital_Status_Divorced</th>\n",
       "      <th>Marital_Status_Married</th>\n",
       "      <th>Marital_Status_Together</th>\n",
       "      <th>Marital_Status_Widow</th>\n",
       "      <th>Dependents</th>\n",
       "      <th>Income</th>\n",
       "      <th>Rcn</th>\n",
       "      <th>...</th>\n",
       "      <th>HouseKeeping</th>\n",
       "      <th>Toys</th>\n",
       "      <th>NetPurchase</th>\n",
       "      <th>CatPurchase</th>\n",
       "      <th>Recomendation</th>\n",
       "      <th>Education_Basic</th>\n",
       "      <th>Education_Graduation</th>\n",
       "      <th>Education_Master</th>\n",
       "      <th>Education_PhD</th>\n",
       "      <th>DepVar</th>\n",
       "    </tr>\n",
       "  </thead>\n",
       "  <tbody>\n",
       "  </tbody>\n",
       "</table>\n",
       "<p>0 rows × 25 columns</p>\n",
       "</div>"
      ],
      "text/plain": [
       "Empty DataFrame\n",
       "Columns: [Custid, Year_Birth, Gender_M, Marital_Status_Divorced, Marital_Status_Married, Marital_Status_Together, Marital_Status_Widow, Dependents, Income, Rcn, Frq, Mnt, Clothes, Kitchen, SmallAppliances, HouseKeeping, Toys, NetPurchase, CatPurchase, Recomendation, Education_Basic, Education_Graduation, Education_Master, Education_PhD, DepVar]\n",
       "Index: []\n",
       "\n",
       "[0 rows x 25 columns]"
      ]
     },
     "execution_count": 67,
     "metadata": {},
     "output_type": "execute_result"
    }
   ],
   "source": [
    "df_tugas.loc[(df_tugas['Mnt'] > 0) & (df_tugas['Frq'] == 0)]"
   ]
  },
  {
   "cell_type": "markdown",
   "metadata": {},
   "source": [
    "Checking if there are any clients that have spent money, but do not have any purchase registered."
   ]
  },
  {
   "cell_type": "markdown",
   "metadata": {},
   "source": [
    "#### 3.2. Outliers"
   ]
  },
  {
   "cell_type": "markdown",
   "metadata": {},
   "source": [
    "__`Step 3.2:`__ The __outliers__ can be a result of a mistake during data collection or it can be just an indication of variance in your data. Check if there are any since these can negatively influence the model."
   ]
  },
  {
   "cell_type": "code",
   "execution_count": 68,
   "metadata": {},
   "outputs": [
    {
     "data": {
      "text/html": [
       "<div>\n",
       "<style scoped>\n",
       "    .dataframe tbody tr th:only-of-type {\n",
       "        vertical-align: middle;\n",
       "    }\n",
       "\n",
       "    .dataframe tbody tr th {\n",
       "        vertical-align: top;\n",
       "    }\n",
       "\n",
       "    .dataframe thead th {\n",
       "        text-align: right;\n",
       "    }\n",
       "</style>\n",
       "<table border=\"1\" class=\"dataframe\">\n",
       "  <thead>\n",
       "    <tr style=\"text-align: right;\">\n",
       "      <th></th>\n",
       "      <th>Custid</th>\n",
       "      <th>Year_Birth</th>\n",
       "      <th>Gender_M</th>\n",
       "      <th>Marital_Status_Divorced</th>\n",
       "      <th>Marital_Status_Married</th>\n",
       "      <th>Marital_Status_Together</th>\n",
       "      <th>Marital_Status_Widow</th>\n",
       "      <th>Dependents</th>\n",
       "      <th>Income</th>\n",
       "      <th>Rcn</th>\n",
       "      <th>...</th>\n",
       "      <th>HouseKeeping</th>\n",
       "      <th>Toys</th>\n",
       "      <th>NetPurchase</th>\n",
       "      <th>CatPurchase</th>\n",
       "      <th>Recomendation</th>\n",
       "      <th>Education_Basic</th>\n",
       "      <th>Education_Graduation</th>\n",
       "      <th>Education_Master</th>\n",
       "      <th>Education_PhD</th>\n",
       "      <th>DepVar</th>\n",
       "    </tr>\n",
       "  </thead>\n",
       "  <tbody>\n",
       "    <tr>\n",
       "      <th>514</th>\n",
       "      <td>3028</td>\n",
       "      <td>1992</td>\n",
       "      <td>0</td>\n",
       "      <td>0</td>\n",
       "      <td>0</td>\n",
       "      <td>0</td>\n",
       "      <td>0</td>\n",
       "      <td>1</td>\n",
       "      <td>23139.90</td>\n",
       "      <td>23</td>\n",
       "      <td>...</td>\n",
       "      <td>54</td>\n",
       "      <td>0</td>\n",
       "      <td>56</td>\n",
       "      <td>44</td>\n",
       "      <td>5</td>\n",
       "      <td>0</td>\n",
       "      <td>1</td>\n",
       "      <td>0</td>\n",
       "      <td>0</td>\n",
       "      <td>0</td>\n",
       "    </tr>\n",
       "    <tr>\n",
       "      <th>724</th>\n",
       "      <td>3932</td>\n",
       "      <td>1996</td>\n",
       "      <td>0</td>\n",
       "      <td>0</td>\n",
       "      <td>0</td>\n",
       "      <td>0</td>\n",
       "      <td>0</td>\n",
       "      <td>1</td>\n",
       "      <td>27989.85</td>\n",
       "      <td>94</td>\n",
       "      <td>...</td>\n",
       "      <td>50</td>\n",
       "      <td>1</td>\n",
       "      <td>45</td>\n",
       "      <td>55</td>\n",
       "      <td>4</td>\n",
       "      <td>1</td>\n",
       "      <td>0</td>\n",
       "      <td>0</td>\n",
       "      <td>0</td>\n",
       "      <td>0</td>\n",
       "    </tr>\n",
       "    <tr>\n",
       "      <th>804</th>\n",
       "      <td>4254</td>\n",
       "      <td>1995</td>\n",
       "      <td>0</td>\n",
       "      <td>0</td>\n",
       "      <td>0</td>\n",
       "      <td>0</td>\n",
       "      <td>0</td>\n",
       "      <td>1</td>\n",
       "      <td>22707.30</td>\n",
       "      <td>8</td>\n",
       "      <td>...</td>\n",
       "      <td>48</td>\n",
       "      <td>2</td>\n",
       "      <td>55</td>\n",
       "      <td>45</td>\n",
       "      <td>3</td>\n",
       "      <td>1</td>\n",
       "      <td>0</td>\n",
       "      <td>0</td>\n",
       "      <td>0</td>\n",
       "      <td>0</td>\n",
       "    </tr>\n",
       "    <tr>\n",
       "      <th>1029</th>\n",
       "      <td>5148</td>\n",
       "      <td>1957</td>\n",
       "      <td>0</td>\n",
       "      <td>0</td>\n",
       "      <td>0</td>\n",
       "      <td>1</td>\n",
       "      <td>0</td>\n",
       "      <td>1</td>\n",
       "      <td>97655.25</td>\n",
       "      <td>55</td>\n",
       "      <td>...</td>\n",
       "      <td>46</td>\n",
       "      <td>3</td>\n",
       "      <td>42</td>\n",
       "      <td>58</td>\n",
       "      <td>4</td>\n",
       "      <td>1</td>\n",
       "      <td>0</td>\n",
       "      <td>0</td>\n",
       "      <td>0</td>\n",
       "      <td>0</td>\n",
       "    </tr>\n",
       "    <tr>\n",
       "      <th>1544</th>\n",
       "      <td>7258</td>\n",
       "      <td>1995</td>\n",
       "      <td>1</td>\n",
       "      <td>0</td>\n",
       "      <td>0</td>\n",
       "      <td>0</td>\n",
       "      <td>0</td>\n",
       "      <td>1</td>\n",
       "      <td>26341.35</td>\n",
       "      <td>22</td>\n",
       "      <td>...</td>\n",
       "      <td>49</td>\n",
       "      <td>3</td>\n",
       "      <td>73</td>\n",
       "      <td>27</td>\n",
       "      <td>4</td>\n",
       "      <td>1</td>\n",
       "      <td>0</td>\n",
       "      <td>0</td>\n",
       "      <td>0</td>\n",
       "      <td>0</td>\n",
       "    </tr>\n",
       "  </tbody>\n",
       "</table>\n",
       "<p>5 rows × 25 columns</p>\n",
       "</div>"
      ],
      "text/plain": [
       "      Custid  Year_Birth  Gender_M  Marital_Status_Divorced  \\\n",
       "514     3028        1992         0                        0   \n",
       "724     3932        1996         0                        0   \n",
       "804     4254        1995         0                        0   \n",
       "1029    5148        1957         0                        0   \n",
       "1544    7258        1995         1                        0   \n",
       "\n",
       "      Marital_Status_Married  Marital_Status_Together  Marital_Status_Widow  \\\n",
       "514                        0                        0                     0   \n",
       "724                        0                        0                     0   \n",
       "804                        0                        0                     0   \n",
       "1029                       0                        1                     0   \n",
       "1544                       0                        0                     0   \n",
       "\n",
       "      Dependents    Income  Rcn  ...  HouseKeeping  Toys  NetPurchase  \\\n",
       "514            1  23139.90   23  ...            54     0           56   \n",
       "724            1  27989.85   94  ...            50     1           45   \n",
       "804            1  22707.30    8  ...            48     2           55   \n",
       "1029           1  97655.25   55  ...            46     3           42   \n",
       "1544           1  26341.35   22  ...            49     3           73   \n",
       "\n",
       "      CatPurchase  Recomendation  Education_Basic  Education_Graduation  \\\n",
       "514            44              5                0                     1   \n",
       "724            55              4                1                     0   \n",
       "804            45              3                1                     0   \n",
       "1029           58              4                1                     0   \n",
       "1544           27              4                1                     0   \n",
       "\n",
       "      Education_Master  Education_PhD  DepVar  \n",
       "514                  0              0       0  \n",
       "724                  0              0       0  \n",
       "804                  0              0       0  \n",
       "1029                 0              0       0  \n",
       "1544                 0              0       0  \n",
       "\n",
       "[5 rows x 25 columns]"
      ]
     },
     "execution_count": 68,
     "metadata": {},
     "output_type": "execute_result"
    }
   ],
   "source": [
    "hk_mean = df_tugas['HouseKeeping'].mean()\n",
    "hk_std = df_tugas['HouseKeeping'].std()\n",
    "\n",
    "df_tugas.loc[df_tugas['HouseKeeping'] > hk_mean + 5 * hk_std]"
   ]
  },
  {
   "cell_type": "markdown",
   "metadata": {},
   "source": [
    "#### 3.3. Null values"
   ]
  },
  {
   "cell_type": "markdown",
   "metadata": {},
   "source": [
    "__`Step 3.3:`__ Handling __missing data__ is important as many machine learning algorithms do not support data with missing values."
   ]
  },
  {
   "cell_type": "code",
   "execution_count": 69,
   "metadata": {},
   "outputs": [],
   "source": [
    "df_tugas['Income'] = df_tugas['Income'].fillna(df_tugas['Income'].median())"
   ]
  },
  {
   "cell_type": "code",
   "execution_count": 70,
   "metadata": {},
   "outputs": [
    {
     "name": "stdout",
     "output_type": "stream",
     "text": [
      "<class 'pandas.core.frame.DataFrame'>\n",
      "RangeIndex: 2500 entries, 0 to 2499\n",
      "Data columns (total 25 columns):\n",
      " #   Column                   Non-Null Count  Dtype  \n",
      "---  ------                   --------------  -----  \n",
      " 0   Custid                   2500 non-null   int64  \n",
      " 1   Year_Birth               2500 non-null   int64  \n",
      " 2   Gender_M                 2500 non-null   int64  \n",
      " 3   Marital_Status_Divorced  2500 non-null   int64  \n",
      " 4   Marital_Status_Married   2500 non-null   int64  \n",
      " 5   Marital_Status_Together  2500 non-null   int64  \n",
      " 6   Marital_Status_Widow     2500 non-null   int64  \n",
      " 7   Dependents               2500 non-null   int64  \n",
      " 8   Income                   2500 non-null   float64\n",
      " 9   Rcn                      2500 non-null   int64  \n",
      " 10  Frq                      2500 non-null   int64  \n",
      " 11  Mnt                      2500 non-null   float64\n",
      " 12  Clothes                  2500 non-null   int64  \n",
      " 13  Kitchen                  2500 non-null   int64  \n",
      " 14  SmallAppliances          2500 non-null   int64  \n",
      " 15  HouseKeeping             2500 non-null   int64  \n",
      " 16  Toys                     2500 non-null   int64  \n",
      " 17  NetPurchase              2500 non-null   int64  \n",
      " 18  CatPurchase              2500 non-null   int64  \n",
      " 19  Recomendation            2500 non-null   int64  \n",
      " 20  Education_Basic          2500 non-null   int64  \n",
      " 21  Education_Graduation     2500 non-null   int64  \n",
      " 22  Education_Master         2500 non-null   int64  \n",
      " 23  Education_PhD            2500 non-null   int64  \n",
      " 24  DepVar                   2500 non-null   int64  \n",
      "dtypes: float64(2), int64(23)\n",
      "memory usage: 488.4 KB\n"
     ]
    }
   ],
   "source": [
    "df_tugas.info()"
   ]
  },
  {
   "cell_type": "markdown",
   "metadata": {},
   "source": [
    "### 4. Modelling"
   ]
  },
  {
   "cell_type": "markdown",
   "metadata": {},
   "source": [
    "__`Step 4:`__ It is time to create a model. At this step, we are going to implement the Naive Bayes algorithm."
   ]
  },
  {
   "cell_type": "markdown",
   "metadata": {},
   "source": [
    "# <font color='#E8800A'>Gaussian Naive Bayes</font> <a class=\"anchor\" id=\"first-bullet\"></a>\n",
    "  [Back to TOC](#toc)"
   ]
  },
  {
   "cell_type": "markdown",
   "metadata": {},
   "source": [
    "First we start with a dataset called tugas, which has continuous and categorical attributes and a binary target variable. \n",
    "Because we have mostly continuous attributes we will be using Gaussian Naive Bayes, so the likelihood of the features is assumed to be Gaussian:\n",
    "\n",
    "$$\n",
    "\\begin{equation*}\n",
    "P(x_{i}\\mid y) = \\frac{1}{\\sqrt{2\\pi \\sigma_y^{2}}} \\exp \\left(-\\frac{(x_{i} -\\mu_{y})^2}{2\\sigma_y^{2}} \\right)\n",
    "\\end{equation*}\n",
    "$$"
   ]
  },
  {
   "cell_type": "markdown",
   "metadata": {},
   "source": [
    "__`Step 4.1:`__ Import GaussianNB from sklearn.naive_bayes"
   ]
  },
  {
   "cell_type": "code",
   "execution_count": 71,
   "metadata": {},
   "outputs": [],
   "source": [
    "from sklearn.naive_bayes import GaussianNB"
   ]
  },
  {
   "cell_type": "markdown",
   "metadata": {},
   "source": [
    "__`Step 4.2:`__ Assign to the object `data` the values from tugas excepting the dependent variable"
   ]
  },
  {
   "cell_type": "code",
   "execution_count": 72,
   "metadata": {},
   "outputs": [],
   "source": [
    "data = df_tugas.drop(['DepVar', 'Custid'], axis=1)"
   ]
  },
  {
   "cell_type": "markdown",
   "metadata": {},
   "source": [
    "__`Step 4.3:`__ Assign to the object `target`the dependent variable from tugas"
   ]
  },
  {
   "cell_type": "code",
   "execution_count": 73,
   "metadata": {},
   "outputs": [],
   "source": [
    "target = df_tugas['DepVar']"
   ]
  },
  {
   "cell_type": "markdown",
   "metadata": {},
   "source": [
    "__`Step 4.4:`__ Split the dataset tugas into X_train, X_val, y_train and y_val, defining `test_size` as 0.25 , `random_state`equal to 5 and `stratify` by the target."
   ]
  },
  {
   "cell_type": "code",
   "execution_count": 74,
   "metadata": {},
   "outputs": [],
   "source": [
    "X_train, X_val, y_train, y_val = train_test_split(data, target, test_size=0.25, stratify = target, random_state=5)"
   ]
  },
  {
   "cell_type": "markdown",
   "metadata": {},
   "source": [
    "__`Step 4.5:`__ Irrelevant or partially relevant features can negatively impact model performance. Besides that, having correlated independent data can also harm the model. In this way, check the correlation matrix in this step."
   ]
  },
  {
   "cell_type": "code",
   "execution_count": 75,
   "metadata": {},
   "outputs": [],
   "source": [
    "import matplotlib.pyplot as plt\n",
    "import seaborn as sns\n",
    "\n",
    "def cor_heatmap(cor):\n",
    "    plt.figure(figsize=(12,10))\n",
    "    sns.heatmap(data = cor, annot = True, cmap = plt.cm.Reds, fmt='.1')\n",
    "    plt.show()"
   ]
  },
  {
   "cell_type": "code",
   "execution_count": 76,
   "metadata": {},
   "outputs": [
    {
     "data": {
      "image/png": "[encoded data removed]",
      "text/plain": [
       "<Figure size 1200x1000 with 2 Axes>"
      ]
     },
     "metadata": {},
     "output_type": "display_data"
    }
   ],
   "source": [
    "cor_pearson = X_train.corr()\n",
    "cor_heatmap(cor_pearson)"
   ]
  },
  {
   "cell_type": "markdown",
   "metadata": {},
   "source": [
    "Decide which variables to keep or withdraw."
   ]
  },
  {
   "cell_type": "code",
   "execution_count": 77,
   "metadata": {},
   "outputs": [],
   "source": [
    "X_train = X_train.drop(['Income', 'Year_Birth'], axis=1)\n",
    "\n",
    "#do the same for validation\n",
    "X_val = X_val.drop(['Income', 'Year_Birth'], axis=1)"
   ]
  },
  {
   "cell_type": "markdown",
   "metadata": {},
   "source": [
    "__`Step 4.6:`__ Using GaussianNB, create a Naive Bayes classifier instance called modelNB."
   ]
  },
  {
   "cell_type": "code",
   "execution_count": 78,
   "metadata": {},
   "outputs": [],
   "source": [
    "modelNB = GaussianNB(var_smoothing=0.0001)"
   ]
  },
  {
   "cell_type": "markdown",
   "metadata": {},
   "source": [
    "### Methods in GaussianNB"
   ]
  },
  {
   "cell_type": "markdown",
   "metadata": {},
   "source": [
    "__`Step 4.7:`__ Use the `.fit()`method of model to fit the model to the array of points `X_train` and `y_train`,i.e., associate the argument keyword `X` to `X_train` and `y` to `y_train`."
   ]
  },
  {
   "cell_type": "code",
   "execution_count": 79,
   "metadata": {},
   "outputs": [
    {
     "data": {
      "text/html": [
       "<style>#sk-container-id-3 {color: black;}#sk-container-id-3 pre{padding: 0;}#sk-container-id-3 div.sk-toggleable {background-color: white;}#sk-container-id-3 label.sk-toggleable__label {cursor: pointer;display: block;width: 100%;margin-bottom: 0;padding: 0.3em;box-sizing: border-box;text-align: center;}#sk-container-id-3 label.sk-toggleable__label-arrow:before {content: \"▸\";float: left;margin-right: 0.25em;color: #696969;}#sk-container-id-3 label.sk-toggleable__label-arrow:hover:before {color: black;}#sk-container-id-3 div.sk-estimator:hover label.sk-toggleable__label-arrow:before {color: black;}#sk-container-id-3 div.sk-toggleable__content {max-height: 0;max-width: 0;overflow: hidden;text-align: left;background-color: #f0f8ff;}#sk-container-id-3 div.sk-toggleable__content pre {margin: 0.2em;color: black;border-radius: 0.25em;background-color: #f0f8ff;}#sk-container-id-3 input.sk-toggleable__control:checked~div.sk-toggleable__content {max-height: 200px;max-width: 100%;overflow: auto;}#sk-container-id-3 input.sk-toggleable__control:checked~label.sk-toggleable__label-arrow:before {content: \"▾\";}#sk-container-id-3 div.sk-estimator input.sk-toggleable__control:checked~label.sk-toggleable__label {background-color: #d4ebff;}#sk-container-id-3 div.sk-label input.sk-toggleable__control:checked~label.sk-toggleable__label {background-color: #d4ebff;}#sk-container-id-3 input.sk-hidden--visually {border: 0;clip: rect(1px 1px 1px 1px);clip: rect(1px, 1px, 1px, 1px);height: 1px;margin: -1px;overflow: hidden;padding: 0;position: absolute;width: 1px;}#sk-container-id-3 div.sk-estimator {font-family: monospace;background-color: #f0f8ff;border: 1px dotted black;border-radius: 0.25em;box-sizing: border-box;margin-bottom: 0.5em;}#sk-container-id-3 div.sk-estimator:hover {background-color: #d4ebff;}#sk-container-id-3 div.sk-parallel-item::after {content: \"\";width: 100%;border-bottom: 1px solid gray;flex-grow: 1;}#sk-container-id-3 div.sk-label:hover label.sk-toggleable__label {background-color: #d4ebff;}#sk-container-id-3 div.sk-serial::before {content: \"\";position: absolute;border-left: 1px solid gray;box-sizing: border-box;top: 0;bottom: 0;left: 50%;z-index: 0;}#sk-container-id-3 div.sk-serial {display: flex;flex-direction: column;align-items: center;background-color: white;padding-right: 0.2em;padding-left: 0.2em;position: relative;}#sk-container-id-3 div.sk-item {position: relative;z-index: 1;}#sk-container-id-3 div.sk-parallel {display: flex;align-items: stretch;justify-content: center;background-color: white;position: relative;}#sk-container-id-3 div.sk-item::before, #sk-container-id-3 div.sk-parallel-item::before {content: \"\";position: absolute;border-left: 1px solid gray;box-sizing: border-box;top: 0;bottom: 0;left: 50%;z-index: -1;}#sk-container-id-3 div.sk-parallel-item {display: flex;flex-direction: column;z-index: 1;position: relative;background-color: white;}#sk-container-id-3 div.sk-parallel-item:first-child::after {align-self: flex-end;width: 50%;}#sk-container-id-3 div.sk-parallel-item:last-child::after {align-self: flex-start;width: 50%;}#sk-container-id-3 div.sk-parallel-item:only-child::after {width: 0;}#sk-container-id-3 div.sk-dashed-wrapped {border: 1px dashed gray;margin: 0 0.4em 0.5em 0.4em;box-sizing: border-box;padding-bottom: 0.4em;background-color: white;}#sk-container-id-3 div.sk-label label {font-family: monospace;font-weight: bold;display: inline-block;line-height: 1.2em;}#sk-container-id-3 div.sk-label-container {text-align: center;}#sk-container-id-3 div.sk-container {/* jupyter's `normalize.less` sets `[hidden] { display: none; }` but bootstrap.min.css set `[hidden] { display: none !important; }` so we also need the `!important` here to be able to override the default hidden behavior on the sphinx rendered scikit-learn.org. See: https://github.com/scikit-learn/scikit-learn/issues/21755 */display: inline-block !important;position: relative;}#sk-container-id-3 div.sk-text-repr-fallback {display: none;}</style><div id=\"sk-container-id-3\" class=\"sk-top-container\"><div class=\"sk-text-repr-fallback\"><pre>GaussianNB(var_smoothing=0.0001)</pre><b>In a Jupyter environment, please rerun this cell to show the HTML representation or trust the notebook. <br />On GitHub, the HTML representation is unable to render, please try loading this page with nbviewer.org.</b></div><div class=\"sk-container\" hidden><div class=\"sk-item\"><div class=\"sk-estimator sk-toggleable\"><input class=\"sk-toggleable__control sk-hidden--visually\" id=\"sk-estimator-id-3\" type=\"checkbox\" checked><label for=\"sk-estimator-id-3\" class=\"sk-toggleable__label sk-toggleable__label-arrow\">GaussianNB</label><div class=\"sk-toggleable__content\"><pre>GaussianNB(var_smoothing=0.0001)</pre></div></div></div></div></div>"
      ],
      "text/plain": [
       "GaussianNB(var_smoothing=0.0001)"
      ]
     },
     "execution_count": 79,
     "metadata": {},
     "output_type": "execute_result"
    }
   ],
   "source": [
    "modelNB.fit(X = X_train, y = y_train)"
   ]
  },
  {
   "cell_type": "markdown",
   "metadata": {},
   "source": [
    "__`Step 4.8:`__ Use the `.predict()` method of modelNB to perform classification in `X_train` and assign to the object `labels_train`. Do the same for `X_val` and assign to the object `labels_val`."
   ]
  },
  {
   "cell_type": "code",
   "execution_count": 80,
   "metadata": {},
   "outputs": [],
   "source": [
    "labels_train = modelNB.predict(X_train)\n",
    "labels_val = modelNB.predict(X_val)"
   ]
  },
  {
   "cell_type": "markdown",
   "metadata": {},
   "source": [
    "__`Step 4.9:`__ Use the `.predict_proba()` method of modelNB to obtain the probability estimates for the `X_val`"
   ]
  },
  {
   "cell_type": "code",
   "execution_count": 82,
   "metadata": {},
   "outputs": [
    {
     "data": {
      "text/plain": [
       "array([[4.99973598e-04, 9.99500026e-01],\n",
       "       [9.98129714e-01, 1.87028571e-03],\n",
       "       [4.50359900e-01, 5.49640100e-01],\n",
       "       ...,\n",
       "       [9.96829344e-01, 3.17065584e-03],\n",
       "       [8.00952338e-02, 9.19904766e-01],\n",
       "       [9.99405674e-01, 5.94325587e-04]])"
      ]
     },
     "execution_count": 82,
     "metadata": {},
     "output_type": "execute_result"
    }
   ],
   "source": [
    "#CODE HERE\n",
    "modelNB.predict_proba(X_val)"
   ]
  },
  {
   "cell_type": "markdown",
   "metadata": {},
   "source": [
    "__`Step 4.10:`__ Use the `.score()` method of modelNB to obtain the mean accuracy of the given train data `X_train` and the true labels for X, `y_train`"
   ]
  },
  {
   "cell_type": "code",
   "execution_count": 83,
   "metadata": {},
   "outputs": [
    {
     "data": {
      "text/plain": [
       "0.8362666666666667"
      ]
     },
     "execution_count": 83,
     "metadata": {},
     "output_type": "execute_result"
    }
   ],
   "source": [
    "#CODE HERE\n",
    "modelNB.score(X_train, y_train)"
   ]
  },
  {
   "cell_type": "markdown",
   "metadata": {},
   "source": [
    "__`Step 4.11:`__ Use the `.score()` method of modelNB to obtain the mean accuracy of the given test data `X_val` and the true labels for X, `y_val`"
   ]
  },
  {
   "cell_type": "code",
   "execution_count": 84,
   "metadata": {},
   "outputs": [
    {
     "data": {
      "text/plain": [
       "0.8272"
      ]
     },
     "execution_count": 84,
     "metadata": {},
     "output_type": "execute_result"
    }
   ],
   "source": [
    "#CODE HERE\n",
    "modelNB.score(X_val, y_val)"
   ]
  },
  {
   "cell_type": "markdown",
   "metadata": {},
   "source": [
    "### Attributes in GaussianNB"
   ]
  },
  {
   "cell_type": "markdown",
   "metadata": {},
   "source": [
    "__`Step 4.12:`__ Call the attribute `.class_prior_` in modelNB to check the probability of each class. "
   ]
  },
  {
   "cell_type": "code",
   "execution_count": 85,
   "metadata": {},
   "outputs": [
    {
     "data": {
      "text/plain": [
       "array([0.93013333, 0.06986667])"
      ]
     },
     "execution_count": 85,
     "metadata": {},
     "output_type": "execute_result"
    }
   ],
   "source": [
    "modelNB.class_prior_"
   ]
  },
  {
   "cell_type": "markdown",
   "metadata": {},
   "source": [
    "In here you can verify that the probability of the dependent variable being one in our dataset is only 7% from the total dataset."
   ]
  },
  {
   "cell_type": "markdown",
   "metadata": {},
   "source": [
    "__`Step 4.13:`__ Call the attribute `.class_count_` in modelNB to verify the number of training samples observed in eacg class."
   ]
  },
  {
   "cell_type": "code",
   "execution_count": 86,
   "metadata": {},
   "outputs": [
    {
     "data": {
      "text/plain": [
       "array([1744.,  131.])"
      ]
     },
     "execution_count": 86,
     "metadata": {},
     "output_type": "execute_result"
    }
   ],
   "source": [
    "modelNB.class_count_"
   ]
  },
  {
   "cell_type": "markdown",
   "metadata": {},
   "source": [
    "In the training dataset, 1744 observations have 0 as dependent variable, while only 131 observations have 1 as dependent variable."
   ]
  },
  {
   "cell_type": "markdown",
   "metadata": {},
   "source": [
    "__`Step 4.14:`__ Call the attribute `.theta_` in modelNB to verify the mean of each feature per class."
   ]
  },
  {
   "cell_type": "code",
   "execution_count": 87,
   "metadata": {},
   "outputs": [
    {
     "data": {
      "text/plain": [
       "array([[2.36238532e-01, 9.57568807e-02, 3.87614679e-01, 2.34518349e-01,\n",
       "        3.95642202e-02, 7.40825688e-01, 6.42586009e+01, 1.87545872e+01,\n",
       "        5.73144358e+02, 5.06680046e+01, 7.16513761e+00, 2.80028670e+01,\n",
       "        7.13933486e+00, 7.00917431e+00, 4.33497706e+01, 5.66502294e+01,\n",
       "        3.86639908e+00, 1.25573394e-01, 4.99426606e-01, 1.39334862e-01,\n",
       "        6.70871560e-02],\n",
       "       [2.21374046e-01, 1.29770992e-01, 3.81679389e-01, 2.44274809e-01,\n",
       "        9.92366412e-02, 2.67175573e-01, 5.44580153e+01, 3.70381679e+01,\n",
       "        1.74598534e+03, 5.53435115e+01, 5.21374046e+00, 2.96106870e+01,\n",
       "        4.77862595e+00, 5.07633588e+00, 2.47786260e+01, 7.52213740e+01,\n",
       "        4.84732824e+00, 9.92366412e-02, 4.73282443e-01, 1.83206107e-01,\n",
       "        5.34351145e-02]])"
      ]
     },
     "execution_count": 87,
     "metadata": {},
     "output_type": "execute_result"
    }
   ],
   "source": [
    "modelNB.theta_"
   ]
  },
  {
   "cell_type": "markdown",
   "metadata": {},
   "source": [
    "In some variables we can verify that the mean is distinct taking into account the dependent variable associated. Take as example the variable Mnt (in the seventh column):\n",
    "- For the customers where the dependent variable is 0, the value of Mnt is around 573 monetary units;\n",
    "- For the customers who bougth the product (dependent variable = 1), the money spent is around 1746 monetary units."
   ]
  },
  {
   "cell_type": "markdown",
   "metadata": {},
   "source": [
    "_Note:_ If you dont remember the order of the variables, you can always call `data.columns`."
   ]
  },
  {
   "cell_type": "code",
   "execution_count": 88,
   "metadata": {},
   "outputs": [
    {
     "data": {
      "text/plain": [
       "Index(['Year_Birth', 'Gender_M', 'Marital_Status_Divorced',\n",
       "       'Marital_Status_Married', 'Marital_Status_Together',\n",
       "       'Marital_Status_Widow', 'Dependents', 'Income', 'Rcn', 'Frq', 'Mnt',\n",
       "       'Clothes', 'Kitchen', 'SmallAppliances', 'HouseKeeping', 'Toys',\n",
       "       'NetPurchase', 'CatPurchase', 'Recomendation', 'Education_Basic',\n",
       "       'Education_Graduation', 'Education_Master', 'Education_PhD'],\n",
       "      dtype='object')"
      ]
     },
     "execution_count": 88,
     "metadata": {},
     "output_type": "execute_result"
    }
   ],
   "source": [
    "data.columns"
   ]
  },
  {
   "cell_type": "markdown",
   "metadata": {},
   "source": [
    "__`Step 4.15:`__ Call the attribute `.var_` in modelNB to verify the variance of each feature per class."
   ]
  },
  {
   "cell_type": "code",
   "execution_count": 89,
   "metadata": {
    "scrolled": true
   },
   "outputs": [
    {
     "data": {
      "text/plain": [
       "array([[4.55454572e+01, 4.54516148e+01, 4.56023969e+01, 4.55445468e+01,\n",
       "        4.54030262e+01, 4.55570303e+01, 5.35775744e+03, 1.44059387e+02,\n",
       "        3.62776970e+05, 6.04569600e+02, 1.08544179e+02, 2.03379354e+02,\n",
       "        1.09512471e+02, 1.07285815e+02, 3.56881449e+02, 3.56881449e+02,\n",
       "        4.66596781e+01, 4.54748320e+01, 4.56150270e+01, 4.54849480e+01,\n",
       "        4.54276138e+01],\n",
       "       [4.55373949e+01, 4.54779578e+01, 4.56010275e+01, 4.55496319e+01,\n",
       "        4.54544160e+01, 4.55608201e+01, 9.05170517e+02, 1.30317769e+02,\n",
       "        3.84643321e+05, 4.21254661e+02, 7.17620904e+01, 2.01938654e+02,\n",
       "        6.93541888e+01, 6.92370627e+01, 2.64010677e+02, 2.64010677e+02,\n",
       "        4.61203446e+01, 4.54544160e+01, 4.56143135e+01, 4.55146689e+01,\n",
       "        4.54156071e+01]])"
      ]
     },
     "execution_count": 89,
     "metadata": {},
     "output_type": "execute_result"
    }
   ],
   "source": [
    "modelNB.var_"
   ]
  },
  {
   "cell_type": "markdown",
   "metadata": {},
   "source": [
    "By calling the attribute var, we obtain the variance of each variable, for both labels (0 and 1)."
   ]
  },
  {
   "cell_type": "markdown",
   "metadata": {},
   "source": [
    "### 5. Assess"
   ]
  },
  {
   "cell_type": "markdown",
   "metadata": {},
   "source": [
    "__`Step 5:`__ We already have the ground truth and the predicted values. In this way we can start evaluating the performance of our model in the train and the validation dataset."
   ]
  },
  {
   "cell_type": "markdown",
   "metadata": {},
   "source": [
    "#### Presenting the classification report and the confusion matrix for Train and Validation"
   ]
  },
  {
   "cell_type": "markdown",
   "metadata": {},
   "source": [
    "__`Step 5.1:`__ To evaluate the results, we are going to use the classification report method that will return the main classification metrics. <br>\n",
    "Import `classification_report` and `confusion_matrix` from sklearn.metrics"
   ]
  },
  {
   "cell_type": "code",
   "execution_count": 90,
   "metadata": {},
   "outputs": [],
   "source": [
    "from sklearn.metrics import classification_report, confusion_matrix"
   ]
  },
  {
   "cell_type": "markdown",
   "metadata": {},
   "source": [
    "__`Step 5.2:`__: Create  a function named `metrics` that will print the results of the classification report and the confusion matrix for both datasets (train and validation) _(written for you)_"
   ]
  },
  {
   "cell_type": "code",
   "execution_count": 91,
   "metadata": {},
   "outputs": [],
   "source": [
    "def metrics(y_train, pred_train , y_val, pred_val):\n",
    "    print('___________________________________________________________________________________________________________')\n",
    "    print('                                                     TRAIN                                                 ')\n",
    "    print('-----------------------------------------------------------------------------------------------------------')\n",
    "    print(classification_report(y_train, pred_train))\n",
    "    print(confusion_matrix(y_train, pred_train))\n",
    "\n",
    "\n",
    "    print('___________________________________________________________________________________________________________')\n",
    "    print('                                                VALIDATION                                                 ')\n",
    "    print('-----------------------------------------------------------------------------------------------------------')\n",
    "    print(classification_report(y_val, pred_val))\n",
    "    print(confusion_matrix(y_val, pred_val))"
   ]
  },
  {
   "cell_type": "markdown",
   "metadata": {},
   "source": [
    "__`Step 5.3:`__ Call the function metrics() defined previously, and define the arguments: <br> (`y_train = y_train`, `pred_train = labels_train` , `y_val = y_val`, `pred_val = labels_val`)"
   ]
  },
  {
   "cell_type": "code",
   "execution_count": 92,
   "metadata": {},
   "outputs": [
    {
     "name": "stdout",
     "output_type": "stream",
     "text": [
      "___________________________________________________________________________________________________________\n",
      "                                                     TRAIN                                                 \n",
      "-----------------------------------------------------------------------------------------------------------\n",
      "              precision    recall  f1-score   support\n",
      "\n",
      "           0       0.98      0.84      0.91      1744\n",
      "           1       0.27      0.77      0.40       131\n",
      "\n",
      "    accuracy                           0.84      1875\n",
      "   macro avg       0.62      0.81      0.65      1875\n",
      "weighted avg       0.93      0.84      0.87      1875\n",
      "\n",
      "[[1467  277]\n",
      " [  30  101]]\n",
      "___________________________________________________________________________________________________________\n",
      "                                                VALIDATION                                                 \n",
      "-----------------------------------------------------------------------------------------------------------\n",
      "              precision    recall  f1-score   support\n",
      "\n",
      "           0       0.98      0.83      0.90       581\n",
      "           1       0.25      0.75      0.38        44\n",
      "\n",
      "    accuracy                           0.83       625\n",
      "   macro avg       0.62      0.79      0.64       625\n",
      "weighted avg       0.93      0.83      0.86       625\n",
      "\n",
      "[[484  97]\n",
      " [ 11  33]]\n"
     ]
    }
   ],
   "source": [
    "metrics(y_train, labels_train, y_val, labels_val)"
   ]
  },
  {
   "cell_type": "markdown",
   "metadata": {},
   "source": [
    "The confusion matrix in sklearn is presented in the following format: <br>\n",
    "[ [ TN  FP  ] <br>\n",
    "    [ FN  TP ] ]"
   ]
  },
  {
   "cell_type": "markdown",
   "metadata": {},
   "source": [
    "Now you have the main results for your training and validation dataset."
   ]
  },
  {
   "cell_type": "markdown",
   "metadata": {},
   "source": [
    "# <font color='#E8800A'>Exercise</font><a class=\"anchor\" id=\"third-bullet\"></a>\n",
    " [Back to TOC](#toc)"
   ]
  },
  {
   "cell_type": "markdown",
   "metadata": {},
   "source": [
    "__`Exercise 1:`__ Create a function for the tennis dataset that given the features of an instance can predict the outcome! <br>"
   ]
  },
  {
   "cell_type": "code",
   "execution_count": null,
   "metadata": {},
   "outputs": [],
   "source": [
    "def result(outlook, temperature, humidity, windy):\n",
    "    \n",
    "    #calculate the probability of playing today\n",
    "    a1 = len(weather[(weather.PLAY == 'Yes') & (weather.OUTLOOK == outlook)]) / len(weather[weather.PLAY == 'Yes'])\n",
    "    a2 = len(weather[(weather.PLAY == 'Yes') & (weather.TEMPERATURE == temperature)]) / len(weather[weather.PLAY == 'Yes'])\n",
    "    a3 = len(weather[(weather.PLAY == 'Yes') & (weather.HUMIDITY == humidity)]) / len(weather[weather.PLAY == 'Yes'])\n",
    "    a4 = len(weather[(weather.PLAY == 'Yes') & (weather.WINDY == windy)]) / len(weather[weather.PLAY == 'Yes'])\n",
    "    a5 = len(weather[weather.PLAY == 'Yes'])/len(weather)\n",
    "    p_yes_today = a1 * a2 * a3 * a4 * a5\n",
    "    \n",
    "    #repeat the same for no \n",
    "    b1 = len(weather[(weather.PLAY == 'No') & (weather.OUTLOOK == outlook)]) / len(weather[weather.PLAY == 'No'])\n",
    "    b2 = len(weather[(weather.PLAY == 'No') & (weather.TEMPERATURE == temperature)]) / len(weather[weather.PLAY == 'No'])\n",
    "    b3 = len(weather[(weather.PLAY == 'No') & (weather.HUMIDITY == humidity)]) / len(weather[weather.PLAY == 'No'])\n",
    "    b4 = len(weather[(weather.PLAY == 'No') & (weather.WINDY == windy)]) / len(weather[weather.PLAY == 'No'])\n",
    "    b5 = len(weather[weather.PLAY == 'No'])/len(weather)\n",
    "    p_no_today = b1 * b2 * b3 * b4 * b5\n",
    "    \n",
    "    #normalize results to ensure probability of event and complement = 1\n",
    "    P_yes_today = p_yes_today / (p_yes_today + p_no_today)\n",
    "    P_no_today = p_no_today / (p_yes_today + p_no_today)\n",
    "    \n",
    "    #make decision\n",
    "    if P_yes_today > P_no_today:\n",
    "        outcome = 'Yes'\n",
    "    else:\n",
    "        outcome = 'No'\n",
    "    return outcome"
   ]
  },
  {
   "cell_type": "code",
   "execution_count": null,
   "metadata": {},
   "outputs": [],
   "source": [
    "result('Sunny', 'Cool', 'High', 'True')"
   ]
  }
 ],
 "metadata": {
  "kernelspec": {
   "display_name": "Python 3 (ipykernel)",
   "language": "python",
   "name": "python3"
  },
  "language_info": {
   "codemirror_mode": {
    "name": "ipython",
    "version": 3
   },
   "file_extension": ".py",
   "mimetype": "text/x-python",
   "name": "python",
   "nbconvert_exporter": "python",
   "pygments_lexer": "ipython3",
   "version": "3.11.4"
  },
  "varInspector": {
   "cols": {
    "lenName": 16,
    "lenType": 16,
    "lenVar": 40
   },
   "kernels_config": {
    "python": {
     "delete_cmd_postfix": "",
     "delete_cmd_prefix": "del ",
     "library": "var_list.py",
     "varRefreshCmd": "print(var_dic_list())"
    },
    "r": {
     "delete_cmd_postfix": ") ",
     "delete_cmd_prefix": "rm(",
     "library": "var_list.r",
     "varRefreshCmd": "cat(var_dic_list()) "
    }
   },
   "types_to_exclude": [
    "module",
    "function",
    "builtin_function_or_method",
    "instance",
    "_Feature"
   ],
   "window_display": true
  }
 },
 "nbformat": 4,
 "nbformat_minor": 2
}
