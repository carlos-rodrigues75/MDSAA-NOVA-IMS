{
 "cells": [
  {
   "cell_type": "markdown",
   "metadata": {},
   "source": [
    "# Linear Regression\n",
    "\n",
    "Doing a linear regression is, in principle, very simple. We have a set of data points $(x_i, y_i)$ and we want to find a function $f(x)$ that fits the data. The function $f(x)$ is a linear combination of basis functions $\\phi_j(x)$:\n",
    "\n",
    "$$f(x) = w_0 + \\sum_{j=1}^M w_j \\phi_j(x)$$"
   ]
  },
  {
   "cell_type": "markdown",
   "metadata": {},
   "source": [
    "### 1. Import the needed libraries"
   ]
  },
  {
   "cell_type": "markdown",
   "metadata": {},
   "source": [
    "__`Step 1`__ - The first thing you should do is always import the needed libraries. In this case, we are going to import:\n",
    "- pandas as pd\n",
    "- numpy as np\n",
    "- LinearRegression from sklearn.linear_model\n",
    "- train_test_split from sklearn.model_selection\n",
    "- matplotlib.pyplot as plt"
   ]
  },
  {
   "cell_type": "code",
   "execution_count": 1,
   "metadata": {
    "ExecuteTime": {
     "end_time": "2023-10-11T09:07:29.651196Z",
     "start_time": "2023-10-11T09:07:27.810902Z"
    }
   },
   "outputs": [],
   "source": [
    "import pandas as pd \n",
    "import numpy as np\n",
    "from sklearn.linear_model import LinearRegression\n",
    "from sklearn.model_selection import train_test_split\n",
    "import matplotlib.pyplot as plt"
   ]
  },
  {
   "cell_type": "markdown",
   "metadata": {},
   "source": [
    ">><font color='Orange'> __Practice__ - A 2D example from scratch</font>"
   ]
  },
  {
   "cell_type": "markdown",
   "metadata": {},
   "source": [
    "It's time now to build a step by step a simple linear regression. To calculate the coefficient we are going to use the formula:\n",
    "\n",
    "$$\\beta _{1} = \\frac{\\sum \\left ( x_{i}-\\bar{x})( y_{i}-\\bar{y}\\right )}{\\sum ( x_{i}-\\bar{x})^{2}}$$"
   ]
  },
  {
   "cell_type": "markdown",
   "metadata": {},
   "source": [
    "And the intercept is going to be calculated using the formula:\n",
    "$$\\beta _{0} = \\bar{y} - \\beta _{1}\\bar{x} $$"
   ]
  },
  {
   "cell_type": "markdown",
   "metadata": {},
   "source": [
    "You are going to work with the following dataset:"
   ]
  },
  {
   "cell_type": "code",
   "execution_count": 2,
   "metadata": {
    "ExecuteTime": {
     "end_time": "2023-10-11T09:12:26.154057Z",
     "start_time": "2023-10-11T09:12:26.081468Z"
    }
   },
   "outputs": [
    {
     "data": {
      "text/plain": "   m^2  Price\n0  160    360\n1  150    340\n2  280    664\n3  140    330\n4  220    560\n5  130    380",
      "text/html": "<div>\n<style scoped>\n    .dataframe tbody tr th:only-of-type {\n        vertical-align: middle;\n    }\n\n    .dataframe tbody tr th {\n        vertical-align: top;\n    }\n\n    .dataframe thead th {\n        text-align: right;\n    }\n</style>\n<table border=\"1\" class=\"dataframe\">\n  <thead>\n    <tr style=\"text-align: right;\">\n      <th></th>\n      <th>m^2</th>\n      <th>Price</th>\n    </tr>\n  </thead>\n  <tbody>\n    <tr>\n      <th>0</th>\n      <td>160</td>\n      <td>360</td>\n    </tr>\n    <tr>\n      <th>1</th>\n      <td>150</td>\n      <td>340</td>\n    </tr>\n    <tr>\n      <th>2</th>\n      <td>280</td>\n      <td>664</td>\n    </tr>\n    <tr>\n      <th>3</th>\n      <td>140</td>\n      <td>330</td>\n    </tr>\n    <tr>\n      <th>4</th>\n      <td>220</td>\n      <td>560</td>\n    </tr>\n    <tr>\n      <th>5</th>\n      <td>130</td>\n      <td>380</td>\n    </tr>\n  </tbody>\n</table>\n</div>"
     },
     "execution_count": 2,
     "metadata": {},
     "output_type": "execute_result"
    }
   ],
   "source": [
    "houses = pd.DataFrame({'m^2':[160,150,280,140,220,130],'Price':[360,340,664,330,560,380]})\n",
    "houses"
   ]
  },
  {
   "cell_type": "markdown",
   "metadata": {},
   "source": [
    "__`Exercise A`__: Try to calculate the regression equation associated to the dataset step by step and predict the value for a house with $190m^{2}$"
   ]
  },
  {
   "cell_type": "markdown",
   "metadata": {},
   "source": [
    "__`a.1.`__ Calculate the mean of the values in your X and assign it to the object __mean_m2__. In the same way, calculate the mean of your target and assign it to the object __mean_price__"
   ]
  },
  {
   "cell_type": "code",
   "execution_count": 4,
   "metadata": {
    "ExecuteTime": {
     "end_time": "2023-10-11T09:13:43.509726Z",
     "start_time": "2023-10-11T09:13:43.503237Z"
    }
   },
   "outputs": [],
   "source": [
    "#CODE HERE\n",
    "mean_m2 = houses['m^2'].mean()"
   ]
  },
  {
   "cell_type": "code",
   "execution_count": 6,
   "metadata": {
    "ExecuteTime": {
     "end_time": "2023-10-11T09:13:50.691090Z",
     "start_time": "2023-10-11T09:13:50.677678Z"
    }
   },
   "outputs": [],
   "source": [
    "#CODE HERE\n",
    "mean_price = houses['Price'].mean()"
   ]
  },
  {
   "cell_type": "markdown",
   "metadata": {},
   "source": [
    "__`a.2`__ Create a new column in your dataset 'houses' named as __xi-x_mean__ that will contain $( x_{i}-\\bar{x})$"
   ]
  },
  {
   "cell_type": "code",
   "execution_count": 7,
   "metadata": {
    "ExecuteTime": {
     "end_time": "2023-10-11T09:13:53.348409Z",
     "start_time": "2023-10-11T09:13:53.343064Z"
    }
   },
   "outputs": [],
   "source": [
    "#CODE HERE\n",
    "houses['xi-x_mean'] = houses['m^2'] - mean_m2 "
   ]
  },
  {
   "cell_type": "markdown",
   "metadata": {},
   "source": [
    "__`a.3`__ Create a new column in your dataset 'houses' named as __yi-y_mean__ that will contain $( y_{i}-\\bar{y})$"
   ]
  },
  {
   "cell_type": "code",
   "execution_count": 8,
   "metadata": {
    "ExecuteTime": {
     "end_time": "2023-10-11T09:14:14.276686Z",
     "start_time": "2023-10-11T09:14:14.261051Z"
    }
   },
   "outputs": [],
   "source": [
    "#CODE HERE\n",
    "houses['yi-y_mean'] = houses['Price'] - mean_price"
   ]
  },
  {
   "cell_type": "markdown",
   "metadata": {},
   "source": [
    "__`a.4`__ Create a new column in your dataset 'houses' named as __square(xi-x_mean)__ that will be equal to $(x_{i}-\\bar{x})^{2}$"
   ]
  },
  {
   "cell_type": "code",
   "execution_count": 11,
   "metadata": {
    "ExecuteTime": {
     "end_time": "2023-10-11T09:16:50.558854Z",
     "start_time": "2023-10-11T09:16:50.551809Z"
    }
   },
   "outputs": [],
   "source": [
    "#CODE HERE\n",
    "houses['square(xi-x_mean)'] = houses['xi-x_mean']**2"
   ]
  },
  {
   "cell_type": "markdown",
   "metadata": {},
   "source": [
    "__`a.5`__ Create a new column in your dataset 'houses' named as __(xi-x_mean)(yi-y_mean)__ that will be equal to $( x_{i}-\\bar{x})( y_{i}-\\bar{y})$"
   ]
  },
  {
   "cell_type": "code",
   "execution_count": 10,
   "metadata": {
    "ExecuteTime": {
     "end_time": "2023-10-11T09:15:36.572123Z",
     "start_time": "2023-10-11T09:15:36.543634Z"
    }
   },
   "outputs": [
    {
     "data": {
      "text/plain": "   m^2  Price  xi-x_mean  yi-y_mean  (xi-x_mean)(yi-y_mean)\n0  160    360      -20.0      -79.0                  1580.0\n1  150    340      -30.0      -99.0                  2970.0\n2  280    664      100.0      225.0                 22500.0\n3  140    330      -40.0     -109.0                  4360.0\n4  220    560       40.0      121.0                  4840.0\n5  130    380      -50.0      -59.0                  2950.0",
      "text/html": "<div>\n<style scoped>\n    .dataframe tbody tr th:only-of-type {\n        vertical-align: middle;\n    }\n\n    .dataframe tbody tr th {\n        vertical-align: top;\n    }\n\n    .dataframe thead th {\n        text-align: right;\n    }\n</style>\n<table border=\"1\" class=\"dataframe\">\n  <thead>\n    <tr style=\"text-align: right;\">\n      <th></th>\n      <th>m^2</th>\n      <th>Price</th>\n      <th>xi-x_mean</th>\n      <th>yi-y_mean</th>\n      <th>(xi-x_mean)(yi-y_mean)</th>\n    </tr>\n  </thead>\n  <tbody>\n    <tr>\n      <th>0</th>\n      <td>160</td>\n      <td>360</td>\n      <td>-20.0</td>\n      <td>-79.0</td>\n      <td>1580.0</td>\n    </tr>\n    <tr>\n      <th>1</th>\n      <td>150</td>\n      <td>340</td>\n      <td>-30.0</td>\n      <td>-99.0</td>\n      <td>2970.0</td>\n    </tr>\n    <tr>\n      <th>2</th>\n      <td>280</td>\n      <td>664</td>\n      <td>100.0</td>\n      <td>225.0</td>\n      <td>22500.0</td>\n    </tr>\n    <tr>\n      <th>3</th>\n      <td>140</td>\n      <td>330</td>\n      <td>-40.0</td>\n      <td>-109.0</td>\n      <td>4360.0</td>\n    </tr>\n    <tr>\n      <th>4</th>\n      <td>220</td>\n      <td>560</td>\n      <td>40.0</td>\n      <td>121.0</td>\n      <td>4840.0</td>\n    </tr>\n    <tr>\n      <th>5</th>\n      <td>130</td>\n      <td>380</td>\n      <td>-50.0</td>\n      <td>-59.0</td>\n      <td>2950.0</td>\n    </tr>\n  </tbody>\n</table>\n</div>"
     },
     "execution_count": 10,
     "metadata": {},
     "output_type": "execute_result"
    }
   ],
   "source": [
    "#CODE HERE\n",
    "houses['(xi-x_mean)(yi-y_mean)'] = houses['xi-x_mean'] * houses['yi-y_mean']\n",
    "houses"
   ]
  },
  {
   "cell_type": "markdown",
   "metadata": {},
   "source": [
    "__`a.6`__ Calculate the coefficient of $m^2$ by using the formula below and assign it to the object __beta1__ <br> <br>\n",
    "$$\\beta _{1} = \\frac{\\sum \\left ( x_{i}-\\bar{x})( y_{i}-\\bar{y}\\right )}{\\sum ( x_{i}-\\bar{x})^{2}}$$"
   ]
  },
  {
   "cell_type": "code",
   "execution_count": 14,
   "metadata": {
    "ExecuteTime": {
     "end_time": "2023-10-11T09:20:13.712842Z",
     "start_time": "2023-10-11T09:20:13.689495Z"
    }
   },
   "outputs": [
    {
     "data": {
      "text/plain": "2.3058823529411763"
     },
     "execution_count": 14,
     "metadata": {},
     "output_type": "execute_result"
    }
   ],
   "source": [
    "#CODE HERE\n",
    "b1 = sum(houses['(xi-x_mean)(yi-y_mean)']) / sum(houses['square(xi-x_mean)'])\n",
    "b1"
   ]
  },
  {
   "cell_type": "markdown",
   "metadata": {},
   "source": [
    "__`a.7`__ Calculate the intercept and name it as __beta0__ by using the formula <br><br>\n",
    "\n",
    "$$\\beta _{0} = \\bar{y} - \\beta _{1}\\bar{x} $$"
   ]
  },
  {
   "cell_type": "code",
   "execution_count": 16,
   "metadata": {
    "ExecuteTime": {
     "end_time": "2023-10-11T09:22:09.322126Z",
     "start_time": "2023-10-11T09:22:09.315330Z"
    }
   },
   "outputs": [
    {
     "data": {
      "text/plain": "23.94117647058829"
     },
     "execution_count": 16,
     "metadata": {},
     "output_type": "execute_result"
    }
   ],
   "source": [
    "#CODE HERE\n",
    "b0 = mean_price - b1*mean_m2\n",
    "b0"
   ]
  },
  {
   "cell_type": "markdown",
   "metadata": {},
   "source": [
    "__`a.8`__ Predict the price of a house with $190m^{2}$"
   ]
  },
  {
   "cell_type": "code",
   "execution_count": 18,
   "metadata": {
    "ExecuteTime": {
     "end_time": "2023-10-11T09:22:52.489123Z",
     "start_time": "2023-10-11T09:22:52.471009Z"
    }
   },
   "outputs": [
    {
     "data": {
      "text/plain": "462.05882352941177"
     },
     "execution_count": 18,
     "metadata": {},
     "output_type": "execute_result"
    }
   ],
   "source": [
    "#CODE HERE\n",
    "predict = b1*190+b0\n",
    "predict"
   ]
  },
  {
   "cell_type": "markdown",
   "metadata": {},
   "source": [
    "### Plot your regression!"
   ]
  },
  {
   "cell_type": "code",
   "execution_count": 23,
   "metadata": {
    "ExecuteTime": {
     "end_time": "2023-10-11T09:26:22.301272Z",
     "start_time": "2023-10-11T09:26:22.232227Z"
    }
   },
   "outputs": [
    {
     "data": {
      "text/plain": "<Figure size 640x480 with 1 Axes>",
      "image/png": "[encoded data removed]"
     },
     "metadata": {},
     "output_type": "display_data"
    }
   ],
   "source": [
    "X = houses['m^2']\n",
    "y = houses['Price']\n",
    "predictions = []\n",
    "\n",
    "for value in X:\n",
    "    predictions.append(b1 * value + b0)\n",
    "\n",
    "fig = plt.figure()\n",
    "plt.plot(X, y, 'r.', markersize=12)\n",
    "plt.plot(X, predictions, 'b-')\n",
    "plt.show()"
   ]
  },
  {
   "cell_type": "markdown",
   "metadata": {},
   "source": [
    "### 2. Import the dataset"
   ]
  },
  {
   "cell_type": "markdown",
   "metadata": {},
   "source": [
    "Since we are dealing with linear regression, we are going to work with a dataset where the target is continuous. <br>\n",
    "__`Step 2`__ - Import the dataset __Boston.csv__ using pandas and assign it to an object named __data__"
   ]
  },
  {
   "cell_type": "code",
   "execution_count": 24,
   "metadata": {
    "ExecuteTime": {
     "end_time": "2023-10-11T09:26:42.407352Z",
     "start_time": "2023-10-11T09:26:42.366330Z"
    }
   },
   "outputs": [
    {
     "data": {
      "text/plain": "      crim    zn  indus  chas    nox     rm   age     dis  rad  tax  ptratio  \\\n0  0.00632  18.0   2.31     0  0.538  6.575  65.2  4.0900    1  296     15.3   \n1  0.02731   0.0   7.07     0  0.469  6.421  78.9  4.9671    2  242     17.8   \n2  0.02729   0.0   7.07     0  0.469  7.185  61.1  4.9671    2  242     17.8   \n3  0.03237   0.0   2.18     0  0.458  6.998  45.8  6.0622    3  222     18.7   \n4  0.06905   0.0   2.18     0  0.458  7.147  54.2  6.0622    3  222     18.7   \n\n    black  lstat  medv  \n0  396.90   4.98  24.0  \n1  396.90   9.14  21.6  \n2  392.83   4.03  34.7  \n3  394.63   2.94  33.4  \n4  396.90   5.33  36.2  ",
      "text/html": "<div>\n<style scoped>\n    .dataframe tbody tr th:only-of-type {\n        vertical-align: middle;\n    }\n\n    .dataframe tbody tr th {\n        vertical-align: top;\n    }\n\n    .dataframe thead th {\n        text-align: right;\n    }\n</style>\n<table border=\"1\" class=\"dataframe\">\n  <thead>\n    <tr style=\"text-align: right;\">\n      <th></th>\n      <th>crim</th>\n      <th>zn</th>\n      <th>indus</th>\n      <th>chas</th>\n      <th>nox</th>\n      <th>rm</th>\n      <th>age</th>\n      <th>dis</th>\n      <th>rad</th>\n      <th>tax</th>\n      <th>ptratio</th>\n      <th>black</th>\n      <th>lstat</th>\n      <th>medv</th>\n    </tr>\n  </thead>\n  <tbody>\n    <tr>\n      <th>0</th>\n      <td>0.00632</td>\n      <td>18.0</td>\n      <td>2.31</td>\n      <td>0</td>\n      <td>0.538</td>\n      <td>6.575</td>\n      <td>65.2</td>\n      <td>4.0900</td>\n      <td>1</td>\n      <td>296</td>\n      <td>15.3</td>\n      <td>396.90</td>\n      <td>4.98</td>\n      <td>24.0</td>\n    </tr>\n    <tr>\n      <th>1</th>\n      <td>0.02731</td>\n      <td>0.0</td>\n      <td>7.07</td>\n      <td>0</td>\n      <td>0.469</td>\n      <td>6.421</td>\n      <td>78.9</td>\n      <td>4.9671</td>\n      <td>2</td>\n      <td>242</td>\n      <td>17.8</td>\n      <td>396.90</td>\n      <td>9.14</td>\n      <td>21.6</td>\n    </tr>\n    <tr>\n      <th>2</th>\n      <td>0.02729</td>\n      <td>0.0</td>\n      <td>7.07</td>\n      <td>0</td>\n      <td>0.469</td>\n      <td>7.185</td>\n      <td>61.1</td>\n      <td>4.9671</td>\n      <td>2</td>\n      <td>242</td>\n      <td>17.8</td>\n      <td>392.83</td>\n      <td>4.03</td>\n      <td>34.7</td>\n    </tr>\n    <tr>\n      <th>3</th>\n      <td>0.03237</td>\n      <td>0.0</td>\n      <td>2.18</td>\n      <td>0</td>\n      <td>0.458</td>\n      <td>6.998</td>\n      <td>45.8</td>\n      <td>6.0622</td>\n      <td>3</td>\n      <td>222</td>\n      <td>18.7</td>\n      <td>394.63</td>\n      <td>2.94</td>\n      <td>33.4</td>\n    </tr>\n    <tr>\n      <th>4</th>\n      <td>0.06905</td>\n      <td>0.0</td>\n      <td>2.18</td>\n      <td>0</td>\n      <td>0.458</td>\n      <td>7.147</td>\n      <td>54.2</td>\n      <td>6.0622</td>\n      <td>3</td>\n      <td>222</td>\n      <td>18.7</td>\n      <td>396.90</td>\n      <td>5.33</td>\n      <td>36.2</td>\n    </tr>\n  </tbody>\n</table>\n</div>"
     },
     "execution_count": 24,
     "metadata": {},
     "output_type": "execute_result"
    }
   ],
   "source": [
    "data = pd.read_csv('datasets/Boston.csv')\n",
    "data.head()"
   ]
  },
  {
   "cell_type": "markdown",
   "metadata": {},
   "source": [
    "Variables:<br>\n",
    "\n",
    "`INPUT VARIABLES`: numerical <br>\n",
    "`OUPUT VARIABLE`: numeric (regression) <br>\n",
    "\n",
    "__GOAL__: Predict median value of homes\n",
    "\n",
    "`CRIM` : per capita crime rate by town <br>\n",
    "`ZN` : proportion of residential land zoned for lots over 25,000 sq.ft. <br>\n",
    "`INDUS` : proportion of non-retail business acres per town. <br>\n",
    "`CHAS`: Charles River dummy variable (1 if tract bounds river; 0 otherwise) <br>\n",
    "`NOX` : nitric oxides concentration (parts per 10 million) <br>\n",
    "`RM`: average number of rooms per dwelling <br>\n",
    "`AGE`: proportion of owner-occupied units built prior to 1940 <br>\n",
    "`DIS`: weighted distances to five Boston employment centres <br>\n",
    "`RAD`: index of accessibility to radial highways <br>\n",
    "`TAX`: full-value property-tax rate per \\$10.000 <br>\n",
    "`PTRATIO`: pupil-teacher ratio by town <br>\n",
    "`B`: 1000(Bk - 0.63)^2 where Bk is the proportion of blacks by town <br>\n",
    "`LSTAT`: % lower status of the population <br>\n",
    "`MEDV`: Median value of owner-occupied homes in $1000's <br>"
   ]
  },
  {
   "cell_type": "markdown",
   "metadata": {},
   "source": [
    "### 3. Explore the dataset"
   ]
  },
  {
   "cell_type": "markdown",
   "metadata": {},
   "source": [
    "The next step is to explore our data: while this is not the focus for this class, we are just going to check if we don't have missing values and what is the type of data that we have."
   ]
  },
  {
   "cell_type": "markdown",
   "metadata": {},
   "source": [
    "__`Step 3`__ - Call the method __info()__ in your data. <br>\n",
    "This method prints information about a DataFrame including the index dtype and column dtypes, non-null values and memory usage. <br>\n",
    "https://pandas.pydata.org/docs/reference/api/pandas.DataFrame.info.html?highlight=info#pandas.DataFrame.info"
   ]
  },
  {
   "cell_type": "code",
   "execution_count": 25,
   "metadata": {
    "ExecuteTime": {
     "end_time": "2023-10-11T09:27:41.574557Z",
     "start_time": "2023-10-11T09:27:41.553161Z"
    }
   },
   "outputs": [
    {
     "name": "stdout",
     "output_type": "stream",
     "text": [
      "<class 'pandas.core.frame.DataFrame'>\n",
      "RangeIndex: 506 entries, 0 to 505\n",
      "Data columns (total 14 columns):\n",
      " #   Column   Non-Null Count  Dtype  \n",
      "---  ------   --------------  -----  \n",
      " 0   crim     506 non-null    float64\n",
      " 1   zn       506 non-null    float64\n",
      " 2   indus    506 non-null    float64\n",
      " 3   chas     506 non-null    int64  \n",
      " 4   nox      506 non-null    float64\n",
      " 5   rm       506 non-null    float64\n",
      " 6   age      506 non-null    float64\n",
      " 7   dis      506 non-null    float64\n",
      " 8   rad      506 non-null    int64  \n",
      " 9   tax      506 non-null    int64  \n",
      " 10  ptratio  506 non-null    float64\n",
      " 11  black    506 non-null    float64\n",
      " 12  lstat    506 non-null    float64\n",
      " 13  medv     506 non-null    float64\n",
      "dtypes: float64(11), int64(3)\n",
      "memory usage: 55.5 KB\n"
     ]
    }
   ],
   "source": [
    "data.info()"
   ]
  },
  {
   "cell_type": "markdown",
   "metadata": {},
   "source": [
    "By calling the __info()__ method, we can verify that we don't have missing values and all data is numerical, so there is no need to deal with missing data or create dummies. <br>\n",
    "We are ready to apply linear regression in our dataset! But first, and since we want to evaluate the performance of our model, we need to split our dataset into training and validation. Since we only have 506 observations, we are not going to create a test dataset."
   ]
  },
  {
   "cell_type": "markdown",
   "metadata": {},
   "source": [
    "### 4. Data partition"
   ]
  },
  {
   "cell_type": "markdown",
   "metadata": {},
   "source": [
    "__`Step 4`__ - By calling the method __train_test_split()__, split your dataset into train (70%) and validation (30%). Don't forget that you need to define first what are your independent variables and your target/ dependent variable. <br>\n",
    "\n",
    "- Define as __X__ the independent variables and __y__ the dependent variable (last column - 'medv')\n",
    "- Divide the __X__ into __X_train__ and __X_val__, the __y__ into __y_train__ and __y_val__, and define the following arguments: __test_size = 0.3__, __random_state = 15__ "
   ]
  },
  {
   "cell_type": "code",
   "execution_count": 26,
   "metadata": {
    "ExecuteTime": {
     "end_time": "2023-10-11T09:28:49.872608Z",
     "start_time": "2023-10-11T09:28:49.868997Z"
    }
   },
   "outputs": [],
   "source": [
    "X = data.drop(columns=['medv'])\n",
    "y = data['medv']"
   ]
  },
  {
   "cell_type": "code",
   "execution_count": 27,
   "metadata": {
    "ExecuteTime": {
     "end_time": "2023-10-11T09:28:52.949536Z",
     "start_time": "2023-10-11T09:28:52.935914Z"
    }
   },
   "outputs": [],
   "source": [
    "X_train, X_val, y_train, y_val = train_test_split(X, y, test_size=0.3, random_state=15)"
   ]
  },
  {
   "cell_type": "markdown",
   "metadata": {},
   "source": [
    "### 5. Apply linear regression"
   ]
  },
  {
   "cell_type": "markdown",
   "metadata": {},
   "source": [
    "__`Step 5`__ - Create an instance of LinearRegression named as lin_model with the default parameters and fit to your train data."
   ]
  },
  {
   "cell_type": "code",
   "execution_count": 28,
   "metadata": {
    "ExecuteTime": {
     "end_time": "2023-10-11T09:28:57.584187Z",
     "start_time": "2023-10-11T09:28:57.564242Z"
    }
   },
   "outputs": [],
   "source": [
    "lin_model = LinearRegression()"
   ]
  },
  {
   "cell_type": "markdown",
   "metadata": {},
   "source": [
    "<div class=\"alert alert-block alert-success\">\n",
    "    <b><h3>Methods in LinearRegression()</h3></b><br>\n",
    "</div>"
   ]
  },
  {
   "cell_type": "markdown",
   "metadata": {},
   "source": [
    "<div class=\"alert alert-block alert-info\">\n",
    "<a href = 'https://scikit-learn.org/stable/modules/generated/sklearn.linear_model.LinearRegression.html'>sklearn.linear_model.LinearRegression().fit(X,y,...)</a>\n",
    "\n",
    "__Definition:__ <br>\n",
    "Fit linear model in the training data.\n",
    "\n",
    "__Parameters:__ <br>\n",
    "X : The regressors in my training dataset; <br>\n",
    "y : The target in my training dataset; <br>\n",
    "...\n",
    "</div>"
   ]
  },
  {
   "cell_type": "markdown",
   "metadata": {},
   "source": [
    "__`Step 6`__ - Fit your model to your data, and define __X = X_train__ and __y = y_train__"
   ]
  },
  {
   "cell_type": "code",
   "execution_count": 29,
   "metadata": {
    "ExecuteTime": {
     "end_time": "2023-10-11T09:29:57.126117Z",
     "start_time": "2023-10-11T09:29:57.094133Z"
    }
   },
   "outputs": [
    {
     "data": {
      "text/plain": "LinearRegression()",
      "text/html": "<style>#sk-container-id-1 {color: black;}#sk-container-id-1 pre{padding: 0;}#sk-container-id-1 div.sk-toggleable {background-color: white;}#sk-container-id-1 label.sk-toggleable__label {cursor: pointer;display: block;width: 100%;margin-bottom: 0;padding: 0.3em;box-sizing: border-box;text-align: center;}#sk-container-id-1 label.sk-toggleable__label-arrow:before {content: \"▸\";float: left;margin-right: 0.25em;color: #696969;}#sk-container-id-1 label.sk-toggleable__label-arrow:hover:before {color: black;}#sk-container-id-1 div.sk-estimator:hover label.sk-toggleable__label-arrow:before {color: black;}#sk-container-id-1 div.sk-toggleable__content {max-height: 0;max-width: 0;overflow: hidden;text-align: left;background-color: #f0f8ff;}#sk-container-id-1 div.sk-toggleable__content pre {margin: 0.2em;color: black;border-radius: 0.25em;background-color: #f0f8ff;}#sk-container-id-1 input.sk-toggleable__control:checked~div.sk-toggleable__content {max-height: 200px;max-width: 100%;overflow: auto;}#sk-container-id-1 input.sk-toggleable__control:checked~label.sk-toggleable__label-arrow:before {content: \"▾\";}#sk-container-id-1 div.sk-estimator input.sk-toggleable__control:checked~label.sk-toggleable__label {background-color: #d4ebff;}#sk-container-id-1 div.sk-label input.sk-toggleable__control:checked~label.sk-toggleable__label {background-color: #d4ebff;}#sk-container-id-1 input.sk-hidden--visually {border: 0;clip: rect(1px 1px 1px 1px);clip: rect(1px, 1px, 1px, 1px);height: 1px;margin: -1px;overflow: hidden;padding: 0;position: absolute;width: 1px;}#sk-container-id-1 div.sk-estimator {font-family: monospace;background-color: #f0f8ff;border: 1px dotted black;border-radius: 0.25em;box-sizing: border-box;margin-bottom: 0.5em;}#sk-container-id-1 div.sk-estimator:hover {background-color: #d4ebff;}#sk-container-id-1 div.sk-parallel-item::after {content: \"\";width: 100%;border-bottom: 1px solid gray;flex-grow: 1;}#sk-container-id-1 div.sk-label:hover label.sk-toggleable__label {background-color: #d4ebff;}#sk-container-id-1 div.sk-serial::before {content: \"\";position: absolute;border-left: 1px solid gray;box-sizing: border-box;top: 0;bottom: 0;left: 50%;z-index: 0;}#sk-container-id-1 div.sk-serial {display: flex;flex-direction: column;align-items: center;background-color: white;padding-right: 0.2em;padding-left: 0.2em;position: relative;}#sk-container-id-1 div.sk-item {position: relative;z-index: 1;}#sk-container-id-1 div.sk-parallel {display: flex;align-items: stretch;justify-content: center;background-color: white;position: relative;}#sk-container-id-1 div.sk-item::before, #sk-container-id-1 div.sk-parallel-item::before {content: \"\";position: absolute;border-left: 1px solid gray;box-sizing: border-box;top: 0;bottom: 0;left: 50%;z-index: -1;}#sk-container-id-1 div.sk-parallel-item {display: flex;flex-direction: column;z-index: 1;position: relative;background-color: white;}#sk-container-id-1 div.sk-parallel-item:first-child::after {align-self: flex-end;width: 50%;}#sk-container-id-1 div.sk-parallel-item:last-child::after {align-self: flex-start;width: 50%;}#sk-container-id-1 div.sk-parallel-item:only-child::after {width: 0;}#sk-container-id-1 div.sk-dashed-wrapped {border: 1px dashed gray;margin: 0 0.4em 0.5em 0.4em;box-sizing: border-box;padding-bottom: 0.4em;background-color: white;}#sk-container-id-1 div.sk-label label {font-family: monospace;font-weight: bold;display: inline-block;line-height: 1.2em;}#sk-container-id-1 div.sk-label-container {text-align: center;}#sk-container-id-1 div.sk-container {/* jupyter's `normalize.less` sets `[hidden] { display: none; }` but bootstrap.min.css set `[hidden] { display: none !important; }` so we also need the `!important` here to be able to override the default hidden behavior on the sphinx rendered scikit-learn.org. See: https://github.com/scikit-learn/scikit-learn/issues/21755 */display: inline-block !important;position: relative;}#sk-container-id-1 div.sk-text-repr-fallback {display: none;}</style><div id=\"sk-container-id-1\" class=\"sk-top-container\"><div class=\"sk-text-repr-fallback\"><pre>LinearRegression()</pre><b>In a Jupyter environment, please rerun this cell to show the HTML representation or trust the notebook. <br />On GitHub, the HTML representation is unable to render, please try loading this page with nbviewer.org.</b></div><div class=\"sk-container\" hidden><div class=\"sk-item\"><div class=\"sk-estimator sk-toggleable\"><input class=\"sk-toggleable__control sk-hidden--visually\" id=\"sk-estimator-id-1\" type=\"checkbox\" checked><label for=\"sk-estimator-id-1\" class=\"sk-toggleable__label sk-toggleable__label-arrow\">LinearRegression</label><div class=\"sk-toggleable__content\"><pre>LinearRegression()</pre></div></div></div></div></div>"
     },
     "execution_count": 29,
     "metadata": {},
     "output_type": "execute_result"
    }
   ],
   "source": [
    "lin_model.fit(X_train, y_train)"
   ]
  },
  {
   "cell_type": "markdown",
   "metadata": {},
   "source": [
    "<div class=\"alert alert-block alert-info\">\n",
    "<a href = 'https://scikit-learn.org/stable/modules/generated/sklearn.linear_model.LinearRegression.html'>sklearn.linear_model.LinearRegression().predict(X)</a>\n",
    "\n",
    "__Definition:__ <br>\n",
    "Predict using the linear model.\n",
    "\n",
    "__Parameters:__ <br>\n",
    "X : Samples to predict; <br>\n",
    "...\n",
    "\n",
    "</div>"
   ]
  },
  {
   "cell_type": "markdown",
   "metadata": {},
   "source": [
    "__`Step 7`__ - Predict the values for __X_val__ by applying the method __predict()__ to your model and check your result"
   ]
  },
  {
   "cell_type": "code",
   "execution_count": 30,
   "metadata": {
    "scrolled": false,
    "ExecuteTime": {
     "end_time": "2023-10-11T09:35:59.284251Z",
     "start_time": "2023-10-11T09:35:59.261021Z"
    }
   },
   "outputs": [
    {
     "data": {
      "text/plain": "array([28.93841071, 40.17469652, 23.26283893, 22.72011976, 26.33677317,\n        6.50809139, 16.72675328, 13.83049735, 28.38006838, 16.83901688,\n       17.50579197, 22.45848043, 15.59048086, 16.11229233, 20.62101705,\n       15.20710548,  8.47374859,  7.69857378, 21.45782622, 10.97606569,\n       38.72583349, 13.26023439, 23.33227986, 19.27402726, 19.3360351 ,\n       19.62525449, 27.32359007, 19.91480848, 19.97039516, 19.98919575,\n       21.45883975,  7.54689782, 20.33795817, 19.38369205, 23.37468039,\n       19.05153146, 24.46267997, 28.19200979, 20.69966547, 18.68680301,\n       28.11584489, 35.29854655, 20.0879725 , 27.8604335 , 25.57788978,\n       21.59692292, 21.74601139, 30.24313863, 25.66136714, 20.36289475,\n       31.39205843, 15.24938636, 14.28689956, 14.33724217, 17.70236617,\n       30.67294605,  8.45801637, 29.38244272, 16.52514507, 26.35269311,\n       17.64563127, 27.64146931, 18.83849367, 30.29337701, 34.33685682,\n       20.40053045, 23.50840914, 18.29950906, 25.26796658, 18.96662268,\n       19.54785317, 23.47174606, 20.06513963, 12.71104176, 34.58884204,\n       20.18038844, 36.73034446, 17.86919358, 20.77346653, 13.21836627,\n       15.31962116, 17.54865527, 36.91230929, 22.57139152, 34.90624299,\n       18.75605528, 29.72788323, 23.65381032, 26.57590857, 20.73578394,\n       30.18801597, 24.57127722, 36.24961976, 23.92962871, 26.06991012,\n       32.79245337, 15.70279192, 27.04841957, 22.23639227, 22.14422298,\n       20.04264192, 12.51038729, 30.05440823,  3.91508266, 24.43278658,\n       13.96740998, 23.30762929, 24.83459343, 21.47895717, 35.16407276,\n       29.91813952, 23.00538811, 20.21991859, 26.7787996 , 18.54381139,\n       25.54068621, 29.75000896, 15.542685  , 15.20621604, 31.59691836,\n       24.48797917, 12.79369385, 20.42987578, 33.54619872, 30.10169183,\n       16.38623272, 22.77814   , 41.41331714, 34.03046388, 24.20339851,\n       34.37334928, 22.64842338,  8.61530203, 15.61618271, 13.20934389,\n       22.16702318, 32.47200523,  9.2780732 , 31.05708968, 27.49363576,\n       22.81749188, 17.4918494 , 20.47648792, 28.54144204, 23.17545754,\n       20.19885139, 19.7480775 , 17.29339103, 33.25948721, 18.95593496,\n       17.24115455, 16.74058242])"
     },
     "execution_count": 30,
     "metadata": {},
     "output_type": "execute_result"
    }
   ],
   "source": [
    "predictions = lin_model.predict(X_val)\n",
    "predictions"
   ]
  },
  {
   "cell_type": "markdown",
   "metadata": {},
   "source": [
    "Those are the predicted values to your validation dataset by applying the model created previously based on train data."
   ]
  },
  {
   "cell_type": "markdown",
   "metadata": {},
   "source": [
    "<div class=\"alert alert-block alert-success\">\n",
    "    <b><h3>Attributes in LinearRegression()</h3></b><br>\n",
    "</div>"
   ]
  },
  {
   "cell_type": "markdown",
   "metadata": {},
   "source": [
    "<div class=\"alert alert-block alert-info\">\n",
    "<a href = 'https://scikit-learn.org/stable/modules/generated/sklearn.linear_model.LinearRegression.html'>sklearn.linear_model.LinearRegression().coef_</a>\n",
    "\n",
    "__Definition:__ <br>\n",
    "Coefficient of the features in the decision function.\n",
    "\n",
    "</div>"
   ]
  },
  {
   "cell_type": "markdown",
   "metadata": {},
   "source": [
    "__`Step 8`__ - To check the coefficients calculated by applying the linear regression, call the attribute __coef___ associated to your model"
   ]
  },
  {
   "cell_type": "code",
   "execution_count": 31,
   "metadata": {
    "ExecuteTime": {
     "end_time": "2023-10-11T09:37:26.863513Z",
     "start_time": "2023-10-11T09:37:26.861484Z"
    }
   },
   "outputs": [
    {
     "data": {
      "text/plain": "array([-7.30973225e-02,  6.66062943e-02,  8.45497046e-02,  2.21512330e+00,\n       -2.27372067e+01,  3.24861978e+00,  2.06578129e-02, -1.59247039e+00,\n        3.48847293e-01, -1.39796398e-02, -9.58296625e-01,  9.98858984e-03,\n       -5.92254599e-01])"
     },
     "execution_count": 31,
     "metadata": {},
     "output_type": "execute_result"
    }
   ],
   "source": [
    "# Return the slope of all the parameters\n",
    "lin_model.coef_"
   ]
  },
  {
   "cell_type": "markdown",
   "metadata": {},
   "source": [
    "The result is an array that shows all the coefficients. In order to better understand what is the variable associated to each coefficient, let's convert the result to a DataFrame and define as headers the variables."
   ]
  },
  {
   "cell_type": "markdown",
   "metadata": {},
   "source": [
    "__`Step 9`__ - Create a dataframe that will contain the values of the coefficients"
   ]
  },
  {
   "cell_type": "code",
   "execution_count": 32,
   "metadata": {
    "ExecuteTime": {
     "end_time": "2023-10-11T09:37:33.931482Z",
     "start_time": "2023-10-11T09:37:33.914251Z"
    }
   },
   "outputs": [
    {
     "data": {
      "text/plain": "            0\n0   -0.073097\n1    0.066606\n2    0.084550\n3    2.215123\n4  -22.737207\n5    3.248620\n6    0.020658\n7   -1.592470\n8    0.348847\n9   -0.013980\n10  -0.958297\n11   0.009989\n12  -0.592255",
      "text/html": "<div>\n<style scoped>\n    .dataframe tbody tr th:only-of-type {\n        vertical-align: middle;\n    }\n\n    .dataframe tbody tr th {\n        vertical-align: top;\n    }\n\n    .dataframe thead th {\n        text-align: right;\n    }\n</style>\n<table border=\"1\" class=\"dataframe\">\n  <thead>\n    <tr style=\"text-align: right;\">\n      <th></th>\n      <th>0</th>\n    </tr>\n  </thead>\n  <tbody>\n    <tr>\n      <th>0</th>\n      <td>-0.073097</td>\n    </tr>\n    <tr>\n      <th>1</th>\n      <td>0.066606</td>\n    </tr>\n    <tr>\n      <th>2</th>\n      <td>0.084550</td>\n    </tr>\n    <tr>\n      <th>3</th>\n      <td>2.215123</td>\n    </tr>\n    <tr>\n      <th>4</th>\n      <td>-22.737207</td>\n    </tr>\n    <tr>\n      <th>5</th>\n      <td>3.248620</td>\n    </tr>\n    <tr>\n      <th>6</th>\n      <td>0.020658</td>\n    </tr>\n    <tr>\n      <th>7</th>\n      <td>-1.592470</td>\n    </tr>\n    <tr>\n      <th>8</th>\n      <td>0.348847</td>\n    </tr>\n    <tr>\n      <th>9</th>\n      <td>-0.013980</td>\n    </tr>\n    <tr>\n      <th>10</th>\n      <td>-0.958297</td>\n    </tr>\n    <tr>\n      <th>11</th>\n      <td>0.009989</td>\n    </tr>\n    <tr>\n      <th>12</th>\n      <td>-0.592255</td>\n    </tr>\n  </tbody>\n</table>\n</div>"
     },
     "execution_count": 32,
     "metadata": {},
     "output_type": "execute_result"
    }
   ],
   "source": [
    "df = pd.DataFrame(lin_model.coef_)\n",
    "df"
   ]
  },
  {
   "cell_type": "markdown",
   "metadata": {},
   "source": [
    "__`Step 10`__ - By using the method __set_index()__, define the index of Dataframe equal to the name of the variables"
   ]
  },
  {
   "cell_type": "code",
   "execution_count": 33,
   "metadata": {
    "ExecuteTime": {
     "end_time": "2023-10-11T09:39:38.021910Z",
     "start_time": "2023-10-11T09:39:37.994795Z"
    }
   },
   "outputs": [
    {
     "data": {
      "text/plain": "                 0\ncrim     -0.073097\nzn        0.066606\nindus     0.084550\nchas      2.215123\nnox     -22.737207\nrm        3.248620\nage       0.020658\ndis      -1.592470\nrad       0.348847\ntax      -0.013980\nptratio  -0.958297\nblack     0.009989\nlstat    -0.592255",
      "text/html": "<div>\n<style scoped>\n    .dataframe tbody tr th:only-of-type {\n        vertical-align: middle;\n    }\n\n    .dataframe tbody tr th {\n        vertical-align: top;\n    }\n\n    .dataframe thead th {\n        text-align: right;\n    }\n</style>\n<table border=\"1\" class=\"dataframe\">\n  <thead>\n    <tr style=\"text-align: right;\">\n      <th></th>\n      <th>0</th>\n    </tr>\n  </thead>\n  <tbody>\n    <tr>\n      <th>crim</th>\n      <td>-0.073097</td>\n    </tr>\n    <tr>\n      <th>zn</th>\n      <td>0.066606</td>\n    </tr>\n    <tr>\n      <th>indus</th>\n      <td>0.084550</td>\n    </tr>\n    <tr>\n      <th>chas</th>\n      <td>2.215123</td>\n    </tr>\n    <tr>\n      <th>nox</th>\n      <td>-22.737207</td>\n    </tr>\n    <tr>\n      <th>rm</th>\n      <td>3.248620</td>\n    </tr>\n    <tr>\n      <th>age</th>\n      <td>0.020658</td>\n    </tr>\n    <tr>\n      <th>dis</th>\n      <td>-1.592470</td>\n    </tr>\n    <tr>\n      <th>rad</th>\n      <td>0.348847</td>\n    </tr>\n    <tr>\n      <th>tax</th>\n      <td>-0.013980</td>\n    </tr>\n    <tr>\n      <th>ptratio</th>\n      <td>-0.958297</td>\n    </tr>\n    <tr>\n      <th>black</th>\n      <td>0.009989</td>\n    </tr>\n    <tr>\n      <th>lstat</th>\n      <td>-0.592255</td>\n    </tr>\n  </tbody>\n</table>\n</div>"
     },
     "execution_count": 33,
     "metadata": {},
     "output_type": "execute_result"
    }
   ],
   "source": [
    "df = df.set_index(X_train.columns)\n",
    "df"
   ]
  },
  {
   "cell_type": "markdown",
   "metadata": {},
   "source": [
    "<div class=\"alert alert-block alert-info\">\n",
    "<a href = 'https://scikit-learn.org/stable/modules/generated/sklearn.linear_model.LinearRegression.html'>sklearn.linear_model.LinearRegression().intercept_</a>\n",
    "\n",
    "__Definition:__ <br>\n",
    "Independent term in the linear model.\n",
    "\n",
    "</div>"
   ]
  },
  {
   "cell_type": "markdown",
   "metadata": {},
   "source": [
    "__`Step 11`__ - To obtain the intercept of the linear regression, call the attribute __intercept___ associated to your model"
   ]
  },
  {
   "cell_type": "code",
   "execution_count": 34,
   "metadata": {
    "ExecuteTime": {
     "end_time": "2023-10-11T09:39:52.980115Z",
     "start_time": "2023-10-11T09:39:52.951078Z"
    }
   },
   "outputs": [
    {
     "data": {
      "text/plain": "41.768454950824015"
     },
     "execution_count": 34,
     "metadata": {},
     "output_type": "execute_result"
    }
   ],
   "source": [
    "# The intercept (often labeled the constant) is the expected mean value of Y when all X=0.\n",
    "lin_model.intercept_"
   ]
  },
  {
   "cell_type": "markdown",
   "metadata": {},
   "source": [
    "<div class=\"alert alert-block alert-warning\">\n",
    "<h1><center>Calculate the p-values</center></h1>\n",
    "</div>"
   ]
  },
  {
   "cell_type": "markdown",
   "metadata": {},
   "source": [
    "https://regressors.readthedocs.io/en/latest/_modules/regressors/stats.html"
   ]
  },
  {
   "cell_type": "markdown",
   "metadata": {},
   "source": [
    "The library sklearn doesn't have any option that allows to calculate automatically the standard error associated to each coefficient, the t-value and the p-value. <br>\n",
    "\n",
    "One alternative is to use the library regressors."
   ]
  },
  {
   "cell_type": "markdown",
   "metadata": {},
   "source": [
    "__`Step 12`__ - Install the library regressors"
   ]
  },
  {
   "cell_type": "code",
   "execution_count": 36,
   "metadata": {
    "scrolled": true,
    "ExecuteTime": {
     "end_time": "2023-10-11T09:41:18.854029Z",
     "start_time": "2023-10-11T09:41:07.618733Z"
    }
   },
   "outputs": [
    {
     "name": "stdout",
     "output_type": "stream",
     "text": [
      "Looking in indexes: https://pypi.org/simple, https://pypi.ifoodcorp.com.br\r\n",
      "Requirement already satisfied: pip in /Users/carlos.costa/anaconda3/lib/python3.11/site-packages (23.2.1)\r\n",
      "Collecting setuptools==57.5.0\r\n",
      "  Downloading setuptools-57.5.0-py3-none-any.whl (819 kB)\r\n",
      "\u001B[2K     \u001B[90m━━━━━━━━━━━━━━━━━━━━━━━━━━━━━━━━━━━━━━━\u001B[0m \u001B[32m819.3/819.3 kB\u001B[0m \u001B[31m1.1 MB/s\u001B[0m eta \u001B[36m0:00:00\u001B[0m00:01\u001B[0m00:01\u001B[0m\r\n",
      "\u001B[?25hInstalling collected packages: setuptools\r\n",
      "  Attempting uninstall: setuptools\r\n",
      "    Found existing installation: setuptools 68.0.0\r\n",
      "    Uninstalling setuptools-68.0.0:\r\n",
      "      Successfully uninstalled setuptools-68.0.0\r\n",
      "\u001B[31mERROR: pip's dependency resolver does not currently take into account all the packages that are installed. This behaviour is the source of the following dependency conflicts.\r\n",
      "conda-repo-cli 1.0.41 requires requests_mock, which is not installed.\r\n",
      "spyder 5.4.3 requires pyqt5<5.16, which is not installed.\r\n",
      "spyder 5.4.3 requires pyqtwebengine<5.16, which is not installed.\r\n",
      "conda-repo-cli 1.0.41 requires clyent==1.2.1, but you have clyent 1.2.2 which is incompatible.\r\n",
      "conda-repo-cli 1.0.41 requires nbformat==5.4.0, but you have nbformat 5.7.0 which is incompatible.\r\n",
      "conda-repo-cli 1.0.41 requires requests==2.28.1, but you have requests 2.31.0 which is incompatible.\r\n",
      "conda 23.7.2 requires setuptools>=60.0.0, but you have setuptools 57.5.0 which is incompatible.\r\n",
      "python-lsp-black 1.2.1 requires black>=22.3.0, but you have black 0.0 which is incompatible.\r\n",
      "anaconda-client 1.12.0 requires setuptools>=58.0.4, but you have setuptools 57.5.0 which is incompatible.\u001B[0m\u001B[31m\r\n",
      "\u001B[0mSuccessfully installed setuptools-57.5.0\r\n",
      "Looking in indexes: https://pypi.org/simple, https://pypi.ifoodcorp.com.br\r\n",
      "Collecting regressors\r\n",
      "  Using cached regressors-0.0.3.tar.gz (24 kB)\r\n",
      "  Preparing metadata (setup.py) ... \u001B[?25ldone\r\n",
      "\u001B[?25hRequirement already satisfied: numpy>=1.6.1 in /Users/carlos.costa/anaconda3/lib/python3.11/site-packages (from regressors) (1.24.3)\r\n",
      "Requirement already satisfied: scipy>=0.9 in /Users/carlos.costa/anaconda3/lib/python3.11/site-packages (from regressors) (1.10.1)\r\n",
      "Requirement already satisfied: matplotlib in /Users/carlos.costa/anaconda3/lib/python3.11/site-packages (from regressors) (3.7.1)\r\n",
      "Requirement already satisfied: scikit-learn>=0.17 in /Users/carlos.costa/anaconda3/lib/python3.11/site-packages (from regressors) (1.3.0)\r\n",
      "Requirement already satisfied: statsmodels>=0.6.1 in /Users/carlos.costa/anaconda3/lib/python3.11/site-packages (from regressors) (0.14.0)\r\n",
      "Requirement already satisfied: seaborn in /Users/carlos.costa/anaconda3/lib/python3.11/site-packages (from regressors) (0.12.2)\r\n",
      "Requirement already satisfied: pandas in /Users/carlos.costa/anaconda3/lib/python3.11/site-packages (from regressors) (1.5.3)\r\n",
      "Requirement already satisfied: joblib>=1.1.1 in /Users/carlos.costa/anaconda3/lib/python3.11/site-packages (from scikit-learn>=0.17->regressors) (1.2.0)\r\n",
      "Requirement already satisfied: threadpoolctl>=2.0.0 in /Users/carlos.costa/anaconda3/lib/python3.11/site-packages (from scikit-learn>=0.17->regressors) (2.2.0)\r\n",
      "Requirement already satisfied: patsy>=0.5.2 in /Users/carlos.costa/anaconda3/lib/python3.11/site-packages (from statsmodels>=0.6.1->regressors) (0.5.3)\r\n",
      "Requirement already satisfied: packaging>=21.3 in /Users/carlos.costa/anaconda3/lib/python3.11/site-packages (from statsmodels>=0.6.1->regressors) (23.0)\r\n",
      "Requirement already satisfied: python-dateutil>=2.8.1 in /Users/carlos.costa/anaconda3/lib/python3.11/site-packages (from pandas->regressors) (2.8.2)\r\n",
      "Requirement already satisfied: pytz>=2020.1 in /Users/carlos.costa/anaconda3/lib/python3.11/site-packages (from pandas->regressors) (2022.7)\r\n",
      "Requirement already satisfied: contourpy>=1.0.1 in /Users/carlos.costa/anaconda3/lib/python3.11/site-packages (from matplotlib->regressors) (1.0.5)\r\n",
      "Requirement already satisfied: cycler>=0.10 in /Users/carlos.costa/anaconda3/lib/python3.11/site-packages (from matplotlib->regressors) (0.11.0)\r\n",
      "Requirement already satisfied: fonttools>=4.22.0 in /Users/carlos.costa/anaconda3/lib/python3.11/site-packages (from matplotlib->regressors) (4.25.0)\r\n",
      "Requirement already satisfied: kiwisolver>=1.0.1 in /Users/carlos.costa/anaconda3/lib/python3.11/site-packages (from matplotlib->regressors) (1.4.4)\r\n",
      "Requirement already satisfied: pillow>=6.2.0 in /Users/carlos.costa/anaconda3/lib/python3.11/site-packages (from matplotlib->regressors) (9.4.0)\r\n",
      "Requirement already satisfied: pyparsing>=2.3.1 in /Users/carlos.costa/anaconda3/lib/python3.11/site-packages (from matplotlib->regressors) (3.0.9)\r\n",
      "Requirement already satisfied: six in /Users/carlos.costa/anaconda3/lib/python3.11/site-packages (from patsy>=0.5.2->statsmodels>=0.6.1->regressors) (1.16.0)\r\n",
      "Building wheels for collected packages: regressors\r\n",
      "  Building wheel for regressors (setup.py) ... \u001B[?25ldone\r\n",
      "\u001B[?25h  Created wheel for regressors: filename=regressors-0.0.3-py2.py3-none-any.whl size=12400 sha256=330d1b8be83794c9403813a35c392bb677c2954deb6a9698c8532c8768fa1b51\r\n",
      "  Stored in directory: /Users/carlos.costa/Library/Caches/pip/wheels/79/3d/27/e8e542814a63e39bd87a335aca693a993bcf262a3476af9991\r\n",
      "Successfully built regressors\r\n",
      "Installing collected packages: regressors\r\n",
      "Successfully installed regressors-0.0.3\r\n"
     ]
    }
   ],
   "source": [
    "#you may need to downgrade setuptools to version 57.5.0\n",
    "# !pip install --upgrade pip setuptools==57.5.0\n",
    "\n",
    "import sys\n",
    "# !{sys.executable} -m pip install regressors"
   ]
  },
  {
   "cell_type": "markdown",
   "metadata": {},
   "source": [
    "Now we are able to use the library __regressors__ <br>\n",
    "__`Step 13`__ - Import __stats__ from regressors"
   ]
  },
  {
   "cell_type": "code",
   "execution_count": 37,
   "metadata": {
    "ExecuteTime": {
     "end_time": "2023-10-11T09:41:29.690393Z",
     "start_time": "2023-10-11T09:41:29.633032Z"
    }
   },
   "outputs": [],
   "source": [
    "from regressors import stats"
   ]
  },
  {
   "cell_type": "markdown",
   "metadata": {},
   "source": [
    "__`Step 14`__ - Create a new object named __xlabels__ that will contain the name of the columns in __X_train__"
   ]
  },
  {
   "cell_type": "code",
   "execution_count": 38,
   "metadata": {
    "ExecuteTime": {
     "end_time": "2023-10-11T09:45:26.403529Z",
     "start_time": "2023-10-11T09:45:26.376899Z"
    }
   },
   "outputs": [],
   "source": [
    "xlabels = X_train.columns"
   ]
  },
  {
   "cell_type": "markdown",
   "metadata": {},
   "source": [
    "__`Step 15`__ - From stats, call the method __summary()__ that will have as parameters:\n",
    "- __clf = lin_model__ : The linear model created previously <br>\n",
    "- __X = X_train__ :  The training data used to fit the classifier <br>\n",
    "- __y = y_train__ : The target training values <br>\n",
    "- __xlabels = xlabels__ :  The labels for the predictors <br>\n"
   ]
  },
  {
   "cell_type": "code",
   "execution_count": 39,
   "metadata": {
    "ExecuteTime": {
     "end_time": "2023-10-11T09:45:28.497701Z",
     "start_time": "2023-10-11T09:45:28.409706Z"
    }
   },
   "outputs": [
    {
     "name": "stdout",
     "output_type": "stream",
     "text": [
      "Residuals:\n",
      "     Min      1Q  Median     3Q     Max\n",
      "-23.7925 -1.6048  0.4249 2.7447 11.1005\n",
      "\n",
      "\n",
      "Coefficients:\n",
      "             Estimate  Std. Error  t value   p value\n",
      "_intercept  41.768455    5.723473   7.2977  0.000000\n",
      "crim        -0.073097    0.040925  -1.7861  0.074934\n",
      "zn           0.066606    0.012070   5.5183  0.000000\n",
      "indus        0.084550    0.067125   1.2596  0.208654\n",
      "chas         2.215123    1.038390   2.1332  0.033595\n",
      "nox        -22.737207    4.043747  -5.6228  0.000000\n",
      "rm           3.248620    0.306173  10.6104  0.000000\n",
      "age          0.020658    0.010811   1.9108  0.056837\n",
      "dis         -1.592470    0.214862  -7.4116  0.000000\n",
      "rad          0.348847    0.067599   5.1605  0.000000\n",
      "tax         -0.013980    0.001190 -11.7439  0.000000\n",
      "ptratio     -0.958297    0.101769  -9.4164  0.000000\n",
      "black        0.009989    0.001257   7.9486  0.000000\n",
      "lstat       -0.592255    0.049160 -12.0476  0.000000\n",
      "---\n",
      "R-squared:  0.76160,    Adjusted R-squared:  0.75249\n",
      "F-statistic: 83.55 on 13 features\n"
     ]
    }
   ],
   "source": [
    "stats.summary(clf = lin_model, X = X_train, y = y_train, xlabels = xlabels)"
   ]
  },
  {
   "cell_type": "markdown",
   "metadata": {},
   "source": [
    "The summary statistic table calls many of the stats outputs the statistics in an pretty format, containing all the needed values to interpret our model: The residuals distribution, the coefficients and the t-value and the p-value for each of them, and also the evaluation of the model using the metrics R-Squared, Adjusted R-Squared and F-statistic. That evaluation, however, is based on the performance of the model in the training dataset. <br> If you want to see how to compute these metrics for the validation data, in the last class we saw how to calculate the R-Squared and the Adjusted R-Squared to our validation dataset by using __sklearn__.\n",
    "\n",
    "__The p-value__ <br>\n",
    "For each estimated regression coefficient, the p-value provides an estimate of the probability that the true coefficient is zero given the value of the estimate. Small p-values suggest that the true coefficient is very unlikely to be zero, which means that the feature is extremely unlikely to have no relationship with the dependent variable. <br> In this way, we can also check the p-value to understand the feature importance and select the most \"important\" variables to build our final model.\n",
    "\n",
    "\n"
   ]
  },
  {
   "cell_type": "code",
   "execution_count": null,
   "outputs": [],
   "source": [],
   "metadata": {
    "collapsed": false
   }
  }
 ],
 "metadata": {
  "kernelspec": {
   "display_name": "Python 3 (ipykernel)",
   "language": "python",
   "name": "python3"
  },
  "language_info": {
   "codemirror_mode": {
    "name": "ipython",
    "version": 3
   },
   "file_extension": ".py",
   "mimetype": "text/x-python",
   "name": "python",
   "nbconvert_exporter": "python",
   "pygments_lexer": "ipython3",
   "version": "3.8.17"
  }
 },
 "nbformat": 4,
 "nbformat_minor": 4
}
